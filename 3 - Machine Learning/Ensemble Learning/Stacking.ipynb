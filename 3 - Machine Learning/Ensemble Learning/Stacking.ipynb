{
 "cells": [
  {
   "cell_type": "code",
   "execution_count": 3,
   "id": "b000d940-179a-4beb-a696-d1cbde02346f",
   "metadata": {},
   "outputs": [
    {
     "name": "stdout",
     "output_type": "stream",
     "text": [
      "Collecting vecstack\n",
      "  Downloading vecstack-0.4.0.tar.gz (18 kB)\n",
      "  Preparing metadata (setup.py): started\n",
      "  Preparing metadata (setup.py): finished with status 'done'\n",
      "Requirement already satisfied: numpy in c:\\users\\keert\\anaconda3\\envs\\jupyternotebook-intwebappenv\\lib\\site-packages (from vecstack) (1.26.4)\n",
      "Requirement already satisfied: scipy in c:\\users\\keert\\anaconda3\\envs\\jupyternotebook-intwebappenv\\lib\\site-packages (from vecstack) (1.15.2)\n",
      "Requirement already satisfied: scikit-learn>=0.18 in c:\\users\\keert\\anaconda3\\envs\\jupyternotebook-intwebappenv\\lib\\site-packages (from vecstack) (1.5.2)\n",
      "Requirement already satisfied: joblib>=1.2.0 in c:\\users\\keert\\anaconda3\\envs\\jupyternotebook-intwebappenv\\lib\\site-packages (from scikit-learn>=0.18->vecstack) (1.4.2)\n",
      "Requirement already satisfied: threadpoolctl>=3.1.0 in c:\\users\\keert\\anaconda3\\envs\\jupyternotebook-intwebappenv\\lib\\site-packages (from scikit-learn>=0.18->vecstack) (3.6.0)\n",
      "Building wheels for collected packages: vecstack\n",
      "  Building wheel for vecstack (setup.py): started\n",
      "  Building wheel for vecstack (setup.py): finished with status 'done'\n",
      "  Created wheel for vecstack: filename=vecstack-0.4.0-py3-none-any.whl size=19873 sha256=4add965d03ce17888eb72dc0f6c8c928382aa67955636dbf8b59677dee6b8dcf\n",
      "  Stored in directory: c:\\users\\keert\\appdata\\local\\pip\\cache\\wheels\\88\\3e\\4b\\a1a6ef703727d7f457db98b2a0b29fd3bd599c210d04639756\n",
      "Successfully built vecstack\n",
      "Installing collected packages: vecstack\n",
      "Successfully installed vecstack-0.4.0\n"
     ]
    },
    {
     "name": "stderr",
     "output_type": "stream",
     "text": [
      "WARNING: Ignoring invalid distribution ~umpy (C:\\Users\\Keert\\anaconda3\\envs\\JupyterNotebook-IntWebAppEnv\\Lib\\site-packages)\n",
      "WARNING: Ignoring invalid distribution ~umpy (C:\\Users\\Keert\\anaconda3\\envs\\JupyterNotebook-IntWebAppEnv\\Lib\\site-packages)\n",
      "WARNING: Ignoring invalid distribution ~umpy (C:\\Users\\Keert\\anaconda3\\envs\\JupyterNotebook-IntWebAppEnv\\Lib\\site-packages)\n"
     ]
    }
   ],
   "source": [
    "!pip install vecstack"
   ]
  },
  {
   "cell_type": "code",
   "execution_count": 4,
   "id": "e1addd28-3868-49fb-a332-a1e2ed6cf17f",
   "metadata": {},
   "outputs": [],
   "source": [
    "import pandas as pd\n",
    "import numpy as np\n",
    "from sklearn.model_selection import train_test_split\n",
    "from sklearn.metrics import classification_report,accuracy_score\n",
    "from sklearn.neighbors import KNeighborsClassifier\n",
    "from sklearn.ensemble import RandomForestClassifier\n",
    "from xgboost import XGBClassifier\n",
    "from vecstack import stacking"
   ]
  },
  {
   "cell_type": "code",
   "execution_count": null,
   "id": "6015b169-8a49-4242-8ef0-34b96a996226",
   "metadata": {},
   "outputs": [],
   "source": []
  }
 ],
 "metadata": {
  "kernelspec": {
   "display_name": "Python 3 (ipykernel)",
   "language": "python",
   "name": "python3"
  },
  "language_info": {
   "codemirror_mode": {
    "name": "ipython",
    "version": 3
   },
   "file_extension": ".py",
   "mimetype": "text/x-python",
   "name": "python",
   "nbconvert_exporter": "python",
   "pygments_lexer": "ipython3",
   "version": "3.11.11"
  }
 },
 "nbformat": 4,
 "nbformat_minor": 5
}
