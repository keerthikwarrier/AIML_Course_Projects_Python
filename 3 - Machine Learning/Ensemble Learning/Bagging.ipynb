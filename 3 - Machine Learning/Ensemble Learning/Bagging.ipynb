{
 "cells": [
  {
   "cell_type": "code",
   "execution_count": 2,
   "id": "14dfb4da-33e9-4491-90b9-9a351c95ab47",
   "metadata": {},
   "outputs": [],
   "source": [
    "import pandas as pd\n",
    "from sklearn.model_selection import train_test_split\n",
    "from sklearn.tree import DecisionTreeClassifier\n",
    "from sklearn.ensemble import BaggingClassifier\n",
    "from sklearn.metrics import classification_report"
   ]
  },
  {
   "cell_type": "code",
   "execution_count": 3,
   "id": "17f2f13e-0838-4b58-bebc-c24cc1c18dfe",
   "metadata": {},
   "outputs": [
    {
     "data": {
      "text/html": [
       "<div>\n",
       "<style scoped>\n",
       "    .dataframe tbody tr th:only-of-type {\n",
       "        vertical-align: middle;\n",
       "    }\n",
       "\n",
       "    .dataframe tbody tr th {\n",
       "        vertical-align: top;\n",
       "    }\n",
       "\n",
       "    .dataframe thead th {\n",
       "        text-align: right;\n",
       "    }\n",
       "</style>\n",
       "<table border=\"1\" class=\"dataframe\">\n",
       "  <thead>\n",
       "    <tr style=\"text-align: right;\">\n",
       "      <th></th>\n",
       "      <th>preg</th>\n",
       "      <th>plas</th>\n",
       "      <th>pres</th>\n",
       "      <th>skin</th>\n",
       "      <th>insu</th>\n",
       "      <th>mass</th>\n",
       "      <th>pedi</th>\n",
       "      <th>age</th>\n",
       "      <th>class</th>\n",
       "    </tr>\n",
       "  </thead>\n",
       "  <tbody>\n",
       "    <tr>\n",
       "      <th>0</th>\n",
       "      <td>6.0</td>\n",
       "      <td>159.1</td>\n",
       "      <td>67.5</td>\n",
       "      <td>27.0</td>\n",
       "      <td>408.6</td>\n",
       "      <td>57.0</td>\n",
       "      <td>0.642</td>\n",
       "      <td>36.0</td>\n",
       "      <td>tested_negative</td>\n",
       "    </tr>\n",
       "    <tr>\n",
       "      <th>1</th>\n",
       "      <td>14.0</td>\n",
       "      <td>170.3</td>\n",
       "      <td>111.6</td>\n",
       "      <td>30.0</td>\n",
       "      <td>758.4</td>\n",
       "      <td>65.6</td>\n",
       "      <td>1.157</td>\n",
       "      <td>53.0</td>\n",
       "      <td>tested_positive</td>\n",
       "    </tr>\n",
       "    <tr>\n",
       "      <th>2</th>\n",
       "      <td>10.0</td>\n",
       "      <td>139.3</td>\n",
       "      <td>88.5</td>\n",
       "      <td>83.5</td>\n",
       "      <td>831.3</td>\n",
       "      <td>46.2</td>\n",
       "      <td>1.204</td>\n",
       "      <td>23.0</td>\n",
       "      <td>tested_positive</td>\n",
       "    </tr>\n",
       "    <tr>\n",
       "      <th>3</th>\n",
       "      <td>7.0</td>\n",
       "      <td>150.6</td>\n",
       "      <td>24.8</td>\n",
       "      <td>49.6</td>\n",
       "      <td>337.6</td>\n",
       "      <td>29.0</td>\n",
       "      <td>1.391</td>\n",
       "      <td>43.0</td>\n",
       "      <td>tested_positive</td>\n",
       "    </tr>\n",
       "    <tr>\n",
       "      <th>4</th>\n",
       "      <td>6.0</td>\n",
       "      <td>102.2</td>\n",
       "      <td>116.4</td>\n",
       "      <td>51.8</td>\n",
       "      <td>351.5</td>\n",
       "      <td>60.4</td>\n",
       "      <td>1.993</td>\n",
       "      <td>31.0</td>\n",
       "      <td>tested_positive</td>\n",
       "    </tr>\n",
       "  </tbody>\n",
       "</table>\n",
       "</div>"
      ],
      "text/plain": [
       "   preg   plas   pres  skin   insu  mass   pedi   age            class\n",
       "0   6.0  159.1   67.5  27.0  408.6  57.0  0.642  36.0  tested_negative\n",
       "1  14.0  170.3  111.6  30.0  758.4  65.6  1.157  53.0  tested_positive\n",
       "2  10.0  139.3   88.5  83.5  831.3  46.2  1.204  23.0  tested_positive\n",
       "3   7.0  150.6   24.8  49.6  337.6  29.0  1.391  43.0  tested_positive\n",
       "4   6.0  102.2  116.4  51.8  351.5  60.4  1.993  31.0  tested_positive"
      ]
     },
     "execution_count": 3,
     "metadata": {},
     "output_type": "execute_result"
    }
   ],
   "source": [
    "diabetes_df=pd.read_csv('diabetes.csv')\n",
    "diabetes_df.head()"
   ]
  },
  {
   "cell_type": "markdown",
   "id": "238de898-8a88-4483-b1fc-2223d581811a",
   "metadata": {},
   "source": [
    "### As our data has one category(non-numreical) column let;s use label encoding technique to convert it to numerical for better model"
   ]
  },
  {
   "cell_type": "code",
   "execution_count": 9,
   "id": "24baea09-ddc0-46df-aeb3-f37cd898d924",
   "metadata": {},
   "outputs": [
    {
     "data": {
      "text/html": [
       "<div>\n",
       "<style scoped>\n",
       "    .dataframe tbody tr th:only-of-type {\n",
       "        vertical-align: middle;\n",
       "    }\n",
       "\n",
       "    .dataframe tbody tr th {\n",
       "        vertical-align: top;\n",
       "    }\n",
       "\n",
       "    .dataframe thead th {\n",
       "        text-align: right;\n",
       "    }\n",
       "</style>\n",
       "<table border=\"1\" class=\"dataframe\">\n",
       "  <thead>\n",
       "    <tr style=\"text-align: right;\">\n",
       "      <th></th>\n",
       "      <th>preg</th>\n",
       "      <th>plas</th>\n",
       "      <th>pres</th>\n",
       "      <th>skin</th>\n",
       "      <th>insu</th>\n",
       "      <th>mass</th>\n",
       "      <th>pedi</th>\n",
       "      <th>age</th>\n",
       "      <th>class</th>\n",
       "    </tr>\n",
       "  </thead>\n",
       "  <tbody>\n",
       "    <tr>\n",
       "      <th>0</th>\n",
       "      <td>6.0</td>\n",
       "      <td>159.1</td>\n",
       "      <td>67.5</td>\n",
       "      <td>27.0</td>\n",
       "      <td>408.6</td>\n",
       "      <td>57.0</td>\n",
       "      <td>0.642</td>\n",
       "      <td>36.0</td>\n",
       "      <td>0</td>\n",
       "    </tr>\n",
       "    <tr>\n",
       "      <th>1</th>\n",
       "      <td>14.0</td>\n",
       "      <td>170.3</td>\n",
       "      <td>111.6</td>\n",
       "      <td>30.0</td>\n",
       "      <td>758.4</td>\n",
       "      <td>65.6</td>\n",
       "      <td>1.157</td>\n",
       "      <td>53.0</td>\n",
       "      <td>1</td>\n",
       "    </tr>\n",
       "    <tr>\n",
       "      <th>2</th>\n",
       "      <td>10.0</td>\n",
       "      <td>139.3</td>\n",
       "      <td>88.5</td>\n",
       "      <td>83.5</td>\n",
       "      <td>831.3</td>\n",
       "      <td>46.2</td>\n",
       "      <td>1.204</td>\n",
       "      <td>23.0</td>\n",
       "      <td>1</td>\n",
       "    </tr>\n",
       "    <tr>\n",
       "      <th>3</th>\n",
       "      <td>7.0</td>\n",
       "      <td>150.6</td>\n",
       "      <td>24.8</td>\n",
       "      <td>49.6</td>\n",
       "      <td>337.6</td>\n",
       "      <td>29.0</td>\n",
       "      <td>1.391</td>\n",
       "      <td>43.0</td>\n",
       "      <td>1</td>\n",
       "    </tr>\n",
       "    <tr>\n",
       "      <th>4</th>\n",
       "      <td>6.0</td>\n",
       "      <td>102.2</td>\n",
       "      <td>116.4</td>\n",
       "      <td>51.8</td>\n",
       "      <td>351.5</td>\n",
       "      <td>60.4</td>\n",
       "      <td>1.993</td>\n",
       "      <td>31.0</td>\n",
       "      <td>1</td>\n",
       "    </tr>\n",
       "  </tbody>\n",
       "</table>\n",
       "</div>"
      ],
      "text/plain": [
       "   preg   plas   pres  skin   insu  mass   pedi   age  class\n",
       "0   6.0  159.1   67.5  27.0  408.6  57.0  0.642  36.0      0\n",
       "1  14.0  170.3  111.6  30.0  758.4  65.6  1.157  53.0      1\n",
       "2  10.0  139.3   88.5  83.5  831.3  46.2  1.204  23.0      1\n",
       "3   7.0  150.6   24.8  49.6  337.6  29.0  1.391  43.0      1\n",
       "4   6.0  102.2  116.4  51.8  351.5  60.4  1.993  31.0      1"
      ]
     },
     "execution_count": 9,
     "metadata": {},
     "output_type": "execute_result"
    }
   ],
   "source": [
    "from sklearn.preprocessing import LabelEncoder\n",
    "labelenc=LabelEncoder()\n",
    "diabetes_df['class']=labelenc.fit_transform(diabetes_df['class'])\n",
    "diabetes_df.head()"
   ]
  },
  {
   "cell_type": "code",
   "execution_count": 10,
   "id": "eed1be96-5048-4991-919f-39b18f99fd4c",
   "metadata": {},
   "outputs": [],
   "source": [
    "X=diabetes_df.drop('class',axis=1)\n",
    "y=diabetes_df['class']"
   ]
  },
  {
   "cell_type": "code",
   "execution_count": 11,
   "id": "88552a50-7ed1-401e-b074-1928f3c0a32f",
   "metadata": {},
   "outputs": [],
   "source": [
    "from sklearn.model_selection import KFold,cross_val_score\n",
    "kfold=KFold(n_splits=10)\n",
    "cart=DecisionTreeClassifier()\n",
    "num_trees=100"
   ]
  },
  {
   "cell_type": "code",
   "execution_count": 6,
   "id": "5ea3b70b-44ac-4d3a-bf72-413b53fe4d64",
   "metadata": {},
   "outputs": [
    {
     "name": "stdout",
     "output_type": "stream",
     "text": [
      "0.4960000000000001\n"
     ]
    }
   ],
   "source": [
    "model=BaggingClassifier(estimator=cart,n_estimators=num_trees,random_state=12)\n",
    "results=cross_val_score(model,X,y,cv=kfold)\n",
    "print(results.mean())"
   ]
  },
  {
   "cell_type": "code",
   "execution_count": null,
   "id": "72cd7207-d7ee-4381-8f34-385a2afee3f1",
   "metadata": {},
   "outputs": [],
   "source": []
  }
 ],
 "metadata": {
  "kernelspec": {
   "display_name": "Python 3 (ipykernel)",
   "language": "python",
   "name": "python3"
  },
  "language_info": {
   "codemirror_mode": {
    "name": "ipython",
    "version": 3
   },
   "file_extension": ".py",
   "mimetype": "text/x-python",
   "name": "python",
   "nbconvert_exporter": "python",
   "pygments_lexer": "ipython3",
   "version": "3.11.11"
  }
 },
 "nbformat": 4,
 "nbformat_minor": 5
}
