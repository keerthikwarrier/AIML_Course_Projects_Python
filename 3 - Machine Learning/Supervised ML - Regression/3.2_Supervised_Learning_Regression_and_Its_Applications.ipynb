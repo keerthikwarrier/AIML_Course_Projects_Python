{
 "cells": [
  {
   "cell_type": "markdown",
   "metadata": {
    "id": "g8rpG8NMu2QX"
   },
   "source": [
    "# __Supervised Learning: Regression__"
   ]
  },
  {
   "cell_type": "markdown",
   "metadata": {
    "id": "jrvcgs4Kpr_f"
   },
   "source": [
    "## __Agenda__ ##"
   ]
  },
  {
   "cell_type": "markdown",
   "metadata": {
    "id": "PrZj2xArpxs_"
   },
   "source": [
    "* Types of Regression\n",
    "    * Linear Regression\n",
    "      * Simple Linear Regression\n",
    "        - Train-Test Split\n",
    "      * Multiple Linear Regression\n",
    "        - Overfitting and Underfitting\n",
    "    * Non-Linear Regression\n",
    "      * Polynomial Regression\n",
    "* Model Evaluation and Validation\n",
    "    * Cross-Validation Techniques\n",
    "    * Performance Metrics for Regression\n",
    "      * Mean Squared Error (MSE)\n",
    "      * Root Mean Squared Error (RMSE)\n",
    "      * Mean Absolute Error (MAE)\n",
    "      * R-Squared\n",
    "* Regularization Techniques\n",
    "    * Lasso Regression\n",
    "    * Ridge Regression\n",
    "    * ElasticNet Regression\n",
    "* Hyperparameter Tuning\n",
    "    * GridSearchCV\n",
    "    * RandomSearchCV\n",
    "    \n",
    "\n"
   ]
  },
  {
   "cell_type": "markdown",
   "metadata": {
    "id": "2dOwMIwnxCuE"
   },
   "source": [
    "## __3.2 Regression__ ##"
   ]
  },
  {
   "cell_type": "markdown",
   "metadata": {
    "id": "iG5J00qnxCuL"
   },
   "source": [
    "![link text](https://labcontent.simplicdn.net/data-content/content-assets/Data_and_AI/ML/updated/Lesson_04/Linear.png)"
   ]
  },
  {
   "cell_type": "markdown",
   "metadata": {
    "id": "xNcWn8pnxCuL"
   },
   "source": [
    "### __3.2.1 Application of Regression__"
   ]
  },
  {
   "cell_type": "markdown",
   "metadata": {
    "id": "CQ8J6l8XxCuM"
   },
   "source": [
    "1. Oil and Gas Industry: Various types of data are collected in the oil and gas industry from the surface and subsurface to understand production and sale processes. Linear and non-linear regression models forecast global oil production.\n",
    "\n",
    "2. Marketing: In marketing, linear regression helps analyze the effectiveness of advertising campaigns, predict sales based on marketing spend, and segment customers based on demographic data.\n",
    "\n",
    "3. Retail: Linear regression is utilized in retail for demand forecasting, inventory management, pricing optimization, and customer analytics.\n",
    "\n",
    "4. Healthcare: Linear regression is applied in healthcare for predicting patient outcomes, analyzing the relationship between medical variables and disease progression, and planning healthcare resources.\n",
    "\n",
    "5. Real Estate: In the real estate industry, linear regression predicts property prices based on factors such as location, size, amenities, and economic indicators.\n"
   ]
  },
  {
   "cell_type": "markdown",
   "metadata": {
    "id": "OclNYtApxCuM"
   },
   "source": [
    "## __3.3 Types of Regression__"
   ]
  },
  {
   "cell_type": "markdown",
   "metadata": {
    "id": "UDdoTnFUxCuM"
   },
   "source": [
    "Regression types can be classified into two categories: linear and non-linear.\n",
    "\n",
    "**Linear Regression**\n",
    "\n",
    "Definition: Linear regression finds a straight-line relationship between the dependent variable and one or more independent variables.\n",
    "\n",
    "**Non-Linear Regression**\n",
    "\n",
    "Definition: Non-linear regression finds a relationship between the dependent variable and independent variables using a curve or a more complex shape.\n"
   ]
  },
  {
   "cell_type": "markdown",
   "metadata": {
    "id": "gq-cNc9TxCuM"
   },
   "source": [
    "## __3.4 Linear Regression__"
   ]
  },
  {
   "cell_type": "markdown",
   "metadata": {
    "id": "2mQlwgg7xCuM"
   },
   "source": [
    "**Linear Regression** refers to a supervised learning algorithm used to predict a continuous target variable by modeling its relationship with one or more independent variables through a linear equation.\n",
    "\n",
    "- It predicts a continuous dependent variable based on one or more independent variables.\n",
    "- It uses the least squares criterion to estimate the coefficients of the regression equation..\n",
    "- It can be applied only if there is a linear relationship between the variables.\n",
    "\n"
   ]
  },
  {
   "cell_type": "markdown",
   "metadata": {
    "id": "1IDEA58hxCuM"
   },
   "source": [
    "![link text](https://labcontent.simplicdn.net/data-content/content-assets/Data_and_AI/ML/updated/Lesson_04/Linear.png)"
   ]
  },
  {
   "cell_type": "markdown",
   "metadata": {
    "id": "SrfQU36GxCuM"
   },
   "source": [
    "In this case, the dependent variable is continuous, and the independent variables can be either continuous or discrete.\n",
    "The relationship between a dependent variable (y) and one or more independent variables (x) is established using a best-fit straight line, also known as the regression line.\n",
    "\n"
   ]
  },
  {
   "cell_type": "markdown",
   "metadata": {
    "id": "Hsjn4ZijxCuM"
   },
   "source": [
    "There are two types of linear regression:\n",
    "- Simple linear regression\n",
    "- Multiple linear regression"
   ]
  },
  {
   "cell_type": "markdown",
   "metadata": {
    "id": "KKqNNd45xCuN"
   },
   "source": [
    "### __3.4.1 Simple Linear Regression__ ###\n",
    "\n",
    "**Simple Linear Regression**\n",
    "\n",
    "Definition: Simple linear regression models the relationship between one independent variable and the dependent variable as a straight line.\n",
    "\n",
    "The equation for Simple Linear Regression is:\n",
    "\n",
    " $$ y = \\beta_0 + \\beta_1x $$\n",
    "\n",
    "where:\n",
    "\n",
    "- $y$ is the dependent variable\n",
    "- $x$ is the independent variable\n",
    "- $β_0$ is the intercept\n",
    "- $β_1$ is the slope\n",
    "\n"
   ]
  },
  {
   "cell_type": "markdown",
   "metadata": {
    "id": "IUKTxNJFxCuN"
   },
   "source": [
    "![link text](https://labcontent.simplicdn.net/data-content/content-assets/Data_and_AI/ML/Lesson04_Regression/updates/Simple_linear_regression.jpg)"
   ]
  },
  {
   "cell_type": "markdown",
   "metadata": {
    "id": "CQxt4DIXxCuN"
   },
   "source": [
    "### __3.4.2 Multiple Linear Regression__ ###\n",
    "\n",
    "**Multiple Linear Regression**\n",
    "\n",
    "Definition: Multiple linear regression models the relationship between two or more independent variables/predictors/features and the dependent variable as a straight line.\n",
    "\n",
    "The equation for Multiple Linear Regression:\n",
    "\n",
    " $$ {y} = \\beta_0 + \\beta_1x_1 + \\beta_2x_2 + \\ldots + \\beta_nx_ n $$\n",
    "\n",
    "- $ x_1, x_2, \\ldots, x_n $ are the predictor variables,\n",
    "- $ \\beta_1, \\beta_2, \\ldots, \\beta_n $ are the coefficients for each predictor.\n",
    "\n",
    "\n",
    "\n"
   ]
  },
  {
   "cell_type": "markdown",
   "metadata": {
    "id": "kQDyWrnIxCuN"
   },
   "source": [
    "![link text](https://labcontent.simplicdn.net/data-content/content-assets/Data_and_AI/ML/Lesson04_Regression/updates/multiple_linear_regression.jpg)"
   ]
  },
  {
   "cell_type": "markdown",
   "metadata": {
    "id": "C0CnFsDRxCuN"
   },
   "source": [
    "### Let us see how to fit the linear regression model on a dataset."
   ]
  },
  {
   "cell_type": "markdown",
   "metadata": {
    "id": "83q2GoXDxCuN"
   },
   "source": [
    "#### Step 1: Import the Required Libraries\n"
   ]
  },
  {
   "cell_type": "code",
   "execution_count": 2,
   "metadata": {},
   "outputs": [
    {
     "name": "stdout",
     "output_type": "stream",
     "text": [
      "Collecting seaborn\n",
      "  Using cached seaborn-0.13.2-py3-none-any.whl.metadata (5.4 kB)\n",
      "Requirement already satisfied: numpy!=1.24.0,>=1.20 in c:\\users\\keert\\anaconda3\\envs\\jupyternotebook-intwebappenv\\lib\\site-packages (from seaborn) (2.1.3)\n",
      "Requirement already satisfied: pandas>=1.2 in c:\\users\\keert\\anaconda3\\envs\\jupyternotebook-intwebappenv\\lib\\site-packages (from seaborn) (2.2.3)\n",
      "Requirement already satisfied: matplotlib!=3.6.1,>=3.4 in c:\\users\\keert\\anaconda3\\envs\\jupyternotebook-intwebappenv\\lib\\site-packages (from seaborn) (3.10.1)\n",
      "Requirement already satisfied: contourpy>=1.0.1 in c:\\users\\keert\\anaconda3\\envs\\jupyternotebook-intwebappenv\\lib\\site-packages (from matplotlib!=3.6.1,>=3.4->seaborn) (1.3.1)\n",
      "Requirement already satisfied: cycler>=0.10 in c:\\users\\keert\\anaconda3\\envs\\jupyternotebook-intwebappenv\\lib\\site-packages (from matplotlib!=3.6.1,>=3.4->seaborn) (0.12.1)\n",
      "Requirement already satisfied: fonttools>=4.22.0 in c:\\users\\keert\\anaconda3\\envs\\jupyternotebook-intwebappenv\\lib\\site-packages (from matplotlib!=3.6.1,>=3.4->seaborn) (4.56.0)\n",
      "Requirement already satisfied: kiwisolver>=1.3.1 in c:\\users\\keert\\anaconda3\\envs\\jupyternotebook-intwebappenv\\lib\\site-packages (from matplotlib!=3.6.1,>=3.4->seaborn) (1.4.8)\n",
      "Requirement already satisfied: packaging>=20.0 in c:\\users\\keert\\anaconda3\\envs\\jupyternotebook-intwebappenv\\lib\\site-packages (from matplotlib!=3.6.1,>=3.4->seaborn) (24.2)\n",
      "Requirement already satisfied: pillow>=8 in c:\\users\\keert\\anaconda3\\envs\\jupyternotebook-intwebappenv\\lib\\site-packages (from matplotlib!=3.6.1,>=3.4->seaborn) (11.1.0)\n",
      "Requirement already satisfied: pyparsing>=2.3.1 in c:\\users\\keert\\anaconda3\\envs\\jupyternotebook-intwebappenv\\lib\\site-packages (from matplotlib!=3.6.1,>=3.4->seaborn) (3.2.3)\n",
      "Requirement already satisfied: python-dateutil>=2.7 in c:\\users\\keert\\anaconda3\\envs\\jupyternotebook-intwebappenv\\lib\\site-packages (from matplotlib!=3.6.1,>=3.4->seaborn) (2.9.0.post0)\n",
      "Requirement already satisfied: pytz>=2020.1 in c:\\users\\keert\\anaconda3\\envs\\jupyternotebook-intwebappenv\\lib\\site-packages (from pandas>=1.2->seaborn) (2024.1)\n",
      "Requirement already satisfied: tzdata>=2022.7 in c:\\users\\keert\\anaconda3\\envs\\jupyternotebook-intwebappenv\\lib\\site-packages (from pandas>=1.2->seaborn) (2025.2)\n",
      "Requirement already satisfied: six>=1.5 in c:\\users\\keert\\anaconda3\\envs\\jupyternotebook-intwebappenv\\lib\\site-packages (from python-dateutil>=2.7->matplotlib!=3.6.1,>=3.4->seaborn) (1.16.0)\n",
      "Using cached seaborn-0.13.2-py3-none-any.whl (294 kB)\n",
      "Installing collected packages: seaborn\n",
      "Successfully installed seaborn-0.13.2\n"
     ]
    }
   ],
   "source": [
    "!pip install seaborn"
   ]
  },
  {
   "cell_type": "code",
   "execution_count": 3,
   "metadata": {
    "id": "6zYV1X8KxCuN"
   },
   "outputs": [],
   "source": [
    "# Import necessary libraries\n",
    "import pandas as pd\n",
    "import numpy as np\n",
    "import matplotlib.pyplot as plt\n",
    "import seaborn as sns\n",
    "\n"
   ]
  },
  {
   "cell_type": "markdown",
   "metadata": {
    "id": "_KZ9yV0AxCuN"
   },
   "source": [
    "- Read the dataset `tvmarketing.csv`.\n"
   ]
  },
  {
   "cell_type": "code",
   "execution_count": 4,
   "metadata": {
    "id": "5iU8Un8KxCuN"
   },
   "outputs": [],
   "source": [
    "data=pd.read_csv(\"tvmarketing.csv\")"
   ]
  },
  {
   "cell_type": "markdown",
   "metadata": {
    "id": "KeAp94wVxCuN"
   },
   "source": [
    "The following command provides details about the dataset that was imported:"
   ]
  },
  {
   "cell_type": "code",
   "execution_count": 5,
   "metadata": {
    "colab": {
     "base_uri": "https://localhost:8080/"
    },
    "id": "wQXFyJ4oxCuO",
    "outputId": "dfef4b40-ef09-41be-d91a-7e998f297b21"
   },
   "outputs": [
    {
     "name": "stdout",
     "output_type": "stream",
     "text": [
      "<class 'pandas.core.frame.DataFrame'>\n",
      "RangeIndex: 200 entries, 0 to 199\n",
      "Data columns (total 2 columns):\n",
      " #   Column  Non-Null Count  Dtype  \n",
      "---  ------  --------------  -----  \n",
      " 0   TV      200 non-null    float64\n",
      " 1   Sales   200 non-null    float64\n",
      "dtypes: float64(2)\n",
      "memory usage: 3.3 KB\n"
     ]
    }
   ],
   "source": [
    "# Display a summary of the DataFrame, including the column names, non-null count, and data types\n",
    "data.info()"
   ]
  },
  {
   "cell_type": "markdown",
   "metadata": {
    "id": "jaC8SfjMxCuO"
   },
   "source": [
    "__Observation:__\n",
    "- There are no null objects."
   ]
  },
  {
   "cell_type": "markdown",
   "metadata": {
    "id": "CrcSS1SxxCuO"
   },
   "source": [
    "**Train and test the model**"
   ]
  },
  {
   "cell_type": "markdown",
   "metadata": {
    "id": "M0SQ38HlxCuO"
   },
   "source": [
    "#### Step 2: Fit the Linear Regression Model\n",
    "\n",
    "- Now, let's define the features and the target variables.\n",
    "- Here, X is assigned to all the rows in the first column of the dataset.\n",
    "\n",
    "- y is assigned to all the rows of the second column of the same dataset."
   ]
  },
  {
   "cell_type": "code",
   "execution_count": 6,
   "metadata": {
    "id": "oRN77NIvxCuO"
   },
   "outputs": [],
   "source": [
    "# Extract the feature(s) from the DataFrame\n",
    "X=data.iloc[:,0:1].values\n",
    "# Extract the target variable from the DataFrame\n",
    "y=data.iloc[:,1].values"
   ]
  },
  {
   "cell_type": "markdown",
   "metadata": {
    "id": "j94Nhic-xCuO"
   },
   "source": [
    "**Perform train-test split**\n",
    "\n",
    "Train-test split is a technique in machine learning used to evaluate a model's performance by dividing the data into two parts: a training set and a test set. The model is trained on the training set, learning patterns and parameters, and then evaluated on the test set to see how well it generalizes to new, unseen data.\n",
    "\n",
    "**Note:** This train-test data split will be used for other implementations as well."
   ]
  },
  {
   "cell_type": "code",
   "execution_count": 7,
   "metadata": {
    "id": "szcjEq2txCuP"
   },
   "outputs": [],
   "source": [
    "# Import train_test_split function from sklearn's model_selection module\n",
    "from sklearn.model_selection import train_test_split"
   ]
  },
  {
   "cell_type": "markdown",
   "metadata": {
    "id": "zwjQmbhvwZeV"
   },
   "source": [
    "Allowed inputs in `train_test_split()` are lists, numpy arrays, scipy-sparse matrices or pandas dataframes. In this implementation X and y will be passed as arrays of corresponding values"
   ]
  },
  {
   "cell_type": "code",
   "execution_count": 8,
   "metadata": {
    "id": "vGbMpQEKxCuQ"
   },
   "outputs": [],
   "source": [
    "# Split the data into training and testing sets\n",
    "X_train, X_test, y_train, y_test = train_test_split(X, y, test_size=0.3, random_state=42)"
   ]
  },
  {
   "cell_type": "markdown",
   "metadata": {
    "id": "8nfWvM75wZeV"
   },
   "source": [
    "This code splits the dataset (X, y) into a training set (70%) and a test set (30%).\n",
    "\n",
    "As you may have noticed, we’ve been setting the random_state parameter in our examples. This parameter is the seed used by the random number generator. Setting a seed ensures that the splits you generate are reproducible. If you don’t set a seed, you might get different splits every time you run the code, which can make your results hard to replicate.\n",
    "it"
   ]
  },
  {
   "cell_type": "markdown",
   "metadata": {
    "id": "OiMTqbA9xCuQ"
   },
   "source": [
    "- First, let us see if linear regression works on this data.\n",
    "- From **sklearn.linear_model**, import the linear regression function.\n",
    "- Assign **LinearRegression()** to the variable **lin_reg**.\n",
    "- Next, fit the data on the training data `X_train` and `y_train`."
   ]
  },
  {
   "cell_type": "code",
   "execution_count": 9,
   "metadata": {
    "id": "V3qDSEw4xCuQ"
   },
   "outputs": [
    {
     "data": {
      "text/html": [
       "<style>#sk-container-id-1 {\n",
       "  /* Definition of color scheme common for light and dark mode */\n",
       "  --sklearn-color-text: #000;\n",
       "  --sklearn-color-text-muted: #666;\n",
       "  --sklearn-color-line: gray;\n",
       "  /* Definition of color scheme for unfitted estimators */\n",
       "  --sklearn-color-unfitted-level-0: #fff5e6;\n",
       "  --sklearn-color-unfitted-level-1: #f6e4d2;\n",
       "  --sklearn-color-unfitted-level-2: #ffe0b3;\n",
       "  --sklearn-color-unfitted-level-3: chocolate;\n",
       "  /* Definition of color scheme for fitted estimators */\n",
       "  --sklearn-color-fitted-level-0: #f0f8ff;\n",
       "  --sklearn-color-fitted-level-1: #d4ebff;\n",
       "  --sklearn-color-fitted-level-2: #b3dbfd;\n",
       "  --sklearn-color-fitted-level-3: cornflowerblue;\n",
       "\n",
       "  /* Specific color for light theme */\n",
       "  --sklearn-color-text-on-default-background: var(--sg-text-color, var(--theme-code-foreground, var(--jp-content-font-color1, black)));\n",
       "  --sklearn-color-background: var(--sg-background-color, var(--theme-background, var(--jp-layout-color0, white)));\n",
       "  --sklearn-color-border-box: var(--sg-text-color, var(--theme-code-foreground, var(--jp-content-font-color1, black)));\n",
       "  --sklearn-color-icon: #696969;\n",
       "\n",
       "  @media (prefers-color-scheme: dark) {\n",
       "    /* Redefinition of color scheme for dark theme */\n",
       "    --sklearn-color-text-on-default-background: var(--sg-text-color, var(--theme-code-foreground, var(--jp-content-font-color1, white)));\n",
       "    --sklearn-color-background: var(--sg-background-color, var(--theme-background, var(--jp-layout-color0, #111)));\n",
       "    --sklearn-color-border-box: var(--sg-text-color, var(--theme-code-foreground, var(--jp-content-font-color1, white)));\n",
       "    --sklearn-color-icon: #878787;\n",
       "  }\n",
       "}\n",
       "\n",
       "#sk-container-id-1 {\n",
       "  color: var(--sklearn-color-text);\n",
       "}\n",
       "\n",
       "#sk-container-id-1 pre {\n",
       "  padding: 0;\n",
       "}\n",
       "\n",
       "#sk-container-id-1 input.sk-hidden--visually {\n",
       "  border: 0;\n",
       "  clip: rect(1px 1px 1px 1px);\n",
       "  clip: rect(1px, 1px, 1px, 1px);\n",
       "  height: 1px;\n",
       "  margin: -1px;\n",
       "  overflow: hidden;\n",
       "  padding: 0;\n",
       "  position: absolute;\n",
       "  width: 1px;\n",
       "}\n",
       "\n",
       "#sk-container-id-1 div.sk-dashed-wrapped {\n",
       "  border: 1px dashed var(--sklearn-color-line);\n",
       "  margin: 0 0.4em 0.5em 0.4em;\n",
       "  box-sizing: border-box;\n",
       "  padding-bottom: 0.4em;\n",
       "  background-color: var(--sklearn-color-background);\n",
       "}\n",
       "\n",
       "#sk-container-id-1 div.sk-container {\n",
       "  /* jupyter's `normalize.less` sets `[hidden] { display: none; }`\n",
       "     but bootstrap.min.css set `[hidden] { display: none !important; }`\n",
       "     so we also need the `!important` here to be able to override the\n",
       "     default hidden behavior on the sphinx rendered scikit-learn.org.\n",
       "     See: https://github.com/scikit-learn/scikit-learn/issues/21755 */\n",
       "  display: inline-block !important;\n",
       "  position: relative;\n",
       "}\n",
       "\n",
       "#sk-container-id-1 div.sk-text-repr-fallback {\n",
       "  display: none;\n",
       "}\n",
       "\n",
       "div.sk-parallel-item,\n",
       "div.sk-serial,\n",
       "div.sk-item {\n",
       "  /* draw centered vertical line to link estimators */\n",
       "  background-image: linear-gradient(var(--sklearn-color-text-on-default-background), var(--sklearn-color-text-on-default-background));\n",
       "  background-size: 2px 100%;\n",
       "  background-repeat: no-repeat;\n",
       "  background-position: center center;\n",
       "}\n",
       "\n",
       "/* Parallel-specific style estimator block */\n",
       "\n",
       "#sk-container-id-1 div.sk-parallel-item::after {\n",
       "  content: \"\";\n",
       "  width: 100%;\n",
       "  border-bottom: 2px solid var(--sklearn-color-text-on-default-background);\n",
       "  flex-grow: 1;\n",
       "}\n",
       "\n",
       "#sk-container-id-1 div.sk-parallel {\n",
       "  display: flex;\n",
       "  align-items: stretch;\n",
       "  justify-content: center;\n",
       "  background-color: var(--sklearn-color-background);\n",
       "  position: relative;\n",
       "}\n",
       "\n",
       "#sk-container-id-1 div.sk-parallel-item {\n",
       "  display: flex;\n",
       "  flex-direction: column;\n",
       "}\n",
       "\n",
       "#sk-container-id-1 div.sk-parallel-item:first-child::after {\n",
       "  align-self: flex-end;\n",
       "  width: 50%;\n",
       "}\n",
       "\n",
       "#sk-container-id-1 div.sk-parallel-item:last-child::after {\n",
       "  align-self: flex-start;\n",
       "  width: 50%;\n",
       "}\n",
       "\n",
       "#sk-container-id-1 div.sk-parallel-item:only-child::after {\n",
       "  width: 0;\n",
       "}\n",
       "\n",
       "/* Serial-specific style estimator block */\n",
       "\n",
       "#sk-container-id-1 div.sk-serial {\n",
       "  display: flex;\n",
       "  flex-direction: column;\n",
       "  align-items: center;\n",
       "  background-color: var(--sklearn-color-background);\n",
       "  padding-right: 1em;\n",
       "  padding-left: 1em;\n",
       "}\n",
       "\n",
       "\n",
       "/* Toggleable style: style used for estimator/Pipeline/ColumnTransformer box that is\n",
       "clickable and can be expanded/collapsed.\n",
       "- Pipeline and ColumnTransformer use this feature and define the default style\n",
       "- Estimators will overwrite some part of the style using the `sk-estimator` class\n",
       "*/\n",
       "\n",
       "/* Pipeline and ColumnTransformer style (default) */\n",
       "\n",
       "#sk-container-id-1 div.sk-toggleable {\n",
       "  /* Default theme specific background. It is overwritten whether we have a\n",
       "  specific estimator or a Pipeline/ColumnTransformer */\n",
       "  background-color: var(--sklearn-color-background);\n",
       "}\n",
       "\n",
       "/* Toggleable label */\n",
       "#sk-container-id-1 label.sk-toggleable__label {\n",
       "  cursor: pointer;\n",
       "  display: flex;\n",
       "  width: 100%;\n",
       "  margin-bottom: 0;\n",
       "  padding: 0.5em;\n",
       "  box-sizing: border-box;\n",
       "  text-align: center;\n",
       "  align-items: start;\n",
       "  justify-content: space-between;\n",
       "  gap: 0.5em;\n",
       "}\n",
       "\n",
       "#sk-container-id-1 label.sk-toggleable__label .caption {\n",
       "  font-size: 0.6rem;\n",
       "  font-weight: lighter;\n",
       "  color: var(--sklearn-color-text-muted);\n",
       "}\n",
       "\n",
       "#sk-container-id-1 label.sk-toggleable__label-arrow:before {\n",
       "  /* Arrow on the left of the label */\n",
       "  content: \"▸\";\n",
       "  float: left;\n",
       "  margin-right: 0.25em;\n",
       "  color: var(--sklearn-color-icon);\n",
       "}\n",
       "\n",
       "#sk-container-id-1 label.sk-toggleable__label-arrow:hover:before {\n",
       "  color: var(--sklearn-color-text);\n",
       "}\n",
       "\n",
       "/* Toggleable content - dropdown */\n",
       "\n",
       "#sk-container-id-1 div.sk-toggleable__content {\n",
       "  max-height: 0;\n",
       "  max-width: 0;\n",
       "  overflow: hidden;\n",
       "  text-align: left;\n",
       "  /* unfitted */\n",
       "  background-color: var(--sklearn-color-unfitted-level-0);\n",
       "}\n",
       "\n",
       "#sk-container-id-1 div.sk-toggleable__content.fitted {\n",
       "  /* fitted */\n",
       "  background-color: var(--sklearn-color-fitted-level-0);\n",
       "}\n",
       "\n",
       "#sk-container-id-1 div.sk-toggleable__content pre {\n",
       "  margin: 0.2em;\n",
       "  border-radius: 0.25em;\n",
       "  color: var(--sklearn-color-text);\n",
       "  /* unfitted */\n",
       "  background-color: var(--sklearn-color-unfitted-level-0);\n",
       "}\n",
       "\n",
       "#sk-container-id-1 div.sk-toggleable__content.fitted pre {\n",
       "  /* unfitted */\n",
       "  background-color: var(--sklearn-color-fitted-level-0);\n",
       "}\n",
       "\n",
       "#sk-container-id-1 input.sk-toggleable__control:checked~div.sk-toggleable__content {\n",
       "  /* Expand drop-down */\n",
       "  max-height: 200px;\n",
       "  max-width: 100%;\n",
       "  overflow: auto;\n",
       "}\n",
       "\n",
       "#sk-container-id-1 input.sk-toggleable__control:checked~label.sk-toggleable__label-arrow:before {\n",
       "  content: \"▾\";\n",
       "}\n",
       "\n",
       "/* Pipeline/ColumnTransformer-specific style */\n",
       "\n",
       "#sk-container-id-1 div.sk-label input.sk-toggleable__control:checked~label.sk-toggleable__label {\n",
       "  color: var(--sklearn-color-text);\n",
       "  background-color: var(--sklearn-color-unfitted-level-2);\n",
       "}\n",
       "\n",
       "#sk-container-id-1 div.sk-label.fitted input.sk-toggleable__control:checked~label.sk-toggleable__label {\n",
       "  background-color: var(--sklearn-color-fitted-level-2);\n",
       "}\n",
       "\n",
       "/* Estimator-specific style */\n",
       "\n",
       "/* Colorize estimator box */\n",
       "#sk-container-id-1 div.sk-estimator input.sk-toggleable__control:checked~label.sk-toggleable__label {\n",
       "  /* unfitted */\n",
       "  background-color: var(--sklearn-color-unfitted-level-2);\n",
       "}\n",
       "\n",
       "#sk-container-id-1 div.sk-estimator.fitted input.sk-toggleable__control:checked~label.sk-toggleable__label {\n",
       "  /* fitted */\n",
       "  background-color: var(--sklearn-color-fitted-level-2);\n",
       "}\n",
       "\n",
       "#sk-container-id-1 div.sk-label label.sk-toggleable__label,\n",
       "#sk-container-id-1 div.sk-label label {\n",
       "  /* The background is the default theme color */\n",
       "  color: var(--sklearn-color-text-on-default-background);\n",
       "}\n",
       "\n",
       "/* On hover, darken the color of the background */\n",
       "#sk-container-id-1 div.sk-label:hover label.sk-toggleable__label {\n",
       "  color: var(--sklearn-color-text);\n",
       "  background-color: var(--sklearn-color-unfitted-level-2);\n",
       "}\n",
       "\n",
       "/* Label box, darken color on hover, fitted */\n",
       "#sk-container-id-1 div.sk-label.fitted:hover label.sk-toggleable__label.fitted {\n",
       "  color: var(--sklearn-color-text);\n",
       "  background-color: var(--sklearn-color-fitted-level-2);\n",
       "}\n",
       "\n",
       "/* Estimator label */\n",
       "\n",
       "#sk-container-id-1 div.sk-label label {\n",
       "  font-family: monospace;\n",
       "  font-weight: bold;\n",
       "  display: inline-block;\n",
       "  line-height: 1.2em;\n",
       "}\n",
       "\n",
       "#sk-container-id-1 div.sk-label-container {\n",
       "  text-align: center;\n",
       "}\n",
       "\n",
       "/* Estimator-specific */\n",
       "#sk-container-id-1 div.sk-estimator {\n",
       "  font-family: monospace;\n",
       "  border: 1px dotted var(--sklearn-color-border-box);\n",
       "  border-radius: 0.25em;\n",
       "  box-sizing: border-box;\n",
       "  margin-bottom: 0.5em;\n",
       "  /* unfitted */\n",
       "  background-color: var(--sklearn-color-unfitted-level-0);\n",
       "}\n",
       "\n",
       "#sk-container-id-1 div.sk-estimator.fitted {\n",
       "  /* fitted */\n",
       "  background-color: var(--sklearn-color-fitted-level-0);\n",
       "}\n",
       "\n",
       "/* on hover */\n",
       "#sk-container-id-1 div.sk-estimator:hover {\n",
       "  /* unfitted */\n",
       "  background-color: var(--sklearn-color-unfitted-level-2);\n",
       "}\n",
       "\n",
       "#sk-container-id-1 div.sk-estimator.fitted:hover {\n",
       "  /* fitted */\n",
       "  background-color: var(--sklearn-color-fitted-level-2);\n",
       "}\n",
       "\n",
       "/* Specification for estimator info (e.g. \"i\" and \"?\") */\n",
       "\n",
       "/* Common style for \"i\" and \"?\" */\n",
       "\n",
       ".sk-estimator-doc-link,\n",
       "a:link.sk-estimator-doc-link,\n",
       "a:visited.sk-estimator-doc-link {\n",
       "  float: right;\n",
       "  font-size: smaller;\n",
       "  line-height: 1em;\n",
       "  font-family: monospace;\n",
       "  background-color: var(--sklearn-color-background);\n",
       "  border-radius: 1em;\n",
       "  height: 1em;\n",
       "  width: 1em;\n",
       "  text-decoration: none !important;\n",
       "  margin-left: 0.5em;\n",
       "  text-align: center;\n",
       "  /* unfitted */\n",
       "  border: var(--sklearn-color-unfitted-level-1) 1pt solid;\n",
       "  color: var(--sklearn-color-unfitted-level-1);\n",
       "}\n",
       "\n",
       ".sk-estimator-doc-link.fitted,\n",
       "a:link.sk-estimator-doc-link.fitted,\n",
       "a:visited.sk-estimator-doc-link.fitted {\n",
       "  /* fitted */\n",
       "  border: var(--sklearn-color-fitted-level-1) 1pt solid;\n",
       "  color: var(--sklearn-color-fitted-level-1);\n",
       "}\n",
       "\n",
       "/* On hover */\n",
       "div.sk-estimator:hover .sk-estimator-doc-link:hover,\n",
       ".sk-estimator-doc-link:hover,\n",
       "div.sk-label-container:hover .sk-estimator-doc-link:hover,\n",
       ".sk-estimator-doc-link:hover {\n",
       "  /* unfitted */\n",
       "  background-color: var(--sklearn-color-unfitted-level-3);\n",
       "  color: var(--sklearn-color-background);\n",
       "  text-decoration: none;\n",
       "}\n",
       "\n",
       "div.sk-estimator.fitted:hover .sk-estimator-doc-link.fitted:hover,\n",
       ".sk-estimator-doc-link.fitted:hover,\n",
       "div.sk-label-container:hover .sk-estimator-doc-link.fitted:hover,\n",
       ".sk-estimator-doc-link.fitted:hover {\n",
       "  /* fitted */\n",
       "  background-color: var(--sklearn-color-fitted-level-3);\n",
       "  color: var(--sklearn-color-background);\n",
       "  text-decoration: none;\n",
       "}\n",
       "\n",
       "/* Span, style for the box shown on hovering the info icon */\n",
       ".sk-estimator-doc-link span {\n",
       "  display: none;\n",
       "  z-index: 9999;\n",
       "  position: relative;\n",
       "  font-weight: normal;\n",
       "  right: .2ex;\n",
       "  padding: .5ex;\n",
       "  margin: .5ex;\n",
       "  width: min-content;\n",
       "  min-width: 20ex;\n",
       "  max-width: 50ex;\n",
       "  color: var(--sklearn-color-text);\n",
       "  box-shadow: 2pt 2pt 4pt #999;\n",
       "  /* unfitted */\n",
       "  background: var(--sklearn-color-unfitted-level-0);\n",
       "  border: .5pt solid var(--sklearn-color-unfitted-level-3);\n",
       "}\n",
       "\n",
       ".sk-estimator-doc-link.fitted span {\n",
       "  /* fitted */\n",
       "  background: var(--sklearn-color-fitted-level-0);\n",
       "  border: var(--sklearn-color-fitted-level-3);\n",
       "}\n",
       "\n",
       ".sk-estimator-doc-link:hover span {\n",
       "  display: block;\n",
       "}\n",
       "\n",
       "/* \"?\"-specific style due to the `<a>` HTML tag */\n",
       "\n",
       "#sk-container-id-1 a.estimator_doc_link {\n",
       "  float: right;\n",
       "  font-size: 1rem;\n",
       "  line-height: 1em;\n",
       "  font-family: monospace;\n",
       "  background-color: var(--sklearn-color-background);\n",
       "  border-radius: 1rem;\n",
       "  height: 1rem;\n",
       "  width: 1rem;\n",
       "  text-decoration: none;\n",
       "  /* unfitted */\n",
       "  color: var(--sklearn-color-unfitted-level-1);\n",
       "  border: var(--sklearn-color-unfitted-level-1) 1pt solid;\n",
       "}\n",
       "\n",
       "#sk-container-id-1 a.estimator_doc_link.fitted {\n",
       "  /* fitted */\n",
       "  border: var(--sklearn-color-fitted-level-1) 1pt solid;\n",
       "  color: var(--sklearn-color-fitted-level-1);\n",
       "}\n",
       "\n",
       "/* On hover */\n",
       "#sk-container-id-1 a.estimator_doc_link:hover {\n",
       "  /* unfitted */\n",
       "  background-color: var(--sklearn-color-unfitted-level-3);\n",
       "  color: var(--sklearn-color-background);\n",
       "  text-decoration: none;\n",
       "}\n",
       "\n",
       "#sk-container-id-1 a.estimator_doc_link.fitted:hover {\n",
       "  /* fitted */\n",
       "  background-color: var(--sklearn-color-fitted-level-3);\n",
       "}\n",
       "</style><div id=\"sk-container-id-1\" class=\"sk-top-container\"><div class=\"sk-text-repr-fallback\"><pre>LinearRegression()</pre><b>In a Jupyter environment, please rerun this cell to show the HTML representation or trust the notebook. <br />On GitHub, the HTML representation is unable to render, please try loading this page with nbviewer.org.</b></div><div class=\"sk-container\" hidden><div class=\"sk-item\"><div class=\"sk-estimator fitted sk-toggleable\"><input class=\"sk-toggleable__control sk-hidden--visually\" id=\"sk-estimator-id-1\" type=\"checkbox\" checked><label for=\"sk-estimator-id-1\" class=\"sk-toggleable__label fitted sk-toggleable__label-arrow\"><div><div>LinearRegression</div></div><div><a class=\"sk-estimator-doc-link fitted\" rel=\"noreferrer\" target=\"_blank\" href=\"https://scikit-learn.org/1.6/modules/generated/sklearn.linear_model.LinearRegression.html\">?<span>Documentation for LinearRegression</span></a><span class=\"sk-estimator-doc-link fitted\">i<span>Fitted</span></span></div></label><div class=\"sk-toggleable__content fitted\"><pre>LinearRegression()</pre></div> </div></div></div></div>"
      ],
      "text/plain": [
       "LinearRegression()"
      ]
     },
     "execution_count": 9,
     "metadata": {},
     "output_type": "execute_result"
    }
   ],
   "source": [
    "# Import the LinearRegression class from scikit-learn's linear_model module\n",
    "from sklearn.linear_model import LinearRegression\n",
    "# Create an instance of the LinearRegression class\n",
    "lin_reg = LinearRegression()\n",
    "lin_reg.fit(X_train,y_train)"
   ]
  },
  {
   "cell_type": "markdown",
   "metadata": {
    "id": "RIiOm4jaxCuR"
   },
   "source": [
    "**Observation**:\n",
    "\n"
   ]
  },
  {
   "cell_type": "markdown",
   "metadata": {
    "id": "ZDz2w77vxCuR"
   },
   "source": [
    "- Fit the linear regression model to the given dataset.\n",
    "- Visualize the fitted data using a scatter plot.\n",
    "- Define a function named **viz_linear** to display the X_test and y_test values as green points on a graph, and illustrate the fitted regression line in blue.\n",
    "- Provide the appropriate X and y axis labels along with a suitable title for the plot."
   ]
  },
  {
   "cell_type": "code",
   "execution_count": 10,
   "metadata": {
    "id": "KU2dxXvSxCuR"
   },
   "outputs": [],
   "source": [
    "# Visualize the linear regression model\n",
    "def viz_linear():\n",
    "    plt.scatter(X_test, y_test, color='green')\n",
    "    plt.plot(X_train, lin_reg.predict(X_train), color='blue')  # Using training set line for comparison\n",
    "    plt.title('Linear Regression Model (Test set)')\n",
    "    plt.xlabel('Sales')\n",
    "    plt.ylabel('TV')\n",
    "    plt.show()\n"
   ]
  },
  {
   "cell_type": "markdown",
   "metadata": {
    "id": "dNspT54VxCuR"
   },
   "source": [
    "- Call the following function to create the plot:"
   ]
  },
  {
   "cell_type": "code",
   "execution_count": 11,
   "metadata": {
    "colab": {
     "base_uri": "https://localhost:8080/",
     "height": 472
    },
    "id": "kaNi45k3xCuR",
    "outputId": "c032249b-2b7d-40ab-f461-db5946ccd76e"
   },
   "outputs": [
    {
     "data": {
      "image/png": "[encoded data removed]",
      "text/plain": [
       "<Figure size 640x480 with 1 Axes>"
      ]
     },
     "metadata": {},
     "output_type": "display_data"
    }
   ],
   "source": [
    "viz_linear()"
   ]
  },
  {
   "cell_type": "markdown",
   "metadata": {
    "id": "5o9yL1A8xCuR"
   },
   "source": [
    "__Observation:__\n",
    "- The plot shows a positive linear relationship between Sales and TV, where the blue regression line indicates the model's predictions. The green data points are generally close to the line, suggesting the model fits the data reasonably well, though some variability exists."
   ]
  },
  {
   "cell_type": "markdown",
   "metadata": {
    "id": "TROsyMOvxCuR"
   },
   "source": [
    "### Overfitting and Underfitting\n",
    "\n",
    "When developing machine learning models, achieving the right balance between complexity and simplicity is crucial. This balance is covered in the concepts of overfitting and underfitting."
   ]
  },
  {
   "cell_type": "markdown",
   "metadata": {
    "id": "cmaRaeVhwZeZ"
   },
   "source": [
    "**Overfitting**\n",
    "\n",
    "- Overfitting occurs when a model learns the noise and details in the training data too well to the extent that it negatively impacts its performance on new unseen data.\n",
    "- Sign: High accuracy on training data but poor accuracy on test data.\n",
    "- Cause: Model is too complex (too many parameters).\n",
    "\n",
    "**Underfitting**\n",
    "- Underfitting happens when a model is too simple to capture the underlying pattern of the data.\n",
    "- Sign: Poor accuracy on both training and test data.\n",
    "- Cause: Model is too simple (too few parameters).\n",
    "  \n",
    "**Bias-Variance Tradeoff**\n",
    "- Bias: Error due to overly simplistic assumptions in the learning algorithm. High bias can cause underfitting.\n",
    "- Variance: Error due to excessive complexity in the learning algorithm. High variance can cause overfitting.\n",
    "\n",
    "**Tradeoff**\n",
    "- Low Bias & High Variance: Model fits the training data very well but may fail to generalize (overfitting).\n",
    "- High Bias & Low Variance: Model does not fit the training data well and misses the underlying trend (underfitting).\n",
    "- Optimal Tradeoff: Finding a balance where the model performs well on both training and test data, minimizing overall error.\n",
    "  \n",
    "Understanding and managing the bias-variance tradeoff is key to building models that generalize well to unseen data."
   ]
  },
  {
   "cell_type": "markdown",
   "metadata": {
    "id": "proeQqkz1Ruq"
   },
   "source": [
    "**Let's look at how to check for overfitting or underfitting of the model**"
   ]
  },
  {
   "cell_type": "code",
   "execution_count": 12,
   "metadata": {
    "colab": {
     "base_uri": "https://localhost:8080/"
    },
    "id": "hSS8pcnVRKcx",
    "outputId": "86f94afc-3b17-4722-fe6a-86d9f9ba3206"
   },
   "outputs": [
    {
     "name": "stdout",
     "output_type": "stream",
     "text": [
      "Training Set Mean Squared Error: 11.189103289351676\n",
      "Test Set Mean Squared Error: 8.970991242413614\n",
      "Training Set R² Score: 0.5736021199591975\n",
      "Test Set R² Score: 0.6714477229302764\n",
      "------------------------------------------\n",
      "Model may be underfitting, consider increasing model complexity.\n"
     ]
    }
   ],
   "source": [
    "# Import necessary libraries for performance metrics\n",
    "from sklearn.metrics import mean_squared_error, r2_score\n",
    "\n",
    "# Evaluate the model on the training set\n",
    "y_train_pred = lin_reg.predict(X_train)\n",
    "\n",
    "# Evaluate the model on the test set\n",
    "y_test_pred = lin_reg.predict(X_test)\n",
    "\n",
    "mse_train = mean_squared_error(y_train, y_train_pred)\n",
    "mse_test = mean_squared_error(y_test, y_test_pred)\n",
    "r2_train = r2_score(y_train, y_train_pred)\n",
    "r2_test = r2_score(y_test, y_test_pred)\n",
    "\n",
    "# Print the metrics\n",
    "print(\"Training Set Mean Squared Error:\", mse_train)\n",
    "print(\"Test Set Mean Squared Error:\", mse_test)\n",
    "print(\"Training Set R² Score:\", r2_train)\n",
    "print(\"Test Set R² Score:\", r2_test)\n",
    "print(\"------------------------------------------\")\n",
    "# Check for overfitting or underfitting\n",
    "if mse_train < mse_test or r2_train > r2_test:\n",
    "    if abs(r2_train - r2_test) > 0.1:\n",
    "        print(\"Model may be overfitting to the training data.\")\n",
    "    else:\n",
    "        print(\"Model performs reasonably well but check for slight overfitting.\")\n",
    "elif mse_train > mse_test and r2_train < r2_test:\n",
    "    print(\"Model may be underfitting, consider increasing model complexity.\")\n",
    "else:\n",
    "    print(\"Model has a balanced fit on both training and testing datasets.\")"
   ]
  },
  {
   "cell_type": "markdown",
   "metadata": {
    "id": "6N8N6040zURj"
   },
   "source": [
    "**Observation**\n",
    "\n",
    " Mean Squared Error (MSE) and R-squared (R²) values are calculated for both training and test datasets.\n",
    "\n",
    " - MSE measures the average of the squares of the errors, that is, the average squared difference between the estimated values and the actual value.\n",
    " - R² provides an indication of goodness of fit and therefore a measure of how well unseen samples are likely to be predicted by the model\n",
    "\n",
    "Overfitting: The model performs well on the training data but poorly on the test data (higher R² on training or lower MSE on training compared to testing).\n",
    "\n",
    "Underfitting: The model performs poorly on both training and test data, or better on the test data compared to the training data, which could suggest that the model is too simple.\n",
    "\n",
    "We'll discuss more about MSE, R² and various other performance metrices, further in the lesson"
   ]
  },
  {
   "cell_type": "markdown",
   "metadata": {
    "id": "RWwi08i0xCuS"
   },
   "source": [
    "## __3.6 Non-linear Regression__"
   ]
  },
  {
   "cell_type": "markdown",
   "metadata": {
    "id": "jZKRnKq_xCuS"
   },
   "source": [
    "### __3.6.1 Polynomial Regression__"
   ]
  },
  {
   "cell_type": "markdown",
   "metadata": {
    "id": "gjq3Bc_8xCuS"
   },
   "source": [
    "**Polynomial Regression** is a subset of linear regression that includes polynomial terms.\n",
    "The relationship between an independent variable (x) and a dependent variable (y) is modeled as an nth-degree polynomial.\n",
    "\n"
   ]
  },
  {
   "cell_type": "markdown",
   "metadata": {
    "id": "Y6tR57ZOxCuS"
   },
   "source": [
    "![link text](https://labcontent.simplicdn.net/data-content/content-assets/Data_and_AI/ML/updated/Lesson_04/Polynomial.png)"
   ]
  },
  {
   "cell_type": "markdown",
   "metadata": {
    "id": "JiRBPynpxCuS"
   },
   "source": [
    "- Polynomial regression is also called as the special case of multiple linear regression. Some polynomial terms are added to the multiple linear regression equation to convert into polynomial regression.\n",
    "- It is a linear model with some modifications made to increase its accuracy.\n",
    "- The dataset used in polynomial regression for training is non-linear."
   ]
  },
  {
   "cell_type": "markdown",
   "metadata": {
    "id": "dQHi9YvxxCuS"
   },
   "source": [
    "![link text](https://labcontent.simplicdn.net/data-content/content-assets/Data_and_AI/ML/Lesson04_Regression/updates/linear__regression.png)"
   ]
  },
  {
   "cell_type": "markdown",
   "metadata": {
    "id": "LIq_xS19xCuS"
   },
   "source": [
    "- From the above figure, it is seen that the straight line is unable to capture the patterns in the given data.\n",
    "- To achieve a higher-order equation that captures complex data patterns, the powers of the original features can be added as new features.\n"
   ]
  },
  {
   "cell_type": "markdown",
   "metadata": {
    "id": "qFiWscBjxCuT"
   },
   "source": [
    "The following graph is the result after applying polynomial regression:"
   ]
  },
  {
   "cell_type": "markdown",
   "metadata": {
    "id": "MQv-V_SzxCuT"
   },
   "source": [
    "![link text](https://labcontent.simplicdn.net/data-content/content-assets/Data_and_AI/ML/Lesson04_Regression/updates/polynomial__regression.png)"
   ]
  },
  {
   "cell_type": "markdown",
   "metadata": {
    "id": "o-lXDdjNxCuT"
   },
   "source": [
    "- It provides the best approximation of the relationship between a dependent and an independent variable.\n",
    "- It captures most data points and decreases the error between the actual and the predicted values."
   ]
  },
  {
   "cell_type": "markdown",
   "metadata": {
    "id": "3u5dFFtixCuT"
   },
   "source": [
    "### Let us see how to fit polynomial regression on a dataset."
   ]
  },
  {
   "cell_type": "markdown",
   "metadata": {
    "id": "hZNnJhC6xCuT"
   },
   "source": [
    "\n",
    "- First, import the relevant libraries.\n",
    "- Next, assign the **PolynomialFeatures** of degree 4 to the variable **poly_features**.\n",
    "- Fit the values of X_test and X_train  and assign them to the variable **X_test_poly** and **X_train_poly**.\n",
    "- Finally, get the linear regression function and assign it to the variable **pol_features**.\n",
    "- Dataset used for this exercise is `tvmarketing.csv`"
   ]
  },
  {
   "cell_type": "code",
   "execution_count": 13,
   "metadata": {
    "id": "_xSmJ4xDxCuT"
   },
   "outputs": [],
   "source": [
    "# Import the PolynomialFeatures class from scikit-learn's preprocessing module\n",
    "from sklearn.preprocessing import PolynomialFeatures"
   ]
  },
  {
   "cell_type": "markdown",
   "metadata": {
    "id": "s6fQilsexCuU"
   },
   "source": [
    "- Perform train-test split."
   ]
  },
  {
   "cell_type": "code",
   "execution_count": 14,
   "metadata": {
    "id": "xdi9cO-0xCuU"
   },
   "outputs": [],
   "source": [
    "X_train, X_test, y_train, y_test = train_test_split(X, y, test_size=0.2, random_state=0)"
   ]
  },
  {
   "cell_type": "markdown",
   "metadata": {
    "id": "BLDVaHgVxCuU"
   },
   "source": [
    "Fit the X_train_poly and y_train in the model."
   ]
  },
  {
   "cell_type": "code",
   "execution_count": 15,
   "metadata": {
    "colab": {
     "base_uri": "https://localhost:8080/",
     "height": 75
    },
    "id": "9FXh8_PvxCuU",
    "outputId": "bb16d860-bc2d-4039-acd2-f9d6905cda1a"
   },
   "outputs": [
    {
     "data": {
      "text/html": [
       "<style>#sk-container-id-2 {\n",
       "  /* Definition of color scheme common for light and dark mode */\n",
       "  --sklearn-color-text: #000;\n",
       "  --sklearn-color-text-muted: #666;\n",
       "  --sklearn-color-line: gray;\n",
       "  /* Definition of color scheme for unfitted estimators */\n",
       "  --sklearn-color-unfitted-level-0: #fff5e6;\n",
       "  --sklearn-color-unfitted-level-1: #f6e4d2;\n",
       "  --sklearn-color-unfitted-level-2: #ffe0b3;\n",
       "  --sklearn-color-unfitted-level-3: chocolate;\n",
       "  /* Definition of color scheme for fitted estimators */\n",
       "  --sklearn-color-fitted-level-0: #f0f8ff;\n",
       "  --sklearn-color-fitted-level-1: #d4ebff;\n",
       "  --sklearn-color-fitted-level-2: #b3dbfd;\n",
       "  --sklearn-color-fitted-level-3: cornflowerblue;\n",
       "\n",
       "  /* Specific color for light theme */\n",
       "  --sklearn-color-text-on-default-background: var(--sg-text-color, var(--theme-code-foreground, var(--jp-content-font-color1, black)));\n",
       "  --sklearn-color-background: var(--sg-background-color, var(--theme-background, var(--jp-layout-color0, white)));\n",
       "  --sklearn-color-border-box: var(--sg-text-color, var(--theme-code-foreground, var(--jp-content-font-color1, black)));\n",
       "  --sklearn-color-icon: #696969;\n",
       "\n",
       "  @media (prefers-color-scheme: dark) {\n",
       "    /* Redefinition of color scheme for dark theme */\n",
       "    --sklearn-color-text-on-default-background: var(--sg-text-color, var(--theme-code-foreground, var(--jp-content-font-color1, white)));\n",
       "    --sklearn-color-background: var(--sg-background-color, var(--theme-background, var(--jp-layout-color0, #111)));\n",
       "    --sklearn-color-border-box: var(--sg-text-color, var(--theme-code-foreground, var(--jp-content-font-color1, white)));\n",
       "    --sklearn-color-icon: #878787;\n",
       "  }\n",
       "}\n",
       "\n",
       "#sk-container-id-2 {\n",
       "  color: var(--sklearn-color-text);\n",
       "}\n",
       "\n",
       "#sk-container-id-2 pre {\n",
       "  padding: 0;\n",
       "}\n",
       "\n",
       "#sk-container-id-2 input.sk-hidden--visually {\n",
       "  border: 0;\n",
       "  clip: rect(1px 1px 1px 1px);\n",
       "  clip: rect(1px, 1px, 1px, 1px);\n",
       "  height: 1px;\n",
       "  margin: -1px;\n",
       "  overflow: hidden;\n",
       "  padding: 0;\n",
       "  position: absolute;\n",
       "  width: 1px;\n",
       "}\n",
       "\n",
       "#sk-container-id-2 div.sk-dashed-wrapped {\n",
       "  border: 1px dashed var(--sklearn-color-line);\n",
       "  margin: 0 0.4em 0.5em 0.4em;\n",
       "  box-sizing: border-box;\n",
       "  padding-bottom: 0.4em;\n",
       "  background-color: var(--sklearn-color-background);\n",
       "}\n",
       "\n",
       "#sk-container-id-2 div.sk-container {\n",
       "  /* jupyter's `normalize.less` sets `[hidden] { display: none; }`\n",
       "     but bootstrap.min.css set `[hidden] { display: none !important; }`\n",
       "     so we also need the `!important` here to be able to override the\n",
       "     default hidden behavior on the sphinx rendered scikit-learn.org.\n",
       "     See: https://github.com/scikit-learn/scikit-learn/issues/21755 */\n",
       "  display: inline-block !important;\n",
       "  position: relative;\n",
       "}\n",
       "\n",
       "#sk-container-id-2 div.sk-text-repr-fallback {\n",
       "  display: none;\n",
       "}\n",
       "\n",
       "div.sk-parallel-item,\n",
       "div.sk-serial,\n",
       "div.sk-item {\n",
       "  /* draw centered vertical line to link estimators */\n",
       "  background-image: linear-gradient(var(--sklearn-color-text-on-default-background), var(--sklearn-color-text-on-default-background));\n",
       "  background-size: 2px 100%;\n",
       "  background-repeat: no-repeat;\n",
       "  background-position: center center;\n",
       "}\n",
       "\n",
       "/* Parallel-specific style estimator block */\n",
       "\n",
       "#sk-container-id-2 div.sk-parallel-item::after {\n",
       "  content: \"\";\n",
       "  width: 100%;\n",
       "  border-bottom: 2px solid var(--sklearn-color-text-on-default-background);\n",
       "  flex-grow: 1;\n",
       "}\n",
       "\n",
       "#sk-container-id-2 div.sk-parallel {\n",
       "  display: flex;\n",
       "  align-items: stretch;\n",
       "  justify-content: center;\n",
       "  background-color: var(--sklearn-color-background);\n",
       "  position: relative;\n",
       "}\n",
       "\n",
       "#sk-container-id-2 div.sk-parallel-item {\n",
       "  display: flex;\n",
       "  flex-direction: column;\n",
       "}\n",
       "\n",
       "#sk-container-id-2 div.sk-parallel-item:first-child::after {\n",
       "  align-self: flex-end;\n",
       "  width: 50%;\n",
       "}\n",
       "\n",
       "#sk-container-id-2 div.sk-parallel-item:last-child::after {\n",
       "  align-self: flex-start;\n",
       "  width: 50%;\n",
       "}\n",
       "\n",
       "#sk-container-id-2 div.sk-parallel-item:only-child::after {\n",
       "  width: 0;\n",
       "}\n",
       "\n",
       "/* Serial-specific style estimator block */\n",
       "\n",
       "#sk-container-id-2 div.sk-serial {\n",
       "  display: flex;\n",
       "  flex-direction: column;\n",
       "  align-items: center;\n",
       "  background-color: var(--sklearn-color-background);\n",
       "  padding-right: 1em;\n",
       "  padding-left: 1em;\n",
       "}\n",
       "\n",
       "\n",
       "/* Toggleable style: style used for estimator/Pipeline/ColumnTransformer box that is\n",
       "clickable and can be expanded/collapsed.\n",
       "- Pipeline and ColumnTransformer use this feature and define the default style\n",
       "- Estimators will overwrite some part of the style using the `sk-estimator` class\n",
       "*/\n",
       "\n",
       "/* Pipeline and ColumnTransformer style (default) */\n",
       "\n",
       "#sk-container-id-2 div.sk-toggleable {\n",
       "  /* Default theme specific background. It is overwritten whether we have a\n",
       "  specific estimator or a Pipeline/ColumnTransformer */\n",
       "  background-color: var(--sklearn-color-background);\n",
       "}\n",
       "\n",
       "/* Toggleable label */\n",
       "#sk-container-id-2 label.sk-toggleable__label {\n",
       "  cursor: pointer;\n",
       "  display: flex;\n",
       "  width: 100%;\n",
       "  margin-bottom: 0;\n",
       "  padding: 0.5em;\n",
       "  box-sizing: border-box;\n",
       "  text-align: center;\n",
       "  align-items: start;\n",
       "  justify-content: space-between;\n",
       "  gap: 0.5em;\n",
       "}\n",
       "\n",
       "#sk-container-id-2 label.sk-toggleable__label .caption {\n",
       "  font-size: 0.6rem;\n",
       "  font-weight: lighter;\n",
       "  color: var(--sklearn-color-text-muted);\n",
       "}\n",
       "\n",
       "#sk-container-id-2 label.sk-toggleable__label-arrow:before {\n",
       "  /* Arrow on the left of the label */\n",
       "  content: \"▸\";\n",
       "  float: left;\n",
       "  margin-right: 0.25em;\n",
       "  color: var(--sklearn-color-icon);\n",
       "}\n",
       "\n",
       "#sk-container-id-2 label.sk-toggleable__label-arrow:hover:before {\n",
       "  color: var(--sklearn-color-text);\n",
       "}\n",
       "\n",
       "/* Toggleable content - dropdown */\n",
       "\n",
       "#sk-container-id-2 div.sk-toggleable__content {\n",
       "  max-height: 0;\n",
       "  max-width: 0;\n",
       "  overflow: hidden;\n",
       "  text-align: left;\n",
       "  /* unfitted */\n",
       "  background-color: var(--sklearn-color-unfitted-level-0);\n",
       "}\n",
       "\n",
       "#sk-container-id-2 div.sk-toggleable__content.fitted {\n",
       "  /* fitted */\n",
       "  background-color: var(--sklearn-color-fitted-level-0);\n",
       "}\n",
       "\n",
       "#sk-container-id-2 div.sk-toggleable__content pre {\n",
       "  margin: 0.2em;\n",
       "  border-radius: 0.25em;\n",
       "  color: var(--sklearn-color-text);\n",
       "  /* unfitted */\n",
       "  background-color: var(--sklearn-color-unfitted-level-0);\n",
       "}\n",
       "\n",
       "#sk-container-id-2 div.sk-toggleable__content.fitted pre {\n",
       "  /* unfitted */\n",
       "  background-color: var(--sklearn-color-fitted-level-0);\n",
       "}\n",
       "\n",
       "#sk-container-id-2 input.sk-toggleable__control:checked~div.sk-toggleable__content {\n",
       "  /* Expand drop-down */\n",
       "  max-height: 200px;\n",
       "  max-width: 100%;\n",
       "  overflow: auto;\n",
       "}\n",
       "\n",
       "#sk-container-id-2 input.sk-toggleable__control:checked~label.sk-toggleable__label-arrow:before {\n",
       "  content: \"▾\";\n",
       "}\n",
       "\n",
       "/* Pipeline/ColumnTransformer-specific style */\n",
       "\n",
       "#sk-container-id-2 div.sk-label input.sk-toggleable__control:checked~label.sk-toggleable__label {\n",
       "  color: var(--sklearn-color-text);\n",
       "  background-color: var(--sklearn-color-unfitted-level-2);\n",
       "}\n",
       "\n",
       "#sk-container-id-2 div.sk-label.fitted input.sk-toggleable__control:checked~label.sk-toggleable__label {\n",
       "  background-color: var(--sklearn-color-fitted-level-2);\n",
       "}\n",
       "\n",
       "/* Estimator-specific style */\n",
       "\n",
       "/* Colorize estimator box */\n",
       "#sk-container-id-2 div.sk-estimator input.sk-toggleable__control:checked~label.sk-toggleable__label {\n",
       "  /* unfitted */\n",
       "  background-color: var(--sklearn-color-unfitted-level-2);\n",
       "}\n",
       "\n",
       "#sk-container-id-2 div.sk-estimator.fitted input.sk-toggleable__control:checked~label.sk-toggleable__label {\n",
       "  /* fitted */\n",
       "  background-color: var(--sklearn-color-fitted-level-2);\n",
       "}\n",
       "\n",
       "#sk-container-id-2 div.sk-label label.sk-toggleable__label,\n",
       "#sk-container-id-2 div.sk-label label {\n",
       "  /* The background is the default theme color */\n",
       "  color: var(--sklearn-color-text-on-default-background);\n",
       "}\n",
       "\n",
       "/* On hover, darken the color of the background */\n",
       "#sk-container-id-2 div.sk-label:hover label.sk-toggleable__label {\n",
       "  color: var(--sklearn-color-text);\n",
       "  background-color: var(--sklearn-color-unfitted-level-2);\n",
       "}\n",
       "\n",
       "/* Label box, darken color on hover, fitted */\n",
       "#sk-container-id-2 div.sk-label.fitted:hover label.sk-toggleable__label.fitted {\n",
       "  color: var(--sklearn-color-text);\n",
       "  background-color: var(--sklearn-color-fitted-level-2);\n",
       "}\n",
       "\n",
       "/* Estimator label */\n",
       "\n",
       "#sk-container-id-2 div.sk-label label {\n",
       "  font-family: monospace;\n",
       "  font-weight: bold;\n",
       "  display: inline-block;\n",
       "  line-height: 1.2em;\n",
       "}\n",
       "\n",
       "#sk-container-id-2 div.sk-label-container {\n",
       "  text-align: center;\n",
       "}\n",
       "\n",
       "/* Estimator-specific */\n",
       "#sk-container-id-2 div.sk-estimator {\n",
       "  font-family: monospace;\n",
       "  border: 1px dotted var(--sklearn-color-border-box);\n",
       "  border-radius: 0.25em;\n",
       "  box-sizing: border-box;\n",
       "  margin-bottom: 0.5em;\n",
       "  /* unfitted */\n",
       "  background-color: var(--sklearn-color-unfitted-level-0);\n",
       "}\n",
       "\n",
       "#sk-container-id-2 div.sk-estimator.fitted {\n",
       "  /* fitted */\n",
       "  background-color: var(--sklearn-color-fitted-level-0);\n",
       "}\n",
       "\n",
       "/* on hover */\n",
       "#sk-container-id-2 div.sk-estimator:hover {\n",
       "  /* unfitted */\n",
       "  background-color: var(--sklearn-color-unfitted-level-2);\n",
       "}\n",
       "\n",
       "#sk-container-id-2 div.sk-estimator.fitted:hover {\n",
       "  /* fitted */\n",
       "  background-color: var(--sklearn-color-fitted-level-2);\n",
       "}\n",
       "\n",
       "/* Specification for estimator info (e.g. \"i\" and \"?\") */\n",
       "\n",
       "/* Common style for \"i\" and \"?\" */\n",
       "\n",
       ".sk-estimator-doc-link,\n",
       "a:link.sk-estimator-doc-link,\n",
       "a:visited.sk-estimator-doc-link {\n",
       "  float: right;\n",
       "  font-size: smaller;\n",
       "  line-height: 1em;\n",
       "  font-family: monospace;\n",
       "  background-color: var(--sklearn-color-background);\n",
       "  border-radius: 1em;\n",
       "  height: 1em;\n",
       "  width: 1em;\n",
       "  text-decoration: none !important;\n",
       "  margin-left: 0.5em;\n",
       "  text-align: center;\n",
       "  /* unfitted */\n",
       "  border: var(--sklearn-color-unfitted-level-1) 1pt solid;\n",
       "  color: var(--sklearn-color-unfitted-level-1);\n",
       "}\n",
       "\n",
       ".sk-estimator-doc-link.fitted,\n",
       "a:link.sk-estimator-doc-link.fitted,\n",
       "a:visited.sk-estimator-doc-link.fitted {\n",
       "  /* fitted */\n",
       "  border: var(--sklearn-color-fitted-level-1) 1pt solid;\n",
       "  color: var(--sklearn-color-fitted-level-1);\n",
       "}\n",
       "\n",
       "/* On hover */\n",
       "div.sk-estimator:hover .sk-estimator-doc-link:hover,\n",
       ".sk-estimator-doc-link:hover,\n",
       "div.sk-label-container:hover .sk-estimator-doc-link:hover,\n",
       ".sk-estimator-doc-link:hover {\n",
       "  /* unfitted */\n",
       "  background-color: var(--sklearn-color-unfitted-level-3);\n",
       "  color: var(--sklearn-color-background);\n",
       "  text-decoration: none;\n",
       "}\n",
       "\n",
       "div.sk-estimator.fitted:hover .sk-estimator-doc-link.fitted:hover,\n",
       ".sk-estimator-doc-link.fitted:hover,\n",
       "div.sk-label-container:hover .sk-estimator-doc-link.fitted:hover,\n",
       ".sk-estimator-doc-link.fitted:hover {\n",
       "  /* fitted */\n",
       "  background-color: var(--sklearn-color-fitted-level-3);\n",
       "  color: var(--sklearn-color-background);\n",
       "  text-decoration: none;\n",
       "}\n",
       "\n",
       "/* Span, style for the box shown on hovering the info icon */\n",
       ".sk-estimator-doc-link span {\n",
       "  display: none;\n",
       "  z-index: 9999;\n",
       "  position: relative;\n",
       "  font-weight: normal;\n",
       "  right: .2ex;\n",
       "  padding: .5ex;\n",
       "  margin: .5ex;\n",
       "  width: min-content;\n",
       "  min-width: 20ex;\n",
       "  max-width: 50ex;\n",
       "  color: var(--sklearn-color-text);\n",
       "  box-shadow: 2pt 2pt 4pt #999;\n",
       "  /* unfitted */\n",
       "  background: var(--sklearn-color-unfitted-level-0);\n",
       "  border: .5pt solid var(--sklearn-color-unfitted-level-3);\n",
       "}\n",
       "\n",
       ".sk-estimator-doc-link.fitted span {\n",
       "  /* fitted */\n",
       "  background: var(--sklearn-color-fitted-level-0);\n",
       "  border: var(--sklearn-color-fitted-level-3);\n",
       "}\n",
       "\n",
       ".sk-estimator-doc-link:hover span {\n",
       "  display: block;\n",
       "}\n",
       "\n",
       "/* \"?\"-specific style due to the `<a>` HTML tag */\n",
       "\n",
       "#sk-container-id-2 a.estimator_doc_link {\n",
       "  float: right;\n",
       "  font-size: 1rem;\n",
       "  line-height: 1em;\n",
       "  font-family: monospace;\n",
       "  background-color: var(--sklearn-color-background);\n",
       "  border-radius: 1rem;\n",
       "  height: 1rem;\n",
       "  width: 1rem;\n",
       "  text-decoration: none;\n",
       "  /* unfitted */\n",
       "  color: var(--sklearn-color-unfitted-level-1);\n",
       "  border: var(--sklearn-color-unfitted-level-1) 1pt solid;\n",
       "}\n",
       "\n",
       "#sk-container-id-2 a.estimator_doc_link.fitted {\n",
       "  /* fitted */\n",
       "  border: var(--sklearn-color-fitted-level-1) 1pt solid;\n",
       "  color: var(--sklearn-color-fitted-level-1);\n",
       "}\n",
       "\n",
       "/* On hover */\n",
       "#sk-container-id-2 a.estimator_doc_link:hover {\n",
       "  /* unfitted */\n",
       "  background-color: var(--sklearn-color-unfitted-level-3);\n",
       "  color: var(--sklearn-color-background);\n",
       "  text-decoration: none;\n",
       "}\n",
       "\n",
       "#sk-container-id-2 a.estimator_doc_link.fitted:hover {\n",
       "  /* fitted */\n",
       "  background-color: var(--sklearn-color-fitted-level-3);\n",
       "}\n",
       "</style><div id=\"sk-container-id-2\" class=\"sk-top-container\"><div class=\"sk-text-repr-fallback\"><pre>LinearRegression()</pre><b>In a Jupyter environment, please rerun this cell to show the HTML representation or trust the notebook. <br />On GitHub, the HTML representation is unable to render, please try loading this page with nbviewer.org.</b></div><div class=\"sk-container\" hidden><div class=\"sk-item\"><div class=\"sk-estimator fitted sk-toggleable\"><input class=\"sk-toggleable__control sk-hidden--visually\" id=\"sk-estimator-id-2\" type=\"checkbox\" checked><label for=\"sk-estimator-id-2\" class=\"sk-toggleable__label fitted sk-toggleable__label-arrow\"><div><div>LinearRegression</div></div><div><a class=\"sk-estimator-doc-link fitted\" rel=\"noreferrer\" target=\"_blank\" href=\"https://scikit-learn.org/1.6/modules/generated/sklearn.linear_model.LinearRegression.html\">?<span>Documentation for LinearRegression</span></a><span class=\"sk-estimator-doc-link fitted\">i<span>Fitted</span></span></div></label><div class=\"sk-toggleable__content fitted\"><pre>LinearRegression()</pre></div> </div></div></div></div>"
      ],
      "text/plain": [
       "LinearRegression()"
      ]
     },
     "execution_count": 15,
     "metadata": {},
     "output_type": "execute_result"
    }
   ],
   "source": [
    "poly_features = PolynomialFeatures(degree=4)\n",
    "X_train_poly = poly_features.fit_transform(X_train)\n",
    "X_test_poly = poly_features.transform(X_test)\n",
    "\n",
    "poly_model = LinearRegression()\n",
    "poly_model.fit(X_train_poly, y_train)"
   ]
  },
  {
   "cell_type": "markdown",
   "metadata": {
    "id": "NSZr2x0-wZee"
   },
   "source": [
    "1. **Create Polynomial Features:** The PolynomialFeatures transformer is configured to generate polynomial features up to the 4th degree.\n",
    "\n",
    "2. **Transform Training Data:** fit_transform is used on X_train to generate a new feature set that includes polynomial features and interactions.\n",
    "\n",
    "3. **Transform Test Data:** transform (corrected from fit_transform) is used on X_test to apply the same transformation derived from X_train.\n",
    "\n",
    "4. **Train the Model:** The linear regression model is trained using the transformed training data (X_train_poly) and the target values (y_train)."
   ]
  },
  {
   "cell_type": "markdown",
   "metadata": {
    "id": "s2yDDA-fxCuV"
   },
   "source": [
    "__Observation:__\n",
    "- You have fitted the polynomial regression on the given data."
   ]
  },
  {
   "cell_type": "markdown",
   "metadata": {
    "id": "cWEGTSvIxCuV"
   },
   "source": [
    "Predict the values using the model."
   ]
  },
  {
   "cell_type": "code",
   "execution_count": 16,
   "metadata": {
    "id": "SM7YtyAtxCuV"
   },
   "outputs": [],
   "source": [
    "# Predict on the testing set\n",
    "y_train_pred = poly_model.predict(X_train_poly)\n",
    "y_test_pred = poly_model.predict(X_test_poly)"
   ]
  },
  {
   "cell_type": "markdown",
   "metadata": {
    "id": "FxyoWTbIxCuV"
   },
   "source": [
    "- Create a variable **X_range** to create a continuous range of values for the independent variable (X) that spans from the minimum to the maximum values found in both the training and test datasets. This range is used to generate smooth predictions for plotting the polynomial regression curve.\n",
    "\n"
   ]
  },
  {
   "cell_type": "code",
   "execution_count": 17,
   "metadata": {
    "id": "zuEdLmXRxCuV"
   },
   "outputs": [],
   "source": [
    "X_range = np.arange(min(np.min(X_train), np.min(X_test)), max(np.max(X_train), np.max(X_test)), 0.1)\n",
    "X_range = X_range.reshape((len(X_range), 1))"
   ]
  },
  {
   "cell_type": "code",
   "execution_count": 18,
   "metadata": {
    "colab": {
     "base_uri": "https://localhost:8080/",
     "height": 472
    },
    "id": "D6H93lr6xCuV",
    "outputId": "dee31807-9127-4a68-e52a-44a96286e2d1"
   },
   "outputs": [
    {
     "data": {
      "image/png": "[encoded data removed]",
      "text/plain": [
       "<Figure size 640x480 with 1 Axes>"
      ]
     },
     "metadata": {},
     "output_type": "display_data"
    }
   ],
   "source": [
    "#Plot the results\n",
    "plt.scatter(X_test, y_test, s=10, label='Testing Data', color='green')\n",
    "plt.plot(X_range, poly_model.predict(poly_features.transform(X_range)),color='red')\n",
    "plt.xlabel('Independent Variable')\n",
    "plt.ylabel('Dependent Variable')\n",
    "plt.title('Polynomial Regression with Train-Test Split')\n",
    "plt.legend()\n",
    "plt.show()"
   ]
  },
  {
   "cell_type": "markdown",
   "metadata": {
    "id": "vpP5WF3MxCuV"
   },
   "source": [
    "- Now, call the function to get the scatter plot with a blue line showing how the line fits the given data points."
   ]
  },
  {
   "cell_type": "markdown",
   "metadata": {
    "id": "5B97xf9nxCuV"
   },
   "source": [
    "__Observation:__\n",
    "\n",
    "- As you can see, the regression line is able to fit majority of the data points.\n",
    "- You can infer from the above implementation that non-linear inputs require non-linear models, such as the polynomial model."
   ]
  },
  {
   "cell_type": "markdown",
   "metadata": {
    "id": "J52SfT_C8J_b"
   },
   "source": [
    "## __3.7 Model Evaluation and Validation__"
   ]
  },
  {
   "cell_type": "markdown",
   "metadata": {
    "id": "L1BRELYW_yxO"
   },
   "source": [
    "### **3.7.1 Performance Metrics**"
   ]
  },
  {
   "cell_type": "markdown",
   "metadata": {
    "id": "w3n6tcu5_yxO"
   },
   "source": [
    "- Evaluation metrics help in regression analysis as they provide quantitative measures of model performance, aiding in the assessment and selection of regression models.\n"
   ]
  },
  {
   "cell_type": "markdown",
   "metadata": {
    "id": "RvZrTuXB_yxO"
   },
   "source": [
    "In regression analysis, several evaluation metrics are commonly used to assess the performance of a regression model. Some of the key evaluation metrics include:"
   ]
  },
  {
   "cell_type": "markdown",
   "metadata": {
    "id": "AEh46Ts9RTIP"
   },
   "source": [
    "#### **1. Mean Squared Error (MSE):**\n"
   ]
  },
  {
   "cell_type": "markdown",
   "metadata": {
    "id": "XKeXf4e2_yxO"
   },
   "source": [
    "\n",
    "It calculates the average of the squares of the errors, which are the differences between the actual and predicted values. A lower MSE indicates better model performance.\n",
    "\n"
   ]
  },
  {
   "cell_type": "markdown",
   "metadata": {
    "id": "Wt9YDaAuReJz"
   },
   "source": [
    "#### **2. Root Mean Squared Error (RMSE):**"
   ]
  },
  {
   "cell_type": "markdown",
   "metadata": {
    "id": "9j7-dVfuQ21e"
   },
   "source": [
    "\n",
    "RMSE is the square root of the MSE, providing a measure of the average magnitude of the errors in the predicted values. Since the square root reverses the squaring operation of MSE, RMSE ends up having the same units as the original dependent variable, making it easier to interpret than MSE\n",
    "\n"
   ]
  },
  {
   "cell_type": "markdown",
   "metadata": {
    "id": "iCl6qw42RNGF"
   },
   "source": [
    "#### **3.  Mean Absolute Error (MAE):**"
   ]
  },
  {
   "cell_type": "markdown",
   "metadata": {
    "id": "RPXjQ-xgQ8hf"
   },
   "source": [
    "\n",
    "MAE calculates the average of the absolute errors between the actual and predicted values. It's less sensitive to outliers compared to MSE and RMSE.\n"
   ]
  },
  {
   "cell_type": "markdown",
   "metadata": {
    "id": "hc7exP-tRIxO"
   },
   "source": [
    "#### **4.  R-squared (R2):**"
   ]
  },
  {
   "cell_type": "markdown",
   "metadata": {
    "id": "nrXe7NhWRFXt"
   },
   "source": [
    "\n",
    "R-squared explains how much of the variation in the dependent variable(y) can be attributed to the changes in the independent variable(x). R-squared values range from 0 to 1.\n",
    "\n",
    "* **0**: This indicates that the model explains none of the variance in the dependent variable. The independent variables have no explanatory power for the changes in y.\n",
    "\n",
    "* **1**: This represents a perfect fit. The model explains all of the variance in the dependent variable. The changes in y are perfectly captured by the changes in X.\n",
    "\n",
    "While a higher R-squared generally suggests a better model fit, it's not the only factor to consider. A very high R-squared might be achieved by a model that's simply overfitting the data"
   ]
  },
  {
   "cell_type": "markdown",
   "metadata": {
    "id": "w6mx4Dpg6m3q"
   },
   "source": [
    "### __3.7.2 Cross Validation Techniques__"
   ]
  },
  {
   "cell_type": "markdown",
   "metadata": {
    "id": "JhZQnXbO68iX"
   },
   "source": [
    "Cross-validation is a machine learning technique that evaluates model performance on unseen data by dividing the data into multiple folds. In each iteration, one fold is used as a validation set and the remaining as training data. This process is repeated such that each fold serves as the validation set once. The results from all iterations are averaged to provide a robust estimate of model performance. Some of the common cross-validation techniques are:\n",
    "\n",
    "\n",
    "\n"
   ]
  },
  {
   "cell_type": "markdown",
   "metadata": {
    "id": "7rVJTxNaB49j"
   },
   "source": [
    "**1. K-Fold Cross-Validation**\n",
    "\n",
    "In K-Fold Cross validation, the dataset is divided into k equally sized folds. The model is trained on k-1 folds and tested on the remaining fold. This process is repeated k times, with each fold used exactly once as the test set. The results are averaged to produce a single performance estimate.\n",
    "* Pros: Provides a more accurate estimate of model performance.\n",
    "* Cons: Computationally intensive for large datasets.\n",
    "\n"
   ]
  },
  {
   "cell_type": "markdown",
   "metadata": {
    "id": "b_PhSCAdCFUa"
   },
   "source": [
    "**2. Stratified K-Fold Cross-Validation**\n",
    "\n",
    "Similar to K-Fold but ensures that each fold has the same proportion of different classes as the original dataset. This is especially useful for imbalanced datasets.\n",
    "* Pros: More reliable performance estimates for imbalanced datasets.\n",
    "* Cons: Still computationally intensive.\n",
    "\n"
   ]
  },
  {
   "cell_type": "markdown",
   "metadata": {
    "id": "VhWbSRE1IPAQ"
   },
   "source": [
    "**3. Holdout Method**\n",
    "\n",
    "In holdout method, the dataset is divided into two sets, a training set and a test set. The model is trained on the training set and evaluated on the test set.\n",
    "\n",
    "* Pros: Simple and fast.\n",
    "* Cons: The evaluation may be noisy due to the variability in the training/test split.\n"
   ]
  },
  {
   "cell_type": "markdown",
   "metadata": {
    "id": "ZEPaQtIICHpx"
   },
   "source": [
    "**4. Leave-One-Out Cross-Validation (LOOCV)**\n",
    "\n",
    "A special case of k-fold cross-validation where k is equal to the number of data points in the dataset. Each observation is used once as a test set, and the model is trained on all remaining data points.\n",
    "* Pros: Maximizes the amount of training data used.\n",
    "* Cons: Extremely computationally expensive, especially for large datasets."
   ]
  },
  {
   "cell_type": "markdown",
   "metadata": {
    "id": "goSOP67bDLtZ"
   },
   "source": [
    "**Now, let's build a linear regression model, perform analysis on it, and evaluate the model's performance:**"
   ]
  },
  {
   "cell_type": "markdown",
   "metadata": {
    "id": "6ehPljYr3KaP"
   },
   "source": [
    "#### Step 1: Set up and Data Loading\n",
    "- Import the necessary libraries: numpy, pandas, matplotlib.pyplot from sklearn.datasets.\n",
    "- Load the housing dataset."
   ]
  },
  {
   "cell_type": "code",
   "execution_count": 19,
   "metadata": {
    "id": "THDdUArEDNEW"
   },
   "outputs": [],
   "source": [
    "# Import necessary libraries\n",
    "import pandas as pd\n",
    "import matplotlib.pyplot as plt\n",
    "from sklearn.model_selection import train_test_split, cross_val_score\n",
    "from sklearn.model_selection import KFold, StratifiedKFold, LeaveOneOut\n",
    "from sklearn.linear_model import LinearRegression\n",
    "from sklearn.metrics import mean_squared_error, mean_absolute_error, r2_score\n",
    "import numpy as np\n"
   ]
  },
  {
   "cell_type": "markdown",
   "metadata": {
    "id": "SDJpo4KwBfef"
   },
   "source": [
    "#### Step 2: Initial Data Exploration\n",
    "- Explore the first few rows, generate statistical summaries, and check for missing values using __.head()__, __.describe()__, and __.isna().sum()__."
   ]
  },
  {
   "cell_type": "code",
   "execution_count": 20,
   "metadata": {
    "id": "v5SFZvXEBfei"
   },
   "outputs": [
    {
     "ename": "FileNotFoundError",
     "evalue": "[Errno 2] No such file or directory: 'housing.xlsx'",
     "output_type": "error",
     "traceback": [
      "\u001b[1;31m---------------------------------------------------------------------------\u001b[0m",
      "\u001b[1;31mFileNotFoundError\u001b[0m                         Traceback (most recent call last)",
      "Cell \u001b[1;32mIn[20], line 2\u001b[0m\n\u001b[0;32m      1\u001b[0m \u001b[38;5;66;03m# Load the dataset\u001b[39;00m\n\u001b[1;32m----> 2\u001b[0m housing_data \u001b[38;5;241m=\u001b[39m pd\u001b[38;5;241m.\u001b[39mread_excel(\u001b[38;5;124m'\u001b[39m\u001b[38;5;124mhousing.xlsx\u001b[39m\u001b[38;5;124m'\u001b[39m)\n",
      "File \u001b[1;32m~\\anaconda3\\envs\\JupyterNotebook-IntWebAppEnv\\Lib\\site-packages\\pandas\\io\\excel\\_base.py:495\u001b[0m, in \u001b[0;36mread_excel\u001b[1;34m(io, sheet_name, header, names, index_col, usecols, dtype, engine, converters, true_values, false_values, skiprows, nrows, na_values, keep_default_na, na_filter, verbose, parse_dates, date_parser, date_format, thousands, decimal, comment, skipfooter, storage_options, dtype_backend, engine_kwargs)\u001b[0m\n\u001b[0;32m    493\u001b[0m \u001b[38;5;28;01mif\u001b[39;00m \u001b[38;5;129;01mnot\u001b[39;00m \u001b[38;5;28misinstance\u001b[39m(io, ExcelFile):\n\u001b[0;32m    494\u001b[0m     should_close \u001b[38;5;241m=\u001b[39m \u001b[38;5;28;01mTrue\u001b[39;00m\n\u001b[1;32m--> 495\u001b[0m     io \u001b[38;5;241m=\u001b[39m ExcelFile(\n\u001b[0;32m    496\u001b[0m         io,\n\u001b[0;32m    497\u001b[0m         storage_options\u001b[38;5;241m=\u001b[39mstorage_options,\n\u001b[0;32m    498\u001b[0m         engine\u001b[38;5;241m=\u001b[39mengine,\n\u001b[0;32m    499\u001b[0m         engine_kwargs\u001b[38;5;241m=\u001b[39mengine_kwargs,\n\u001b[0;32m    500\u001b[0m     )\n\u001b[0;32m    501\u001b[0m \u001b[38;5;28;01melif\u001b[39;00m engine \u001b[38;5;129;01mand\u001b[39;00m engine \u001b[38;5;241m!=\u001b[39m io\u001b[38;5;241m.\u001b[39mengine:\n\u001b[0;32m    502\u001b[0m     \u001b[38;5;28;01mraise\u001b[39;00m \u001b[38;5;167;01mValueError\u001b[39;00m(\n\u001b[0;32m    503\u001b[0m         \u001b[38;5;124m\"\u001b[39m\u001b[38;5;124mEngine should not be specified when passing \u001b[39m\u001b[38;5;124m\"\u001b[39m\n\u001b[0;32m    504\u001b[0m         \u001b[38;5;124m\"\u001b[39m\u001b[38;5;124man ExcelFile - ExcelFile already has the engine set\u001b[39m\u001b[38;5;124m\"\u001b[39m\n\u001b[0;32m    505\u001b[0m     )\n",
      "File \u001b[1;32m~\\anaconda3\\envs\\JupyterNotebook-IntWebAppEnv\\Lib\\site-packages\\pandas\\io\\excel\\_base.py:1550\u001b[0m, in \u001b[0;36mExcelFile.__init__\u001b[1;34m(self, path_or_buffer, engine, storage_options, engine_kwargs)\u001b[0m\n\u001b[0;32m   1548\u001b[0m     ext \u001b[38;5;241m=\u001b[39m \u001b[38;5;124m\"\u001b[39m\u001b[38;5;124mxls\u001b[39m\u001b[38;5;124m\"\u001b[39m\n\u001b[0;32m   1549\u001b[0m \u001b[38;5;28;01melse\u001b[39;00m:\n\u001b[1;32m-> 1550\u001b[0m     ext \u001b[38;5;241m=\u001b[39m inspect_excel_format(\n\u001b[0;32m   1551\u001b[0m         content_or_path\u001b[38;5;241m=\u001b[39mpath_or_buffer, storage_options\u001b[38;5;241m=\u001b[39mstorage_options\n\u001b[0;32m   1552\u001b[0m     )\n\u001b[0;32m   1553\u001b[0m     \u001b[38;5;28;01mif\u001b[39;00m ext \u001b[38;5;129;01mis\u001b[39;00m \u001b[38;5;28;01mNone\u001b[39;00m:\n\u001b[0;32m   1554\u001b[0m         \u001b[38;5;28;01mraise\u001b[39;00m \u001b[38;5;167;01mValueError\u001b[39;00m(\n\u001b[0;32m   1555\u001b[0m             \u001b[38;5;124m\"\u001b[39m\u001b[38;5;124mExcel file format cannot be determined, you must specify \u001b[39m\u001b[38;5;124m\"\u001b[39m\n\u001b[0;32m   1556\u001b[0m             \u001b[38;5;124m\"\u001b[39m\u001b[38;5;124man engine manually.\u001b[39m\u001b[38;5;124m\"\u001b[39m\n\u001b[0;32m   1557\u001b[0m         )\n",
      "File \u001b[1;32m~\\anaconda3\\envs\\JupyterNotebook-IntWebAppEnv\\Lib\\site-packages\\pandas\\io\\excel\\_base.py:1402\u001b[0m, in \u001b[0;36minspect_excel_format\u001b[1;34m(content_or_path, storage_options)\u001b[0m\n\u001b[0;32m   1399\u001b[0m \u001b[38;5;28;01mif\u001b[39;00m \u001b[38;5;28misinstance\u001b[39m(content_or_path, \u001b[38;5;28mbytes\u001b[39m):\n\u001b[0;32m   1400\u001b[0m     content_or_path \u001b[38;5;241m=\u001b[39m BytesIO(content_or_path)\n\u001b[1;32m-> 1402\u001b[0m \u001b[38;5;28;01mwith\u001b[39;00m get_handle(\n\u001b[0;32m   1403\u001b[0m     content_or_path, \u001b[38;5;124m\"\u001b[39m\u001b[38;5;124mrb\u001b[39m\u001b[38;5;124m\"\u001b[39m, storage_options\u001b[38;5;241m=\u001b[39mstorage_options, is_text\u001b[38;5;241m=\u001b[39m\u001b[38;5;28;01mFalse\u001b[39;00m\n\u001b[0;32m   1404\u001b[0m ) \u001b[38;5;28;01mas\u001b[39;00m handle:\n\u001b[0;32m   1405\u001b[0m     stream \u001b[38;5;241m=\u001b[39m handle\u001b[38;5;241m.\u001b[39mhandle\n\u001b[0;32m   1406\u001b[0m     stream\u001b[38;5;241m.\u001b[39mseek(\u001b[38;5;241m0\u001b[39m)\n",
      "File \u001b[1;32m~\\anaconda3\\envs\\JupyterNotebook-IntWebAppEnv\\Lib\\site-packages\\pandas\\io\\common.py:882\u001b[0m, in \u001b[0;36mget_handle\u001b[1;34m(path_or_buf, mode, encoding, compression, memory_map, is_text, errors, storage_options)\u001b[0m\n\u001b[0;32m    873\u001b[0m         handle \u001b[38;5;241m=\u001b[39m \u001b[38;5;28mopen\u001b[39m(\n\u001b[0;32m    874\u001b[0m             handle,\n\u001b[0;32m    875\u001b[0m             ioargs\u001b[38;5;241m.\u001b[39mmode,\n\u001b[1;32m   (...)\u001b[0m\n\u001b[0;32m    878\u001b[0m             newline\u001b[38;5;241m=\u001b[39m\u001b[38;5;124m\"\u001b[39m\u001b[38;5;124m\"\u001b[39m,\n\u001b[0;32m    879\u001b[0m         )\n\u001b[0;32m    880\u001b[0m     \u001b[38;5;28;01melse\u001b[39;00m:\n\u001b[0;32m    881\u001b[0m         \u001b[38;5;66;03m# Binary mode\u001b[39;00m\n\u001b[1;32m--> 882\u001b[0m         handle \u001b[38;5;241m=\u001b[39m \u001b[38;5;28mopen\u001b[39m(handle, ioargs\u001b[38;5;241m.\u001b[39mmode)\n\u001b[0;32m    883\u001b[0m     handles\u001b[38;5;241m.\u001b[39mappend(handle)\n\u001b[0;32m    885\u001b[0m \u001b[38;5;66;03m# Convert BytesIO or file objects passed with an encoding\u001b[39;00m\n",
      "\u001b[1;31mFileNotFoundError\u001b[0m: [Errno 2] No such file or directory: 'housing.xlsx'"
     ]
    }
   ],
   "source": [
    "# Load the dataset\n",
    "housing_data = pd.read_excel('housing.xlsx')"
   ]
  },
  {
   "cell_type": "code",
   "execution_count": 21,
   "metadata": {
    "colab": {
     "base_uri": "https://localhost:8080/",
     "height": 206
    },
    "id": "ighMjwF_YhR5",
    "outputId": "661594e2-7125-44f7-8475-cd8b49e86486"
   },
   "outputs": [
    {
     "ename": "NameError",
     "evalue": "name 'housing_data' is not defined",
     "output_type": "error",
     "traceback": [
      "\u001b[1;31m---------------------------------------------------------------------------\u001b[0m",
      "\u001b[1;31mNameError\u001b[0m                                 Traceback (most recent call last)",
      "Cell \u001b[1;32mIn[21], line 1\u001b[0m\n\u001b[1;32m----> 1\u001b[0m housing_data\u001b[38;5;241m.\u001b[39mhead()\n",
      "\u001b[1;31mNameError\u001b[0m: name 'housing_data' is not defined"
     ]
    }
   ],
   "source": [
    "housing_data.head()"
   ]
  },
  {
   "cell_type": "code",
   "execution_count": null,
   "metadata": {
    "colab": {
     "base_uri": "https://localhost:8080/",
     "height": 300
    },
    "id": "69iSVsxx3jUI",
    "outputId": "dcfbb2ab-78fe-42b6-f318-06476c75e6f1"
   },
   "outputs": [
    {
     "data": {
      "text/html": [
       "<div>\n",
       "<style scoped>\n",
       "    .dataframe tbody tr th:only-of-type {\n",
       "        vertical-align: middle;\n",
       "    }\n",
       "\n",
       "    .dataframe tbody tr th {\n",
       "        vertical-align: top;\n",
       "    }\n",
       "\n",
       "    .dataframe thead th {\n",
       "        text-align: right;\n",
       "    }\n",
       "</style>\n",
       "<table border=\"1\" class=\"dataframe\">\n",
       "  <thead>\n",
       "    <tr style=\"text-align: right;\">\n",
       "      <th></th>\n",
       "      <th>longitude</th>\n",
       "      <th>latitude</th>\n",
       "      <th>housing_median_age</th>\n",
       "      <th>total_rooms</th>\n",
       "      <th>total_bedrooms</th>\n",
       "      <th>population</th>\n",
       "      <th>households</th>\n",
       "      <th>median_income</th>\n",
       "      <th>median_house_value</th>\n",
       "    </tr>\n",
       "  </thead>\n",
       "  <tbody>\n",
       "    <tr>\n",
       "      <th>count</th>\n",
       "      <td>20640.000000</td>\n",
       "      <td>20640.000000</td>\n",
       "      <td>20640.000000</td>\n",
       "      <td>20640.000000</td>\n",
       "      <td>20433.000000</td>\n",
       "      <td>20640.000000</td>\n",
       "      <td>20640.000000</td>\n",
       "      <td>20640.000000</td>\n",
       "      <td>20640.000000</td>\n",
       "    </tr>\n",
       "    <tr>\n",
       "      <th>mean</th>\n",
       "      <td>-119.569704</td>\n",
       "      <td>35.631861</td>\n",
       "      <td>28.639486</td>\n",
       "      <td>2635.763081</td>\n",
       "      <td>537.870553</td>\n",
       "      <td>1425.476744</td>\n",
       "      <td>499.539680</td>\n",
       "      <td>3.870671</td>\n",
       "      <td>206855.816909</td>\n",
       "    </tr>\n",
       "    <tr>\n",
       "      <th>std</th>\n",
       "      <td>2.003532</td>\n",
       "      <td>2.135952</td>\n",
       "      <td>12.585558</td>\n",
       "      <td>2181.615252</td>\n",
       "      <td>421.385070</td>\n",
       "      <td>1132.462122</td>\n",
       "      <td>382.329753</td>\n",
       "      <td>1.899822</td>\n",
       "      <td>115395.615874</td>\n",
       "    </tr>\n",
       "    <tr>\n",
       "      <th>min</th>\n",
       "      <td>-124.350000</td>\n",
       "      <td>32.540000</td>\n",
       "      <td>1.000000</td>\n",
       "      <td>2.000000</td>\n",
       "      <td>1.000000</td>\n",
       "      <td>3.000000</td>\n",
       "      <td>1.000000</td>\n",
       "      <td>0.499900</td>\n",
       "      <td>14999.000000</td>\n",
       "    </tr>\n",
       "    <tr>\n",
       "      <th>25%</th>\n",
       "      <td>-121.800000</td>\n",
       "      <td>33.930000</td>\n",
       "      <td>18.000000</td>\n",
       "      <td>1447.750000</td>\n",
       "      <td>296.000000</td>\n",
       "      <td>787.000000</td>\n",
       "      <td>280.000000</td>\n",
       "      <td>2.563400</td>\n",
       "      <td>119600.000000</td>\n",
       "    </tr>\n",
       "    <tr>\n",
       "      <th>50%</th>\n",
       "      <td>-118.490000</td>\n",
       "      <td>34.260000</td>\n",
       "      <td>29.000000</td>\n",
       "      <td>2127.000000</td>\n",
       "      <td>435.000000</td>\n",
       "      <td>1166.000000</td>\n",
       "      <td>409.000000</td>\n",
       "      <td>3.534800</td>\n",
       "      <td>179700.000000</td>\n",
       "    </tr>\n",
       "    <tr>\n",
       "      <th>75%</th>\n",
       "      <td>-118.010000</td>\n",
       "      <td>37.710000</td>\n",
       "      <td>37.000000</td>\n",
       "      <td>3148.000000</td>\n",
       "      <td>647.000000</td>\n",
       "      <td>1725.000000</td>\n",
       "      <td>605.000000</td>\n",
       "      <td>4.743250</td>\n",
       "      <td>264725.000000</td>\n",
       "    </tr>\n",
       "    <tr>\n",
       "      <th>max</th>\n",
       "      <td>-114.310000</td>\n",
       "      <td>41.950000</td>\n",
       "      <td>52.000000</td>\n",
       "      <td>39320.000000</td>\n",
       "      <td>6445.000000</td>\n",
       "      <td>35682.000000</td>\n",
       "      <td>6082.000000</td>\n",
       "      <td>15.000100</td>\n",
       "      <td>500001.000000</td>\n",
       "    </tr>\n",
       "  </tbody>\n",
       "</table>\n",
       "</div>"
      ],
      "text/plain": [
       "          longitude      latitude  housing_median_age   total_rooms  \\\n",
       "count  20640.000000  20640.000000        20640.000000  20640.000000   \n",
       "mean    -119.569704     35.631861           28.639486   2635.763081   \n",
       "std        2.003532      2.135952           12.585558   2181.615252   \n",
       "min     -124.350000     32.540000            1.000000      2.000000   \n",
       "25%     -121.800000     33.930000           18.000000   1447.750000   \n",
       "50%     -118.490000     34.260000           29.000000   2127.000000   \n",
       "75%     -118.010000     37.710000           37.000000   3148.000000   \n",
       "max     -114.310000     41.950000           52.000000  39320.000000   \n",
       "\n",
       "       total_bedrooms    population    households  median_income  \\\n",
       "count    20433.000000  20640.000000  20640.000000   20640.000000   \n",
       "mean       537.870553   1425.476744    499.539680       3.870671   \n",
       "std        421.385070   1132.462122    382.329753       1.899822   \n",
       "min          1.000000      3.000000      1.000000       0.499900   \n",
       "25%        296.000000    787.000000    280.000000       2.563400   \n",
       "50%        435.000000   1166.000000    409.000000       3.534800   \n",
       "75%        647.000000   1725.000000    605.000000       4.743250   \n",
       "max       6445.000000  35682.000000   6082.000000      15.000100   \n",
       "\n",
       "       median_house_value  \n",
       "count        20640.000000  \n",
       "mean        206855.816909  \n",
       "std         115395.615874  \n",
       "min          14999.000000  \n",
       "25%         119600.000000  \n",
       "50%         179700.000000  \n",
       "75%         264725.000000  \n",
       "max         500001.000000  "
      ]
     },
     "execution_count": 4,
     "metadata": {},
     "output_type": "execute_result"
    }
   ],
   "source": [
    "# Display summary statistics for the DataFrame 'housing_df'\n",
    "housing_data.describe()"
   ]
  },
  {
   "cell_type": "markdown",
   "metadata": {
    "id": "WNx3tFfi3zQ5"
   },
   "source": [
    "__Observations:__\n",
    "- The house price lies mostly in the price bracket between 1.1 million and 2.6 million.\n",
    "-  Most houses are 18 to 37 years old.\n"
   ]
  },
  {
   "cell_type": "code",
   "execution_count": null,
   "metadata": {
    "colab": {
     "base_uri": "https://localhost:8080/"
    },
    "id": "EFJBpgZe3rEK",
    "outputId": "906d6c73-8a88-4f3a-bee1-ecc893eec686"
   },
   "outputs": [
    {
     "name": "stdout",
     "output_type": "stream",
     "text": [
      "<class 'pandas.core.frame.DataFrame'>\n",
      "RangeIndex: 20640 entries, 0 to 20639\n",
      "Data columns (total 10 columns):\n",
      " #   Column              Non-Null Count  Dtype  \n",
      "---  ------              --------------  -----  \n",
      " 0   longitude           20640 non-null  float64\n",
      " 1   latitude            20640 non-null  float64\n",
      " 2   housing_median_age  20640 non-null  int64  \n",
      " 3   total_rooms         20640 non-null  int64  \n",
      " 4   total_bedrooms      20433 non-null  float64\n",
      " 5   population          20640 non-null  int64  \n",
      " 6   households          20640 non-null  int64  \n",
      " 7   median_income       20640 non-null  float64\n",
      " 8   median_house_value  20640 non-null  int64  \n",
      " 9   ocean_proximity     20640 non-null  object \n",
      "dtypes: float64(4), int64(5), object(1)\n",
      "memory usage: 1.6+ MB\n"
     ]
    }
   ],
   "source": [
    "housing_data.info()"
   ]
  },
  {
   "cell_type": "code",
   "execution_count": null,
   "metadata": {
    "id": "12M_ZF4DJCPe",
    "outputId": "bada6f19-4d05-43fa-e720-7a94f93d838e"
   },
   "outputs": [
    {
     "data": {
      "text/plain": [
       "longitude               0\n",
       "latitude                0\n",
       "housing_median_age      0\n",
       "total_rooms             0\n",
       "total_bedrooms        207\n",
       "population              0\n",
       "households              0\n",
       "median_income           0\n",
       "median_house_value      0\n",
       "ocean_proximity         0\n",
       "dtype: int64"
      ]
     },
     "execution_count": 6,
     "metadata": {},
     "output_type": "execute_result"
    }
   ],
   "source": [
    "housing_data.isna().sum()"
   ]
  },
  {
   "cell_type": "markdown",
   "metadata": {
    "id": "08_K0_m7E458"
   },
   "source": [
    "* Here `total_bedrooms` has null values which we have to remove"
   ]
  },
  {
   "cell_type": "markdown",
   "metadata": {
    "id": "dsQgcs0-4C9k"
   },
   "source": [
    "- It can be seen that `total_bedroom` is the only feature with **207** null values.\n",
    "- Since the null values makes up for only 1% of the total data, rows of the column/feature with missing values  will be removed\n",
    "\n",
    "- ocean_proximity is a categorial variable for which we need to craete dummy variables"
   ]
  },
  {
   "cell_type": "code",
   "execution_count": null,
   "metadata": {
    "id": "A7T-GBjxwZei"
   },
   "outputs": [],
   "source": [
    "# Remove all the rows with null values:\n",
    "housing_data = housing_data.dropna()"
   ]
  },
  {
   "cell_type": "code",
   "execution_count": null,
   "metadata": {
    "colab": {
     "base_uri": "https://localhost:8080/"
    },
    "id": "VamZE-UG4NRe",
    "outputId": "9e196df0-5fd5-4f78-efc4-47535386d090"
   },
   "outputs": [
    {
     "data": {
      "text/plain": [
       "longitude             0\n",
       "latitude              0\n",
       "housing_median_age    0\n",
       "total_rooms           0\n",
       "total_bedrooms        0\n",
       "population            0\n",
       "households            0\n",
       "median_income         0\n",
       "median_house_value    0\n",
       "ocean_proximity       0\n",
       "dtype: int64"
      ]
     },
     "execution_count": 8,
     "metadata": {},
     "output_type": "execute_result"
    }
   ],
   "source": [
    "# Recheck for missing values in the DataFrame 'housing_df'\n",
    "housing_data.isna().sum()"
   ]
  },
  {
   "cell_type": "markdown",
   "metadata": {
    "id": "qeEAxKZLJCPe"
   },
   "source": [
    "### Let's create dummy variables for ocean_proximity"
   ]
  },
  {
   "cell_type": "markdown",
   "metadata": {
    "id": "nCiyFlnVHDeR"
   },
   "source": [
    "- `housing_data`: This is the DataFrame containing your housing data.\n",
    "\n",
    "- `pd.get_dummies`: This is the pandas function that performs the one-hot encoding. It converts categorical variables into a series of binary variables (0 or 1). Each category in the original variable is represented by a separate column.\n",
    "\n",
    "\n",
    "- `drop_first=True`: This parameter drops the first category for each variable. This is done to avoid the dummy variable trap, which is a situation where the dummy variables are highly collinear, causing issues in statistical models. By dropping the first category, you can reduce multicollinearity.\n",
    "\n",
    "- `dtype='int'`: This ensures that the resulting dummy variables are of integer type (0 or 1), which can save memory compared to the default float type.\n",
    "\n",
    "- `prefix='op'`: This parameter adds a prefix to the new dummy variable columns. Here, the prefix 'op' will be added to the beginning of each new column name created by the one-hot encoding process."
   ]
  },
  {
   "cell_type": "code",
   "execution_count": null,
   "metadata": {
    "id": "309_6jQQJCPe"
   },
   "outputs": [],
   "source": [
    "housing_data = pd.get_dummies(housing_data, drop_first=True, dtype='int',prefix='op')"
   ]
  },
  {
   "cell_type": "markdown",
   "metadata": {
    "id": "zK912VMK5mw1"
   },
   "source": [
    "#### Step 3: Prepare the dataset\n",
    "\n",
    "**Steps to be followed:**\n",
    "\n",
    "- Prepare your features (X) and target (y) for modeling.\n",
    "   * The target feature, which is the feature we are trying to predict, is `median_house_value`. This is assigned to the variable y.\n",
    "   * The features used to predict the target are the independent variables(X).\n",
    "  \n",
    "\n"
   ]
  },
  {
   "cell_type": "code",
   "execution_count": null,
   "metadata": {
    "id": "hai6a063E0zx"
   },
   "outputs": [],
   "source": [
    "#Assign values to X and y\n",
    "X = housing_data.drop(['median_house_value'], axis=1)\n",
    "y = housing_data['median_house_value']\n",
    "\n",
    "# Splitting the data into training and testing sets to avoid data leakage\n",
    "X_train, X_test, y_train, y_test = train_test_split(X, y, test_size=0.30, random_state=42)"
   ]
  },
  {
   "cell_type": "markdown",
   "metadata": {
    "id": "syooZB82LjjO"
   },
   "source": [
    "#### Step 4: Perform K Fold validation"
   ]
  },
  {
   "cell_type": "markdown",
   "metadata": {
    "id": "ANTOgamuDW3X"
   },
   "source": [
    "**Key components**\n",
    "\n",
    "- KFold: Implements K-fold cross-validation.\n",
    "- n_splits=10: Divides the dataset into 10 folds.\n",
    "- random_state=42: Ensures reproducible shuffling.\n",
    "- shuffle=True: Shuffles the data before splitting."
   ]
  },
  {
   "cell_type": "code",
   "execution_count": null,
   "metadata": {
    "id": "rf_Clu2wDbFl"
   },
   "outputs": [],
   "source": [
    "kf = KFold(n_splits=10, random_state=42, shuffle=True)"
   ]
  },
  {
   "cell_type": "markdown",
   "metadata": {
    "id": "126rIXh8MsVH"
   },
   "source": [
    "#### Step 5: Initialize the model\n",
    "\n",
    "\n"
   ]
  },
  {
   "cell_type": "code",
   "execution_count": null,
   "metadata": {
    "id": "nGAP_uGiMpMD"
   },
   "outputs": [],
   "source": [
    "model = LinearRegression()"
   ]
  },
  {
   "cell_type": "markdown",
   "metadata": {
    "id": "oDzV7ZusDeu5"
   },
   "source": [
    "**Evaluate the model**\n",
    "\n",
    "- cross_val_score: Evaluates the model using cross-validation.\n",
    "- model: The machine learning model to evaluate.\n",
    "- X_train and y_train: Training features and target variables.\n",
    "- scoring='neg_mean_absolute_error': Uses negative MAE as the performance metric.\n",
    "- cv=kf: Cross-validation strategy (e.g., KFold).\n",
    "- n_jobs=-1: Utilizes all available processors for parallel computation."
   ]
  },
  {
   "cell_type": "code",
   "execution_count": null,
   "metadata": {
    "id": "1fqk5Iq9DiZ3"
   },
   "outputs": [],
   "source": [
    "k_fold_scores = cross_val_score(model, X_train, y_train, scoring='neg_mean_absolute_error', cv=kf, n_jobs=-1)"
   ]
  },
  {
   "cell_type": "markdown",
   "metadata": {
    "id": "iyZHxiciOFRg"
   },
   "source": [
    "**Evaluating Cross-Validation Scores:**\n",
    "\n",
    "\n",
    "Calculate metrics (e.g., Mean Absolute Error, Mean Squared Error) from cross-validation scores to evaluate the model's performance.\n",
    "\n",
    "- np.abs(scores): Converts negative MAE values to positive MAE values.\n",
    "- np.mean(scores): Calculates the average MAE across all 10 cross-validation folds."
   ]
  },
  {
   "cell_type": "code",
   "execution_count": null,
   "metadata": {
    "colab": {
     "base_uri": "https://localhost:8080/"
    },
    "id": "abbHFi0BDq6d",
    "outputId": "5617130e-0148-44fa-c5d1-414b1a736292"
   },
   "outputs": [
    {
     "data": {
      "text/plain": [
       "49936.91781473862"
      ]
     },
     "execution_count": 25,
     "metadata": {},
     "output_type": "execute_result"
    }
   ],
   "source": [
    "from statistics import mean\n",
    "np.mean(np.abs(k_fold_scores))"
   ]
  },
  {
   "cell_type": "markdown",
   "metadata": {
    "id": "1ITN0FEd-kJ8"
   },
   "source": [
    "#### Step 6: Train the Model and Evaluate on Test Set"
   ]
  },
  {
   "cell_type": "markdown",
   "metadata": {
    "id": "uRLHCUMlOiXM"
   },
   "source": [
    "**Now fit the model with train data and calculate MSE for test data.**\n",
    "- Train the model using the training data `X_train` and `y_train`.\n",
    "- Uses the trained model to make predictions on the test data `X_test`.\n",
    "- Calculates the Mean Squared Error (MSE) between the actual test target values `y_test` and the predicted values `y_test_pred`.\n",
    "- Print the calculated Test MSE."
   ]
  },
  {
   "cell_type": "code",
   "execution_count": null,
   "metadata": {
    "colab": {
     "base_uri": "https://localhost:8080/"
    },
    "id": "ByLMPdOBDvfI",
    "outputId": "daf0db47-d022-440e-8514-c4ba183dc639"
   },
   "outputs": [
    {
     "name": "stdout",
     "output_type": "stream",
     "text": [
      "Test MSE: 4614164009.958682\n",
      "Test R-squared: 0.6538753735673436\n"
     ]
    }
   ],
   "source": [
    "# Evaluate the model on the test set\n",
    "model.fit(X_train, y_train)\n",
    "y_test_pred = model.predict(X_test)\n",
    "test_mse = mean_squared_error(y_test, y_test_pred)\n",
    "print(f\"Test MSE: {test_mse}\")\n",
    "\n",
    "# Calculate R-squared score\n",
    "test_r2 = r2_score(y_test, y_test_pred)\n",
    "print(f\"Test R-squared: {test_r2}\")\n",
    "\n",
    "# add the train score as well.\n",
    "# compute RMSE instead of MSE"
   ]
  },
  {
   "cell_type": "markdown",
   "metadata": {
    "id": "bRchOGpd_LBS"
   },
   "source": [
    "**Observation**\n",
    "- An MSE of `4614164009.958683` is quite large, indicating that on average, the squared prediction errors are large. This can be interpreted in the context of the units of the dependent variable (`median_house_value`), which are likely in dollars.\n",
    "\n",
    "- This can further be mitigated by Scaling the features. Feature scaling is critical in machine learning to ensure that all features contribute equally to the model’s prediction. We'll discuss about it in detail, further in the lesson\n",
    "\n",
    "- An R2 score of `0.65` means that approximately `64%` of the variance in `median_house_value` is explained by the model. This suggests that while the model captures a significant portion of the variability, there is still `35%` of the variance unexplained by the model\n"
   ]
  },
  {
   "cell_type": "markdown",
   "metadata": {
    "id": "UNYZURcXN1Ku"
   },
   "source": [
    "**Repeat the process to demonstrate LOOCV:**\n",
    "\n",
    "* X_train, y_train  is same across all CV implementation\n",
    "\n",
    "\n",
    "\n",
    "\n"
   ]
  },
  {
   "cell_type": "code",
   "execution_count": null,
   "metadata": {
    "colab": {
     "base_uri": "https://localhost:8080/"
    },
    "id": "3sq8yImPN0I8",
    "outputId": "51f09357-9a5d-4f13-95b2-5e50ff800f25"
   },
   "outputs": [
    {
     "data": {
      "text/plain": [
       "49931.807859013046"
      ]
     },
     "execution_count": 64,
     "metadata": {},
     "output_type": "execute_result"
    }
   ],
   "source": [
    "# Perform LOOCV\n",
    "loo = LeaveOneOut()\n",
    "\n",
    "# Compute Cross-validation scores\n",
    "loocv_scores = cross_val_score(model, X_train, y_train, scoring='neg_mean_absolute_error', cv=loo, n_jobs=-1)\n",
    "\n",
    "np.mean(np.abs(loocv_scores))\n",
    "\n",
    "# add the same for train test eval score"
   ]
  },
  {
   "cell_type": "markdown",
   "metadata": {
    "id": "-RNZfRnpYa-p"
   },
   "source": [
    "**Note: Stratified K-Fold is typically used for classification problems. For regression, standard K-Fold is preferred.**"
   ]
  },
  {
   "cell_type": "markdown",
   "metadata": {
    "id": "YCw0nNvHVpgj"
   },
   "source": [
    "**Observation**\n",
    "\n",
    "Mean Absolute Error is quite high. To improve the model, more complex model can be considered which will be discussed in further lessons."
   ]
  },
  {
   "cell_type": "markdown",
   "metadata": {
    "id": "eldlXGH_JTcY"
   },
   "source": [
    "## __3.8 Regularization__\n",
    "\n",
    "**Regularization in Regression**\n",
    "\n",
    "In linear regression, regularization encompasses a set of techniques employed to address the issue of overfitting.\n",
    "\n",
    "**Core Concept**\n",
    "\n",
    "Regularization techniques achieve their objective by introducing a penalty term to the model's objective function. This objective function, typically measured by mean squared error, is minimized during the training process. The penalty term discourages the model from attaining excessive complexity by penalizing the size of the model coefficients, thereby mitigating overfitting.\n",
    "\n",
    "**Regularization term** or `alpha`: is a hyperparameter that scales the penalty term. It controls the strength of regularization.\n",
    "- Higher `alpha`: Imposes a stronger penalty on the coefficients, leading to greater regularization. This tends to produce a simpler model that may underfit the training data but often generalizes better to unseen data.\n",
    "- Lower `alpha`: Imposes a weaker penalty, leading to a model that is less restricted by the regularization and more complex, potentially capturing more details in the data but at the risk of overfitting.\n",
    "\n",
    "**Benefits of Regularization**\n",
    "\n",
    "Enhanced Generalizability: By mitigating overfitting, regularization fosters models that perform well on unseen data.\n",
    "\n",
    "Reduced Model Complexity: It promotes interpretability and potentially reduces computational costs associated with training complex models.\n",
    "\n",
    "\n",
    "Common Regularization Techniques are:\n",
    "\n",
    "* Lasso Regression (L1 Regularization)\n",
    "* Ridge Regression (L2 Regularization)\n"
   ]
  },
  {
   "cell_type": "markdown",
   "metadata": {
    "id": "S0Vhf1fTs9x2"
   },
   "source": [
    "### __3.8.1 Least Absolute Shrinkage and Selection Operator (Lasso) Regression__"
   ]
  },
  {
   "cell_type": "markdown",
   "metadata": {
    "id": "xEEw4MYRs9x9"
   },
   "source": [
    "**Least Absolute Shrinkage and Selection Operator (Lasso) Regression** relies upon the linear regression model but additionaly performs a so called L1 regularization, which is a process of introducing additional information in order to prevent overfitting. As a consequence, we can fit a model containing all possible predictors and use lasso to perform variable selection by using a technique that regularizes the coefficient estimates (it shrinks the coefficient estimates towards zero).\n",
    "\n",
    "- It performs variable selection or feature selection.\n",
    "- It forces some of the coeﬃcient estimates to be exactly equal to zero with the help of a large tuning parameter λ.\n",
    "- It helps reduce the learning of more complex data and overfitting of the model.\n",
    "- It decreases the variance of the model without an increase in bias.\n",
    "  \n",
    "In particular, the minimization objective does not only include the residual sum of squares (RSS) - like in the OLS regression setting - but also the sum of the absolute value of coefficients."
   ]
  },
  {
   "cell_type": "markdown",
   "metadata": {
    "id": "SsxDX7QZs9x9"
   },
   "source": [
    "**Residual Sum of Squares (RSS)**, which is the sum of square of difference between actual and predicted values."
   ]
  },
  {
   "cell_type": "markdown",
   "metadata": {
    "id": "3Sf0dcOY1xGX"
   },
   "source": [
    "$$ \\text{RSS} = \\sum_{i=1}^{n} (y_i - \\hat{y}_i)^2 $$\n",
    "\n",
    "Where:\n",
    "\n",
    "$y_i$: represents the actual target value from the dataset\n",
    "\n",
    "​$\\hat{y}_i$: represents the predicted target values by the regression model.\n",
    "\n",
    "𝑛: is the number of observations.\n",
    "\n",
    "\n",
    "The predictions ​$\\hat{y}_i$ in a regression model are typically calculated using the linear regression equation. For multiple regression involving several predictor variable, the equation is:\n",
    "\n",
    "\n",
    " $ \\hat{y} = \\beta_0 + \\beta_1x_1 + \\beta_2x_2 + \\ldots + \\beta_nx_ n $ predictor.\n"
   ]
  },
  {
   "cell_type": "markdown",
   "metadata": {
    "id": "R0P-wUe51xGY"
   },
   "source": [
    "- $ x_1, x_2, \\ldots, x_n $ are the predictor variables,\n",
    "- $ \\beta_1, \\beta_2, \\ldots, \\beta_n $ are the coefficients for each predictor."
   ]
  },
  {
   "cell_type": "markdown",
   "metadata": {
    "id": "txAeH5mJ1xGY"
   },
   "source": [
    "The RSS formula for multiple linear regression can also be written as:\n",
    "\n",
    "$$ \\text{RSS} = \\sum_{i=1}^n \\left( y_i - \\left( \\beta_0 + \\sum_{j=1}^p \\beta_j x_{ij} \\right) \\right)^2 $$\n",
    "\n",
    "Where:\n",
    "\n",
    "- $ y_i $ represents the actual value for the \\(i\\)-th observation.\n",
    "- $ \\beta_0 \\ $ is the intercept.\n",
    "- $ \\beta_j \\ $ are the coefficients for each predictor \\(j\\).\n",
    "- $ x_{ij} $ represents the \\(j\\)-th predictor variable for the \\(i\\)-th observation.\n",
    "- $ n $ is the total number of observations.\n",
    "- $ p $ is the number of predictor variables."
   ]
  },
  {
   "cell_type": "markdown",
   "metadata": {
    "id": "VA5VjcUJ1xGY"
   },
   "source": [
    "In Lasso regression, the minimization objective becomes:\n",
    "\n",
    "$$ \\sum_{i=1}^n \\left( y_i - \\left( \\beta_0 + \\sum_{j=1}^p \\beta_j x_{ij} \\right) \\right)^2 + \\alpha \\sum_{j=1}^p |\\beta_j| $$\n",
    "\n",
    "which equals:\n",
    "\n",
    "$$ \\text{RSS} + \\alpha \\sum_{j=1}^p |\\beta_j| $$\n",
    "\n",
    "Where $ \\alpha \\ $ (alpha) can take various values:\n",
    "- $ \\alpha = 0 \\ $: Same coefficients as least squares linear regression\n",
    "- $ \\alpha = \\infty $: All coefficients are zero\n",
    "- $ 0 < \\alpha < \\infty $: Coefficients are between 0 and that of least squares linear regression\n"
   ]
  },
  {
   "cell_type": "markdown",
   "metadata": {
    "id": "RfrSjtdqs9x-"
   },
   "source": [
    "### Now, Let us implement lasso regression."
   ]
  },
  {
   "cell_type": "markdown",
   "metadata": {
    "id": "gPITJ55hs9x-"
   },
   "source": [
    "Import the required libraries.\n"
   ]
  },
  {
   "cell_type": "code",
   "execution_count": null,
   "metadata": {
    "id": "cDUHko_6s9x-"
   },
   "outputs": [],
   "source": [
    "# Import necessary libraries\n",
    "import numpy as np\n",
    "import pandas as pd\n",
    "from sklearn.linear_model import Lasso\n",
    "from sklearn.model_selection import train_test_split, cross_val_score\n",
    "from sklearn.metrics import mean_squared_error, r2_score\n",
    "from sklearn.linear_model import LassoCV\n",
    "import matplotlib.pyplot as plt"
   ]
  },
  {
   "cell_type": "markdown",
   "metadata": {
    "id": "OXYFKNeWs9x-"
   },
   "source": [
    "- You will now read the **Hitters.csv** dataset.\n",
    "- Let us now check the head of the data."
   ]
  },
  {
   "cell_type": "markdown",
   "metadata": {
    "id": "phWuXJEi1xGY"
   },
   "source": [
    "**Description of the Dataset**\n",
    "\n",
    "A data frame with 322 observations of major league players on the following 20 variables (see more about the dataset in this [documentation](https://cran.r-project.org/web/packages/ISLR/ISLR.pdf))\n",
    "\n",
    "\n"
   ]
  },
  {
   "cell_type": "markdown",
   "metadata": {
    "id": "_mMY7FDM1xGY"
   },
   "source": [
    "**We want to predict a baseball player's salary based on various statistics associated with performance in the previous year.**\n"
   ]
  },
  {
   "cell_type": "code",
   "execution_count": null,
   "metadata": {
    "colab": {
     "base_uri": "https://localhost:8080/",
     "height": 360
    },
    "id": "omeHwCDQs9x-",
    "outputId": "9b5c48b5-87fc-44f2-f44c-b74ee1a13031"
   },
   "outputs": [
    {
     "data": {
      "application/vnd.google.colaboratory.intrinsic+json": {
       "type": "dataframe",
       "variable_name": "df"
      },
      "text/html": [
       "\n",
       "  <div id=\"df-50e48c00-3c13-4f41-b626-cfe07165bbf4\" class=\"colab-df-container\">\n",
       "    <div>\n",
       "<style scoped>\n",
       "    .dataframe tbody tr th:only-of-type {\n",
       "        vertical-align: middle;\n",
       "    }\n",
       "\n",
       "    .dataframe tbody tr th {\n",
       "        vertical-align: top;\n",
       "    }\n",
       "\n",
       "    .dataframe thead th {\n",
       "        text-align: right;\n",
       "    }\n",
       "</style>\n",
       "<table border=\"1\" class=\"dataframe\">\n",
       "  <thead>\n",
       "    <tr style=\"text-align: right;\">\n",
       "      <th></th>\n",
       "      <th>Unnamed: 0</th>\n",
       "      <th>AtBat</th>\n",
       "      <th>Hits</th>\n",
       "      <th>HmRun</th>\n",
       "      <th>Runs</th>\n",
       "      <th>RBI</th>\n",
       "      <th>Walks</th>\n",
       "      <th>Years</th>\n",
       "      <th>CAtBat</th>\n",
       "      <th>CHits</th>\n",
       "      <th>...</th>\n",
       "      <th>CRuns</th>\n",
       "      <th>CRBI</th>\n",
       "      <th>CWalks</th>\n",
       "      <th>League</th>\n",
       "      <th>Division</th>\n",
       "      <th>PutOuts</th>\n",
       "      <th>Assists</th>\n",
       "      <th>Errors</th>\n",
       "      <th>Salary</th>\n",
       "      <th>NewLeague</th>\n",
       "    </tr>\n",
       "  </thead>\n",
       "  <tbody>\n",
       "    <tr>\n",
       "      <th>0</th>\n",
       "      <td>-Andy Allanson</td>\n",
       "      <td>293</td>\n",
       "      <td>66</td>\n",
       "      <td>1</td>\n",
       "      <td>30</td>\n",
       "      <td>29</td>\n",
       "      <td>14</td>\n",
       "      <td>1</td>\n",
       "      <td>293</td>\n",
       "      <td>66</td>\n",
       "      <td>...</td>\n",
       "      <td>30</td>\n",
       "      <td>29</td>\n",
       "      <td>14</td>\n",
       "      <td>A</td>\n",
       "      <td>E</td>\n",
       "      <td>446</td>\n",
       "      <td>33</td>\n",
       "      <td>20</td>\n",
       "      <td>NaN</td>\n",
       "      <td>A</td>\n",
       "    </tr>\n",
       "    <tr>\n",
       "      <th>1</th>\n",
       "      <td>-Alan Ashby</td>\n",
       "      <td>315</td>\n",
       "      <td>81</td>\n",
       "      <td>7</td>\n",
       "      <td>24</td>\n",
       "      <td>38</td>\n",
       "      <td>39</td>\n",
       "      <td>14</td>\n",
       "      <td>3449</td>\n",
       "      <td>835</td>\n",
       "      <td>...</td>\n",
       "      <td>321</td>\n",
       "      <td>414</td>\n",
       "      <td>375</td>\n",
       "      <td>N</td>\n",
       "      <td>W</td>\n",
       "      <td>632</td>\n",
       "      <td>43</td>\n",
       "      <td>10</td>\n",
       "      <td>475.0</td>\n",
       "      <td>N</td>\n",
       "    </tr>\n",
       "    <tr>\n",
       "      <th>2</th>\n",
       "      <td>-Alvin Davis</td>\n",
       "      <td>479</td>\n",
       "      <td>130</td>\n",
       "      <td>18</td>\n",
       "      <td>66</td>\n",
       "      <td>72</td>\n",
       "      <td>76</td>\n",
       "      <td>3</td>\n",
       "      <td>1624</td>\n",
       "      <td>457</td>\n",
       "      <td>...</td>\n",
       "      <td>224</td>\n",
       "      <td>266</td>\n",
       "      <td>263</td>\n",
       "      <td>A</td>\n",
       "      <td>W</td>\n",
       "      <td>880</td>\n",
       "      <td>82</td>\n",
       "      <td>14</td>\n",
       "      <td>480.0</td>\n",
       "      <td>A</td>\n",
       "    </tr>\n",
       "    <tr>\n",
       "      <th>3</th>\n",
       "      <td>-Andre Dawson</td>\n",
       "      <td>496</td>\n",
       "      <td>141</td>\n",
       "      <td>20</td>\n",
       "      <td>65</td>\n",
       "      <td>78</td>\n",
       "      <td>37</td>\n",
       "      <td>11</td>\n",
       "      <td>5628</td>\n",
       "      <td>1575</td>\n",
       "      <td>...</td>\n",
       "      <td>828</td>\n",
       "      <td>838</td>\n",
       "      <td>354</td>\n",
       "      <td>N</td>\n",
       "      <td>E</td>\n",
       "      <td>200</td>\n",
       "      <td>11</td>\n",
       "      <td>3</td>\n",
       "      <td>500.0</td>\n",
       "      <td>N</td>\n",
       "    </tr>\n",
       "    <tr>\n",
       "      <th>4</th>\n",
       "      <td>-Andres Galarraga</td>\n",
       "      <td>321</td>\n",
       "      <td>87</td>\n",
       "      <td>10</td>\n",
       "      <td>39</td>\n",
       "      <td>42</td>\n",
       "      <td>30</td>\n",
       "      <td>2</td>\n",
       "      <td>396</td>\n",
       "      <td>101</td>\n",
       "      <td>...</td>\n",
       "      <td>48</td>\n",
       "      <td>46</td>\n",
       "      <td>33</td>\n",
       "      <td>N</td>\n",
       "      <td>E</td>\n",
       "      <td>805</td>\n",
       "      <td>40</td>\n",
       "      <td>4</td>\n",
       "      <td>91.5</td>\n",
       "      <td>N</td>\n",
       "    </tr>\n",
       "  </tbody>\n",
       "</table>\n",
       "<p>5 rows × 21 columns</p>\n",
       "</div>\n",
       "    <div class=\"colab-df-buttons\">\n",
       "\n",
       "  <div class=\"colab-df-container\">\n",
       "    <button class=\"colab-df-convert\" onclick=\"convertToInteractive('df-50e48c00-3c13-4f41-b626-cfe07165bbf4')\"\n",
       "            title=\"Convert this dataframe to an interactive table.\"\n",
       "            style=\"display:none;\">\n",
       "\n",
       "  <svg xmlns=\"http://www.w3.org/2000/svg\" height=\"24px\" viewBox=\"0 -960 960 960\">\n",
       "    <path d=\"M120-120v-720h720v720H120Zm60-500h600v-160H180v160Zm220 220h160v-160H400v160Zm0 220h160v-160H400v160ZM180-400h160v-160H180v160Zm440 0h160v-160H620v160ZM180-180h160v-160H180v160Zm440 0h160v-160H620v160Z\"/>\n",
       "  </svg>\n",
       "    </button>\n",
       "\n",
       "  <style>\n",
       "    .colab-df-container {\n",
       "      display:flex;\n",
       "      gap: 12px;\n",
       "    }\n",
       "\n",
       "    .colab-df-convert {\n",
       "      background-color: #E8F0FE;\n",
       "      border: none;\n",
       "      border-radius: 50%;\n",
       "      cursor: pointer;\n",
       "      display: none;\n",
       "      fill: #1967D2;\n",
       "      height: 32px;\n",
       "      padding: 0 0 0 0;\n",
       "      width: 32px;\n",
       "    }\n",
       "\n",
       "    .colab-df-convert:hover {\n",
       "      background-color: #E2EBFA;\n",
       "      box-shadow: 0px 1px 2px rgba(60, 64, 67, 0.3), 0px 1px 3px 1px rgba(60, 64, 67, 0.15);\n",
       "      fill: #174EA6;\n",
       "    }\n",
       "\n",
       "    .colab-df-buttons div {\n",
       "      margin-bottom: 4px;\n",
       "    }\n",
       "\n",
       "    [theme=dark] .colab-df-convert {\n",
       "      background-color: #3B4455;\n",
       "      fill: #D2E3FC;\n",
       "    }\n",
       "\n",
       "    [theme=dark] .colab-df-convert:hover {\n",
       "      background-color: #434B5C;\n",
       "      box-shadow: 0px 1px 3px 1px rgba(0, 0, 0, 0.15);\n",
       "      filter: drop-shadow(0px 1px 2px rgba(0, 0, 0, 0.3));\n",
       "      fill: #FFFFFF;\n",
       "    }\n",
       "  </style>\n",
       "\n",
       "    <script>\n",
       "      const buttonEl =\n",
       "        document.querySelector('#df-50e48c00-3c13-4f41-b626-cfe07165bbf4 button.colab-df-convert');\n",
       "      buttonEl.style.display =\n",
       "        google.colab.kernel.accessAllowed ? 'block' : 'none';\n",
       "\n",
       "      async function convertToInteractive(key) {\n",
       "        const element = document.querySelector('#df-50e48c00-3c13-4f41-b626-cfe07165bbf4');\n",
       "        const dataTable =\n",
       "          await google.colab.kernel.invokeFunction('convertToInteractive',\n",
       "                                                    [key], {});\n",
       "        if (!dataTable) return;\n",
       "\n",
       "        const docLinkHtml = 'Like what you see? Visit the ' +\n",
       "          '<a target=\"_blank\" href=https://colab.research.google.com/notebooks/data_table.ipynb>data table notebook</a>'\n",
       "          + ' to learn more about interactive tables.';\n",
       "        element.innerHTML = '';\n",
       "        dataTable['output_type'] = 'display_data';\n",
       "        await google.colab.output.renderOutput(dataTable, element);\n",
       "        const docLink = document.createElement('div');\n",
       "        docLink.innerHTML = docLinkHtml;\n",
       "        element.appendChild(docLink);\n",
       "      }\n",
       "    </script>\n",
       "  </div>\n",
       "\n",
       "\n",
       "<div id=\"df-b7138069-823b-4c80-8141-8cf02b755559\">\n",
       "  <button class=\"colab-df-quickchart\" onclick=\"quickchart('df-b7138069-823b-4c80-8141-8cf02b755559')\"\n",
       "            title=\"Suggest charts\"\n",
       "            style=\"display:none;\">\n",
       "\n",
       "<svg xmlns=\"http://www.w3.org/2000/svg\" height=\"24px\"viewBox=\"0 0 24 24\"\n",
       "     width=\"24px\">\n",
       "    <g>\n",
       "        <path d=\"M19 3H5c-1.1 0-2 .9-2 2v14c0 1.1.9 2 2 2h14c1.1 0 2-.9 2-2V5c0-1.1-.9-2-2-2zM9 17H7v-7h2v7zm4 0h-2V7h2v10zm4 0h-2v-4h2v4z\"/>\n",
       "    </g>\n",
       "</svg>\n",
       "  </button>\n",
       "\n",
       "<style>\n",
       "  .colab-df-quickchart {\n",
       "      --bg-color: #E8F0FE;\n",
       "      --fill-color: #1967D2;\n",
       "      --hover-bg-color: #E2EBFA;\n",
       "      --hover-fill-color: #174EA6;\n",
       "      --disabled-fill-color: #AAA;\n",
       "      --disabled-bg-color: #DDD;\n",
       "  }\n",
       "\n",
       "  [theme=dark] .colab-df-quickchart {\n",
       "      --bg-color: #3B4455;\n",
       "      --fill-color: #D2E3FC;\n",
       "      --hover-bg-color: #434B5C;\n",
       "      --hover-fill-color: #FFFFFF;\n",
       "      --disabled-bg-color: #3B4455;\n",
       "      --disabled-fill-color: #666;\n",
       "  }\n",
       "\n",
       "  .colab-df-quickchart {\n",
       "    background-color: var(--bg-color);\n",
       "    border: none;\n",
       "    border-radius: 50%;\n",
       "    cursor: pointer;\n",
       "    display: none;\n",
       "    fill: var(--fill-color);\n",
       "    height: 32px;\n",
       "    padding: 0;\n",
       "    width: 32px;\n",
       "  }\n",
       "\n",
       "  .colab-df-quickchart:hover {\n",
       "    background-color: var(--hover-bg-color);\n",
       "    box-shadow: 0 1px 2px rgba(60, 64, 67, 0.3), 0 1px 3px 1px rgba(60, 64, 67, 0.15);\n",
       "    fill: var(--button-hover-fill-color);\n",
       "  }\n",
       "\n",
       "  .colab-df-quickchart-complete:disabled,\n",
       "  .colab-df-quickchart-complete:disabled:hover {\n",
       "    background-color: var(--disabled-bg-color);\n",
       "    fill: var(--disabled-fill-color);\n",
       "    box-shadow: none;\n",
       "  }\n",
       "\n",
       "  .colab-df-spinner {\n",
       "    border: 2px solid var(--fill-color);\n",
       "    border-color: transparent;\n",
       "    border-bottom-color: var(--fill-color);\n",
       "    animation:\n",
       "      spin 1s steps(1) infinite;\n",
       "  }\n",
       "\n",
       "  @keyframes spin {\n",
       "    0% {\n",
       "      border-color: transparent;\n",
       "      border-bottom-color: var(--fill-color);\n",
       "      border-left-color: var(--fill-color);\n",
       "    }\n",
       "    20% {\n",
       "      border-color: transparent;\n",
       "      border-left-color: var(--fill-color);\n",
       "      border-top-color: var(--fill-color);\n",
       "    }\n",
       "    30% {\n",
       "      border-color: transparent;\n",
       "      border-left-color: var(--fill-color);\n",
       "      border-top-color: var(--fill-color);\n",
       "      border-right-color: var(--fill-color);\n",
       "    }\n",
       "    40% {\n",
       "      border-color: transparent;\n",
       "      border-right-color: var(--fill-color);\n",
       "      border-top-color: var(--fill-color);\n",
       "    }\n",
       "    60% {\n",
       "      border-color: transparent;\n",
       "      border-right-color: var(--fill-color);\n",
       "    }\n",
       "    80% {\n",
       "      border-color: transparent;\n",
       "      border-right-color: var(--fill-color);\n",
       "      border-bottom-color: var(--fill-color);\n",
       "    }\n",
       "    90% {\n",
       "      border-color: transparent;\n",
       "      border-bottom-color: var(--fill-color);\n",
       "    }\n",
       "  }\n",
       "</style>\n",
       "\n",
       "  <script>\n",
       "    async function quickchart(key) {\n",
       "      const quickchartButtonEl =\n",
       "        document.querySelector('#' + key + ' button');\n",
       "      quickchartButtonEl.disabled = true;  // To prevent multiple clicks.\n",
       "      quickchartButtonEl.classList.add('colab-df-spinner');\n",
       "      try {\n",
       "        const charts = await google.colab.kernel.invokeFunction(\n",
       "            'suggestCharts', [key], {});\n",
       "      } catch (error) {\n",
       "        console.error('Error during call to suggestCharts:', error);\n",
       "      }\n",
       "      quickchartButtonEl.classList.remove('colab-df-spinner');\n",
       "      quickchartButtonEl.classList.add('colab-df-quickchart-complete');\n",
       "    }\n",
       "    (() => {\n",
       "      let quickchartButtonEl =\n",
       "        document.querySelector('#df-b7138069-823b-4c80-8141-8cf02b755559 button');\n",
       "      quickchartButtonEl.style.display =\n",
       "        google.colab.kernel.accessAllowed ? 'block' : 'none';\n",
       "    })();\n",
       "  </script>\n",
       "</div>\n",
       "\n",
       "    </div>\n",
       "  </div>\n"
      ],
      "text/plain": [
       "          Unnamed: 0  AtBat  Hits  HmRun  Runs  RBI  Walks  Years  CAtBat  \\\n",
       "0     -Andy Allanson    293    66      1    30   29     14      1     293   \n",
       "1        -Alan Ashby    315    81      7    24   38     39     14    3449   \n",
       "2       -Alvin Davis    479   130     18    66   72     76      3    1624   \n",
       "3      -Andre Dawson    496   141     20    65   78     37     11    5628   \n",
       "4  -Andres Galarraga    321    87     10    39   42     30      2     396   \n",
       "\n",
       "   CHits  ...  CRuns  CRBI  CWalks  League Division PutOuts  Assists  Errors  \\\n",
       "0     66  ...     30    29      14       A        E     446       33      20   \n",
       "1    835  ...    321   414     375       N        W     632       43      10   \n",
       "2    457  ...    224   266     263       A        W     880       82      14   \n",
       "3   1575  ...    828   838     354       N        E     200       11       3   \n",
       "4    101  ...     48    46      33       N        E     805       40       4   \n",
       "\n",
       "   Salary  NewLeague  \n",
       "0     NaN          A  \n",
       "1   475.0          N  \n",
       "2   480.0          A  \n",
       "3   500.0          N  \n",
       "4    91.5          N  \n",
       "\n",
       "[5 rows x 21 columns]"
      ]
     },
     "execution_count": 131,
     "metadata": {},
     "output_type": "execute_result"
    }
   ],
   "source": [
    "# Load the data from a CSV file into a DataFrame and display 5 rows\n",
    "df = pd.read_csv('Hitters.csv')\n",
    "df.head()"
   ]
  },
  {
   "cell_type": "markdown",
   "metadata": {
    "id": "yF8WlmiTs9x-"
   },
   "source": [
    "**Observation**\n",
    "\n",
    "- The above output shows the head of the data."
   ]
  },
  {
   "cell_type": "code",
   "execution_count": null,
   "metadata": {
    "colab": {
     "base_uri": "https://localhost:8080/"
    },
    "id": "RRG1wZ_-1xGZ",
    "outputId": "d1acce9d-6d5b-48f3-cf36-4b6f84f7f1e7"
   },
   "outputs": [
    {
     "data": {
      "text/plain": [
       "Index(['Unnamed: 0', 'AtBat', 'Hits', 'HmRun', 'Runs', 'RBI', 'Walks', 'Years',\n",
       "       'CAtBat', 'CHits', 'CHmRun', 'CRuns', 'CRBI', 'CWalks', 'League',\n",
       "       'Division', 'PutOuts', 'Assists', 'Errors', 'Salary', 'NewLeague'],\n",
       "      dtype='object')"
      ]
     },
     "execution_count": 132,
     "metadata": {},
     "output_type": "execute_result"
    }
   ],
   "source": [
    "df.columns"
   ]
  },
  {
   "cell_type": "code",
   "execution_count": null,
   "metadata": {
    "id": "09EdT9VW1xGZ"
   },
   "outputs": [],
   "source": [
    "# Remove \"Unnamed: 0\" from the dataframe\n",
    "df.drop('Unnamed: 0', axis=1, inplace=True)"
   ]
  },
  {
   "cell_type": "code",
   "execution_count": null,
   "metadata": {
    "colab": {
     "base_uri": "https://localhost:8080/"
    },
    "id": "gdL3Uc9ws9x-",
    "outputId": "4fd0c7da-3953-4d27-bb2f-ce44435a3495"
   },
   "outputs": [
    {
     "name": "stdout",
     "output_type": "stream",
     "text": [
      "<class 'pandas.core.frame.DataFrame'>\n",
      "RangeIndex: 322 entries, 0 to 321\n",
      "Data columns (total 20 columns):\n",
      " #   Column     Non-Null Count  Dtype  \n",
      "---  ------     --------------  -----  \n",
      " 0   AtBat      322 non-null    int64  \n",
      " 1   Hits       322 non-null    int64  \n",
      " 2   HmRun      322 non-null    int64  \n",
      " 3   Runs       322 non-null    int64  \n",
      " 4   RBI        322 non-null    int64  \n",
      " 5   Walks      322 non-null    int64  \n",
      " 6   Years      322 non-null    int64  \n",
      " 7   CAtBat     322 non-null    int64  \n",
      " 8   CHits      322 non-null    int64  \n",
      " 9   CHmRun     322 non-null    int64  \n",
      " 10  CRuns      322 non-null    int64  \n",
      " 11  CRBI       322 non-null    int64  \n",
      " 12  CWalks     322 non-null    int64  \n",
      " 13  League     322 non-null    object \n",
      " 14  Division   322 non-null    object \n",
      " 15  PutOuts    322 non-null    int64  \n",
      " 16  Assists    322 non-null    int64  \n",
      " 17  Errors     322 non-null    int64  \n",
      " 18  Salary     263 non-null    float64\n",
      " 19  NewLeague  322 non-null    object \n",
      "dtypes: float64(1), int64(16), object(3)\n",
      "memory usage: 50.4+ KB\n"
     ]
    }
   ],
   "source": [
    "df.info()"
   ]
  },
  {
   "cell_type": "markdown",
   "metadata": {
    "id": "3U6UtdPTs9x_"
   },
   "source": [
    "**Observations**\n",
    "- Overall, it includes 322 observations and 21 columns.\n",
    "- As seen, the **Salary** field has null values."
   ]
  },
  {
   "cell_type": "code",
   "execution_count": null,
   "metadata": {
    "colab": {
     "base_uri": "https://localhost:8080/"
    },
    "id": "Zr4513vJ1xGZ",
    "outputId": "56412b97-20d0-4783-e5c8-507bca288274"
   },
   "outputs": [
    {
     "name": "stdout",
     "output_type": "stream",
     "text": [
      "Number of missing values in 'Salary': 59\n"
     ]
    }
   ],
   "source": [
    "print(\"Number of missing values in 'Salary':\", len(df[df['Salary'].isnull()]))"
   ]
  },
  {
   "cell_type": "markdown",
   "metadata": {
    "id": "DDJSqrb21xGa"
   },
   "source": [
    "There are 59 rows out 322 observations with null values corresponding to column `Salary`"
   ]
  },
  {
   "cell_type": "markdown",
   "metadata": {
    "id": "xAw7Z8bg1xGa"
   },
   "source": [
    "Since we will use the lasso algorithm from scikit learn, we need to encode our categorical features as one-hot numeric features (dummy variables):\n",
    "\n",
    "**Note: Lasso regression assumes that the features are numeric and continuous, and does not work well with categorical variables.**"
   ]
  },
  {
   "cell_type": "code",
   "execution_count": null,
   "metadata": {
    "colab": {
     "base_uri": "https://localhost:8080/"
    },
    "id": "UhR4u4EM1xGa",
    "outputId": "805529f7-26aa-4b39-8b27-355d65d8a45c"
   },
   "outputs": [
    {
     "name": "stdout",
     "output_type": "stream",
     "text": [
      "<class 'pandas.core.frame.DataFrame'>\n",
      "RangeIndex: 322 entries, 0 to 321\n",
      "Data columns (total 6 columns):\n",
      " #   Column       Non-Null Count  Dtype\n",
      "---  ------       --------------  -----\n",
      " 0   League_A     322 non-null    int64\n",
      " 1   League_N     322 non-null    int64\n",
      " 2   Division_E   322 non-null    int64\n",
      " 3   Division_W   322 non-null    int64\n",
      " 4   NewLeague_A  322 non-null    int64\n",
      " 5   NewLeague_N  322 non-null    int64\n",
      "dtypes: int64(6)\n",
      "memory usage: 15.2 KB\n"
     ]
    }
   ],
   "source": [
    "# creating dummies for all the variable of object type\n",
    "dummies = pd.get_dummies(df[['League', 'Division','NewLeague']])\n",
    "# Convert boolean True/False to integer 1/0\n",
    "dummies = dummies.astype(int)\n",
    "dummies.info()"
   ]
  },
  {
   "cell_type": "code",
   "execution_count": null,
   "metadata": {
    "colab": {
     "base_uri": "https://localhost:8080/",
     "height": 206
    },
    "id": "vNJUrIcT9mIp",
    "outputId": "9a1cbf54-87e8-4c52-b2a7-59d7c9a95714"
   },
   "outputs": [
    {
     "data": {
      "application/vnd.google.colaboratory.intrinsic+json": {
       "summary": "{\n  \"name\": \"dummies\",\n  \"rows\": 322,\n  \"fields\": [\n    {\n      \"column\": \"League_A\",\n      \"properties\": {\n        \"dtype\": \"number\",\n        \"std\": 0,\n        \"min\": 0,\n        \"max\": 1,\n        \"num_unique_values\": 2,\n        \"samples\": [\n          0,\n          1\n        ],\n        \"semantic_type\": \"\",\n        \"description\": \"\"\n      }\n    },\n    {\n      \"column\": \"League_N\",\n      \"properties\": {\n        \"dtype\": \"number\",\n        \"std\": 0,\n        \"min\": 0,\n        \"max\": 1,\n        \"num_unique_values\": 2,\n        \"samples\": [\n          1,\n          0\n        ],\n        \"semantic_type\": \"\",\n        \"description\": \"\"\n      }\n    },\n    {\n      \"column\": \"Division_E\",\n      \"properties\": {\n        \"dtype\": \"number\",\n        \"std\": 0,\n        \"min\": 0,\n        \"max\": 1,\n        \"num_unique_values\": 2,\n        \"samples\": [\n          0,\n          1\n        ],\n        \"semantic_type\": \"\",\n        \"description\": \"\"\n      }\n    },\n    {\n      \"column\": \"Division_W\",\n      \"properties\": {\n        \"dtype\": \"number\",\n        \"std\": 0,\n        \"min\": 0,\n        \"max\": 1,\n        \"num_unique_values\": 2,\n        \"samples\": [\n          1,\n          0\n        ],\n        \"semantic_type\": \"\",\n        \"description\": \"\"\n      }\n    },\n    {\n      \"column\": \"NewLeague_A\",\n      \"properties\": {\n        \"dtype\": \"number\",\n        \"std\": 0,\n        \"min\": 0,\n        \"max\": 1,\n        \"num_unique_values\": 2,\n        \"samples\": [\n          0,\n          1\n        ],\n        \"semantic_type\": \"\",\n        \"description\": \"\"\n      }\n    },\n    {\n      \"column\": \"NewLeague_N\",\n      \"properties\": {\n        \"dtype\": \"number\",\n        \"std\": 0,\n        \"min\": 0,\n        \"max\": 1,\n        \"num_unique_values\": 2,\n        \"samples\": [\n          1,\n          0\n        ],\n        \"semantic_type\": \"\",\n        \"description\": \"\"\n      }\n    }\n  ]\n}",
       "type": "dataframe",
       "variable_name": "dummies"
      },
      "text/html": [
       "\n",
       "  <div id=\"df-dc6abd01-967c-4f83-ba73-6870192719ec\" class=\"colab-df-container\">\n",
       "    <div>\n",
       "<style scoped>\n",
       "    .dataframe tbody tr th:only-of-type {\n",
       "        vertical-align: middle;\n",
       "    }\n",
       "\n",
       "    .dataframe tbody tr th {\n",
       "        vertical-align: top;\n",
       "    }\n",
       "\n",
       "    .dataframe thead th {\n",
       "        text-align: right;\n",
       "    }\n",
       "</style>\n",
       "<table border=\"1\" class=\"dataframe\">\n",
       "  <thead>\n",
       "    <tr style=\"text-align: right;\">\n",
       "      <th></th>\n",
       "      <th>League_A</th>\n",
       "      <th>League_N</th>\n",
       "      <th>Division_E</th>\n",
       "      <th>Division_W</th>\n",
       "      <th>NewLeague_A</th>\n",
       "      <th>NewLeague_N</th>\n",
       "    </tr>\n",
       "  </thead>\n",
       "  <tbody>\n",
       "    <tr>\n",
       "      <th>0</th>\n",
       "      <td>1</td>\n",
       "      <td>0</td>\n",
       "      <td>1</td>\n",
       "      <td>0</td>\n",
       "      <td>1</td>\n",
       "      <td>0</td>\n",
       "    </tr>\n",
       "    <tr>\n",
       "      <th>1</th>\n",
       "      <td>0</td>\n",
       "      <td>1</td>\n",
       "      <td>0</td>\n",
       "      <td>1</td>\n",
       "      <td>0</td>\n",
       "      <td>1</td>\n",
       "    </tr>\n",
       "    <tr>\n",
       "      <th>2</th>\n",
       "      <td>1</td>\n",
       "      <td>0</td>\n",
       "      <td>0</td>\n",
       "      <td>1</td>\n",
       "      <td>1</td>\n",
       "      <td>0</td>\n",
       "    </tr>\n",
       "    <tr>\n",
       "      <th>3</th>\n",
       "      <td>0</td>\n",
       "      <td>1</td>\n",
       "      <td>1</td>\n",
       "      <td>0</td>\n",
       "      <td>0</td>\n",
       "      <td>1</td>\n",
       "    </tr>\n",
       "    <tr>\n",
       "      <th>4</th>\n",
       "      <td>0</td>\n",
       "      <td>1</td>\n",
       "      <td>1</td>\n",
       "      <td>0</td>\n",
       "      <td>0</td>\n",
       "      <td>1</td>\n",
       "    </tr>\n",
       "  </tbody>\n",
       "</table>\n",
       "</div>\n",
       "    <div class=\"colab-df-buttons\">\n",
       "\n",
       "  <div class=\"colab-df-container\">\n",
       "    <button class=\"colab-df-convert\" onclick=\"convertToInteractive('df-dc6abd01-967c-4f83-ba73-6870192719ec')\"\n",
       "            title=\"Convert this dataframe to an interactive table.\"\n",
       "            style=\"display:none;\">\n",
       "\n",
       "  <svg xmlns=\"http://www.w3.org/2000/svg\" height=\"24px\" viewBox=\"0 -960 960 960\">\n",
       "    <path d=\"M120-120v-720h720v720H120Zm60-500h600v-160H180v160Zm220 220h160v-160H400v160Zm0 220h160v-160H400v160ZM180-400h160v-160H180v160Zm440 0h160v-160H620v160ZM180-180h160v-160H180v160Zm440 0h160v-160H620v160Z\"/>\n",
       "  </svg>\n",
       "    </button>\n",
       "\n",
       "  <style>\n",
       "    .colab-df-container {\n",
       "      display:flex;\n",
       "      gap: 12px;\n",
       "    }\n",
       "\n",
       "    .colab-df-convert {\n",
       "      background-color: #E8F0FE;\n",
       "      border: none;\n",
       "      border-radius: 50%;\n",
       "      cursor: pointer;\n",
       "      display: none;\n",
       "      fill: #1967D2;\n",
       "      height: 32px;\n",
       "      padding: 0 0 0 0;\n",
       "      width: 32px;\n",
       "    }\n",
       "\n",
       "    .colab-df-convert:hover {\n",
       "      background-color: #E2EBFA;\n",
       "      box-shadow: 0px 1px 2px rgba(60, 64, 67, 0.3), 0px 1px 3px 1px rgba(60, 64, 67, 0.15);\n",
       "      fill: #174EA6;\n",
       "    }\n",
       "\n",
       "    .colab-df-buttons div {\n",
       "      margin-bottom: 4px;\n",
       "    }\n",
       "\n",
       "    [theme=dark] .colab-df-convert {\n",
       "      background-color: #3B4455;\n",
       "      fill: #D2E3FC;\n",
       "    }\n",
       "\n",
       "    [theme=dark] .colab-df-convert:hover {\n",
       "      background-color: #434B5C;\n",
       "      box-shadow: 0px 1px 3px 1px rgba(0, 0, 0, 0.15);\n",
       "      filter: drop-shadow(0px 1px 2px rgba(0, 0, 0, 0.3));\n",
       "      fill: #FFFFFF;\n",
       "    }\n",
       "  </style>\n",
       "\n",
       "    <script>\n",
       "      const buttonEl =\n",
       "        document.querySelector('#df-dc6abd01-967c-4f83-ba73-6870192719ec button.colab-df-convert');\n",
       "      buttonEl.style.display =\n",
       "        google.colab.kernel.accessAllowed ? 'block' : 'none';\n",
       "\n",
       "      async function convertToInteractive(key) {\n",
       "        const element = document.querySelector('#df-dc6abd01-967c-4f83-ba73-6870192719ec');\n",
       "        const dataTable =\n",
       "          await google.colab.kernel.invokeFunction('convertToInteractive',\n",
       "                                                    [key], {});\n",
       "        if (!dataTable) return;\n",
       "\n",
       "        const docLinkHtml = 'Like what you see? Visit the ' +\n",
       "          '<a target=\"_blank\" href=https://colab.research.google.com/notebooks/data_table.ipynb>data table notebook</a>'\n",
       "          + ' to learn more about interactive tables.';\n",
       "        element.innerHTML = '';\n",
       "        dataTable['output_type'] = 'display_data';\n",
       "        await google.colab.output.renderOutput(dataTable, element);\n",
       "        const docLink = document.createElement('div');\n",
       "        docLink.innerHTML = docLinkHtml;\n",
       "        element.appendChild(docLink);\n",
       "      }\n",
       "    </script>\n",
       "  </div>\n",
       "\n",
       "\n",
       "<div id=\"df-99f37733-054a-46b2-9c63-a6fe09976de3\">\n",
       "  <button class=\"colab-df-quickchart\" onclick=\"quickchart('df-99f37733-054a-46b2-9c63-a6fe09976de3')\"\n",
       "            title=\"Suggest charts\"\n",
       "            style=\"display:none;\">\n",
       "\n",
       "<svg xmlns=\"http://www.w3.org/2000/svg\" height=\"24px\"viewBox=\"0 0 24 24\"\n",
       "     width=\"24px\">\n",
       "    <g>\n",
       "        <path d=\"M19 3H5c-1.1 0-2 .9-2 2v14c0 1.1.9 2 2 2h14c1.1 0 2-.9 2-2V5c0-1.1-.9-2-2-2zM9 17H7v-7h2v7zm4 0h-2V7h2v10zm4 0h-2v-4h2v4z\"/>\n",
       "    </g>\n",
       "</svg>\n",
       "  </button>\n",
       "\n",
       "<style>\n",
       "  .colab-df-quickchart {\n",
       "      --bg-color: #E8F0FE;\n",
       "      --fill-color: #1967D2;\n",
       "      --hover-bg-color: #E2EBFA;\n",
       "      --hover-fill-color: #174EA6;\n",
       "      --disabled-fill-color: #AAA;\n",
       "      --disabled-bg-color: #DDD;\n",
       "  }\n",
       "\n",
       "  [theme=dark] .colab-df-quickchart {\n",
       "      --bg-color: #3B4455;\n",
       "      --fill-color: #D2E3FC;\n",
       "      --hover-bg-color: #434B5C;\n",
       "      --hover-fill-color: #FFFFFF;\n",
       "      --disabled-bg-color: #3B4455;\n",
       "      --disabled-fill-color: #666;\n",
       "  }\n",
       "\n",
       "  .colab-df-quickchart {\n",
       "    background-color: var(--bg-color);\n",
       "    border: none;\n",
       "    border-radius: 50%;\n",
       "    cursor: pointer;\n",
       "    display: none;\n",
       "    fill: var(--fill-color);\n",
       "    height: 32px;\n",
       "    padding: 0;\n",
       "    width: 32px;\n",
       "  }\n",
       "\n",
       "  .colab-df-quickchart:hover {\n",
       "    background-color: var(--hover-bg-color);\n",
       "    box-shadow: 0 1px 2px rgba(60, 64, 67, 0.3), 0 1px 3px 1px rgba(60, 64, 67, 0.15);\n",
       "    fill: var(--button-hover-fill-color);\n",
       "  }\n",
       "\n",
       "  .colab-df-quickchart-complete:disabled,\n",
       "  .colab-df-quickchart-complete:disabled:hover {\n",
       "    background-color: var(--disabled-bg-color);\n",
       "    fill: var(--disabled-fill-color);\n",
       "    box-shadow: none;\n",
       "  }\n",
       "\n",
       "  .colab-df-spinner {\n",
       "    border: 2px solid var(--fill-color);\n",
       "    border-color: transparent;\n",
       "    border-bottom-color: var(--fill-color);\n",
       "    animation:\n",
       "      spin 1s steps(1) infinite;\n",
       "  }\n",
       "\n",
       "  @keyframes spin {\n",
       "    0% {\n",
       "      border-color: transparent;\n",
       "      border-bottom-color: var(--fill-color);\n",
       "      border-left-color: var(--fill-color);\n",
       "    }\n",
       "    20% {\n",
       "      border-color: transparent;\n",
       "      border-left-color: var(--fill-color);\n",
       "      border-top-color: var(--fill-color);\n",
       "    }\n",
       "    30% {\n",
       "      border-color: transparent;\n",
       "      border-left-color: var(--fill-color);\n",
       "      border-top-color: var(--fill-color);\n",
       "      border-right-color: var(--fill-color);\n",
       "    }\n",
       "    40% {\n",
       "      border-color: transparent;\n",
       "      border-right-color: var(--fill-color);\n",
       "      border-top-color: var(--fill-color);\n",
       "    }\n",
       "    60% {\n",
       "      border-color: transparent;\n",
       "      border-right-color: var(--fill-color);\n",
       "    }\n",
       "    80% {\n",
       "      border-color: transparent;\n",
       "      border-right-color: var(--fill-color);\n",
       "      border-bottom-color: var(--fill-color);\n",
       "    }\n",
       "    90% {\n",
       "      border-color: transparent;\n",
       "      border-bottom-color: var(--fill-color);\n",
       "    }\n",
       "  }\n",
       "</style>\n",
       "\n",
       "  <script>\n",
       "    async function quickchart(key) {\n",
       "      const quickchartButtonEl =\n",
       "        document.querySelector('#' + key + ' button');\n",
       "      quickchartButtonEl.disabled = true;  // To prevent multiple clicks.\n",
       "      quickchartButtonEl.classList.add('colab-df-spinner');\n",
       "      try {\n",
       "        const charts = await google.colab.kernel.invokeFunction(\n",
       "            'suggestCharts', [key], {});\n",
       "      } catch (error) {\n",
       "        console.error('Error during call to suggestCharts:', error);\n",
       "      }\n",
       "      quickchartButtonEl.classList.remove('colab-df-spinner');\n",
       "      quickchartButtonEl.classList.add('colab-df-quickchart-complete');\n",
       "    }\n",
       "    (() => {\n",
       "      let quickchartButtonEl =\n",
       "        document.querySelector('#df-99f37733-054a-46b2-9c63-a6fe09976de3 button');\n",
       "      quickchartButtonEl.style.display =\n",
       "        google.colab.kernel.accessAllowed ? 'block' : 'none';\n",
       "    })();\n",
       "  </script>\n",
       "</div>\n",
       "\n",
       "    </div>\n",
       "  </div>\n"
      ],
      "text/plain": [
       "   League_A  League_N  Division_E  Division_W  NewLeague_A  NewLeague_N\n",
       "0         1         0           1           0            1            0\n",
       "1         0         1           0           1            0            1\n",
       "2         1         0           0           1            1            0\n",
       "3         0         1           1           0            0            1\n",
       "4         0         1           1           0            0            1"
      ]
     },
     "execution_count": 137,
     "metadata": {},
     "output_type": "execute_result"
    }
   ],
   "source": [
    "dummies.head()"
   ]
  },
  {
   "cell_type": "code",
   "execution_count": null,
   "metadata": {
    "colab": {
     "base_uri": "https://localhost:8080/"
    },
    "id": "XYSjY-u91xGa",
    "outputId": "61c7395c-04a7-4f36-fa63-bff7a524a296"
   },
   "outputs": [
    {
     "data": {
      "text/plain": [
       "Index(['AtBat', 'Hits', 'HmRun', 'Runs', 'RBI', 'Walks', 'Years', 'CAtBat',\n",
       "       'CHits', 'CHmRun', 'CRuns', 'CRBI', 'CWalks', 'PutOuts', 'Assists',\n",
       "       'Errors'],\n",
       "      dtype='object')"
      ]
     },
     "execution_count": 138,
     "metadata": {},
     "output_type": "execute_result"
    }
   ],
   "source": [
    "# create label X and y\n",
    "y = df['Salary']\n",
    "\n",
    "# drop the column with the outcome variable (Salary), and categorical columns for which dummy variables is already created:\n",
    "X_numerical = df.drop(['Salary', 'League', 'Division', 'NewLeague'], axis=1).astype('float64')\n",
    "\n",
    "#list of all numerical columns in X_numericals\n",
    "list_numerical = X_numerical.columns\n",
    "list_numerical"
   ]
  },
  {
   "cell_type": "markdown",
   "metadata": {
    "id": "ByZ210xN1xGa"
   },
   "source": [
    "Concatenate the dummy variable dataframe and X_numerical to create X"
   ]
  },
  {
   "cell_type": "markdown",
   "metadata": {
    "id": "X1k5R-OGnsFx"
   },
   "source": [
    "Creating dummy variables for `League`, `Division`, and `NewLeague` allows us to convert categorical data into a numerical format suitable for machine learning models, while avoiding multicollinearity by dropping one category. This ensures that the models can interpret and leverage these categorical distinctions effectively."
   ]
  },
  {
   "cell_type": "markdown",
   "metadata": {
    "id": "0lAoXlXZorDH"
   },
   "source": [
    "**Data Description**\n",
    "* **League (A or N):** American League (A) or National League (N) as of the end of 1986.\n",
    "* **Division (E or W):** Eastern Division (E) or Western Division (W) as of the end of 1986.\n",
    "* **NewLeague (A or N):** American League (A) or National League (N) as of the beginning of 1987."
   ]
  },
  {
   "cell_type": "markdown",
   "metadata": {
    "id": "xwwTik1MnUSA"
   },
   "source": [
    "`League_N`: 1 if the league is National League (N), 0 otherwise.\n",
    "\n",
    "`Division_W`: 1 if the division is Western Division (W), 0 otherwise.\n",
    "\n",
    "`NewLeague_N`: 1 if the new league is National League (N), 0 otherwise."
   ]
  },
  {
   "cell_type": "code",
   "execution_count": null,
   "metadata": {
    "colab": {
     "base_uri": "https://localhost:8080/"
    },
    "id": "AAC_nzyX1xGa",
    "outputId": "dd333f1a-152b-4ede-de6d-a57d56073076"
   },
   "outputs": [
    {
     "name": "stdout",
     "output_type": "stream",
     "text": [
      "<class 'pandas.core.frame.DataFrame'>\n",
      "RangeIndex: 322 entries, 0 to 321\n",
      "Data columns (total 19 columns):\n",
      " #   Column       Non-Null Count  Dtype  \n",
      "---  ------       --------------  -----  \n",
      " 0   AtBat        322 non-null    float64\n",
      " 1   Hits         322 non-null    float64\n",
      " 2   HmRun        322 non-null    float64\n",
      " 3   Runs         322 non-null    float64\n",
      " 4   RBI          322 non-null    float64\n",
      " 5   Walks        322 non-null    float64\n",
      " 6   Years        322 non-null    float64\n",
      " 7   CAtBat       322 non-null    float64\n",
      " 8   CHits        322 non-null    float64\n",
      " 9   CHmRun       322 non-null    float64\n",
      " 10  CRuns        322 non-null    float64\n",
      " 11  CRBI         322 non-null    float64\n",
      " 12  CWalks       322 non-null    float64\n",
      " 13  PutOuts      322 non-null    float64\n",
      " 14  Assists      322 non-null    float64\n",
      " 15  Errors       322 non-null    float64\n",
      " 16  League_N     322 non-null    int64  \n",
      " 17  Division_W   322 non-null    int64  \n",
      " 18  NewLeague_N  322 non-null    int64  \n",
      "dtypes: float64(16), int64(3)\n",
      "memory usage: 47.9 KB\n"
     ]
    }
   ],
   "source": [
    "# Create X with dummy variables and numerical variables\n",
    "X = pd.concat([X_numerical, dummies[['League_N', 'Division_W', 'NewLeague_N']]], axis=1)\n",
    "X.info()"
   ]
  },
  {
   "cell_type": "code",
   "execution_count": null,
   "metadata": {
    "id": "CJlyvYdQ1xGb"
   },
   "outputs": [],
   "source": [
    "# Split the dataset into training and testing sets before handling missing values\n",
    "X_train, X_test, y_train, y_test = train_test_split(X, y, test_size=0.25, random_state=42)"
   ]
  },
  {
   "cell_type": "markdown",
   "metadata": {
    "id": "DW4S8b5Z3RCf"
   },
   "source": [
    "- Lasso performs best when all numerical features are centered around 0 and have variance in the same order. If a feature has a variance that is orders of magnitude larger than others, it might dominate the objective function and make the estimator unable to learn from other features correctly as expected.\n",
    "\n",
    "- This means it is important to standardize our features. We do this by subtracting the mean from our observations and then dividing the difference by the standard deviation\n",
    "\n",
    "- To avoid data leakage, the standardization of numerical features should always be performed after data splitting and only from training data."
   ]
  },
  {
   "cell_type": "markdown",
   "metadata": {
    "id": "4wQaqoeF83ml"
   },
   "source": [
    "**Data leakage** occurs when information from outside the training dataset is used to create the model. This can happen if data that would not be available at the time of prediction is included in the training process. Data leakage can lead to optimistic performance estimates and models that fail to generalize well to new, unseen data.\n",
    "\n"
   ]
  },
  {
   "cell_type": "markdown",
   "metadata": {
    "id": "yB6ATM24QWdm"
   },
   "source": [
    "**Standard Scaler:**\n",
    "\n",
    "We use standardization to ensure that numerical features have a mean of 0 and a standard deviation of 1, which improves model performance, accelerates convergence, and ensures consistent feature impact in machine learning algorithms."
   ]
  },
  {
   "cell_type": "markdown",
   "metadata": {
    "id": "Y5LhBFEyPWhf"
   },
   "source": [
    "- **`StandardScaler()`**: Creates an instance of the StandardScaler.\n",
    "\n",
    "- **`.fit(X_train[list_numerical])`**: Computes the mean and standard deviation for each feature in the `X_train[list_numerical]` dataset. `X_train` is your training dataset, and list_numerical is a list of column names corresponding to the numerical features. This step calculates the parameters needed for scaling but does not yet apply the scaling.\n",
    "\n",
    "- **`scaler.transform(X_train[list_numerical])`**: Applies the standardization to the training data. This transforms each feature in the training dataset to have a mean of 0 and a standard deviation of 1.\n",
    "\n",
    "- **`X_train[list_numerical]`**: The transformed numerical features are assigned back to the `X_train` DataFrame, effectively replacing the original values.\n",
    "\n",
    "- **`scaler.transform(X_test[list_numerical])`**: Applies the same standardization parameters (mean and standard deviation) computed from the training data to the test data. This ensures that the test data is scaled in the same way as the training data.\n",
    "\n",
    "- **`X_test[list_numerical]`**: The transformed numerical features are assigned back to the `X_test` DataFrame, replacing the original values."
   ]
  },
  {
   "cell_type": "code",
   "execution_count": null,
   "metadata": {
    "id": "fhIAkBuB2hfV"
   },
   "outputs": [],
   "source": [
    "# Perform Standardization on numerical features.\n",
    "\n",
    "from sklearn.preprocessing import StandardScaler\n",
    "\n",
    "scaler = StandardScaler().fit(X_train[list_numerical])\n",
    "X_train[list_numerical] = scaler.transform(X_train[list_numerical])\n",
    "X_test[list_numerical] = scaler.transform(X_test[list_numerical])"
   ]
  },
  {
   "cell_type": "markdown",
   "metadata": {
    "id": "vYIWYiNiRDPL"
   },
   "source": [
    "Here we are fitting a StandardScaler to the numerical features in `X_train` to compute their mean and standard deviation, then using this scaler to standardize the same numerical columns in both `X_train` and `X_test`, ensuring they have a mean of 0 and a standard deviation of 1. After standardizing, we replace the original values in `X_train` and `X_test` with the new standardized data."
   ]
  },
  {
   "cell_type": "code",
   "execution_count": null,
   "metadata": {
    "colab": {
     "base_uri": "https://localhost:8080/",
     "height": 226
    },
    "id": "RESuTWcL9Z-6",
    "outputId": "8e7878a2-b4ae-4b03-8e2a-45b18a69b1bf"
   },
   "outputs": [
    {
     "data": {
      "application/vnd.google.colaboratory.intrinsic+json": {
       "summary": "{\n  \"name\": \"X_train\",\n  \"rows\": 241,\n  \"fields\": [\n    {\n      \"column\": \"AtBat\",\n      \"properties\": {\n        \"dtype\": \"number\",\n        \"std\": 1.0020811677038277,\n        \"min\": -2.3133196834052283,\n        \"max\": 1.9648634516354768,\n        \"num_unique_values\": 199,\n        \"samples\": [\n          0.5344875471816254,\n          0.9810754992509274,\n          -0.5399124534488695\n        ],\n        \"semantic_type\": \"\",\n        \"description\": \"\"\n      }\n    },\n    {\n      \"column\": \"Hits\",\n      \"properties\": {\n        \"dtype\": \"number\",\n        \"std\": 1.0020811677038275,\n        \"min\": -2.115199114381622,\n        \"max\": 2.665040093933219,\n        \"num_unique_values\": 132,\n        \"samples\": [\n          0.4256487531010411,\n          1.373083551145424,\n          0.2749204897757984\n        ],\n        \"semantic_type\": \"\",\n        \"description\": \"\"\n      }\n    },\n    {\n      \"column\": \"HmRun\",\n      \"properties\": {\n        \"dtype\": \"number\",\n        \"std\": 1.0020811677038275,\n        \"min\": -1.2551665462877295,\n        \"max\": 3.4183774885572733,\n        \"num_unique_values\": 36,\n        \"samples\": [\n          2.834184484201648,\n          0.14689666416577146,\n          2.0163142781037724\n        ],\n        \"semantic_type\": \"\",\n        \"description\": \"\"\n      }\n    },\n    {\n      \"column\": \"Runs\",\n      \"properties\": {\n        \"dtype\": \"number\",\n        \"std\": 1.0020811677038277,\n        \"min\": -1.9460726841323337,\n        \"max\": 2.6748429068786947,\n        \"num_unique_values\": 88,\n        \"samples\": [\n          -1.0917857681471017,\n          -1.0529545446932274,\n          -1.3247731088703467\n        ],\n        \"semantic_type\": \"\",\n        \"description\": \"\"\n      }\n    },\n    {\n      \"column\": \"RBI\",\n      \"properties\": {\n        \"dtype\": \"number\",\n        \"std\": 1.0020811677038275,\n        \"min\": -1.795374917334332,\n        \"max\": 2.7895211299891165,\n        \"num_unique_values\": 91,\n        \"samples\": [\n          1.5390949352645396,\n          0.6296940663739382,\n          0.13710192905819582\n        ],\n        \"semantic_type\": \"\",\n        \"description\": \"\"\n      }\n    },\n    {\n      \"column\": \"Walks\",\n      \"properties\": {\n        \"dtype\": \"number\",\n        \"std\": 1.0020811677038275,\n        \"min\": -1.822561900967152,\n        \"max\": 3.1768883867264823,\n        \"num_unique_values\": 80,\n        \"samples\": [\n          -0.06085084720844271,\n          -1.0607409047471696,\n          -1.2988099660659143\n        ],\n        \"semantic_type\": \"\",\n        \"description\": \"\"\n      }\n    },\n    {\n      \"column\": \"Years\",\n      \"properties\": {\n        \"dtype\": \"number\",\n        \"std\": 1.0020811677038275,\n        \"min\": -1.3077909488084871,\n        \"max\": 3.4676275157800798,\n        \"num_unique_values\": 21,\n        \"samples\": [\n          -0.6849102795143263,\n          2.6371199567211985,\n          1.3913586181328768\n        ],\n        \"semantic_type\": \"\",\n        \"description\": \"\"\n      }\n    },\n    {\n      \"column\": \"CAtBat\",\n      \"properties\": {\n        \"dtype\": \"number\",\n        \"std\": 1.0020811677038275,\n        \"min\": -1.1115950629094706,\n        \"max\": 4.98043631446586,\n        \"num_unique_values\": 234,\n        \"samples\": [\n          -0.7395791807368428,\n          1.1157252304718048,\n          -0.35150193609001756\n        ],\n        \"semantic_type\": \"\",\n        \"description\": \"\"\n      }\n    },\n    {\n      \"column\": \"CHits\",\n      \"properties\": {\n        \"dtype\": \"number\",\n        \"std\": 1.0020811677038275,\n        \"min\": -1.0712336168626313,\n        \"max\": 5.507183854880771,\n        \"num_unique_values\": 219,\n        \"samples\": [\n          -1.0341023799572124,\n          1.9889991580923192,\n          -0.8623704092696495\n        ],\n        \"semantic_type\": \"\",\n        \"description\": \"\"\n      }\n    },\n    {\n      \"column\": \"CHmRun\",\n      \"properties\": {\n        \"dtype\": \"number\",\n        \"std\": 1.0020811677038275,\n        \"min\": -0.7998687766445671,\n        \"max\": 5.607426037081077,\n        \"num_unique_values\": 119,\n        \"samples\": [\n          -0.15680086650786923,\n          0.18227130429148053,\n          -0.7764844890032326\n        ],\n        \"semantic_type\": \"\",\n        \"description\": \"\"\n      }\n    },\n    {\n      \"column\": \"CRuns\",\n      \"properties\": {\n        \"dtype\": \"number\",\n        \"std\": 1.0020811677038275,\n        \"min\": -1.0447536476450066,\n        \"max\": 5.459400218875147,\n        \"num_unique_values\": 206,\n        \"samples\": [\n          -0.22985503561219958,\n          2.0554694852178126,\n          -0.04342066680764594\n        ],\n        \"semantic_type\": \"\",\n        \"description\": \"\"\n      }\n    },\n    {\n      \"column\": \"CRBI\",\n      \"properties\": {\n        \"dtype\": \"number\",\n        \"std\": 1.0020811677038275,\n        \"min\": -0.9807297212506506,\n        \"max\": 4.140834583111252,\n        \"num_unique_values\": 206,\n        \"samples\": [\n          -0.7766094047724589,\n          1.6821125891693967,\n          2.928483612513507\n        ],\n        \"semantic_type\": \"\",\n        \"description\": \"\"\n      }\n    },\n    {\n      \"column\": \"CWalks\",\n      \"properties\": {\n        \"dtype\": \"number\",\n        \"std\": 1.0020811677038277,\n        \"min\": -0.9588299825778892,\n        \"max\": 4.9538477863181685,\n        \"num_unique_values\": 192,\n        \"samples\": [\n          -0.6679186802104794,\n          -0.5319082011815605,\n          -0.6754748179343082\n        ],\n        \"semantic_type\": \"\",\n        \"description\": \"\"\n      }\n    },\n    {\n      \"column\": \"PutOuts\",\n      \"properties\": {\n        \"dtype\": \"number\",\n        \"std\": 1.0020811677038275,\n        \"min\": -1.0399388459907546,\n        \"max\": 3.996028591210686,\n        \"num_unique_values\": 188,\n        \"samples\": [\n          -0.7366113443305807,\n          -0.013010798201491317,\n          -0.43328384267040687\n        ],\n        \"semantic_type\": \"\",\n        \"description\": \"\"\n      }\n    },\n    {\n      \"column\": \"Assists\",\n      \"properties\": {\n        \"dtype\": \"number\",\n        \"std\": 1.0020811677038277,\n        \"min\": -0.7666877261683164,\n        \"max\": 2.9175147892209283,\n        \"num_unique_values\": 132,\n        \"samples\": [\n          -0.4746472828752665,\n          -0.429717983907105,\n          0.5212855109189805\n        ],\n        \"semantic_type\": \"\",\n        \"description\": \"\"\n      }\n    },\n    {\n      \"column\": \"Errors\",\n      \"properties\": {\n        \"dtype\": \"number\",\n        \"std\": 1.0020811677038277,\n        \"min\": -1.2465350425762318,\n        \"max\": 3.752569610750809,\n        \"num_unique_values\": 29,\n        \"samples\": [\n          2.502793447419049,\n          0.6281292024214086,\n          2.659015467835519\n        ],\n        \"semantic_type\": \"\",\n        \"description\": \"\"\n      }\n    },\n    {\n      \"column\": \"League_N\",\n      \"properties\": {\n        \"dtype\": \"number\",\n        \"std\": 0,\n        \"min\": 0,\n        \"max\": 1,\n        \"num_unique_values\": 2,\n        \"samples\": [\n          1,\n          0\n        ],\n        \"semantic_type\": \"\",\n        \"description\": \"\"\n      }\n    },\n    {\n      \"column\": \"Division_W\",\n      \"properties\": {\n        \"dtype\": \"number\",\n        \"std\": 0,\n        \"min\": 0,\n        \"max\": 1,\n        \"num_unique_values\": 2,\n        \"samples\": [\n          0,\n          1\n        ],\n        \"semantic_type\": \"\",\n        \"description\": \"\"\n      }\n    },\n    {\n      \"column\": \"NewLeague_N\",\n      \"properties\": {\n        \"dtype\": \"number\",\n        \"std\": 0,\n        \"min\": 0,\n        \"max\": 1,\n        \"num_unique_values\": 2,\n        \"samples\": [\n          1,\n          0\n        ],\n        \"semantic_type\": \"\",\n        \"description\": \"\"\n      }\n    }\n  ]\n}",
       "type": "dataframe",
       "variable_name": "X_train"
      },
      "text/html": [
       "\n",
       "  <div id=\"df-e22f67e6-b484-40f4-83ea-56c06e850b51\" class=\"colab-df-container\">\n",
       "    <div>\n",
       "<style scoped>\n",
       "    .dataframe tbody tr th:only-of-type {\n",
       "        vertical-align: middle;\n",
       "    }\n",
       "\n",
       "    .dataframe tbody tr th {\n",
       "        vertical-align: top;\n",
       "    }\n",
       "\n",
       "    .dataframe thead th {\n",
       "        text-align: right;\n",
       "    }\n",
       "</style>\n",
       "<table border=\"1\" class=\"dataframe\">\n",
       "  <thead>\n",
       "    <tr style=\"text-align: right;\">\n",
       "      <th></th>\n",
       "      <th>AtBat</th>\n",
       "      <th>Hits</th>\n",
       "      <th>HmRun</th>\n",
       "      <th>Runs</th>\n",
       "      <th>RBI</th>\n",
       "      <th>Walks</th>\n",
       "      <th>Years</th>\n",
       "      <th>CAtBat</th>\n",
       "      <th>CHits</th>\n",
       "      <th>CHmRun</th>\n",
       "      <th>CRuns</th>\n",
       "      <th>CRBI</th>\n",
       "      <th>CWalks</th>\n",
       "      <th>PutOuts</th>\n",
       "      <th>Assists</th>\n",
       "      <th>Errors</th>\n",
       "      <th>League_N</th>\n",
       "      <th>Division_W</th>\n",
       "      <th>NewLeague_N</th>\n",
       "    </tr>\n",
       "  </thead>\n",
       "  <tbody>\n",
       "    <tr>\n",
       "      <th>168</th>\n",
       "      <td>-0.397522</td>\n",
       "      <td>-0.564851</td>\n",
       "      <td>-0.670974</td>\n",
       "      <td>-1.052955</td>\n",
       "      <td>-0.393382</td>\n",
       "      <td>-1.060741</td>\n",
       "      <td>-0.684910</td>\n",
       "      <td>-0.924502</td>\n",
       "      <td>-0.910332</td>\n",
       "      <td>-0.729716</td>\n",
       "      <td>-0.936501</td>\n",
       "      <td>-0.847742</td>\n",
       "      <td>-0.856822</td>\n",
       "      <td>-0.210356</td>\n",
       "      <td>-0.654364</td>\n",
       "      <td>-0.777869</td>\n",
       "      <td>0</td>\n",
       "      <td>1</td>\n",
       "      <td>0</td>\n",
       "    </tr>\n",
       "    <tr>\n",
       "      <th>148</th>\n",
       "      <td>0.780435</td>\n",
       "      <td>0.791703</td>\n",
       "      <td>-0.437296</td>\n",
       "      <td>0.306138</td>\n",
       "      <td>-0.355490</td>\n",
       "      <td>-0.584603</td>\n",
       "      <td>0.768478</td>\n",
       "      <td>0.560523</td>\n",
       "      <td>0.571824</td>\n",
       "      <td>-0.332183</td>\n",
       "      <td>0.302385</td>\n",
       "      <td>0.145025</td>\n",
       "      <td>-0.052093</td>\n",
       "      <td>0.071044</td>\n",
       "      <td>1.831723</td>\n",
       "      <td>0.315685</td>\n",
       "      <td>0</td>\n",
       "      <td>0</td>\n",
       "      <td>0</td>\n",
       "    </tr>\n",
       "    <tr>\n",
       "      <th>221</th>\n",
       "      <td>1.291745</td>\n",
       "      <td>1.459214</td>\n",
       "      <td>-0.320458</td>\n",
       "      <td>1.509906</td>\n",
       "      <td>0.061319</td>\n",
       "      <td>0.891425</td>\n",
       "      <td>-0.684910</td>\n",
       "      <td>-0.763020</td>\n",
       "      <td>-0.718487</td>\n",
       "      <td>-0.577718</td>\n",
       "      <td>-0.653843</td>\n",
       "      <td>-0.733311</td>\n",
       "      <td>-0.664141</td>\n",
       "      <td>0.147789</td>\n",
       "      <td>-0.676829</td>\n",
       "      <td>0.003241</td>\n",
       "      <td>1</td>\n",
       "      <td>0</td>\n",
       "      <td>1</td>\n",
       "    </tr>\n",
       "    <tr>\n",
       "      <th>227</th>\n",
       "      <td>1.265856</td>\n",
       "      <td>1.136225</td>\n",
       "      <td>0.847928</td>\n",
       "      <td>2.131206</td>\n",
       "      <td>0.061319</td>\n",
       "      <td>1.272336</td>\n",
       "      <td>-1.100164</td>\n",
       "      <td>-0.695302</td>\n",
       "      <td>-0.692186</td>\n",
       "      <td>-0.378952</td>\n",
       "      <td>-0.545591</td>\n",
       "      <td>-0.708569</td>\n",
       "      <td>-0.581023</td>\n",
       "      <td>0.147789</td>\n",
       "      <td>-0.669341</td>\n",
       "      <td>-0.777869</td>\n",
       "      <td>0</td>\n",
       "      <td>1</td>\n",
       "      <td>0</td>\n",
       "    </tr>\n",
       "    <tr>\n",
       "      <th>139</th>\n",
       "      <td>0.398569</td>\n",
       "      <td>0.081127</td>\n",
       "      <td>-1.021489</td>\n",
       "      <td>0.577957</td>\n",
       "      <td>-0.582840</td>\n",
       "      <td>1.558019</td>\n",
       "      <td>-1.100164</td>\n",
       "      <td>-0.928843</td>\n",
       "      <td>-0.918067</td>\n",
       "      <td>-0.776484</td>\n",
       "      <td>-0.849298</td>\n",
       "      <td>-0.891040</td>\n",
       "      <td>-0.694365</td>\n",
       "      <td>-0.031284</td>\n",
       "      <td>-0.714270</td>\n",
       "      <td>0.159463</td>\n",
       "      <td>0</td>\n",
       "      <td>1</td>\n",
       "      <td>1</td>\n",
       "    </tr>\n",
       "  </tbody>\n",
       "</table>\n",
       "</div>\n",
       "    <div class=\"colab-df-buttons\">\n",
       "\n",
       "  <div class=\"colab-df-container\">\n",
       "    <button class=\"colab-df-convert\" onclick=\"convertToInteractive('df-e22f67e6-b484-40f4-83ea-56c06e850b51')\"\n",
       "            title=\"Convert this dataframe to an interactive table.\"\n",
       "            style=\"display:none;\">\n",
       "\n",
       "  <svg xmlns=\"http://www.w3.org/2000/svg\" height=\"24px\" viewBox=\"0 -960 960 960\">\n",
       "    <path d=\"M120-120v-720h720v720H120Zm60-500h600v-160H180v160Zm220 220h160v-160H400v160Zm0 220h160v-160H400v160ZM180-400h160v-160H180v160Zm440 0h160v-160H620v160ZM180-180h160v-160H180v160Zm440 0h160v-160H620v160Z\"/>\n",
       "  </svg>\n",
       "    </button>\n",
       "\n",
       "  <style>\n",
       "    .colab-df-container {\n",
       "      display:flex;\n",
       "      gap: 12px;\n",
       "    }\n",
       "\n",
       "    .colab-df-convert {\n",
       "      background-color: #E8F0FE;\n",
       "      border: none;\n",
       "      border-radius: 50%;\n",
       "      cursor: pointer;\n",
       "      display: none;\n",
       "      fill: #1967D2;\n",
       "      height: 32px;\n",
       "      padding: 0 0 0 0;\n",
       "      width: 32px;\n",
       "    }\n",
       "\n",
       "    .colab-df-convert:hover {\n",
       "      background-color: #E2EBFA;\n",
       "      box-shadow: 0px 1px 2px rgba(60, 64, 67, 0.3), 0px 1px 3px 1px rgba(60, 64, 67, 0.15);\n",
       "      fill: #174EA6;\n",
       "    }\n",
       "\n",
       "    .colab-df-buttons div {\n",
       "      margin-bottom: 4px;\n",
       "    }\n",
       "\n",
       "    [theme=dark] .colab-df-convert {\n",
       "      background-color: #3B4455;\n",
       "      fill: #D2E3FC;\n",
       "    }\n",
       "\n",
       "    [theme=dark] .colab-df-convert:hover {\n",
       "      background-color: #434B5C;\n",
       "      box-shadow: 0px 1px 3px 1px rgba(0, 0, 0, 0.15);\n",
       "      filter: drop-shadow(0px 1px 2px rgba(0, 0, 0, 0.3));\n",
       "      fill: #FFFFFF;\n",
       "    }\n",
       "  </style>\n",
       "\n",
       "    <script>\n",
       "      const buttonEl =\n",
       "        document.querySelector('#df-e22f67e6-b484-40f4-83ea-56c06e850b51 button.colab-df-convert');\n",
       "      buttonEl.style.display =\n",
       "        google.colab.kernel.accessAllowed ? 'block' : 'none';\n",
       "\n",
       "      async function convertToInteractive(key) {\n",
       "        const element = document.querySelector('#df-e22f67e6-b484-40f4-83ea-56c06e850b51');\n",
       "        const dataTable =\n",
       "          await google.colab.kernel.invokeFunction('convertToInteractive',\n",
       "                                                    [key], {});\n",
       "        if (!dataTable) return;\n",
       "\n",
       "        const docLinkHtml = 'Like what you see? Visit the ' +\n",
       "          '<a target=\"_blank\" href=https://colab.research.google.com/notebooks/data_table.ipynb>data table notebook</a>'\n",
       "          + ' to learn more about interactive tables.';\n",
       "        element.innerHTML = '';\n",
       "        dataTable['output_type'] = 'display_data';\n",
       "        await google.colab.output.renderOutput(dataTable, element);\n",
       "        const docLink = document.createElement('div');\n",
       "        docLink.innerHTML = docLinkHtml;\n",
       "        element.appendChild(docLink);\n",
       "      }\n",
       "    </script>\n",
       "  </div>\n",
       "\n",
       "\n",
       "<div id=\"df-6bc40634-2eff-43eb-8ed9-c0063956494b\">\n",
       "  <button class=\"colab-df-quickchart\" onclick=\"quickchart('df-6bc40634-2eff-43eb-8ed9-c0063956494b')\"\n",
       "            title=\"Suggest charts\"\n",
       "            style=\"display:none;\">\n",
       "\n",
       "<svg xmlns=\"http://www.w3.org/2000/svg\" height=\"24px\"viewBox=\"0 0 24 24\"\n",
       "     width=\"24px\">\n",
       "    <g>\n",
       "        <path d=\"M19 3H5c-1.1 0-2 .9-2 2v14c0 1.1.9 2 2 2h14c1.1 0 2-.9 2-2V5c0-1.1-.9-2-2-2zM9 17H7v-7h2v7zm4 0h-2V7h2v10zm4 0h-2v-4h2v4z\"/>\n",
       "    </g>\n",
       "</svg>\n",
       "  </button>\n",
       "\n",
       "<style>\n",
       "  .colab-df-quickchart {\n",
       "      --bg-color: #E8F0FE;\n",
       "      --fill-color: #1967D2;\n",
       "      --hover-bg-color: #E2EBFA;\n",
       "      --hover-fill-color: #174EA6;\n",
       "      --disabled-fill-color: #AAA;\n",
       "      --disabled-bg-color: #DDD;\n",
       "  }\n",
       "\n",
       "  [theme=dark] .colab-df-quickchart {\n",
       "      --bg-color: #3B4455;\n",
       "      --fill-color: #D2E3FC;\n",
       "      --hover-bg-color: #434B5C;\n",
       "      --hover-fill-color: #FFFFFF;\n",
       "      --disabled-bg-color: #3B4455;\n",
       "      --disabled-fill-color: #666;\n",
       "  }\n",
       "\n",
       "  .colab-df-quickchart {\n",
       "    background-color: var(--bg-color);\n",
       "    border: none;\n",
       "    border-radius: 50%;\n",
       "    cursor: pointer;\n",
       "    display: none;\n",
       "    fill: var(--fill-color);\n",
       "    height: 32px;\n",
       "    padding: 0;\n",
       "    width: 32px;\n",
       "  }\n",
       "\n",
       "  .colab-df-quickchart:hover {\n",
       "    background-color: var(--hover-bg-color);\n",
       "    box-shadow: 0 1px 2px rgba(60, 64, 67, 0.3), 0 1px 3px 1px rgba(60, 64, 67, 0.15);\n",
       "    fill: var(--button-hover-fill-color);\n",
       "  }\n",
       "\n",
       "  .colab-df-quickchart-complete:disabled,\n",
       "  .colab-df-quickchart-complete:disabled:hover {\n",
       "    background-color: var(--disabled-bg-color);\n",
       "    fill: var(--disabled-fill-color);\n",
       "    box-shadow: none;\n",
       "  }\n",
       "\n",
       "  .colab-df-spinner {\n",
       "    border: 2px solid var(--fill-color);\n",
       "    border-color: transparent;\n",
       "    border-bottom-color: var(--fill-color);\n",
       "    animation:\n",
       "      spin 1s steps(1) infinite;\n",
       "  }\n",
       "\n",
       "  @keyframes spin {\n",
       "    0% {\n",
       "      border-color: transparent;\n",
       "      border-bottom-color: var(--fill-color);\n",
       "      border-left-color: var(--fill-color);\n",
       "    }\n",
       "    20% {\n",
       "      border-color: transparent;\n",
       "      border-left-color: var(--fill-color);\n",
       "      border-top-color: var(--fill-color);\n",
       "    }\n",
       "    30% {\n",
       "      border-color: transparent;\n",
       "      border-left-color: var(--fill-color);\n",
       "      border-top-color: var(--fill-color);\n",
       "      border-right-color: var(--fill-color);\n",
       "    }\n",
       "    40% {\n",
       "      border-color: transparent;\n",
       "      border-right-color: var(--fill-color);\n",
       "      border-top-color: var(--fill-color);\n",
       "    }\n",
       "    60% {\n",
       "      border-color: transparent;\n",
       "      border-right-color: var(--fill-color);\n",
       "    }\n",
       "    80% {\n",
       "      border-color: transparent;\n",
       "      border-right-color: var(--fill-color);\n",
       "      border-bottom-color: var(--fill-color);\n",
       "    }\n",
       "    90% {\n",
       "      border-color: transparent;\n",
       "      border-bottom-color: var(--fill-color);\n",
       "    }\n",
       "  }\n",
       "</style>\n",
       "\n",
       "  <script>\n",
       "    async function quickchart(key) {\n",
       "      const quickchartButtonEl =\n",
       "        document.querySelector('#' + key + ' button');\n",
       "      quickchartButtonEl.disabled = true;  // To prevent multiple clicks.\n",
       "      quickchartButtonEl.classList.add('colab-df-spinner');\n",
       "      try {\n",
       "        const charts = await google.colab.kernel.invokeFunction(\n",
       "            'suggestCharts', [key], {});\n",
       "      } catch (error) {\n",
       "        console.error('Error during call to suggestCharts:', error);\n",
       "      }\n",
       "      quickchartButtonEl.classList.remove('colab-df-spinner');\n",
       "      quickchartButtonEl.classList.add('colab-df-quickchart-complete');\n",
       "    }\n",
       "    (() => {\n",
       "      let quickchartButtonEl =\n",
       "        document.querySelector('#df-6bc40634-2eff-43eb-8ed9-c0063956494b button');\n",
       "      quickchartButtonEl.style.display =\n",
       "        google.colab.kernel.accessAllowed ? 'block' : 'none';\n",
       "    })();\n",
       "  </script>\n",
       "</div>\n",
       "\n",
       "    </div>\n",
       "  </div>\n"
      ],
      "text/plain": [
       "        AtBat      Hits     HmRun      Runs       RBI     Walks     Years  \\\n",
       "168 -0.397522 -0.564851 -0.670974 -1.052955 -0.393382 -1.060741 -0.684910   \n",
       "148  0.780435  0.791703 -0.437296  0.306138 -0.355490 -0.584603  0.768478   \n",
       "221  1.291745  1.459214 -0.320458  1.509906  0.061319  0.891425 -0.684910   \n",
       "227  1.265856  1.136225  0.847928  2.131206  0.061319  1.272336 -1.100164   \n",
       "139  0.398569  0.081127 -1.021489  0.577957 -0.582840  1.558019 -1.100164   \n",
       "\n",
       "       CAtBat     CHits    CHmRun     CRuns      CRBI    CWalks   PutOuts  \\\n",
       "168 -0.924502 -0.910332 -0.729716 -0.936501 -0.847742 -0.856822 -0.210356   \n",
       "148  0.560523  0.571824 -0.332183  0.302385  0.145025 -0.052093  0.071044   \n",
       "221 -0.763020 -0.718487 -0.577718 -0.653843 -0.733311 -0.664141  0.147789   \n",
       "227 -0.695302 -0.692186 -0.378952 -0.545591 -0.708569 -0.581023  0.147789   \n",
       "139 -0.928843 -0.918067 -0.776484 -0.849298 -0.891040 -0.694365 -0.031284   \n",
       "\n",
       "      Assists    Errors  League_N  Division_W  NewLeague_N  \n",
       "168 -0.654364 -0.777869         0           1            0  \n",
       "148  1.831723  0.315685         0           0            0  \n",
       "221 -0.676829  0.003241         1           0            1  \n",
       "227 -0.669341 -0.777869         0           1            0  \n",
       "139 -0.714270  0.159463         0           1            1  "
      ]
     },
     "execution_count": 142,
     "metadata": {},
     "output_type": "execute_result"
    }
   ],
   "source": [
    "X_train.head()"
   ]
  },
  {
   "cell_type": "markdown",
   "metadata": {
    "id": "O28mlhQ11xGb"
   },
   "source": [
    "- Filling in the missing value by taking the median of elements in `y_train`.\n",
    "-  `y` is a series with values from the target variable `Salary`, and not a dataframe, hence directly computing the median.\n",
    "  \n",
    "\n",
    "According to standard machine learning practices, filling missing values in the test set with statistics (like median) calculated from the training set does not constitute Data leakage. This method ensures that no information from the test set influences the training process, thus maintaining the integrity of the evaluation."
   ]
  },
  {
   "cell_type": "code",
   "execution_count": null,
   "metadata": {
    "id": "WW72SkZjs9x_"
   },
   "outputs": [],
   "source": [
    "# Imputing the values NA values in the series with the median\n",
    "median_salary = y_train.median(skipna=True)\n",
    "y_train = y_train.fillna(median_salary)\n",
    "y_test = y_test.fillna(median_salary)\n"
   ]
  },
  {
   "cell_type": "markdown",
   "metadata": {
    "id": "IYMBa4pFs9x_"
   },
   "source": [
    "### Create a Lasso Model.\n",
    "\n",
    "First, we apply lasso regression on the training set with regularization parameter `alpha`=1\n",
    "\n",
    "`alpha = 1`: This value is commonly used as default and provides a good balance between maintaining model complexity and reducing overfitting.\n"
   ]
  },
  {
   "cell_type": "code",
   "execution_count": null,
   "metadata": {
    "colab": {
     "base_uri": "https://localhost:8080/"
    },
    "id": "U8x8ejYE1xGb",
    "outputId": "20b6d605-533f-4d83-bad0-9790d022882a"
   },
   "outputs": [
    {
     "name": "stdout",
     "output_type": "stream",
     "text": [
      "Lasso intercept: 552.1437963555314\n",
      "Lasso coefficients: [-310.80528552  264.55074813   24.16085059    0.           -0.\n",
      "   98.27501652  -71.92938903 -154.88026267  115.47642309    0.\n",
      "  274.32490369  222.99944567 -217.31294449   50.42773172   41.83950725\n",
      "  -22.76889619   23.87540404 -118.63107582   -0.        ]\n"
     ]
    }
   ],
   "source": [
    "# Create and fit the Lasso regression model to the training data\n",
    "lasso_model = Lasso(alpha=1, max_iter=10000).fit(X_train, y_train)\n",
    "print(\"Lasso intercept:\", lasso_model.intercept_)\n",
    "\n",
    "# Get the coefficients (weights) of the fitted Lasso regression model\n",
    "print(\"Lasso coefficients:\", lasso_model.coef_)"
   ]
  },
  {
   "cell_type": "markdown",
   "metadata": {
    "id": "uy9eb2Gc1xGc"
   },
   "source": [
    "**Observation**\n",
    "\n",
    "* Lasso Intercept: 552\n",
    "\n",
    "This is the intercept term of your Lasso regression model. It represents the expected mean value of the dependent variable when all independent variables are set to zero. In practical terms, it's the baseline prediction when no other information (from the variables) is provided.\n",
    "Lasso Coefficients:\n",
    "\n",
    "* Lasso coefficients: represent the relationship between each independent variable and the dependent variable.\n",
    "Each coefficient estimates the change in the dependent variable for a one unit change in the respective independent variable, holding all other variables constant.\n",
    "    - A positive coefficient indicates that as the independent variable increases, the dependent variable also increases.\n",
    "    - A negative coefficient indicates that as the independent variable increases, the dependent variable decreases.\n",
    "    - The magnitude of the coefficient shows the strength of the impact. A larger absolute value indicates a stronger effect.\n",
    "\n"
   ]
  },
  {
   "cell_type": "markdown",
   "metadata": {
    "id": "1028yMmc1xGc"
   },
   "source": [
    "\n",
    "* Lasso regression is known for its ability to perform feature selection by shrinking some coefficients to zero, thus effectively removing those variables from the equation.\n",
    "\n",
    "* In this model, however, it seems that none of the coefficients are exactly zero, suggesting that all included variables have some impact on the model, though some impacts are very small (e.g., coefficients close to zero)."
   ]
  },
  {
   "cell_type": "markdown",
   "metadata": {
    "id": "KxQKDYh2s9yA"
   },
   "source": [
    "- Test the lasso model and make predictions\n",
    "- Evaluate the RMSE and R2 scores for model performance.\n",
    "- Optimize the model.\n"
   ]
  },
  {
   "cell_type": "markdown",
   "metadata": {
    "id": "V47ohMTQDKEP"
   },
   "source": [
    "**Model Evaluation on Lasso model**"
   ]
  },
  {
   "cell_type": "code",
   "execution_count": null,
   "metadata": {
    "colab": {
     "base_uri": "https://localhost:8080/"
    },
    "id": "Z9Db3UuTB_AM",
    "outputId": "7fc047d7-c247-46cb-ba65-16c3c80c29b1"
   },
   "outputs": [
    {
     "name": "stdout",
     "output_type": "stream",
     "text": [
      "MSE training set 84531.03\n",
      "R squared training set 47.15\n",
      "---------------------------\n",
      "MSE test set 116175.54\n",
      "R squared test set 38.36\n"
     ]
    }
   ],
   "source": [
    "# Training data\n",
    "pred_train = lasso_model.predict(X_train)\n",
    "mse_train = mean_squared_error(y_train, pred_train)\n",
    "print('MSE training set', round(mse_train, 2))\n",
    "print('R squared training set', round(r2_score(y_train, pred_train)*100,2))\n",
    "print(\"---------------------------\")\n",
    "\n",
    "# Test data\n",
    "pred_test = lasso_model.predict(X_test)\n",
    "mse_test =mean_squared_error(y_test, pred_test)\n",
    "print('MSE test set', round(mse_test, 2))\n",
    "print('R squared test set', round(r2_score(y_test, pred_test)*100,2))\n"
   ]
  },
  {
   "cell_type": "markdown",
   "metadata": {
    "id": "ZpXwteBK1xGc"
   },
   "source": [
    "To better understand the role of `alpha`(regularization parameter), plot the lasso coefficients as a function of `alpha` (max_iter are the maximum number of iterations):"
   ]
  },
  {
   "cell_type": "code",
   "execution_count": null,
   "metadata": {
    "colab": {
     "base_uri": "https://localhost:8080/",
     "height": 476
    },
    "id": "h0va9xvp1xGc",
    "outputId": "557d3a68-e532-4eb9-ecfb-e740fd88ee0b"
   },
   "outputs": [
    {
     "data": {
      "image/png": "[encoded data removed]",
      "text/plain": [
       "<Figure size 640x480 with 1 Axes>"
      ]
     },
     "metadata": {},
     "output_type": "display_data"
    }
   ],
   "source": [
    "alphas = np.linspace(0.01,500,100)\n",
    "lasso = Lasso(max_iter=10000)\n",
    "coefs = []\n",
    "\n",
    "for a in alphas:\n",
    "    lasso.set_params(alpha=a)\n",
    "    lasso.fit(X_train, y_train)\n",
    "    coefs.append(lasso.coef_)\n",
    "\n",
    "ax = plt.gca()\n",
    "\n",
    "ax.plot(alphas, coefs)\n",
    "ax.set_xscale('log')\n",
    "plt.axis('tight')\n",
    "plt.xlabel('alpha')\n",
    "plt.ylabel('Coefficients')\n",
    "plt.title('Lasso coefficients as a function of alpha');\n"
   ]
  },
  {
   "cell_type": "markdown",
   "metadata": {
    "id": "QbJx08X11xGc"
   },
   "source": [
    "Moving from left to right in the plot, observe that at first the lasso models contains many predictors with high magnitudes of coefficient estimates. With increasing `alpha`, the coefficient estimates approximate towards zero.\n",
    "\n",
    "Next, we use cross-validation to find the best value for  `alpha`. Lasso regression comes with built-in cross-validation."
   ]
  },
  {
   "cell_type": "code",
   "execution_count": null,
   "metadata": {
    "id": "vTad7GQPs9yA"
   },
   "outputs": [],
   "source": [
    "# Create and fit the LassoCV model to the training data with cross-validation\n",
    "# Lasso with 10 fold cross-validation\n",
    "lasso_cv_model = LassoCV(alphas = np.random.randint(0, 1000, 100), cv =10, max_iter=10000, n_jobs=-1).fit(X_train, y_train)"
   ]
  },
  {
   "cell_type": "markdown",
   "metadata": {
    "id": "0pdpdv83s9yA"
   },
   "source": [
    "Let's check the best alpha value."
   ]
  },
  {
   "cell_type": "code",
   "execution_count": null,
   "metadata": {
    "colab": {
     "base_uri": "https://localhost:8080/"
    },
    "id": "0HQEk3aVs9yA",
    "outputId": "ac07a25f-bd51-4a81-a5c7-572d8a4f416f"
   },
   "outputs": [
    {
     "data": {
      "text/plain": [
       "2"
      ]
     },
     "execution_count": 147,
     "metadata": {},
     "output_type": "execute_result"
    }
   ],
   "source": [
    "# Get the best alpha (regularization strength) selected by cross-validation\n",
    "lasso_cv_model.alpha_"
   ]
  },
  {
   "cell_type": "markdown",
   "metadata": {
    "id": "CW5ZYd2gs9yB"
   },
   "source": [
    "Let's use the best alpha value, and see if you can tune it."
   ]
  },
  {
   "cell_type": "code",
   "execution_count": null,
   "metadata": {
    "id": "uDUeMPmIs9yB"
   },
   "outputs": [],
   "source": [
    "# Create and fit the Lasso regression model using the best alpha found by cross-validation\n",
    "lasso_tuned = Lasso(alpha=lasso_cv_model.alpha_, max_iter=10000).fit(X_train, y_train)"
   ]
  },
  {
   "cell_type": "markdown",
   "metadata": {
    "id": "7JRWGCOrE2A-"
   },
   "source": [
    "**Model Evaluation on Lasso model with the best alpha**"
   ]
  },
  {
   "cell_type": "code",
   "execution_count": null,
   "metadata": {
    "colab": {
     "base_uri": "https://localhost:8080/"
    },
    "id": "CDIm8s8pDsnm",
    "outputId": "1982bcbf-c119-444e-f4c2-10b800fe4940"
   },
   "outputs": [
    {
     "name": "stdout",
     "output_type": "stream",
     "text": [
      "MSE training set post tuning 86559.92\n",
      "R squared training set post tuning 45.88\n",
      "---------------------------\n",
      "MSE test set post tuning 113899.49\n",
      "R squared test set post tuning 39.56\n"
     ]
    }
   ],
   "source": [
    "# Training data\n",
    "pred_train_tuned = lasso_tuned.predict(X_train)\n",
    "mse_train = mean_squared_error(y_train, pred_train_tuned)\n",
    "print('MSE training set post tuning', round(mse_train, 2))\n",
    "print('R squared training set post tuning', round(r2_score(y_train, pred_train_tuned)*100,2))\n",
    "print(\"---------------------------\")\n",
    "\n",
    "# Test data\n",
    "pred_test_tuned = lasso_tuned.predict(X_test)\n",
    "mse_test =mean_squared_error(y_test, pred_test_tuned)\n",
    "print('MSE test set post tuning', round(mse_test, 2))\n",
    "print('R squared test set post tuning', round(r2_score(y_test, pred_test_tuned)*100,2))\n"
   ]
  },
  {
   "cell_type": "markdown",
   "metadata": {
    "id": "XvF3w-t4s9yB"
   },
   "source": [
    "Now, let's find the coefficient of the tuned model."
   ]
  },
  {
   "cell_type": "code",
   "execution_count": null,
   "metadata": {
    "colab": {
     "base_uri": "https://localhost:8080/"
    },
    "id": "ZChGneRis9yB",
    "outputId": "3bb14a95-349c-439a-f0f9-f95b3146ff62"
   },
   "outputs": [
    {
     "data": {
      "text/plain": [
       "AtBat         -286.104115\n",
       "Hits           254.348794\n",
       "HmRun           18.404286\n",
       "Runs             0.000000\n",
       "RBI              0.000000\n",
       "Walks           91.683259\n",
       "Years          -77.110766\n",
       "CAtBat          -0.000000\n",
       "CHits            0.000000\n",
       "CHmRun           0.000000\n",
       "CRuns          239.158053\n",
       "CRBI           207.492927\n",
       "CWalks        -201.757992\n",
       "PutOuts         49.709415\n",
       "Assists         31.860632\n",
       "Errors         -18.661333\n",
       "League_N        18.381602\n",
       "Division_W    -119.563936\n",
       "NewLeague_N      0.000000\n",
       "dtype: float64"
      ]
     },
     "execution_count": 149,
     "metadata": {},
     "output_type": "execute_result"
    }
   ],
   "source": [
    "# Create a Pandas Series of the coefficients from the tuned Lasso regression model\n",
    "pd.Series(lasso_tuned.coef_, index=X_train.columns)"
   ]
  },
  {
   "cell_type": "markdown",
   "metadata": {
    "id": "2tj29zPks9yB"
   },
   "source": [
    "**Observations**\n",
    "- Zero Coefficients: Features like Runs, RBI, CAtBat, CHmRun, NewLeague_N, and several others have coefficients shrunk to zero. This indicates that Lasso has deemed these features less important or irrelevant for predicting the target variable in the presence of other features.\n",
    "\n",
    "- Non-Zero Coefficients: Features such as AtBat, Hits, Walks, CRuns, and CRBI have non-zero coefficients and are considered significant predictors in the model. The magnitude and sign of each coefficient indicate the strength and direction of the influence on the response variable:\n",
    "\n",
    "Positive Coefficients (e.g., Hits at 224.372390 and CRuns at 200.690747) suggest that an increase in these variables is associated with an increase in the target variable.\n",
    "\n",
    "Negative Coefficients (e.g., AtBat at -239.109204 and Years at -68.010940) suggest that an increase in these variables is associated with a decrease in the target variable"
   ]
  },
  {
   "cell_type": "markdown",
   "metadata": {
    "id": "03u3YnK3H_5I"
   },
   "source": [
    "### __3.8.2 Ridge Regression__"
   ]
  },
  {
   "cell_type": "markdown",
   "metadata": {
    "id": "8TUgyjIXA6B6"
   },
   "source": [
    "**Ridge Regression** also known as L2 Regularization is a regularization technique used in linear regression to prevent overfitting. It is useful for handling multicollinear data, where two predictors/independent variables are highly correlated to each other.\n",
    "\n",
    "*Collinearity* refers to a situation where two or more predictor variables in a multiple regression model are highly correlated, meaning they have a linear relationship. This correlation makes it difficult to determine the individual effect of each predictor on the target variable, leading to unreliable and unstable estimates of regression coefficients.\n",
    "\n",
    "Ridge regression adds a regularization term to the loss function that penalizes large coefficients in the model and encourages the model to have smaller coefficients.\n",
    "It results in a simpler and more generalized model.\n",
    "\n",
    "Ridge Regression does shrink the coefficients, it does not force them to zero, meaning it does not perform feature selection\n",
    "\n"
   ]
  },
  {
   "cell_type": "markdown",
   "metadata": {
    "id": "FhS4n-Df0GR4"
   },
   "source": [
    "Let's see how to implement Ridge regression"
   ]
  },
  {
   "cell_type": "markdown",
   "metadata": {
    "id": "jZk4HeTy0Ktf"
   },
   "source": [
    "\n",
    "- First, import the required libraries."
   ]
  },
  {
   "cell_type": "code",
   "execution_count": null,
   "metadata": {
    "id": "pSTb4I-30WW5"
   },
   "outputs": [],
   "source": [
    "# Import necessary libraries\n",
    "import pandas as pd\n",
    "import numpy as np\n",
    "from sklearn.model_selection import train_test_split, cross_val_score, RepeatedKFold\n",
    "from sklearn.linear_model import Ridge, RidgeCV\n",
    "from sklearn.metrics import mean_squared_error, r2_score"
   ]
  },
  {
   "cell_type": "markdown",
   "metadata": {
    "id": "_vTcxaDR0cGp"
   },
   "source": [
    "- Starting the implementation using the train test data acquired from the Lasso implementation on **Hitters.csv** dataset\n"
   ]
  },
  {
   "cell_type": "markdown",
   "metadata": {
    "id": "c3tGn4Ue1128"
   },
   "source": [
    "- Let's fit the model and check what the intercept value is."
   ]
  },
  {
   "cell_type": "code",
   "execution_count": null,
   "metadata": {
    "colab": {
     "base_uri": "https://localhost:8080/"
    },
    "id": "iOxpS1o_15Pp",
    "outputId": "afc6b35e-98ee-4e1e-a7b5-087ebbb63117"
   },
   "outputs": [
    {
     "data": {
      "text/plain": [
       "552.228755433354"
      ]
     },
     "execution_count": 151,
     "metadata": {},
     "output_type": "execute_result"
    }
   ],
   "source": [
    "# Create and fit the Ridge regression model to the training data\n",
    "ridge_model = Ridge(alpha=1).fit(X_train, y_train)\n",
    "ridge_model.intercept_"
   ]
  },
  {
   "cell_type": "markdown",
   "metadata": {
    "id": "v8J7WrIH1_6z"
   },
   "source": [
    "__Observation:__\n",
    "- The intercept value for the Ridge model is 552."
   ]
  },
  {
   "cell_type": "markdown",
   "metadata": {
    "id": "83qDs4Gc2DjI"
   },
   "source": [
    "**Model evaluation on Ridge model**\n"
   ]
  },
  {
   "cell_type": "code",
   "execution_count": null,
   "metadata": {
    "colab": {
     "base_uri": "https://localhost:8080/"
    },
    "id": "SxP67EMiFdFs",
    "outputId": "433d3db1-169c-431c-b7c3-b18b88412ced"
   },
   "outputs": [
    {
     "name": "stdout",
     "output_type": "stream",
     "text": [
      "MSE training set 84369.79\n",
      "R squared training set 47.25\n",
      "---------------------------\n",
      "MSE test set 116730.89\n",
      "R squared test set 38.06\n"
     ]
    }
   ],
   "source": [
    "# Training data\n",
    "pred_train = ridge_model.predict(X_train)\n",
    "mse_train = mean_squared_error(y_train, pred_train)\n",
    "print('MSE training set', round(mse_train, 2))\n",
    "print('R squared training set', round(r2_score(y_train, pred_train)*100,2))\n",
    "print(\"---------------------------\")\n",
    "\n",
    "# Test data\n",
    "pred_test = ridge_model.predict(X_test)\n",
    "mse_test =mean_squared_error(y_test, pred_test)\n",
    "print('MSE test set', round(mse_test, 2))\n",
    "print('R squared test set', round(r2_score(y_test, pred_test)*100,2))"
   ]
  },
  {
   "cell_type": "markdown",
   "metadata": {
    "id": "MNevyi4-2MRO"
   },
   "source": [
    "Let's check the coefficient of the model."
   ]
  },
  {
   "cell_type": "code",
   "execution_count": null,
   "metadata": {
    "colab": {
     "base_uri": "https://localhost:8080/"
    },
    "id": "RqQrinwY2PM6",
    "outputId": "d9ff5c47-5127-4a0e-c976-c0635bc136cf"
   },
   "outputs": [
    {
     "data": {
      "text/plain": [
       "array([-299.44680072,  247.15463531,   26.09749437,    8.12950685,\n",
       "         -4.59947678,   98.24018695,  -73.56921813, -208.11549116,\n",
       "        220.72992894,   24.79168215,  231.91705884,  188.99248475,\n",
       "       -212.18547418,   51.11247316,   46.6903119 ,  -27.64614616,\n",
       "         43.01303452, -120.28167205,  -17.53721078])"
      ]
     },
     "execution_count": 158,
     "metadata": {},
     "output_type": "execute_result"
    }
   ],
   "source": [
    "# Get the coefficients (weights) of the fitted Ridge regression model\n",
    "ridge_model.coef_"
   ]
  },
  {
   "cell_type": "markdown",
   "metadata": {
    "id": "6qp1GJ451xGf"
   },
   "source": [
    "Next, we use cross-validation to find the best value for  `alpha`. Ridge regression just like lasso, comes with built-in cross-validation."
   ]
  },
  {
   "cell_type": "code",
   "execution_count": null,
   "metadata": {
    "colab": {
     "base_uri": "https://localhost:8080/"
    },
    "id": "IVM1MZDN1xGg",
    "outputId": "b2e59f87-dd39-4e77-def7-de654d6ab9ad"
   },
   "outputs": [
    {
     "data": {
      "text/plain": [
       "209"
      ]
     },
     "execution_count": 159,
     "metadata": {},
     "output_type": "execute_result"
    }
   ],
   "source": [
    "ridge_cv_model = RidgeCV(alphas= np.random.randint(0, 1000, 100), cv=10).fit(X_train, y_train)\n",
    "\n",
    "# Get the best alpha (regularization strength) selected by cross-validation\n",
    "ridge_cv_model.alpha_"
   ]
  },
  {
   "cell_type": "code",
   "execution_count": null,
   "metadata": {
    "id": "hO8QzbEHHngm"
   },
   "outputs": [],
   "source": [
    "# Create and fit the ridge regression model using the best alpha found by cross-validation\n",
    "ridge_tuned = Ridge(alpha=ridge_cv_model.alpha_, max_iter=10000).fit(X_train, y_train)"
   ]
  },
  {
   "cell_type": "markdown",
   "metadata": {
    "id": "B8w21SamIEQR"
   },
   "source": [
    "**Model evaluation on tuned Ridge model**"
   ]
  },
  {
   "cell_type": "code",
   "execution_count": null,
   "metadata": {
    "colab": {
     "base_uri": "https://localhost:8080/"
    },
    "id": "FFz03YA1Hush",
    "outputId": "c653127d-e54f-45b3-e03e-9f807d2d1866"
   },
   "outputs": [
    {
     "name": "stdout",
     "output_type": "stream",
     "text": [
      "MSE training set 103173.6\n",
      "R squared training set 35.5\n",
      "---------------------------\n",
      "MSE test set 117628.13\n",
      "R squared test set 37.58\n"
     ]
    }
   ],
   "source": [
    "# Training data\n",
    "pred_train_tuned = ridge_tuned.predict(X_train)\n",
    "mse_train = mean_squared_error(y_train, pred_train_tuned)\n",
    "print('MSE training set', round(mse_train, 2))\n",
    "print('R squared training set', round(r2_score(y_train, pred_train_tuned)*100,2))\n",
    "print(\"---------------------------\")\n",
    "\n",
    "# Test data\n",
    "pred_test_tuned = ridge_tuned.predict(X_test)\n",
    "mse_test =mean_squared_error(y_test, pred_test_tuned)\n",
    "print('MSE test set', round(mse_test, 2))\n",
    "print('R squared test set', round(r2_score(y_test, pred_test_tuned)*100,2))\n"
   ]
  },
  {
   "cell_type": "code",
   "execution_count": null,
   "metadata": {
    "colab": {
     "base_uri": "https://localhost:8080/"
    },
    "id": "bOXnqJ3g1xGg",
    "outputId": "d613ddf9-119a-488e-924e-53245b796472"
   },
   "outputs": [
    {
     "data": {
      "text/plain": [
       "AtBat           4.925896\n",
       "Hits           26.551317\n",
       "HmRun           6.807946\n",
       "Runs           18.062272\n",
       "RBI            22.267985\n",
       "Walks          21.587807\n",
       "Years           4.773650\n",
       "CAtBat         21.613783\n",
       "CHits          32.269796\n",
       "CHmRun         28.169582\n",
       "CRuns          29.747216\n",
       "CRBI           34.494860\n",
       "CWalks          6.404554\n",
       "PutOuts        28.429207\n",
       "Assists         4.064505\n",
       "Errors         -6.135999\n",
       "League_N        8.646541\n",
       "Division_W    -30.130269\n",
       "NewLeague_N     4.258875\n",
       "dtype: float64"
      ]
     },
     "execution_count": 162,
     "metadata": {},
     "output_type": "execute_result"
    }
   ],
   "source": [
    "# Create a Pandas Series of the coefficients from the tuned Ridge regression model\n",
    "pd.Series(ridge_tuned.coef_, index=X_train.columns)"
   ]
  },
  {
   "cell_type": "markdown",
   "metadata": {
    "id": "2poRl82vI7FR"
   },
   "source": [
    "**Observation**\n",
    "\n",
    "- The coefficients with the highest values suggest that cumulative career statistics like total runs batted in, total hits, and total runs scored historically have the most significant positive influence on the target variable.\n",
    "\n",
    "- Division_W: The only feature with a notably high negative coefficient is Division_W, which indicates that being in the Western division is associated with a negative effect on the target variable. This could reflect divisional performance differences or disparities in competitive levels.\n",
    "\n",
    "- Years, Assists, and NewLeague_N: These features have smaller positive coefficients, suggesting a modest but positive influence on the model’s predictions. This indicates that experience and being in a new league might have a slight positive impact."
   ]
  },
  {
   "cell_type": "markdown",
   "metadata": {
    "id": "QuLh3jIcJoA0"
   },
   "source": [
    "This analysis helps in understanding the relative importance and influence of different aspects of a baseball player's statistics on the predicted target"
   ]
  },
  {
   "cell_type": "markdown",
   "metadata": {
    "id": "dzZVWOVwTT08"
   },
   "source": [
    "### __3.8.3 Elastic Net Regression__"
   ]
  },
  {
   "cell_type": "markdown",
   "metadata": {
    "id": "JFd1ufbkTZqr"
   },
   "source": [
    "Elastic Net regression is a regularization technique that linearly combines the penalties of Lasso (L1) and Ridge (L2) methods. It is particularly useful when dealing with highly collinear data, where ordinary least squares might not perform well.\n",
    "\n",
    "*Ordinary Least Squares (OLS)* is a method for estimating the parameters in a linear regression model. OLS aims to find the line (or hyperplane in higher dimensions) that minimizes the sum of the squared differences (residuals) between the observed values and the values predicted by the linear model. While OLS works well under many circumstances, it can become problematic when predictor variables are highly collinear making the model unstable and less interpretable."
   ]
  },
  {
   "cell_type": "markdown",
   "metadata": {
    "id": "M-r8iGEKTnDk"
   },
   "source": [
    "The Elastic Net method is defined as minimizing the following loss function:\n",
    "\n",
    "$$\n",
    "\\text{Loss} = \\frac{1}{2n} \\sum_{i=1}^{n} (y_i - \\beta_0 - \\sum_{j=1}^{p} \\beta_j x_{ij})^2 + \\lambda_1 \\sum_{j=1}^{p} |\\beta_j| + \\lambda_2 \\sum_{j=1}^{p} \\beta_j^2\n",
    "$$"
   ]
  },
  {
   "cell_type": "markdown",
   "metadata": {
    "id": "UwrcbjCKU9r6"
   },
   "source": [
    "\n",
    "\n",
    "Where:\n",
    "- $\\frac{1}{2n} \\sum_{i=1}^{n} (y_i - \\beta_0 - \\sum_{j=1}^{p} \\beta_j x_{ij})^2$ is the residual sum of squares.\n",
    "- $\\lambda_1 \\sum_{j=1}^{p} |\\beta_j|$ is the L1 penalty (Lasso).\n",
    "- $\\lambda_2 \\sum_{j=1}^{p} \\beta_j^2$ is the L2 penalty (Ridge).\n",
    "\n",
    "- $\\lambda_1$ and $\\lambda_2$ are regularization parameters that control the balance between fitting the model well to the data and keeping the model parameters small to avoid overfitting.\n"
   ]
  },
  {
   "cell_type": "markdown",
   "metadata": {
    "id": "LLjHWAWsVN-d"
   },
   "source": [
    "Let's see how to implement Elastic net regression"
   ]
  },
  {
   "cell_type": "markdown",
   "metadata": {
    "id": "ueZizM9rVN-l"
   },
   "source": [
    "\n",
    "- First, import the required libraries."
   ]
  },
  {
   "cell_type": "code",
   "execution_count": null,
   "metadata": {
    "id": "Vfj5sfrvVvaq"
   },
   "outputs": [],
   "source": [
    "from sklearn.linear_model import ElasticNetCV, ElasticNet"
   ]
  },
  {
   "cell_type": "markdown",
   "metadata": {
    "id": "1PIy0L88V8iy"
   },
   "source": [
    "- Starting the implementation using the train test data acquired from the Lasso implementation on **Hitters.csv** dataset\n"
   ]
  },
  {
   "cell_type": "markdown",
   "metadata": {
    "id": "1GWH12ZFV8iz"
   },
   "source": [
    "- Let's fit the model and check what the intercept value is."
   ]
  },
  {
   "cell_type": "code",
   "execution_count": null,
   "metadata": {
    "colab": {
     "base_uri": "https://localhost:8080/"
    },
    "id": "ZI4Z4vu0WAJO",
    "outputId": "a3e865a0-3627-4e68-cce8-b20579e1bca2"
   },
   "outputs": [
    {
     "data": {
      "text/plain": [
       "518.1732769716566"
      ]
     },
     "execution_count": 164,
     "metadata": {},
     "output_type": "execute_result"
    }
   ],
   "source": [
    "# Initializing and fitting the ElasticNet model\n",
    "elastic_net = ElasticNet(alpha=1.0, l1_ratio=0.5)  # alpha is the regularization parameter\n",
    "elastic_net.fit(X_train, y_train)\n",
    "elastic_net.intercept_"
   ]
  },
  {
   "cell_type": "markdown",
   "metadata": {
    "id": "RwDfSiDqXYFK"
   },
   "source": [
    "__Observation:__\n",
    "- The intercept value for the ElasticNet model is 518."
   ]
  },
  {
   "cell_type": "markdown",
   "metadata": {
    "id": "-AqecmjxXYFS"
   },
   "source": [
    "- The following code calculates the root mean squared error (RMSE) of the testing data:"
   ]
  },
  {
   "cell_type": "code",
   "execution_count": null,
   "metadata": {
    "colab": {
     "base_uri": "https://localhost:8080/"
    },
    "id": "8roaE0hgXnCM",
    "outputId": "dd871491-c33c-451e-f583-46c2eed011c4"
   },
   "outputs": [
    {
     "name": "stdout",
     "output_type": "stream",
     "text": [
      "Root mean Squared Error(RMSE):  339.827814119469\n"
     ]
    }
   ],
   "source": [
    "# Make predictions on the test set using the fitted Ridge regression model\n",
    "y_pred = elastic_net.predict(X_test)\n",
    "mean_squared_error(y_test, y_pred)\n",
    "\n",
    "print(\"Root mean Squared Error(RMSE): \", np.sqrt(mean_squared_error(y_test, y_pred)))"
   ]
  },
  {
   "cell_type": "markdown",
   "metadata": {
    "id": "Jdz0U8IWXnCS"
   },
   "source": [
    "__Observation:__\n",
    "- The MSE value is 115482.\n",
    "- Root mean Squared Error(RMSE):  339.827814119469"
   ]
  },
  {
   "cell_type": "markdown",
   "metadata": {
    "id": "ucILltfMXnCT"
   },
   "source": [
    "Let's check the coefficient of the model and the R2 score."
   ]
  },
  {
   "cell_type": "code",
   "execution_count": null,
   "metadata": {
    "colab": {
     "base_uri": "https://localhost:8080/"
    },
    "id": "Np7Qk0FUXnCT",
    "outputId": "0fc8ee73-8d3a-495a-b942-17961ebe9887"
   },
   "outputs": [
    {
     "data": {
      "text/plain": [
       "array([ -2.32444269,  32.30474803,   2.9866463 ,  19.29717715,\n",
       "        24.37757748,  24.03646085,  -1.75094796,  21.18106091,\n",
       "        38.83116968,  31.91940944,  34.58738415,  41.51340678,\n",
       "        -1.10580746,  34.27606622,   5.57111951,  -9.40358356,\n",
       "        11.97939869, -44.3230192 ,   4.71404392])"
      ]
     },
     "execution_count": 170,
     "metadata": {},
     "output_type": "execute_result"
    }
   ],
   "source": [
    "# Get the coefficients (weights) of the fitted Ridge regression model\n",
    "elastic_net.coef_"
   ]
  },
  {
   "cell_type": "code",
   "execution_count": null,
   "metadata": {
    "colab": {
     "base_uri": "https://localhost:8080/"
    },
    "id": "vW-HcbHgXnCT",
    "outputId": "57e5616d-b9e2-420f-d2db-1f44dbe26c73"
   },
   "outputs": [
    {
     "data": {
      "text/plain": [
       "0.38723248495497564"
      ]
     },
     "execution_count": 171,
     "metadata": {},
     "output_type": "execute_result"
    }
   ],
   "source": [
    "# Get r2_score\n",
    "r2_score(y_test, y_pred)"
   ]
  },
  {
   "cell_type": "markdown",
   "metadata": {
    "id": "gvE6NoO3ZNer"
   },
   "source": [
    "__Observation:__\n",
    "- The r2 score is 0.38."
   ]
  },
  {
   "cell_type": "markdown",
   "metadata": {
    "id": "2tm6EBc9h4fp"
   },
   "source": [
    "In Elastic Net regression,\n",
    "- `alpha` controls the overall strength of regularization, with higher values leading to more shrinkage of the coefficients to reduce overfitting.  It's better to use a log scale or more systematic approach to ensure that the alphas tested cover a suitable range, especially since very small or very large values might not be appropriate:\n",
    "\n",
    "- `l1_ratio` determines the mix of L1 (Lasso) and L2 (Ridge) regularization, ranging from 0 (pure Ridge) to 1 (pure Lasso). Intermediate values blend the two, leveraging Lasso's sparsity and Ridge's ability to handle multicollinearity. Ensure l1_ratio ranges from a small positive number to 1 (but not including 0 if you wish to avoid pure Ridge regression). This parameter is the mix ratio that controls the combination of L1 and L2 regularization\n",
    "\n",
    "Tuning these parameters allows Elastic Net to balance model performance and interpretability effectively.\n",
    "\n"
   ]
  },
  {
   "cell_type": "code",
   "execution_count": null,
   "metadata": {
    "id": "fD4nPUTjMWzp"
   },
   "outputs": [],
   "source": [
    "# Define the parameter grid for alpha and l1_ratio\n",
    "alphas = np.logspace(-2, 2, 100)\n",
    "\n",
    "# start from 0.01 to include L1 regularization\n",
    "l1_ratios = np.linspace(0.01, 1, 100)\n",
    "\n",
    "# Create and fit the Elastic Net CV model, using 10-fold cross-validation\n",
    "elastic_cv_model = ElasticNetCV(alphas=alphas, l1_ratio=l1_ratios, cv=10, max_iter=10000).fit(X_train, y_train)"
   ]
  },
  {
   "cell_type": "code",
   "execution_count": null,
   "metadata": {
    "colab": {
     "base_uri": "https://localhost:8080/"
    },
    "id": "0i22M4jOf-6y",
    "outputId": "d84ddf27-b05b-4a3c-85d9-f697b6c7028a"
   },
   "outputs": [
    {
     "name": "stdout",
     "output_type": "stream",
     "text": [
      "Best alpha: 0.01747528400007684\n",
      "Best l1_ratio: 0.060000000000000005\n"
     ]
    }
   ],
   "source": [
    "best_alpha = elastic_cv_model.alpha_\n",
    "best_l1_ratio = elastic_cv_model.l1_ratio_\n",
    "# Print the best alpha and l1_ratio found\n",
    "print('Best alpha:', best_alpha)\n",
    "print('Best l1_ratio:', best_l1_ratio)"
   ]
  },
  {
   "cell_type": "code",
   "execution_count": null,
   "metadata": {
    "id": "ldM3So2qg_KQ"
   },
   "outputs": [],
   "source": [
    "# Create and fit the Elastic Net regression model using the best alpha and l1_ratio found by cross-validation\n",
    "elastic_tuned = ElasticNet(alpha=best_alpha, l1_ratio=best_l1_ratio, max_iter=10000).fit(X_train, y_train)\n",
    "\n",
    "# Make predictions on the test set using the tuned Elastic Net regression model\n",
    "y_pred_tuned = elastic_tuned.predict(X_test)"
   ]
  },
  {
   "cell_type": "code",
   "execution_count": null,
   "metadata": {
    "colab": {
     "base_uri": "https://localhost:8080/"
    },
    "id": "LRzOTQPShFOr",
    "outputId": "a25059fd-55f0-4060-b275-31d640cb4db2"
   },
   "outputs": [
    {
     "name": "stdout",
     "output_type": "stream",
     "text": [
      "Root Mean Squared Error: 338.23516319436953\n"
     ]
    }
   ],
   "source": [
    "# Calculate and print the root mean squared error (RMSE) of the predictions\n",
    "rmse = np.sqrt(mean_squared_error(y_test, y_pred_tuned))\n",
    "print('Root Mean Squared Error:', rmse)"
   ]
  },
  {
   "cell_type": "code",
   "execution_count": null,
   "metadata": {
    "colab": {
     "base_uri": "https://localhost:8080/"
    },
    "id": "abrKl6pshR2q",
    "outputId": "978829b9-4f63-4758-80b5-c821ed4d91e3"
   },
   "outputs": [
    {
     "name": "stdout",
     "output_type": "stream",
     "text": [
      "AtBat         -227.585549\n",
      "Hits           178.391331\n",
      "HmRun            6.397823\n",
      "Runs            24.394902\n",
      "RBI             16.613592\n",
      "Walks           78.937465\n",
      "Years          -78.409075\n",
      "CAtBat         -62.728112\n",
      "CHits          158.845697\n",
      "CHmRun          42.906875\n",
      "CRuns          147.262779\n",
      "CRBI           134.439319\n",
      "CWalks        -168.253409\n",
      "PutOuts         50.994891\n",
      "Assists         38.654512\n",
      "Errors         -29.305492\n",
      "League_N        37.137138\n",
      "Division_W    -119.854355\n",
      "NewLeague_N    -11.958422\n",
      "dtype: float64\n"
     ]
    }
   ],
   "source": [
    "# Create a Pandas Series of the coefficients from the tuned Elastic Net regression model\n",
    "coefficients = pd.Series(elastic_tuned.coef_, index=X_train.columns)\n",
    "print(coefficients)"
   ]
  },
  {
   "cell_type": "code",
   "execution_count": null,
   "metadata": {
    "colab": {
     "base_uri": "https://localhost:8080/"
    },
    "id": "1GFx61GihgCO",
    "outputId": "8905aab8-5dbe-49a8-b1d1-5247724a084b"
   },
   "outputs": [
    {
     "name": "stdout",
     "output_type": "stream",
     "text": [
      "R squared training set: 46.16\n",
      "R squared test set: 39.3\n"
     ]
    }
   ],
   "source": [
    "# Print R-squared scores for the training and test sets\n",
    "print('R squared training set:', round(elastic_tuned.score(X_train, y_train) * 100, 2))\n",
    "print('R squared test set:', round(elastic_tuned.score(X_test, y_test) * 100, 2))"
   ]
  },
  {
   "cell_type": "markdown",
   "metadata": {
    "id": "lyZOMCY2Qc2x"
   },
   "source": [
    "\n",
    "## __3.9 Model Optimization__"
   ]
  },
  {
   "cell_type": "markdown",
   "metadata": {
    "id": "II-sO6PMp_Ag"
   },
   "source": [
    "### __3.9.1 Hyperparameter tuning__\n",
    "\n",
    "- Hyperparameter tuning is the process of finding the best settings for the parameters in a machine-learning model.\n",
    "- Hyperparameters are settings that are not learned during training but are set before the training process begins.\n",
    "- Hyperparameter tuning involves trying different combinations of hyperparameters and evaluating the model's performance using validation techniques.\n",
    "\n",
    "Some common techniques for Hyperparameter tuning are:\n",
    "\n",
    "1. **Grid Search**: It systematically works through multiple combinations of hyperparameters. It performs an exhaustive search on a specified parameter grid.\n",
    "\n",
    "\n",
    "  * **How it works:**\n",
    "    * Define a Parameter Grid: Specify a set of hyperparameters and their possible values.\n",
    "    * Combination Evaluation: The algorithm evaluates all possible combinations of these hyperparameters.\n",
    "    * Model Training: For each combination, the model is trained and evaluated using cross-validation.\n",
    "    * Optimal Parameters: The combination yielding the best performance (e.g., highest accuracy) is chosen as the optimal set.\n",
    "\n",
    "2. **Random Search:** It explores hyperparameter space by sampling a fixed number of parameter settings from the specified distributions.\n",
    "\n",
    "* **How it works:**\n",
    "  * Define Parameter Distributions: Specify distributions or ranges for the hyperparameters.\n",
    "  * Random Sampling: Randomly sample combinations of hyperparameters from these distributions.\n",
    "  * Model Training: For each sampled combination, the model is trained and evaluated using cross-validation.\n",
    "  * Optimal Parameters: The combination yielding the best performance is chosen as the optimal set.\n",
    "\n",
    "### Implementation of Gridsearch Cross validation technique:"
   ]
  },
  {
   "cell_type": "code",
   "execution_count": null,
   "metadata": {
    "colab": {
     "base_uri": "https://localhost:8080/"
    },
    "id": "86UAaDQ02Wpo",
    "outputId": "279f0252-ee6a-4b4f-c406-bf2584b11921"
   },
   "outputs": [
    {
     "name": "stdout",
     "output_type": "stream",
     "text": [
      "MAE: -238.285\n",
      "Config: {'alpha': 0.9}\n"
     ]
    }
   ],
   "source": [
    "# Import the necessary classes from scikit-learn\n",
    "from sklearn.model_selection import GridSearchCV\n",
    "\n",
    "# Create a repeated K-fold cross-validator\n",
    "cv = RepeatedKFold(n_splits =10, n_repeats =3, random_state =1)\n",
    "\n",
    "# Define the grid of hyperparameters to search\n",
    "grid = dict()\n",
    "grid['alpha'] = np.arange(0,1,0.1)\n",
    "# Create an instance of the Ridge regression model\n",
    "model = Ridge()\n",
    "# Create the GridSearchCV object\n",
    "search = GridSearchCV(model, grid, scoring = 'neg_mean_absolute_error',cv = cv, n_jobs= -1)\n",
    "# Fit the GridSearchCV object to the training data\n",
    "results = search.fit(X_train, y_train)\n",
    "print('MAE: %.3f' % results.best_score_)\n",
    "print('Config: %s' % results.best_params_)"
   ]
  },
  {
   "cell_type": "markdown",
   "metadata": {
    "id": "3RBzrRZs2lnx"
   },
   "source": [
    "__Observation:__\n",
    "\n",
    "- As you can see from the output, the Mean Absolute Error, and the configuration fusion alpha is **0.9**."
   ]
  },
  {
   "cell_type": "markdown",
   "metadata": {
    "id": "Y4HQ3wAO2pQF"
   },
   "source": [
    "- Let's try this with alpha points and predict it."
   ]
  },
  {
   "cell_type": "code",
   "execution_count": null,
   "metadata": {
    "colab": {
     "base_uri": "https://localhost:8080/"
    },
    "id": "t15x-HlZ1xGh",
    "outputId": "24dd0da9-4428-44a8-8149-c29b3f083c46"
   },
   "outputs": [
    {
     "data": {
      "text/plain": [
       "0.9"
      ]
     },
     "execution_count": 180,
     "metadata": {},
     "output_type": "execute_result"
    }
   ],
   "source": [
    "# Fetch the value from the key value pair in the dictionary, results\n",
    "results.best_params_.get('alpha')"
   ]
  },
  {
   "cell_type": "code",
   "execution_count": null,
   "metadata": {
    "colab": {
     "base_uri": "https://localhost:8080/"
    },
    "id": "OIlZePAk2uqN",
    "outputId": "3668b278-76fc-4288-a4bb-4a25cfd728ee"
   },
   "outputs": [
    {
     "data": {
      "text/plain": [
       "341.87636396607616"
      ]
     },
     "execution_count": 182,
     "metadata": {},
     "output_type": "execute_result"
    }
   ],
   "source": [
    "# Create and fit the Ridge regression model to the training data with the optimal alpha\n",
    "ridge_model_after_gridcv = Ridge(alpha = results.best_params_.get('alpha')).fit(X_train, y_train)\n",
    "y_pred_after_gridcv = ridge_model_after_gridcv.predict(X_test)\n",
    "np.sqrt(mean_squared_error(y_test, y_pred_after_gridcv))"
   ]
  },
  {
   "cell_type": "code",
   "execution_count": null,
   "metadata": {
    "colab": {
     "base_uri": "https://localhost:8080/"
    },
    "id": "9kpfJROH25BR",
    "outputId": "b05bc665-815b-45e2-f51e-e31fa2196192"
   },
   "outputs": [
    {
     "data": {
      "text/plain": [
       "0.379822447870229"
      ]
     },
     "execution_count": 183,
     "metadata": {},
     "output_type": "execute_result"
    }
   ],
   "source": [
    "# Get the r2 score\n",
    "r2_score(y_test,y_pred_after_gridcv)"
   ]
  },
  {
   "cell_type": "markdown",
   "metadata": {
    "id": "BT2VYAba2-Zl"
   },
   "source": [
    "__Observation:__\n",
    "- The r2 score is 0.38. It suggests a moderate fit. The model captures some of the variability in the data but not a large portion."
   ]
  },
  {
   "cell_type": "markdown",
   "metadata": {
    "id": "KJIgHdrb3B5k"
   },
   "source": [
    "- Let's check the coefficient of the ridge regression."
   ]
  },
  {
   "cell_type": "code",
   "execution_count": null,
   "metadata": {
    "colab": {
     "base_uri": "https://localhost:8080/"
    },
    "id": "xbjpwKgd3GZp",
    "outputId": "bc3e97e9-77d7-4a23-fdca-e0c2e9f7bb53"
   },
   "outputs": [
    {
     "data": {
      "text/plain": [
       "AtBat         -301.940590\n",
       "Hits           250.000657\n",
       "HmRun           27.368934\n",
       "Runs             7.101426\n",
       "RBI             -6.000930\n",
       "Walks           99.030120\n",
       "Years          -72.603088\n",
       "CAtBat        -221.067417\n",
       "CHits          225.900021\n",
       "CHmRun          22.855480\n",
       "CRuns          237.607797\n",
       "CRBI           193.577140\n",
       "CWalks        -213.804271\n",
       "PutOuts         51.080832\n",
       "Assists         47.120753\n",
       "Errors         -27.541072\n",
       "League_N        43.413579\n",
       "Division_W    -120.095472\n",
       "NewLeague_N    -17.822759\n",
       "dtype: float64"
      ]
     },
     "execution_count": 184,
     "metadata": {},
     "output_type": "execute_result"
    }
   ],
   "source": [
    "# Create a Pandas Series of the coefficients from the fitted Ridge regression model\n",
    "pd.Series(ridge_model_after_gridcv.coef_, index = X_train.columns)"
   ]
  },
  {
   "cell_type": "markdown",
   "metadata": {
    "id": "YuGWJq-H3xRH"
   },
   "source": [
    "__Observation:__\n",
    "\n",
    "- Penalization has occurred, as you can see in the negative values."
   ]
  },
  {
   "cell_type": "markdown",
   "metadata": {
    "id": "q788pGwAJCPp"
   },
   "source": [
    "### __Sklearn Pipelines__"
   ]
  },
  {
   "cell_type": "markdown",
   "metadata": {
    "id": "2u8IENfkJCPp"
   },
   "source": [
    "#### __Why sklearn pipelines?__"
   ]
  },
  {
   "cell_type": "markdown",
   "metadata": {
    "id": "NXsPrWcaJCPp"
   },
   "source": [
    "**Pipelines provide an organized approach to managing your data preprocessing and modeling code. They combine preprocessing and modeling steps into a single, streamlined process.**\n",
    "\n",
    " - **Cleaner Code**: Pipelines eliminate the need to manually manage training and validation data at each preprocessing step, reducing clutter and complexity.\n",
    "\n",
    " - **Fewer Bugs**: By bundling steps together, pipelines minimize the risk of misapplying or forgetting a preprocessing step.\n",
    "\n",
    " - **Easier to Productionize**: Pipelines simplify the transition from a prototype model to a scalable, deployable solution."
   ]
  },
  {
   "cell_type": "markdown",
   "metadata": {
    "id": "ddQRwBIUJCPp"
   },
   "source": [
    "**Syntax**:\n",
    "```python\n",
    "class sklearn.pipeline.Pipeline(steps, *, memory=None, verbose=False)\n",
    "\n",
    "```"
   ]
  },
  {
   "cell_type": "markdown",
   "metadata": {
    "id": "Eu7-ItBuJCPp"
   },
   "source": [
    "**Before we start the application, let's pay attention to the following important points**:\n",
    "\n",
    " - A pipeline is a sequence of data transformers that can include a final predictor.\n",
    "\n",
    " - It lets you apply multiple preprocessing steps to your data in order, and optionally end with a predictor for modeling.\n",
    "\n",
    " - Each intermediate step in the pipeline must have fit and transform methods, while the final step only needs fit.\n",
    "\n",
    " - You can cache these transformers using the memory argument.\n",
    "\n",
    " - The pipeline's main goal is to combine multiple steps that can be cross-validated together and have their parameters adjusted.\n",
    "\n",
    " - You can set parameters for any step by using its name followed by a double underscore(__) and the parameter name.\n",
    "\n",
    " - You can replace any step's estimator with another estimator or remove a transformer by setting it to 'passthrough' or None."
   ]
  },
  {
   "cell_type": "markdown",
   "metadata": {
    "id": "7PN4_6toJCPp"
   },
   "source": [
    "#### Lets look at the housing data with `Ocean proximity` feature:"
   ]
  },
  {
   "cell_type": "code",
   "execution_count": null,
   "metadata": {
    "id": "uHc7WIJsJCPp"
   },
   "outputs": [],
   "source": [
    "housing_data = pd.read_csv(\"housing_with_ocean_proximity.csv\")"
   ]
  },
  {
   "cell_type": "code",
   "execution_count": null,
   "metadata": {
    "id": "dY929xeLJCPp",
    "outputId": "7f8eda64-4444-4f40-ae4e-9763a1f0aff8"
   },
   "outputs": [
    {
     "data": {
      "text/html": [
       "<div>\n",
       "<style scoped>\n",
       "    .dataframe tbody tr th:only-of-type {\n",
       "        vertical-align: middle;\n",
       "    }\n",
       "\n",
       "    .dataframe tbody tr th {\n",
       "        vertical-align: top;\n",
       "    }\n",
       "\n",
       "    .dataframe thead th {\n",
       "        text-align: right;\n",
       "    }\n",
       "</style>\n",
       "<table border=\"1\" class=\"dataframe\">\n",
       "  <thead>\n",
       "    <tr style=\"text-align: right;\">\n",
       "      <th></th>\n",
       "      <th>longitude</th>\n",
       "      <th>latitude</th>\n",
       "      <th>housing_median_age</th>\n",
       "      <th>total_rooms</th>\n",
       "      <th>total_bedrooms</th>\n",
       "      <th>population</th>\n",
       "      <th>households</th>\n",
       "      <th>median_income</th>\n",
       "      <th>median_house_value</th>\n",
       "      <th>ocean_proximity</th>\n",
       "    </tr>\n",
       "  </thead>\n",
       "  <tbody>\n",
       "    <tr>\n",
       "      <th>0</th>\n",
       "      <td>-122.23</td>\n",
       "      <td>37.88</td>\n",
       "      <td>41.0</td>\n",
       "      <td>880.0</td>\n",
       "      <td>129.0</td>\n",
       "      <td>322.0</td>\n",
       "      <td>126.0</td>\n",
       "      <td>8.3252</td>\n",
       "      <td>452600.0</td>\n",
       "      <td>NEAR BAY</td>\n",
       "    </tr>\n",
       "    <tr>\n",
       "      <th>1</th>\n",
       "      <td>-122.22</td>\n",
       "      <td>37.86</td>\n",
       "      <td>21.0</td>\n",
       "      <td>7099.0</td>\n",
       "      <td>1106.0</td>\n",
       "      <td>2401.0</td>\n",
       "      <td>1138.0</td>\n",
       "      <td>8.3014</td>\n",
       "      <td>358500.0</td>\n",
       "      <td>NEAR BAY</td>\n",
       "    </tr>\n",
       "    <tr>\n",
       "      <th>2</th>\n",
       "      <td>-122.24</td>\n",
       "      <td>37.85</td>\n",
       "      <td>52.0</td>\n",
       "      <td>1467.0</td>\n",
       "      <td>190.0</td>\n",
       "      <td>496.0</td>\n",
       "      <td>177.0</td>\n",
       "      <td>7.2574</td>\n",
       "      <td>352100.0</td>\n",
       "      <td>NEAR BAY</td>\n",
       "    </tr>\n",
       "  </tbody>\n",
       "</table>\n",
       "</div>"
      ],
      "text/plain": [
       "   longitude  latitude  housing_median_age  total_rooms  total_bedrooms  \\\n",
       "0    -122.23     37.88                41.0        880.0           129.0   \n",
       "1    -122.22     37.86                21.0       7099.0          1106.0   \n",
       "2    -122.24     37.85                52.0       1467.0           190.0   \n",
       "\n",
       "   population  households  median_income  median_house_value ocean_proximity  \n",
       "0       322.0       126.0         8.3252            452600.0        NEAR BAY  \n",
       "1      2401.0      1138.0         8.3014            358500.0        NEAR BAY  \n",
       "2       496.0       177.0         7.2574            352100.0        NEAR BAY  "
      ]
     },
     "execution_count": 9,
     "metadata": {},
     "output_type": "execute_result"
    }
   ],
   "source": [
    "housing_data.head(5)"
   ]
  },
  {
   "cell_type": "code",
   "execution_count": null,
   "metadata": {
    "id": "aFxYo8Pw5JrC"
   },
   "outputs": [],
   "source": [
    "# Separate features and target variable\n",
    "# Assuming 'median_house_value' is the target variable in your dataset\n",
    "X = housing_data.drop('median_house_value', axis=1)\n",
    "y = housing_data['median_house_value']"
   ]
  },
  {
   "cell_type": "code",
   "execution_count": null,
   "metadata": {
    "id": "i0H6lIExJCPp"
   },
   "outputs": [],
   "source": [
    "# Split the data into training and testing sets\n",
    "X_train, X_test, y_train, y_test = train_test_split(X, y, test_size=0.30, random_state=2024)"
   ]
  },
  {
   "cell_type": "code",
   "execution_count": null,
   "metadata": {
    "id": "PmeWXusI5JrC",
    "outputId": "c5a47564-f778-4cec-bf5b-e7ed72820fbb"
   },
   "outputs": [
    {
     "name": "stdout",
     "output_type": "stream",
     "text": [
      "<class 'pandas.core.frame.DataFrame'>\n",
      "Index: 14448 entries, 4722 to 7816\n",
      "Data columns (total 9 columns):\n",
      " #   Column              Non-Null Count  Dtype  \n",
      "---  ------              --------------  -----  \n",
      " 0   longitude           14448 non-null  float64\n",
      " 1   latitude            14448 non-null  float64\n",
      " 2   housing_median_age  14448 non-null  float64\n",
      " 3   total_rooms         14448 non-null  float64\n",
      " 4   total_bedrooms      14286 non-null  float64\n",
      " 5   population          14448 non-null  float64\n",
      " 6   households          14448 non-null  float64\n",
      " 7   median_income       14448 non-null  float64\n",
      " 8   ocean_proximity     14448 non-null  object \n",
      "dtypes: float64(8), object(1)\n",
      "memory usage: 1.1+ MB\n",
      "None\n",
      "longitude               0\n",
      "latitude                0\n",
      "housing_median_age      0\n",
      "total_rooms             0\n",
      "total_bedrooms        162\n",
      "population              0\n",
      "households              0\n",
      "median_income           0\n",
      "ocean_proximity         0\n",
      "dtype: int64\n"
     ]
    }
   ],
   "source": [
    "# Print info to check the structure of the training data\n",
    "print(X_train.info())\n",
    "print(X_train.isna().sum())"
   ]
  },
  {
   "cell_type": "markdown",
   "metadata": {
    "id": "qKqV5G9sJCPp"
   },
   "source": [
    "#### Implementation for sklearn pipelines\n"
   ]
  },
  {
   "cell_type": "markdown",
   "metadata": {
    "id": "_tuxhnoYJCPp"
   },
   "source": [
    "![link text](https://labcontent.simplicdn.net/data-content/content-assets/Data_and_AI/ML/Lesson_03/Sklearn_pipeline_1.png)"
   ]
  },
  {
   "cell_type": "markdown",
   "metadata": {
    "id": "3_nY3QOuJCPp"
   },
   "source": [
    "![link text](https://labcontent.simplicdn.net/data-content/content-assets/Data_and_AI/ML/Lesson_03/Sklearn_pipeline_2.png)"
   ]
  },
  {
   "cell_type": "markdown",
   "metadata": {
    "id": "FdtR51LVJCPp"
   },
   "source": [
    "#### We need to perform following preprocessing steps before building the model\n",
    "\n",
    "1. Missing value treatment - 162 missing values in total_bedrooms(a numeric column)\n",
    "2. Dummy variable creation for categorical data\n",
    "3. Standardization of numeric variables"
   ]
  },
  {
   "cell_type": "code",
   "execution_count": null,
   "metadata": {
    "id": "6XnT3bUdJCPq"
   },
   "outputs": [],
   "source": [
    "# import StandardScaler for standardization and OneHotEncoder for creating dummy variables\n",
    "from sklearn.preprocessing import StandardScaler, OneHotEncoder\n",
    "\n",
    "# import SimpleImputer for missing value treatment\n",
    "from sklearn.impute import SimpleImputer\n",
    "\n",
    "# importing pipeline class. The Pipeline class is used to create a sequence of data processing steps.\n",
    "from sklearn.pipeline import Pipeline\n",
    "\n",
    "# importing ColumnTransformer class to apply different preprocessing steps to different subsets of features in your dataset.\n",
    "from sklearn.compose import ColumnTransformer"
   ]
  },
  {
   "cell_type": "markdown",
   "metadata": {
    "id": "gjXlZ3znJCPq"
   },
   "source": [
    "**A note about ColumnTransformer**\n",
    "\n",
    "* ColumnTransformer class allows you to apply different preprocessing steps to different subsets of features in your dataset.\n",
    "* This is particularly useful when you have a mix of numerical and categorical data that require different types of preprocessing.\n",
    "* ColumnTransformer ensures that each column or group of columns gets the appropriate transformation before combining the results for further processing or modeling."
   ]
  },
  {
   "cell_type": "markdown",
   "metadata": {
    "id": "sLpxNEFaJCPq"
   },
   "source": [
    "### __Data preprocessing starts here:__"
   ]
  },
  {
   "cell_type": "markdown",
   "metadata": {
    "id": "CBrCwrleJCPq"
   },
   "source": [
    "#### Steps to perform:\n",
    "    \n",
    "#### Step 1: Let's store the names of numeric and object type variables separately."
   ]
  },
  {
   "cell_type": "code",
   "execution_count": null,
   "metadata": {
    "id": "e6jD0wYsJCPq"
   },
   "outputs": [],
   "source": [
    "# Set up preprocessing steps for numeric and categorical data\n",
    "housing_cat = X_train.select_dtypes(include='object').columns\n",
    "housing_num = X_train.select_dtypes(exclude='object').columns"
   ]
  },
  {
   "cell_type": "markdown",
   "metadata": {
    "id": "mkgemfJ-JCPq"
   },
   "source": [
    "------------------------------------"
   ]
  },
  {
   "cell_type": "markdown",
   "metadata": {
    "id": "xyDCfq3lJCPq"
   },
   "source": [
    "#### Step 2: Set-up sklearn pipeline for numeric variables. We need to perform missing value imputation and then standardization."
   ]
  },
  {
   "cell_type": "code",
   "execution_count": null,
   "metadata": {
    "id": "KudVlvB3JCPq"
   },
   "outputs": [],
   "source": [
    "# Numeric variables pipeline\n",
    "num_pipeline = Pipeline([\n",
    "    ('imputer', SimpleImputer(strategy='median')),\n",
    "    ('std_scaler', StandardScaler())\n",
    "])"
   ]
  },
  {
   "cell_type": "markdown",
   "metadata": {
    "id": "9Bj7McC2JCPq"
   },
   "source": [
    "The num_pipeline is a pipeline that preprocesses numerical data in two steps:\n",
    "\n",
    "- Imputation: Fills missing values using the median value of each column (SimpleImputer(strategy='median')).\n",
    " - Standardization: Scales the data to have a mean of 0 and a standard deviation of 1 (StandardScaler()).\n",
    "\n",
    "This pipeline ensures consistent and streamlined preprocessing of numerical data."
   ]
  },
  {
   "cell_type": "markdown",
   "metadata": {
    "id": "z-ch2NFiJCPq"
   },
   "source": [
    "------------------------------------"
   ]
  },
  {
   "cell_type": "markdown",
   "metadata": {
    "id": "7TuFRTCkJCPq"
   },
   "source": [
    "#### Step 3: Unified Data Preprocessing with Pipelines and ColumnTransformer"
   ]
  },
  {
   "cell_type": "code",
   "execution_count": null,
   "metadata": {
    "id": "aQR14gk_JCPq"
   },
   "outputs": [],
   "source": [
    "# Unified preprocessing for both numeric and categorical data\n",
    "preprocessing = ColumnTransformer([\n",
    "    ('num', num_pipeline, housing_num),\n",
    "    ('cat', OneHotEncoder(handle_unknown='ignore'), housing_cat)\n",
    "])"
   ]
  },
  {
   "cell_type": "markdown",
   "metadata": {
    "id": "V-A3phf1JCPq"
   },
   "source": [
    "The preprocessing step uses ColumnTransformer to apply different preprocessing pipelines to different types of data in the dataset:\n",
    "\n",
    " - Numerical Data: Applies num_pipeline to columns in housing_num, performing imputation and standardization.\n",
    " - Categorical Data: Applies OneHotEncoder to columns in housing_cat, converting categorical variables into a one-hot encoded format, ignoring unknown categories.\n",
    "\n",
    "This ensures that both numerical and categorical data are preprocessed appropriately within a single, unified framework."
   ]
  },
  {
   "cell_type": "markdown",
   "metadata": {
    "id": "yaI1Qty4JCPq"
   },
   "source": [
    "------------------------------------"
   ]
  },
  {
   "cell_type": "markdown",
   "metadata": {
    "id": "XQ0EBrXVJCPq"
   },
   "source": [
    "#### Let's check how the pipeline we have created works with the data"
   ]
  },
  {
   "cell_type": "code",
   "execution_count": null,
   "metadata": {
    "id": "rX9c4geYJCPq"
   },
   "outputs": [],
   "source": [
    "# applying preprocessing pipeline to train data\n",
    "check_train = preprocessing.fit_transform(X_train)"
   ]
  },
  {
   "cell_type": "code",
   "execution_count": null,
   "metadata": {
    "id": "9t80hzsdJCPq",
    "outputId": "9eca293f-8b46-4968-b031-3b7ce1d59733"
   },
   "outputs": [
    {
     "data": {
      "text/html": [
       "<div>\n",
       "<style scoped>\n",
       "    .dataframe tbody tr th:only-of-type {\n",
       "        vertical-align: middle;\n",
       "    }\n",
       "\n",
       "    .dataframe tbody tr th {\n",
       "        vertical-align: top;\n",
       "    }\n",
       "\n",
       "    .dataframe thead th {\n",
       "        text-align: right;\n",
       "    }\n",
       "</style>\n",
       "<table border=\"1\" class=\"dataframe\">\n",
       "  <thead>\n",
       "    <tr style=\"text-align: right;\">\n",
       "      <th></th>\n",
       "      <th>0</th>\n",
       "      <th>1</th>\n",
       "      <th>2</th>\n",
       "      <th>3</th>\n",
       "      <th>4</th>\n",
       "      <th>5</th>\n",
       "      <th>6</th>\n",
       "      <th>7</th>\n",
       "      <th>8</th>\n",
       "      <th>9</th>\n",
       "      <th>10</th>\n",
       "      <th>11</th>\n",
       "      <th>12</th>\n",
       "    </tr>\n",
       "  </thead>\n",
       "  <tbody>\n",
       "    <tr>\n",
       "      <th>0</th>\n",
       "      <td>0.604388</td>\n",
       "      <td>-0.741523</td>\n",
       "      <td>1.536729</td>\n",
       "      <td>-0.620001</td>\n",
       "      <td>-0.716387</td>\n",
       "      <td>-0.790880</td>\n",
       "      <td>-0.721514</td>\n",
       "      <td>0.072853</td>\n",
       "      <td>1.0</td>\n",
       "      <td>0.0</td>\n",
       "      <td>0.0</td>\n",
       "      <td>0.0</td>\n",
       "      <td>0.0</td>\n",
       "    </tr>\n",
       "    <tr>\n",
       "      <th>1</th>\n",
       "      <td>0.798753</td>\n",
       "      <td>-0.862998</td>\n",
       "      <td>0.501005</td>\n",
       "      <td>-0.119890</td>\n",
       "      <td>-0.131442</td>\n",
       "      <td>0.218924</td>\n",
       "      <td>-0.043175</td>\n",
       "      <td>0.129574</td>\n",
       "      <td>1.0</td>\n",
       "      <td>0.0</td>\n",
       "      <td>0.0</td>\n",
       "      <td>0.0</td>\n",
       "      <td>0.0</td>\n",
       "    </tr>\n",
       "    <tr>\n",
       "      <th>2</th>\n",
       "      <td>-0.845868</td>\n",
       "      <td>1.445014</td>\n",
       "      <td>-1.809456</td>\n",
       "      <td>0.736722</td>\n",
       "      <td>0.333637</td>\n",
       "      <td>0.298266</td>\n",
       "      <td>0.353837</td>\n",
       "      <td>0.825943</td>\n",
       "      <td>0.0</td>\n",
       "      <td>1.0</td>\n",
       "      <td>0.0</td>\n",
       "      <td>0.0</td>\n",
       "      <td>0.0</td>\n",
       "    </tr>\n",
       "  </tbody>\n",
       "</table>\n",
       "</div>"
      ],
      "text/plain": [
       "         0         1         2         3         4         5         6   \\\n",
       "0  0.604388 -0.741523  1.536729 -0.620001 -0.716387 -0.790880 -0.721514   \n",
       "1  0.798753 -0.862998  0.501005 -0.119890 -0.131442  0.218924 -0.043175   \n",
       "2 -0.845868  1.445014 -1.809456  0.736722  0.333637  0.298266  0.353837   \n",
       "\n",
       "         7    8    9    10   11   12  \n",
       "0  0.072853  1.0  0.0  0.0  0.0  0.0  \n",
       "1  0.129574  1.0  0.0  0.0  0.0  0.0  \n",
       "2  0.825943  0.0  1.0  0.0  0.0  0.0  "
      ]
     },
     "execution_count": 20,
     "metadata": {},
     "output_type": "execute_result"
    }
   ],
   "source": [
    "# converting array to dataframe to have a better look at it\n",
    "check_train_df = pd.DataFrame(check_train)\n",
    "check_train_df.head(3)"
   ]
  },
  {
   "cell_type": "code",
   "execution_count": null,
   "metadata": {
    "id": "FCQZ6iNgJCPq",
    "outputId": "f5d2ea66-b060-4fb9-e684-c9aaf70f836e"
   },
   "outputs": [
    {
     "data": {
      "text/plain": [
       "0     0\n",
       "1     0\n",
       "2     0\n",
       "3     0\n",
       "4     0\n",
       "5     0\n",
       "6     0\n",
       "7     0\n",
       "8     0\n",
       "9     0\n",
       "10    0\n",
       "11    0\n",
       "12    0\n",
       "dtype: int64"
      ]
     },
     "execution_count": 21,
     "metadata": {},
     "output_type": "execute_result"
    }
   ],
   "source": [
    "check_train_df.isna().sum()"
   ]
  },
  {
   "cell_type": "markdown",
   "metadata": {
    "id": "hkLLRW9-JCPq"
   },
   "source": [
    "#### __Observation:__\n",
    "\n",
    "1. Good to see all the missing values are treated\n",
    "2. numeric variables are standardised\n",
    "3. ocean_proximity is converted to dummy variables"
   ]
  },
  {
   "cell_type": "markdown",
   "metadata": {
    "id": "_03hcT-RJCPr"
   },
   "source": [
    "------------------------------------"
   ]
  },
  {
   "cell_type": "markdown",
   "metadata": {
    "id": "156uciNUJCPr"
   },
   "source": [
    "#### Step 4: Building Linear regression model and hyperparameter tuning"
   ]
  },
  {
   "cell_type": "code",
   "execution_count": null,
   "metadata": {
    "id": "XD6Lk-FQJCPr"
   },
   "outputs": [],
   "source": [
    "from sklearn.model_selection import GridSearchCV\n",
    "from sklearn.linear_model import Ridge\n",
    "from sklearn.metrics import mean_absolute_error\n"
   ]
  },
  {
   "cell_type": "code",
   "execution_count": null,
   "metadata": {
    "id": "eDKVzBGqJCPr"
   },
   "outputs": [],
   "source": [
    "# Create an instance of the Ridge regression model\n",
    "model = Ridge()"
   ]
  },
  {
   "cell_type": "code",
   "execution_count": null,
   "metadata": {
    "id": "Lk6a6jk1JCPr"
   },
   "outputs": [],
   "source": [
    "# Build a Ridge regression model within a complete pipeline\n",
    "\n",
    "final_pipeline = Pipeline([\n",
    "    ('preprocessing', preprocessing),\n",
    "    ('model_ridge', model)\n",
    "])\n"
   ]
  },
  {
   "cell_type": "code",
   "execution_count": null,
   "metadata": {
    "id": "rhILfy3zJCPr"
   },
   "outputs": [],
   "source": [
    "# Define the grid of hyperparameters to search\n",
    "\n",
    "# Note: You can set parameters for any step by using its name followed by a double underscore(__) and the parameter name.\n",
    "\n",
    "grid = dict()\n",
    "\n",
    "grid['model_ridge__alpha'] = np.arange(0.1,2.1,0.1)"
   ]
  },
  {
   "cell_type": "code",
   "execution_count": null,
   "metadata": {
    "id": "1MgpLeo3JCPr",
    "outputId": "3e9fb7b8-6fcb-4620-8ad8-e81ebdc39481"
   },
   "outputs": [
    {
     "name": "stdout",
     "output_type": "stream",
     "text": [
      "MAE: 49789.360\n",
      "Config: {'model_ridge__alpha': 0.1}\n"
     ]
    }
   ],
   "source": [
    "search = GridSearchCV(estimator = final_pipeline, param_grid = grid, scoring = 'neg_mean_absolute_error',cv = 5, n_jobs= -1)\n",
    "# Fit the GridSearchCV object to the training data\n",
    "\n",
    "# Fit GridSearchCV to the training data\n",
    "results = search.fit(X_train, y_train)\n",
    "print('MAE: %.3f' % -results.best_score_)\n",
    "print('Config: %s' % results.best_params_)"
   ]
  },
  {
   "cell_type": "markdown",
   "metadata": {
    "id": "KKlEIgQbJCPr"
   },
   "source": [
    "------------------------------------"
   ]
  },
  {
   "cell_type": "markdown",
   "metadata": {
    "id": "9lZXB7qZJCPr"
   },
   "source": [
    "#### Step 5: Using pipeline object to test the results"
   ]
  },
  {
   "cell_type": "code",
   "execution_count": null,
   "metadata": {
    "id": "PgGxvzFf5JrF",
    "outputId": "19a43b36-0267-4f6b-ec99-2b1f50e33880"
   },
   "outputs": [
    {
     "name": "stdout",
     "output_type": "stream",
     "text": [
      "Mean Absolute Error: 50091.26322372467\n"
     ]
    }
   ],
   "source": [
    "# Predict on the test set using the trained model\n",
    "y_pred = search.predict(X_test)\n",
    "mae = mean_absolute_error(y_test, y_pred)\n",
    "print(\"Mean Absolute Error:\", mae)"
   ]
  },
  {
   "cell_type": "markdown",
   "metadata": {
    "id": "idA1M_uVJCPr"
   },
   "source": [
    "![link text](https://labcontent.simplicdn.net/data-content/content-assets/Data_and_AI/ML/Lesson_03/sklearn_pipeline_3.png)"
   ]
  },
  {
   "cell_type": "markdown",
   "metadata": {
    "id": "s6f_0-kNH1yM"
   },
   "source": [
    "### __Conclusion__"
   ]
  },
  {
   "cell_type": "markdown",
   "metadata": {
    "id": "hvo7LQPeInrT"
   },
   "source": [
    "Regression analysis is an essential method for examining and predicting variable relationships. In this lesson, we've delved into core types of regression—simple linear, multiple linear, and polynomial regression.\n",
    "\n",
    "You've acquired skills to assess model performance using metrics like MSE, RMSE, and R-squared. Furthermore, we explored regularization techniques such as Lasso, Ridge, and ElasticNet to mitigate overfitting, and learned the importance of hyperparameter tuning for optimizing model parameters to enhance results.\n",
    "\n",
    "In conclusion, this lesson has provided a comprehensive exploration of regression through theoretical insights and hands-on applications."
   ]
  }
 ],
 "metadata": {
  "colab": {
   "provenance": []
  },
  "kernelspec": {
   "display_name": "Python 3 (ipykernel)",
   "language": "python",
   "name": "python3"
  },
  "language_info": {
   "codemirror_mode": {
    "name": "ipython",
    "version": 3
   },
   "file_extension": ".py",
   "mimetype": "text/x-python",
   "name": "python",
   "nbconvert_exporter": "python",
   "pygments_lexer": "ipython3",
   "version": "3.11.11"
  }
 },
 "nbformat": 4,
 "nbformat_minor": 4
}
