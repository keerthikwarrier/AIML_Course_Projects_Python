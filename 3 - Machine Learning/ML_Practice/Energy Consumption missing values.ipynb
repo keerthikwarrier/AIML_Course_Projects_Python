{
 "cells": [
  {
   "cell_type": "code",
   "execution_count": 33,
   "id": "2edbfe15-0298-40a7-b519-beaf107bdae6",
   "metadata": {},
   "outputs": [],
   "source": [
    "import pandas as pd\n",
    "import matplotlib.pyplot as plt\n",
    "import seaborn as sns"
   ]
  },
  {
   "cell_type": "code",
   "execution_count": 43,
   "id": "132ca639-3c6f-4116-abe1-1b64f526cc47",
   "metadata": {},
   "outputs": [
    {
     "data": {
      "text/html": [
       "<div>\n",
       "<style scoped>\n",
       "    .dataframe tbody tr th:only-of-type {\n",
       "        vertical-align: middle;\n",
       "    }\n",
       "\n",
       "    .dataframe tbody tr th {\n",
       "        vertical-align: top;\n",
       "    }\n",
       "\n",
       "    .dataframe thead th {\n",
       "        text-align: right;\n",
       "    }\n",
       "</style>\n",
       "<table border=\"1\" class=\"dataframe\">\n",
       "  <thead>\n",
       "    <tr style=\"text-align: right;\">\n",
       "      <th></th>\n",
       "      <th>timestamp</th>\n",
       "      <th>equipment_energy_consumption</th>\n",
       "      <th>lighting_energy</th>\n",
       "      <th>zone1_temperature</th>\n",
       "      <th>zone1_humidity</th>\n",
       "      <th>zone2_temperature</th>\n",
       "      <th>zone2_humidity</th>\n",
       "      <th>zone3_temperature</th>\n",
       "      <th>zone3_humidity</th>\n",
       "      <th>zone4_temperature</th>\n",
       "      <th>...</th>\n",
       "      <th>zone9_temperature</th>\n",
       "      <th>zone9_humidity</th>\n",
       "      <th>outdoor_temperature</th>\n",
       "      <th>atmospheric_pressure</th>\n",
       "      <th>outdoor_humidity</th>\n",
       "      <th>wind_speed</th>\n",
       "      <th>visibility_index</th>\n",
       "      <th>dew_point</th>\n",
       "      <th>random_variable1</th>\n",
       "      <th>random_variable2</th>\n",
       "    </tr>\n",
       "  </thead>\n",
       "  <tbody>\n",
       "    <tr>\n",
       "      <th>0</th>\n",
       "      <td>11-01-2016 17:00</td>\n",
       "      <td>60</td>\n",
       "      <td>-77.78778597</td>\n",
       "      <td>33.74660933896648</td>\n",
       "      <td>47.59666666666671</td>\n",
       "      <td>19.2</td>\n",
       "      <td>44.790000</td>\n",
       "      <td>19.79</td>\n",
       "      <td>NaN</td>\n",
       "      <td>19.000000</td>\n",
       "      <td>...</td>\n",
       "      <td>17.033333</td>\n",
       "      <td>45.53</td>\n",
       "      <td>6.600000</td>\n",
       "      <td>733.5</td>\n",
       "      <td>92.0</td>\n",
       "      <td>7.000000</td>\n",
       "      <td>63.000000</td>\n",
       "      <td>5.300000</td>\n",
       "      <td>13.275433</td>\n",
       "      <td>13.275433</td>\n",
       "    </tr>\n",
       "    <tr>\n",
       "      <th>1</th>\n",
       "      <td>11-01-2016 17:10</td>\n",
       "      <td>60</td>\n",
       "      <td>30</td>\n",
       "      <td>19.89</td>\n",
       "      <td>46.69333333333329</td>\n",
       "      <td>19.2</td>\n",
       "      <td>44.722500</td>\n",
       "      <td>19.79</td>\n",
       "      <td>44.790000</td>\n",
       "      <td>19.000000</td>\n",
       "      <td>...</td>\n",
       "      <td>17.066667</td>\n",
       "      <td>45.56</td>\n",
       "      <td>6.483333</td>\n",
       "      <td>733.6</td>\n",
       "      <td>92.0</td>\n",
       "      <td>6.666667</td>\n",
       "      <td>59.166667</td>\n",
       "      <td>5.200000</td>\n",
       "      <td>18.606195</td>\n",
       "      <td>18.606195</td>\n",
       "    </tr>\n",
       "    <tr>\n",
       "      <th>2</th>\n",
       "      <td>11-01-2016 17:20</td>\n",
       "      <td>50</td>\n",
       "      <td>30</td>\n",
       "      <td>19.89</td>\n",
       "      <td>46.3</td>\n",
       "      <td>19.2</td>\n",
       "      <td>44.626667</td>\n",
       "      <td>19.79</td>\n",
       "      <td>44.933333</td>\n",
       "      <td>35.921144</td>\n",
       "      <td>...</td>\n",
       "      <td>17.000000</td>\n",
       "      <td>45.50</td>\n",
       "      <td>6.366667</td>\n",
       "      <td>733.7</td>\n",
       "      <td>92.0</td>\n",
       "      <td>6.333333</td>\n",
       "      <td>55.333333</td>\n",
       "      <td>5.100000</td>\n",
       "      <td>28.642668</td>\n",
       "      <td>28.642668</td>\n",
       "    </tr>\n",
       "    <tr>\n",
       "      <th>3</th>\n",
       "      <td>11-01-2016 17:30</td>\n",
       "      <td>50</td>\n",
       "      <td>40</td>\n",
       "      <td>33.74660933896648</td>\n",
       "      <td>46.0666666666667</td>\n",
       "      <td>19.2</td>\n",
       "      <td>44.590000</td>\n",
       "      <td>19.79</td>\n",
       "      <td>45.000000</td>\n",
       "      <td>NaN</td>\n",
       "      <td>...</td>\n",
       "      <td>17.000000</td>\n",
       "      <td>45.40</td>\n",
       "      <td>6.250000</td>\n",
       "      <td>733.8</td>\n",
       "      <td>92.0</td>\n",
       "      <td>6.000000</td>\n",
       "      <td>51.500000</td>\n",
       "      <td>37.673716</td>\n",
       "      <td>45.410389</td>\n",
       "      <td>45.410389</td>\n",
       "    </tr>\n",
       "    <tr>\n",
       "      <th>4</th>\n",
       "      <td>11-01-2016 17:40</td>\n",
       "      <td>60</td>\n",
       "      <td>40</td>\n",
       "      <td>19.89</td>\n",
       "      <td>46.33333333333329</td>\n",
       "      <td>19.2</td>\n",
       "      <td>44.530000</td>\n",
       "      <td>19.79</td>\n",
       "      <td>45.000000</td>\n",
       "      <td>18.890000</td>\n",
       "      <td>...</td>\n",
       "      <td>4.476511</td>\n",
       "      <td>45.40</td>\n",
       "      <td>6.133333</td>\n",
       "      <td>733.9</td>\n",
       "      <td>92.0</td>\n",
       "      <td>5.666667</td>\n",
       "      <td>47.666667</td>\n",
       "      <td>4.900000</td>\n",
       "      <td>10.084097</td>\n",
       "      <td>10.084097</td>\n",
       "    </tr>\n",
       "  </tbody>\n",
       "</table>\n",
       "<p>5 rows × 29 columns</p>\n",
       "</div>"
      ],
      "text/plain": [
       "          timestamp equipment_energy_consumption lighting_energy  \\\n",
       "0  11-01-2016 17:00                           60    -77.78778597   \n",
       "1  11-01-2016 17:10                           60              30   \n",
       "2  11-01-2016 17:20                           50              30   \n",
       "3  11-01-2016 17:30                           50              40   \n",
       "4  11-01-2016 17:40                           60              40   \n",
       "\n",
       "   zone1_temperature     zone1_humidity zone2_temperature  zone2_humidity  \\\n",
       "0  33.74660933896648  47.59666666666671              19.2       44.790000   \n",
       "1              19.89  46.69333333333329              19.2       44.722500   \n",
       "2              19.89               46.3              19.2       44.626667   \n",
       "3  33.74660933896648   46.0666666666667              19.2       44.590000   \n",
       "4              19.89  46.33333333333329              19.2       44.530000   \n",
       "\n",
       "   zone3_temperature  zone3_humidity  zone4_temperature  ...  \\\n",
       "0              19.79             NaN          19.000000  ...   \n",
       "1              19.79       44.790000          19.000000  ...   \n",
       "2              19.79       44.933333          35.921144  ...   \n",
       "3              19.79       45.000000                NaN  ...   \n",
       "4              19.79       45.000000          18.890000  ...   \n",
       "\n",
       "   zone9_temperature  zone9_humidity  outdoor_temperature  \\\n",
       "0          17.033333           45.53             6.600000   \n",
       "1          17.066667           45.56             6.483333   \n",
       "2          17.000000           45.50             6.366667   \n",
       "3          17.000000           45.40             6.250000   \n",
       "4           4.476511           45.40             6.133333   \n",
       "\n",
       "   atmospheric_pressure  outdoor_humidity  wind_speed  visibility_index  \\\n",
       "0                 733.5              92.0    7.000000         63.000000   \n",
       "1                 733.6              92.0    6.666667         59.166667   \n",
       "2                 733.7              92.0    6.333333         55.333333   \n",
       "3                 733.8              92.0    6.000000         51.500000   \n",
       "4                 733.9              92.0    5.666667         47.666667   \n",
       "\n",
       "   dew_point  random_variable1  random_variable2  \n",
       "0   5.300000         13.275433         13.275433  \n",
       "1   5.200000         18.606195         18.606195  \n",
       "2   5.100000         28.642668         28.642668  \n",
       "3  37.673716         45.410389         45.410389  \n",
       "4   4.900000         10.084097         10.084097  \n",
       "\n",
       "[5 rows x 29 columns]"
      ]
     },
     "execution_count": 43,
     "metadata": {},
     "output_type": "execute_result"
    }
   ],
   "source": [
    "#Load the dataset \n",
    "Smart_Man_df=pd.read_csv(\"data.csv\")\n",
    "Smart_Man_df.head()"
   ]
  },
  {
   "cell_type": "code",
   "execution_count": 44,
   "id": "8210ecf8-141d-4186-a54a-2161a43bfc5f",
   "metadata": {},
   "outputs": [
    {
     "name": "stdout",
     "output_type": "stream",
     "text": [
      "<class 'pandas.core.frame.DataFrame'>\n",
      "RangeIndex: 16857 entries, 0 to 16856\n",
      "Data columns (total 29 columns):\n",
      " #   Column                        Non-Null Count  Dtype  \n",
      "---  ------                        --------------  -----  \n",
      " 0   timestamp                     16857 non-null  object \n",
      " 1   equipment_energy_consumption  16013 non-null  object \n",
      " 2   lighting_energy               16048 non-null  object \n",
      " 3   zone1_temperature             15990 non-null  object \n",
      " 4   zone1_humidity                16056 non-null  object \n",
      " 5   zone2_temperature             16004 non-null  object \n",
      " 6   zone2_humidity                15990 non-null  float64\n",
      " 7   zone3_temperature             16055 non-null  float64\n",
      " 8   zone3_humidity                15979 non-null  float64\n",
      " 9   zone4_temperature             16041 non-null  float64\n",
      " 10  zone4_humidity                16076 non-null  float64\n",
      " 11  zone5_temperature             16019 non-null  float64\n",
      " 12  zone5_humidity                16056 non-null  float64\n",
      " 13  zone6_temperature             16009 non-null  float64\n",
      " 14  zone6_humidity                16010 non-null  float64\n",
      " 15  zone7_temperature             16063 non-null  float64\n",
      " 16  zone7_humidity                16052 non-null  float64\n",
      " 17  zone8_temperature             16009 non-null  float64\n",
      " 18  zone8_humidity                16080 non-null  float64\n",
      " 19  zone9_temperature             16084 non-null  float64\n",
      " 20  zone9_humidity                15969 non-null  float64\n",
      " 21  outdoor_temperature           16051 non-null  float64\n",
      " 22  atmospheric_pressure          16015 non-null  float64\n",
      " 23  outdoor_humidity              16058 non-null  float64\n",
      " 24  wind_speed                    16029 non-null  float64\n",
      " 25  visibility_index              16042 non-null  float64\n",
      " 26  dew_point                     16031 non-null  float64\n",
      " 27  random_variable1              16031 non-null  float64\n",
      " 28  random_variable2              16033 non-null  float64\n",
      "dtypes: float64(23), object(6)\n",
      "memory usage: 3.7+ MB\n"
     ]
    }
   ],
   "source": [
    "#Checking the overall info of the dataset\n",
    "Smart_Man_df.info()"
   ]
  },
  {
   "cell_type": "code",
   "execution_count": 49,
   "id": "88089b63-539d-4bf6-af26-9bef14d2f48b",
   "metadata": {},
   "outputs": [],
   "source": [
    "# Convert numeric columns from object to float where applicable\n",
    "numeric_columns = Smart_Man_df.columns.drop(['timestamp'])\n",
    "Smart_numeric_df = Smart_Man_df[numeric_columns].apply(pd.to_numeric, errors='coerce')"
   ]
  },
  {
   "cell_type": "code",
   "execution_count": 51,
   "id": "979a5eb4-4291-4580-a05a-1f83d919b63d",
   "metadata": {},
   "outputs": [
    {
     "data": {
      "text/plain": [
       "zone1_temperature               949\n",
       "zone2_temperature               923\n",
       "equipment_energy_consumption    912\n",
       "zone1_humidity                  888\n",
       "zone9_humidity                  888\n",
       "zone3_humidity                  878\n",
       "zone2_humidity                  867\n",
       "lighting_energy                 864\n",
       "zone8_temperature               848\n",
       "zone6_temperature               848\n",
       "zone6_humidity                  847\n",
       "atmospheric_pressure            842\n",
       "zone5_temperature               838\n",
       "wind_speed                      828\n",
       "random_variable1                826\n",
       "dew_point                       826\n",
       "random_variable2                824\n",
       "zone4_temperature               816\n",
       "visibility_index                815\n",
       "outdoor_temperature             806\n",
       "zone7_humidity                  805\n",
       "zone3_temperature               802\n",
       "zone5_humidity                  801\n",
       "outdoor_humidity                799\n",
       "zone7_temperature               794\n",
       "zone4_humidity                  781\n",
       "zone8_humidity                  777\n",
       "zone9_temperature               773\n",
       "dtype: int64"
      ]
     },
     "execution_count": 51,
     "metadata": {},
     "output_type": "execute_result"
    }
   ],
   "source": [
    "# Checking missing values\n",
    "missing_values = Smart_numeric_df.isnull().sum().sort_values(ascending=False)\n",
    "missing_values"
   ]
  },
  {
   "cell_type": "code",
   "execution_count": 55,
   "id": "7c70708b-1f6f-4e5b-ab71-29d576b1a4c2",
   "metadata": {},
   "outputs": [
    {
     "data": {
      "text/plain": [
       "912"
      ]
     },
     "execution_count": 55,
     "metadata": {},
     "output_type": "execute_result"
    }
   ],
   "source": [
    "Target_data_missing=Smart_numeric_df[Smart_numeric_df['equipment_energy_consumption'].isnull()]\n",
    "Target_data_missing['equipment_energy_consumption'].isnull().sum()"
   ]
  },
  {
   "cell_type": "code",
   "execution_count": 56,
   "id": "30c6f7a0-7c11-4617-b430-b80203776a4c",
   "metadata": {},
   "outputs": [
    {
     "data": {
      "text/plain": [
       "dtype('float64')"
      ]
     },
     "execution_count": 56,
     "metadata": {},
     "output_type": "execute_result"
    }
   ],
   "source": [
    "Smart_numeric_df['equipment_energy_consumption'].dtypes"
   ]
  },
  {
   "cell_type": "code",
   "execution_count": 59,
   "id": "d2724a2a-19e3-4409-9119-6423337167c4",
   "metadata": {},
   "outputs": [
    {
     "data": {
      "text/plain": [
       "0          60.000000\n",
       "1          60.000000\n",
       "2          50.000000\n",
       "3          50.000000\n",
       "4          60.000000\n",
       "            ...     \n",
       "16852    1139.985693\n",
       "16853      50.000000\n",
       "16854      50.000000\n",
       "16855      80.000000\n",
       "16856      30.000000\n",
       "Name: equipment_energy_consumption, Length: 15945, dtype: float64"
      ]
     },
     "execution_count": 59,
     "metadata": {},
     "output_type": "execute_result"
    }
   ],
   "source": [
    "Target_data_Not_missing=Smart_numeric_df[Smart_numeric_df['equipment_energy_consumption'].notnull()]\n",
    "Target_data_Not_missing['equipment_energy_consumption']"
   ]
  },
  {
   "cell_type": "code",
   "execution_count": 57,
   "id": "bd9ef63d-ea47-4151-948a-1baea2b7b455",
   "metadata": {},
   "outputs": [
    {
     "data": {
      "text/plain": [
       "[<matplotlib.lines.Line2D at 0x2391be65350>]"
      ]
     },
     "execution_count": 57,
     "metadata": {},
     "output_type": "execute_result"
    },
    {
     "data": {
      "image/png": "[encoded data removed]",
      "text/plain": [
       "<Figure size 640x480 with 1 Axes>"
      ]
     },
     "metadata": {},
     "output_type": "display_data"
    }
   ],
   "source": [
    "### Examine the graph of features with target variable\n",
    "plt.plot(Smart_numeric_df['equipment_energy_consumption'],Smart_numeric_df['zone2_temperature'])"
   ]
  },
  {
   "cell_type": "code",
   "execution_count": 71,
   "id": "4599a0d8-f598-4491-9228-821a83a7815d",
   "metadata": {},
   "outputs": [
    {
     "ename": "ValueError",
     "evalue": "setting an array element with a sequence.",
     "output_type": "error",
     "traceback": [
      "\u001b[1;31m---------------------------------------------------------------------------\u001b[0m",
      "\u001b[1;31mValueError\u001b[0m                                Traceback (most recent call last)",
      "File \u001b[1;32m~\\anaconda3\\envs\\JupyterNotebook-IntWebAppEnv\\Lib\\site-packages\\pandas\\core\\internals\\blocks.py:1429\u001b[0m, in \u001b[0;36mBlock.setitem\u001b[1;34m(self, indexer, value, using_cow)\u001b[0m\n\u001b[0;32m   1428\u001b[0m \u001b[38;5;28;01mtry\u001b[39;00m:\n\u001b[1;32m-> 1429\u001b[0m     values[indexer] \u001b[38;5;241m=\u001b[39m casted\n\u001b[0;32m   1430\u001b[0m \u001b[38;5;28;01mexcept\u001b[39;00m (\u001b[38;5;167;01mTypeError\u001b[39;00m, \u001b[38;5;167;01mValueError\u001b[39;00m) \u001b[38;5;28;01mas\u001b[39;00m err:\n",
      "\u001b[1;31mValueError\u001b[0m: shape mismatch: value array of shape (912,) could not be broadcast to indexing result of shape (0,)",
      "\nThe above exception was the direct cause of the following exception:\n",
      "\u001b[1;31mValueError\u001b[0m                                Traceback (most recent call last)",
      "Cell \u001b[1;32mIn[71], line 13\u001b[0m\n\u001b[0;32m     10\u001b[0m predicted_salaries \u001b[38;5;241m=\u001b[39m xgb_model\u001b[38;5;241m.\u001b[39mpredict(X_missing)\n\u001b[0;32m     12\u001b[0m \u001b[38;5;66;03m# 6. Fill in the missing values\u001b[39;00m\n\u001b[1;32m---> 13\u001b[0m Smart_numeric_df\u001b[38;5;241m.\u001b[39mloc[Smart_numeric_df[\u001b[38;5;124m'\u001b[39m\u001b[38;5;124mequipment_energy_consumption\u001b[39m\u001b[38;5;124m'\u001b[39m]\u001b[38;5;241m.\u001b[39misnull(), \u001b[38;5;124m'\u001b[39m\u001b[38;5;124mequipment_energy_consumption\u001b[39m\u001b[38;5;124m'\u001b[39m] \u001b[38;5;241m=\u001b[39m predicted_salaries\n\u001b[0;32m     15\u001b[0m \u001b[38;5;66;03m# ✅ Final dataset with imputed values\u001b[39;00m\n\u001b[0;32m     16\u001b[0m \u001b[38;5;28mprint\u001b[39m(Smart_numeric_df[\u001b[38;5;124m'\u001b[39m\u001b[38;5;124mequipment_energy_consumption\u001b[39m\u001b[38;5;124m'\u001b[39m])\n",
      "File \u001b[1;32m~\\anaconda3\\envs\\JupyterNotebook-IntWebAppEnv\\Lib\\site-packages\\pandas\\core\\indexing.py:911\u001b[0m, in \u001b[0;36m_LocationIndexer.__setitem__\u001b[1;34m(self, key, value)\u001b[0m\n\u001b[0;32m    908\u001b[0m \u001b[38;5;28mself\u001b[39m\u001b[38;5;241m.\u001b[39m_has_valid_setitem_indexer(key)\n\u001b[0;32m    910\u001b[0m iloc \u001b[38;5;241m=\u001b[39m \u001b[38;5;28mself\u001b[39m \u001b[38;5;28;01mif\u001b[39;00m \u001b[38;5;28mself\u001b[39m\u001b[38;5;241m.\u001b[39mname \u001b[38;5;241m==\u001b[39m \u001b[38;5;124m\"\u001b[39m\u001b[38;5;124miloc\u001b[39m\u001b[38;5;124m\"\u001b[39m \u001b[38;5;28;01melse\u001b[39;00m \u001b[38;5;28mself\u001b[39m\u001b[38;5;241m.\u001b[39mobj\u001b[38;5;241m.\u001b[39miloc\n\u001b[1;32m--> 911\u001b[0m iloc\u001b[38;5;241m.\u001b[39m_setitem_with_indexer(indexer, value, \u001b[38;5;28mself\u001b[39m\u001b[38;5;241m.\u001b[39mname)\n",
      "File \u001b[1;32m~\\anaconda3\\envs\\JupyterNotebook-IntWebAppEnv\\Lib\\site-packages\\pandas\\core\\indexing.py:1944\u001b[0m, in \u001b[0;36m_iLocIndexer._setitem_with_indexer\u001b[1;34m(self, indexer, value, name)\u001b[0m\n\u001b[0;32m   1942\u001b[0m     \u001b[38;5;28mself\u001b[39m\u001b[38;5;241m.\u001b[39m_setitem_with_indexer_split_path(indexer, value, name)\n\u001b[0;32m   1943\u001b[0m \u001b[38;5;28;01melse\u001b[39;00m:\n\u001b[1;32m-> 1944\u001b[0m     \u001b[38;5;28mself\u001b[39m\u001b[38;5;241m.\u001b[39m_setitem_single_block(indexer, value, name)\n",
      "File \u001b[1;32m~\\anaconda3\\envs\\JupyterNotebook-IntWebAppEnv\\Lib\\site-packages\\pandas\\core\\indexing.py:2218\u001b[0m, in \u001b[0;36m_iLocIndexer._setitem_single_block\u001b[1;34m(self, indexer, value, name)\u001b[0m\n\u001b[0;32m   2215\u001b[0m \u001b[38;5;28mself\u001b[39m\u001b[38;5;241m.\u001b[39mobj\u001b[38;5;241m.\u001b[39m_check_is_chained_assignment_possible()\n\u001b[0;32m   2217\u001b[0m \u001b[38;5;66;03m# actually do the set\u001b[39;00m\n\u001b[1;32m-> 2218\u001b[0m \u001b[38;5;28mself\u001b[39m\u001b[38;5;241m.\u001b[39mobj\u001b[38;5;241m.\u001b[39m_mgr \u001b[38;5;241m=\u001b[39m \u001b[38;5;28mself\u001b[39m\u001b[38;5;241m.\u001b[39mobj\u001b[38;5;241m.\u001b[39m_mgr\u001b[38;5;241m.\u001b[39msetitem(indexer\u001b[38;5;241m=\u001b[39mindexer, value\u001b[38;5;241m=\u001b[39mvalue)\n\u001b[0;32m   2219\u001b[0m \u001b[38;5;28mself\u001b[39m\u001b[38;5;241m.\u001b[39mobj\u001b[38;5;241m.\u001b[39m_maybe_update_cacher(clear\u001b[38;5;241m=\u001b[39m\u001b[38;5;28;01mTrue\u001b[39;00m, inplace\u001b[38;5;241m=\u001b[39m\u001b[38;5;28;01mTrue\u001b[39;00m)\n",
      "File \u001b[1;32m~\\anaconda3\\envs\\JupyterNotebook-IntWebAppEnv\\Lib\\site-packages\\pandas\\core\\internals\\managers.py:415\u001b[0m, in \u001b[0;36mBaseBlockManager.setitem\u001b[1;34m(self, indexer, value, warn)\u001b[0m\n\u001b[0;32m    411\u001b[0m     \u001b[38;5;66;03m# No need to split if we either set all columns or on a single block\u001b[39;00m\n\u001b[0;32m    412\u001b[0m     \u001b[38;5;66;03m# manager\u001b[39;00m\n\u001b[0;32m    413\u001b[0m     \u001b[38;5;28mself\u001b[39m \u001b[38;5;241m=\u001b[39m \u001b[38;5;28mself\u001b[39m\u001b[38;5;241m.\u001b[39mcopy()\n\u001b[1;32m--> 415\u001b[0m \u001b[38;5;28;01mreturn\u001b[39;00m \u001b[38;5;28mself\u001b[39m\u001b[38;5;241m.\u001b[39mapply(\u001b[38;5;124m\"\u001b[39m\u001b[38;5;124msetitem\u001b[39m\u001b[38;5;124m\"\u001b[39m, indexer\u001b[38;5;241m=\u001b[39mindexer, value\u001b[38;5;241m=\u001b[39mvalue)\n",
      "File \u001b[1;32m~\\anaconda3\\envs\\JupyterNotebook-IntWebAppEnv\\Lib\\site-packages\\pandas\\core\\internals\\managers.py:363\u001b[0m, in \u001b[0;36mBaseBlockManager.apply\u001b[1;34m(self, f, align_keys, **kwargs)\u001b[0m\n\u001b[0;32m    361\u001b[0m         applied \u001b[38;5;241m=\u001b[39m b\u001b[38;5;241m.\u001b[39mapply(f, \u001b[38;5;241m*\u001b[39m\u001b[38;5;241m*\u001b[39mkwargs)\n\u001b[0;32m    362\u001b[0m     \u001b[38;5;28;01melse\u001b[39;00m:\n\u001b[1;32m--> 363\u001b[0m         applied \u001b[38;5;241m=\u001b[39m \u001b[38;5;28mgetattr\u001b[39m(b, f)(\u001b[38;5;241m*\u001b[39m\u001b[38;5;241m*\u001b[39mkwargs)\n\u001b[0;32m    364\u001b[0m     result_blocks \u001b[38;5;241m=\u001b[39m extend_blocks(applied, result_blocks)\n\u001b[0;32m    366\u001b[0m out \u001b[38;5;241m=\u001b[39m \u001b[38;5;28mtype\u001b[39m(\u001b[38;5;28mself\u001b[39m)\u001b[38;5;241m.\u001b[39mfrom_blocks(result_blocks, \u001b[38;5;28mself\u001b[39m\u001b[38;5;241m.\u001b[39maxes)\n",
      "File \u001b[1;32m~\\anaconda3\\envs\\JupyterNotebook-IntWebAppEnv\\Lib\\site-packages\\pandas\\core\\internals\\blocks.py:1432\u001b[0m, in \u001b[0;36mBlock.setitem\u001b[1;34m(self, indexer, value, using_cow)\u001b[0m\n\u001b[0;32m   1430\u001b[0m     \u001b[38;5;28;01mexcept\u001b[39;00m (\u001b[38;5;167;01mTypeError\u001b[39;00m, \u001b[38;5;167;01mValueError\u001b[39;00m) \u001b[38;5;28;01mas\u001b[39;00m err:\n\u001b[0;32m   1431\u001b[0m         \u001b[38;5;28;01mif\u001b[39;00m is_list_like(casted):\n\u001b[1;32m-> 1432\u001b[0m             \u001b[38;5;28;01mraise\u001b[39;00m \u001b[38;5;167;01mValueError\u001b[39;00m(\n\u001b[0;32m   1433\u001b[0m                 \u001b[38;5;124m\"\u001b[39m\u001b[38;5;124msetting an array element with a sequence.\u001b[39m\u001b[38;5;124m\"\u001b[39m\n\u001b[0;32m   1434\u001b[0m             ) \u001b[38;5;28;01mfrom\u001b[39;00m \u001b[38;5;21;01merr\u001b[39;00m\n\u001b[0;32m   1435\u001b[0m         \u001b[38;5;28;01mraise\u001b[39;00m\n\u001b[0;32m   1436\u001b[0m \u001b[38;5;28;01mreturn\u001b[39;00m \u001b[38;5;28mself\u001b[39m\n",
      "\u001b[1;31mValueError\u001b[0m: setting an array element with a sequence."
     ]
    }
   ],
   "source": [
    "X_train=Target_data_Not_missing[['zone2_temperature']]\n",
    "y_train=Target_data_Not_missing['equipment_energy_consumption']\n",
    "\n",
    "# 4. Train XGBoost regressor\n",
    "xgb_model = xgb.XGBRegressor(objective='reg:squarederror', n_estimators=100, random_state=42)\n",
    "xgb_model.fit(X_train, y_train)\n",
    "\n",
    "# 5. Predict missing equipment_energy_consumption values\n",
    "X_missing = Target_data_missing[['zone2_temperature']]  # <- FIXED\n",
    "predicted_salaries = xgb_model.predict(X_missing)\n",
    "\n",
    "# 6. Fill in the missing values\n",
    "Smart_numeric_df.loc[Smart_numeric_df['equipment_energy_consumption'].isnull(), 'equipment_energy_consumption'] = predicted_salaries\n",
    "\n",
    "# ✅ Final dataset with imputed values\n",
    "print(Smart_numeric_df['equipment_energy_consumption'])"
   ]
  },
  {
   "cell_type": "code",
   "execution_count": 72,
   "id": "3966dddc-146a-4967-86c8-0bb2916e99e3",
   "metadata": {},
   "outputs": [
    {
     "name": "stdout",
     "output_type": "stream",
     "text": [
      "<class 'numpy.ndarray'>\n"
     ]
    }
   ],
   "source": [
    "print(type(predicted_salaries))"
   ]
  },
  {
   "cell_type": "code",
   "execution_count": 73,
   "id": "16872622-702f-400c-80f2-597bd4ad79bd",
   "metadata": {},
   "outputs": [
    {
     "data": {
      "text/plain": [
       "(912,)"
      ]
     },
     "execution_count": 73,
     "metadata": {},
     "output_type": "execute_result"
    }
   ],
   "source": [
    "predicted_salaries.shape"
   ]
  },
  {
   "cell_type": "code",
   "execution_count": null,
   "id": "400d9303-a499-4ff2-aa75-42ed31300857",
   "metadata": {},
   "outputs": [],
   "source": []
  }
 ],
 "metadata": {
  "kernelspec": {
   "display_name": "Python 3 (ipykernel)",
   "language": "python",
   "name": "python3"
  },
  "language_info": {
   "codemirror_mode": {
    "name": "ipython",
    "version": 3
   },
   "file_extension": ".py",
   "mimetype": "text/x-python",
   "name": "python",
   "nbconvert_exporter": "python",
   "pygments_lexer": "ipython3",
   "version": "3.11.11"
  }
 },
 "nbformat": 4,
 "nbformat_minor": 5
}
