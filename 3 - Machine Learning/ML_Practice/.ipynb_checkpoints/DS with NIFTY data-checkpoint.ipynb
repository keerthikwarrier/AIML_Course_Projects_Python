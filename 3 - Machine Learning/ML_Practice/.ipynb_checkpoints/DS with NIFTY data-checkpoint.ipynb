{
 "cells": [
  {
   "cell_type": "markdown",
   "id": "8d367e0d-87d8-495b-b847-d97544f809a3",
   "metadata": {},
   "source": [
    "### Stock Market Prediction\n",
    "\n",
    "The variables:\n",
    "Open - It is price with which the stock started trading when the market opened that particular day\n",
    "Close - It is price of an individual stock when the stock exchange closed markets that particular day. It is the last Buy Sell order executed between 2 traders\n",
    "High - It is the highest price of which the stock got traded in that period\n",
    "Low - It is the lowest price of which the stock got traded in that period\n",
    "Shares Traded - the number of shares that have been bought and sold during a specific period (e.g., a day, week, or month). \n",
    "Turnover- refers to the total value of all executed transactions (both buys and sells) within a specific time period, essentially representing the total amount of money traded in a market. Example: If you buy and sell 100 shares of a stock at ₹100 per share, your turnover for that trade is ₹10,000 (100 shares * ₹100/share). \n",
    "\n",
    "Relationship between Shares Traded and Turnover\r\n",
    "Think of it this way: shares traded is the quantity, and turnover is the value of that quantity. \n",
    "Turnover Ratio: This ratio is calculated by dividing the total value of shares traded by the market capitalization (the total value of all outstanding shares). \r\n",
    "Interpretation: A higher turnover ratio suggests greater trading activity and liquidity in the market, while a lower ratio might indicate less interest or lower liquidity. "
   ]
  },
  {
   "cell_type": "code",
   "execution_count": 3,
   "id": "70d96b22-cd66-46cf-8d83-d77e453bc89d",
   "metadata": {},
   "outputs": [
    {
     "name": "stdout",
     "output_type": "stream",
     "text": [
      "Requirement already satisfied: chart_studio in c:\\users\\keert\\anaconda3\\envs\\jupyternotebook-intwebappenv\\lib\\site-packages (1.1.0)\n",
      "Requirement already satisfied: plotly in c:\\users\\keert\\anaconda3\\envs\\jupyternotebook-intwebappenv\\lib\\site-packages (from chart_studio) (6.0.1)\n",
      "Requirement already satisfied: requests in c:\\users\\keert\\anaconda3\\envs\\jupyternotebook-intwebappenv\\lib\\site-packages (from chart_studio) (2.32.3)\n",
      "Requirement already satisfied: retrying>=1.3.3 in c:\\users\\keert\\anaconda3\\envs\\jupyternotebook-intwebappenv\\lib\\site-packages (from chart_studio) (1.3.4)\n",
      "Requirement already satisfied: six in c:\\users\\keert\\anaconda3\\envs\\jupyternotebook-intwebappenv\\lib\\site-packages (from chart_studio) (1.16.0)\n",
      "Requirement already satisfied: narwhals>=1.15.1 in c:\\users\\keert\\anaconda3\\envs\\jupyternotebook-intwebappenv\\lib\\site-packages (from plotly->chart_studio) (1.33.0)\n",
      "Requirement already satisfied: packaging in c:\\users\\keert\\anaconda3\\envs\\jupyternotebook-intwebappenv\\lib\\site-packages (from plotly->chart_studio) (24.2)\n",
      "Requirement already satisfied: charset-normalizer<4,>=2 in c:\\users\\keert\\anaconda3\\envs\\jupyternotebook-intwebappenv\\lib\\site-packages (from requests->chart_studio) (3.3.2)\n",
      "Requirement already satisfied: idna<4,>=2.5 in c:\\users\\keert\\anaconda3\\envs\\jupyternotebook-intwebappenv\\lib\\site-packages (from requests->chart_studio) (3.7)\n",
      "Requirement already satisfied: urllib3<3,>=1.21.1 in c:\\users\\keert\\anaconda3\\envs\\jupyternotebook-intwebappenv\\lib\\site-packages (from requests->chart_studio) (2.2.3)\n",
      "Requirement already satisfied: certifi>=2017.4.17 in c:\\users\\keert\\anaconda3\\envs\\jupyternotebook-intwebappenv\\lib\\site-packages (from requests->chart_studio) (2024.12.14)\n"
     ]
    }
   ],
   "source": [
    "!pip install chart_studio"
   ]
  },
  {
   "cell_type": "code",
   "execution_count": 4,
   "id": "17275010-7f9f-4e80-8e4d-00d368950def",
   "metadata": {},
   "outputs": [
    {
     "name": "stdout",
     "output_type": "stream",
     "text": [
      "Collecting cufflinks\n",
      "  Using cached cufflinks-0.17.3-py3-none-any.whl\n",
      "Requirement already satisfied: numpy>=1.9.2 in c:\\users\\keert\\anaconda3\\envs\\jupyternotebook-intwebappenv\\lib\\site-packages (from cufflinks) (2.1.3)\n",
      "Requirement already satisfied: pandas>=0.19.2 in c:\\users\\keert\\anaconda3\\envs\\jupyternotebook-intwebappenv\\lib\\site-packages (from cufflinks) (2.2.3)\n",
      "Requirement already satisfied: plotly>=4.1.1 in c:\\users\\keert\\anaconda3\\envs\\jupyternotebook-intwebappenv\\lib\\site-packages (from cufflinks) (6.0.1)\n",
      "Requirement already satisfied: six>=1.9.0 in c:\\users\\keert\\anaconda3\\envs\\jupyternotebook-intwebappenv\\lib\\site-packages (from cufflinks) (1.16.0)\n",
      "Requirement already satisfied: colorlover>=0.2.1 in c:\\users\\keert\\anaconda3\\envs\\jupyternotebook-intwebappenv\\lib\\site-packages (from cufflinks) (0.3.0)\n",
      "Requirement already satisfied: setuptools>=34.4.1 in c:\\users\\keert\\anaconda3\\envs\\jupyternotebook-intwebappenv\\lib\\site-packages (from cufflinks) (75.1.0)\n",
      "Requirement already satisfied: ipython>=5.3.0 in c:\\users\\keert\\anaconda3\\envs\\jupyternotebook-intwebappenv\\lib\\site-packages (from cufflinks) (8.30.0)\n",
      "Collecting ipywidgets>=7.0.0 (from cufflinks)\n",
      "  Using cached ipywidgets-8.1.5-py3-none-any.whl.metadata (2.3 kB)\n",
      "Requirement already satisfied: decorator in c:\\users\\keert\\anaconda3\\envs\\jupyternotebook-intwebappenv\\lib\\site-packages (from ipython>=5.3.0->cufflinks) (5.1.1)\n",
      "Requirement already satisfied: jedi>=0.16 in c:\\users\\keert\\anaconda3\\envs\\jupyternotebook-intwebappenv\\lib\\site-packages (from ipython>=5.3.0->cufflinks) (0.19.2)\n",
      "Requirement already satisfied: matplotlib-inline in c:\\users\\keert\\anaconda3\\envs\\jupyternotebook-intwebappenv\\lib\\site-packages (from ipython>=5.3.0->cufflinks) (0.1.6)\n",
      "Requirement already satisfied: prompt-toolkit<3.1.0,>=3.0.41 in c:\\users\\keert\\anaconda3\\envs\\jupyternotebook-intwebappenv\\lib\\site-packages (from ipython>=5.3.0->cufflinks) (3.0.43)\n",
      "Requirement already satisfied: pygments>=2.4.0 in c:\\users\\keert\\anaconda3\\envs\\jupyternotebook-intwebappenv\\lib\\site-packages (from ipython>=5.3.0->cufflinks) (2.15.1)\n",
      "Requirement already satisfied: stack-data in c:\\users\\keert\\anaconda3\\envs\\jupyternotebook-intwebappenv\\lib\\site-packages (from ipython>=5.3.0->cufflinks) (0.2.0)\n",
      "Requirement already satisfied: traitlets>=5.13.0 in c:\\users\\keert\\anaconda3\\envs\\jupyternotebook-intwebappenv\\lib\\site-packages (from ipython>=5.3.0->cufflinks) (5.14.3)\n",
      "Requirement already satisfied: typing-extensions>=4.6 in c:\\users\\keert\\anaconda3\\envs\\jupyternotebook-intwebappenv\\lib\\site-packages (from ipython>=5.3.0->cufflinks) (4.12.2)\n",
      "Requirement already satisfied: colorama in c:\\users\\keert\\anaconda3\\envs\\jupyternotebook-intwebappenv\\lib\\site-packages (from ipython>=5.3.0->cufflinks) (0.4.6)\n",
      "Requirement already satisfied: comm>=0.1.3 in c:\\users\\keert\\anaconda3\\envs\\jupyternotebook-intwebappenv\\lib\\site-packages (from ipywidgets>=7.0.0->cufflinks) (0.2.1)\n",
      "Requirement already satisfied: widgetsnbextension~=4.0.12 in c:\\users\\keert\\anaconda3\\envs\\jupyternotebook-intwebappenv\\lib\\site-packages (from ipywidgets>=7.0.0->cufflinks) (4.0.13)\n",
      "Collecting jupyterlab-widgets~=3.0.12 (from ipywidgets>=7.0.0->cufflinks)\n",
      "  Using cached jupyterlab_widgets-3.0.13-py3-none-any.whl.metadata (4.1 kB)\n",
      "Requirement already satisfied: python-dateutil>=2.8.2 in c:\\users\\keert\\anaconda3\\envs\\jupyternotebook-intwebappenv\\lib\\site-packages (from pandas>=0.19.2->cufflinks) (2.9.0.post0)\n",
      "Requirement already satisfied: pytz>=2020.1 in c:\\users\\keert\\anaconda3\\envs\\jupyternotebook-intwebappenv\\lib\\site-packages (from pandas>=0.19.2->cufflinks) (2024.1)\n",
      "Requirement already satisfied: tzdata>=2022.7 in c:\\users\\keert\\anaconda3\\envs\\jupyternotebook-intwebappenv\\lib\\site-packages (from pandas>=0.19.2->cufflinks) (2025.2)\n",
      "Requirement already satisfied: narwhals>=1.15.1 in c:\\users\\keert\\anaconda3\\envs\\jupyternotebook-intwebappenv\\lib\\site-packages (from plotly>=4.1.1->cufflinks) (1.33.0)\n",
      "Requirement already satisfied: packaging in c:\\users\\keert\\anaconda3\\envs\\jupyternotebook-intwebappenv\\lib\\site-packages (from plotly>=4.1.1->cufflinks) (24.2)\n",
      "Requirement already satisfied: parso<0.9.0,>=0.8.4 in c:\\users\\keert\\anaconda3\\envs\\jupyternotebook-intwebappenv\\lib\\site-packages (from jedi>=0.16->ipython>=5.3.0->cufflinks) (0.8.4)\n",
      "Requirement already satisfied: wcwidth in c:\\users\\keert\\anaconda3\\envs\\jupyternotebook-intwebappenv\\lib\\site-packages (from prompt-toolkit<3.1.0,>=3.0.41->ipython>=5.3.0->cufflinks) (0.2.5)\n",
      "Requirement already satisfied: executing in c:\\users\\keert\\anaconda3\\envs\\jupyternotebook-intwebappenv\\lib\\site-packages (from stack-data->ipython>=5.3.0->cufflinks) (0.8.3)\n",
      "Requirement already satisfied: asttokens in c:\\users\\keert\\anaconda3\\envs\\jupyternotebook-intwebappenv\\lib\\site-packages (from stack-data->ipython>=5.3.0->cufflinks) (2.0.5)\n",
      "Requirement already satisfied: pure-eval in c:\\users\\keert\\anaconda3\\envs\\jupyternotebook-intwebappenv\\lib\\site-packages (from stack-data->ipython>=5.3.0->cufflinks) (0.2.2)\n",
      "Using cached ipywidgets-8.1.5-py3-none-any.whl (139 kB)\n",
      "Using cached jupyterlab_widgets-3.0.13-py3-none-any.whl (214 kB)\n",
      "Installing collected packages: jupyterlab-widgets, ipywidgets, cufflinks\n",
      "Successfully installed cufflinks-0.17.3 ipywidgets-8.1.5 jupyterlab-widgets-3.0.13\n"
     ]
    }
   ],
   "source": [
    "!pip install cufflinks"
   ]
  },
  {
   "cell_type": "markdown",
   "id": "cab9fad3-657d-4ed3-a236-c06660f7f045",
   "metadata": {},
   "source": [
    "### Steps to follow\n",
    "**1. Import the necessary libraries**"
   ]
  },
  {
   "cell_type": "code",
   "execution_count": 5,
   "id": "29d6a559-dc9e-49fa-ad47-7c6b7107e611",
   "metadata": {},
   "outputs": [
    {
     "data": {
      "text/html": [
       "        <script type=\"text/javascript\">\n",
       "        window.PlotlyConfig = {MathJaxConfig: 'local'};\n",
       "        if (window.MathJax && window.MathJax.Hub && window.MathJax.Hub.Config) {window.MathJax.Hub.Config({SVG: {font: \"STIX-Web\"}});}\n",
       "        </script>\n",
       "        <script type=\"module\">import \"https://cdn.plot.ly/plotly-3.0.1.min\"</script>\n",
       "        "
      ]
     },
     "metadata": {},
     "output_type": "display_data"
    }
   ],
   "source": [
    "import numpy as np\n",
    "import pandas as pd\n",
    "import matplotlib.pyplot as plt\n",
    "\n",
    "import chart_studio.plotly as py\n",
    "import plotly.graph_objs as go\n",
    "from plotly.offline import plot\n",
    "\n",
    "#for offline plotting\n",
    "from plotly.offline import download_plotlyjs,init_notebook_mode,plot,iplot\n",
    "init_notebook_mode(connected=True)"
   ]
  },
  {
   "cell_type": "markdown",
   "id": "78f9775e-f073-4be1-b69f-e5a91a6aad0d",
   "metadata": {},
   "source": [
    "**2. Load the Data File and convert the Date object to Datetime if date column exists and explore the data**"
   ]
  },
  {
   "cell_type": "code",
   "execution_count": 6,
   "id": "178e1e66-1a41-4749-80d3-c3944b09e995",
   "metadata": {},
   "outputs": [
    {
     "data": {
      "text/html": [
       "<div>\n",
       "<style scoped>\n",
       "    .dataframe tbody tr th:only-of-type {\n",
       "        vertical-align: middle;\n",
       "    }\n",
       "\n",
       "    .dataframe tbody tr th {\n",
       "        vertical-align: top;\n",
       "    }\n",
       "\n",
       "    .dataframe thead th {\n",
       "        text-align: right;\n",
       "    }\n",
       "</style>\n",
       "<table border=\"1\" class=\"dataframe\">\n",
       "  <thead>\n",
       "    <tr style=\"text-align: right;\">\n",
       "      <th></th>\n",
       "      <th>Date</th>\n",
       "      <th>Open</th>\n",
       "      <th>High</th>\n",
       "      <th>Low</th>\n",
       "      <th>Close</th>\n",
       "      <th>Shares Traded</th>\n",
       "      <th>Turnover (₹ Cr)</th>\n",
       "    </tr>\n",
       "  </thead>\n",
       "  <tbody>\n",
       "    <tr>\n",
       "      <th>0</th>\n",
       "      <td>12-MAR-2024</td>\n",
       "      <td>22334.45</td>\n",
       "      <td>22452.55</td>\n",
       "      <td>22256.00</td>\n",
       "      <td>22335.70</td>\n",
       "      <td>299201167.0</td>\n",
       "      <td>29781.12</td>\n",
       "    </tr>\n",
       "    <tr>\n",
       "      <th>1</th>\n",
       "      <td>13-MAR-2024</td>\n",
       "      <td>22432.20</td>\n",
       "      <td>22446.75</td>\n",
       "      <td>21905.65</td>\n",
       "      <td>21997.70</td>\n",
       "      <td>493341697.0</td>\n",
       "      <td>40109.23</td>\n",
       "    </tr>\n",
       "    <tr>\n",
       "      <th>2</th>\n",
       "      <td>14-MAR-2024</td>\n",
       "      <td>21982.55</td>\n",
       "      <td>22204.60</td>\n",
       "      <td>21917.50</td>\n",
       "      <td>22146.65</td>\n",
       "      <td>426742460.0</td>\n",
       "      <td>37348.30</td>\n",
       "    </tr>\n",
       "    <tr>\n",
       "      <th>3</th>\n",
       "      <td>15-MAR-2024</td>\n",
       "      <td>22064.85</td>\n",
       "      <td>22120.90</td>\n",
       "      <td>21931.70</td>\n",
       "      <td>22023.35</td>\n",
       "      <td>661460455.0</td>\n",
       "      <td>60260.88</td>\n",
       "    </tr>\n",
       "    <tr>\n",
       "      <th>4</th>\n",
       "      <td>18-MAR-2024</td>\n",
       "      <td>21990.10</td>\n",
       "      <td>22123.70</td>\n",
       "      <td>21916.55</td>\n",
       "      <td>22055.70</td>\n",
       "      <td>356321519.0</td>\n",
       "      <td>23015.51</td>\n",
       "    </tr>\n",
       "    <tr>\n",
       "      <th>...</th>\n",
       "      <td>...</td>\n",
       "      <td>...</td>\n",
       "      <td>...</td>\n",
       "      <td>...</td>\n",
       "      <td>...</td>\n",
       "      <td>...</td>\n",
       "      <td>...</td>\n",
       "    </tr>\n",
       "    <tr>\n",
       "      <th>244</th>\n",
       "      <td>05-MAR-2025</td>\n",
       "      <td>22073.05</td>\n",
       "      <td>22394.90</td>\n",
       "      <td>22067.80</td>\n",
       "      <td>22337.30</td>\n",
       "      <td>305942691.0</td>\n",
       "      <td>26371.61</td>\n",
       "    </tr>\n",
       "    <tr>\n",
       "      <th>245</th>\n",
       "      <td>06-MAR-2025</td>\n",
       "      <td>22476.35</td>\n",
       "      <td>22556.45</td>\n",
       "      <td>22245.85</td>\n",
       "      <td>22544.70</td>\n",
       "      <td>372083680.0</td>\n",
       "      <td>30550.28</td>\n",
       "    </tr>\n",
       "    <tr>\n",
       "      <th>246</th>\n",
       "      <td>07-MAR-2025</td>\n",
       "      <td>22508.65</td>\n",
       "      <td>22633.80</td>\n",
       "      <td>22464.75</td>\n",
       "      <td>22552.50</td>\n",
       "      <td>289765795.0</td>\n",
       "      <td>21446.95</td>\n",
       "    </tr>\n",
       "    <tr>\n",
       "      <th>247</th>\n",
       "      <td>10-MAR-2025</td>\n",
       "      <td>22521.85</td>\n",
       "      <td>22676.75</td>\n",
       "      <td>22429.05</td>\n",
       "      <td>22460.30</td>\n",
       "      <td>293855491.0</td>\n",
       "      <td>22330.86</td>\n",
       "    </tr>\n",
       "    <tr>\n",
       "      <th>248</th>\n",
       "      <td>11-MAR-2025</td>\n",
       "      <td>22345.95</td>\n",
       "      <td>22522.10</td>\n",
       "      <td>22314.70</td>\n",
       "      <td>22497.90</td>\n",
       "      <td>347924102.0</td>\n",
       "      <td>29208.22</td>\n",
       "    </tr>\n",
       "  </tbody>\n",
       "</table>\n",
       "<p>249 rows × 7 columns</p>\n",
       "</div>"
      ],
      "text/plain": [
       "           Date      Open      High       Low     Close   Shares Traded   \\\n",
       "0    12-MAR-2024  22334.45  22452.55  22256.00  22335.70     299201167.0   \n",
       "1    13-MAR-2024  22432.20  22446.75  21905.65  21997.70     493341697.0   \n",
       "2    14-MAR-2024  21982.55  22204.60  21917.50  22146.65     426742460.0   \n",
       "3    15-MAR-2024  22064.85  22120.90  21931.70  22023.35     661460455.0   \n",
       "4    18-MAR-2024  21990.10  22123.70  21916.55  22055.70     356321519.0   \n",
       "..           ...       ...       ...       ...       ...             ...   \n",
       "244  05-MAR-2025  22073.05  22394.90  22067.80  22337.30     305942691.0   \n",
       "245  06-MAR-2025  22476.35  22556.45  22245.85  22544.70     372083680.0   \n",
       "246  07-MAR-2025  22508.65  22633.80  22464.75  22552.50     289765795.0   \n",
       "247  10-MAR-2025  22521.85  22676.75  22429.05  22460.30     293855491.0   \n",
       "248  11-MAR-2025  22345.95  22522.10  22314.70  22497.90     347924102.0   \n",
       "\n",
       "     Turnover (₹ Cr)  \n",
       "0           29781.12  \n",
       "1           40109.23  \n",
       "2           37348.30  \n",
       "3           60260.88  \n",
       "4           23015.51  \n",
       "..               ...  \n",
       "244         26371.61  \n",
       "245         30550.28  \n",
       "246         21446.95  \n",
       "247         22330.86  \n",
       "248         29208.22  \n",
       "\n",
       "[249 rows x 7 columns]"
      ]
     },
     "execution_count": 6,
     "metadata": {},
     "output_type": "execute_result"
    }
   ],
   "source": [
    "import pandas as pd\n",
    "NIFTY50=pd.read_csv(\"NIFTY 50-12-03-2024-to-12-03-2025.csv\",parse_dates=True)\n",
    "df=pd.DataFrame(NIFTY50)\n",
    "df"
   ]
  },
  {
   "cell_type": "code",
   "execution_count": 7,
   "id": "a104cbc6-23d0-45bb-a550-862a19c047f5",
   "metadata": {},
   "outputs": [
    {
     "data": {
      "text/html": [
       "<div>\n",
       "<style scoped>\n",
       "    .dataframe tbody tr th:only-of-type {\n",
       "        vertical-align: middle;\n",
       "    }\n",
       "\n",
       "    .dataframe tbody tr th {\n",
       "        vertical-align: top;\n",
       "    }\n",
       "\n",
       "    .dataframe thead th {\n",
       "        text-align: right;\n",
       "    }\n",
       "</style>\n",
       "<table border=\"1\" class=\"dataframe\">\n",
       "  <thead>\n",
       "    <tr style=\"text-align: right;\">\n",
       "      <th></th>\n",
       "      <th>Date</th>\n",
       "      <th>Open</th>\n",
       "      <th>High</th>\n",
       "      <th>Low</th>\n",
       "      <th>Close</th>\n",
       "      <th>Shares Traded</th>\n",
       "      <th>Turnover (₹ Cr)</th>\n",
       "    </tr>\n",
       "  </thead>\n",
       "  <tbody>\n",
       "    <tr>\n",
       "      <th>0</th>\n",
       "      <td>12-MAR-2024</td>\n",
       "      <td>22334.45</td>\n",
       "      <td>22452.55</td>\n",
       "      <td>22256.00</td>\n",
       "      <td>22335.70</td>\n",
       "      <td>299201167.0</td>\n",
       "      <td>29781.12</td>\n",
       "    </tr>\n",
       "    <tr>\n",
       "      <th>1</th>\n",
       "      <td>13-MAR-2024</td>\n",
       "      <td>22432.20</td>\n",
       "      <td>22446.75</td>\n",
       "      <td>21905.65</td>\n",
       "      <td>21997.70</td>\n",
       "      <td>493341697.0</td>\n",
       "      <td>40109.23</td>\n",
       "    </tr>\n",
       "    <tr>\n",
       "      <th>2</th>\n",
       "      <td>14-MAR-2024</td>\n",
       "      <td>21982.55</td>\n",
       "      <td>22204.60</td>\n",
       "      <td>21917.50</td>\n",
       "      <td>22146.65</td>\n",
       "      <td>426742460.0</td>\n",
       "      <td>37348.30</td>\n",
       "    </tr>\n",
       "    <tr>\n",
       "      <th>3</th>\n",
       "      <td>15-MAR-2024</td>\n",
       "      <td>22064.85</td>\n",
       "      <td>22120.90</td>\n",
       "      <td>21931.70</td>\n",
       "      <td>22023.35</td>\n",
       "      <td>661460455.0</td>\n",
       "      <td>60260.88</td>\n",
       "    </tr>\n",
       "    <tr>\n",
       "      <th>4</th>\n",
       "      <td>18-MAR-2024</td>\n",
       "      <td>21990.10</td>\n",
       "      <td>22123.70</td>\n",
       "      <td>21916.55</td>\n",
       "      <td>22055.70</td>\n",
       "      <td>356321519.0</td>\n",
       "      <td>23015.51</td>\n",
       "    </tr>\n",
       "  </tbody>\n",
       "</table>\n",
       "</div>"
      ],
      "text/plain": [
       "         Date      Open      High       Low     Close   Shares Traded   \\\n",
       "0  12-MAR-2024  22334.45  22452.55  22256.00  22335.70     299201167.0   \n",
       "1  13-MAR-2024  22432.20  22446.75  21905.65  21997.70     493341697.0   \n",
       "2  14-MAR-2024  21982.55  22204.60  21917.50  22146.65     426742460.0   \n",
       "3  15-MAR-2024  22064.85  22120.90  21931.70  22023.35     661460455.0   \n",
       "4  18-MAR-2024  21990.10  22123.70  21916.55  22055.70     356321519.0   \n",
       "\n",
       "   Turnover (₹ Cr)  \n",
       "0         29781.12  \n",
       "1         40109.23  \n",
       "2         37348.30  \n",
       "3         60260.88  \n",
       "4         23015.51  "
      ]
     },
     "execution_count": 7,
     "metadata": {},
     "output_type": "execute_result"
    }
   ],
   "source": [
    "import pandas as pd\n",
    "df=pd.read_csv(\"NIFTY 50-12-03-2024-to-12-03-2025.csv\",parse_dates=True)\n",
    "df.head()"
   ]
  },
  {
   "cell_type": "code",
   "execution_count": 11,
   "id": "9a990c82-eb6c-4d55-af33-ee0d09c50095",
   "metadata": {},
   "outputs": [
    {
     "data": {
      "text/plain": [
       "Index(['Date', 'Open', 'High', 'Low', 'Close', 'Shares Traded',\n",
       "       'Turnover (₹ Cr)'],\n",
       "      dtype='object')"
      ]
     },
     "execution_count": 11,
     "metadata": {},
     "output_type": "execute_result"
    }
   ],
   "source": [
    "# Strip spaces from column names\n",
    "df.columns = df.columns.str.strip()\n",
    "df.columns"
   ]
  },
  {
   "cell_type": "code",
   "execution_count": 12,
   "id": "787d4a67-e1e2-42f9-a579-3c57f1a0df90",
   "metadata": {},
   "outputs": [
    {
     "name": "stderr",
     "output_type": "stream",
     "text": [
      "C:\\Users\\Keert\\AppData\\Local\\Temp\\ipykernel_15976\\964353663.py:2: UserWarning:\n",
      "\n",
      "Could not infer format, so each element will be parsed individually, falling back to `dateutil`. To ensure parsing is consistent and as-expected, please specify a format.\n",
      "\n"
     ]
    }
   ],
   "source": [
    "# Step 2: Convert 'Date' column to datetime format and set as index\n",
    "df['Date'] = pd.to_datetime(df['Date'])\n"
   ]
  },
  {
   "cell_type": "code",
   "execution_count": 13,
   "id": "3b8e30af-c316-4844-b39c-78d87a507169",
   "metadata": {},
   "outputs": [
    {
     "name": "stdout",
     "output_type": "stream",
     "text": [
      "<class 'pandas.core.frame.DataFrame'>\n",
      "RangeIndex: 249 entries, 0 to 248\n",
      "Data columns (total 7 columns):\n",
      " #   Column           Non-Null Count  Dtype         \n",
      "---  ------           --------------  -----         \n",
      " 0   Date             249 non-null    datetime64[ns]\n",
      " 1   Open             249 non-null    float64       \n",
      " 2   High             249 non-null    float64       \n",
      " 3   Low              249 non-null    float64       \n",
      " 4   Close            249 non-null    float64       \n",
      " 5   Shares Traded    248 non-null    float64       \n",
      " 6   Turnover (₹ Cr)  248 non-null    float64       \n",
      "dtypes: datetime64[ns](1), float64(6)\n",
      "memory usage: 13.7 KB\n"
     ]
    }
   ],
   "source": [
    "df.info()"
   ]
  },
  {
   "cell_type": "code",
   "execution_count": 14,
   "id": "454b48e9-4359-4fb4-8267-b80404e132e7",
   "metadata": {},
   "outputs": [
    {
     "data": {
      "text/html": [
       "<div>\n",
       "<style scoped>\n",
       "    .dataframe tbody tr th:only-of-type {\n",
       "        vertical-align: middle;\n",
       "    }\n",
       "\n",
       "    .dataframe tbody tr th {\n",
       "        vertical-align: top;\n",
       "    }\n",
       "\n",
       "    .dataframe thead th {\n",
       "        text-align: right;\n",
       "    }\n",
       "</style>\n",
       "<table border=\"1\" class=\"dataframe\">\n",
       "  <thead>\n",
       "    <tr style=\"text-align: right;\">\n",
       "      <th></th>\n",
       "      <th>Date</th>\n",
       "      <th>Open</th>\n",
       "      <th>High</th>\n",
       "      <th>Low</th>\n",
       "      <th>Close</th>\n",
       "      <th>Shares Traded</th>\n",
       "      <th>Turnover (₹ Cr)</th>\n",
       "    </tr>\n",
       "  </thead>\n",
       "  <tbody>\n",
       "    <tr>\n",
       "      <th>count</th>\n",
       "      <td>249</td>\n",
       "      <td>249.000000</td>\n",
       "      <td>249.000000</td>\n",
       "      <td>249.000000</td>\n",
       "      <td>249.000000</td>\n",
       "      <td>2.480000e+02</td>\n",
       "      <td>248.000000</td>\n",
       "    </tr>\n",
       "    <tr>\n",
       "      <th>mean</th>\n",
       "      <td>2024-09-12 03:28:11.566265088</td>\n",
       "      <td>23741.716064</td>\n",
       "      <td>23848.474900</td>\n",
       "      <td>23605.723695</td>\n",
       "      <td>23725.286145</td>\n",
       "      <td>3.096375e+08</td>\n",
       "      <td>31748.203548</td>\n",
       "    </tr>\n",
       "    <tr>\n",
       "      <th>min</th>\n",
       "      <td>2024-03-12 00:00:00</td>\n",
       "      <td>21843.900000</td>\n",
       "      <td>21930.900000</td>\n",
       "      <td>21281.450000</td>\n",
       "      <td>21817.450000</td>\n",
       "      <td>1.906457e+07</td>\n",
       "      <td>1572.770000</td>\n",
       "    </tr>\n",
       "    <tr>\n",
       "      <th>25%</th>\n",
       "      <td>2024-06-13 00:00:00</td>\n",
       "      <td>22766.350000</td>\n",
       "      <td>22910.150000</td>\n",
       "      <td>22642.600000</td>\n",
       "      <td>22753.800000</td>\n",
       "      <td>2.512036e+08</td>\n",
       "      <td>25474.560000</td>\n",
       "    </tr>\n",
       "    <tr>\n",
       "      <th>50%</th>\n",
       "      <td>2024-09-12 00:00:00</td>\n",
       "      <td>23769.100000</td>\n",
       "      <td>23869.550000</td>\n",
       "      <td>23599.300000</td>\n",
       "      <td>23727.650000</td>\n",
       "      <td>2.893708e+08</td>\n",
       "      <td>29392.740000</td>\n",
       "    </tr>\n",
       "    <tr>\n",
       "      <th>75%</th>\n",
       "      <td>2024-12-12 00:00:00</td>\n",
       "      <td>24543.800000</td>\n",
       "      <td>24638.800000</td>\n",
       "      <td>24378.100000</td>\n",
       "      <td>24541.150000</td>\n",
       "      <td>3.516046e+08</td>\n",
       "      <td>35361.040000</td>\n",
       "    </tr>\n",
       "    <tr>\n",
       "      <th>max</th>\n",
       "      <td>2025-03-11 00:00:00</td>\n",
       "      <td>26248.250000</td>\n",
       "      <td>26277.350000</td>\n",
       "      <td>26151.400000</td>\n",
       "      <td>26216.050000</td>\n",
       "      <td>1.006105e+09</td>\n",
       "      <td>93786.440000</td>\n",
       "    </tr>\n",
       "    <tr>\n",
       "      <th>std</th>\n",
       "      <td>NaN</td>\n",
       "      <td>1066.327297</td>\n",
       "      <td>1061.319586</td>\n",
       "      <td>1075.143418</td>\n",
       "      <td>1065.749480</td>\n",
       "      <td>1.026386e+08</td>\n",
       "      <td>11361.551049</td>\n",
       "    </tr>\n",
       "  </tbody>\n",
       "</table>\n",
       "</div>"
      ],
      "text/plain": [
       "                                Date          Open          High  \\\n",
       "count                            249    249.000000    249.000000   \n",
       "mean   2024-09-12 03:28:11.566265088  23741.716064  23848.474900   \n",
       "min              2024-03-12 00:00:00  21843.900000  21930.900000   \n",
       "25%              2024-06-13 00:00:00  22766.350000  22910.150000   \n",
       "50%              2024-09-12 00:00:00  23769.100000  23869.550000   \n",
       "75%              2024-12-12 00:00:00  24543.800000  24638.800000   \n",
       "max              2025-03-11 00:00:00  26248.250000  26277.350000   \n",
       "std                              NaN   1066.327297   1061.319586   \n",
       "\n",
       "                Low         Close  Shares Traded  Turnover (₹ Cr)  \n",
       "count    249.000000    249.000000   2.480000e+02       248.000000  \n",
       "mean   23605.723695  23725.286145   3.096375e+08     31748.203548  \n",
       "min    21281.450000  21817.450000   1.906457e+07      1572.770000  \n",
       "25%    22642.600000  22753.800000   2.512036e+08     25474.560000  \n",
       "50%    23599.300000  23727.650000   2.893708e+08     29392.740000  \n",
       "75%    24378.100000  24541.150000   3.516046e+08     35361.040000  \n",
       "max    26151.400000  26216.050000   1.006105e+09     93786.440000  \n",
       "std     1075.143418   1065.749480   1.026386e+08     11361.551049  "
      ]
     },
     "execution_count": 14,
     "metadata": {},
     "output_type": "execute_result"
    }
   ],
   "source": [
    "df.describe()"
   ]
  },
  {
   "cell_type": "markdown",
   "id": "80f4f69e-6332-43d5-914e-99d7a97398da",
   "metadata": {},
   "source": [
    "**3. Check for null values and Duplicated values**"
   ]
  },
  {
   "cell_type": "code",
   "execution_count": 15,
   "id": "d0c50ca7-1161-4a33-b454-b3b0dbc9a293",
   "metadata": {},
   "outputs": [
    {
     "data": {
      "text/plain": [
       "Date               0\n",
       "Open               0\n",
       "High               0\n",
       "Low                0\n",
       "Close              0\n",
       "Shares Traded      1\n",
       "Turnover (₹ Cr)    1\n",
       "dtype: int64"
      ]
     },
     "execution_count": 15,
     "metadata": {},
     "output_type": "execute_result"
    }
   ],
   "source": [
    "df.isna().sum()"
   ]
  },
  {
   "cell_type": "code",
   "execution_count": 16,
   "id": "0e357473-ebdb-4ec3-8af2-440af6018a1a",
   "metadata": {},
   "outputs": [
    {
     "data": {
      "text/plain": [
       "np.int64(0)"
      ]
     },
     "execution_count": 16,
     "metadata": {},
     "output_type": "execute_result"
    }
   ],
   "source": [
    "df.duplicated().sum()"
   ]
  },
  {
   "cell_type": "markdown",
   "id": "b7724e97-9363-4b56-8c54-a7968303f17a",
   "metadata": {},
   "source": [
    "**4. Remove or Fill Null values appropriately and Remove duplicate rows if found**"
   ]
  },
  {
   "cell_type": "code",
   "execution_count": 17,
   "id": "aee15f08-d679-4df4-b158-5b0fddad9197",
   "metadata": {},
   "outputs": [
    {
     "data": {
      "text/html": [
       "<div>\n",
       "<style scoped>\n",
       "    .dataframe tbody tr th:only-of-type {\n",
       "        vertical-align: middle;\n",
       "    }\n",
       "\n",
       "    .dataframe tbody tr th {\n",
       "        vertical-align: top;\n",
       "    }\n",
       "\n",
       "    .dataframe thead th {\n",
       "        text-align: right;\n",
       "    }\n",
       "</style>\n",
       "<table border=\"1\" class=\"dataframe\">\n",
       "  <thead>\n",
       "    <tr style=\"text-align: right;\">\n",
       "      <th></th>\n",
       "      <th>Date</th>\n",
       "      <th>Open</th>\n",
       "      <th>High</th>\n",
       "      <th>Low</th>\n",
       "      <th>Close</th>\n",
       "      <th>Shares Traded</th>\n",
       "      <th>Turnover (₹ Cr)</th>\n",
       "    </tr>\n",
       "  </thead>\n",
       "  <tbody>\n",
       "    <tr>\n",
       "      <th>0</th>\n",
       "      <td>2024-03-12</td>\n",
       "      <td>22334.45</td>\n",
       "      <td>22452.55</td>\n",
       "      <td>22256.00</td>\n",
       "      <td>22335.70</td>\n",
       "      <td>299201167.0</td>\n",
       "      <td>29781.12</td>\n",
       "    </tr>\n",
       "    <tr>\n",
       "      <th>1</th>\n",
       "      <td>2024-03-13</td>\n",
       "      <td>22432.20</td>\n",
       "      <td>22446.75</td>\n",
       "      <td>21905.65</td>\n",
       "      <td>21997.70</td>\n",
       "      <td>493341697.0</td>\n",
       "      <td>40109.23</td>\n",
       "    </tr>\n",
       "    <tr>\n",
       "      <th>2</th>\n",
       "      <td>2024-03-14</td>\n",
       "      <td>21982.55</td>\n",
       "      <td>22204.60</td>\n",
       "      <td>21917.50</td>\n",
       "      <td>22146.65</td>\n",
       "      <td>426742460.0</td>\n",
       "      <td>37348.30</td>\n",
       "    </tr>\n",
       "    <tr>\n",
       "      <th>3</th>\n",
       "      <td>2024-03-15</td>\n",
       "      <td>22064.85</td>\n",
       "      <td>22120.90</td>\n",
       "      <td>21931.70</td>\n",
       "      <td>22023.35</td>\n",
       "      <td>661460455.0</td>\n",
       "      <td>60260.88</td>\n",
       "    </tr>\n",
       "    <tr>\n",
       "      <th>4</th>\n",
       "      <td>2024-03-18</td>\n",
       "      <td>21990.10</td>\n",
       "      <td>22123.70</td>\n",
       "      <td>21916.55</td>\n",
       "      <td>22055.70</td>\n",
       "      <td>356321519.0</td>\n",
       "      <td>23015.51</td>\n",
       "    </tr>\n",
       "    <tr>\n",
       "      <th>...</th>\n",
       "      <td>...</td>\n",
       "      <td>...</td>\n",
       "      <td>...</td>\n",
       "      <td>...</td>\n",
       "      <td>...</td>\n",
       "      <td>...</td>\n",
       "      <td>...</td>\n",
       "    </tr>\n",
       "    <tr>\n",
       "      <th>244</th>\n",
       "      <td>2025-03-05</td>\n",
       "      <td>22073.05</td>\n",
       "      <td>22394.90</td>\n",
       "      <td>22067.80</td>\n",
       "      <td>22337.30</td>\n",
       "      <td>305942691.0</td>\n",
       "      <td>26371.61</td>\n",
       "    </tr>\n",
       "    <tr>\n",
       "      <th>245</th>\n",
       "      <td>2025-03-06</td>\n",
       "      <td>22476.35</td>\n",
       "      <td>22556.45</td>\n",
       "      <td>22245.85</td>\n",
       "      <td>22544.70</td>\n",
       "      <td>372083680.0</td>\n",
       "      <td>30550.28</td>\n",
       "    </tr>\n",
       "    <tr>\n",
       "      <th>246</th>\n",
       "      <td>2025-03-07</td>\n",
       "      <td>22508.65</td>\n",
       "      <td>22633.80</td>\n",
       "      <td>22464.75</td>\n",
       "      <td>22552.50</td>\n",
       "      <td>289765795.0</td>\n",
       "      <td>21446.95</td>\n",
       "    </tr>\n",
       "    <tr>\n",
       "      <th>247</th>\n",
       "      <td>2025-03-10</td>\n",
       "      <td>22521.85</td>\n",
       "      <td>22676.75</td>\n",
       "      <td>22429.05</td>\n",
       "      <td>22460.30</td>\n",
       "      <td>293855491.0</td>\n",
       "      <td>22330.86</td>\n",
       "    </tr>\n",
       "    <tr>\n",
       "      <th>248</th>\n",
       "      <td>2025-03-11</td>\n",
       "      <td>22345.95</td>\n",
       "      <td>22522.10</td>\n",
       "      <td>22314.70</td>\n",
       "      <td>22497.90</td>\n",
       "      <td>347924102.0</td>\n",
       "      <td>29208.22</td>\n",
       "    </tr>\n",
       "  </tbody>\n",
       "</table>\n",
       "<p>249 rows × 7 columns</p>\n",
       "</div>"
      ],
      "text/plain": [
       "          Date      Open      High       Low     Close  Shares Traded  \\\n",
       "0   2024-03-12  22334.45  22452.55  22256.00  22335.70    299201167.0   \n",
       "1   2024-03-13  22432.20  22446.75  21905.65  21997.70    493341697.0   \n",
       "2   2024-03-14  21982.55  22204.60  21917.50  22146.65    426742460.0   \n",
       "3   2024-03-15  22064.85  22120.90  21931.70  22023.35    661460455.0   \n",
       "4   2024-03-18  21990.10  22123.70  21916.55  22055.70    356321519.0   \n",
       "..         ...       ...       ...       ...       ...            ...   \n",
       "244 2025-03-05  22073.05  22394.90  22067.80  22337.30    305942691.0   \n",
       "245 2025-03-06  22476.35  22556.45  22245.85  22544.70    372083680.0   \n",
       "246 2025-03-07  22508.65  22633.80  22464.75  22552.50    289765795.0   \n",
       "247 2025-03-10  22521.85  22676.75  22429.05  22460.30    293855491.0   \n",
       "248 2025-03-11  22345.95  22522.10  22314.70  22497.90    347924102.0   \n",
       "\n",
       "     Turnover (₹ Cr)  \n",
       "0           29781.12  \n",
       "1           40109.23  \n",
       "2           37348.30  \n",
       "3           60260.88  \n",
       "4           23015.51  \n",
       "..               ...  \n",
       "244         26371.61  \n",
       "245         30550.28  \n",
       "246         21446.95  \n",
       "247         22330.86  \n",
       "248         29208.22  \n",
       "\n",
       "[249 rows x 7 columns]"
      ]
     },
     "execution_count": 17,
     "metadata": {},
     "output_type": "execute_result"
    }
   ],
   "source": [
    "df.ffill(inplace=True)\n",
    "df"
   ]
  },
  {
   "cell_type": "code",
   "execution_count": 18,
   "id": "daa4ccd5-a731-4b45-9611-52b3acdb3711",
   "metadata": {},
   "outputs": [
    {
     "data": {
      "text/plain": [
       "Date               0\n",
       "Open               0\n",
       "High               0\n",
       "Low                0\n",
       "Close              0\n",
       "Shares Traded      0\n",
       "Turnover (₹ Cr)    0\n",
       "dtype: int64"
      ]
     },
     "execution_count": 18,
     "metadata": {},
     "output_type": "execute_result"
    }
   ],
   "source": [
    "df.isna().sum()"
   ]
  },
  {
   "cell_type": "markdown",
   "id": "9b6928ca-a6a5-4118-b096-9086ee61a92e",
   "metadata": {},
   "source": [
    "**5. EDA-Exploratory Data Analysis**\n",
    "Now, let’s visualize the stock price trends.\n",
    "I’ll generate the following plots: \n",
    "\n",
    "1️⃣ Closing Price Trend – Line plot over time.\n",
    "\n",
    "2️⃣ Moving Averages – 7-day and 30-day to identify trends.\n",
    "\n",
    "3️⃣ Daily Returns Distribution – Volatility analysis."
   ]
  },
  {
   "cell_type": "code",
   "execution_count": 19,
   "id": "19e42345-3e0a-40c8-abe1-e11768c11447",
   "metadata": {},
   "outputs": [
    {
     "data": {
      "image/png": "[encoded data removed]",
      "text/plain": [
       "<Figure size 1200x600 with 1 Axes>"
      ]
     },
     "metadata": {},
     "output_type": "display_data"
    }
   ],
   "source": [
    "#Closing Price Trend – Line plot over time.\n",
    "import matplotlib.pyplot as plt\n",
    "\n",
    "# Plot the closing price over time\n",
    "plt.figure(figsize=(12, 6))\n",
    "plt.plot(df.index, df['Close'], label='Closing Price', color='blue')\n",
    "plt.xlabel('Date')\n",
    "plt.ylabel('Close Price (₹)')\n",
    "plt.title('NIFTY 50 Closing Price Trend')\n",
    "plt.legend()\n",
    "plt.grid()\n",
    "plt.show()"
   ]
  },
  {
   "cell_type": "code",
   "execution_count": 20,
   "id": "ae36c31b-4ae9-48c3-955e-0e5b14b3ab76",
   "metadata": {},
   "outputs": [
    {
     "data": {
      "image/png": "[encoded data removed]",
      "text/plain": [
       "<Figure size 1200x600 with 1 Axes>"
      ]
     },
     "metadata": {},
     "output_type": "display_data"
    }
   ],
   "source": [
    "# Compute moving averages\n",
    "df['7-Day MA'] = df['Close'].rolling(window=7).mean()\n",
    "df['30-Day MA'] = df['Close'].rolling(window=30).mean()\n",
    "\n",
    "# Plot closing price with moving averages\n",
    "plt.figure(figsize=(12, 6))\n",
    "plt.plot(df.index, df['Close'], label='Closing Price', color='blue', alpha=0.6)\n",
    "plt.plot(df.index, df['7-Day MA'], label='7-Day Moving Average', color='red')\n",
    "plt.plot(df.index, df['30-Day MA'], label='30-Day Moving Average', color='green')\n",
    "plt.xlabel('Date')\n",
    "plt.ylabel('Close Price (₹)')\n",
    "plt.title('NIFTY 50 Closing Price with Moving Averages')\n",
    "plt.legend()\n",
    "plt.grid()\n",
    "plt.show()"
   ]
  },
  {
   "cell_type": "code",
   "execution_count": 21,
   "id": "95a91ba5-a4c7-4e9c-ac70-97d2d00f075f",
   "metadata": {},
   "outputs": [
    {
     "data": {
      "image/png": "[encoded data removed]",
      "text/plain": [
       "<Figure size 1000x500 with 1 Axes>"
      ]
     },
     "metadata": {},
     "output_type": "display_data"
    }
   ],
   "source": [
    "# Calculate daily returns\n",
    "df['Daily Returns'] = df['Close'].pct_change() * 100\n",
    "\n",
    "# Plot histogram of daily returns\n",
    "plt.figure(figsize=(10, 5))\n",
    "plt.hist(df['Daily Returns'].dropna(), bins=30, color='purple', alpha=0.7, edgecolor='black')\n",
    "plt.xlabel('Daily Return (%)')\n",
    "plt.ylabel('Frequency')\n",
    "plt.title('Distribution of Daily Returns - NIFTY 50')\n",
    "plt.grid()\n",
    "plt.show()"
   ]
  },
  {
   "cell_type": "markdown",
   "id": "5dbd0c10-15b5-408a-ae8e-59a83cef6997",
   "metadata": {},
   "source": [
    "**6. Visualize the data**"
   ]
  },
  {
   "cell_type": "code",
   "execution_count": 22,
   "id": "a9326544-40d0-4a83-90c3-3cf33f038c9f",
   "metadata": {},
   "outputs": [
    {
     "data": {
      "text/plain": [
       "<Axes: >"
      ]
     },
     "execution_count": 22,
     "metadata": {},
     "output_type": "execute_result"
    },
    {
     "data": {
      "image/png": "[encoded data removed]",
      "text/plain": [
       "<Figure size 640x480 with 1 Axes>"
      ]
     },
     "metadata": {},
     "output_type": "display_data"
    }
   ],
   "source": [
    "df[['Open','High','Low','Close','Turnover (₹ Cr)']].plot(kind='box')"
   ]
  },
  {
   "cell_type": "code",
   "execution_count": 23,
   "id": "99fe9b71-ab81-48b1-a77d-325330b04930",
   "metadata": {},
   "outputs": [
    {
     "data": {
      "text/html": [
       "        <script type=\"text/javascript\">\n",
       "        window.PlotlyConfig = {MathJaxConfig: 'local'};\n",
       "        if (window.MathJax && window.MathJax.Hub && window.MathJax.Hub.Config) {window.MathJax.Hub.Config({SVG: {font: \"STIX-Web\"}});}\n",
       "        </script>\n",
       "        <script type=\"module\">import \"https://cdn.plot.ly/plotly-3.0.1.min\"</script>\n",
       "        "
      ]
     },
     "metadata": {},
     "output_type": "display_data"
    },
    {
     "data": {
      "text/html": [
       "        <script type=\"text/javascript\">\n",
       "        window.PlotlyConfig = {MathJaxConfig: 'local'};\n",
       "        if (window.MathJax && window.MathJax.Hub && window.MathJax.Hub.Config) {window.MathJax.Hub.Config({SVG: {font: \"STIX-Web\"}});}\n",
       "        </script>\n",
       "        <script type=\"module\">import \"https://cdn.plot.ly/plotly-3.0.1.min\"</script>\n",
       "        "
      ]
     },
     "metadata": {},
     "output_type": "display_data"
    },
    {
     "name": "stderr",
     "output_type": "stream",
     "text": [
      "C:\\Users\\Keert\\anaconda3\\envs\\JupyterNotebook-IntWebAppEnv\\Lib\\site-packages\\cufflinks\\plotlytools.py:117: FutureWarning:\n",
      "\n",
      "DatetimeIndex.format is deprecated and will be removed in a future version. Convert using index.astype(str) or index.map(formatter) instead.\n",
      "\n"
     ]
    },
    {
     "ename": "ValueError",
     "evalue": "\n    Invalid value of type 'builtins.str' received for the 'color' property of scatter.line\n        Received value: 'rgba(255, 153, 51, np.float64(1.0))'\n\n    The 'color' property is a color and may be specified as:\n      - A hex string (e.g. '#ff0000')\n      - An rgb/rgba string (e.g. 'rgb(255,0,0)')\n      - An hsl/hsla string (e.g. 'hsl(0,100%,50%)')\n      - An hsv/hsva string (e.g. 'hsv(0,100%,100%)')\n      - A named CSS color:\n            aliceblue, antiquewhite, aqua, aquamarine, azure,\n            beige, bisque, black, blanchedalmond, blue,\n            blueviolet, brown, burlywood, cadetblue,\n            chartreuse, chocolate, coral, cornflowerblue,\n            cornsilk, crimson, cyan, darkblue, darkcyan,\n            darkgoldenrod, darkgray, darkgrey, darkgreen,\n            darkkhaki, darkmagenta, darkolivegreen, darkorange,\n            darkorchid, darkred, darksalmon, darkseagreen,\n            darkslateblue, darkslategray, darkslategrey,\n            darkturquoise, darkviolet, deeppink, deepskyblue,\n            dimgray, dimgrey, dodgerblue, firebrick,\n            floralwhite, forestgreen, fuchsia, gainsboro,\n            ghostwhite, gold, goldenrod, gray, grey, green,\n            greenyellow, honeydew, hotpink, indianred, indigo,\n            ivory, khaki, lavender, lavenderblush, lawngreen,\n            lemonchiffon, lightblue, lightcoral, lightcyan,\n            lightgoldenrodyellow, lightgray, lightgrey,\n            lightgreen, lightpink, lightsalmon, lightseagreen,\n            lightskyblue, lightslategray, lightslategrey,\n            lightsteelblue, lightyellow, lime, limegreen,\n            linen, magenta, maroon, mediumaquamarine,\n            mediumblue, mediumorchid, mediumpurple,\n            mediumseagreen, mediumslateblue, mediumspringgreen,\n            mediumturquoise, mediumvioletred, midnightblue,\n            mintcream, mistyrose, moccasin, navajowhite, navy,\n            oldlace, olive, olivedrab, orange, orangered,\n            orchid, palegoldenrod, palegreen, paleturquoise,\n            palevioletred, papayawhip, peachpuff, peru, pink,\n            plum, powderblue, purple, red, rosybrown,\n            royalblue, rebeccapurple, saddlebrown, salmon,\n            sandybrown, seagreen, seashell, sienna, silver,\n            skyblue, slateblue, slategray, slategrey, snow,\n            springgreen, steelblue, tan, teal, thistle, tomato,\n            turquoise, violet, wheat, white, whitesmoke,\n            yellow, yellowgreen",
     "output_type": "error",
     "traceback": [
      "\u001b[1;31m---------------------------------------------------------------------------\u001b[0m",
      "\u001b[1;31mValueError\u001b[0m                                Traceback (most recent call last)",
      "Cell \u001b[1;32mIn[23], line 13\u001b[0m\n\u001b[0;32m     10\u001b[0m df[\u001b[38;5;124m\"\u001b[39m\u001b[38;5;124mDate\u001b[39m\u001b[38;5;124m\"\u001b[39m] \u001b[38;5;241m=\u001b[39m pd\u001b[38;5;241m.\u001b[39mto_datetime(df[\u001b[38;5;124m\"\u001b[39m\u001b[38;5;124mDate\u001b[39m\u001b[38;5;124m\"\u001b[39m])\n\u001b[0;32m     12\u001b[0m \u001b[38;5;66;03m# Create an interactive line chart using iplot\u001b[39;00m\n\u001b[1;32m---> 13\u001b[0m df\u001b[38;5;241m.\u001b[39miplot(\n\u001b[0;32m     14\u001b[0m     x\u001b[38;5;241m=\u001b[39m\u001b[38;5;124m\"\u001b[39m\u001b[38;5;124mDate\u001b[39m\u001b[38;5;124m\"\u001b[39m,\n\u001b[0;32m     15\u001b[0m     y\u001b[38;5;241m=\u001b[39m\u001b[38;5;124m\"\u001b[39m\u001b[38;5;124mClose\u001b[39m\u001b[38;5;124m\"\u001b[39m,  \u001b[38;5;66;03m# Replace with the correct column for stock prices\u001b[39;00m\n\u001b[0;32m     16\u001b[0m     kind\u001b[38;5;241m=\u001b[39m\u001b[38;5;124m\"\u001b[39m\u001b[38;5;124mline\u001b[39m\u001b[38;5;124m\"\u001b[39m,\n\u001b[0;32m     17\u001b[0m     title\u001b[38;5;241m=\u001b[39m\u001b[38;5;124m\"\u001b[39m\u001b[38;5;124mStock Price of NIFTY 50\u001b[39m\u001b[38;5;124m\"\u001b[39m,\n\u001b[0;32m     18\u001b[0m     xTitle\u001b[38;5;241m=\u001b[39m\u001b[38;5;124m\"\u001b[39m\u001b[38;5;124mDate\u001b[39m\u001b[38;5;124m\"\u001b[39m,\n\u001b[0;32m     19\u001b[0m     yTitle\u001b[38;5;241m=\u001b[39m\u001b[38;5;124m\"\u001b[39m\u001b[38;5;124mPrice\u001b[39m\u001b[38;5;124m\"\u001b[39m,\n\u001b[0;32m     20\u001b[0m     theme\u001b[38;5;241m=\u001b[39m\u001b[38;5;124m\"\u001b[39m\u001b[38;5;124msolar\u001b[39m\u001b[38;5;124m\"\u001b[39m\n\u001b[0;32m     21\u001b[0m )\n",
      "File \u001b[1;32m~\\anaconda3\\envs\\JupyterNotebook-IntWebAppEnv\\Lib\\site-packages\\cufflinks\\plotlytools.py:839\u001b[0m, in \u001b[0;36m_iplot\u001b[1;34m(self, kind, data, layout, filename, sharing, title, xTitle, yTitle, zTitle, theme, colors, colorscale, fill, width, dash, mode, interpolation, symbol, size, barmode, sortbars, bargap, bargroupgap, bins, histnorm, histfunc, orientation, boxpoints, annotations, keys, bestfit, bestfit_colors, mean, mean_colors, categories, x, y, z, text, gridcolor, zerolinecolor, margin, labels, values, secondary_y, secondary_y_title, subplots, shape, error_x, error_y, error_type, locations, lon, lat, asFrame, asDates, asFigure, asImage, dimensions, asPlot, asUrl, online, **kwargs)\u001b[0m\n\u001b[0;32m    837\u001b[0m \t\u001b[38;5;28;01mif\u001b[39;00m \u001b[38;5;129;01mnot\u001b[39;00m \u001b[38;5;28misinstance\u001b[39m(text,\u001b[38;5;28mlist\u001b[39m):\n\u001b[0;32m    838\u001b[0m \t\ttext\u001b[38;5;241m=\u001b[39m\u001b[38;5;28mself\u001b[39m[text]\u001b[38;5;241m.\u001b[39mvalues\n\u001b[1;32m--> 839\u001b[0m data\u001b[38;5;241m=\u001b[39mdf\u001b[38;5;241m.\u001b[39mto_iplot(colors\u001b[38;5;241m=\u001b[39mcolors,colorscale\u001b[38;5;241m=\u001b[39mcolorscale,kind\u001b[38;5;241m=\u001b[39mkind,interpolation\u001b[38;5;241m=\u001b[39minterpolation,fill\u001b[38;5;241m=\u001b[39mfill,width\u001b[38;5;241m=\u001b[39mwidth,dash\u001b[38;5;241m=\u001b[39mdash,sortbars\u001b[38;5;241m=\u001b[39msortbars,keys\u001b[38;5;241m=\u001b[39mkeys,\n\u001b[0;32m    840\u001b[0m \t\tbestfit\u001b[38;5;241m=\u001b[39mbestfit,bestfit_colors\u001b[38;5;241m=\u001b[39mbestfit_colors,mean\u001b[38;5;241m=\u001b[39mmean,mean_colors\u001b[38;5;241m=\u001b[39mmean_colors,asDates\u001b[38;5;241m=\u001b[39masDates,mode\u001b[38;5;241m=\u001b[39mmode,symbol\u001b[38;5;241m=\u001b[39msymbol,size\u001b[38;5;241m=\u001b[39msize,\n\u001b[0;32m    841\u001b[0m \t\ttext\u001b[38;5;241m=\u001b[39mtext,\u001b[38;5;241m*\u001b[39m\u001b[38;5;241m*\u001b[39mkwargs)\t\t\n\u001b[0;32m    842\u001b[0m trace_kw\u001b[38;5;241m=\u001b[39mcheck_kwargs(kwargs,TRACE_KWARGS)\n\u001b[0;32m    843\u001b[0m \u001b[38;5;28;01mfor\u001b[39;00m trace \u001b[38;5;129;01min\u001b[39;00m data:\n",
      "File \u001b[1;32m~\\anaconda3\\envs\\JupyterNotebook-IntWebAppEnv\\Lib\\site-packages\\cufflinks\\plotlytools.py:161\u001b[0m, in \u001b[0;36m_to_iplot\u001b[1;34m(self, colors, colorscale, kind, mode, interpolation, symbol, size, fill, width, dash, sortbars, keys, bestfit, bestfit_colors, opacity, mean, mean_colors, asDates, asTimestamp, text, **kwargs)\u001b[0m\n\u001b[0;32m    159\u001b[0m \tlines_plotly\u001b[38;5;241m=\u001b[39m[Bar(lines[key])\u001b[38;5;241m.\u001b[39mto_plotly_json() \u001b[38;5;28;01mfor\u001b[39;00m key \u001b[38;5;129;01min\u001b[39;00m keys]\n\u001b[0;32m    160\u001b[0m \u001b[38;5;28;01melse\u001b[39;00m:\n\u001b[1;32m--> 161\u001b[0m \tlines_plotly\u001b[38;5;241m=\u001b[39m[Scatter(lines[key])\u001b[38;5;241m.\u001b[39mto_plotly_json() \u001b[38;5;28;01mfor\u001b[39;00m key \u001b[38;5;129;01min\u001b[39;00m keys]\n\u001b[0;32m    162\u001b[0m \u001b[38;5;28;01mfor\u001b[39;00m trace \u001b[38;5;129;01min\u001b[39;00m lines_plotly:\n\u001b[0;32m    163\u001b[0m \t\u001b[38;5;28;01mif\u001b[39;00m \u001b[38;5;28misinstance\u001b[39m(trace[\u001b[38;5;124m'\u001b[39m\u001b[38;5;124mname\u001b[39m\u001b[38;5;124m'\u001b[39m],pd\u001b[38;5;241m.\u001b[39mTimestamp):\n",
      "File \u001b[1;32m~\\anaconda3\\envs\\JupyterNotebook-IntWebAppEnv\\Lib\\site-packages\\cufflinks\\plotlytools.py:161\u001b[0m, in \u001b[0;36m<listcomp>\u001b[1;34m(.0)\u001b[0m\n\u001b[0;32m    159\u001b[0m \tlines_plotly\u001b[38;5;241m=\u001b[39m[Bar(lines[key])\u001b[38;5;241m.\u001b[39mto_plotly_json() \u001b[38;5;28;01mfor\u001b[39;00m key \u001b[38;5;129;01min\u001b[39;00m keys]\n\u001b[0;32m    160\u001b[0m \u001b[38;5;28;01melse\u001b[39;00m:\n\u001b[1;32m--> 161\u001b[0m \tlines_plotly\u001b[38;5;241m=\u001b[39m[Scatter(lines[key])\u001b[38;5;241m.\u001b[39mto_plotly_json() \u001b[38;5;28;01mfor\u001b[39;00m key \u001b[38;5;129;01min\u001b[39;00m keys]\n\u001b[0;32m    162\u001b[0m \u001b[38;5;28;01mfor\u001b[39;00m trace \u001b[38;5;129;01min\u001b[39;00m lines_plotly:\n\u001b[0;32m    163\u001b[0m \t\u001b[38;5;28;01mif\u001b[39;00m \u001b[38;5;28misinstance\u001b[39m(trace[\u001b[38;5;124m'\u001b[39m\u001b[38;5;124mname\u001b[39m\u001b[38;5;124m'\u001b[39m],pd\u001b[38;5;241m.\u001b[39mTimestamp):\n",
      "File \u001b[1;32m~\\anaconda3\\envs\\JupyterNotebook-IntWebAppEnv\\Lib\\site-packages\\plotly\\graph_objs\\_scatter.py:3530\u001b[0m, in \u001b[0;36mScatter.__init__\u001b[1;34m(self, arg, alignmentgroup, cliponaxis, connectgaps, customdata, customdatasrc, dx, dy, error_x, error_y, fill, fillcolor, fillgradient, fillpattern, groupnorm, hoverinfo, hoverinfosrc, hoverlabel, hoveron, hovertemplate, hovertemplatesrc, hovertext, hovertextsrc, ids, idssrc, legend, legendgroup, legendgrouptitle, legendrank, legendwidth, line, marker, meta, metasrc, mode, name, offsetgroup, opacity, orientation, selected, selectedpoints, showlegend, stackgaps, stackgroup, stream, text, textfont, textposition, textpositionsrc, textsrc, texttemplate, texttemplatesrc, uid, uirevision, unselected, visible, x, x0, xaxis, xcalendar, xhoverformat, xperiod, xperiod0, xperiodalignment, xsrc, y, y0, yaxis, ycalendar, yhoverformat, yperiod, yperiod0, yperiodalignment, ysrc, zorder, **kwargs)\u001b[0m\n\u001b[0;32m   3528\u001b[0m _v \u001b[38;5;241m=\u001b[39m line \u001b[38;5;28;01mif\u001b[39;00m line \u001b[38;5;129;01mis\u001b[39;00m \u001b[38;5;129;01mnot\u001b[39;00m \u001b[38;5;28;01mNone\u001b[39;00m \u001b[38;5;28;01melse\u001b[39;00m _v\n\u001b[0;32m   3529\u001b[0m \u001b[38;5;28;01mif\u001b[39;00m _v \u001b[38;5;129;01mis\u001b[39;00m \u001b[38;5;129;01mnot\u001b[39;00m \u001b[38;5;28;01mNone\u001b[39;00m:\n\u001b[1;32m-> 3530\u001b[0m     \u001b[38;5;28mself\u001b[39m[\u001b[38;5;124m\"\u001b[39m\u001b[38;5;124mline\u001b[39m\u001b[38;5;124m\"\u001b[39m] \u001b[38;5;241m=\u001b[39m _v\n\u001b[0;32m   3531\u001b[0m _v \u001b[38;5;241m=\u001b[39m arg\u001b[38;5;241m.\u001b[39mpop(\u001b[38;5;124m\"\u001b[39m\u001b[38;5;124mmarker\u001b[39m\u001b[38;5;124m\"\u001b[39m, \u001b[38;5;28;01mNone\u001b[39;00m)\n\u001b[0;32m   3532\u001b[0m _v \u001b[38;5;241m=\u001b[39m marker \u001b[38;5;28;01mif\u001b[39;00m marker \u001b[38;5;129;01mis\u001b[39;00m \u001b[38;5;129;01mnot\u001b[39;00m \u001b[38;5;28;01mNone\u001b[39;00m \u001b[38;5;28;01melse\u001b[39;00m _v\n",
      "File \u001b[1;32m~\\anaconda3\\envs\\JupyterNotebook-IntWebAppEnv\\Lib\\site-packages\\plotly\\basedatatypes.py:4852\u001b[0m, in \u001b[0;36mBasePlotlyType.__setitem__\u001b[1;34m(self, prop, value)\u001b[0m\n\u001b[0;32m   4850\u001b[0m \u001b[38;5;66;03m# ### Handle compound property ###\u001b[39;00m\n\u001b[0;32m   4851\u001b[0m \u001b[38;5;28;01mif\u001b[39;00m \u001b[38;5;28misinstance\u001b[39m(validator, CompoundValidator):\n\u001b[1;32m-> 4852\u001b[0m     \u001b[38;5;28mself\u001b[39m\u001b[38;5;241m.\u001b[39m_set_compound_prop(prop, value)\n\u001b[0;32m   4854\u001b[0m \u001b[38;5;66;03m# ### Handle compound array property ###\u001b[39;00m\n\u001b[0;32m   4855\u001b[0m \u001b[38;5;28;01melif\u001b[39;00m \u001b[38;5;28misinstance\u001b[39m(validator, (CompoundArrayValidator, BaseDataValidator)):\n",
      "File \u001b[1;32m~\\anaconda3\\envs\\JupyterNotebook-IntWebAppEnv\\Lib\\site-packages\\plotly\\basedatatypes.py:5263\u001b[0m, in \u001b[0;36mBasePlotlyType._set_compound_prop\u001b[1;34m(self, prop, val)\u001b[0m\n\u001b[0;32m   5260\u001b[0m \u001b[38;5;66;03m# Import value\u001b[39;00m\n\u001b[0;32m   5261\u001b[0m \u001b[38;5;66;03m# ------------\u001b[39;00m\n\u001b[0;32m   5262\u001b[0m validator \u001b[38;5;241m=\u001b[39m \u001b[38;5;28mself\u001b[39m\u001b[38;5;241m.\u001b[39m_get_validator(prop)\n\u001b[1;32m-> 5263\u001b[0m val \u001b[38;5;241m=\u001b[39m validator\u001b[38;5;241m.\u001b[39mvalidate_coerce(val, skip_invalid\u001b[38;5;241m=\u001b[39m\u001b[38;5;28mself\u001b[39m\u001b[38;5;241m.\u001b[39m_skip_invalid)\n\u001b[0;32m   5265\u001b[0m \u001b[38;5;66;03m# Save deep copies of current and new states\u001b[39;00m\n\u001b[0;32m   5266\u001b[0m \u001b[38;5;66;03m# ------------------------------------------\u001b[39;00m\n\u001b[0;32m   5267\u001b[0m curr_val \u001b[38;5;241m=\u001b[39m \u001b[38;5;28mself\u001b[39m\u001b[38;5;241m.\u001b[39m_compound_props\u001b[38;5;241m.\u001b[39mget(prop, \u001b[38;5;28;01mNone\u001b[39;00m)\n",
      "File \u001b[1;32m~\\anaconda3\\envs\\JupyterNotebook-IntWebAppEnv\\Lib\\site-packages\\_plotly_utils\\basevalidators.py:2504\u001b[0m, in \u001b[0;36mCompoundValidator.validate_coerce\u001b[1;34m(self, v, skip_invalid, _validate)\u001b[0m\n\u001b[0;32m   2501\u001b[0m     v \u001b[38;5;241m=\u001b[39m \u001b[38;5;28mself\u001b[39m\u001b[38;5;241m.\u001b[39mdata_class()\n\u001b[0;32m   2503\u001b[0m \u001b[38;5;28;01melif\u001b[39;00m \u001b[38;5;28misinstance\u001b[39m(v, \u001b[38;5;28mdict\u001b[39m):\n\u001b[1;32m-> 2504\u001b[0m     v \u001b[38;5;241m=\u001b[39m \u001b[38;5;28mself\u001b[39m\u001b[38;5;241m.\u001b[39mdata_class(v, skip_invalid\u001b[38;5;241m=\u001b[39mskip_invalid, _validate\u001b[38;5;241m=\u001b[39m_validate)\n\u001b[0;32m   2506\u001b[0m \u001b[38;5;28;01melif\u001b[39;00m \u001b[38;5;28misinstance\u001b[39m(v, \u001b[38;5;28mself\u001b[39m\u001b[38;5;241m.\u001b[39mdata_class):\n\u001b[0;32m   2507\u001b[0m     \u001b[38;5;66;03m# Copy object\u001b[39;00m\n\u001b[0;32m   2508\u001b[0m     v \u001b[38;5;241m=\u001b[39m \u001b[38;5;28mself\u001b[39m\u001b[38;5;241m.\u001b[39mdata_class(v)\n",
      "File \u001b[1;32m~\\anaconda3\\envs\\JupyterNotebook-IntWebAppEnv\\Lib\\site-packages\\plotly\\graph_objs\\scatter\\_line.py:374\u001b[0m, in \u001b[0;36mLine.__init__\u001b[1;34m(self, arg, backoff, backoffsrc, color, dash, shape, simplify, smoothing, width, **kwargs)\u001b[0m\n\u001b[0;32m    372\u001b[0m _v \u001b[38;5;241m=\u001b[39m color \u001b[38;5;28;01mif\u001b[39;00m color \u001b[38;5;129;01mis\u001b[39;00m \u001b[38;5;129;01mnot\u001b[39;00m \u001b[38;5;28;01mNone\u001b[39;00m \u001b[38;5;28;01melse\u001b[39;00m _v\n\u001b[0;32m    373\u001b[0m \u001b[38;5;28;01mif\u001b[39;00m _v \u001b[38;5;129;01mis\u001b[39;00m \u001b[38;5;129;01mnot\u001b[39;00m \u001b[38;5;28;01mNone\u001b[39;00m:\n\u001b[1;32m--> 374\u001b[0m     \u001b[38;5;28mself\u001b[39m[\u001b[38;5;124m\"\u001b[39m\u001b[38;5;124mcolor\u001b[39m\u001b[38;5;124m\"\u001b[39m] \u001b[38;5;241m=\u001b[39m _v\n\u001b[0;32m    375\u001b[0m _v \u001b[38;5;241m=\u001b[39m arg\u001b[38;5;241m.\u001b[39mpop(\u001b[38;5;124m\"\u001b[39m\u001b[38;5;124mdash\u001b[39m\u001b[38;5;124m\"\u001b[39m, \u001b[38;5;28;01mNone\u001b[39;00m)\n\u001b[0;32m    376\u001b[0m _v \u001b[38;5;241m=\u001b[39m dash \u001b[38;5;28;01mif\u001b[39;00m dash \u001b[38;5;129;01mis\u001b[39;00m \u001b[38;5;129;01mnot\u001b[39;00m \u001b[38;5;28;01mNone\u001b[39;00m \u001b[38;5;28;01melse\u001b[39;00m _v\n",
      "File \u001b[1;32m~\\anaconda3\\envs\\JupyterNotebook-IntWebAppEnv\\Lib\\site-packages\\plotly\\basedatatypes.py:4860\u001b[0m, in \u001b[0;36mBasePlotlyType.__setitem__\u001b[1;34m(self, prop, value)\u001b[0m\n\u001b[0;32m   4856\u001b[0m         \u001b[38;5;28mself\u001b[39m\u001b[38;5;241m.\u001b[39m_set_array_prop(prop, value)\n\u001b[0;32m   4858\u001b[0m     \u001b[38;5;66;03m# ### Handle simple property ###\u001b[39;00m\n\u001b[0;32m   4859\u001b[0m     \u001b[38;5;28;01melse\u001b[39;00m:\n\u001b[1;32m-> 4860\u001b[0m         \u001b[38;5;28mself\u001b[39m\u001b[38;5;241m.\u001b[39m_set_prop(prop, value)\n\u001b[0;32m   4861\u001b[0m \u001b[38;5;28;01melse\u001b[39;00m:\n\u001b[0;32m   4862\u001b[0m     \u001b[38;5;66;03m# Make sure properties dict is initialized\u001b[39;00m\n\u001b[0;32m   4863\u001b[0m     \u001b[38;5;28mself\u001b[39m\u001b[38;5;241m.\u001b[39m_init_props()\n",
      "File \u001b[1;32m~\\anaconda3\\envs\\JupyterNotebook-IntWebAppEnv\\Lib\\site-packages\\plotly\\basedatatypes.py:5204\u001b[0m, in \u001b[0;36mBasePlotlyType._set_prop\u001b[1;34m(self, prop, val)\u001b[0m\n\u001b[0;32m   5202\u001b[0m         \u001b[38;5;28;01mreturn\u001b[39;00m\n\u001b[0;32m   5203\u001b[0m     \u001b[38;5;28;01melse\u001b[39;00m:\n\u001b[1;32m-> 5204\u001b[0m         \u001b[38;5;28;01mraise\u001b[39;00m err\n\u001b[0;32m   5206\u001b[0m \u001b[38;5;66;03m# val is None\u001b[39;00m\n\u001b[0;32m   5207\u001b[0m \u001b[38;5;66;03m# -----------\u001b[39;00m\n\u001b[0;32m   5208\u001b[0m \u001b[38;5;28;01mif\u001b[39;00m val \u001b[38;5;129;01mis\u001b[39;00m \u001b[38;5;28;01mNone\u001b[39;00m:\n\u001b[0;32m   5209\u001b[0m     \u001b[38;5;66;03m# Check if we should send null update\u001b[39;00m\n",
      "File \u001b[1;32m~\\anaconda3\\envs\\JupyterNotebook-IntWebAppEnv\\Lib\\site-packages\\plotly\\basedatatypes.py:5199\u001b[0m, in \u001b[0;36mBasePlotlyType._set_prop\u001b[1;34m(self, prop, val)\u001b[0m\n\u001b[0;32m   5196\u001b[0m validator \u001b[38;5;241m=\u001b[39m \u001b[38;5;28mself\u001b[39m\u001b[38;5;241m.\u001b[39m_get_validator(prop)\n\u001b[0;32m   5198\u001b[0m \u001b[38;5;28;01mtry\u001b[39;00m:\n\u001b[1;32m-> 5199\u001b[0m     val \u001b[38;5;241m=\u001b[39m validator\u001b[38;5;241m.\u001b[39mvalidate_coerce(val)\n\u001b[0;32m   5200\u001b[0m \u001b[38;5;28;01mexcept\u001b[39;00m \u001b[38;5;167;01mValueError\u001b[39;00m \u001b[38;5;28;01mas\u001b[39;00m err:\n\u001b[0;32m   5201\u001b[0m     \u001b[38;5;28;01mif\u001b[39;00m \u001b[38;5;28mself\u001b[39m\u001b[38;5;241m.\u001b[39m_skip_invalid:\n",
      "File \u001b[1;32m~\\anaconda3\\envs\\JupyterNotebook-IntWebAppEnv\\Lib\\site-packages\\_plotly_utils\\basevalidators.py:1406\u001b[0m, in \u001b[0;36mColorValidator.validate_coerce\u001b[1;34m(self, v, should_raise)\u001b[0m\n\u001b[0;32m   1404\u001b[0m     validated_v \u001b[38;5;241m=\u001b[39m \u001b[38;5;28mself\u001b[39m\u001b[38;5;241m.\u001b[39mvc_scalar(v)\n\u001b[0;32m   1405\u001b[0m     \u001b[38;5;28;01mif\u001b[39;00m validated_v \u001b[38;5;129;01mis\u001b[39;00m \u001b[38;5;28;01mNone\u001b[39;00m \u001b[38;5;129;01mand\u001b[39;00m should_raise:\n\u001b[1;32m-> 1406\u001b[0m         \u001b[38;5;28mself\u001b[39m\u001b[38;5;241m.\u001b[39mraise_invalid_val(v)\n\u001b[0;32m   1408\u001b[0m     v \u001b[38;5;241m=\u001b[39m validated_v\n\u001b[0;32m   1410\u001b[0m \u001b[38;5;28;01mreturn\u001b[39;00m v\n",
      "File \u001b[1;32m~\\anaconda3\\envs\\JupyterNotebook-IntWebAppEnv\\Lib\\site-packages\\_plotly_utils\\basevalidators.py:299\u001b[0m, in \u001b[0;36mBaseValidator.raise_invalid_val\u001b[1;34m(self, v, inds)\u001b[0m\n\u001b[0;32m    296\u001b[0m             \u001b[38;5;28;01mfor\u001b[39;00m i \u001b[38;5;129;01min\u001b[39;00m inds:\n\u001b[0;32m    297\u001b[0m                 name \u001b[38;5;241m+\u001b[39m\u001b[38;5;241m=\u001b[39m \u001b[38;5;124m\"\u001b[39m\u001b[38;5;124m[\u001b[39m\u001b[38;5;124m\"\u001b[39m \u001b[38;5;241m+\u001b[39m \u001b[38;5;28mstr\u001b[39m(i) \u001b[38;5;241m+\u001b[39m \u001b[38;5;124m\"\u001b[39m\u001b[38;5;124m]\u001b[39m\u001b[38;5;124m\"\u001b[39m\n\u001b[1;32m--> 299\u001b[0m         \u001b[38;5;28;01mraise\u001b[39;00m \u001b[38;5;167;01mValueError\u001b[39;00m(\n\u001b[0;32m    300\u001b[0m \u001b[38;5;250m            \u001b[39m\u001b[38;5;124;03m\"\"\"\u001b[39;00m\n\u001b[0;32m    301\u001b[0m \u001b[38;5;124;03m    Invalid value of type {typ} received for the '{name}' property of {pname}\u001b[39;00m\n\u001b[0;32m    302\u001b[0m \u001b[38;5;124;03m        Received value: {v}\u001b[39;00m\n\u001b[0;32m    303\u001b[0m \n\u001b[0;32m    304\u001b[0m \u001b[38;5;124;03m{valid_clr_desc}\"\"\"\u001b[39;00m\u001b[38;5;241m.\u001b[39mformat(\n\u001b[0;32m    305\u001b[0m                 name\u001b[38;5;241m=\u001b[39mname,\n\u001b[0;32m    306\u001b[0m                 pname\u001b[38;5;241m=\u001b[39m\u001b[38;5;28mself\u001b[39m\u001b[38;5;241m.\u001b[39mparent_name,\n\u001b[0;32m    307\u001b[0m                 typ\u001b[38;5;241m=\u001b[39mtype_str(v),\n\u001b[0;32m    308\u001b[0m                 v\u001b[38;5;241m=\u001b[39m\u001b[38;5;28mrepr\u001b[39m(v),\n\u001b[0;32m    309\u001b[0m                 valid_clr_desc\u001b[38;5;241m=\u001b[39m\u001b[38;5;28mself\u001b[39m\u001b[38;5;241m.\u001b[39mdescription(),\n\u001b[0;32m    310\u001b[0m             )\n\u001b[0;32m    311\u001b[0m         )\n",
      "\u001b[1;31mValueError\u001b[0m: \n    Invalid value of type 'builtins.str' received for the 'color' property of scatter.line\n        Received value: 'rgba(255, 153, 51, np.float64(1.0))'\n\n    The 'color' property is a color and may be specified as:\n      - A hex string (e.g. '#ff0000')\n      - An rgb/rgba string (e.g. 'rgb(255,0,0)')\n      - An hsl/hsla string (e.g. 'hsl(0,100%,50%)')\n      - An hsv/hsva string (e.g. 'hsv(0,100%,100%)')\n      - A named CSS color:\n            aliceblue, antiquewhite, aqua, aquamarine, azure,\n            beige, bisque, black, blanchedalmond, blue,\n            blueviolet, brown, burlywood, cadetblue,\n            chartreuse, chocolate, coral, cornflowerblue,\n            cornsilk, crimson, cyan, darkblue, darkcyan,\n            darkgoldenrod, darkgray, darkgrey, darkgreen,\n            darkkhaki, darkmagenta, darkolivegreen, darkorange,\n            darkorchid, darkred, darksalmon, darkseagreen,\n            darkslateblue, darkslategray, darkslategrey,\n            darkturquoise, darkviolet, deeppink, deepskyblue,\n            dimgray, dimgrey, dodgerblue, firebrick,\n            floralwhite, forestgreen, fuchsia, gainsboro,\n            ghostwhite, gold, goldenrod, gray, grey, green,\n            greenyellow, honeydew, hotpink, indianred, indigo,\n            ivory, khaki, lavender, lavenderblush, lawngreen,\n            lemonchiffon, lightblue, lightcoral, lightcyan,\n            lightgoldenrodyellow, lightgray, lightgrey,\n            lightgreen, lightpink, lightsalmon, lightseagreen,\n            lightskyblue, lightslategray, lightslategrey,\n            lightsteelblue, lightyellow, lime, limegreen,\n            linen, magenta, maroon, mediumaquamarine,\n            mediumblue, mediumorchid, mediumpurple,\n            mediumseagreen, mediumslateblue, mediumspringgreen,\n            mediumturquoise, mediumvioletred, midnightblue,\n            mintcream, mistyrose, moccasin, navajowhite, navy,\n            oldlace, olive, olivedrab, orange, orangered,\n            orchid, palegoldenrod, palegreen, paleturquoise,\n            palevioletred, papayawhip, peachpuff, peru, pink,\n            plum, powderblue, purple, red, rosybrown,\n            royalblue, rebeccapurple, saddlebrown, salmon,\n            sandybrown, seagreen, seashell, sienna, silver,\n            skyblue, slateblue, slategray, slategrey, snow,\n            springgreen, steelblue, tan, teal, thistle, tomato,\n            turquoise, violet, wheat, white, whitesmoke,\n            yellow, yellowgreen"
     ]
    }
   ],
   "source": [
    "import pandas as pd\n",
    "import cufflinks as cf\n",
    "from plotly.offline import init_notebook_mode\n",
    "\n",
    "# Enable interactive plotting\n",
    "init_notebook_mode(connected=True)\n",
    "cf.go_offline()\n",
    "\n",
    "# Ensure the Date column is in datetime format\n",
    "df[\"Date\"] = pd.to_datetime(df[\"Date\"])\n",
    "\n",
    "# Create an interactive line chart using iplot\n",
    "df.iplot(\n",
    "    x=\"Date\",\n",
    "    y=\"Close\",  # Replace with the correct column for stock prices\n",
    "    kind=\"line\",\n",
    "    title=\"Stock Price of NIFTY 50\",\n",
    "    xTitle=\"Date\",\n",
    "    yTitle=\"Price\",\n",
    "    theme=\"solar\"\n",
    ")\n"
   ]
  },
  {
   "cell_type": "markdown",
   "id": "30649343-1f03-44f9-8a03-1bc664695f10",
   "metadata": {},
   "source": [
    "**6. Import the necessary libraries that you want to train and test the data, scale the data and Evaluate the model**"
   ]
  },
  {
   "cell_type": "code",
   "execution_count": null,
   "id": "dfa33524-b5e9-4768-9664-3f30b825f12a",
   "metadata": {},
   "outputs": [],
   "source": [
    "#Building the Regression model\n",
    "from sklearn.model_selection import train_test_split\n",
    "\n",
    "#StandardScaler will convert the column values from -1 to 1 and they will be normally distributed\n",
    "from sklearn.preprocessing import StandardScaler\n",
    "#MinMaxScaler scales the data so that it is in the range of [0, 1]\n",
    "from sklearn.preprocessing import MinMaxScaler #uniform distribution of data(0 to 1)\n",
    "\n",
    "#For the model evaluation\n",
    "from sklearn.metrics import mean_squared_error as mse\n",
    "from sklearn.metrics import r2_score"
   ]
  },
  {
   "cell_type": "code",
   "execution_count": null,
   "id": "4b04d649-a53c-4846-8ae4-88559ac29a96",
   "metadata": {},
   "outputs": [],
   "source": [
    "#Split the data to train and test\n",
    "X=np.array(df.index).reshape(-1,1)\n",
    "Y=df['Close']\n",
    "X_train,X_test,Y_train,Y_test=train_test_split(X,Y,test_size=0.3,random_state=101)"
   ]
  },
  {
   "cell_type": "markdown",
   "id": "da1ec224-213f-4915-a208-5524c70186f0",
   "metadata": {},
   "source": [
    "#### Feature Scaling with Train data"
   ]
  },
  {
   "cell_type": "code",
   "execution_count": null,
   "id": "c169007a-0353-4ddf-b1d3-5a1153a28294",
   "metadata": {},
   "outputs": [],
   "source": [
    "#Feature Scaling\n",
    "scaler=StandardScaler().fit(X_train)"
   ]
  },
  {
   "cell_type": "markdown",
   "id": "5efd7570-6e51-4069-adbf-400f201ff53f",
   "metadata": {},
   "source": [
    "**7. Create a model with Linear Regression Algorithm**"
   ]
  },
  {
   "cell_type": "code",
   "execution_count": 60,
   "id": "bf63a227-798b-4aaf-843a-bd14ea20bdd7",
   "metadata": {},
   "outputs": [
    {
     "data": {
      "text/html": [
       "<style>#sk-container-id-2 {color: black;background-color: white;}#sk-container-id-2 pre{padding: 0;}#sk-container-id-2 div.sk-toggleable {background-color: white;}#sk-container-id-2 label.sk-toggleable__label {cursor: pointer;display: block;width: 100%;margin-bottom: 0;padding: 0.3em;box-sizing: border-box;text-align: center;}#sk-container-id-2 label.sk-toggleable__label-arrow:before {content: \"▸\";float: left;margin-right: 0.25em;color: #696969;}#sk-container-id-2 label.sk-toggleable__label-arrow:hover:before {color: black;}#sk-container-id-2 div.sk-estimator:hover label.sk-toggleable__label-arrow:before {color: black;}#sk-container-id-2 div.sk-toggleable__content {max-height: 0;max-width: 0;overflow: hidden;text-align: left;background-color: #f0f8ff;}#sk-container-id-2 div.sk-toggleable__content pre {margin: 0.2em;color: black;border-radius: 0.25em;background-color: #f0f8ff;}#sk-container-id-2 input.sk-toggleable__control:checked~div.sk-toggleable__content {max-height: 200px;max-width: 100%;overflow: auto;}#sk-container-id-2 input.sk-toggleable__control:checked~label.sk-toggleable__label-arrow:before {content: \"▾\";}#sk-container-id-2 div.sk-estimator input.sk-toggleable__control:checked~label.sk-toggleable__label {background-color: #d4ebff;}#sk-container-id-2 div.sk-label input.sk-toggleable__control:checked~label.sk-toggleable__label {background-color: #d4ebff;}#sk-container-id-2 input.sk-hidden--visually {border: 0;clip: rect(1px 1px 1px 1px);clip: rect(1px, 1px, 1px, 1px);height: 1px;margin: -1px;overflow: hidden;padding: 0;position: absolute;width: 1px;}#sk-container-id-2 div.sk-estimator {font-family: monospace;background-color: #f0f8ff;border: 1px dotted black;border-radius: 0.25em;box-sizing: border-box;margin-bottom: 0.5em;}#sk-container-id-2 div.sk-estimator:hover {background-color: #d4ebff;}#sk-container-id-2 div.sk-parallel-item::after {content: \"\";width: 100%;border-bottom: 1px solid gray;flex-grow: 1;}#sk-container-id-2 div.sk-label:hover label.sk-toggleable__label {background-color: #d4ebff;}#sk-container-id-2 div.sk-serial::before {content: \"\";position: absolute;border-left: 1px solid gray;box-sizing: border-box;top: 0;bottom: 0;left: 50%;z-index: 0;}#sk-container-id-2 div.sk-serial {display: flex;flex-direction: column;align-items: center;background-color: white;padding-right: 0.2em;padding-left: 0.2em;position: relative;}#sk-container-id-2 div.sk-item {position: relative;z-index: 1;}#sk-container-id-2 div.sk-parallel {display: flex;align-items: stretch;justify-content: center;background-color: white;position: relative;}#sk-container-id-2 div.sk-item::before, #sk-container-id-2 div.sk-parallel-item::before {content: \"\";position: absolute;border-left: 1px solid gray;box-sizing: border-box;top: 0;bottom: 0;left: 50%;z-index: -1;}#sk-container-id-2 div.sk-parallel-item {display: flex;flex-direction: column;z-index: 1;position: relative;background-color: white;}#sk-container-id-2 div.sk-parallel-item:first-child::after {align-self: flex-end;width: 50%;}#sk-container-id-2 div.sk-parallel-item:last-child::after {align-self: flex-start;width: 50%;}#sk-container-id-2 div.sk-parallel-item:only-child::after {width: 0;}#sk-container-id-2 div.sk-dashed-wrapped {border: 1px dashed gray;margin: 0 0.4em 0.5em 0.4em;box-sizing: border-box;padding-bottom: 0.4em;background-color: white;}#sk-container-id-2 div.sk-label label {font-family: monospace;font-weight: bold;display: inline-block;line-height: 1.2em;}#sk-container-id-2 div.sk-label-container {text-align: center;}#sk-container-id-2 div.sk-container {/* jupyter's `normalize.less` sets `[hidden] { display: none; }` but bootstrap.min.css set `[hidden] { display: none !important; }` so we also need the `!important` here to be able to override the default hidden behavior on the sphinx rendered scikit-learn.org. See: https://github.com/scikit-learn/scikit-learn/issues/21755 */display: inline-block !important;position: relative;}#sk-container-id-2 div.sk-text-repr-fallback {display: none;}</style><div id=\"sk-container-id-2\" class=\"sk-top-container\"><div class=\"sk-text-repr-fallback\"><pre>LinearRegression()</pre><b>In a Jupyter environment, please rerun this cell to show the HTML representation or trust the notebook. <br />On GitHub, the HTML representation is unable to render, please try loading this page with nbviewer.org.</b></div><div class=\"sk-container\" hidden><div class=\"sk-item\"><div class=\"sk-estimator sk-toggleable\"><input class=\"sk-toggleable__control sk-hidden--visually\" id=\"sk-estimator-id-2\" type=\"checkbox\" checked><label for=\"sk-estimator-id-2\" class=\"sk-toggleable__label sk-toggleable__label-arrow\">LinearRegression</label><div class=\"sk-toggleable__content\"><pre>LinearRegression()</pre></div></div></div></div></div>"
      ],
      "text/plain": [
       "LinearRegression()"
      ]
     },
     "execution_count": 60,
     "metadata": {},
     "output_type": "execute_result"
    }
   ],
   "source": [
    "from sklearn.linear_model import LinearRegression\n",
    "#Creating a linear model\n",
    "lm=LinearRegression()\n",
    "lm.fit(X_train,Y_train)"
   ]
  },
  {
   "cell_type": "code",
   "execution_count": 61,
   "id": "9e2c0c55-e033-43dd-910f-1fbbc8532586",
   "metadata": {},
   "outputs": [
    {
     "name": "stderr",
     "output_type": "stream",
     "text": [
      "C:\\Users\\Keert\\anaconda3\\Lib\\site-packages\\_plotly_utils\\basevalidators.py:106: FutureWarning:\n",
      "\n",
      "The behavior of DatetimeProperties.to_pydatetime is deprecated, in a future version this will return a Series containing python datetime objects instead of an ndarray. To retain the old behavior, call `np.array` on the result\n",
      "\n"
     ]
    },
    {
     "data": {
      "application/vnd.plotly.v1+json": {
       "config": {
        "linkText": "Export to plot.ly",
        "plotlyServerURL": "https://plot.ly",
        "showLink": false
       },
       "data": [
        {
         "type": "scatter",
         "x": [
          "2024-03-12T00:00:00",
          "2024-03-13T00:00:00",
          "2024-03-14T00:00:00",
          "2024-03-15T00:00:00",
          "2024-03-18T00:00:00",
          "2024-03-19T00:00:00",
          "2024-03-20T00:00:00",
          "2024-03-21T00:00:00",
          "2024-03-22T00:00:00",
          "2024-03-26T00:00:00",
          "2024-03-27T00:00:00",
          "2024-03-28T00:00:00",
          "2024-04-01T00:00:00",
          "2024-04-02T00:00:00",
          "2024-04-03T00:00:00",
          "2024-04-04T00:00:00",
          "2024-04-05T00:00:00",
          "2024-04-08T00:00:00",
          "2024-04-09T00:00:00",
          "2024-04-10T00:00:00",
          "2024-04-12T00:00:00",
          "2024-04-15T00:00:00",
          "2024-04-16T00:00:00",
          "2024-04-18T00:00:00",
          "2024-04-19T00:00:00",
          "2024-04-22T00:00:00",
          "2024-04-23T00:00:00",
          "2024-04-24T00:00:00",
          "2024-04-25T00:00:00",
          "2024-04-26T00:00:00",
          "2024-04-29T00:00:00",
          "2024-04-30T00:00:00",
          "2024-05-02T00:00:00",
          "2024-05-03T00:00:00",
          "2024-05-06T00:00:00",
          "2024-05-07T00:00:00",
          "2024-05-08T00:00:00",
          "2024-05-09T00:00:00",
          "2024-05-10T00:00:00",
          "2024-05-13T00:00:00",
          "2024-05-14T00:00:00",
          "2024-05-15T00:00:00",
          "2024-05-16T00:00:00",
          "2024-05-17T00:00:00",
          "2024-05-18T00:00:00",
          "2024-05-21T00:00:00",
          "2024-05-22T00:00:00",
          "2024-05-23T00:00:00",
          "2024-05-24T00:00:00",
          "2024-05-27T00:00:00",
          "2024-05-28T00:00:00",
          "2024-05-29T00:00:00",
          "2024-05-30T00:00:00",
          "2024-05-31T00:00:00",
          "2024-06-03T00:00:00",
          "2024-06-04T00:00:00",
          "2024-06-05T00:00:00",
          "2024-06-06T00:00:00",
          "2024-06-07T00:00:00",
          "2024-06-10T00:00:00",
          "2024-06-11T00:00:00",
          "2024-06-12T00:00:00",
          "2024-06-13T00:00:00",
          "2024-06-14T00:00:00",
          "2024-06-18T00:00:00",
          "2024-06-19T00:00:00",
          "2024-06-20T00:00:00",
          "2024-06-21T00:00:00",
          "2024-06-24T00:00:00",
          "2024-06-25T00:00:00",
          "2024-06-26T00:00:00",
          "2024-06-27T00:00:00",
          "2024-06-28T00:00:00",
          "2024-07-01T00:00:00",
          "2024-07-02T00:00:00",
          "2024-07-03T00:00:00",
          "2024-07-04T00:00:00",
          "2024-07-05T00:00:00",
          "2024-07-08T00:00:00",
          "2024-07-09T00:00:00",
          "2024-07-10T00:00:00",
          "2024-07-11T00:00:00",
          "2024-07-12T00:00:00",
          "2024-07-15T00:00:00",
          "2024-07-16T00:00:00",
          "2024-07-18T00:00:00",
          "2024-07-19T00:00:00",
          "2024-07-22T00:00:00",
          "2024-07-23T00:00:00",
          "2024-07-24T00:00:00",
          "2024-07-25T00:00:00",
          "2024-07-26T00:00:00",
          "2024-07-29T00:00:00",
          "2024-07-30T00:00:00",
          "2024-07-31T00:00:00",
          "2024-08-01T00:00:00",
          "2024-08-02T00:00:00",
          "2024-08-05T00:00:00",
          "2024-08-06T00:00:00",
          "2024-08-07T00:00:00",
          "2024-08-08T00:00:00",
          "2024-08-09T00:00:00",
          "2024-08-12T00:00:00",
          "2024-08-13T00:00:00",
          "2024-08-14T00:00:00",
          "2024-08-16T00:00:00",
          "2024-08-19T00:00:00",
          "2024-08-20T00:00:00",
          "2024-08-21T00:00:00",
          "2024-08-22T00:00:00",
          "2024-08-23T00:00:00",
          "2024-08-26T00:00:00",
          "2024-08-27T00:00:00",
          "2024-08-28T00:00:00",
          "2024-08-29T00:00:00",
          "2024-08-30T00:00:00",
          "2024-09-02T00:00:00",
          "2024-09-03T00:00:00",
          "2024-09-04T00:00:00",
          "2024-09-05T00:00:00",
          "2024-09-06T00:00:00",
          "2024-09-09T00:00:00",
          "2024-09-10T00:00:00",
          "2024-09-11T00:00:00",
          "2024-09-12T00:00:00",
          "2024-09-13T00:00:00",
          "2024-09-16T00:00:00",
          "2024-09-17T00:00:00",
          "2024-09-18T00:00:00",
          "2024-09-19T00:00:00",
          "2024-09-20T00:00:00",
          "2024-09-23T00:00:00",
          "2024-09-24T00:00:00",
          "2024-09-25T00:00:00",
          "2024-09-26T00:00:00",
          "2024-09-27T00:00:00",
          "2024-09-30T00:00:00",
          "2024-10-01T00:00:00",
          "2024-10-03T00:00:00",
          "2024-10-04T00:00:00",
          "2024-10-07T00:00:00",
          "2024-10-08T00:00:00",
          "2024-10-09T00:00:00",
          "2024-10-10T00:00:00",
          "2024-10-11T00:00:00",
          "2024-10-14T00:00:00",
          "2024-10-15T00:00:00",
          "2024-10-16T00:00:00",
          "2024-10-17T00:00:00",
          "2024-10-18T00:00:00",
          "2024-10-21T00:00:00",
          "2024-10-22T00:00:00",
          "2024-10-23T00:00:00",
          "2024-10-24T00:00:00",
          "2024-10-25T00:00:00",
          "2024-10-28T00:00:00",
          "2024-10-29T00:00:00",
          "2024-10-30T00:00:00",
          "2024-10-31T00:00:00",
          "2024-11-01T00:00:00",
          "2024-11-04T00:00:00",
          "2024-11-05T00:00:00",
          "2024-11-06T00:00:00",
          "2024-11-07T00:00:00",
          "2024-11-08T00:00:00",
          "2024-11-11T00:00:00",
          "2024-11-12T00:00:00",
          "2024-11-13T00:00:00",
          "2024-11-14T00:00:00",
          "2024-11-18T00:00:00",
          "2024-11-19T00:00:00",
          "2024-11-21T00:00:00",
          "2024-11-22T00:00:00",
          "2024-11-25T00:00:00",
          "2024-11-26T00:00:00",
          "2024-11-27T00:00:00",
          "2024-11-28T00:00:00",
          "2024-11-29T00:00:00",
          "2024-12-02T00:00:00",
          "2024-12-03T00:00:00",
          "2024-12-04T00:00:00",
          "2024-12-05T00:00:00",
          "2024-12-06T00:00:00",
          "2024-12-09T00:00:00",
          "2024-12-10T00:00:00",
          "2024-12-11T00:00:00",
          "2024-12-12T00:00:00",
          "2024-12-13T00:00:00",
          "2024-12-16T00:00:00",
          "2024-12-17T00:00:00",
          "2024-12-18T00:00:00",
          "2024-12-19T00:00:00",
          "2024-12-20T00:00:00",
          "2024-12-23T00:00:00",
          "2024-12-24T00:00:00",
          "2024-12-26T00:00:00",
          "2024-12-27T00:00:00",
          "2024-12-30T00:00:00",
          "2024-12-31T00:00:00",
          "2025-01-01T00:00:00",
          "2025-01-02T00:00:00",
          "2025-01-03T00:00:00",
          "2025-01-06T00:00:00",
          "2025-01-07T00:00:00",
          "2025-01-08T00:00:00",
          "2025-01-09T00:00:00",
          "2025-01-10T00:00:00",
          "2025-01-13T00:00:00",
          "2025-01-14T00:00:00",
          "2025-01-15T00:00:00",
          "2025-01-16T00:00:00",
          "2025-01-17T00:00:00",
          "2025-01-20T00:00:00",
          "2025-01-21T00:00:00",
          "2025-01-22T00:00:00",
          "2025-01-23T00:00:00",
          "2025-01-24T00:00:00",
          "2025-01-27T00:00:00",
          "2025-01-28T00:00:00",
          "2025-01-29T00:00:00",
          "2025-01-30T00:00:00",
          "2025-01-31T00:00:00",
          "2025-02-01T00:00:00",
          "2025-02-03T00:00:00",
          "2025-02-04T00:00:00",
          "2025-02-05T00:00:00",
          "2025-02-06T00:00:00",
          "2025-02-07T00:00:00",
          "2025-02-10T00:00:00",
          "2025-02-11T00:00:00",
          "2025-02-12T00:00:00",
          "2025-02-13T00:00:00",
          "2025-02-14T00:00:00",
          "2025-02-17T00:00:00",
          "2025-02-18T00:00:00",
          "2025-02-19T00:00:00",
          "2025-02-20T00:00:00",
          "2025-02-21T00:00:00",
          "2025-02-24T00:00:00",
          "2025-02-25T00:00:00",
          "2025-02-27T00:00:00",
          "2025-02-28T00:00:00",
          "2025-03-03T00:00:00",
          "2025-03-04T00:00:00",
          "2025-03-05T00:00:00",
          "2025-03-06T00:00:00",
          "2025-03-07T00:00:00",
          "2025-03-10T00:00:00",
          "2025-03-11T00:00:00"
         ],
         "y": [
          22335.7,
          21997.7,
          22146.65,
          22023.35,
          22055.7,
          21817.45,
          21839.1,
          22011.95,
          22096.75,
          22004.7,
          22123.65,
          22326.9,
          22462,
          22453.3,
          22434.65,
          22514.65,
          22513.7,
          22666.3,
          22642.75,
          22753.8,
          22519.4,
          22272.5,
          22147.9,
          21995.85,
          22147,
          22336.4,
          22368,
          22402.4,
          22570.35,
          22419.95,
          22643.4,
          22604.85,
          22648.2,
          22475.85,
          22442.7,
          22302.5,
          22302.5,
          21957.5,
          22055.2,
          22104.05,
          22217.85,
          22200.55,
          22403.85,
          22466.1,
          22502,
          22529.05,
          22597.8,
          22967.65,
          22957.1,
          22932.45,
          22888.15,
          22704.7,
          22488.65,
          22530.7,
          23263.9,
          21884.5,
          22620.35,
          22821.4,
          23290.15,
          23259.2,
          23264.85,
          23322.95,
          23398.9,
          23465.6,
          23557.9,
          23516,
          23567,
          23501.1,
          23537.85,
          23721.3,
          23868.8,
          24044.5,
          24010.6,
          24141.95,
          24123.85,
          24286.5,
          24302.15,
          24323.85,
          24320.55,
          24433.2,
          24324.45,
          24315.95,
          24502.15,
          24586.7,
          24613,
          24800.85,
          24530.9,
          24509.25,
          24479.05,
          24413.5,
          24406.1,
          24834.85,
          24836.1,
          24857.3,
          24951.15,
          25010.9,
          24717.7,
          24055.6,
          23992.55,
          24297.5,
          24117,
          24367.5,
          24347,
          24139,
          24143.75,
          24541.15,
          24572.65,
          24698.85,
          24770.2,
          24811.5,
          24823.15,
          25010.6,
          25017.75,
          25052.35,
          25151.95,
          25235.9,
          25278.7,
          25279.85,
          25198.7,
          25145.1,
          24852.15,
          24936.4,
          25041.1,
          24918.45,
          25388.9,
          25356.5,
          25383.75,
          25418.55,
          25377.55,
          25415.8,
          25790.95,
          25939.05,
          25940.4,
          26004.15,
          26216.05,
          26178.95,
          25810.85,
          25796.9,
          25250.1,
          25014.6,
          24795.75,
          25013.15,
          24981.95,
          24998.45,
          24964.25,
          25127.95,
          25057.35,
          24971.3,
          24749.85,
          24854.05,
          24781.1,
          24472.1,
          24435.5,
          24399.4,
          24180.8,
          24339.15,
          24466.85,
          24340.85,
          24205.35,
          24304.35,
          23995.35,
          24213.3,
          24484.05,
          24199.35,
          24148.2,
          24141.3,
          23883.45,
          23559.05,
          23532.7,
          23453.8,
          23518.5,
          23349.9,
          23907.25,
          24221.9,
          24194.5,
          24274.9,
          23914.15,
          24131.1,
          24276.05,
          24457.15,
          24467.45,
          24708.4,
          24677.8,
          24619,
          24610.05,
          24641.8,
          24548.7,
          24768.3,
          24668.25,
          24336,
          24198.85,
          23951.7,
          23587.5,
          23753.45,
          23727.65,
          23750.2,
          23813.4,
          23644.9,
          23644.8,
          23742.9,
          24188.65,
          24004.75,
          23616.05,
          23707.9,
          23688.95,
          23526.5,
          23431.5,
          23085.95,
          23176.05,
          23213.2,
          23311.8,
          23203.2,
          23344.75,
          23024.65,
          23155.35,
          23205.35,
          23092.2,
          22829.15,
          22957.25,
          23163.1,
          23249.5,
          23508.4,
          23482.15,
          23361.05,
          23739.25,
          23696.3,
          23603.35,
          23559.95,
          23381.6,
          23071.8,
          23045.25,
          23031.4,
          22929.25,
          22959.5,
          22945.3,
          22932.9,
          22913.15,
          22795.9,
          22553.35,
          22547.55,
          22545.05,
          22124.7,
          22119.3,
          22082.65,
          22337.3,
          22544.7,
          22552.5,
          22460.3,
          22497.9
         ]
        }
       ],
       "layout": {
        "autosize": true,
        "template": {
         "data": {
          "bar": [
           {
            "error_x": {
             "color": "#2a3f5f"
            },
            "error_y": {
             "color": "#2a3f5f"
            },
            "marker": {
             "line": {
              "color": "#E5ECF6",
              "width": 0.5
             },
             "pattern": {
              "fillmode": "overlay",
              "size": 10,
              "solidity": 0.2
             }
            },
            "type": "bar"
           }
          ],
          "barpolar": [
           {
            "marker": {
             "line": {
              "color": "#E5ECF6",
              "width": 0.5
             },
             "pattern": {
              "fillmode": "overlay",
              "size": 10,
              "solidity": 0.2
             }
            },
            "type": "barpolar"
           }
          ],
          "carpet": [
           {
            "aaxis": {
             "endlinecolor": "#2a3f5f",
             "gridcolor": "white",
             "linecolor": "white",
             "minorgridcolor": "white",
             "startlinecolor": "#2a3f5f"
            },
            "baxis": {
             "endlinecolor": "#2a3f5f",
             "gridcolor": "white",
             "linecolor": "white",
             "minorgridcolor": "white",
             "startlinecolor": "#2a3f5f"
            },
            "type": "carpet"
           }
          ],
          "choropleth": [
           {
            "colorbar": {
             "outlinewidth": 0,
             "ticks": ""
            },
            "type": "choropleth"
           }
          ],
          "contour": [
           {
            "colorbar": {
             "outlinewidth": 0,
             "ticks": ""
            },
            "colorscale": [
             [
              0,
              "#0d0887"
             ],
             [
              0.1111111111111111,
              "#46039f"
             ],
             [
              0.2222222222222222,
              "#7201a8"
             ],
             [
              0.3333333333333333,
              "#9c179e"
             ],
             [
              0.4444444444444444,
              "#bd3786"
             ],
             [
              0.5555555555555556,
              "#d8576b"
             ],
             [
              0.6666666666666666,
              "#ed7953"
             ],
             [
              0.7777777777777778,
              "#fb9f3a"
             ],
             [
              0.8888888888888888,
              "#fdca26"
             ],
             [
              1,
              "#f0f921"
             ]
            ],
            "type": "contour"
           }
          ],
          "contourcarpet": [
           {
            "colorbar": {
             "outlinewidth": 0,
             "ticks": ""
            },
            "type": "contourcarpet"
           }
          ],
          "heatmap": [
           {
            "colorbar": {
             "outlinewidth": 0,
             "ticks": ""
            },
            "colorscale": [
             [
              0,
              "#0d0887"
             ],
             [
              0.1111111111111111,
              "#46039f"
             ],
             [
              0.2222222222222222,
              "#7201a8"
             ],
             [
              0.3333333333333333,
              "#9c179e"
             ],
             [
              0.4444444444444444,
              "#bd3786"
             ],
             [
              0.5555555555555556,
              "#d8576b"
             ],
             [
              0.6666666666666666,
              "#ed7953"
             ],
             [
              0.7777777777777778,
              "#fb9f3a"
             ],
             [
              0.8888888888888888,
              "#fdca26"
             ],
             [
              1,
              "#f0f921"
             ]
            ],
            "type": "heatmap"
           }
          ],
          "heatmapgl": [
           {
            "colorbar": {
             "outlinewidth": 0,
             "ticks": ""
            },
            "colorscale": [
             [
              0,
              "#0d0887"
             ],
             [
              0.1111111111111111,
              "#46039f"
             ],
             [
              0.2222222222222222,
              "#7201a8"
             ],
             [
              0.3333333333333333,
              "#9c179e"
             ],
             [
              0.4444444444444444,
              "#bd3786"
             ],
             [
              0.5555555555555556,
              "#d8576b"
             ],
             [
              0.6666666666666666,
              "#ed7953"
             ],
             [
              0.7777777777777778,
              "#fb9f3a"
             ],
             [
              0.8888888888888888,
              "#fdca26"
             ],
             [
              1,
              "#f0f921"
             ]
            ],
            "type": "heatmapgl"
           }
          ],
          "histogram": [
           {
            "marker": {
             "pattern": {
              "fillmode": "overlay",
              "size": 10,
              "solidity": 0.2
             }
            },
            "type": "histogram"
           }
          ],
          "histogram2d": [
           {
            "colorbar": {
             "outlinewidth": 0,
             "ticks": ""
            },
            "colorscale": [
             [
              0,
              "#0d0887"
             ],
             [
              0.1111111111111111,
              "#46039f"
             ],
             [
              0.2222222222222222,
              "#7201a8"
             ],
             [
              0.3333333333333333,
              "#9c179e"
             ],
             [
              0.4444444444444444,
              "#bd3786"
             ],
             [
              0.5555555555555556,
              "#d8576b"
             ],
             [
              0.6666666666666666,
              "#ed7953"
             ],
             [
              0.7777777777777778,
              "#fb9f3a"
             ],
             [
              0.8888888888888888,
              "#fdca26"
             ],
             [
              1,
              "#f0f921"
             ]
            ],
            "type": "histogram2d"
           }
          ],
          "histogram2dcontour": [
           {
            "colorbar": {
             "outlinewidth": 0,
             "ticks": ""
            },
            "colorscale": [
             [
              0,
              "#0d0887"
             ],
             [
              0.1111111111111111,
              "#46039f"
             ],
             [
              0.2222222222222222,
              "#7201a8"
             ],
             [
              0.3333333333333333,
              "#9c179e"
             ],
             [
              0.4444444444444444,
              "#bd3786"
             ],
             [
              0.5555555555555556,
              "#d8576b"
             ],
             [
              0.6666666666666666,
              "#ed7953"
             ],
             [
              0.7777777777777778,
              "#fb9f3a"
             ],
             [
              0.8888888888888888,
              "#fdca26"
             ],
             [
              1,
              "#f0f921"
             ]
            ],
            "type": "histogram2dcontour"
           }
          ],
          "mesh3d": [
           {
            "colorbar": {
             "outlinewidth": 0,
             "ticks": ""
            },
            "type": "mesh3d"
           }
          ],
          "parcoords": [
           {
            "line": {
             "colorbar": {
              "outlinewidth": 0,
              "ticks": ""
             }
            },
            "type": "parcoords"
           }
          ],
          "pie": [
           {
            "automargin": true,
            "type": "pie"
           }
          ],
          "scatter": [
           {
            "fillpattern": {
             "fillmode": "overlay",
             "size": 10,
             "solidity": 0.2
            },
            "type": "scatter"
           }
          ],
          "scatter3d": [
           {
            "line": {
             "colorbar": {
              "outlinewidth": 0,
              "ticks": ""
             }
            },
            "marker": {
             "colorbar": {
              "outlinewidth": 0,
              "ticks": ""
             }
            },
            "type": "scatter3d"
           }
          ],
          "scattercarpet": [
           {
            "marker": {
             "colorbar": {
              "outlinewidth": 0,
              "ticks": ""
             }
            },
            "type": "scattercarpet"
           }
          ],
          "scattergeo": [
           {
            "marker": {
             "colorbar": {
              "outlinewidth": 0,
              "ticks": ""
             }
            },
            "type": "scattergeo"
           }
          ],
          "scattergl": [
           {
            "marker": {
             "colorbar": {
              "outlinewidth": 0,
              "ticks": ""
             }
            },
            "type": "scattergl"
           }
          ],
          "scattermapbox": [
           {
            "marker": {
             "colorbar": {
              "outlinewidth": 0,
              "ticks": ""
             }
            },
            "type": "scattermapbox"
           }
          ],
          "scatterpolar": [
           {
            "marker": {
             "colorbar": {
              "outlinewidth": 0,
              "ticks": ""
             }
            },
            "type": "scatterpolar"
           }
          ],
          "scatterpolargl": [
           {
            "marker": {
             "colorbar": {
              "outlinewidth": 0,
              "ticks": ""
             }
            },
            "type": "scatterpolargl"
           }
          ],
          "scatterternary": [
           {
            "marker": {
             "colorbar": {
              "outlinewidth": 0,
              "ticks": ""
             }
            },
            "type": "scatterternary"
           }
          ],
          "surface": [
           {
            "colorbar": {
             "outlinewidth": 0,
             "ticks": ""
            },
            "colorscale": [
             [
              0,
              "#0d0887"
             ],
             [
              0.1111111111111111,
              "#46039f"
             ],
             [
              0.2222222222222222,
              "#7201a8"
             ],
             [
              0.3333333333333333,
              "#9c179e"
             ],
             [
              0.4444444444444444,
              "#bd3786"
             ],
             [
              0.5555555555555556,
              "#d8576b"
             ],
             [
              0.6666666666666666,
              "#ed7953"
             ],
             [
              0.7777777777777778,
              "#fb9f3a"
             ],
             [
              0.8888888888888888,
              "#fdca26"
             ],
             [
              1,
              "#f0f921"
             ]
            ],
            "type": "surface"
           }
          ],
          "table": [
           {
            "cells": {
             "fill": {
              "color": "#EBF0F8"
             },
             "line": {
              "color": "white"
             }
            },
            "header": {
             "fill": {
              "color": "#C8D4E3"
             },
             "line": {
              "color": "white"
             }
            },
            "type": "table"
           }
          ]
         },
         "layout": {
          "annotationdefaults": {
           "arrowcolor": "#2a3f5f",
           "arrowhead": 0,
           "arrowwidth": 1
          },
          "autotypenumbers": "strict",
          "coloraxis": {
           "colorbar": {
            "outlinewidth": 0,
            "ticks": ""
           }
          },
          "colorscale": {
           "diverging": [
            [
             0,
             "#8e0152"
            ],
            [
             0.1,
             "#c51b7d"
            ],
            [
             0.2,
             "#de77ae"
            ],
            [
             0.3,
             "#f1b6da"
            ],
            [
             0.4,
             "#fde0ef"
            ],
            [
             0.5,
             "#f7f7f7"
            ],
            [
             0.6,
             "#e6f5d0"
            ],
            [
             0.7,
             "#b8e186"
            ],
            [
             0.8,
             "#7fbc41"
            ],
            [
             0.9,
             "#4d9221"
            ],
            [
             1,
             "#276419"
            ]
           ],
           "sequential": [
            [
             0,
             "#0d0887"
            ],
            [
             0.1111111111111111,
             "#46039f"
            ],
            [
             0.2222222222222222,
             "#7201a8"
            ],
            [
             0.3333333333333333,
             "#9c179e"
            ],
            [
             0.4444444444444444,
             "#bd3786"
            ],
            [
             0.5555555555555556,
             "#d8576b"
            ],
            [
             0.6666666666666666,
             "#ed7953"
            ],
            [
             0.7777777777777778,
             "#fb9f3a"
            ],
            [
             0.8888888888888888,
             "#fdca26"
            ],
            [
             1,
             "#f0f921"
            ]
           ],
           "sequentialminus": [
            [
             0,
             "#0d0887"
            ],
            [
             0.1111111111111111,
             "#46039f"
            ],
            [
             0.2222222222222222,
             "#7201a8"
            ],
            [
             0.3333333333333333,
             "#9c179e"
            ],
            [
             0.4444444444444444,
             "#bd3786"
            ],
            [
             0.5555555555555556,
             "#d8576b"
            ],
            [
             0.6666666666666666,
             "#ed7953"
            ],
            [
             0.7777777777777778,
             "#fb9f3a"
            ],
            [
             0.8888888888888888,
             "#fdca26"
            ],
            [
             1,
             "#f0f921"
            ]
           ]
          },
          "colorway": [
           "#636efa",
           "#EF553B",
           "#00cc96",
           "#ab63fa",
           "#FFA15A",
           "#19d3f3",
           "#FF6692",
           "#B6E880",
           "#FF97FF",
           "#FECB52"
          ],
          "font": {
           "color": "#2a3f5f"
          },
          "geo": {
           "bgcolor": "white",
           "lakecolor": "white",
           "landcolor": "#E5ECF6",
           "showlakes": true,
           "showland": true,
           "subunitcolor": "white"
          },
          "hoverlabel": {
           "align": "left"
          },
          "hovermode": "closest",
          "mapbox": {
           "style": "light"
          },
          "paper_bgcolor": "white",
          "plot_bgcolor": "#E5ECF6",
          "polar": {
           "angularaxis": {
            "gridcolor": "white",
            "linecolor": "white",
            "ticks": ""
           },
           "bgcolor": "#E5ECF6",
           "radialaxis": {
            "gridcolor": "white",
            "linecolor": "white",
            "ticks": ""
           }
          },
          "scene": {
           "xaxis": {
            "backgroundcolor": "#E5ECF6",
            "gridcolor": "white",
            "gridwidth": 2,
            "linecolor": "white",
            "showbackground": true,
            "ticks": "",
            "zerolinecolor": "white"
           },
           "yaxis": {
            "backgroundcolor": "#E5ECF6",
            "gridcolor": "white",
            "gridwidth": 2,
            "linecolor": "white",
            "showbackground": true,
            "ticks": "",
            "zerolinecolor": "white"
           },
           "zaxis": {
            "backgroundcolor": "#E5ECF6",
            "gridcolor": "white",
            "gridwidth": 2,
            "linecolor": "white",
            "showbackground": true,
            "ticks": "",
            "zerolinecolor": "white"
           }
          },
          "shapedefaults": {
           "line": {
            "color": "#2a3f5f"
           }
          },
          "ternary": {
           "aaxis": {
            "gridcolor": "white",
            "linecolor": "white",
            "ticks": ""
           },
           "baxis": {
            "gridcolor": "white",
            "linecolor": "white",
            "ticks": ""
           },
           "bgcolor": "#E5ECF6",
           "caxis": {
            "gridcolor": "white",
            "linecolor": "white",
            "ticks": ""
           }
          },
          "title": {
           "x": 0.05
          },
          "xaxis": {
           "automargin": true,
           "gridcolor": "white",
           "linecolor": "white",
           "ticks": "",
           "title": {
            "standoff": 15
           },
           "zerolinecolor": "white",
           "zerolinewidth": 2
          },
          "yaxis": {
           "automargin": true,
           "gridcolor": "white",
           "linecolor": "white",
           "ticks": "",
           "title": {
            "standoff": 15
           },
           "zerolinecolor": "white",
           "zerolinewidth": 2
          }
         }
        },
        "title": {
         "text": "Stock Prices of NIFTY50"
        },
        "xaxis": {
         "autorange": true,
         "range": [
          "2024-03-12",
          "2025-03-11"
         ],
         "title": {
          "font": {
           "color": "red",
           "family": "Courier New,monospace",
           "size": 18
          },
          "text": "Date"
         },
         "type": "date"
        },
        "yaxis": {
         "autorange": true,
         "range": [
          21573.083333333336,
          26460.416666666664
         ],
         "title": {
          "font": {
           "color": "red",
           "family": "Courier New,monospace",
           "size": 18
          },
          "text": "Price"
         },
         "type": "linear"
        }
       }
      },
      "image/png": "[encoded data removed]",
      "text/html": [
       "<div>                            <div id=\"13b1bf09-6683-4b25-9715-2d87d947e5eb\" class=\"plotly-graph-div\" style=\"height:525px; width:100%;\"></div>            <script type=\"text/javascript\">                require([\"plotly\"], function(Plotly) {                    window.PLOTLYENV=window.PLOTLYENV || {};                                    if (document.getElementById(\"13b1bf09-6683-4b25-9715-2d87d947e5eb\")) {                    Plotly.newPlot(                        \"13b1bf09-6683-4b25-9715-2d87d947e5eb\",                        [{\"x\":[\"2024-03-12T00:00:00\",\"2024-03-13T00:00:00\",\"2024-03-14T00:00:00\",\"2024-03-15T00:00:00\",\"2024-03-18T00:00:00\",\"2024-03-19T00:00:00\",\"2024-03-20T00:00:00\",\"2024-03-21T00:00:00\",\"2024-03-22T00:00:00\",\"2024-03-26T00:00:00\",\"2024-03-27T00:00:00\",\"2024-03-28T00:00:00\",\"2024-04-01T00:00:00\",\"2024-04-02T00:00:00\",\"2024-04-03T00:00:00\",\"2024-04-04T00:00:00\",\"2024-04-05T00:00:00\",\"2024-04-08T00:00:00\",\"2024-04-09T00:00:00\",\"2024-04-10T00:00:00\",\"2024-04-12T00:00:00\",\"2024-04-15T00:00:00\",\"2024-04-16T00:00:00\",\"2024-04-18T00:00:00\",\"2024-04-19T00:00:00\",\"2024-04-22T00:00:00\",\"2024-04-23T00:00:00\",\"2024-04-24T00:00:00\",\"2024-04-25T00:00:00\",\"2024-04-26T00:00:00\",\"2024-04-29T00:00:00\",\"2024-04-30T00:00:00\",\"2024-05-02T00:00:00\",\"2024-05-03T00:00:00\",\"2024-05-06T00:00:00\",\"2024-05-07T00:00:00\",\"2024-05-08T00:00:00\",\"2024-05-09T00:00:00\",\"2024-05-10T00:00:00\",\"2024-05-13T00:00:00\",\"2024-05-14T00:00:00\",\"2024-05-15T00:00:00\",\"2024-05-16T00:00:00\",\"2024-05-17T00:00:00\",\"2024-05-18T00:00:00\",\"2024-05-21T00:00:00\",\"2024-05-22T00:00:00\",\"2024-05-23T00:00:00\",\"2024-05-24T00:00:00\",\"2024-05-27T00:00:00\",\"2024-05-28T00:00:00\",\"2024-05-29T00:00:00\",\"2024-05-30T00:00:00\",\"2024-05-31T00:00:00\",\"2024-06-03T00:00:00\",\"2024-06-04T00:00:00\",\"2024-06-05T00:00:00\",\"2024-06-06T00:00:00\",\"2024-06-07T00:00:00\",\"2024-06-10T00:00:00\",\"2024-06-11T00:00:00\",\"2024-06-12T00:00:00\",\"2024-06-13T00:00:00\",\"2024-06-14T00:00:00\",\"2024-06-18T00:00:00\",\"2024-06-19T00:00:00\",\"2024-06-20T00:00:00\",\"2024-06-21T00:00:00\",\"2024-06-24T00:00:00\",\"2024-06-25T00:00:00\",\"2024-06-26T00:00:00\",\"2024-06-27T00:00:00\",\"2024-06-28T00:00:00\",\"2024-07-01T00:00:00\",\"2024-07-02T00:00:00\",\"2024-07-03T00:00:00\",\"2024-07-04T00:00:00\",\"2024-07-05T00:00:00\",\"2024-07-08T00:00:00\",\"2024-07-09T00:00:00\",\"2024-07-10T00:00:00\",\"2024-07-11T00:00:00\",\"2024-07-12T00:00:00\",\"2024-07-15T00:00:00\",\"2024-07-16T00:00:00\",\"2024-07-18T00:00:00\",\"2024-07-19T00:00:00\",\"2024-07-22T00:00:00\",\"2024-07-23T00:00:00\",\"2024-07-24T00:00:00\",\"2024-07-25T00:00:00\",\"2024-07-26T00:00:00\",\"2024-07-29T00:00:00\",\"2024-07-30T00:00:00\",\"2024-07-31T00:00:00\",\"2024-08-01T00:00:00\",\"2024-08-02T00:00:00\",\"2024-08-05T00:00:00\",\"2024-08-06T00:00:00\",\"2024-08-07T00:00:00\",\"2024-08-08T00:00:00\",\"2024-08-09T00:00:00\",\"2024-08-12T00:00:00\",\"2024-08-13T00:00:00\",\"2024-08-14T00:00:00\",\"2024-08-16T00:00:00\",\"2024-08-19T00:00:00\",\"2024-08-20T00:00:00\",\"2024-08-21T00:00:00\",\"2024-08-22T00:00:00\",\"2024-08-23T00:00:00\",\"2024-08-26T00:00:00\",\"2024-08-27T00:00:00\",\"2024-08-28T00:00:00\",\"2024-08-29T00:00:00\",\"2024-08-30T00:00:00\",\"2024-09-02T00:00:00\",\"2024-09-03T00:00:00\",\"2024-09-04T00:00:00\",\"2024-09-05T00:00:00\",\"2024-09-06T00:00:00\",\"2024-09-09T00:00:00\",\"2024-09-10T00:00:00\",\"2024-09-11T00:00:00\",\"2024-09-12T00:00:00\",\"2024-09-13T00:00:00\",\"2024-09-16T00:00:00\",\"2024-09-17T00:00:00\",\"2024-09-18T00:00:00\",\"2024-09-19T00:00:00\",\"2024-09-20T00:00:00\",\"2024-09-23T00:00:00\",\"2024-09-24T00:00:00\",\"2024-09-25T00:00:00\",\"2024-09-26T00:00:00\",\"2024-09-27T00:00:00\",\"2024-09-30T00:00:00\",\"2024-10-01T00:00:00\",\"2024-10-03T00:00:00\",\"2024-10-04T00:00:00\",\"2024-10-07T00:00:00\",\"2024-10-08T00:00:00\",\"2024-10-09T00:00:00\",\"2024-10-10T00:00:00\",\"2024-10-11T00:00:00\",\"2024-10-14T00:00:00\",\"2024-10-15T00:00:00\",\"2024-10-16T00:00:00\",\"2024-10-17T00:00:00\",\"2024-10-18T00:00:00\",\"2024-10-21T00:00:00\",\"2024-10-22T00:00:00\",\"2024-10-23T00:00:00\",\"2024-10-24T00:00:00\",\"2024-10-25T00:00:00\",\"2024-10-28T00:00:00\",\"2024-10-29T00:00:00\",\"2024-10-30T00:00:00\",\"2024-10-31T00:00:00\",\"2024-11-01T00:00:00\",\"2024-11-04T00:00:00\",\"2024-11-05T00:00:00\",\"2024-11-06T00:00:00\",\"2024-11-07T00:00:00\",\"2024-11-08T00:00:00\",\"2024-11-11T00:00:00\",\"2024-11-12T00:00:00\",\"2024-11-13T00:00:00\",\"2024-11-14T00:00:00\",\"2024-11-18T00:00:00\",\"2024-11-19T00:00:00\",\"2024-11-21T00:00:00\",\"2024-11-22T00:00:00\",\"2024-11-25T00:00:00\",\"2024-11-26T00:00:00\",\"2024-11-27T00:00:00\",\"2024-11-28T00:00:00\",\"2024-11-29T00:00:00\",\"2024-12-02T00:00:00\",\"2024-12-03T00:00:00\",\"2024-12-04T00:00:00\",\"2024-12-05T00:00:00\",\"2024-12-06T00:00:00\",\"2024-12-09T00:00:00\",\"2024-12-10T00:00:00\",\"2024-12-11T00:00:00\",\"2024-12-12T00:00:00\",\"2024-12-13T00:00:00\",\"2024-12-16T00:00:00\",\"2024-12-17T00:00:00\",\"2024-12-18T00:00:00\",\"2024-12-19T00:00:00\",\"2024-12-20T00:00:00\",\"2024-12-23T00:00:00\",\"2024-12-24T00:00:00\",\"2024-12-26T00:00:00\",\"2024-12-27T00:00:00\",\"2024-12-30T00:00:00\",\"2024-12-31T00:00:00\",\"2025-01-01T00:00:00\",\"2025-01-02T00:00:00\",\"2025-01-03T00:00:00\",\"2025-01-06T00:00:00\",\"2025-01-07T00:00:00\",\"2025-01-08T00:00:00\",\"2025-01-09T00:00:00\",\"2025-01-10T00:00:00\",\"2025-01-13T00:00:00\",\"2025-01-14T00:00:00\",\"2025-01-15T00:00:00\",\"2025-01-16T00:00:00\",\"2025-01-17T00:00:00\",\"2025-01-20T00:00:00\",\"2025-01-21T00:00:00\",\"2025-01-22T00:00:00\",\"2025-01-23T00:00:00\",\"2025-01-24T00:00:00\",\"2025-01-27T00:00:00\",\"2025-01-28T00:00:00\",\"2025-01-29T00:00:00\",\"2025-01-30T00:00:00\",\"2025-01-31T00:00:00\",\"2025-02-01T00:00:00\",\"2025-02-03T00:00:00\",\"2025-02-04T00:00:00\",\"2025-02-05T00:00:00\",\"2025-02-06T00:00:00\",\"2025-02-07T00:00:00\",\"2025-02-10T00:00:00\",\"2025-02-11T00:00:00\",\"2025-02-12T00:00:00\",\"2025-02-13T00:00:00\",\"2025-02-14T00:00:00\",\"2025-02-17T00:00:00\",\"2025-02-18T00:00:00\",\"2025-02-19T00:00:00\",\"2025-02-20T00:00:00\",\"2025-02-21T00:00:00\",\"2025-02-24T00:00:00\",\"2025-02-25T00:00:00\",\"2025-02-27T00:00:00\",\"2025-02-28T00:00:00\",\"2025-03-03T00:00:00\",\"2025-03-04T00:00:00\",\"2025-03-05T00:00:00\",\"2025-03-06T00:00:00\",\"2025-03-07T00:00:00\",\"2025-03-10T00:00:00\",\"2025-03-11T00:00:00\"],\"y\":[22335.7,21997.7,22146.65,22023.35,22055.7,21817.45,21839.1,22011.95,22096.75,22004.7,22123.65,22326.9,22462.0,22453.3,22434.65,22514.65,22513.7,22666.3,22642.75,22753.8,22519.4,22272.5,22147.9,21995.85,22147.0,22336.4,22368.0,22402.4,22570.35,22419.95,22643.4,22604.85,22648.2,22475.85,22442.7,22302.5,22302.5,21957.5,22055.2,22104.05,22217.85,22200.55,22403.85,22466.1,22502.0,22529.05,22597.8,22967.65,22957.1,22932.45,22888.15,22704.7,22488.65,22530.7,23263.9,21884.5,22620.35,22821.4,23290.15,23259.2,23264.85,23322.95,23398.9,23465.6,23557.9,23516.0,23567.0,23501.1,23537.85,23721.3,23868.8,24044.5,24010.6,24141.95,24123.85,24286.5,24302.15,24323.85,24320.55,24433.2,24324.45,24315.95,24502.15,24586.7,24613.0,24800.85,24530.9,24509.25,24479.05,24413.5,24406.1,24834.85,24836.1,24857.3,24951.15,25010.9,24717.7,24055.6,23992.55,24297.5,24117.0,24367.5,24347.0,24139.0,24143.75,24541.15,24572.65,24698.85,24770.2,24811.5,24823.15,25010.6,25017.75,25052.35,25151.95,25235.9,25278.7,25279.85,25198.7,25145.1,24852.15,24936.4,25041.1,24918.45,25388.9,25356.5,25383.75,25418.55,25377.55,25415.8,25790.95,25939.05,25940.4,26004.15,26216.05,26178.95,25810.85,25796.9,25250.1,25014.6,24795.75,25013.15,24981.95,24998.45,24964.25,25127.95,25057.35,24971.3,24749.85,24854.05,24781.1,24472.1,24435.5,24399.4,24180.8,24339.15,24466.85,24340.85,24205.35,24304.35,23995.35,24213.3,24484.05,24199.35,24148.2,24141.3,23883.45,23559.05,23532.7,23453.8,23518.5,23349.9,23907.25,24221.9,24194.5,24274.9,23914.15,24131.1,24276.05,24457.15,24467.45,24708.4,24677.8,24619.0,24610.05,24641.8,24548.7,24768.3,24668.25,24336.0,24198.85,23951.7,23587.5,23753.45,23727.65,23750.2,23813.4,23644.9,23644.8,23742.9,24188.65,24004.75,23616.05,23707.9,23688.95,23526.5,23431.5,23085.95,23176.05,23213.2,23311.8,23203.2,23344.75,23024.65,23155.35,23205.35,23092.2,22829.15,22957.25,23163.1,23249.5,23508.4,23482.15,23361.05,23739.25,23696.3,23603.35,23559.95,23381.6,23071.8,23045.25,23031.4,22929.25,22959.5,22945.3,22932.9,22913.15,22795.9,22553.35,22547.55,22545.05,22124.7,22119.3,22082.65,22337.3,22544.7,22552.5,22460.3,22497.9],\"type\":\"scatter\"}],                        {\"template\":{\"data\":{\"barpolar\":[{\"marker\":{\"line\":{\"color\":\"#E5ECF6\",\"width\":0.5},\"pattern\":{\"fillmode\":\"overlay\",\"size\":10,\"solidity\":0.2}},\"type\":\"barpolar\"}],\"bar\":[{\"error_x\":{\"color\":\"#2a3f5f\"},\"error_y\":{\"color\":\"#2a3f5f\"},\"marker\":{\"line\":{\"color\":\"#E5ECF6\",\"width\":0.5},\"pattern\":{\"fillmode\":\"overlay\",\"size\":10,\"solidity\":0.2}},\"type\":\"bar\"}],\"carpet\":[{\"aaxis\":{\"endlinecolor\":\"#2a3f5f\",\"gridcolor\":\"white\",\"linecolor\":\"white\",\"minorgridcolor\":\"white\",\"startlinecolor\":\"#2a3f5f\"},\"baxis\":{\"endlinecolor\":\"#2a3f5f\",\"gridcolor\":\"white\",\"linecolor\":\"white\",\"minorgridcolor\":\"white\",\"startlinecolor\":\"#2a3f5f\"},\"type\":\"carpet\"}],\"choropleth\":[{\"colorbar\":{\"outlinewidth\":0,\"ticks\":\"\"},\"type\":\"choropleth\"}],\"contourcarpet\":[{\"colorbar\":{\"outlinewidth\":0,\"ticks\":\"\"},\"type\":\"contourcarpet\"}],\"contour\":[{\"colorbar\":{\"outlinewidth\":0,\"ticks\":\"\"},\"colorscale\":[[0.0,\"#0d0887\"],[0.1111111111111111,\"#46039f\"],[0.2222222222222222,\"#7201a8\"],[0.3333333333333333,\"#9c179e\"],[0.4444444444444444,\"#bd3786\"],[0.5555555555555556,\"#d8576b\"],[0.6666666666666666,\"#ed7953\"],[0.7777777777777778,\"#fb9f3a\"],[0.8888888888888888,\"#fdca26\"],[1.0,\"#f0f921\"]],\"type\":\"contour\"}],\"heatmapgl\":[{\"colorbar\":{\"outlinewidth\":0,\"ticks\":\"\"},\"colorscale\":[[0.0,\"#0d0887\"],[0.1111111111111111,\"#46039f\"],[0.2222222222222222,\"#7201a8\"],[0.3333333333333333,\"#9c179e\"],[0.4444444444444444,\"#bd3786\"],[0.5555555555555556,\"#d8576b\"],[0.6666666666666666,\"#ed7953\"],[0.7777777777777778,\"#fb9f3a\"],[0.8888888888888888,\"#fdca26\"],[1.0,\"#f0f921\"]],\"type\":\"heatmapgl\"}],\"heatmap\":[{\"colorbar\":{\"outlinewidth\":0,\"ticks\":\"\"},\"colorscale\":[[0.0,\"#0d0887\"],[0.1111111111111111,\"#46039f\"],[0.2222222222222222,\"#7201a8\"],[0.3333333333333333,\"#9c179e\"],[0.4444444444444444,\"#bd3786\"],[0.5555555555555556,\"#d8576b\"],[0.6666666666666666,\"#ed7953\"],[0.7777777777777778,\"#fb9f3a\"],[0.8888888888888888,\"#fdca26\"],[1.0,\"#f0f921\"]],\"type\":\"heatmap\"}],\"histogram2dcontour\":[{\"colorbar\":{\"outlinewidth\":0,\"ticks\":\"\"},\"colorscale\":[[0.0,\"#0d0887\"],[0.1111111111111111,\"#46039f\"],[0.2222222222222222,\"#7201a8\"],[0.3333333333333333,\"#9c179e\"],[0.4444444444444444,\"#bd3786\"],[0.5555555555555556,\"#d8576b\"],[0.6666666666666666,\"#ed7953\"],[0.7777777777777778,\"#fb9f3a\"],[0.8888888888888888,\"#fdca26\"],[1.0,\"#f0f921\"]],\"type\":\"histogram2dcontour\"}],\"histogram2d\":[{\"colorbar\":{\"outlinewidth\":0,\"ticks\":\"\"},\"colorscale\":[[0.0,\"#0d0887\"],[0.1111111111111111,\"#46039f\"],[0.2222222222222222,\"#7201a8\"],[0.3333333333333333,\"#9c179e\"],[0.4444444444444444,\"#bd3786\"],[0.5555555555555556,\"#d8576b\"],[0.6666666666666666,\"#ed7953\"],[0.7777777777777778,\"#fb9f3a\"],[0.8888888888888888,\"#fdca26\"],[1.0,\"#f0f921\"]],\"type\":\"histogram2d\"}],\"histogram\":[{\"marker\":{\"pattern\":{\"fillmode\":\"overlay\",\"size\":10,\"solidity\":0.2}},\"type\":\"histogram\"}],\"mesh3d\":[{\"colorbar\":{\"outlinewidth\":0,\"ticks\":\"\"},\"type\":\"mesh3d\"}],\"parcoords\":[{\"line\":{\"colorbar\":{\"outlinewidth\":0,\"ticks\":\"\"}},\"type\":\"parcoords\"}],\"pie\":[{\"automargin\":true,\"type\":\"pie\"}],\"scatter3d\":[{\"line\":{\"colorbar\":{\"outlinewidth\":0,\"ticks\":\"\"}},\"marker\":{\"colorbar\":{\"outlinewidth\":0,\"ticks\":\"\"}},\"type\":\"scatter3d\"}],\"scattercarpet\":[{\"marker\":{\"colorbar\":{\"outlinewidth\":0,\"ticks\":\"\"}},\"type\":\"scattercarpet\"}],\"scattergeo\":[{\"marker\":{\"colorbar\":{\"outlinewidth\":0,\"ticks\":\"\"}},\"type\":\"scattergeo\"}],\"scattergl\":[{\"marker\":{\"colorbar\":{\"outlinewidth\":0,\"ticks\":\"\"}},\"type\":\"scattergl\"}],\"scattermapbox\":[{\"marker\":{\"colorbar\":{\"outlinewidth\":0,\"ticks\":\"\"}},\"type\":\"scattermapbox\"}],\"scatterpolargl\":[{\"marker\":{\"colorbar\":{\"outlinewidth\":0,\"ticks\":\"\"}},\"type\":\"scatterpolargl\"}],\"scatterpolar\":[{\"marker\":{\"colorbar\":{\"outlinewidth\":0,\"ticks\":\"\"}},\"type\":\"scatterpolar\"}],\"scatter\":[{\"fillpattern\":{\"fillmode\":\"overlay\",\"size\":10,\"solidity\":0.2},\"type\":\"scatter\"}],\"scatterternary\":[{\"marker\":{\"colorbar\":{\"outlinewidth\":0,\"ticks\":\"\"}},\"type\":\"scatterternary\"}],\"surface\":[{\"colorbar\":{\"outlinewidth\":0,\"ticks\":\"\"},\"colorscale\":[[0.0,\"#0d0887\"],[0.1111111111111111,\"#46039f\"],[0.2222222222222222,\"#7201a8\"],[0.3333333333333333,\"#9c179e\"],[0.4444444444444444,\"#bd3786\"],[0.5555555555555556,\"#d8576b\"],[0.6666666666666666,\"#ed7953\"],[0.7777777777777778,\"#fb9f3a\"],[0.8888888888888888,\"#fdca26\"],[1.0,\"#f0f921\"]],\"type\":\"surface\"}],\"table\":[{\"cells\":{\"fill\":{\"color\":\"#EBF0F8\"},\"line\":{\"color\":\"white\"}},\"header\":{\"fill\":{\"color\":\"#C8D4E3\"},\"line\":{\"color\":\"white\"}},\"type\":\"table\"}]},\"layout\":{\"annotationdefaults\":{\"arrowcolor\":\"#2a3f5f\",\"arrowhead\":0,\"arrowwidth\":1},\"autotypenumbers\":\"strict\",\"coloraxis\":{\"colorbar\":{\"outlinewidth\":0,\"ticks\":\"\"}},\"colorscale\":{\"diverging\":[[0,\"#8e0152\"],[0.1,\"#c51b7d\"],[0.2,\"#de77ae\"],[0.3,\"#f1b6da\"],[0.4,\"#fde0ef\"],[0.5,\"#f7f7f7\"],[0.6,\"#e6f5d0\"],[0.7,\"#b8e186\"],[0.8,\"#7fbc41\"],[0.9,\"#4d9221\"],[1,\"#276419\"]],\"sequential\":[[0.0,\"#0d0887\"],[0.1111111111111111,\"#46039f\"],[0.2222222222222222,\"#7201a8\"],[0.3333333333333333,\"#9c179e\"],[0.4444444444444444,\"#bd3786\"],[0.5555555555555556,\"#d8576b\"],[0.6666666666666666,\"#ed7953\"],[0.7777777777777778,\"#fb9f3a\"],[0.8888888888888888,\"#fdca26\"],[1.0,\"#f0f921\"]],\"sequentialminus\":[[0.0,\"#0d0887\"],[0.1111111111111111,\"#46039f\"],[0.2222222222222222,\"#7201a8\"],[0.3333333333333333,\"#9c179e\"],[0.4444444444444444,\"#bd3786\"],[0.5555555555555556,\"#d8576b\"],[0.6666666666666666,\"#ed7953\"],[0.7777777777777778,\"#fb9f3a\"],[0.8888888888888888,\"#fdca26\"],[1.0,\"#f0f921\"]]},\"colorway\":[\"#636efa\",\"#EF553B\",\"#00cc96\",\"#ab63fa\",\"#FFA15A\",\"#19d3f3\",\"#FF6692\",\"#B6E880\",\"#FF97FF\",\"#FECB52\"],\"font\":{\"color\":\"#2a3f5f\"},\"geo\":{\"bgcolor\":\"white\",\"lakecolor\":\"white\",\"landcolor\":\"#E5ECF6\",\"showlakes\":true,\"showland\":true,\"subunitcolor\":\"white\"},\"hoverlabel\":{\"align\":\"left\"},\"hovermode\":\"closest\",\"mapbox\":{\"style\":\"light\"},\"paper_bgcolor\":\"white\",\"plot_bgcolor\":\"#E5ECF6\",\"polar\":{\"angularaxis\":{\"gridcolor\":\"white\",\"linecolor\":\"white\",\"ticks\":\"\"},\"bgcolor\":\"#E5ECF6\",\"radialaxis\":{\"gridcolor\":\"white\",\"linecolor\":\"white\",\"ticks\":\"\"}},\"scene\":{\"xaxis\":{\"backgroundcolor\":\"#E5ECF6\",\"gridcolor\":\"white\",\"gridwidth\":2,\"linecolor\":\"white\",\"showbackground\":true,\"ticks\":\"\",\"zerolinecolor\":\"white\"},\"yaxis\":{\"backgroundcolor\":\"#E5ECF6\",\"gridcolor\":\"white\",\"gridwidth\":2,\"linecolor\":\"white\",\"showbackground\":true,\"ticks\":\"\",\"zerolinecolor\":\"white\"},\"zaxis\":{\"backgroundcolor\":\"#E5ECF6\",\"gridcolor\":\"white\",\"gridwidth\":2,\"linecolor\":\"white\",\"showbackground\":true,\"ticks\":\"\",\"zerolinecolor\":\"white\"}},\"shapedefaults\":{\"line\":{\"color\":\"#2a3f5f\"}},\"ternary\":{\"aaxis\":{\"gridcolor\":\"white\",\"linecolor\":\"white\",\"ticks\":\"\"},\"baxis\":{\"gridcolor\":\"white\",\"linecolor\":\"white\",\"ticks\":\"\"},\"bgcolor\":\"#E5ECF6\",\"caxis\":{\"gridcolor\":\"white\",\"linecolor\":\"white\",\"ticks\":\"\"}},\"title\":{\"x\":0.05},\"xaxis\":{\"automargin\":true,\"gridcolor\":\"white\",\"linecolor\":\"white\",\"ticks\":\"\",\"title\":{\"standoff\":15},\"zerolinecolor\":\"white\",\"zerolinewidth\":2},\"yaxis\":{\"automargin\":true,\"gridcolor\":\"white\",\"linecolor\":\"white\",\"ticks\":\"\",\"title\":{\"standoff\":15},\"zerolinecolor\":\"white\",\"zerolinewidth\":2}}},\"title\":{\"text\":\"Stock Prices of NIFTY50\"},\"xaxis\":{\"title\":{\"font\":{\"color\":\"red\",\"family\":\"Courier New,monospace\",\"size\":18},\"text\":\"Date\"}},\"yaxis\":{\"title\":{\"font\":{\"color\":\"red\",\"family\":\"Courier New,monospace\",\"size\":18},\"text\":\"Price\"}}},                        {\"responsive\": true}                    ).then(function(){\n",
       "                            \n",
       "var gd = document.getElementById('13b1bf09-6683-4b25-9715-2d87d947e5eb');\n",
       "var x = new MutationObserver(function (mutations, observer) {{\n",
       "        var display = window.getComputedStyle(gd).display;\n",
       "        if (!display || display === 'none') {{\n",
       "            console.log([gd, 'removed!']);\n",
       "            Plotly.purge(gd);\n",
       "            observer.disconnect();\n",
       "        }}\n",
       "}});\n",
       "\n",
       "// Listen for the removal of the full notebook cells\n",
       "var notebookContainer = gd.closest('#notebook-container');\n",
       "if (notebookContainer) {{\n",
       "    x.observe(notebookContainer, {childList: true});\n",
       "}}\n",
       "\n",
       "// Listen for the clearing of the current output cell\n",
       "var outputEl = gd.closest('.output');\n",
       "if (outputEl) {{\n",
       "    x.observe(outputEl, {childList: true});\n",
       "}}\n",
       "\n",
       "                        })                };                });            </script>        </div>"
      ]
     },
     "metadata": {},
     "output_type": "display_data"
    }
   ],
   "source": [
    "#Setting layout for our plot\n",
    "layout=go.Layout(\n",
    "    title='Stock Prices of NIFTY50',\n",
    "    xaxis=dict(\n",
    "        title='Date',\n",
    "        titlefont=dict(\n",
    "            family='Courier New,monospace',\n",
    "            size=18,\n",
    "            color='red'\n",
    "        )\n",
    "    ),\n",
    "    yaxis=dict(\n",
    "        title='Price',\n",
    "        titlefont=dict(\n",
    "            family='Courier New,monospace',\n",
    "            size=18,\n",
    "            color='red'\n",
    "        )\n",
    "    )\n",
    ")\n",
    "NIFTY50_data=[{'x':df['Date'],'y':df['Close']}]\n",
    "plot=go.Figure(data=NIFTY50_data,layout=layout)\n",
    "iplot(plot)"
   ]
  },
  {
   "cell_type": "code",
   "execution_count": 62,
   "id": "22d1aa07-1a3f-44d0-9aca-77e49cd8953a",
   "metadata": {},
   "outputs": [
    {
     "data": {
      "application/vnd.plotly.v1+json": {
       "config": {
        "linkText": "Export to plot.ly",
        "plotlyServerURL": "https://plot.ly",
        "showLink": false
       },
       "data": [
        {
         "mode": "markers",
         "name": "Actual",
         "type": "scatter",
         "x": [
          66,
          212,
          235,
          159,
          57,
          241,
          175,
          147,
          245,
          16,
          135,
          142,
          123,
          183,
          228,
          125,
          51,
          18,
          61,
          248,
          68,
          79,
          1,
          43,
          67,
          233,
          9,
          195,
          36,
          118,
          182,
          45,
          91,
          227,
          247,
          53,
          114,
          141,
          151,
          234,
          197,
          64,
          134,
          24,
          179,
          153,
          13,
          52,
          167,
          189,
          181,
          56,
          156,
          102,
          77,
          145,
          226,
          230,
          27,
          173,
          100,
          94,
          127,
          23,
          21,
          169,
          29,
          144,
          131,
          46,
          82,
          101,
          191,
          231,
          174,
          6,
          120,
          14,
          166,
          84,
          225,
          3,
          202,
          113,
          199,
          139,
          92,
          58,
          232,
          130,
          240,
          47,
          210,
          26,
          122,
          86,
          206,
          155,
          20,
          190,
          10,
          30,
          163,
          215,
          124,
          204,
          152,
          97,
          17,
          229,
          106,
          116,
          0,
          217,
          143,
          196,
          71,
          146,
          198,
          73,
          38,
          103,
          184,
          180,
          213,
          7,
          236,
          28,
          99,
          164,
          62,
          8,
          201,
          105,
          128,
          243,
          107,
          76,
          138,
          126,
          19,
          72,
          44,
          162,
          59,
          222,
          157,
          115,
          136,
          111,
          83,
          49,
          238,
          221,
          140,
          5,
          110,
          192,
          220,
          60,
          168,
          244,
          132,
          40,
          205,
          137,
          239,
          75,
          87,
          63,
          70,
          81,
          11,
          95
         ],
         "y": [
          23567,
          23344.75,
          22932.9,
          24304.35,
          22821.4,
          22124.7,
          24274.9,
          24971.3,
          22544.7,
          22513.7,
          26178.95,
          24981.95,
          24918.45,
          24619,
          23381.6,
          25356.5,
          22704.7,
          22642.75,
          23322.95,
          22497.9,
          23537.85,
          24433.2,
          21997.7,
          22466.1,
          23501.1,
          22959.5,
          22004.7,
          23750.2,
          22302.5,
          25198.7,
          24677.8,
          22529.05,
          24834.85,
          23559.95,
          22460.3,
          22530.7,
          25151.95,
          25013.15,
          24472.1,
          22945.3,
          23644.9,
          23557.9,
          26216.05,
          22147,
          24457.15,
          24399.4,
          22453.3,
          22488.65,
          23559.05,
          24336,
          24708.4,
          22620.35,
          24466.85,
          24347,
          24323.85,
          25127.95,
          23603.35,
          23045.25,
          22402.4,
          24221.9,
          24117,
          24951.15,
          25418.55,
          21995.85,
          22272.5,
          23453.8,
          22419.95,
          24964.25,
          25939.05,
          22597.8,
          24502.15,
          24367.5,
          23951.7,
          23031.4,
          24194.5,
          21839.1,
          24852.15,
          22434.65,
          23883.45,
          24613,
          23696.3,
          22023.35,
          23616.05,
          25052.35,
          23742.9,
          25014.6,
          24836.1,
          23290.15,
          22929.25,
          25790.95,
          22545.05,
          22967.65,
          23311.8,
          22368,
          25041.1,
          24530.9,
          23431.5,
          24339.15,
          22519.4,
          24198.85,
          22123.65,
          22643.4,
          24199.35,
          23205.35,
          25388.9,
          23688.95,
          24435.5,
          24055.6,
          22666.3,
          23071.8,
          24572.65,
          25278.7,
          22335.7,
          22829.15,
          24998.45,
          23813.4,
          24044.5,
          25057.35,
          23644.8,
          24141.95,
          22055.2,
          24139,
          24610.05,
          24467.45,
          23024.65,
          22011.95,
          22913.15,
          22570.35,
          24297.5,
          24148.2,
          23398.9,
          22096.75,
          24004.75,
          24541.15,
          25377.55,
          22082.65,
          24698.85,
          24302.15,
          25250.1,
          25383.75,
          22753.8,
          24010.6,
          22502,
          24484.05,
          23259.2,
          23482.15,
          24340.85,
          25235.9,
          25810.85,
          25010.6,
          24586.7,
          22932.45,
          22553.35,
          23508.4,
          24795.75,
          21817.45,
          24823.15,
          23587.5,
          23249.5,
          23264.85,
          23532.7,
          22337.3,
          25940.4,
          22217.85,
          23526.5,
          25796.9,
          22547.55,
          24286.5,
          24509.25,
          23465.6,
          23868.8,
          24315.95,
          22326.9,
          25010.9
         ]
        },
        {
         "mode": "lines",
         "name": "Predicted",
         "type": "scatter",
         "x": [
          66,
          212,
          235,
          159,
          57,
          241,
          175,
          147,
          245,
          16,
          135,
          142,
          123,
          183,
          228,
          125,
          51,
          18,
          61,
          248,
          68,
          79,
          1,
          43,
          67,
          233,
          9,
          195,
          36,
          118,
          182,
          45,
          91,
          227,
          247,
          53,
          114,
          141,
          151,
          234,
          197,
          64,
          134,
          24,
          179,
          153,
          13,
          52,
          167,
          189,
          181,
          56,
          156,
          102,
          77,
          145,
          226,
          230,
          27,
          173,
          100,
          94,
          127,
          23,
          21,
          169,
          29,
          144,
          131,
          46,
          82,
          101,
          191,
          231,
          174,
          6,
          120,
          14,
          166,
          84,
          225,
          3,
          202,
          113,
          199,
          139,
          92,
          58,
          232,
          130,
          240,
          47,
          210,
          26,
          122,
          86,
          206,
          155,
          20,
          190,
          10,
          30,
          163,
          215,
          124,
          204,
          152,
          97,
          17,
          229,
          106,
          116,
          0,
          217,
          143,
          196,
          71,
          146,
          198,
          73,
          38,
          103,
          184,
          180,
          213,
          7,
          236,
          28,
          99,
          164,
          62,
          8,
          201,
          105,
          128,
          243,
          107,
          76,
          138,
          126,
          19,
          72,
          44,
          162,
          59,
          222,
          157,
          115,
          136,
          111,
          83,
          49,
          238,
          221,
          140,
          5,
          110,
          192,
          220,
          60,
          168,
          244,
          132,
          40,
          205,
          137,
          239,
          75,
          87,
          63,
          70,
          81,
          11,
          95
         ],
         "y": [
          23550.36369386692,
          24060.107107433483,
          24140.409152036435,
          23875.063265522334,
          23518.94115467446,
          24161.357511498074,
          23930.92555742004,
          23833.166546599055,
          24175.3230844725,
          23375.79403168659,
          23791.269827675776,
          23815.709580381023,
          23749.373108752498,
          23958.856703368892,
          24115.96939933119,
          23756.35589523971,
          23497.99279521282,
          23382.776818173803,
          23532.906727648886,
          24185.79726420332,
          23557.346480354132,
          23595.751806033804,
          23323.42313303249,
          23470.061649263967,
          23553.855087110525,
          24133.42636554922,
          23351.354278981344,
          24000.75342229217,
          23445.62189655872,
          23731.916142534465,
          23955.365310125286,
          23477.04443575118,
          23637.648524957083,
          24112.478006087582,
          24182.305870959714,
          23504.975581700033,
          23717.95056956004,
          23812.218187137416,
          23847.13211957348,
          24136.917758792828,
          24007.736208779384,
          23543.380907379706,
          23787.77843443217,
          23403.725177635442,
          23944.891130394466,
          23854.114906060695,
          23365.31985195577,
          23501.484188456427,
          23902.994411471187,
          23979.805062830532,
          23951.87391688168,
          23515.449761430853,
          23864.589085791515,
          23676.053850636756,
          23588.76901954659,
          23826.183760111842,
          24108.986612843975,
          24122.9521858184,
          23414.199357366262,
          23923.942770932827,
          23669.071064149543,
          23648.122704687903,
          23763.338681726924,
          23400.233784391836,
          23393.250997904623,
          23909.9771979584,
          23421.182143853475,
          23822.692366868236,
          23777.30425470135,
          23480.535828994787,
          23606.225985764624,
          23672.56245739315,
          23986.787849317745,
          24126.44357906201,
          23927.434164176433,
          23340.880099250524,
          23738.898929021678,
          23368.811245199377,
          23899.50301822758,
          23613.208772251837,
          24105.49521960037,
          23330.405919519704,
          24025.193174997417,
          23714.45917631643,
          24014.718995266598,
          23805.235400650203,
          23641.13991820069,
          23522.432547918066,
          24129.934972305615,
          23773.812861457744,
          24157.866118254467,
          23484.027222238394,
          24053.12432094627,
          23410.707964122656,
          23745.88171550889,
          23620.19155873905,
          24039.158747971844,
          23861.097692547908,
          23389.759604661016,
          23983.29645607414,
          23354.84567222495,
          23424.673537097082,
          23889.02883849676,
          24070.581287164303,
          23752.864501996104,
          24032.17596148463,
          23850.62351281709,
          23658.596884418723,
          23379.285424930196,
          24119.460792574795,
          23690.019423611182,
          23724.93335604725,
          23319.931739788884,
          24077.564073651516,
          23819.20097362463,
          24004.244815535778,
          23567.82066008495,
          23829.67515335545,
          24011.22760202299,
          23574.803446572165,
          23452.604683045935,
          23679.545243880362,
          23962.3480966125,
          23948.382523638073,
          24063.59850067709,
          23344.37149249413,
          24143.90054528004,
          23417.69075060987,
          23665.579670905936,
          23892.520231740367,
          23536.398120892492,
          23347.862885737737,
          24021.70178175381,
          23686.528030367575,
          23766.83007497053,
          24168.340297985287,
          23693.51081685479,
          23585.277626302985,
          23801.744007406596,
          23759.847288483317,
          23386.26821141741,
          23571.31205332856,
          23473.553042507574,
          23885.537445253154,
          23525.923941161673,
          24095.02103986955,
          23868.08047903512,
          23721.441962803645,
          23794.761220919383,
          23707.476389829215,
          23609.71737900823,
          23491.010008725607,
          24150.883331767254,
          24091.529646625942,
          23808.72679389381,
          23337.388706006917,
          23703.984996585612,
          23990.27924256135,
          24088.038253382336,
          23529.41533440528,
          23906.485804714794,
          24171.831691228894,
          23780.795647944957,
          23459.587469533148,
          24035.667354728237,
          23798.25261416299,
          24154.37472501086,
          23581.786233059378,
          23623.682951982657,
          23539.8895141361,
          23564.329266841345,
          23602.734592521017,
          23358.337065468557,
          23651.61409793151
         ]
        }
       ],
       "layout": {
        "autosize": true,
        "template": {
         "data": {
          "bar": [
           {
            "error_x": {
             "color": "#2a3f5f"
            },
            "error_y": {
             "color": "#2a3f5f"
            },
            "marker": {
             "line": {
              "color": "#E5ECF6",
              "width": 0.5
             },
             "pattern": {
              "fillmode": "overlay",
              "size": 10,
              "solidity": 0.2
             }
            },
            "type": "bar"
           }
          ],
          "barpolar": [
           {
            "marker": {
             "line": {
              "color": "#E5ECF6",
              "width": 0.5
             },
             "pattern": {
              "fillmode": "overlay",
              "size": 10,
              "solidity": 0.2
             }
            },
            "type": "barpolar"
           }
          ],
          "carpet": [
           {
            "aaxis": {
             "endlinecolor": "#2a3f5f",
             "gridcolor": "white",
             "linecolor": "white",
             "minorgridcolor": "white",
             "startlinecolor": "#2a3f5f"
            },
            "baxis": {
             "endlinecolor": "#2a3f5f",
             "gridcolor": "white",
             "linecolor": "white",
             "minorgridcolor": "white",
             "startlinecolor": "#2a3f5f"
            },
            "type": "carpet"
           }
          ],
          "choropleth": [
           {
            "colorbar": {
             "outlinewidth": 0,
             "ticks": ""
            },
            "type": "choropleth"
           }
          ],
          "contour": [
           {
            "colorbar": {
             "outlinewidth": 0,
             "ticks": ""
            },
            "colorscale": [
             [
              0,
              "#0d0887"
             ],
             [
              0.1111111111111111,
              "#46039f"
             ],
             [
              0.2222222222222222,
              "#7201a8"
             ],
             [
              0.3333333333333333,
              "#9c179e"
             ],
             [
              0.4444444444444444,
              "#bd3786"
             ],
             [
              0.5555555555555556,
              "#d8576b"
             ],
             [
              0.6666666666666666,
              "#ed7953"
             ],
             [
              0.7777777777777778,
              "#fb9f3a"
             ],
             [
              0.8888888888888888,
              "#fdca26"
             ],
             [
              1,
              "#f0f921"
             ]
            ],
            "type": "contour"
           }
          ],
          "contourcarpet": [
           {
            "colorbar": {
             "outlinewidth": 0,
             "ticks": ""
            },
            "type": "contourcarpet"
           }
          ],
          "heatmap": [
           {
            "colorbar": {
             "outlinewidth": 0,
             "ticks": ""
            },
            "colorscale": [
             [
              0,
              "#0d0887"
             ],
             [
              0.1111111111111111,
              "#46039f"
             ],
             [
              0.2222222222222222,
              "#7201a8"
             ],
             [
              0.3333333333333333,
              "#9c179e"
             ],
             [
              0.4444444444444444,
              "#bd3786"
             ],
             [
              0.5555555555555556,
              "#d8576b"
             ],
             [
              0.6666666666666666,
              "#ed7953"
             ],
             [
              0.7777777777777778,
              "#fb9f3a"
             ],
             [
              0.8888888888888888,
              "#fdca26"
             ],
             [
              1,
              "#f0f921"
             ]
            ],
            "type": "heatmap"
           }
          ],
          "heatmapgl": [
           {
            "colorbar": {
             "outlinewidth": 0,
             "ticks": ""
            },
            "colorscale": [
             [
              0,
              "#0d0887"
             ],
             [
              0.1111111111111111,
              "#46039f"
             ],
             [
              0.2222222222222222,
              "#7201a8"
             ],
             [
              0.3333333333333333,
              "#9c179e"
             ],
             [
              0.4444444444444444,
              "#bd3786"
             ],
             [
              0.5555555555555556,
              "#d8576b"
             ],
             [
              0.6666666666666666,
              "#ed7953"
             ],
             [
              0.7777777777777778,
              "#fb9f3a"
             ],
             [
              0.8888888888888888,
              "#fdca26"
             ],
             [
              1,
              "#f0f921"
             ]
            ],
            "type": "heatmapgl"
           }
          ],
          "histogram": [
           {
            "marker": {
             "pattern": {
              "fillmode": "overlay",
              "size": 10,
              "solidity": 0.2
             }
            },
            "type": "histogram"
           }
          ],
          "histogram2d": [
           {
            "colorbar": {
             "outlinewidth": 0,
             "ticks": ""
            },
            "colorscale": [
             [
              0,
              "#0d0887"
             ],
             [
              0.1111111111111111,
              "#46039f"
             ],
             [
              0.2222222222222222,
              "#7201a8"
             ],
             [
              0.3333333333333333,
              "#9c179e"
             ],
             [
              0.4444444444444444,
              "#bd3786"
             ],
             [
              0.5555555555555556,
              "#d8576b"
             ],
             [
              0.6666666666666666,
              "#ed7953"
             ],
             [
              0.7777777777777778,
              "#fb9f3a"
             ],
             [
              0.8888888888888888,
              "#fdca26"
             ],
             [
              1,
              "#f0f921"
             ]
            ],
            "type": "histogram2d"
           }
          ],
          "histogram2dcontour": [
           {
            "colorbar": {
             "outlinewidth": 0,
             "ticks": ""
            },
            "colorscale": [
             [
              0,
              "#0d0887"
             ],
             [
              0.1111111111111111,
              "#46039f"
             ],
             [
              0.2222222222222222,
              "#7201a8"
             ],
             [
              0.3333333333333333,
              "#9c179e"
             ],
             [
              0.4444444444444444,
              "#bd3786"
             ],
             [
              0.5555555555555556,
              "#d8576b"
             ],
             [
              0.6666666666666666,
              "#ed7953"
             ],
             [
              0.7777777777777778,
              "#fb9f3a"
             ],
             [
              0.8888888888888888,
              "#fdca26"
             ],
             [
              1,
              "#f0f921"
             ]
            ],
            "type": "histogram2dcontour"
           }
          ],
          "mesh3d": [
           {
            "colorbar": {
             "outlinewidth": 0,
             "ticks": ""
            },
            "type": "mesh3d"
           }
          ],
          "parcoords": [
           {
            "line": {
             "colorbar": {
              "outlinewidth": 0,
              "ticks": ""
             }
            },
            "type": "parcoords"
           }
          ],
          "pie": [
           {
            "automargin": true,
            "type": "pie"
           }
          ],
          "scatter": [
           {
            "fillpattern": {
             "fillmode": "overlay",
             "size": 10,
             "solidity": 0.2
            },
            "type": "scatter"
           }
          ],
          "scatter3d": [
           {
            "line": {
             "colorbar": {
              "outlinewidth": 0,
              "ticks": ""
             }
            },
            "marker": {
             "colorbar": {
              "outlinewidth": 0,
              "ticks": ""
             }
            },
            "type": "scatter3d"
           }
          ],
          "scattercarpet": [
           {
            "marker": {
             "colorbar": {
              "outlinewidth": 0,
              "ticks": ""
             }
            },
            "type": "scattercarpet"
           }
          ],
          "scattergeo": [
           {
            "marker": {
             "colorbar": {
              "outlinewidth": 0,
              "ticks": ""
             }
            },
            "type": "scattergeo"
           }
          ],
          "scattergl": [
           {
            "marker": {
             "colorbar": {
              "outlinewidth": 0,
              "ticks": ""
             }
            },
            "type": "scattergl"
           }
          ],
          "scattermapbox": [
           {
            "marker": {
             "colorbar": {
              "outlinewidth": 0,
              "ticks": ""
             }
            },
            "type": "scattermapbox"
           }
          ],
          "scatterpolar": [
           {
            "marker": {
             "colorbar": {
              "outlinewidth": 0,
              "ticks": ""
             }
            },
            "type": "scatterpolar"
           }
          ],
          "scatterpolargl": [
           {
            "marker": {
             "colorbar": {
              "outlinewidth": 0,
              "ticks": ""
             }
            },
            "type": "scatterpolargl"
           }
          ],
          "scatterternary": [
           {
            "marker": {
             "colorbar": {
              "outlinewidth": 0,
              "ticks": ""
             }
            },
            "type": "scatterternary"
           }
          ],
          "surface": [
           {
            "colorbar": {
             "outlinewidth": 0,
             "ticks": ""
            },
            "colorscale": [
             [
              0,
              "#0d0887"
             ],
             [
              0.1111111111111111,
              "#46039f"
             ],
             [
              0.2222222222222222,
              "#7201a8"
             ],
             [
              0.3333333333333333,
              "#9c179e"
             ],
             [
              0.4444444444444444,
              "#bd3786"
             ],
             [
              0.5555555555555556,
              "#d8576b"
             ],
             [
              0.6666666666666666,
              "#ed7953"
             ],
             [
              0.7777777777777778,
              "#fb9f3a"
             ],
             [
              0.8888888888888888,
              "#fdca26"
             ],
             [
              1,
              "#f0f921"
             ]
            ],
            "type": "surface"
           }
          ],
          "table": [
           {
            "cells": {
             "fill": {
              "color": "#EBF0F8"
             },
             "line": {
              "color": "white"
             }
            },
            "header": {
             "fill": {
              "color": "#C8D4E3"
             },
             "line": {
              "color": "white"
             }
            },
            "type": "table"
           }
          ]
         },
         "layout": {
          "annotationdefaults": {
           "arrowcolor": "#2a3f5f",
           "arrowhead": 0,
           "arrowwidth": 1
          },
          "autotypenumbers": "strict",
          "coloraxis": {
           "colorbar": {
            "outlinewidth": 0,
            "ticks": ""
           }
          },
          "colorscale": {
           "diverging": [
            [
             0,
             "#8e0152"
            ],
            [
             0.1,
             "#c51b7d"
            ],
            [
             0.2,
             "#de77ae"
            ],
            [
             0.3,
             "#f1b6da"
            ],
            [
             0.4,
             "#fde0ef"
            ],
            [
             0.5,
             "#f7f7f7"
            ],
            [
             0.6,
             "#e6f5d0"
            ],
            [
             0.7,
             "#b8e186"
            ],
            [
             0.8,
             "#7fbc41"
            ],
            [
             0.9,
             "#4d9221"
            ],
            [
             1,
             "#276419"
            ]
           ],
           "sequential": [
            [
             0,
             "#0d0887"
            ],
            [
             0.1111111111111111,
             "#46039f"
            ],
            [
             0.2222222222222222,
             "#7201a8"
            ],
            [
             0.3333333333333333,
             "#9c179e"
            ],
            [
             0.4444444444444444,
             "#bd3786"
            ],
            [
             0.5555555555555556,
             "#d8576b"
            ],
            [
             0.6666666666666666,
             "#ed7953"
            ],
            [
             0.7777777777777778,
             "#fb9f3a"
            ],
            [
             0.8888888888888888,
             "#fdca26"
            ],
            [
             1,
             "#f0f921"
            ]
           ],
           "sequentialminus": [
            [
             0,
             "#0d0887"
            ],
            [
             0.1111111111111111,
             "#46039f"
            ],
            [
             0.2222222222222222,
             "#7201a8"
            ],
            [
             0.3333333333333333,
             "#9c179e"
            ],
            [
             0.4444444444444444,
             "#bd3786"
            ],
            [
             0.5555555555555556,
             "#d8576b"
            ],
            [
             0.6666666666666666,
             "#ed7953"
            ],
            [
             0.7777777777777778,
             "#fb9f3a"
            ],
            [
             0.8888888888888888,
             "#fdca26"
            ],
            [
             1,
             "#f0f921"
            ]
           ]
          },
          "colorway": [
           "#636efa",
           "#EF553B",
           "#00cc96",
           "#ab63fa",
           "#FFA15A",
           "#19d3f3",
           "#FF6692",
           "#B6E880",
           "#FF97FF",
           "#FECB52"
          ],
          "font": {
           "color": "#2a3f5f"
          },
          "geo": {
           "bgcolor": "white",
           "lakecolor": "white",
           "landcolor": "#E5ECF6",
           "showlakes": true,
           "showland": true,
           "subunitcolor": "white"
          },
          "hoverlabel": {
           "align": "left"
          },
          "hovermode": "closest",
          "mapbox": {
           "style": "light"
          },
          "paper_bgcolor": "white",
          "plot_bgcolor": "#E5ECF6",
          "polar": {
           "angularaxis": {
            "gridcolor": "white",
            "linecolor": "white",
            "ticks": ""
           },
           "bgcolor": "#E5ECF6",
           "radialaxis": {
            "gridcolor": "white",
            "linecolor": "white",
            "ticks": ""
           }
          },
          "scene": {
           "xaxis": {
            "backgroundcolor": "#E5ECF6",
            "gridcolor": "white",
            "gridwidth": 2,
            "linecolor": "white",
            "showbackground": true,
            "ticks": "",
            "zerolinecolor": "white"
           },
           "yaxis": {
            "backgroundcolor": "#E5ECF6",
            "gridcolor": "white",
            "gridwidth": 2,
            "linecolor": "white",
            "showbackground": true,
            "ticks": "",
            "zerolinecolor": "white"
           },
           "zaxis": {
            "backgroundcolor": "#E5ECF6",
            "gridcolor": "white",
            "gridwidth": 2,
            "linecolor": "white",
            "showbackground": true,
            "ticks": "",
            "zerolinecolor": "white"
           }
          },
          "shapedefaults": {
           "line": {
            "color": "#2a3f5f"
           }
          },
          "ternary": {
           "aaxis": {
            "gridcolor": "white",
            "linecolor": "white",
            "ticks": ""
           },
           "baxis": {
            "gridcolor": "white",
            "linecolor": "white",
            "ticks": ""
           },
           "bgcolor": "#E5ECF6",
           "caxis": {
            "gridcolor": "white",
            "linecolor": "white",
            "ticks": ""
           }
          },
          "title": {
           "x": 0.05
          },
          "xaxis": {
           "automargin": true,
           "gridcolor": "white",
           "linecolor": "white",
           "ticks": "",
           "title": {
            "standoff": 15
           },
           "zerolinecolor": "white",
           "zerolinewidth": 2
          },
          "yaxis": {
           "automargin": true,
           "gridcolor": "white",
           "linecolor": "white",
           "ticks": "",
           "title": {
            "standoff": 15
           },
           "zerolinecolor": "white",
           "zerolinewidth": 2
          }
         }
        },
        "title": {
         "text": "Stock Prices of NIFTY50"
        },
        "xaxis": {
         "autorange": true,
         "range": [
          -15.0756091434313,
          263.0756091434313
         ],
         "title": {
          "font": {
           "color": "red",
           "family": "Courier New,monospace",
           "size": 18
          },
          "text": "Day"
         },
         "type": "linear"
        },
        "yaxis": {
         "autorange": true,
         "range": [
          21454.45873786408,
          26579.04126213592
         ],
         "title": {
          "font": {
           "color": "red",
           "family": "Courier New,monospace",
           "size": 18
          },
          "text": "Price"
         },
         "type": "linear"
        }
       }
      },
      "image/png": "[encoded data removed]",
      "text/html": [
       "<div>                            <div id=\"4525cf17-b5b5-4215-aa98-1a24af869af5\" class=\"plotly-graph-div\" style=\"height:525px; width:100%;\"></div>            <script type=\"text/javascript\">                require([\"plotly\"], function(Plotly) {                    window.PLOTLYENV=window.PLOTLYENV || {};                                    if (document.getElementById(\"4525cf17-b5b5-4215-aa98-1a24af869af5\")) {                    Plotly.newPlot(                        \"4525cf17-b5b5-4215-aa98-1a24af869af5\",                        [{\"mode\":\"markers\",\"name\":\"Actual\",\"x\":[66,212,235,159,57,241,175,147,245,16,135,142,123,183,228,125,51,18,61,248,68,79,1,43,67,233,9,195,36,118,182,45,91,227,247,53,114,141,151,234,197,64,134,24,179,153,13,52,167,189,181,56,156,102,77,145,226,230,27,173,100,94,127,23,21,169,29,144,131,46,82,101,191,231,174,6,120,14,166,84,225,3,202,113,199,139,92,58,232,130,240,47,210,26,122,86,206,155,20,190,10,30,163,215,124,204,152,97,17,229,106,116,0,217,143,196,71,146,198,73,38,103,184,180,213,7,236,28,99,164,62,8,201,105,128,243,107,76,138,126,19,72,44,162,59,222,157,115,136,111,83,49,238,221,140,5,110,192,220,60,168,244,132,40,205,137,239,75,87,63,70,81,11,95],\"y\":[23567.0,23344.75,22932.9,24304.35,22821.4,22124.7,24274.9,24971.3,22544.7,22513.7,26178.95,24981.95,24918.45,24619.0,23381.6,25356.5,22704.7,22642.75,23322.95,22497.9,23537.85,24433.2,21997.7,22466.1,23501.1,22959.5,22004.7,23750.2,22302.5,25198.7,24677.8,22529.05,24834.85,23559.95,22460.3,22530.7,25151.95,25013.15,24472.1,22945.3,23644.9,23557.9,26216.05,22147.0,24457.15,24399.4,22453.3,22488.65,23559.05,24336.0,24708.4,22620.35,24466.85,24347.0,24323.85,25127.95,23603.35,23045.25,22402.4,24221.9,24117.0,24951.15,25418.55,21995.85,22272.5,23453.8,22419.95,24964.25,25939.05,22597.8,24502.15,24367.5,23951.7,23031.4,24194.5,21839.1,24852.15,22434.65,23883.45,24613.0,23696.3,22023.35,23616.05,25052.35,23742.9,25014.6,24836.1,23290.15,22929.25,25790.95,22545.05,22967.65,23311.8,22368.0,25041.1,24530.9,23431.5,24339.15,22519.4,24198.85,22123.65,22643.4,24199.35,23205.35,25388.9,23688.95,24435.5,24055.6,22666.3,23071.8,24572.65,25278.7,22335.7,22829.15,24998.45,23813.4,24044.5,25057.35,23644.8,24141.95,22055.2,24139.0,24610.05,24467.45,23024.65,22011.95,22913.15,22570.35,24297.5,24148.2,23398.9,22096.75,24004.75,24541.15,25377.55,22082.65,24698.85,24302.15,25250.1,25383.75,22753.8,24010.6,22502.0,24484.05,23259.2,23482.15,24340.85,25235.9,25810.85,25010.6,24586.7,22932.45,22553.35,23508.4,24795.75,21817.45,24823.15,23587.5,23249.5,23264.85,23532.7,22337.3,25940.4,22217.85,23526.5,25796.9,22547.55,24286.5,24509.25,23465.6,23868.8,24315.95,22326.9,25010.9],\"type\":\"scatter\"},{\"mode\":\"lines\",\"name\":\"Predicted\",\"x\":[66,212,235,159,57,241,175,147,245,16,135,142,123,183,228,125,51,18,61,248,68,79,1,43,67,233,9,195,36,118,182,45,91,227,247,53,114,141,151,234,197,64,134,24,179,153,13,52,167,189,181,56,156,102,77,145,226,230,27,173,100,94,127,23,21,169,29,144,131,46,82,101,191,231,174,6,120,14,166,84,225,3,202,113,199,139,92,58,232,130,240,47,210,26,122,86,206,155,20,190,10,30,163,215,124,204,152,97,17,229,106,116,0,217,143,196,71,146,198,73,38,103,184,180,213,7,236,28,99,164,62,8,201,105,128,243,107,76,138,126,19,72,44,162,59,222,157,115,136,111,83,49,238,221,140,5,110,192,220,60,168,244,132,40,205,137,239,75,87,63,70,81,11,95],\"y\":[23550.36369386692,24060.107107433483,24140.409152036435,23875.063265522334,23518.94115467446,24161.357511498074,23930.92555742004,23833.166546599055,24175.3230844725,23375.79403168659,23791.269827675776,23815.709580381023,23749.373108752498,23958.856703368892,24115.96939933119,23756.35589523971,23497.99279521282,23382.776818173803,23532.906727648886,24185.79726420332,23557.346480354132,23595.751806033804,23323.42313303249,23470.061649263967,23553.855087110525,24133.42636554922,23351.354278981344,24000.75342229217,23445.62189655872,23731.916142534465,23955.365310125286,23477.04443575118,23637.648524957083,24112.478006087582,24182.305870959714,23504.975581700033,23717.95056956004,23812.218187137416,23847.13211957348,24136.917758792828,24007.736208779384,23543.380907379706,23787.77843443217,23403.725177635442,23944.891130394466,23854.114906060695,23365.31985195577,23501.484188456427,23902.994411471187,23979.805062830532,23951.87391688168,23515.449761430853,23864.589085791515,23676.053850636756,23588.76901954659,23826.183760111842,24108.986612843975,24122.9521858184,23414.199357366262,23923.942770932827,23669.071064149543,23648.122704687903,23763.338681726924,23400.233784391836,23393.250997904623,23909.9771979584,23421.182143853475,23822.692366868236,23777.30425470135,23480.535828994787,23606.225985764624,23672.56245739315,23986.787849317745,24126.44357906201,23927.434164176433,23340.880099250524,23738.898929021678,23368.811245199377,23899.50301822758,23613.208772251837,24105.49521960037,23330.405919519704,24025.193174997417,23714.45917631643,24014.718995266598,23805.235400650203,23641.13991820069,23522.432547918066,24129.934972305615,23773.812861457744,24157.866118254467,23484.027222238394,24053.12432094627,23410.707964122656,23745.88171550889,23620.19155873905,24039.158747971844,23861.097692547908,23389.759604661016,23983.29645607414,23354.84567222495,23424.673537097082,23889.02883849676,24070.581287164303,23752.864501996104,24032.17596148463,23850.62351281709,23658.596884418723,23379.285424930196,24119.460792574795,23690.019423611182,23724.93335604725,23319.931739788884,24077.564073651516,23819.20097362463,24004.244815535778,23567.82066008495,23829.67515335545,24011.22760202299,23574.803446572165,23452.604683045935,23679.545243880362,23962.3480966125,23948.382523638073,24063.59850067709,23344.37149249413,24143.90054528004,23417.69075060987,23665.579670905936,23892.520231740367,23536.398120892492,23347.862885737737,24021.70178175381,23686.528030367575,23766.83007497053,24168.340297985287,23693.51081685479,23585.277626302985,23801.744007406596,23759.847288483317,23386.26821141741,23571.31205332856,23473.553042507574,23885.537445253154,23525.923941161673,24095.02103986955,23868.08047903512,23721.441962803645,23794.761220919383,23707.476389829215,23609.71737900823,23491.010008725607,24150.883331767254,24091.529646625942,23808.72679389381,23337.388706006917,23703.984996585612,23990.27924256135,24088.038253382336,23529.41533440528,23906.485804714794,24171.831691228894,23780.795647944957,23459.587469533148,24035.667354728237,23798.25261416299,24154.37472501086,23581.786233059378,23623.682951982657,23539.8895141361,23564.329266841345,23602.734592521017,23358.337065468557,23651.61409793151],\"type\":\"scatter\"}],                        {\"template\":{\"data\":{\"barpolar\":[{\"marker\":{\"line\":{\"color\":\"#E5ECF6\",\"width\":0.5},\"pattern\":{\"fillmode\":\"overlay\",\"size\":10,\"solidity\":0.2}},\"type\":\"barpolar\"}],\"bar\":[{\"error_x\":{\"color\":\"#2a3f5f\"},\"error_y\":{\"color\":\"#2a3f5f\"},\"marker\":{\"line\":{\"color\":\"#E5ECF6\",\"width\":0.5},\"pattern\":{\"fillmode\":\"overlay\",\"size\":10,\"solidity\":0.2}},\"type\":\"bar\"}],\"carpet\":[{\"aaxis\":{\"endlinecolor\":\"#2a3f5f\",\"gridcolor\":\"white\",\"linecolor\":\"white\",\"minorgridcolor\":\"white\",\"startlinecolor\":\"#2a3f5f\"},\"baxis\":{\"endlinecolor\":\"#2a3f5f\",\"gridcolor\":\"white\",\"linecolor\":\"white\",\"minorgridcolor\":\"white\",\"startlinecolor\":\"#2a3f5f\"},\"type\":\"carpet\"}],\"choropleth\":[{\"colorbar\":{\"outlinewidth\":0,\"ticks\":\"\"},\"type\":\"choropleth\"}],\"contourcarpet\":[{\"colorbar\":{\"outlinewidth\":0,\"ticks\":\"\"},\"type\":\"contourcarpet\"}],\"contour\":[{\"colorbar\":{\"outlinewidth\":0,\"ticks\":\"\"},\"colorscale\":[[0.0,\"#0d0887\"],[0.1111111111111111,\"#46039f\"],[0.2222222222222222,\"#7201a8\"],[0.3333333333333333,\"#9c179e\"],[0.4444444444444444,\"#bd3786\"],[0.5555555555555556,\"#d8576b\"],[0.6666666666666666,\"#ed7953\"],[0.7777777777777778,\"#fb9f3a\"],[0.8888888888888888,\"#fdca26\"],[1.0,\"#f0f921\"]],\"type\":\"contour\"}],\"heatmapgl\":[{\"colorbar\":{\"outlinewidth\":0,\"ticks\":\"\"},\"colorscale\":[[0.0,\"#0d0887\"],[0.1111111111111111,\"#46039f\"],[0.2222222222222222,\"#7201a8\"],[0.3333333333333333,\"#9c179e\"],[0.4444444444444444,\"#bd3786\"],[0.5555555555555556,\"#d8576b\"],[0.6666666666666666,\"#ed7953\"],[0.7777777777777778,\"#fb9f3a\"],[0.8888888888888888,\"#fdca26\"],[1.0,\"#f0f921\"]],\"type\":\"heatmapgl\"}],\"heatmap\":[{\"colorbar\":{\"outlinewidth\":0,\"ticks\":\"\"},\"colorscale\":[[0.0,\"#0d0887\"],[0.1111111111111111,\"#46039f\"],[0.2222222222222222,\"#7201a8\"],[0.3333333333333333,\"#9c179e\"],[0.4444444444444444,\"#bd3786\"],[0.5555555555555556,\"#d8576b\"],[0.6666666666666666,\"#ed7953\"],[0.7777777777777778,\"#fb9f3a\"],[0.8888888888888888,\"#fdca26\"],[1.0,\"#f0f921\"]],\"type\":\"heatmap\"}],\"histogram2dcontour\":[{\"colorbar\":{\"outlinewidth\":0,\"ticks\":\"\"},\"colorscale\":[[0.0,\"#0d0887\"],[0.1111111111111111,\"#46039f\"],[0.2222222222222222,\"#7201a8\"],[0.3333333333333333,\"#9c179e\"],[0.4444444444444444,\"#bd3786\"],[0.5555555555555556,\"#d8576b\"],[0.6666666666666666,\"#ed7953\"],[0.7777777777777778,\"#fb9f3a\"],[0.8888888888888888,\"#fdca26\"],[1.0,\"#f0f921\"]],\"type\":\"histogram2dcontour\"}],\"histogram2d\":[{\"colorbar\":{\"outlinewidth\":0,\"ticks\":\"\"},\"colorscale\":[[0.0,\"#0d0887\"],[0.1111111111111111,\"#46039f\"],[0.2222222222222222,\"#7201a8\"],[0.3333333333333333,\"#9c179e\"],[0.4444444444444444,\"#bd3786\"],[0.5555555555555556,\"#d8576b\"],[0.6666666666666666,\"#ed7953\"],[0.7777777777777778,\"#fb9f3a\"],[0.8888888888888888,\"#fdca26\"],[1.0,\"#f0f921\"]],\"type\":\"histogram2d\"}],\"histogram\":[{\"marker\":{\"pattern\":{\"fillmode\":\"overlay\",\"size\":10,\"solidity\":0.2}},\"type\":\"histogram\"}],\"mesh3d\":[{\"colorbar\":{\"outlinewidth\":0,\"ticks\":\"\"},\"type\":\"mesh3d\"}],\"parcoords\":[{\"line\":{\"colorbar\":{\"outlinewidth\":0,\"ticks\":\"\"}},\"type\":\"parcoords\"}],\"pie\":[{\"automargin\":true,\"type\":\"pie\"}],\"scatter3d\":[{\"line\":{\"colorbar\":{\"outlinewidth\":0,\"ticks\":\"\"}},\"marker\":{\"colorbar\":{\"outlinewidth\":0,\"ticks\":\"\"}},\"type\":\"scatter3d\"}],\"scattercarpet\":[{\"marker\":{\"colorbar\":{\"outlinewidth\":0,\"ticks\":\"\"}},\"type\":\"scattercarpet\"}],\"scattergeo\":[{\"marker\":{\"colorbar\":{\"outlinewidth\":0,\"ticks\":\"\"}},\"type\":\"scattergeo\"}],\"scattergl\":[{\"marker\":{\"colorbar\":{\"outlinewidth\":0,\"ticks\":\"\"}},\"type\":\"scattergl\"}],\"scattermapbox\":[{\"marker\":{\"colorbar\":{\"outlinewidth\":0,\"ticks\":\"\"}},\"type\":\"scattermapbox\"}],\"scatterpolargl\":[{\"marker\":{\"colorbar\":{\"outlinewidth\":0,\"ticks\":\"\"}},\"type\":\"scatterpolargl\"}],\"scatterpolar\":[{\"marker\":{\"colorbar\":{\"outlinewidth\":0,\"ticks\":\"\"}},\"type\":\"scatterpolar\"}],\"scatter\":[{\"fillpattern\":{\"fillmode\":\"overlay\",\"size\":10,\"solidity\":0.2},\"type\":\"scatter\"}],\"scatterternary\":[{\"marker\":{\"colorbar\":{\"outlinewidth\":0,\"ticks\":\"\"}},\"type\":\"scatterternary\"}],\"surface\":[{\"colorbar\":{\"outlinewidth\":0,\"ticks\":\"\"},\"colorscale\":[[0.0,\"#0d0887\"],[0.1111111111111111,\"#46039f\"],[0.2222222222222222,\"#7201a8\"],[0.3333333333333333,\"#9c179e\"],[0.4444444444444444,\"#bd3786\"],[0.5555555555555556,\"#d8576b\"],[0.6666666666666666,\"#ed7953\"],[0.7777777777777778,\"#fb9f3a\"],[0.8888888888888888,\"#fdca26\"],[1.0,\"#f0f921\"]],\"type\":\"surface\"}],\"table\":[{\"cells\":{\"fill\":{\"color\":\"#EBF0F8\"},\"line\":{\"color\":\"white\"}},\"header\":{\"fill\":{\"color\":\"#C8D4E3\"},\"line\":{\"color\":\"white\"}},\"type\":\"table\"}]},\"layout\":{\"annotationdefaults\":{\"arrowcolor\":\"#2a3f5f\",\"arrowhead\":0,\"arrowwidth\":1},\"autotypenumbers\":\"strict\",\"coloraxis\":{\"colorbar\":{\"outlinewidth\":0,\"ticks\":\"\"}},\"colorscale\":{\"diverging\":[[0,\"#8e0152\"],[0.1,\"#c51b7d\"],[0.2,\"#de77ae\"],[0.3,\"#f1b6da\"],[0.4,\"#fde0ef\"],[0.5,\"#f7f7f7\"],[0.6,\"#e6f5d0\"],[0.7,\"#b8e186\"],[0.8,\"#7fbc41\"],[0.9,\"#4d9221\"],[1,\"#276419\"]],\"sequential\":[[0.0,\"#0d0887\"],[0.1111111111111111,\"#46039f\"],[0.2222222222222222,\"#7201a8\"],[0.3333333333333333,\"#9c179e\"],[0.4444444444444444,\"#bd3786\"],[0.5555555555555556,\"#d8576b\"],[0.6666666666666666,\"#ed7953\"],[0.7777777777777778,\"#fb9f3a\"],[0.8888888888888888,\"#fdca26\"],[1.0,\"#f0f921\"]],\"sequentialminus\":[[0.0,\"#0d0887\"],[0.1111111111111111,\"#46039f\"],[0.2222222222222222,\"#7201a8\"],[0.3333333333333333,\"#9c179e\"],[0.4444444444444444,\"#bd3786\"],[0.5555555555555556,\"#d8576b\"],[0.6666666666666666,\"#ed7953\"],[0.7777777777777778,\"#fb9f3a\"],[0.8888888888888888,\"#fdca26\"],[1.0,\"#f0f921\"]]},\"colorway\":[\"#636efa\",\"#EF553B\",\"#00cc96\",\"#ab63fa\",\"#FFA15A\",\"#19d3f3\",\"#FF6692\",\"#B6E880\",\"#FF97FF\",\"#FECB52\"],\"font\":{\"color\":\"#2a3f5f\"},\"geo\":{\"bgcolor\":\"white\",\"lakecolor\":\"white\",\"landcolor\":\"#E5ECF6\",\"showlakes\":true,\"showland\":true,\"subunitcolor\":\"white\"},\"hoverlabel\":{\"align\":\"left\"},\"hovermode\":\"closest\",\"mapbox\":{\"style\":\"light\"},\"paper_bgcolor\":\"white\",\"plot_bgcolor\":\"#E5ECF6\",\"polar\":{\"angularaxis\":{\"gridcolor\":\"white\",\"linecolor\":\"white\",\"ticks\":\"\"},\"bgcolor\":\"#E5ECF6\",\"radialaxis\":{\"gridcolor\":\"white\",\"linecolor\":\"white\",\"ticks\":\"\"}},\"scene\":{\"xaxis\":{\"backgroundcolor\":\"#E5ECF6\",\"gridcolor\":\"white\",\"gridwidth\":2,\"linecolor\":\"white\",\"showbackground\":true,\"ticks\":\"\",\"zerolinecolor\":\"white\"},\"yaxis\":{\"backgroundcolor\":\"#E5ECF6\",\"gridcolor\":\"white\",\"gridwidth\":2,\"linecolor\":\"white\",\"showbackground\":true,\"ticks\":\"\",\"zerolinecolor\":\"white\"},\"zaxis\":{\"backgroundcolor\":\"#E5ECF6\",\"gridcolor\":\"white\",\"gridwidth\":2,\"linecolor\":\"white\",\"showbackground\":true,\"ticks\":\"\",\"zerolinecolor\":\"white\"}},\"shapedefaults\":{\"line\":{\"color\":\"#2a3f5f\"}},\"ternary\":{\"aaxis\":{\"gridcolor\":\"white\",\"linecolor\":\"white\",\"ticks\":\"\"},\"baxis\":{\"gridcolor\":\"white\",\"linecolor\":\"white\",\"ticks\":\"\"},\"bgcolor\":\"#E5ECF6\",\"caxis\":{\"gridcolor\":\"white\",\"linecolor\":\"white\",\"ticks\":\"\"}},\"title\":{\"x\":0.05},\"xaxis\":{\"automargin\":true,\"gridcolor\":\"white\",\"linecolor\":\"white\",\"ticks\":\"\",\"title\":{\"standoff\":15},\"zerolinecolor\":\"white\",\"zerolinewidth\":2},\"yaxis\":{\"automargin\":true,\"gridcolor\":\"white\",\"linecolor\":\"white\",\"ticks\":\"\",\"title\":{\"standoff\":15},\"zerolinecolor\":\"white\",\"zerolinewidth\":2}}},\"title\":{\"text\":\"Stock Prices of NIFTY50\"},\"xaxis\":{\"title\":{\"font\":{\"color\":\"red\",\"family\":\"Courier New,monospace\",\"size\":18},\"text\":\"Day\"}},\"yaxis\":{\"title\":{\"font\":{\"color\":\"red\",\"family\":\"Courier New,monospace\",\"size\":18},\"text\":\"Price\"}}},                        {\"responsive\": true}                    ).then(function(){\n",
       "                            \n",
       "var gd = document.getElementById('4525cf17-b5b5-4215-aa98-1a24af869af5');\n",
       "var x = new MutationObserver(function (mutations, observer) {{\n",
       "        var display = window.getComputedStyle(gd).display;\n",
       "        if (!display || display === 'none') {{\n",
       "            console.log([gd, 'removed!']);\n",
       "            Plotly.purge(gd);\n",
       "            observer.disconnect();\n",
       "        }}\n",
       "}});\n",
       "\n",
       "// Listen for the removal of the full notebook cells\n",
       "var notebookContainer = gd.closest('#notebook-container');\n",
       "if (notebookContainer) {{\n",
       "    x.observe(notebookContainer, {childList: true});\n",
       "}}\n",
       "\n",
       "// Listen for the clearing of the current output cell\n",
       "var outputEl = gd.closest('.output');\n",
       "if (outputEl) {{\n",
       "    x.observe(outputEl, {childList: true});\n",
       "}}\n",
       "\n",
       "                        })                };                });            </script>        </div>"
      ]
     },
     "metadata": {},
     "output_type": "display_data"
    }
   ],
   "source": [
    "#plot actual and predicted values for train dataset\n",
    "trace0=go.Scatter(x=X_train.T[0],\n",
    "                 y=Y_train,\n",
    "                 mode='markers',\n",
    "                 name='Actual'\n",
    "        )\n",
    "trace1=go.Scatter(x=X_train.T[0],\n",
    "                 y=lm.predict(X_train).T,\n",
    "                 mode='lines',\n",
    "                 name='Predicted'\n",
    "        )\n",
    "NIFTY50_data=[trace0,trace1]\n",
    "layout.xaxis.title.text='Day'\n",
    "plot2=go.Figure(data=NIFTY50_data,layout=layout)\n",
    "iplot(plot2)"
   ]
  },
  {
   "cell_type": "code",
   "execution_count": 63,
   "id": "cf4f6da3-1031-4711-be0f-766ce5a5b358",
   "metadata": {},
   "outputs": [
    {
     "name": "stdout",
     "output_type": "stream",
     "text": [
      "\n",
      "Metric           Train                Test        \n",
      "r2_score  0.05417139567599183\t0.08047932362072063\n",
      "MSE       1118901.3414294394\t924998.9322576966\n",
      "\n"
     ]
    }
   ],
   "source": [
    "#Calulate the scores for model evaluation\n",
    "scores=f'''\n",
    "{'Metric'.ljust(10)}{'Train'.center(20)}{'Test'.center(20)}\n",
    "{'r2_score'.ljust(10)}{r2_score(Y_train,lm.predict(X_train))}\\t{r2_score(Y_test,lm.predict(X_test))}\n",
    "{'MSE'.ljust(10)}{mse(Y_train,lm.predict(X_train))}\\t{mse(Y_test,lm.predict(X_test))}\n",
    "'''\n",
    "print(scores)"
   ]
  },
  {
   "cell_type": "markdown",
   "id": "d9a01aea-f110-46ae-987f-5b93249e8059",
   "metadata": {},
   "source": [
    "**Conclusion:** \n",
    "1. A low R² score means the model is not capturing enough patterns from the data.\n",
    "2. The model's prediction errors are quite large, meaning it struggles to generalize well."
   ]
  },
  {
   "cell_type": "markdown",
   "id": "73d01c52-154e-4f54-85c7-6dd886c3abea",
   "metadata": {},
   "source": [
    "### NOTE: The Conclusion is that LINEAR REGRESSION is not the suitable for our model for this data as r2_score and MSE vales are not as expected"
   ]
  },
  {
   "cell_type": "markdown",
   "id": "65bd9b88-e4fe-4636-9397-98c7cf94b197",
   "metadata": {},
   "source": [
    "**8. Let's use ARIMA model**\n",
    "\n",
    "ARIMA (AutoRegressive Integrated Moving Average) is a powerful model for time series forecasting. It captures trends, seasonality, and patterns in stock prices.\n",
    "\n",
    "To use ARIMA model we should first Go through some EDA(Exploratory Data Analysis)"
   ]
  },
  {
   "cell_type": "markdown",
   "id": "3c9624cf-d35b-4413-829a-4368f8a1be32",
   "metadata": {},
   "source": [
    "✅ Steps to Implement ARIMA:\n",
    "\n",
    "1️⃣ Check for Stationarity (Stock prices should have a constant mean & variance).\n",
    "\n",
    "2️⃣ Make the Data Stationary (Use differencing if needed).\n",
    "\n",
    "3️⃣ Identify ARIMA Parameters (p, d, q) using ACF & PACF plots.\n",
    "\n",
    "4️⃣ Train the ARIMA Model on historical data.\n",
    "\n",
    "5️⃣ Make Predictions for future prices."
   ]
  },
  {
   "cell_type": "code",
   "execution_count": 64,
   "id": "b67cb19a-6938-454a-a21b-f2d0eeafa2e3",
   "metadata": {},
   "outputs": [
    {
     "data": {
      "text/plain": [
       "(-1.5887481339895921, 0.48924321058570786)"
      ]
     },
     "execution_count": 64,
     "metadata": {},
     "output_type": "execute_result"
    }
   ],
   "source": [
    "#Let’s start by checking stationarity using the Augmented Dickey-Fuller (ADF) test.\n",
    "from statsmodels.tsa.stattools import adfuller\n",
    "\n",
    "# Perform Augmented Dickey-Fuller test on 'Close' prices\n",
    "adf_test = adfuller(df['Close'])\n",
    "\n",
    "# Extract results\n",
    "adf_statistic = adf_test[0]\n",
    "p_value = adf_test[1]\n",
    "\n",
    "# Print ADF test results\n",
    "adf_statistic, p_value\n",
    "#If the test's p-value is below a certain threshold (commonly 0.05), it suggests that the time series does not have a unit root and is stationary."
   ]
  },
  {
   "cell_type": "code",
   "execution_count": 65,
   "id": "67a1abb4-ef37-4e2f-9425-2eaaad670d48",
   "metadata": {},
   "outputs": [
    {
     "data": {
      "text/plain": [
       "(-16.793914503098947, 1.2356553069867375e-29)"
      ]
     },
     "execution_count": 65,
     "metadata": {},
     "output_type": "execute_result"
    }
   ],
   "source": [
    "#I will now apply first-order differencing (d=1) and recheck stationarity.\n",
    "# Apply first-order differencing\n",
    "df['Close_Diff'] = df['Close'].diff()\n",
    "\n",
    "# Drop NaN values from differencing\n",
    "df.dropna(inplace=True)\n",
    "\n",
    "# Perform ADF test again on differenced data\n",
    "adf_test_diff = adfuller(df['Close_Diff'])\n",
    "adf_statistic_diff = adf_test_diff[0]\n",
    "p_value_diff = adf_test_diff[1]\n",
    "\n",
    "# Print ADF test results after differencing\n",
    "adf_statistic_diff, p_value_diff"
   ]
  },
  {
   "cell_type": "markdown",
   "id": "f6ef1400-f030-4c6e-a281-c86d997698c3",
   "metadata": {},
   "source": [
    "In an ARIMA (p, d, q) model, 'p' represents the order of the autoregressive model, 'd' the degree of differencing, and 'q' the order of the moving average model. "
   ]
  },
  {
   "cell_type": "code",
   "execution_count": 88,
   "id": "75db2559-6de8-4b19-b46b-ca10a21b9b2d",
   "metadata": {},
   "outputs": [
    {
     "data": {
      "image/png": "[encoded data removed]",
      "text/plain": [
       "<Figure size 1200x500 with 2 Axes>"
      ]
     },
     "metadata": {},
     "output_type": "display_data"
    }
   ],
   "source": [
    "#  I will now plot ACF (Autocorrelation Function) and PACF (Partial Autocorrelation Function) to determine p and q.\n",
    "from statsmodels.graphics.tsaplots import plot_acf, plot_pacf\n",
    "\n",
    "# Plot ACF and PACF\n",
    "fig, axes = plt.subplots(1, 2, figsize=(12, 5))\n",
    "\n",
    "# ACF Plot (Identifies q value)\n",
    "plot_acf(df['Close_Diff'], ax=axes[0])\n",
    "axes[0].set_title('Autocorrelation Function (ACF)')\n",
    "\n",
    "# PACF Plot (Identifies p value)\n",
    "plot_pacf(df['Close_Diff'], ax=axes[1])\n",
    "axes[1].set_title('Partial Autocorrelation Function (PACF)')\n",
    "\n",
    "plt.show()"
   ]
  },
  {
   "cell_type": "code",
   "execution_count": 66,
   "id": "a85ee785-a8bd-413b-b33e-d9649cd02f8c",
   "metadata": {},
   "outputs": [
    {
     "name": "stderr",
     "output_type": "stream",
     "text": [
      "C:\\Users\\Keert\\anaconda3\\Lib\\site-packages\\statsmodels\\tsa\\base\\tsa_model.py:473: ValueWarning:\n",
      "\n",
      "An unsupported index was provided and will be ignored when e.g. forecasting.\n",
      "\n",
      "C:\\Users\\Keert\\anaconda3\\Lib\\site-packages\\statsmodels\\tsa\\base\\tsa_model.py:473: ValueWarning:\n",
      "\n",
      "An unsupported index was provided and will be ignored when e.g. forecasting.\n",
      "\n",
      "C:\\Users\\Keert\\anaconda3\\Lib\\site-packages\\statsmodels\\tsa\\base\\tsa_model.py:473: ValueWarning:\n",
      "\n",
      "An unsupported index was provided and will be ignored when e.g. forecasting.\n",
      "\n"
     ]
    },
    {
     "data": {
      "text/html": [
       "<table class=\"simpletable\">\n",
       "<caption>SARIMAX Results</caption>\n",
       "<tr>\n",
       "  <th>Dep. Variable:</th>      <td>Close_Diff</td>    <th>  No. Observations:  </th>    <td>220</td>   \n",
       "</tr>\n",
       "<tr>\n",
       "  <th>Model:</th>            <td>ARIMA(1, 1, 1)</td>  <th>  Log Likelihood     </th> <td>-1487.463</td>\n",
       "</tr>\n",
       "<tr>\n",
       "  <th>Date:</th>            <td>Wed, 26 Mar 2025</td> <th>  AIC                </th> <td>2980.927</td> \n",
       "</tr>\n",
       "<tr>\n",
       "  <th>Time:</th>                <td>15:57:26</td>     <th>  BIC                </th> <td>2991.094</td> \n",
       "</tr>\n",
       "<tr>\n",
       "  <th>Sample:</th>                  <td>0</td>        <th>  HQIC               </th> <td>2985.033</td> \n",
       "</tr>\n",
       "<tr>\n",
       "  <th></th>                      <td> - 220</td>      <th>                     </th>     <td> </td>    \n",
       "</tr>\n",
       "<tr>\n",
       "  <th>Covariance Type:</th>        <td>opg</td>       <th>                     </th>     <td> </td>    \n",
       "</tr>\n",
       "</table>\n",
       "<table class=\"simpletable\">\n",
       "<tr>\n",
       "     <td></td>       <th>coef</th>     <th>std err</th>      <th>z</th>      <th>P>|z|</th>  <th>[0.025</th>    <th>0.975]</th>  \n",
       "</tr>\n",
       "<tr>\n",
       "  <th>ar.L1</th>  <td>   -0.1337</td> <td>    0.041</td> <td>   -3.249</td> <td> 0.001</td> <td>   -0.214</td> <td>   -0.053</td>\n",
       "</tr>\n",
       "<tr>\n",
       "  <th>ma.L1</th>  <td>   -0.9852</td> <td>    0.019</td> <td>  -52.853</td> <td> 0.000</td> <td>   -1.022</td> <td>   -0.949</td>\n",
       "</tr>\n",
       "<tr>\n",
       "  <th>sigma2</th> <td> 4.568e+04</td> <td> 2658.534</td> <td>   17.184</td> <td> 0.000</td> <td> 4.05e+04</td> <td> 5.09e+04</td>\n",
       "</tr>\n",
       "</table>\n",
       "<table class=\"simpletable\">\n",
       "<tr>\n",
       "  <th>Ljung-Box (L1) (Q):</th>     <td>0.00</td> <th>  Jarque-Bera (JB):  </th> <td>392.95</td>\n",
       "</tr>\n",
       "<tr>\n",
       "  <th>Prob(Q):</th>                <td>0.98</td> <th>  Prob(JB):          </th>  <td>0.00</td> \n",
       "</tr>\n",
       "<tr>\n",
       "  <th>Heteroskedasticity (H):</th> <td>0.52</td> <th>  Skew:              </th>  <td>-0.84</td>\n",
       "</tr>\n",
       "<tr>\n",
       "  <th>Prob(H) (two-sided):</th>    <td>0.01</td> <th>  Kurtosis:          </th>  <td>9.34</td> \n",
       "</tr>\n",
       "</table><br/><br/>Warnings:<br/>[1] Covariance matrix calculated using the outer product of gradients (complex-step)."
      ],
      "text/latex": [
       "\\begin{center}\n",
       "\\begin{tabular}{lclc}\n",
       "\\toprule\n",
       "\\textbf{Dep. Variable:}          &   Close\\_Diff    & \\textbf{  No. Observations:  } &    220      \\\\\n",
       "\\textbf{Model:}                  &  ARIMA(1, 1, 1)  & \\textbf{  Log Likelihood     } & -1487.463   \\\\\n",
       "\\textbf{Date:}                   & Wed, 26 Mar 2025 & \\textbf{  AIC                } &  2980.927   \\\\\n",
       "\\textbf{Time:}                   &     15:57:26     & \\textbf{  BIC                } &  2991.094   \\\\\n",
       "\\textbf{Sample:}                 &        0         & \\textbf{  HQIC               } &  2985.033   \\\\\n",
       "\\textbf{}                        &       - 220      & \\textbf{                     } &             \\\\\n",
       "\\textbf{Covariance Type:}        &       opg        & \\textbf{                     } &             \\\\\n",
       "\\bottomrule\n",
       "\\end{tabular}\n",
       "\\begin{tabular}{lcccccc}\n",
       "                & \\textbf{coef} & \\textbf{std err} & \\textbf{z} & \\textbf{P$> |$z$|$} & \\textbf{[0.025} & \\textbf{0.975]}  \\\\\n",
       "\\midrule\n",
       "\\textbf{ar.L1}  &      -0.1337  &        0.041     &    -3.249  &         0.001        &       -0.214    &       -0.053     \\\\\n",
       "\\textbf{ma.L1}  &      -0.9852  &        0.019     &   -52.853  &         0.000        &       -1.022    &       -0.949     \\\\\n",
       "\\textbf{sigma2} &    4.568e+04  &     2658.534     &    17.184  &         0.000        &     4.05e+04    &     5.09e+04     \\\\\n",
       "\\bottomrule\n",
       "\\end{tabular}\n",
       "\\begin{tabular}{lclc}\n",
       "\\textbf{Ljung-Box (L1) (Q):}     & 0.00 & \\textbf{  Jarque-Bera (JB):  } & 392.95  \\\\\n",
       "\\textbf{Prob(Q):}                & 0.98 & \\textbf{  Prob(JB):          } &  0.00   \\\\\n",
       "\\textbf{Heteroskedasticity (H):} & 0.52 & \\textbf{  Skew:              } & -0.84   \\\\\n",
       "\\textbf{Prob(H) (two-sided):}    & 0.01 & \\textbf{  Kurtosis:          } &  9.34   \\\\\n",
       "\\bottomrule\n",
       "\\end{tabular}\n",
       "%\\caption{SARIMAX Results}\n",
       "\\end{center}\n",
       "\n",
       "Warnings: \\newline\n",
       " [1] Covariance matrix calculated using the outer product of gradients (complex-step)."
      ],
      "text/plain": [
       "<class 'statsmodels.iolib.summary.Summary'>\n",
       "\"\"\"\n",
       "                               SARIMAX Results                                \n",
       "==============================================================================\n",
       "Dep. Variable:             Close_Diff   No. Observations:                  220\n",
       "Model:                 ARIMA(1, 1, 1)   Log Likelihood               -1487.463\n",
       "Date:                Wed, 26 Mar 2025   AIC                           2980.927\n",
       "Time:                        15:57:26   BIC                           2991.094\n",
       "Sample:                             0   HQIC                          2985.033\n",
       "                                - 220                                         \n",
       "Covariance Type:                  opg                                         \n",
       "==============================================================================\n",
       "                 coef    std err          z      P>|z|      [0.025      0.975]\n",
       "------------------------------------------------------------------------------\n",
       "ar.L1         -0.1337      0.041     -3.249      0.001      -0.214      -0.053\n",
       "ma.L1         -0.9852      0.019    -52.853      0.000      -1.022      -0.949\n",
       "sigma2      4.568e+04   2658.534     17.184      0.000    4.05e+04    5.09e+04\n",
       "===================================================================================\n",
       "Ljung-Box (L1) (Q):                   0.00   Jarque-Bera (JB):               392.95\n",
       "Prob(Q):                              0.98   Prob(JB):                         0.00\n",
       "Heteroskedasticity (H):               0.52   Skew:                            -0.84\n",
       "Prob(H) (two-sided):                  0.01   Kurtosis:                         9.34\n",
       "===================================================================================\n",
       "\n",
       "Warnings:\n",
       "[1] Covariance matrix calculated using the outer product of gradients (complex-step).\n",
       "\"\"\""
      ]
     },
     "execution_count": 66,
     "metadata": {},
     "output_type": "execute_result"
    }
   ],
   "source": [
    "#Now, I’ll fit the ARIMA(1,1,1) model and make future stock price predictions! \n",
    "from statsmodels.tsa.arima.model import ARIMA\n",
    "\n",
    "# Define ARIMA model with chosen parameters (p=1, d=1, q=1)\n",
    "#I used Close_Diff instead of Close as ARIMA model needs stationary data\n",
    "model = ARIMA(df['Close_Diff'], order=(1, 1, 1))\n",
    "\n",
    "# Fit the ARIMA model\n",
    "arima_result = model.fit()\n",
    "\n",
    "# Display model summary\n",
    "arima_result.summary()"
   ]
  },
  {
   "cell_type": "code",
   "execution_count": 91,
   "id": "d07c2424-36c6-441d-b10f-023410188e94",
   "metadata": {},
   "outputs": [
    {
     "name": "stderr",
     "output_type": "stream",
     "text": [
      "C:\\Users\\Keert\\anaconda3\\Lib\\site-packages\\statsmodels\\tsa\\base\\tsa_model.py:836: ValueWarning:\n",
      "\n",
      "No supported index is available. Prediction results will be given with an integer index beginning at `start`.\n",
      "\n",
      "C:\\Users\\Keert\\anaconda3\\Lib\\site-packages\\statsmodels\\tsa\\base\\tsa_model.py:836: FutureWarning:\n",
      "\n",
      "No supported index is available. In the next version, calling this method in a model without a supported index will result in an exception.\n",
      "\n"
     ]
    },
    {
     "data": {
      "image/png": "[encoded data removed]",
      "text/plain": [
       "<Figure size 1200x600 with 1 Axes>"
      ]
     },
     "metadata": {},
     "output_type": "display_data"
    }
   ],
   "source": [
    "#Now, I will forecast the next 30 days and plot the predicted values.\n",
    "# Forecast the next 30 days\n",
    "forecast_steps = 30\n",
    "forecast = arima_result.forecast(steps=forecast_steps)\n",
    "\n",
    "# Generate future dates for plotting\n",
    "future_dates = pd.date_range(start=df.index[-1], periods=forecast_steps+1, freq='B')[1:]\n",
    "\n",
    "# Plot the actual vs predicted values\n",
    "plt.figure(figsize=(12, 6))\n",
    "plt.plot(df.index, df['Close'], label='Actual Closing Price', color='blue')\n",
    "plt.plot(future_dates, forecast, label='Forecasted Price (Next 30 Days)', color='red', linestyle='dashed')\n",
    "plt.xlabel('Date')\n",
    "plt.ylabel('Close Price (₹)')\n",
    "plt.title('NIFTY 50 Stock Price Prediction (Next 30 Days)')\n",
    "plt.legend()\n",
    "plt.grid()\n",
    "plt.show()\n"
   ]
  },
  {
   "cell_type": "markdown",
   "id": "19889cdf-d0df-4e8f-912b-76e7e8a54081",
   "metadata": {},
   "source": [
    "### NOTE: ARIMA model is good for stationary time series data. In Stock Market as the data is not stationary the data is higly volatile and non-linear"
   ]
  },
  {
   "cell_type": "markdown",
   "id": "c59fee19-613a-46be-80fb-0e401b232fee",
   "metadata": {},
   "source": [
    "When to Use What?\n",
    "\n",
    "✅ Use LSTM if:\n",
    "- You need to predict future stock prices or trends.\n",
    "- Your data has long-term dependencies and non-linear relationships.\n",
    "- You have a large dataset for training.\n",
    "\n",
    "✅ Use GARCH if:\n",
    "- You need to forecast volatility (not price).\n",
    "- Your time series exhibits heteroskedasticity (changing variance over time).\n",
    "- You are dealing with financial risk management.\n"
   ]
  },
  {
   "cell_type": "markdown",
   "id": "4d2706ee-66a0-4cf8-ad5f-155828d3ae95",
   "metadata": {},
   "source": [
    "#### 9. Let's use LSTM model\n",
    "LSTM, short for Long Short-term Memory, is an extremely powerful algorithm for time series. It can capture historical trend patterns, and predict future values with high accuracy.\n",
    "\n",
    "Long Short-Term Memory (LSTM) is a type of neural network that can learn and retain information over time. It's used to process and classify sequential data. \n",
    "\n",
    "RNN, short for Recurrent Neural Network, is a type of neural network architecture designed to process sequential data, such as text or time series, by maintaining an internal state that remembers past inputs, allowing it to learn patterns and dependencies within sequences. \n",
    "\n",
    "LSTM is a type of RNN with higher memory power to remember the outputs of each node for a more extended period to produce the outcome for the next node efficiently. LSTM networks combat the RNN's vanishing gradients or long-term dependence issue."
   ]
  },
  {
   "cell_type": "code",
   "execution_count": 1,
   "id": "7d949ce3-af77-45c7-8c8d-57174ca7c215",
   "metadata": {},
   "outputs": [],
   "source": [
    "import numpy as np\n",
    "import pandas as pd\n",
    "import matplotlib.pyplot as plt\n",
    "from sklearn.preprocessing import MinMaxScaler\n",
    "import tensorflow as tf\n",
    "from tensorflow.keras.models import Sequential\n",
    "from tensorflow.keras.layers import LSTM, Dense, Dropout"
   ]
  },
  {
   "cell_type": "code",
   "execution_count": 2,
   "id": "581b33a7-8f08-4417-82c0-e0782820ac2c",
   "metadata": {},
   "outputs": [],
   "source": [
    "import pandas as pd\n",
    "import numpy as np\n",
    "from sklearn.model_selection import train_test_split\n",
    "\n",
    "df = pd.read_csv(\"NIFTY 50-12-03-2024-to-12-03-2025.csv\")\n",
    "indices = np.arange(len(df))\n",
    "indices_train, indices_test = train_test_split(indices, test_size = 0.3)\n",
    "df_train = df.iloc[indices_train]\n",
    "df_test = df.iloc[indices_test]\n",
    "df_train.to_csv(\"NIFTY_train.csv\")\n",
    "df_test.to_csv(\"NIFTY_test.csv\")"
   ]
  },
  {
   "cell_type": "code",
   "execution_count": 3,
   "id": "4062dfeb-b020-403a-b529-fbc7948eefa8",
   "metadata": {},
   "outputs": [
    {
     "name": "stdout",
     "output_type": "stream",
     "text": [
      "<class 'pandas.core.frame.DataFrame'>\n",
      "RangeIndex: 174 entries, 0 to 173\n",
      "Data columns (total 8 columns):\n",
      " #   Column           Non-Null Count  Dtype  \n",
      "---  ------           --------------  -----  \n",
      " 0   Unnamed: 0       174 non-null    int64  \n",
      " 1   Date             174 non-null    object \n",
      " 2   Open             174 non-null    float64\n",
      " 3   High             174 non-null    float64\n",
      " 4   Low              174 non-null    float64\n",
      " 5   Close            174 non-null    float64\n",
      " 6   Shares Traded    173 non-null    float64\n",
      " 7   Turnover (₹ Cr)  173 non-null    float64\n",
      "dtypes: float64(6), int64(1), object(1)\n",
      "memory usage: 11.0+ KB\n"
     ]
    }
   ],
   "source": [
    "NIFTY50=pd.read_csv(\"NIFTY_train.csv\",parse_dates=True)\n",
    "NIFTY50.info()"
   ]
  },
  {
   "cell_type": "code",
   "execution_count": 4,
   "id": "46b08f98-65f7-4d17-a09c-3827cb6ab344",
   "metadata": {},
   "outputs": [
    {
     "data": {
      "text/plain": [
       "Index(['Unnamed: 0', 'Date', 'Open', 'High', 'Low', 'Close', 'Shares Traded',\n",
       "       'Turnover (₹ Cr)'],\n",
       "      dtype='object')"
      ]
     },
     "execution_count": 4,
     "metadata": {},
     "output_type": "execute_result"
    }
   ],
   "source": [
    "NIFTY50.columns=NIFTY50.columns.str.strip()\n",
    "NIFTY50.columns"
   ]
  },
  {
   "cell_type": "code",
   "execution_count": 5,
   "id": "9bbb75da-08e8-4b66-9ea8-fd53e5960e1c",
   "metadata": {},
   "outputs": [
    {
     "data": {
      "text/plain": [
       "Index(['Unnamed: 0', 'Date', 'Open', 'High', 'Low', 'Close', 'Shares Traded',\n",
       "       'Turnover (₹ Cr)'],\n",
       "      dtype='object')"
      ]
     },
     "execution_count": 5,
     "metadata": {},
     "output_type": "execute_result"
    }
   ],
   "source": [
    "NIFTY50.columns"
   ]
  },
  {
   "cell_type": "code",
   "execution_count": 6,
   "id": "9765b828-6389-429e-b0ac-f4c60e7d6a2f",
   "metadata": {},
   "outputs": [
    {
     "data": {
      "text/plain": [
       "array([[24410.9 ],\n",
       "       [22314.7 ],\n",
       "       [24874.7 ],\n",
       "       [24079.7 ],\n",
       "       [22185.2 ],\n",
       "       [24204.05],\n",
       "       [24896.8 ],\n",
       "       [23484.15],\n",
       "       [24073.9 ],\n",
       "       [23318.3 ],\n",
       "       [21931.7 ],\n",
       "       [25285.55],\n",
       "       [23976.  ],\n",
       "       [21964.6 ],\n",
       "       [23050.  ],\n",
       "       [22384.  ],\n",
       "       [25008.15],\n",
       "       [22503.75],\n",
       "       [23670.45],\n",
       "       [23100.35],\n",
       "       [24979.4 ],\n",
       "       [22858.5 ],\n",
       "       [23556.25],\n",
       "       [24172.6 ],\n",
       "       [25739.2 ],\n",
       "       [23316.3 ],\n",
       "       [23062.3 ],\n",
       "       [24753.15],\n",
       "       [24307.25],\n",
       "       [24587.65],\n",
       "       [23842.75],\n",
       "       [25199.4 ],\n",
       "       [23170.65],\n",
       "       [25871.35],\n",
       "       [24774.6 ],\n",
       "       [24366.3 ],\n",
       "       [24184.9 ],\n",
       "       [22976.85],\n",
       "       [22986.65],\n",
       "       [23350.4 ],\n",
       "       [24145.65],\n",
       "       [24066.65],\n",
       "       [24522.95],\n",
       "       [25352.25],\n",
       "       [24510.65],\n",
       "       [23927.15],\n",
       "       [24679.6 ],\n",
       "       [21916.55],\n",
       "       [22004.7 ],\n",
       "       [22303.8 ],\n",
       "       [24311.2 ],\n",
       "       [21793.1 ],\n",
       "       [24964.65],\n",
       "       [24583.85],\n",
       "       [22774.85],\n",
       "       [23653.6 ],\n",
       "       [23047.25],\n",
       "       [23464.8 ],\n",
       "       [24331.9 ],\n",
       "       [24168.85],\n",
       "       [22857.65],\n",
       "       [24947.7 ],\n",
       "       [24008.65],\n",
       "       [23873.35],\n",
       "       [24920.05],\n",
       "       [23992.7 ],\n",
       "       [22081.25],\n",
       "       [24856.5 ],\n",
       "       [24125.4 ],\n",
       "       [23398.2 ],\n",
       "       [24210.8 ],\n",
       "       [25292.45],\n",
       "       [22345.65],\n",
       "       [24504.45],\n",
       "       [22470.05],\n",
       "       [22577.45],\n",
       "       [23139.2 ],\n",
       "       [23893.7 ],\n",
       "       [22348.05],\n",
       "       [24074.2 ],\n",
       "       [22232.05],\n",
       "       [22725.45],\n",
       "       [22786.9 ],\n",
       "       [22976.5 ],\n",
       "       [24134.9 ],\n",
       "       [22798.35],\n",
       "       [23685.15],\n",
       "       [25847.35],\n",
       "       [24180.8 ],\n",
       "       [23960.4 ],\n",
       "       [23344.35],\n",
       "       [24207.1 ],\n",
       "       [23227.15],\n",
       "       [21941.3 ],\n",
       "       [23277.4 ],\n",
       "       [25235.8 ],\n",
       "       [22417.  ],\n",
       "       [23800.6 ],\n",
       "       [22518.8 ],\n",
       "       [22427.6 ],\n",
       "       [22385.55],\n",
       "       [24303.45],\n",
       "       [23263.15],\n",
       "       [24281.  ],\n",
       "       [22673.7 ],\n",
       "       [25794.1 ],\n",
       "       [21821.05],\n",
       "       [23272.05],\n",
       "       [24240.55],\n",
       "       [24607.2 ],\n",
       "       [21917.5 ],\n",
       "       [24686.85],\n",
       "       [25127.75],\n",
       "       [24331.15],\n",
       "       [24956.4 ],\n",
       "       [23412.9 ],\n",
       "       [24601.75],\n",
       "       [24179.05],\n",
       "       [21950.3 ],\n",
       "       [22104.85],\n",
       "       [24099.7 ],\n",
       "       [23509.6 ],\n",
       "       [22720.3 ],\n",
       "       [22568.4 ],\n",
       "       [23442.6 ],\n",
       "       [24445.8 ],\n",
       "       [22981.3 ],\n",
       "       [22992.2 ],\n",
       "       [25376.05],\n",
       "       [24966.8 ],\n",
       "       [23751.55],\n",
       "       [22198.15],\n",
       "       [24567.65],\n",
       "       [24307.3 ],\n",
       "       [24620.5 ],\n",
       "       [22346.5 ],\n",
       "       [24973.65],\n",
       "       [24193.75],\n",
       "       [24204.5 ],\n",
       "       [22163.6 ],\n",
       "       [23295.95],\n",
       "       [22801.5 ],\n",
       "       [25230.3 ],\n",
       "       [23334.25],\n",
       "       [23350.  ],\n",
       "       [24295.55],\n",
       "       [24771.65],\n",
       "       [22908.  ],\n",
       "       [22305.25],\n",
       "       [21947.55],\n",
       "       [22404.55],\n",
       "       [24341.2 ],\n",
       "       [23090.65],\n",
       "       [22567.85],\n",
       "       [22388.15],\n",
       "       [22245.85],\n",
       "       [23499.7 ],\n",
       "       [24522.75],\n",
       "       [23423.15],\n",
       "       [24801.3 ],\n",
       "       [22054.55],\n",
       "       [23134.15],\n",
       "       [23816.15],\n",
       "       [22427.75],\n",
       "       [21905.65],\n",
       "       [22151.75],\n",
       "       [21791.95],\n",
       "       [22513.9 ],\n",
       "       [23353.9 ],\n",
       "       [21961.7 ],\n",
       "       [24580.05],\n",
       "       [23870.3 ],\n",
       "       [24135.45]])"
      ]
     },
     "execution_count": 6,
     "metadata": {},
     "output_type": "execute_result"
    }
   ],
   "source": [
    "NIFTY50['Close']=pd.to_numeric(NIFTY50['Close'],errors='coerce')\n",
    "NIFTY50=NIFTY50.dropna()\n",
    "trainData=NIFTY50.iloc[:,4:5].values\n",
    "trainData"
   ]
  },
  {
   "cell_type": "code",
   "execution_count": 7,
   "id": "688f6334-af67-4bbf-b0f7-e98ec00825a1",
   "metadata": {},
   "outputs": [
    {
     "data": {
      "text/plain": [
       "(173, 1)"
      ]
     },
     "execution_count": 7,
     "metadata": {},
     "output_type": "execute_result"
    }
   ],
   "source": [
    "from sklearn.preprocessing import MinMaxScaler\n",
    "\n",
    "sc=MinMaxScaler()\n",
    "trainData=sc.fit_transform(trainData)\n",
    "trainData.shape"
   ]
  },
  {
   "cell_type": "markdown",
   "id": "d9d16790-07f2-42ff-a670-4b246a0d9d89",
   "metadata": {},
   "source": [
    "__When constructing X_train, you typically append past timestep values for each training instance. This means each sample in X_train contains timestep historical values of the stock price to predict the next price (y_train).__"
   ]
  },
  {
   "cell_type": "code",
   "execution_count": 9,
   "id": "eb2d4693-4835-4b5a-b9d9-cc82b0aecbac",
   "metadata": {},
   "outputs": [],
   "source": [
    "#X_train and y_train represent the inputs and outputs of the training data subset\n",
    "X_train=[]\n",
    "y_train=[]\n",
    "\n",
    "#In time series forecasting with LSTM, the timestep represents how many past observations you use to predict the next value.\n",
    "for i in range(60,173):\n",
    "    X_train.append(trainData[i-60:i,0])\n",
    "    y_train.append(trainData[i,0])\n",
    "\n",
    "X_train,y_train=np.array(X_train),np.array(y_train)"
   ]
  },
  {
   "cell_type": "markdown",
   "id": "7e84a1c9-dd28-4954-b219-f8e9cc99a43c",
   "metadata": {},
   "source": [
    "#### 1. Why is reshaping needed?\n",
    "- LSTM networks in Keras/TensorFlow expect input in the shape:\n",
    "   (samples, timesteps, features)\n",
    "    where,\n",
    "      samples = total training sequences (number of rows in X_train)\n",
    "      timesteps = number of past days used (e.g., 60)\n",
    "      features = number of features per timestep (e.g., closing price → 1 feature)\n"
   ]
  },
  {
   "cell_type": "code",
   "execution_count": 10,
   "id": "60d93b09-55ba-4488-959a-d52d1d353573",
   "metadata": {},
   "outputs": [
    {
     "data": {
      "text/plain": [
       "(113, 60, 1)"
      ]
     },
     "execution_count": 10,
     "metadata": {},
     "output_type": "execute_result"
    }
   ],
   "source": [
    "#X_train.shape[0] → Number of training samples (total sequences)\n",
    "#X_train.shape[1] → Number of timesteps (e.g., past 60 days)\n",
    "X_train=np.reshape(X_train,(X_train.shape[0],X_train.shape[1],1)) #adding batch_size axis,\n",
    "X_train.shape"
   ]
  },
  {
   "cell_type": "code",
   "execution_count": 11,
   "id": "57e3ef41-2001-4785-b6d6-9fd4b0ab545e",
   "metadata": {},
   "outputs": [
    {
     "name": "stderr",
     "output_type": "stream",
     "text": [
      "C:\\Users\\Keert\\anaconda3\\envs\\JupyterNotebook-IntWebAppEnv\\Lib\\site-packages\\keras\\src\\layers\\rnn\\rnn.py:200: UserWarning: Do not pass an `input_shape`/`input_dim` argument to a layer. When using Sequential models, prefer using an `Input(shape)` object as the first layer in the model instead.\n",
      "  super().__init__(**kwargs)\n"
     ]
    }
   ],
   "source": [
    "model=Sequential()\n",
    "\n",
    "model.add(LSTM(units=100,return_sequences=True,input_shape=(X_train.shape[1],1)))\n",
    "model.add(Dropout(0.2))\n",
    "\n",
    "model.add(LSTM(units=100,return_sequences=True))\n",
    "model.add(Dropout(0.2))\n",
    "model.add(LSTM(units=100,return_sequences=True))\n",
    "model.add(Dropout(0.2))\n",
    "model.add(LSTM(units=100,return_sequences=True))\n",
    "model.add(Dropout(0.2))\n",
    "\n",
    "model.add(Dense(units=1))\n",
    "model.compile(optimizer='adam',loss='mean_squared_error')"
   ]
  },
  {
   "cell_type": "markdown",
   "id": "ec1c1211-b499-4f4b-8610-391b653737aa",
   "metadata": {},
   "source": [
    "#### LSTM(units=100, return_sequences=True, input_shape=(X_train.shape[1],1))\n",
    "\n",
    "**units=100** → The LSTM layer has 100 memory units (neurons).\n",
    "\n",
    "**return_sequences=True** → Ensures that the output is a sequence, allowing the next LSTM layer to process it.\n",
    "\n",
    "**input_shape=(X_train.shape[1],1)** → Defines the input shape:\n",
    "\n",
    "**X_train.shape[1]** → Number of timesteps (e.g., 60 past days).\n",
    "\n",
    "**1** → Number of features per timestep (closing price).\n",
    "\n",
    "**Dropout(0.2)** -> Helps prevent overfitting by randomly setting 20% of neurons to zero during training.\n",
    "\n",
    "\n",
    "#### Output Layer\n",
    "\n",
    "Dense Layer (Fully Connected Layer)\n",
    "\n",
    "**units=1** → The output is one value (the predicted stock price).\n",
    "\n"
   ]
  },
  {
   "cell_type": "code",
   "execution_count": 12,
   "id": "5a1b085f-18cc-4de9-808c-79d17504cf0c",
   "metadata": {},
   "outputs": [
    {
     "name": "stdout",
     "output_type": "stream",
     "text": [
      "Epoch 1/20\n",
      "4/4 - 6s - 2s/step - loss: 0.1627\n",
      "Epoch 2/20\n",
      "4/4 - 0s - 107ms/step - loss: 0.1002\n",
      "Epoch 3/20\n",
      "4/4 - 0s - 92ms/step - loss: 0.0907\n",
      "Epoch 4/20\n",
      "4/4 - 0s - 99ms/step - loss: 0.0848\n",
      "Epoch 5/20\n",
      "4/4 - 0s - 96ms/step - loss: 0.0776\n",
      "Epoch 6/20\n",
      "4/4 - 0s - 95ms/step - loss: 0.0799\n",
      "Epoch 7/20\n",
      "4/4 - 0s - 94ms/step - loss: 0.0765\n",
      "Epoch 8/20\n",
      "4/4 - 0s - 93ms/step - loss: 0.0744\n",
      "Epoch 9/20\n",
      "4/4 - 0s - 94ms/step - loss: 0.0731\n",
      "Epoch 10/20\n",
      "4/4 - 0s - 97ms/step - loss: 0.0731\n",
      "Epoch 11/20\n",
      "4/4 - 0s - 94ms/step - loss: 0.0721\n",
      "Epoch 12/20\n",
      "4/4 - 0s - 92ms/step - loss: 0.0714\n",
      "Epoch 13/20\n",
      "4/4 - 0s - 105ms/step - loss: 0.0720\n",
      "Epoch 14/20\n",
      "4/4 - 0s - 93ms/step - loss: 0.0710\n",
      "Epoch 15/20\n",
      "4/4 - 0s - 93ms/step - loss: 0.0711\n",
      "Epoch 16/20\n",
      "4/4 - 0s - 104ms/step - loss: 0.0706\n",
      "Epoch 17/20\n",
      "4/4 - 0s - 96ms/step - loss: 0.0705\n",
      "Epoch 18/20\n",
      "4/4 - 0s - 107ms/step - loss: 0.0693\n",
      "Epoch 19/20\n",
      "4/4 - 0s - 97ms/step - loss: 0.0702\n",
      "Epoch 20/20\n",
      "4/4 - 0s - 101ms/step - loss: 0.0693\n"
     ]
    }
   ],
   "source": [
    "hist=model.fit(X_train,y_train,epochs=20,batch_size=32,verbose=2)"
   ]
  },
  {
   "cell_type": "code",
   "execution_count": 14,
   "id": "a1a90ec8-0ef8-4963-9e01-4a6f65968e57",
   "metadata": {},
   "outputs": [
    {
     "data": {
      "image/png": "[encoded data removed]",
      "text/plain": [
       "<Figure size 640x480 with 1 Axes>"
      ]
     },
     "metadata": {},
     "output_type": "display_data"
    }
   ],
   "source": [
    "plt.plot(hist.history['loss'])\n",
    "plt.title(\"Training model loss\")\n",
    "plt.ylabel('loss')\n",
    "plt.xlabel('epoch')\n",
    "plt.legend(['train'],loc='upper left')\n",
    "plt.show()"
   ]
  },
  {
   "cell_type": "code",
   "execution_count": 34,
   "id": "6c9dd56d-0639-40a4-9ce1-89cf0a006ba2",
   "metadata": {},
   "outputs": [
    {
     "data": {
      "text/plain": [
       "(15, 60, 1)"
      ]
     },
     "execution_count": 34,
     "metadata": {},
     "output_type": "execute_result"
    }
   ],
   "source": [
    "#read the test csv file \n",
    "testData=pd.read_csv('NIFTY_test.csv')\n",
    "\n",
    "#strip the column names as they have spaces\n",
    "testData.columns=testData.columns.str.strip()\n",
    "\n",
    "#Convert the Close Column to numeric\n",
    "testData['Close']=pd.to_numeric(testData.Close,errors='coerce')\n",
    "\n",
    "#drop the null values\n",
    "testData=testData.dropna()\n",
    "\n",
    "#this will consider the Close Column\n",
    "testData=testData.iloc[:,4:5]\n",
    "\n",
    "y_test=testData.iloc[60:,0:].values\n",
    "\n",
    "#input array for the model\n",
    "inputClosing=testData.iloc[:,0:].values\n",
    "\n",
    "inputClosing_scaled=sc.transform(inputClosing)\n",
    "inputClosing_scaled.shape\n",
    "\n",
    "X_test=[]\n",
    "length=len(testData)\n",
    "timestep=60\n",
    "\n",
    "for i in range(timestep,length):\n",
    "    X_test.append(inputClosing_scaled[i-timestep:i,0])\n",
    "X_test=np.array(X_test)\n",
    "X_test=np.reshape(X_test,(X_test.shape[0],X_test.shape[1],1))\n",
    "X_test.shape"
   ]
  },
  {
   "cell_type": "code",
   "execution_count": 41,
   "id": "83db6249-31a9-4f23-9bc3-39c0af6825ac",
   "metadata": {},
   "outputs": [
    {
     "data": {
      "text/plain": [
       "(15, 1)"
      ]
     },
     "execution_count": 41,
     "metadata": {},
     "output_type": "execute_result"
    }
   ],
   "source": [
    "y_test.shape"
   ]
  },
  {
   "cell_type": "code",
   "execution_count": 36,
   "id": "d0242764-6dd9-4c01-ad34-2868321d66d9",
   "metadata": {},
   "outputs": [
    {
     "name": "stdout",
     "output_type": "stream",
     "text": [
      "<class 'pandas.core.frame.DataFrame'>\n",
      "RangeIndex: 75 entries, 0 to 74\n",
      "Data columns (total 1 columns):\n",
      " #   Column  Non-Null Count  Dtype  \n",
      "---  ------  --------------  -----  \n",
      " 0   Low     75 non-null     float64\n",
      "dtypes: float64(1)\n",
      "memory usage: 732.0 bytes\n"
     ]
    }
   ],
   "source": [
    "testData.info()"
   ]
  },
  {
   "cell_type": "code",
   "execution_count": 37,
   "id": "9299b257-40f3-420c-836f-ac04f4a4142b",
   "metadata": {},
   "outputs": [
    {
     "name": "stdout",
     "output_type": "stream",
     "text": [
      "\u001b[1m1/1\u001b[0m \u001b[32m━━━━━━━━━━━━━━━━━━━━\u001b[0m\u001b[37m\u001b[0m \u001b[1m0s\u001b[0m 84ms/step\n"
     ]
    },
    {
     "data": {
      "text/plain": [
       "array([[[0.11011592],\n",
       "        [0.18341252],\n",
       "        [0.2464639 ],\n",
       "        [0.29924506],\n",
       "        [0.34124917],\n",
       "        [0.37215596],\n",
       "        [0.39373317],\n",
       "        [0.4085295 ],\n",
       "        [0.4174897 ],\n",
       "        [0.4219038 ],\n",
       "        [0.42251024],\n",
       "        [0.42055535],\n",
       "        [0.41783267],\n",
       "        [0.4152259 ],\n",
       "        [0.41377944],\n",
       "        [0.412892  ],\n",
       "        [0.4124605 ],\n",
       "        [0.41207737],\n",
       "        [0.41183212],\n",
       "        [0.41284853],\n",
       "        [0.41545463],\n",
       "        [0.41986996],\n",
       "        [0.4243817 ],\n",
       "        [0.42699185],\n",
       "        [0.42747235],\n",
       "        [0.42568535],\n",
       "        [0.421746  ],\n",
       "        [0.41658717],\n",
       "        [0.4106824 ],\n",
       "        [0.40454894],\n",
       "        [0.39851442],\n",
       "        [0.39299613],\n",
       "        [0.38877866],\n",
       "        [0.38629347],\n",
       "        [0.38513136],\n",
       "        [0.38545623],\n",
       "        [0.3882695 ],\n",
       "        [0.3933013 ],\n",
       "        [0.39873797],\n",
       "        [0.4028672 ],\n",
       "        [0.40499768],\n",
       "        [0.40502572],\n",
       "        [0.40395808],\n",
       "        [0.4033999 ],\n",
       "        [0.4041057 ],\n",
       "        [0.40563655],\n",
       "        [0.40742952],\n",
       "        [0.40852717],\n",
       "        [0.40930656],\n",
       "        [0.4099069 ],\n",
       "        [0.41046515],\n",
       "        [0.4113872 ],\n",
       "        [0.41313675],\n",
       "        [0.41591087],\n",
       "        [0.4182556 ],\n",
       "        [0.41974914],\n",
       "        [0.4198862 ],\n",
       "        [0.41963217],\n",
       "        [0.41978943],\n",
       "        [0.4202857 ]],\n",
       "\n",
       "       [[0.11045852],\n",
       "        [0.18374917],\n",
       "        [0.24701911],\n",
       "        [0.29912883],\n",
       "        [0.33931246],\n",
       "        [0.36908245],\n",
       "        [0.3908756 ],\n",
       "        [0.40560836],\n",
       "        [0.41461873],\n",
       "        [0.4187446 ],\n",
       "        [0.41936445],\n",
       "        [0.41841936],\n",
       "        [0.4169386 ],\n",
       "        [0.4161062 ],\n",
       "        [0.4154472 ],\n",
       "        [0.41497138],\n",
       "        [0.41436496],\n",
       "        [0.41379344],\n",
       "        [0.41443756],\n",
       "        [0.41666704],\n",
       "        [0.42073038],\n",
       "        [0.42493317],\n",
       "        [0.42728677],\n",
       "        [0.42756498],\n",
       "        [0.42562655],\n",
       "        [0.42158082],\n",
       "        [0.4163539 ],\n",
       "        [0.41041148],\n",
       "        [0.4042641 ],\n",
       "        [0.39823276],\n",
       "        [0.39272982],\n",
       "        [0.38853505],\n",
       "        [0.3860771 ],\n",
       "        [0.3849438 ],\n",
       "        [0.3852975 ],\n",
       "        [0.38813764],\n",
       "        [0.39319414],\n",
       "        [0.3986524 ],\n",
       "        [0.40280032],\n",
       "        [0.40494636],\n",
       "        [0.4049872 ],\n",
       "        [0.4039297 ],\n",
       "        [0.4033795 ],\n",
       "        [0.40409133],\n",
       "        [0.40562716],\n",
       "        [0.40742356],\n",
       "        [0.40852368],\n",
       "        [0.40930468],\n",
       "        [0.40990624],\n",
       "        [0.41046518],\n",
       "        [0.41138774],\n",
       "        [0.4131376 ],\n",
       "        [0.4159119 ],\n",
       "        [0.41825655],\n",
       "        [0.41974986],\n",
       "        [0.41988698],\n",
       "        [0.41963276],\n",
       "        [0.4197899 ],\n",
       "        [0.42028627],\n",
       "        [0.42129293]],\n",
       "\n",
       "       [[0.10981921],\n",
       "        [0.18261433],\n",
       "        [0.24458325],\n",
       "        [0.29442903],\n",
       "        [0.33329153],\n",
       "        [0.36335358],\n",
       "        [0.38534755],\n",
       "        [0.40051597],\n",
       "        [0.4096784 ],\n",
       "        [0.41426295],\n",
       "        [0.4163067 ],\n",
       "        [0.41695914],\n",
       "        [0.41753754],\n",
       "        [0.4177045 ],\n",
       "        [0.41760233],\n",
       "        [0.41703966],\n",
       "        [0.41628727],\n",
       "        [0.4166117 ],\n",
       "        [0.41845128],\n",
       "        [0.42210564],\n",
       "        [0.42591783],\n",
       "        [0.4279241 ],\n",
       "        [0.42790985],\n",
       "        [0.42573786],\n",
       "        [0.42151517],\n",
       "        [0.4161621 ],\n",
       "        [0.41013718],\n",
       "        [0.40394273],\n",
       "        [0.39789253],\n",
       "        [0.39239123],\n",
       "        [0.3882132 ],\n",
       "        [0.38578156],\n",
       "        [0.38468015],\n",
       "        [0.38506803],\n",
       "        [0.38794255],\n",
       "        [0.39303163],\n",
       "        [0.39851987],\n",
       "        [0.40269417],\n",
       "        [0.404863  ],\n",
       "        [0.404923  ],\n",
       "        [0.40388113],\n",
       "        [0.40334383],\n",
       "        [0.4040658 ],\n",
       "        [0.4056092 ],\n",
       "        [0.4074114 ],\n",
       "        [0.40851587],\n",
       "        [0.40930015],\n",
       "        [0.40990397],\n",
       "        [0.4104644 ],\n",
       "        [0.41138783],\n",
       "        [0.4131383 ],\n",
       "        [0.4159128 ],\n",
       "        [0.4182576 ],\n",
       "        [0.41975117],\n",
       "        [0.41988796],\n",
       "        [0.4196336 ],\n",
       "        [0.41979074],\n",
       "        [0.42028686],\n",
       "        [0.42129347],\n",
       "        [0.42227596]],\n",
       "\n",
       "       [[0.1104921 ],\n",
       "        [0.18329117],\n",
       "        [0.24408478],\n",
       "        [0.29331747],\n",
       "        [0.33275324],\n",
       "        [0.36288002],\n",
       "        [0.38484952],\n",
       "        [0.39949793],\n",
       "        [0.40834925],\n",
       "        [0.41358155],\n",
       "        [0.4165023 ],\n",
       "        [0.41859046],\n",
       "        [0.419663  ],\n",
       "        [0.42000532],\n",
       "        [0.4195526 ],\n",
       "        [0.4186818 ],\n",
       "        [0.418745  ],\n",
       "        [0.42024705],\n",
       "        [0.4235372 ],\n",
       "        [0.42699498],\n",
       "        [0.4286801 ],\n",
       "        [0.42839056],\n",
       "        [0.4259938 ],\n",
       "        [0.42159617],\n",
       "        [0.4161134 ],\n",
       "        [0.40999803],\n",
       "        [0.4037459 ],\n",
       "        [0.39766434],\n",
       "        [0.39215165],\n",
       "        [0.38797697],\n",
       "        [0.38555872],\n",
       "        [0.3844772 ],\n",
       "        [0.38488844],\n",
       "        [0.38778752],\n",
       "        [0.39290085],\n",
       "        [0.39841187],\n",
       "        [0.40260687],\n",
       "        [0.40479365],\n",
       "        [0.4048688 ],\n",
       "        [0.40383986],\n",
       "        [0.4033127 ],\n",
       "        [0.404043  ],\n",
       "        [0.40559298],\n",
       "        [0.40740022],\n",
       "        [0.4085086 ],\n",
       "        [0.40929574],\n",
       "        [0.40990138],\n",
       "        [0.4104631 ],\n",
       "        [0.4113876 ],\n",
       "        [0.41313857],\n",
       "        [0.4159134 ],\n",
       "        [0.41825837],\n",
       "        [0.41975182],\n",
       "        [0.41988873],\n",
       "        [0.4196344 ],\n",
       "        [0.41979125],\n",
       "        [0.42028734],\n",
       "        [0.4212939 ],\n",
       "        [0.42227632],\n",
       "        [0.42218047]],\n",
       "\n",
       "       [[0.10925184],\n",
       "        [0.17942455],\n",
       "        [0.23834816],\n",
       "        [0.28734916],\n",
       "        [0.32654855],\n",
       "        [0.35681295],\n",
       "        [0.37877735],\n",
       "        [0.3938607 ],\n",
       "        [0.40421948],\n",
       "        [0.41119742],\n",
       "        [0.4163563 ],\n",
       "        [0.41962475],\n",
       "        [0.4214224 ],\n",
       "        [0.42182457],\n",
       "        [0.42134494],\n",
       "        [0.4214594 ],\n",
       "        [0.42277926],\n",
       "        [0.4257433 ],\n",
       "        [0.4288033 ],\n",
       "        [0.43007427],\n",
       "        [0.42939174],\n",
       "        [0.42664477],\n",
       "        [0.42195186],\n",
       "        [0.41623193],\n",
       "        [0.40993586],\n",
       "        [0.40355396],\n",
       "        [0.3973862 ],\n",
       "        [0.39182398],\n",
       "        [0.38762823],\n",
       "        [0.38521096],\n",
       "        [0.38414565],\n",
       "        [0.3845835 ],\n",
       "        [0.38751546],\n",
       "        [0.39266413],\n",
       "        [0.3982108 ],\n",
       "        [0.40243936],\n",
       "        [0.4046571 ],\n",
       "        [0.40475947],\n",
       "        [0.40375394],\n",
       "        [0.40324652],\n",
       "        [0.40399304],\n",
       "        [0.4055563 ],\n",
       "        [0.40737382],\n",
       "        [0.4084902 ],\n",
       "        [0.40928322],\n",
       "        [0.40989357],\n",
       "        [0.41045853],\n",
       "        [0.4113852 ],\n",
       "        [0.41313773],\n",
       "        [0.41591358],\n",
       "        [0.4182591 ],\n",
       "        [0.41975287],\n",
       "        [0.41988996],\n",
       "        [0.41963562],\n",
       "        [0.41979232],\n",
       "        [0.42028823],\n",
       "        [0.42129478],\n",
       "        [0.422277  ],\n",
       "        [0.422181  ],\n",
       "        [0.41982046]],\n",
       "\n",
       "       [[0.10886206],\n",
       "        [0.17972645],\n",
       "        [0.24066225],\n",
       "        [0.2909051 ],\n",
       "        [0.33081308],\n",
       "        [0.3608018 ],\n",
       "        [0.38228375],\n",
       "        [0.39754188],\n",
       "        [0.40811002],\n",
       "        [0.41576737],\n",
       "        [0.4206585 ],\n",
       "        [0.4234041 ],\n",
       "        [0.42425698],\n",
       "        [0.42387947],\n",
       "        [0.42386645],\n",
       "        [0.424921  ],\n",
       "        [0.42755076],\n",
       "        [0.43025756],\n",
       "        [0.43119025],\n",
       "        [0.43020406],\n",
       "        [0.42719877],\n",
       "        [0.42229515],\n",
       "        [0.4164104 ],\n",
       "        [0.4099905 ],\n",
       "        [0.4035203 ],\n",
       "        [0.39729363],\n",
       "        [0.39169592],\n",
       "        [0.38748255],\n",
       "        [0.3850608 ],\n",
       "        [0.38400042],\n",
       "        [0.384449  ],\n",
       "        [0.3873951 ],\n",
       "        [0.39255968],\n",
       "        [0.39812234],\n",
       "        [0.4023662 ],\n",
       "        [0.4045978 ],\n",
       "        [0.40471226],\n",
       "        [0.40371707],\n",
       "        [0.40321836],\n",
       "        [0.4039719 ],\n",
       "        [0.4055408 ],\n",
       "        [0.40736294],\n",
       "        [0.40848252],\n",
       "        [0.40927812],\n",
       "        [0.4098902 ],\n",
       "        [0.41045666],\n",
       "        [0.41138425],\n",
       "        [0.41313744],\n",
       "        [0.41591364],\n",
       "        [0.4182594 ],\n",
       "        [0.4197533 ],\n",
       "        [0.4198904 ],\n",
       "        [0.419636  ],\n",
       "        [0.4197928 ],\n",
       "        [0.4202887 ],\n",
       "        [0.42129508],\n",
       "        [0.4222772 ],\n",
       "        [0.4221812 ],\n",
       "        [0.41982085],\n",
       "        [0.41562617]],\n",
       "\n",
       "       [[0.11028861],\n",
       "        [0.18402499],\n",
       "        [0.24693581],\n",
       "        [0.2983565 ],\n",
       "        [0.3381515 ],\n",
       "        [0.36754933],\n",
       "        [0.38889498],\n",
       "        [0.40391958],\n",
       "        [0.41466406],\n",
       "        [0.42154673],\n",
       "        [0.42544946],\n",
       "        [0.42685297],\n",
       "        [0.42660975],\n",
       "        [0.4264632 ],\n",
       "        [0.42722914],\n",
       "        [0.42949688],\n",
       "        [0.43182513],\n",
       "        [0.4324    ],\n",
       "        [0.43109715],\n",
       "        [0.42782533],\n",
       "        [0.42270717],\n",
       "        [0.41665602],\n",
       "        [0.41011232],\n",
       "        [0.40355456],\n",
       "        [0.39726928],\n",
       "        [0.39163506],\n",
       "        [0.38740218],\n",
       "        [0.38497287],\n",
       "        [0.38391355],\n",
       "        [0.38436818],\n",
       "        [0.3873231 ],\n",
       "        [0.39249817],\n",
       "        [0.3980712 ],\n",
       "        [0.4023248 ],\n",
       "        [0.40456495],\n",
       "        [0.40468705],\n",
       "        [0.403698  ],\n",
       "        [0.4032044 ],\n",
       "        [0.40396196],\n",
       "        [0.40553373],\n",
       "        [0.4073582 ],\n",
       "        [0.40847942],\n",
       "        [0.40927634],\n",
       "        [0.4098893 ],\n",
       "        [0.4104562 ],\n",
       "        [0.41138414],\n",
       "        [0.41313732],\n",
       "        [0.41591382],\n",
       "        [0.4182596 ],\n",
       "        [0.4197534 ],\n",
       "        [0.41989055],\n",
       "        [0.41963607],\n",
       "        [0.41979304],\n",
       "        [0.42028883],\n",
       "        [0.42129514],\n",
       "        [0.42227727],\n",
       "        [0.4221813 ],\n",
       "        [0.41982085],\n",
       "        [0.4156261 ],\n",
       "        [0.41094726]],\n",
       "\n",
       "       [[0.11059134],\n",
       "        [0.18338135],\n",
       "        [0.24494883],\n",
       "        [0.2945905 ],\n",
       "        [0.33314493],\n",
       "        [0.36271128],\n",
       "        [0.38487172],\n",
       "        [0.40160716],\n",
       "        [0.41333818],\n",
       "        [0.42101082],\n",
       "        [0.42521322],\n",
       "        [0.42693153],\n",
       "        [0.42805263],\n",
       "        [0.42953306],\n",
       "        [0.43209335],\n",
       "        [0.43441147],\n",
       "        [0.4347769 ],\n",
       "        [0.43314892],\n",
       "        [0.42949954],\n",
       "        [0.42399654],\n",
       "        [0.4175835 ],\n",
       "        [0.41071895],\n",
       "        [0.4038903 ],\n",
       "        [0.39738727],\n",
       "        [0.3915868 ],\n",
       "        [0.38723388],\n",
       "        [0.384725  ],\n",
       "        [0.38361937],\n",
       "        [0.38405448],\n",
       "        [0.38701025],\n",
       "        [0.3922005 ],\n",
       "        [0.39779824],\n",
       "        [0.40208203],\n",
       "        [0.4043544 ],\n",
       "        [0.4045084 ],\n",
       "        [0.4035498 ],\n",
       "        [0.40308362],\n",
       "        [0.40386555],\n",
       "        [0.40545824],\n",
       "        [0.40730006],\n",
       "        [0.40843597],\n",
       "        [0.40924442],\n",
       "        [0.4098666 ],\n",
       "        [0.41044056],\n",
       "        [0.4113737 ],\n",
       "        [0.41313097],\n",
       "        [0.41591007],\n",
       "        [0.41825774],\n",
       "        [0.41975307],\n",
       "        [0.4198909 ],\n",
       "        [0.41963702],\n",
       "        [0.41979408],\n",
       "        [0.4202899 ],\n",
       "        [0.4212963 ],\n",
       "        [0.42227826],\n",
       "        [0.42218205],\n",
       "        [0.4198216 ],\n",
       "        [0.41562682],\n",
       "        [0.41094768],\n",
       "        [0.40704685]],\n",
       "\n",
       "       [[0.10905857],\n",
       "        [0.17981526],\n",
       "        [0.23898551],\n",
       "        [0.28697246],\n",
       "        [0.32554808],\n",
       "        [0.35602173],\n",
       "        [0.38017082],\n",
       "        [0.39827284],\n",
       "        [0.41121602],\n",
       "        [0.41960382],\n",
       "        [0.42449766],\n",
       "        [0.42790022],\n",
       "        [0.43090025],\n",
       "        [0.43435866],\n",
       "        [0.43709207],\n",
       "        [0.43752104],\n",
       "        [0.43571877],\n",
       "        [0.43175018],\n",
       "        [0.42585498],\n",
       "        [0.4190297 ],\n",
       "        [0.41176865],\n",
       "        [0.40458277],\n",
       "        [0.3977743 ],\n",
       "        [0.39172506],\n",
       "        [0.38717985],\n",
       "        [0.38453084],\n",
       "        [0.38333133],\n",
       "        [0.38371146],\n",
       "        [0.38664326],\n",
       "        [0.39183325],\n",
       "        [0.39744812],\n",
       "        [0.4017606 ],\n",
       "        [0.4040679 ],\n",
       "        [0.40425947],\n",
       "        [0.40333804],\n",
       "        [0.4029074 ],\n",
       "        [0.40372178],\n",
       "        [0.40534332],\n",
       "        [0.40721023],\n",
       "        [0.40836683],\n",
       "        [0.4091924 ],\n",
       "        [0.40982836],\n",
       "        [0.4104131 ],\n",
       "        [0.41135487],\n",
       "        [0.41311848],\n",
       "        [0.4159023 ],\n",
       "        [0.41825345],\n",
       "        [0.41975105],\n",
       "        [0.41989034],\n",
       "        [0.4196374 ],\n",
       "        [0.41979492],\n",
       "        [0.42029127],\n",
       "        [0.42129767],\n",
       "        [0.42227948],\n",
       "        [0.42218342],\n",
       "        [0.4198226 ],\n",
       "        [0.4156277 ],\n",
       "        [0.41094843],\n",
       "        [0.4070476 ],\n",
       "        [0.40376335]],\n",
       "\n",
       "       [[0.10981553],\n",
       "        [0.18134439],\n",
       "        [0.24160618],\n",
       "        [0.2914435 ],\n",
       "        [0.33164462],\n",
       "        [0.36378545],\n",
       "        [0.3881533 ],\n",
       "        [0.40578857],\n",
       "        [0.41751945],\n",
       "        [0.4246571 ],\n",
       "        [0.4294461 ],\n",
       "        [0.43319145],\n",
       "        [0.4369367 ],\n",
       "        [0.43964854],\n",
       "        [0.4398661 ],\n",
       "        [0.43775067],\n",
       "        [0.43342966],\n",
       "        [0.42718437],\n",
       "        [0.4200361 ],\n",
       "        [0.41249326],\n",
       "        [0.4050719 ],\n",
       "        [0.39807463],\n",
       "        [0.39187986],\n",
       "        [0.38722742],\n",
       "        [0.38450342],\n",
       "        [0.3832548 ],\n",
       "        [0.38360646],\n",
       "        [0.3865253 ],\n",
       "        [0.39171344],\n",
       "        [0.39733398],\n",
       "        [0.40165645],\n",
       "        [0.4039762 ],\n",
       "        [0.40418106],\n",
       "        [0.4032727 ],\n",
       "        [0.4028541 ],\n",
       "        [0.40367928],\n",
       "        [0.4053101 ],\n",
       "        [0.40718463],\n",
       "        [0.40834767],\n",
       "        [0.40917832],\n",
       "        [0.40981835],\n",
       "        [0.4104061 ],\n",
       "        [0.41135022],\n",
       "        [0.4131156 ],\n",
       "        [0.41590047],\n",
       "        [0.41825244],\n",
       "        [0.41975066],\n",
       "        [0.41989034],\n",
       "        [0.41963753],\n",
       "        [0.41979527],\n",
       "        [0.42029157],\n",
       "        [0.42129797],\n",
       "        [0.42227978],\n",
       "        [0.42218354],\n",
       "        [0.4198228 ],\n",
       "        [0.4156279 ],\n",
       "        [0.41094863],\n",
       "        [0.40704757],\n",
       "        [0.40376344],\n",
       "        [0.4018997 ]],\n",
       "\n",
       "       [[0.10920248],\n",
       "        [0.18024969],\n",
       "        [0.2410214 ],\n",
       "        [0.29161686],\n",
       "        [0.33317468],\n",
       "        [0.36572072],\n",
       "        [0.3901931 ],\n",
       "        [0.40743202],\n",
       "        [0.41884324],\n",
       "        [0.42681527],\n",
       "        [0.43281356],\n",
       "        [0.43804625],\n",
       "        [0.4416385 ],\n",
       "        [0.4422778 ],\n",
       "        [0.44025514],\n",
       "        [0.4358065 ],\n",
       "        [0.42929903],\n",
       "        [0.42181867],\n",
       "        [0.4139211 ],\n",
       "        [0.40615478],\n",
       "        [0.39884278],\n",
       "        [0.39237574],\n",
       "        [0.38749775],\n",
       "        [0.3845954 ],\n",
       "        [0.3832131 ],\n",
       "        [0.3834704 ],\n",
       "        [0.38632828],\n",
       "        [0.39148292],\n",
       "        [0.39709112],\n",
       "        [0.40141687],\n",
       "        [0.4037509 ],\n",
       "        [0.4039764 ],\n",
       "        [0.40309206],\n",
       "        [0.40269873],\n",
       "        [0.4035485 ],\n",
       "        [0.40520245],\n",
       "        [0.40709782],\n",
       "        [0.4082789 ],\n",
       "        [0.4091251 ],\n",
       "        [0.40977785],\n",
       "        [0.41037613],\n",
       "        [0.41132832],\n",
       "        [0.41310003],\n",
       "        [0.41589007],\n",
       "        [0.41824558],\n",
       "        [0.41974637],\n",
       "        [0.4198881 ],\n",
       "        [0.4196366 ],\n",
       "        [0.41979527],\n",
       "        [0.42029187],\n",
       "        [0.42129853],\n",
       "        [0.42228064],\n",
       "        [0.42218447],\n",
       "        [0.41982368],\n",
       "        [0.41562867],\n",
       "        [0.41094917],\n",
       "        [0.40704814],\n",
       "        [0.40376407],\n",
       "        [0.40189993],\n",
       "        [0.40232417]],\n",
       "\n",
       "       [[0.10984538],\n",
       "        [0.18270212],\n",
       "        [0.24535856],\n",
       "        [0.29805383],\n",
       "        [0.34028646],\n",
       "        [0.37277773],\n",
       "        [0.39636683],\n",
       "        [0.41259652],\n",
       "        [0.42406437],\n",
       "        [0.43246534],\n",
       "        [0.43923312],\n",
       "        [0.4436982 ],\n",
       "        [0.4447287 ],\n",
       "        [0.44276676],\n",
       "        [0.43816632],\n",
       "        [0.43138498],\n",
       "        [0.42357376],\n",
       "        [0.41533276],\n",
       "        [0.40723982],\n",
       "        [0.39963526],\n",
       "        [0.3929181 ],\n",
       "        [0.3878354 ],\n",
       "        [0.38477194],\n",
       "        [0.38326865],\n",
       "        [0.3834394 ],\n",
       "        [0.3862397 ],\n",
       "        [0.39135987],\n",
       "        [0.39695162],\n",
       "        [0.40127385],\n",
       "        [0.4036132 ],\n",
       "        [0.4038498 ],\n",
       "        [0.40297946],\n",
       "        [0.4026014 ],\n",
       "        [0.4034666 ],\n",
       "        [0.405135  ],\n",
       "        [0.40704337],\n",
       "        [0.40823603],\n",
       "        [0.4090918 ],\n",
       "        [0.40975246],\n",
       "        [0.41035733],\n",
       "        [0.41131476],\n",
       "        [0.41309056],\n",
       "        [0.41588357],\n",
       "        [0.41824147],\n",
       "        [0.41974372],\n",
       "        [0.4198866 ],\n",
       "        [0.4196358 ],\n",
       "        [0.41979495],\n",
       "        [0.42029205],\n",
       "        [0.42129886],\n",
       "        [0.42228097],\n",
       "        [0.4221849 ],\n",
       "        [0.41982403],\n",
       "        [0.41562903],\n",
       "        [0.4109496 ],\n",
       "        [0.4070484 ],\n",
       "        [0.40376413],\n",
       "        [0.40190023],\n",
       "        [0.40232438],\n",
       "        [0.40410158]],\n",
       "\n",
       "       [[0.11050695],\n",
       "        [0.1839549 ],\n",
       "        [0.24761504],\n",
       "        [0.30026764],\n",
       "        [0.3421754 ],\n",
       "        [0.37392437],\n",
       "        [0.3969671 ],\n",
       "        [0.41393134],\n",
       "        [0.42660692],\n",
       "        [0.43656304],\n",
       "        [0.44328415],\n",
       "        [0.4458032 ],\n",
       "        [0.44472632],\n",
       "        [0.44055632],\n",
       "        [0.43387863],\n",
       "        [0.4259499 ],\n",
       "        [0.41745424],\n",
       "        [0.40903366],\n",
       "        [0.40107608],\n",
       "        [0.39401293],\n",
       "        [0.38861305],\n",
       "        [0.38527346],\n",
       "        [0.3835411 ],\n",
       "        [0.3835308 ],\n",
       "        [0.3861951 ],\n",
       "        [0.39121962],\n",
       "        [0.39674994],\n",
       "        [0.40103891],\n",
       "        [0.4033665 ],\n",
       "        [0.4036069 ],\n",
       "        [0.40275106],\n",
       "        [0.40239424],\n",
       "        [0.40328392],\n",
       "        [0.40497798],\n",
       "        [0.4069115 ],\n",
       "        [0.40812752],\n",
       "        [0.40900436],\n",
       "        [0.40968326],\n",
       "        [0.41030362],\n",
       "        [0.41127402],\n",
       "        [0.41306025],\n",
       "        [0.41586167],\n",
       "        [0.418226  ],\n",
       "        [0.4197334 ],\n",
       "        [0.41987988],\n",
       "        [0.4196318 ],\n",
       "        [0.41979286],\n",
       "        [0.42029104],\n",
       "        [0.42129886],\n",
       "        [0.42228153],\n",
       "        [0.4221856 ],\n",
       "        [0.4198248 ],\n",
       "        [0.41562966],\n",
       "        [0.41095024],\n",
       "        [0.40704903],\n",
       "        [0.40376475],\n",
       "        [0.40190062],\n",
       "        [0.40232474],\n",
       "        [0.404102  ],\n",
       "        [0.4062367 ]],\n",
       "\n",
       "       [[0.10989144],\n",
       "        [0.1829882 ],\n",
       "        [0.2454325 ],\n",
       "        [0.29699135],\n",
       "        [0.33786333],\n",
       "        [0.3692171 ],\n",
       "        [0.39350346],\n",
       "        [0.41241053],\n",
       "        [0.42747816],\n",
       "        [0.43821755],\n",
       "        [0.44374606],\n",
       "        [0.44479883],\n",
       "        [0.4420256 ],\n",
       "        [0.43616033],\n",
       "        [0.4285978 ],\n",
       "        [0.4201447 ],\n",
       "        [0.41154623],\n",
       "        [0.40327495],\n",
       "        [0.39582878],\n",
       "        [0.3900251 ],\n",
       "        [0.38629627],\n",
       "        [0.3842123 ],\n",
       "        [0.3839012 ],\n",
       "        [0.38632107],\n",
       "        [0.39115757],\n",
       "        [0.39655295],\n",
       "        [0.40075323],\n",
       "        [0.40303075],\n",
       "        [0.40325123],\n",
       "        [0.40239832],\n",
       "        [0.4020596 ],\n",
       "        [0.4029779 ],\n",
       "        [0.40470636],\n",
       "        [0.40667647],\n",
       "        [0.40792862],\n",
       "        [0.4088395 ],\n",
       "        [0.40954953],\n",
       "        [0.410197  ],\n",
       "        [0.41119078],\n",
       "        [0.41299653],\n",
       "        [0.41581395],\n",
       "        [0.41819125],\n",
       "        [0.41970855],\n",
       "        [0.4198629 ],\n",
       "        [0.41962066],\n",
       "        [0.41978568],\n",
       "        [0.42028722],\n",
       "        [0.42129707],\n",
       "        [0.4222811 ],\n",
       "        [0.4221859 ],\n",
       "        [0.41982573],\n",
       "        [0.41563097],\n",
       "        [0.41095155],\n",
       "        [0.4070503 ],\n",
       "        [0.40376574],\n",
       "        [0.40190163],\n",
       "        [0.40232563],\n",
       "        [0.40410265],\n",
       "        [0.40623727],\n",
       "        [0.40736225]],\n",
       "\n",
       "       [[0.11066791],\n",
       "        [0.18380505],\n",
       "        [0.24622175],\n",
       "        [0.29742736],\n",
       "        [0.33815277],\n",
       "        [0.37061507],\n",
       "        [0.39640197],\n",
       "        [0.4170542 ],\n",
       "        [0.43214944],\n",
       "        [0.44092774],\n",
       "        [0.44428557],\n",
       "        [0.443043  ],\n",
       "        [0.43809825],\n",
       "        [0.4309943 ],\n",
       "        [0.4226649 ],\n",
       "        [0.413961  ],\n",
       "        [0.4054399 ],\n",
       "        [0.3976651 ],\n",
       "        [0.39150265],\n",
       "        [0.38741955],\n",
       "        [0.38500893],\n",
       "        [0.3844134 ],\n",
       "        [0.38659653],\n",
       "        [0.3912456 ],\n",
       "        [0.39650086],\n",
       "        [0.40060344],\n",
       "        [0.40281886],\n",
       "        [0.40300602],\n",
       "        [0.40214136],\n",
       "        [0.40180722],\n",
       "        [0.40274066],\n",
       "        [0.40449125],\n",
       "        [0.40648696],\n",
       "        [0.40776592],\n",
       "        [0.4087028 ],\n",
       "        [0.40943703],\n",
       "        [0.41010636],\n",
       "        [0.41111887],\n",
       "        [0.41294083],\n",
       "        [0.41577172],\n",
       "        [0.41815972],\n",
       "        [0.4196858 ],\n",
       "        [0.4198467 ],\n",
       "        [0.41960958],\n",
       "        [0.41977856],\n",
       "        [0.42028278],\n",
       "        [0.42129457],\n",
       "        [0.42228   ],\n",
       "        [0.42218572],\n",
       "        [0.41982612],\n",
       "        [0.4156316 ],\n",
       "        [0.41095233],\n",
       "        [0.40705118],\n",
       "        [0.40376654],\n",
       "        [0.4019023 ],\n",
       "        [0.4023262 ],\n",
       "        [0.40410307],\n",
       "        [0.40623766],\n",
       "        [0.4073626 ],\n",
       "        [0.4073519 ]]], dtype=float32)"
      ]
     },
     "execution_count": 37,
     "metadata": {},
     "output_type": "execute_result"
    }
   ],
   "source": [
    "y_pred=model.predict(X_test)\n",
    "y_pred"
   ]
  },
  {
   "cell_type": "markdown",
   "id": "a2e858e9-8421-4d9c-b698-28c0171d776d",
   "metadata": {},
   "source": [
    "##### 1️⃣ Why is inverse_transform Needed?\n",
    "When training an LSTM model for stock price prediction, we normalize the stock prices to scale them between 0 and 1.\n",
    "This is done because LSTMs perform better when input values are small and normalized.\n",
    "\n",
    "However, after making predictions, we need to convert the scaled values back to their original stock price range"
   ]
  },
  {
   "cell_type": "code",
   "execution_count": 40,
   "id": "7380947a-9ccf-4df6-94b1-d04aa8d3c376",
   "metadata": {},
   "outputs": [
    {
     "data": {
      "text/plain": [
       "(900, 1)"
      ]
     },
     "execution_count": 40,
     "metadata": {},
     "output_type": "execute_result"
    }
   ],
   "source": [
    "predicted_price = sc.inverse_transform(y_pred.reshape(-1, 1))  # Shape: (40, 1)\n",
    "predicted_price.shape"
   ]
  },
  {
   "cell_type": "code",
   "execution_count": 39,
   "id": "279eb137-3b50-4a2c-b2a7-55b7d70acc8b",
   "metadata": {},
   "outputs": [
    {
     "data": {
      "image/png": "[encoded data removed]",
      "text/plain": [
       "<Figure size 640x480 with 1 Axes>"
      ]
     },
     "metadata": {},
     "output_type": "display_data"
    }
   ],
   "source": [
    "plt.plot(y_test,color='red',label='Actual Stock Price')\n",
    "plt.plot(predicted_price,color='green',label='Predicted Stock Price')\n",
    "plt.title('NIFTY 50 stock price prediction')\n",
    "plt.xlabel('Time')\n",
    "plt.ylabel('Stock Price')\n",
    "plt.legend()\n",
    "plt.show()"
   ]
  },
  {
   "cell_type": "code",
   "execution_count": null,
   "id": "c91dec7f-8905-46db-973a-0b05db1ab849",
   "metadata": {},
   "outputs": [],
   "source": []
  }
 ],
 "metadata": {
  "kernelspec": {
   "display_name": "Python 3 (ipykernel)",
   "language": "python",
   "name": "python3"
  },
  "language_info": {
   "codemirror_mode": {
    "name": "ipython",
    "version": 3
   },
   "file_extension": ".py",
   "mimetype": "text/x-python",
   "name": "python",
   "nbconvert_exporter": "python",
   "pygments_lexer": "ipython3",
   "version": "3.11.11"
  }
 },
 "nbformat": 4,
 "nbformat_minor": 5
}
