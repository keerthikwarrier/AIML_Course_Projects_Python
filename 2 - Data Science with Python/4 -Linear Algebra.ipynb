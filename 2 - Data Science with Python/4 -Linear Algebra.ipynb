{
 "cells": [
  {
   "cell_type": "markdown",
   "id": "d1a4d90f-24cd-455d-b5cc-399b1af766bc",
   "metadata": {},
   "source": [
    "# Linear Algebra\n",
    "- While building ML models, a need to reduce dimensions of data or choose the right hyperpaameters arises. Linear Algebra comes to picture here.\n",
    "\n",
    "- Dot product of 2 vectors is the sum of the product of the corresponding elements of 2 vectors and output is a scalar\n",
    "    - x.y=x_1y_1+x_2y_2+x_3y_3......x_ny_n\n",
    "\n",
    "- Matrix Representation of dot product\n",
    "    - The dot product of vectors are easily computed if vectors are represented by row or column matrices."
   ]
  },
  {
   "cell_type": "markdown",
   "id": "485a8946-b718-4a78-8f12-2a1d753d78c4",
   "metadata": {},
   "source": [
    "### Python code for dot product"
   ]
  },
  {
   "cell_type": "code",
   "execution_count": 2,
   "id": "9e612d9f-89a4-4554-b827-ad56df022a93",
   "metadata": {},
   "outputs": [
    {
     "data": {
      "text/plain": [
       "5"
      ]
     },
     "execution_count": 2,
     "metadata": {},
     "output_type": "execute_result"
    }
   ],
   "source": [
    "def dot_product(x,y):\n",
    "    return sum(i*j for i,j in zip(x,y,strict=True))\n",
    "\n",
    "dot_product([3,2,6],[1,7,-2])"
   ]
  },
  {
   "cell_type": "markdown",
   "id": "6b74b72e-0915-41f2-adb2-492337c4aade",
   "metadata": {},
   "source": [
    "### Linear Independence of Vectors\n",
    "- Vectors are considered linearly independent if no vector in the set is expressed as a linear combination of the vectors in the same set."
   ]
  },
  {
   "cell_type": "markdown",
   "id": "decb8948-4c4f-434d-8ab9-93178989865c",
   "metadata": {},
   "source": [
    "### Norm of a vector\n",
    "- Norm of the vector is its length  ||v||=sqrt(v.v)"
   ]
  },
  {
   "cell_type": "markdown",
   "id": "7d99b0eb-9b54-4f0e-ae81-040b7cbf01dc",
   "metadata": {},
   "source": [
    "### Python code for Norm"
   ]
  },
  {
   "cell_type": "code",
   "execution_count": 3,
   "id": "80d28a31-341c-46ca-871f-000cfcdcf13c",
   "metadata": {},
   "outputs": [
    {
     "data": {
      "text/plain": [
       "7.0"
      ]
     },
     "execution_count": 3,
     "metadata": {},
     "output_type": "execute_result"
    }
   ],
   "source": [
    "import math\n",
    "def Norm(v):\n",
    "    dot_product=sum(i*i for i in v)\n",
    "    return math.sqrt(dot_product)\n",
    "\n",
    "Norm([3,2,6])"
   ]
  },
  {
   "cell_type": "code",
   "execution_count": 4,
   "id": "64f98ef6-d5a7-4625-8d54-f2ba8e56c101",
   "metadata": {},
   "outputs": [
    {
     "data": {
      "text/plain": [
       "7.0"
      ]
     },
     "execution_count": 4,
     "metadata": {},
     "output_type": "execute_result"
    }
   ],
   "source": [
    "#call dot_product function to do the above\n",
    "import math\n",
    "def Norm(v):\n",
    "    return math.sqrt(dot_product(v,v))\n",
    "\n",
    "Norm([3,2,6])"
   ]
  },
  {
   "cell_type": "markdown",
   "id": "43fa1e33-59e2-4c3d-9c46-012683131dc8",
   "metadata": {},
   "source": [
    "### Matrix Operations"
   ]
  },
  {
   "cell_type": "code",
   "execution_count": 35,
   "id": "4418865e-f199-4778-973a-1ffff63d8ae3",
   "metadata": {},
   "outputs": [
    {
     "data": {
      "text/plain": [
       "[[3, 5, 9], [8, 10, 12]]"
      ]
     },
     "execution_count": 35,
     "metadata": {},
     "output_type": "execute_result"
    }
   ],
   "source": [
    "#Matrix addition\n",
    "def matrix_addition(x,y):\n",
    "    #len(x) returns the number of rows - it counts how many rows are in outerlist\n",
    "    xrows=len(x)\n",
    "    #len(x[0]) is the first row in innerlist so it returns the number of columns in first row\n",
    "    xcols=len(x[0])\n",
    "    yrows=len(y)\n",
    "    ycols=len(y[0])\n",
    "    if xrows!=yrows or xcols!=ycols:\n",
    "        print(\"the rows and columns have different orders\")\n",
    "    else:\n",
    "        z=x\n",
    "        for i in range(xrows):\n",
    "            for j in range(ycols):\n",
    "                z[i][j]=x[i][j]+y[i][j]\n",
    "        return z\n",
    "\n",
    "\n",
    "matrix_addition([[1,2,5],[4,5,6]],[[2,3,4],[4,5,6]])       "
   ]
  },
  {
   "cell_type": "markdown",
   "id": "ab119a66-e1b5-4a2b-8928-e90ed91d77b2",
   "metadata": {},
   "source": [
    "### Scalar Multiplication\n",
    "It refers to every matrix element being multiplied by a scalar element."
   ]
  },
  {
   "cell_type": "code",
   "execution_count": 15,
   "id": "ec80f350-b7c6-4522-bc06-1dcc26909cf3",
   "metadata": {},
   "outputs": [
    {
     "data": {
      "text/plain": [
       "[[2, 4, 10], [8, 10, 12]]"
      ]
     },
     "execution_count": 15,
     "metadata": {},
     "output_type": "execute_result"
    }
   ],
   "source": [
    "def scalar_multiplication(x,c):\n",
    "    xrows=len(x)\n",
    "    xcols=len(x[0])\n",
    "    cx=x\n",
    "    for i in range(xrows):\n",
    "        for j in range(xcols):\n",
    "            cx[i][j]=x[i][j]*c\n",
    "    return cx\n",
    "\n",
    "scalar_multiplication([[1,2,5],[4,5,6]],2)"
   ]
  },
  {
   "cell_type": "code",
   "execution_count": 18,
   "id": "45653247-5d53-47f0-88dd-affb78c566cd",
   "metadata": {},
   "outputs": [
    {
     "data": {
      "text/plain": [
       "[[-1, -1, 1], [0, 0, 0]]"
      ]
     },
     "execution_count": 18,
     "metadata": {},
     "output_type": "execute_result"
    }
   ],
   "source": [
    "#Matrix subtraction\n",
    "def matrix_subtraction(x,y):\n",
    "    #len(x) returns the number of rows - it counts how many rows are in outerlist\n",
    "    xrows=len(x)\n",
    "    #len(x[0]) is the first row in innerlist so it returns the number of columns in first row\n",
    "    xcols=len(x[0])\n",
    "    yrows=len(y)\n",
    "    ycols=len(y[0])\n",
    "    if xrows!=yrows or xcols!=ycols:\n",
    "        print(\"the rows and columns have different orders\")\n",
    "    else:\n",
    "        z=x\n",
    "        for i in range(xrows):\n",
    "            for j in range(ycols):\n",
    "                z[i][j]=x[i][j]-y[i][j]\n",
    "        return z\n",
    "\n",
    "\n",
    "matrix_subtraction([[1,2,5],[4,5,6]],[[2,3,4],[4,5,6]])    "
   ]
  },
  {
   "cell_type": "markdown",
   "id": "1bfe0617-9781-49f6-b446-f104cbf5915d",
   "metadata": {},
   "source": [
    "### Matrix multiplication \n",
    "- multiply the row values in first matrix with column values of second matrix\n",
    "- this is possible only if number of columns of first matrix = number of rows of second matrix"
   ]
  },
  {
   "cell_type": "code",
   "execution_count": 37,
   "id": "3192b6f6-9b48-4f16-aba0-0702c42ab1c9",
   "metadata": {},
   "outputs": [
    {
     "data": {
      "text/plain": [
       "[[45, 43], [70, 73]]"
      ]
     },
     "execution_count": 37,
     "metadata": {},
     "output_type": "execute_result"
    }
   ],
   "source": [
    "def matrix_multiplication(x,y):\n",
    "    #len(x) returns the number of rows - it counts how many rows are in outerlist\n",
    "    xrows=len(x)\n",
    "    #len(x[0]) is the first row in innerlist so it returns the number of columns in first row\n",
    "    xcols=len(x[0])\n",
    "    yrows=len(y)\n",
    "    ycols=len(y[0])\n",
    "    if xcols!=yrows:\n",
    "        print(\"the rows and columns have different orders\")\n",
    "    else:\n",
    "        z = [[0 for _ in range(ycols)] for _ in range(xrows)]\n",
    "        for i in range(xrows):\n",
    "            for j in range(ycols):\n",
    "                 for k in range(xcols):\n",
    "                     z[i][j]+=x[i][k]*y[k][j]\n",
    "                \n",
    "        return z\n",
    "\n",
    "\n",
    "matrix_multiplication([[1,2,5],[4,5,6]],[[2,3],[4,5],[7,6]])  "
   ]
  },
  {
   "cell_type": "markdown",
   "id": "6d8bb914-647d-4414-9e78-f4e36ad3c6e9",
   "metadata": {},
   "source": [
    "### Scalar and Vector Multiplication"
   ]
  },
  {
   "cell_type": "code",
   "execution_count": 1,
   "id": "90ebc048-8de3-4675-91c3-b1ff88a02c81",
   "metadata": {},
   "outputs": [
    {
     "name": "stdout",
     "output_type": "stream",
     "text": [
      "Scalar: 5\n",
      "Vector: [1 2 3]\n",
      "Scalar Multiplication: [2 4 6]\n",
      "Dot Product: 32\n"
     ]
    }
   ],
   "source": [
    "import numpy as np\n",
    "\n",
    "\"\"\"scaler data\"\"\"\n",
    "scalar = 5\n",
    "vector = np.array([1, 2, 3])\n",
    "print(\"Scalar:\", scalar)\n",
    "print(\"Vector:\", vector)\n",
    "\n",
    "\"\"\"Vector data\"\"\"\n",
    "v1 = np.array([1, 2, 3])\n",
    "v2 = np.array([4, 5, 6])\n",
    "\n",
    "scalar_mult = 2 * v1  # Scalar multiplication\n",
    "dot_product = np.dot(v1, v2)  # Dot product\n",
    "\n",
    "print(\"Scalar Multiplication:\", scalar_mult)\n",
    "print(\"Dot Product:\", dot_product)"
   ]
  },
  {
   "cell_type": "markdown",
   "id": "671037a2-f815-4334-8eca-8ea45ac64d3e",
   "metadata": {},
   "source": [
    "### Norm of vector"
   ]
  },
  {
   "cell_type": "code",
   "execution_count": 2,
   "id": "269046a4-51b7-4fab-b3f9-b21a3f7c0e8f",
   "metadata": {},
   "outputs": [
    {
     "name": "stdout",
     "output_type": "stream",
     "text": [
      "5.0\n"
     ]
    }
   ],
   "source": [
    "vector=np.array([3,4]) #square root the values and add\n",
    "norm=np.linalg.norm(vector) #euclidean norm\n",
    "print(norm)"
   ]
  },
  {
   "cell_type": "markdown",
   "id": "d08e06d2-7a20-420e-809d-014a7ccc0341",
   "metadata": {},
   "source": [
    "### Matrix addition and dot product"
   ]
  },
  {
   "cell_type": "code",
   "execution_count": 3,
   "id": "d685b71c-5a40-4083-b850-76be853cec05",
   "metadata": {},
   "outputs": [
    {
     "name": "stdout",
     "output_type": "stream",
     "text": [
      "[[ 5  7]\n",
      " [ 9 11]]\n",
      "[[16 19]\n",
      " [36 43]]\n"
     ]
    }
   ],
   "source": [
    "v1 = np.array([[1, 2], [3,4]])\n",
    "v2 = np.array([[4, 5], [6,7]])\n",
    "matrix_sum=v1+v2\n",
    "matrix_mult=np.dot(v1,v2)\n",
    "print(matrix_sum)\n",
    "print(matrix_mult)"
   ]
  },
  {
   "cell_type": "code",
   "execution_count": null,
   "id": "93ca4253-c249-46d5-8601-62108553bd8b",
   "metadata": {},
   "outputs": [],
   "source": []
  },
  {
   "cell_type": "markdown",
   "id": "c2a031f9-b094-4a3d-8de3-211e3d1b1820",
   "metadata": {},
   "source": [
    "### Transpose of a matrix\n",
    "Its a matrix obtained by interchanging the rows and columns"
   ]
  },
  {
   "cell_type": "code",
   "execution_count": 43,
   "id": "f0d57cb7-4b8e-436c-a3d4-f7f1104f2cb5",
   "metadata": {},
   "outputs": [
    {
     "data": {
      "text/plain": [
       "[[2, 3, 4], [2, 3, 4], [3, 5, 6]]"
      ]
     },
     "execution_count": 43,
     "metadata": {},
     "output_type": "execute_result"
    }
   ],
   "source": [
    "def transpose_matrix(x):\n",
    "    xrows=len(x)\n",
    "    xcols=len(x[0])\n",
    "    z=[[0 for i in range(xrows)] for j in range(xcols)]\n",
    "    for i in range(xrows):\n",
    "        for j in range(xcols):\n",
    "            z[i][j]=x[j][i]\n",
    "    return z\n",
    "\n",
    "transpose_matrix([[2,2,3],[3,3,5],[4,4,6]])"
   ]
  },
  {
   "cell_type": "markdown",
   "id": "ee337af6-320f-4196-bee9-c11fdcf7c788",
   "metadata": {},
   "source": [
    "### Rank of a matrix\n",
    "- The rank of matrix is the number of non-zero rows in its row echelon form. Hence, to find the Rank of a matrix we should convert the matrix into a row echelon form\n",
    "- **Leading Entry**\n",
    "    - In a matrix, the leading entry of a row is the first non-zero entry in the row\n",
    "- For a matrix to be in echelon form, it needs to follow 3 rules \n",
    "  - Any rows of all zeros should be below nonzero rows.\n",
    "  - Each leading entry of a row is in a column to the right of leading entry of the row above it.\n",
    "  - all entries in the column below leading entries should be zeros\n",
    "- To reduce the matrix into its row echelon form\n",
    "   - Interchange 2 rows\n",
    "   - Multiply a row by a non-zero constant\n",
    "   - Add a multiple of a row to another row\n",
    "\n",
    "**After we convert the matrix into its row echelon form, the number of rows with the non-zero values is considered as the rank of the matrix**"
   ]
  },
  {
   "cell_type": "code",
   "execution_count": 4,
   "id": "4de0e238-a603-424f-871d-a9d74cd39444",
   "metadata": {},
   "outputs": [
    {
     "name": "stdout",
     "output_type": "stream",
     "text": [
      "2\n"
     ]
    }
   ],
   "source": [
    "rank=np.linalg.matrix_rank(v1)\n",
    "print(rank)"
   ]
  },
  {
   "cell_type": "code",
   "execution_count": 5,
   "id": "b9722d53-6690-4a10-9c62-09500dba1d73",
   "metadata": {},
   "outputs": [
    {
     "name": "stdout",
     "output_type": "stream",
     "text": [
      "2\n"
     ]
    }
   ],
   "source": [
    "v1 = np.array([[1, 2,3], [3,4,5],[2,3,4]])\n",
    "rank=np.linalg.matrix_rank(v1)\n",
    "print(rank)"
   ]
  },
  {
   "cell_type": "markdown",
   "id": "753e8420-3e51-4cbe-9f02-5c1643d68aec",
   "metadata": {},
   "source": [
    "### Determinant of a matrix\n",
    "- The determinant of a matrix is a scalar quantity that is a function of the elements of a matrix. They are defined only for square matrices.\n",
    "- They are useful to determine solutions for a system of linear equations.\n",
    "- If determinant is 0, the matrix is linearly dependent else its linearly independent\n",
    "- det of [[a,b],[b,c]] is ad-bc\n",
    "- det of [[a,b,c],[d,e,f],[g,h,i]] is a det([[e,f],[h,i]])- b det([[d,f],[g,i]]) + c det([[d,e],[g,h]]) i;e, a (ei-fh) - b (di-fg) + c (dh-eg)\n",
    "\n",
    "### Identity Matrix\n",
    "- All the values in the diagonal should 1 and rest should be 0\n",
    "\n",
    "### Inverse of a Matrix\n",
    "- The inverse of a matrix is another matrix that, when multiplied by the given matrix, yields the multiplicative identity. For a matrix A, its inverse is A-1. And A.A-1 = A-1.A = I\n",
    "\n",
    "### Eigne Values and Eigne Vectors\n",
    "\n",
    "### Differential and Integral Calculas "
   ]
  },
  {
   "cell_type": "code",
   "execution_count": null,
   "id": "a82c4a78-458a-4d31-96ae-e19ce1f39590",
   "metadata": {},
   "outputs": [],
   "source": []
  }
 ],
 "metadata": {
  "kernelspec": {
   "display_name": "Python 3 (ipykernel)",
   "language": "python",
   "name": "python3"
  },
  "language_info": {
   "codemirror_mode": {
    "name": "ipython",
    "version": 3
   },
   "file_extension": ".py",
   "mimetype": "text/x-python",
   "name": "python",
   "nbconvert_exporter": "python",
   "pygments_lexer": "ipython3",
   "version": "3.11.7"
  }
 },
 "nbformat": 4,
 "nbformat_minor": 5
}
