{
 "cells": [
  {
   "cell_type": "markdown",
   "id": "7084bfd6-0bc5-4610-a135-3d118c1b745e",
   "metadata": {},
   "source": [
    "### NumPy \n",
    "- NumPy is an open-source library, predominantly used for working with arrays.\n",
    "- NumPy enables most of the operations required in linear algebra.\n",
    "- It is computationally efficient as it works with arrays rather than traditional python lists.\n",
    "- It is used aside SciPy and Matplotlib.\n",
    "- This replaces Matlab which used to be the traditional way of technical computations."
   ]
  },
  {
   "cell_type": "markdown",
   "id": "e2eed5f6-4c4b-41b1-b305-cb9b60f5ea1b",
   "metadata": {},
   "source": [
    "### Pandas\n",
    "- Pandas is open-source library built on top of NumPy. Thus, several NumPy structures are used or replicated in Pandas.\n",
    "- Word 'Pandas' is derived from 'Panel data', a term in Econometrics.\n",
    "- Pandas facilitates working with tabular data, time series data, Matrix data etc.\n",
    "- Pandas are best-suited for\n",
    "  - Import data from CSV, JSON files, etc.\n",
    "  - Easily handling missing values in the dataset.\n",
    "  - Wrangle and manipulate data.\n",
    "  - Merge multiple datasets.\n",
    "  - Export results as CSV,JSON files, etc.\n",
    "  - Easily handling time-series data."
   ]
  },
  {
   "cell_type": "markdown",
   "id": "37273da4-1d8b-4101-b6f4-9320d6068dea",
   "metadata": {},
   "source": [
    "### SciPy\n",
    "- It's the abbreviation for Scientific Python.\n",
    "- SciPy is an open-source library built on top of NumPy.\n",
    "- It's tailor-made for scientific and engineering applications.\n",
    "- It offers loads of features, For Ex: constants, optimizers, graphs and much more, that can be useful while dealing with data.\n",
    "- It had sub-modules for computationally intensive areas like:\n",
    "   - Optimization\n",
    "   - Linear algebra\n",
    "   - Signal and Image Processing, etc.\n",
    "- SciPy uses a multi-dimensional array, provided by the NumPy library,as a basic data structure."
   ]
  },
  {
   "cell_type": "markdown",
   "id": "9a1675ab-2fee-4614-86b5-c4aae90b30c6",
   "metadata": {},
   "source": [
    "### Statsmodels\n",
    "- Its a crucial Python library, Statmodels allow estimationof statiscal models and perform statistical tests.\n",
    "- It covers descriptive statistics,statistical tests,plotting functions,etc. extensively.\n",
    "- They are capable of handling deep statistical projects.\n",
    "- Some of the important features provided by statsmodels are:\n",
    "   - Linear regression\n",
    "   - ANOVA\n",
    "   - Time series analysis\n",
    "   - Statistical tests\n",
    "   - Graphics"
   ]
  },
  {
   "cell_type": "markdown",
   "id": "3d595023-4573-4364-9b4d-f3c67c704c40",
   "metadata": {},
   "source": [
    "## Fundamentals of NumPy\n",
    "- Stands for Numerical Python\n",
    "- It is an open-source library used primarily for mathematical operations in science and engineering application.\n",
    "- NumPy is convenient for performing easy operations on multi-dimensional operations arrays and matrices.\n",
    "- As NumPy is written in C, the speed of executing mathematical operations on arrays using NumPy is high.\n",
    "- It is an efficient multidimensional container of generic data.\n",
    "- As we can define arbitrary data types using NumPy, it aids in integrating with a wide variety of databases.\n",
    "- NumPy array is called ndarray. Some important attributes of ndarray are -\n",
    "   - **ndarray.ndim** - number of axes (dimensions) of the array.\n",
    "   - **ndarray.shape** - tuple of integers that give the size of the array in each dimension. Example: For an m*n matrix,the shape is (m,n). Length of                           shape tuple is number of axes, ndim.\n",
    "   - **ndarray.size** - the total number of elements in the array ehich is equal to the product of elements in the shape.\n",
    "   - **ndarray.dtype** - the object that describes the type of elements in the array. Ex: numpy.int16, numpy.int32, numpy.float64.\n",
    "   - **ndarray.itemsize** - the size in bytes of each item in an array.\n",
    "   - **ndarray.data** - the buffer contains the actual element in an array. Use indexing to access each element in the array."
   ]
  },
  {
   "cell_type": "markdown",
   "id": "14597043-d8cd-4b2b-b599-e731684ec2fa",
   "metadata": {},
   "source": [
    "### NumPy array Shapes and axes"
   ]
  },
  {
   "cell_type": "code",
   "execution_count": 2,
   "id": "c3cc6cb0-1d30-4f5c-b257-606dd441ed95",
   "metadata": {},
   "outputs": [],
   "source": [
    "#import the numpy package\n",
    "import numpy as np"
   ]
  },
  {
   "cell_type": "code",
   "execution_count": 3,
   "id": "a6670648-2a21-41b3-9c6c-d97616f10a5b",
   "metadata": {},
   "outputs": [
    {
     "data": {
      "text/plain": [
       "array(24)"
      ]
     },
     "execution_count": 3,
     "metadata": {},
     "output_type": "execute_result"
    }
   ],
   "source": [
    "#0 dimensional array\n",
    "np.array(24)"
   ]
  },
  {
   "cell_type": "code",
   "execution_count": 4,
   "id": "5e91bb32-c17d-4bcf-af8b-6289a9fb1857",
   "metadata": {},
   "outputs": [
    {
     "data": {
      "text/plain": [
       "array([1, 2, 3, 4])"
      ]
     },
     "execution_count": 4,
     "metadata": {},
     "output_type": "execute_result"
    }
   ],
   "source": [
    "#1 dimensional array\n",
    "np.array([1,2,3,4])"
   ]
  },
  {
   "cell_type": "code",
   "execution_count": 5,
   "id": "7a8a1cd9-eabd-4331-b3b5-06f8f5abfde8",
   "metadata": {},
   "outputs": [
    {
     "data": {
      "text/plain": [
       "array([[1, 2, 3],\n",
       "       [1, 2, 3]])"
      ]
     },
     "execution_count": 5,
     "metadata": {},
     "output_type": "execute_result"
    }
   ],
   "source": [
    "# 2 dimensional array\n",
    "np.array([[1,2,3],[1,2,3]])"
   ]
  },
  {
   "cell_type": "code",
   "execution_count": 6,
   "id": "e305ce72-4524-4813-a9ec-cb40792dc006",
   "metadata": {},
   "outputs": [
    {
     "data": {
      "text/plain": [
       "array([[[1, 2, 3],\n",
       "        [1, 2, 3]],\n",
       "\n",
       "       [[1, 2, 3],\n",
       "        [1, 2, 3]]])"
      ]
     },
     "execution_count": 6,
     "metadata": {},
     "output_type": "execute_result"
    }
   ],
   "source": [
    "# 3 dimensional array\n",
    "numpy_array=np.array([[[1,2,3],[1,2,3]],[[1,2,3],[1,2,3]]])\n",
    "numpy_array"
   ]
  },
  {
   "cell_type": "code",
   "execution_count": 7,
   "id": "0dad0b96-0652-4005-b9e8-88bdbe8d5f9b",
   "metadata": {},
   "outputs": [
    {
     "name": "stdout",
     "output_type": "stream",
     "text": [
      "(2, 2, 3)\n"
     ]
    }
   ],
   "source": [
    "print(numpy_array.shape)"
   ]
  },
  {
   "cell_type": "code",
   "execution_count": 8,
   "id": "ef07eec4-3e52-4215-bde7-6d5709a9639a",
   "metadata": {},
   "outputs": [
    {
     "data": {
      "text/plain": [
       "3"
      ]
     },
     "execution_count": 8,
     "metadata": {},
     "output_type": "execute_result"
    }
   ],
   "source": [
    "numpy_array.ndim"
   ]
  },
  {
   "cell_type": "markdown",
   "id": "914f1b35-258d-4182-9b30-a9f99c0996ba",
   "metadata": {},
   "source": [
    "**Create numpy arrays based on dimension you want**"
   ]
  },
  {
   "cell_type": "code",
   "execution_count": 9,
   "id": "c8fb35c9-091c-4919-878f-271dba901135",
   "metadata": {},
   "outputs": [
    {
     "data": {
      "text/plain": [
       "array([[[[1, 2, 3, 4, 5]]]])"
      ]
     },
     "execution_count": 9,
     "metadata": {},
     "output_type": "execute_result"
    }
   ],
   "source": [
    "np.array([1,2,3,4,5],ndmin=4)"
   ]
  },
  {
   "cell_type": "markdown",
   "id": "b563e5a9-d435-40dc-bab1-d2f03404464e",
   "metadata": {},
   "source": [
    "**Convert the dimension using reshape method**"
   ]
  },
  {
   "cell_type": "code",
   "execution_count": 11,
   "id": "9fb5661e-f7a5-48ae-aaa2-c86c7b0ade34",
   "metadata": {},
   "outputs": [
    {
     "data": {
      "text/plain": [
       "array([1, 2, 3, 4, 5, 6, 7, 8, 9])"
      ]
     },
     "execution_count": 11,
     "metadata": {},
     "output_type": "execute_result"
    }
   ],
   "source": [
    "numpy_arr=np.array([x for x in range(1,10)])\n",
    "numpy_arr"
   ]
  },
  {
   "cell_type": "code",
   "execution_count": 13,
   "id": "e40cb49d-9054-45d8-be38-fd978c7be01c",
   "metadata": {},
   "outputs": [
    {
     "data": {
      "text/plain": [
       "array([[1, 2, 3],\n",
       "       [4, 5, 6],\n",
       "       [7, 8, 9]])"
      ]
     },
     "execution_count": 13,
     "metadata": {},
     "output_type": "execute_result"
    }
   ],
   "source": [
    "reshaped_array=numpy_arr.reshape(3,3)\n",
    "reshaped_array"
   ]
  },
  {
   "cell_type": "code",
   "execution_count": 14,
   "id": "7c1e5ea5-a78f-40a7-80f7-97d7a7096596",
   "metadata": {},
   "outputs": [
    {
     "data": {
      "text/plain": [
       "array([1, 2, 3, 4, 5, 6, 7, 8, 9])"
      ]
     },
     "execution_count": 14,
     "metadata": {},
     "output_type": "execute_result"
    }
   ],
   "source": [
    "reshaped_array.flatten()"
   ]
  },
  {
   "cell_type": "code",
   "execution_count": 15,
   "id": "57e2f6fb-a96e-49c5-94d8-8699123b3c27",
   "metadata": {},
   "outputs": [
    {
     "data": {
      "text/plain": [
       "array([[1, 4, 7],\n",
       "       [2, 5, 8],\n",
       "       [3, 6, 9]])"
      ]
     },
     "execution_count": 15,
     "metadata": {},
     "output_type": "execute_result"
    }
   ],
   "source": [
    "#change row to column\n",
    "reshaped_array.transpose()"
   ]
  },
  {
   "cell_type": "code",
   "execution_count": 12,
   "id": "d278431c-d480-4a78-81db-88a79fbb30d6",
   "metadata": {},
   "outputs": [
    {
     "data": {
      "text/plain": [
       "array([[[1, 2],\n",
       "        [3, 4]],\n",
       "\n",
       "       [[5, 6],\n",
       "        [7, 8]]])"
      ]
     },
     "execution_count": 12,
     "metadata": {},
     "output_type": "execute_result"
    }
   ],
   "source": [
    "numpy_arr=np.array([x for x in range(1,9)])\n",
    "numpy_arr\n",
    "numpy_arr.reshape(2,2,2)"
   ]
  },
  {
   "cell_type": "markdown",
   "id": "92d76633-fd71-4e7e-8c76-0e184a7ca1a8",
   "metadata": {},
   "source": [
    "**Arithematic Operations using NumPy arrays**"
   ]
  },
  {
   "cell_type": "code",
   "execution_count": 13,
   "id": "f67faf54-b728-488e-8350-84ac29b0737c",
   "metadata": {},
   "outputs": [
    {
     "name": "stdout",
     "output_type": "stream",
     "text": [
      "[[ 4  6  8]\n",
      " [ 7  9 11]]\n",
      "[[-2 -2 -2]\n",
      " [-3 -3 -3]]\n",
      "[[ 3  8 15]\n",
      " [10 18 28]]\n",
      "[[0.33333333 0.5        0.6       ]\n",
      " [0.4        0.5        0.57142857]]\n",
      "[[    1    16   243]\n",
      " [   32   729 16384]]\n"
     ]
    }
   ],
   "source": [
    "A=np.array([[1,2,3],[2,3,4]])\n",
    "B=np.array([[3,4,5],[5,6,7]])\n",
    "#Addition\n",
    "print(np.add(A,B))\n",
    "#Subtraction\n",
    "print(np.subtract(A,B))\n",
    "#Multiplication\n",
    "print(np.multiply(A,B))\n",
    "#Division\n",
    "print(np.divide(A,B))\n",
    "#A to the power B\n",
    "print(np.power(A,B))"
   ]
  },
  {
   "cell_type": "markdown",
   "id": "6f2e5df3-f128-4c26-9d06-842f5e8ceed4",
   "metadata": {},
   "source": [
    "**Conditional Statements using Numpy arrays**"
   ]
  },
  {
   "cell_type": "code",
   "execution_count": 14,
   "id": "35d51b5e-ede1-4020-b0f8-82a82ad3acbf",
   "metadata": {},
   "outputs": [
    {
     "data": {
      "text/plain": [
       "array(['odd', 'Even', 'odd', 'Even', 'odd', 'Even', 'odd', 'Even', 'odd'],\n",
       "      dtype='<U4')"
      ]
     },
     "execution_count": 14,
     "metadata": {},
     "output_type": "execute_result"
    }
   ],
   "source": [
    "num_arr=np.array([x for x in range(1,10)])\n",
    "np.where(num_arr%2==0,'Even','odd')"
   ]
  },
  {
   "cell_type": "markdown",
   "id": "30184a3c-f5ed-45fd-8acb-3f3207aa37c6",
   "metadata": {},
   "source": [
    "**numpy.select**\n",
    "-**Syntax:** numpy.select(condlist, choicelist, default=0) to False.\r\n"
   ]
  },
  {
   "cell_type": "code",
   "execution_count": 15,
   "id": "3093c477-32c4-4c47-899a-702965afcb24",
   "metadata": {},
   "outputs": [
    {
     "data": {
      "text/plain": [
       "array([ 1,  8, 27, 64,  5, 36, 49, 64, 81])"
      ]
     },
     "execution_count": 15,
     "metadata": {},
     "output_type": "execute_result"
    }
   ],
   "source": [
    "condition_list=[num_arr>5,num_arr<5]\n",
    "#if x>5 calculate square of x else if x<5 calculate cube of x\n",
    "choice_list=[num_arr**2,num_arr**3]\n",
    "np.select(condition_list,choice_list,default=num_arr)"
   ]
  },
  {
   "cell_type": "markdown",
   "id": "ae82f782-bb9a-46c3-80cc-6fb3b0f889e4",
   "metadata": {},
   "source": [
    "**Common Mathematical and Statiscal functions in numpy**"
   ]
  },
  {
   "cell_type": "code",
   "execution_count": 19,
   "id": "1b8aee5a-3620-4587-a969-aa2dde45a24c",
   "metadata": {},
   "outputs": [
    {
     "data": {
      "text/plain": [
       "array([[2, 6, 4],\n",
       "       [7, 3, 5],\n",
       "       [5, 7, 8]])"
      ]
     },
     "execution_count": 19,
     "metadata": {},
     "output_type": "execute_result"
    }
   ],
   "source": [
    "import numpy as np\n",
    "arr=np.array([[2,6,4],[7,3,5],[5,7,8]])\n",
    "arr"
   ]
  },
  {
   "cell_type": "code",
   "execution_count": 20,
   "id": "25db1434-22e1-4c5b-b24d-2d9403ad17bf",
   "metadata": {},
   "outputs": [
    {
     "name": "stdout",
     "output_type": "stream",
     "text": [
      "2\n",
      "[2 3 4]\n",
      "[2 3 5]\n",
      "8\n",
      "[7 7 8]\n",
      "[6 7 8]\n"
     ]
    }
   ],
   "source": [
    "#returns the minimum value in the array\n",
    "print(np.min(arr))\n",
    "\n",
    "#returns the minimum values in horizontal and vertical axes\n",
    "print(np.min(arr,axis=0))\n",
    "print(np.min(arr,axis=1))\n",
    "\n",
    "#returns the maximum value in the array\n",
    "print(np.amax(arr))\n",
    "\n",
    "#returns the minimum values in horizontal and vertical axes\n",
    "print(np.max(arr,axis=0))\n",
    "print(np.max(arr,axis=1))"
   ]
  },
  {
   "cell_type": "code",
   "execution_count": 22,
   "id": "7e18646f-da6e-46a7-8915-24fe74d54524",
   "metadata": {},
   "outputs": [
    {
     "data": {
      "text/plain": [
       "array([[2, 6, 4],\n",
       "       [7, 3, 5],\n",
       "       [5, 7, 8]])"
      ]
     },
     "execution_count": 22,
     "metadata": {},
     "output_type": "execute_result"
    }
   ],
   "source": [
    "arr=np.array([[2,6,4],[7,3,5],[5,7,8]])\n",
    "arr"
   ]
  },
  {
   "cell_type": "code",
   "execution_count": 23,
   "id": "fedec1b9-0be8-49a6-a263-e61d0471f165",
   "metadata": {},
   "outputs": [
    {
     "name": "stdout",
     "output_type": "stream",
     "text": [
      "5.0\n",
      "5.222222222222222\n",
      "1.8724777273725242\n",
      "3.506172839506173\n"
     ]
    },
    {
     "ename": "AttributeError",
     "evalue": "module 'numpy' has no attribute 'mode'",
     "output_type": "error",
     "traceback": [
      "\u001b[1;31m---------------------------------------------------------------------------\u001b[0m",
      "\u001b[1;31mAttributeError\u001b[0m                            Traceback (most recent call last)",
      "Cell \u001b[1;32mIn[23], line 14\u001b[0m\n\u001b[0;32m     11\u001b[0m \u001b[38;5;66;03m#Calculate variance\u001b[39;00m\n\u001b[0;32m     12\u001b[0m \u001b[38;5;28mprint\u001b[39m(np\u001b[38;5;241m.\u001b[39mvar(arr))\n\u001b[1;32m---> 14\u001b[0m \u001b[38;5;28mprint\u001b[39m(np\u001b[38;5;241m.\u001b[39mmode(arr))\n\u001b[0;32m     16\u001b[0m \u001b[38;5;66;03m#calculate the percentile of the array (percentile can identify the values as array automatically with out initializing as numpy array)\u001b[39;00m\n\u001b[0;32m     17\u001b[0m \u001b[38;5;28mprint\u001b[39m(np\u001b[38;5;241m.\u001b[39mpercentile(arr,\u001b[38;5;241m50\u001b[39m))\n",
      "File \u001b[1;32m~\\anaconda3\\Lib\\site-packages\\numpy\\__init__.py:333\u001b[0m, in \u001b[0;36m__getattr__\u001b[1;34m(attr)\u001b[0m\n\u001b[0;32m    330\u001b[0m     \u001b[38;5;124m\"\u001b[39m\u001b[38;5;124mRemoved in NumPy 1.25.0\u001b[39m\u001b[38;5;124m\"\u001b[39m\n\u001b[0;32m    331\u001b[0m     \u001b[38;5;28;01mraise\u001b[39;00m \u001b[38;5;167;01mRuntimeError\u001b[39;00m(\u001b[38;5;124m\"\u001b[39m\u001b[38;5;124mTester was removed in NumPy 1.25.\u001b[39m\u001b[38;5;124m\"\u001b[39m)\n\u001b[1;32m--> 333\u001b[0m \u001b[38;5;28;01mraise\u001b[39;00m \u001b[38;5;167;01mAttributeError\u001b[39;00m(\u001b[38;5;124m\"\u001b[39m\u001b[38;5;124mmodule \u001b[39m\u001b[38;5;132;01m{!r}\u001b[39;00m\u001b[38;5;124m has no attribute \u001b[39m\u001b[38;5;124m\"\u001b[39m\n\u001b[0;32m    334\u001b[0m                      \u001b[38;5;124m\"\u001b[39m\u001b[38;5;132;01m{!r}\u001b[39;00m\u001b[38;5;124m\"\u001b[39m\u001b[38;5;241m.\u001b[39mformat(\u001b[38;5;18m__name__\u001b[39m, attr))\n",
      "\u001b[1;31mAttributeError\u001b[0m: module 'numpy' has no attribute 'mode'"
     ]
    }
   ],
   "source": [
    "#Calculate the median\n",
    "print(np.median(arr))\n",
    "\n",
    "#Calculate mean(average of the data)\n",
    "print(np.mean(arr))\n",
    "#Mean and Median are not same\n",
    "\n",
    "#Calculate standard deviation\n",
    "print(np.std(arr))\n",
    "\n",
    "#Calculate variance\n",
    "print(np.var(arr))\n",
    "\n",
    "print(np.mode(arr))\n",
    "\n",
    "#calculate the percentile of the array (percentile can identify the values as array automatically with out initializing as numpy array)\n",
    "print(np.percentile(arr,50))"
   ]
  },
  {
   "cell_type": "code",
   "execution_count": 4,
   "id": "d36c0261-2828-4da3-a33f-a9551e5da233",
   "metadata": {},
   "outputs": [
    {
     "data": {
      "text/plain": [
       "array(['a for apple', 'b for ball'], dtype='<U11')"
      ]
     },
     "execution_count": 4,
     "metadata": {},
     "output_type": "execute_result"
    }
   ],
   "source": [
    "#import the numpy package\n",
    "import numpy as np\n",
    "#string concatenation\n",
    "str1=np.array(['a for ','b for '])\n",
    "str2=np.array(['apple','ball'])\n",
    "concat=np.char.add(str1,str2)\n",
    "concat"
   ]
  },
  {
   "cell_type": "code",
   "execution_count": 19,
   "id": "e55a4eec-a409-41bc-ad92-dc50b2aac3f6",
   "metadata": {},
   "outputs": [
    {
     "name": "stdout",
     "output_type": "stream",
     "text": [
      "[0.         0.5        0.70710678 0.8660254  1.        ]\n",
      "[1.00000000e+00 8.66025404e-01 7.07106781e-01 5.00000000e-01\n",
      " 6.12323400e-17]\n",
      "[0.00000000e+00 5.77350269e-01 1.00000000e+00 1.73205081e+00\n",
      " 1.63312394e+16]\n",
      "[0.         0.55106958 0.90333911        nan        nan]\n",
      "[1.57079633 1.01972674 0.66745722        nan        nan]\n",
      "[0.         0.48234791 0.66577375 0.80844879 1.00388482]\n"
     ]
    },
    {
     "name": "stderr",
     "output_type": "stream",
     "text": [
      "C:\\Users\\Keert\\AppData\\Local\\Temp\\ipykernel_18244\\3626082713.py:12: RuntimeWarning: invalid value encountered in arcsin\n",
      "  print(np.arcsin(deg*np.pi/180))\n",
      "C:\\Users\\Keert\\AppData\\Local\\Temp\\ipykernel_18244\\3626082713.py:13: RuntimeWarning: invalid value encountered in arccos\n",
      "  print(np.arccos(deg*np.pi/180))\n"
     ]
    }
   ],
   "source": [
    "deg=np.array([0,30,45,60,90])\n",
    "#Calculate the sine of the degrees\n",
    "print(np.sin(deg*np.pi/180))\n",
    "\n",
    "#Calculate the cosine of the degrees\n",
    "print(np.cos(deg*np.pi/180))\n",
    "\n",
    "#Calculate the tan of the degrees\n",
    "print(np.tan(deg*np.pi/180))\n",
    "\n",
    "#Calculate the inverse of sin,cos and tan\n",
    "# print(np.arcsin(deg*np.pi/180))\n",
    "# print(np.arccos(deg*np.pi/180))\n",
    "# print(np.arctan(deg*np.pi/180))"
   ]
  },
  {
   "cell_type": "code",
   "execution_count": 20,
   "id": "841dffa8-26c8-4f03-b735-d7f4b3482f9f",
   "metadata": {},
   "outputs": [
    {
     "name": "stdout",
     "output_type": "stream",
     "text": [
      "[  1.   0.  -3. -10.]\n",
      "[ 1.  1. -2. -9.]\n"
     ]
    }
   ],
   "source": [
    "num=np.array([1.0,0.8,-2.2,-9.87])\n",
    "#returns the nearest previous whole number\n",
    "print(np.floor(num))\n",
    "#returns the nearest next whole number\n",
    "print(np.ceil(num))"
   ]
  },
  {
   "cell_type": "markdown",
   "id": "343df5af-e4ac-43e1-af45-a254ac349350",
   "metadata": {},
   "source": [
    "**Indexing and Slicing with NumPy**"
   ]
  },
  {
   "cell_type": "code",
   "execution_count": 26,
   "id": "d25d2f9a-8d34-4afb-b9df-47c75cfccac5",
   "metadata": {},
   "outputs": [
    {
     "name": "stdout",
     "output_type": "stream",
     "text": [
      "[1 2 3 4 5 6]\n",
      "[[1 2 3]\n",
      " [4 5 6]]\n",
      "[[[ 1  2  3]\n",
      "  [ 3  4  5]]\n",
      "\n",
      " [[ 6  7  8]\n",
      "  [ 9 10 11]]]\n"
     ]
    }
   ],
   "source": [
    "array_1d = np.array([1,2,3,4,5,6])\n",
    "array_2d = np.array([[1,2,3],[4,5,6]])\n",
    "#3d has depth(layer),rows and columns\n",
    "array_3d = np.array([[[1,2,3],[3,4,5]],\n",
    "                     [[6,7,8],[9,10,11]]])\n",
    "print(array_1d)\n",
    "print(array_2d)\n",
    "print(array_3d)"
   ]
  },
  {
   "cell_type": "markdown",
   "id": "4c93be7b-b232-4acd-b58d-c20a8ae9d13a",
   "metadata": {},
   "source": [
    "**Indexing**"
   ]
  },
  {
   "cell_type": "code",
   "execution_count": 36,
   "id": "b0ed7c24-9a7b-4b2e-a4c7-b1b8a68d9d11",
   "metadata": {},
   "outputs": [
    {
     "name": "stdout",
     "output_type": "stream",
     "text": [
      "1\n",
      "4\n",
      "6\n",
      "5\n"
     ]
    }
   ],
   "source": [
    "print(array_1d[0]) #returns 1st element\n",
    "print(array_1d[-3]) #returns 4th element (negative means counting reverse - it can be applied in any dimensional arrays))\n",
    "print(array_2d[1][2]) #returns element from 2nd row and 3rd column (index starts from 0)\n",
    "print(array_3d[0][1][2]) #returns elements from 1st depth ,1st row,2nd column "
   ]
  },
  {
   "cell_type": "markdown",
   "id": "1b46fd46-ab17-47a8-bf1d-983d036936d3",
   "metadata": {},
   "source": [
    "**Slicing**"
   ]
  },
  {
   "cell_type": "code",
   "execution_count": 4,
   "id": "1e6080aa-017e-4bbb-82da-852c79e04d49",
   "metadata": {},
   "outputs": [
    {
     "name": "stdout",
     "output_type": "stream",
     "text": [
      "[2 3 4 5 6]\n",
      "[3 4]\n",
      "[4 5]\n",
      "[2 5]\n",
      "[[2 3]\n",
      " [5 6]]\n",
      "[[2 3]\n",
      " [5 6]]\n"
     ]
    }
   ],
   "source": [
    "array_1d = np.array([1,2,3,4,5,6])\n",
    "array_2d = np.array([[1,2,3],[4,5,6]])\n",
    "#3d has depth(layer),rows and columns\n",
    "array_3d = np.array([[[1,2,3],[3,4,5]],\n",
    "                     [[6,7,8],[9,10,11]]])\n",
    "\n",
    "print(array_1d[1:]) #sliced from index 1 (2nd element) to the last\n",
    "print(array_1d[2:4]) #sliced from index 2(3rd element) to index 4(5th element)\n",
    "print(array_1d[-3:-1]) #sliced from 3rd index(4th element) to the last as negative counts reverse\n",
    "print(array_2d[0:,1])\n",
    "print(array_2d[0:,1:3])\n",
    "\n",
    "print(array_2d[0:3,1:3]) #returns element from 2nd row and 3rd column (index starts from 0)\n",
    "# print(array_3d[0][1][2]) #returns elements from 1st depth ,1st row,2nd column "
   ]
  },
  {
   "cell_type": "markdown",
   "id": "1b577f68-50cc-43af-984d-f0260514967f",
   "metadata": {},
   "source": [
    "**Attributes of NumPy**"
   ]
  },
  {
   "cell_type": "code",
   "execution_count": 3,
   "id": "2b8c6926-d68b-44bd-95eb-21f0258f633d",
   "metadata": {},
   "outputs": [
    {
     "data": {
      "text/plain": [
       "2"
      ]
     },
     "execution_count": 3,
     "metadata": {},
     "output_type": "execute_result"
    }
   ],
   "source": [
    "import numpy as np\n",
    "array_2d = np.array([[1,2,3],[4,5,6]])\n",
    "#Returns the number of dimensions\n",
    "array_2d.ndim"
   ]
  },
  {
   "cell_type": "code",
   "execution_count": 6,
   "id": "77faeb0f-0ee9-448c-afed-fb24fe7d240b",
   "metadata": {},
   "outputs": [
    {
     "data": {
      "text/plain": [
       "6"
      ]
     },
     "execution_count": 6,
     "metadata": {},
     "output_type": "execute_result"
    }
   ],
   "source": [
    "#returns the number of elements\n",
    "array_2d.size"
   ]
  },
  {
   "cell_type": "code",
   "execution_count": 4,
   "id": "19c9fb32-8a7b-402c-b94d-ecfcee764684",
   "metadata": {},
   "outputs": [
    {
     "data": {
      "text/plain": [
       "(2, 3)"
      ]
     },
     "execution_count": 4,
     "metadata": {},
     "output_type": "execute_result"
    }
   ],
   "source": [
    "array_2d.shape"
   ]
  },
  {
   "cell_type": "code",
   "execution_count": 7,
   "id": "0878edd0-86ee-4bef-9e21-b3970472cc51",
   "metadata": {},
   "outputs": [
    {
     "data": {
      "text/plain": [
       "4"
      ]
     },
     "execution_count": 7,
     "metadata": {},
     "output_type": "execute_result"
    }
   ],
   "source": [
    "array_2d.itemsize"
   ]
  },
  {
   "cell_type": "code",
   "execution_count": 8,
   "id": "c8ae3bfe-6170-49c5-b94b-dfb865467020",
   "metadata": {},
   "outputs": [
    {
     "data": {
      "text/plain": [
       "dtype('int32')"
      ]
     },
     "execution_count": 8,
     "metadata": {},
     "output_type": "execute_result"
    }
   ],
   "source": [
    "array_2d.dtype"
   ]
  },
  {
   "cell_type": "code",
   "execution_count": 9,
   "id": "8b98d2bc-9197-4217-a461-0eee72a3fea8",
   "metadata": {},
   "outputs": [
    {
     "data": {
      "text/plain": [
       "<memory at 0x00000209D5F28110>"
      ]
     },
     "execution_count": 9,
     "metadata": {},
     "output_type": "execute_result"
    }
   ],
   "source": [
    "array_2d.data"
   ]
  },
  {
   "cell_type": "markdown",
   "id": "419b8b20-f110-42b2-b259-7b9937652c81",
   "metadata": {},
   "source": [
    "**File Handling with NumPy**"
   ]
  },
  {
   "cell_type": "code",
   "execution_count": 2,
   "id": "00492764-59d6-4c11-9b0e-5a157f6fd74c",
   "metadata": {},
   "outputs": [],
   "source": [
    "import numpy as np"
   ]
  },
  {
   "cell_type": "code",
   "execution_count": 20,
   "id": "75a677c9-80c1-49d5-809e-3fa3f9e65f7b",
   "metadata": {},
   "outputs": [
    {
     "data": {
      "text/plain": [
       "array([['\"\"', '\"TV\"', '\"Radio\"', '\"Newspaper\"', '\"Sales\"'],\n",
       "       ['\"1\"', '230.1', '37.8', '69.2', '22.1'],\n",
       "       ['\"2\"', '44.5', '39.3', '45.1', '10.4'],\n",
       "       ...,\n",
       "       ['\"198\"', '177', '9.3', '6.4', '12.8'],\n",
       "       ['\"199\"', '283.6', '42', '66.2', '25.5'],\n",
       "       ['\"200\"', '232.1', '8.6', '8.7', '13.4']], dtype='<U11')"
      ]
     },
     "execution_count": 20,
     "metadata": {},
     "output_type": "execute_result"
    }
   ],
   "source": [
    "#Read the csv file\n",
    "arr=np.loadtxt(\"Advertising.csv\",dtype=str,delimiter=',')\n",
    "arr"
   ]
  },
  {
   "cell_type": "code",
   "execution_count": 21,
   "id": "46b02e83-aac4-4cd6-a1ae-05eb5f967d30",
   "metadata": {},
   "outputs": [
    {
     "data": {
      "text/plain": [
       "array([['\"1\"', '230.1', '37.8', '69.2', '22.1'],\n",
       "       ['\"2\"', '44.5', '39.3', '45.1', '10.4'],\n",
       "       ['\"3\"', '17.2', '45.9', '69.3', '9.3'],\n",
       "       ['\"4\"', '151.5', '41.3', '58.5', '18.5'],\n",
       "       ['\"5\"', '180.8', '10.8', '58.4', '12.9'],\n",
       "       ['\"6\"', '8.7', '48.9', '75', '7.2'],\n",
       "       ['\"7\"', '57.5', '32.8', '23.5', '11.8'],\n",
       "       ['\"8\"', '120.2', '19.6', '11.6', '13.2'],\n",
       "       ['\"9\"', '8.6', '2.1', '1', '4.8'],\n",
       "       ['\"10\"', '199.8', '2.6', '21.2', '10.6'],\n",
       "       ['\"11\"', '66.1', '5.8', '24.2', '8.6'],\n",
       "       ['\"12\"', '214.7', '24', '4', '17.4'],\n",
       "       ['\"13\"', '23.8', '35.1', '65.9', '9.2'],\n",
       "       ['\"14\"', '97.5', '7.6', '7.2', '9.7'],\n",
       "       ['\"15\"', '204.1', '32.9', '46', '19'],\n",
       "       ['\"16\"', '195.4', '47.7', '52.9', '22.4'],\n",
       "       ['\"17\"', '67.8', '36.6', '114', '12.5'],\n",
       "       ['\"18\"', '281.4', '39.6', '55.8', '24.4'],\n",
       "       ['\"19\"', '69.2', '20.5', '18.3', '11.3'],\n",
       "       ['\"20\"', '147.3', '23.9', '19.1', '14.6'],\n",
       "       ['\"21\"', '218.4', '27.7', '53.4', '18'],\n",
       "       ['\"22\"', '237.4', '5.1', '23.5', '12.5'],\n",
       "       ['\"23\"', '13.2', '15.9', '49.6', '5.6'],\n",
       "       ['\"24\"', '228.3', '16.9', '26.2', '15.5'],\n",
       "       ['\"25\"', '62.3', '12.6', '18.3', '9.7'],\n",
       "       ['\"26\"', '262.9', '3.5', '19.5', '12'],\n",
       "       ['\"27\"', '142.9', '29.3', '12.6', '15'],\n",
       "       ['\"28\"', '240.1', '16.7', '22.9', '15.9'],\n",
       "       ['\"29\"', '248.8', '27.1', '22.9', '18.9'],\n",
       "       ['\"30\"', '70.6', '16', '40.8', '10.5'],\n",
       "       ['\"31\"', '292.9', '28.3', '43.2', '21.4'],\n",
       "       ['\"32\"', '112.9', '17.4', '38.6', '11.9'],\n",
       "       ['\"33\"', '97.2', '1.5', '30', '9.6'],\n",
       "       ['\"34\"', '265.6', '20', '0.3', '17.4'],\n",
       "       ['\"35\"', '95.7', '1.4', '7.4', '9.5'],\n",
       "       ['\"36\"', '290.7', '4.1', '8.5', '12.8'],\n",
       "       ['\"37\"', '266.9', '43.8', '5', '25.4'],\n",
       "       ['\"38\"', '74.7', '49.4', '45.7', '14.7'],\n",
       "       ['\"39\"', '43.1', '26.7', '35.1', '10.1'],\n",
       "       ['\"40\"', '228', '37.7', '32', '21.5'],\n",
       "       ['\"41\"', '202.5', '22.3', '31.6', '16.6'],\n",
       "       ['\"42\"', '177', '33.4', '38.7', '17.1'],\n",
       "       ['\"43\"', '293.6', '27.7', '1.8', '20.7'],\n",
       "       ['\"44\"', '206.9', '8.4', '26.4', '12.9'],\n",
       "       ['\"45\"', '25.1', '25.7', '43.3', '8.5'],\n",
       "       ['\"46\"', '175.1', '22.5', '31.5', '14.9'],\n",
       "       ['\"47\"', '89.7', '9.9', '35.7', '10.6'],\n",
       "       ['\"48\"', '239.9', '41.5', '18.5', '23.2'],\n",
       "       ['\"49\"', '227.2', '15.8', '49.9', '14.8'],\n",
       "       ['\"50\"', '66.9', '11.7', '36.8', '9.7'],\n",
       "       ['\"51\"', '199.8', '3.1', '34.6', '11.4'],\n",
       "       ['\"52\"', '100.4', '9.6', '3.6', '10.7'],\n",
       "       ['\"53\"', '216.4', '41.7', '39.6', '22.6'],\n",
       "       ['\"54\"', '182.6', '46.2', '58.7', '21.2'],\n",
       "       ['\"55\"', '262.7', '28.8', '15.9', '20.2'],\n",
       "       ['\"56\"', '198.9', '49.4', '60', '23.7'],\n",
       "       ['\"57\"', '7.3', '28.1', '41.4', '5.5'],\n",
       "       ['\"58\"', '136.2', '19.2', '16.6', '13.2'],\n",
       "       ['\"59\"', '210.8', '49.6', '37.7', '23.8'],\n",
       "       ['\"60\"', '210.7', '29.5', '9.3', '18.4'],\n",
       "       ['\"61\"', '53.5', '2', '21.4', '8.1'],\n",
       "       ['\"62\"', '261.3', '42.7', '54.7', '24.2'],\n",
       "       ['\"63\"', '239.3', '15.5', '27.3', '15.7'],\n",
       "       ['\"64\"', '102.7', '29.6', '8.4', '14'],\n",
       "       ['\"65\"', '131.1', '42.8', '28.9', '18'],\n",
       "       ['\"66\"', '69', '9.3', '0.9', '9.3'],\n",
       "       ['\"67\"', '31.5', '24.6', '2.2', '9.5'],\n",
       "       ['\"68\"', '139.3', '14.5', '10.2', '13.4'],\n",
       "       ['\"69\"', '237.4', '27.5', '11', '18.9'],\n",
       "       ['\"70\"', '216.8', '43.9', '27.2', '22.3'],\n",
       "       ['\"71\"', '199.1', '30.6', '38.7', '18.3'],\n",
       "       ['\"72\"', '109.8', '14.3', '31.7', '12.4'],\n",
       "       ['\"73\"', '26.8', '33', '19.3', '8.8'],\n",
       "       ['\"74\"', '129.4', '5.7', '31.3', '11'],\n",
       "       ['\"75\"', '213.4', '24.6', '13.1', '17'],\n",
       "       ['\"76\"', '16.9', '43.7', '89.4', '8.7'],\n",
       "       ['\"77\"', '27.5', '1.6', '20.7', '6.9'],\n",
       "       ['\"78\"', '120.5', '28.5', '14.2', '14.2'],\n",
       "       ['\"79\"', '5.4', '29.9', '9.4', '5.3'],\n",
       "       ['\"80\"', '116', '7.7', '23.1', '11'],\n",
       "       ['\"81\"', '76.4', '26.7', '22.3', '11.8'],\n",
       "       ['\"82\"', '239.8', '4.1', '36.9', '12.3'],\n",
       "       ['\"83\"', '75.3', '20.3', '32.5', '11.3'],\n",
       "       ['\"84\"', '68.4', '44.5', '35.6', '13.6'],\n",
       "       ['\"85\"', '213.5', '43', '33.8', '21.7'],\n",
       "       ['\"86\"', '193.2', '18.4', '65.7', '15.2'],\n",
       "       ['\"87\"', '76.3', '27.5', '16', '12'],\n",
       "       ['\"88\"', '110.7', '40.6', '63.2', '16'],\n",
       "       ['\"89\"', '88.3', '25.5', '73.4', '12.9'],\n",
       "       ['\"90\"', '109.8', '47.8', '51.4', '16.7'],\n",
       "       ['\"91\"', '134.3', '4.9', '9.3', '11.2'],\n",
       "       ['\"92\"', '28.6', '1.5', '33', '7.3'],\n",
       "       ['\"93\"', '217.7', '33.5', '59', '19.4'],\n",
       "       ['\"94\"', '250.9', '36.5', '72.3', '22.2'],\n",
       "       ['\"95\"', '107.4', '14', '10.9', '11.5'],\n",
       "       ['\"96\"', '163.3', '31.6', '52.9', '16.9'],\n",
       "       ['\"97\"', '197.6', '3.5', '5.9', '11.7'],\n",
       "       ['\"98\"', '184.9', '21', '22', '15.5'],\n",
       "       ['\"99\"', '289.7', '42.3', '51.2', '25.4'],\n",
       "       ['\"100\"', '135.2', '41.7', '45.9', '17.2'],\n",
       "       ['\"101\"', '222.4', '4.3', '49.8', '11.7'],\n",
       "       ['\"102\"', '296.4', '36.3', '100.9', '23.8'],\n",
       "       ['\"103\"', '280.2', '10.1', '21.4', '14.8'],\n",
       "       ['\"104\"', '187.9', '17.2', '17.9', '14.7'],\n",
       "       ['\"105\"', '238.2', '34.3', '5.3', '20.7'],\n",
       "       ['\"106\"', '137.9', '46.4', '59', '19.2'],\n",
       "       ['\"107\"', '25', '11', '29.7', '7.2'],\n",
       "       ['\"108\"', '90.4', '0.3', '23.2', '8.7'],\n",
       "       ['\"109\"', '13.1', '0.4', '25.6', '5.3'],\n",
       "       ['\"110\"', '255.4', '26.9', '5.5', '19.8'],\n",
       "       ['\"111\"', '225.8', '8.2', '56.5', '13.4'],\n",
       "       ['\"112\"', '241.7', '38', '23.2', '21.8'],\n",
       "       ['\"113\"', '175.7', '15.4', '2.4', '14.1'],\n",
       "       ['\"114\"', '209.6', '20.6', '10.7', '15.9'],\n",
       "       ['\"115\"', '78.2', '46.8', '34.5', '14.6'],\n",
       "       ['\"116\"', '75.1', '35', '52.7', '12.6'],\n",
       "       ['\"117\"', '139.2', '14.3', '25.6', '12.2'],\n",
       "       ['\"118\"', '76.4', '0.8', '14.8', '9.4'],\n",
       "       ['\"119\"', '125.7', '36.9', '79.2', '15.9'],\n",
       "       ['\"120\"', '19.4', '16', '22.3', '6.6'],\n",
       "       ['\"121\"', '141.3', '26.8', '46.2', '15.5'],\n",
       "       ['\"122\"', '18.8', '21.7', '50.4', '7'],\n",
       "       ['\"123\"', '224', '2.4', '15.6', '11.6'],\n",
       "       ['\"124\"', '123.1', '34.6', '12.4', '15.2'],\n",
       "       ['\"125\"', '229.5', '32.3', '74.2', '19.7'],\n",
       "       ['\"126\"', '87.2', '11.8', '25.9', '10.6'],\n",
       "       ['\"127\"', '7.8', '38.9', '50.6', '6.6'],\n",
       "       ['\"128\"', '80.2', '0', '9.2', '8.8'],\n",
       "       ['\"129\"', '220.3', '49', '3.2', '24.7'],\n",
       "       ['\"130\"', '59.6', '12', '43.1', '9.7'],\n",
       "       ['\"131\"', '0.7', '39.6', '8.7', '1.6'],\n",
       "       ['\"132\"', '265.2', '2.9', '43', '12.7'],\n",
       "       ['\"133\"', '8.4', '27.2', '2.1', '5.7'],\n",
       "       ['\"134\"', '219.8', '33.5', '45.1', '19.6'],\n",
       "       ['\"135\"', '36.9', '38.6', '65.6', '10.8'],\n",
       "       ['\"136\"', '48.3', '47', '8.5', '11.6'],\n",
       "       ['\"137\"', '25.6', '39', '9.3', '9.5'],\n",
       "       ['\"138\"', '273.7', '28.9', '59.7', '20.8'],\n",
       "       ['\"139\"', '43', '25.9', '20.5', '9.6'],\n",
       "       ['\"140\"', '184.9', '43.9', '1.7', '20.7'],\n",
       "       ['\"141\"', '73.4', '17', '12.9', '10.9'],\n",
       "       ['\"142\"', '193.7', '35.4', '75.6', '19.2'],\n",
       "       ['\"143\"', '220.5', '33.2', '37.9', '20.1'],\n",
       "       ['\"144\"', '104.6', '5.7', '34.4', '10.4'],\n",
       "       ['\"145\"', '96.2', '14.8', '38.9', '11.4'],\n",
       "       ['\"146\"', '140.3', '1.9', '9', '10.3'],\n",
       "       ['\"147\"', '240.1', '7.3', '8.7', '13.2'],\n",
       "       ['\"148\"', '243.2', '49', '44.3', '25.4'],\n",
       "       ['\"149\"', '38', '40.3', '11.9', '10.9'],\n",
       "       ['\"150\"', '44.7', '25.8', '20.6', '10.1'],\n",
       "       ['\"151\"', '280.7', '13.9', '37', '16.1'],\n",
       "       ['\"152\"', '121', '8.4', '48.7', '11.6'],\n",
       "       ['\"153\"', '197.6', '23.3', '14.2', '16.6'],\n",
       "       ['\"154\"', '171.3', '39.7', '37.7', '19'],\n",
       "       ['\"155\"', '187.8', '21.1', '9.5', '15.6'],\n",
       "       ['\"156\"', '4.1', '11.6', '5.7', '3.2'],\n",
       "       ['\"157\"', '93.9', '43.5', '50.5', '15.3'],\n",
       "       ['\"158\"', '149.8', '1.3', '24.3', '10.1'],\n",
       "       ['\"159\"', '11.7', '36.9', '45.2', '7.3'],\n",
       "       ['\"160\"', '131.7', '18.4', '34.6', '12.9'],\n",
       "       ['\"161\"', '172.5', '18.1', '30.7', '14.4'],\n",
       "       ['\"162\"', '85.7', '35.8', '49.3', '13.3'],\n",
       "       ['\"163\"', '188.4', '18.1', '25.6', '14.9'],\n",
       "       ['\"164\"', '163.5', '36.8', '7.4', '18'],\n",
       "       ['\"165\"', '117.2', '14.7', '5.4', '11.9'],\n",
       "       ['\"166\"', '234.5', '3.4', '84.8', '11.9'],\n",
       "       ['\"167\"', '17.9', '37.6', '21.6', '8'],\n",
       "       ['\"168\"', '206.8', '5.2', '19.4', '12.2'],\n",
       "       ['\"169\"', '215.4', '23.6', '57.6', '17.1'],\n",
       "       ['\"170\"', '284.3', '10.6', '6.4', '15'],\n",
       "       ['\"171\"', '50', '11.6', '18.4', '8.4'],\n",
       "       ['\"172\"', '164.5', '20.9', '47.4', '14.5'],\n",
       "       ['\"173\"', '19.6', '20.1', '17', '7.6'],\n",
       "       ['\"174\"', '168.4', '7.1', '12.8', '11.7'],\n",
       "       ['\"175\"', '222.4', '3.4', '13.1', '11.5'],\n",
       "       ['\"176\"', '276.9', '48.9', '41.8', '27'],\n",
       "       ['\"177\"', '248.4', '30.2', '20.3', '20.2'],\n",
       "       ['\"178\"', '170.2', '7.8', '35.2', '11.7'],\n",
       "       ['\"179\"', '276.7', '2.3', '23.7', '11.8'],\n",
       "       ['\"180\"', '165.6', '10', '17.6', '12.6'],\n",
       "       ['\"181\"', '156.6', '2.6', '8.3', '10.5'],\n",
       "       ['\"182\"', '218.5', '5.4', '27.4', '12.2'],\n",
       "       ['\"183\"', '56.2', '5.7', '29.7', '8.7'],\n",
       "       ['\"184\"', '287.6', '43', '71.8', '26.2'],\n",
       "       ['\"185\"', '253.8', '21.3', '30', '17.6'],\n",
       "       ['\"186\"', '205', '45.1', '19.6', '22.6'],\n",
       "       ['\"187\"', '139.5', '2.1', '26.6', '10.3'],\n",
       "       ['\"188\"', '191.1', '28.7', '18.2', '17.3'],\n",
       "       ['\"189\"', '286', '13.9', '3.7', '15.9'],\n",
       "       ['\"190\"', '18.7', '12.1', '23.4', '6.7'],\n",
       "       ['\"191\"', '39.5', '41.1', '5.8', '10.8'],\n",
       "       ['\"192\"', '75.5', '10.8', '6', '9.9'],\n",
       "       ['\"193\"', '17.2', '4.1', '31.6', '5.9'],\n",
       "       ['\"194\"', '166.8', '42', '3.6', '19.6'],\n",
       "       ['\"195\"', '149.7', '35.6', '6', '17.3'],\n",
       "       ['\"196\"', '38.2', '3.7', '13.8', '7.6'],\n",
       "       ['\"197\"', '94.2', '4.9', '8.1', '9.7'],\n",
       "       ['\"198\"', '177', '9.3', '6.4', '12.8'],\n",
       "       ['\"199\"', '283.6', '42', '66.2', '25.5'],\n",
       "       ['\"200\"', '232.1', '8.6', '8.7', '13.4']], dtype='<U5')"
      ]
     },
     "execution_count": 21,
     "metadata": {},
     "output_type": "execute_result"
    }
   ],
   "source": [
    "arr = np.genfromtxt(\"Advertising.csv\", delimiter=',', skip_header=1, dtype=str)\n",
    "arr\n"
   ]
  },
  {
   "cell_type": "markdown",
   "id": "c7a4af09-6dce-43c3-96df-c91b6816d510",
   "metadata": {},
   "source": [
    "Sample"
   ]
  },
  {
   "cell_type": "code",
   "execution_count": 23,
   "id": "cfa2e52e-ad75-4699-9f1b-ce989821070b",
   "metadata": {},
   "outputs": [
    {
     "data": {
      "text/plain": [
       "array([[1, 2, 3],\n",
       "       [4, 5, 6]])"
      ]
     },
     "execution_count": 23,
     "metadata": {},
     "output_type": "execute_result"
    }
   ],
   "source": [
    "arr=np.array([[1,2,3],[4,5,6]])\n",
    "arr"
   ]
  },
  {
   "cell_type": "code",
   "execution_count": 24,
   "id": "2a676d45-c28c-4c77-be89-de8d32cc90d3",
   "metadata": {},
   "outputs": [],
   "source": [
    "np.savetxt('sample_numpy.csv',arr,delimiter=',')"
   ]
  },
  {
   "cell_type": "code",
   "execution_count": 25,
   "id": "63bc0196-235b-4dbe-aa88-ac65a8858032",
   "metadata": {},
   "outputs": [],
   "source": [
    "np.save('file.npy',arr)"
   ]
  },
  {
   "cell_type": "code",
   "execution_count": 26,
   "id": "768e1dcf-f2fe-4b29-be8f-865cea598623",
   "metadata": {},
   "outputs": [],
   "source": [
    "arr=np.load('file.npy')"
   ]
  },
  {
   "cell_type": "code",
   "execution_count": 27,
   "id": "916283f8-a377-4d0b-95e1-0a394ee58fe9",
   "metadata": {},
   "outputs": [
    {
     "data": {
      "text/plain": [
       "array([[1, 2, 3],\n",
       "       [4, 5, 6]])"
      ]
     },
     "execution_count": 27,
     "metadata": {},
     "output_type": "execute_result"
    }
   ],
   "source": [
    "arr"
   ]
  },
  {
   "cell_type": "markdown",
   "id": "b1b50ce6-6efc-4ea8-9042-54d2bf45976e",
   "metadata": {},
   "source": [
    "### Examples using Statsmodel"
   ]
  },
  {
   "cell_type": "code",
   "execution_count": 1,
   "id": "205cb6cc-d5bb-4f6b-8085-cb31c883128f",
   "metadata": {},
   "outputs": [],
   "source": [
    "import numpy as np\n",
    "import statsmodels.api as sm\n",
    "import statsmodels.formula.api as smf"
   ]
  },
  {
   "cell_type": "code",
   "execution_count": 2,
   "id": "8a9bdc1c-8071-46b8-80b3-4ef782726290",
   "metadata": {},
   "outputs": [],
   "source": [
    "#Get the Guerry Dataset for statistical analysis\n",
    "data=sm.datasets.get_rdataset('Guerry','HistData').data"
   ]
  },
  {
   "cell_type": "code",
   "execution_count": 3,
   "id": "f5573509-9365-4a04-9646-74f653fff16e",
   "metadata": {},
   "outputs": [
    {
     "data": {
      "text/html": [
       "<div>\n",
       "<style scoped>\n",
       "    .dataframe tbody tr th:only-of-type {\n",
       "        vertical-align: middle;\n",
       "    }\n",
       "\n",
       "    .dataframe tbody tr th {\n",
       "        vertical-align: top;\n",
       "    }\n",
       "\n",
       "    .dataframe thead th {\n",
       "        text-align: right;\n",
       "    }\n",
       "</style>\n",
       "<table border=\"1\" class=\"dataframe\">\n",
       "  <thead>\n",
       "    <tr style=\"text-align: right;\">\n",
       "      <th></th>\n",
       "      <th>dept</th>\n",
       "      <th>Region</th>\n",
       "      <th>Department</th>\n",
       "      <th>Crime_pers</th>\n",
       "      <th>Crime_prop</th>\n",
       "      <th>Literacy</th>\n",
       "      <th>Donations</th>\n",
       "      <th>Infants</th>\n",
       "      <th>Suicides</th>\n",
       "      <th>MainCity</th>\n",
       "      <th>...</th>\n",
       "      <th>Crime_parents</th>\n",
       "      <th>Infanticide</th>\n",
       "      <th>Donation_clergy</th>\n",
       "      <th>Lottery</th>\n",
       "      <th>Desertion</th>\n",
       "      <th>Instruction</th>\n",
       "      <th>Prostitutes</th>\n",
       "      <th>Distance</th>\n",
       "      <th>Area</th>\n",
       "      <th>Pop1831</th>\n",
       "    </tr>\n",
       "  </thead>\n",
       "  <tbody>\n",
       "    <tr>\n",
       "      <th>0</th>\n",
       "      <td>1</td>\n",
       "      <td>E</td>\n",
       "      <td>Ain</td>\n",
       "      <td>28870</td>\n",
       "      <td>15890</td>\n",
       "      <td>37</td>\n",
       "      <td>5098</td>\n",
       "      <td>33120</td>\n",
       "      <td>35039</td>\n",
       "      <td>2:Med</td>\n",
       "      <td>...</td>\n",
       "      <td>71</td>\n",
       "      <td>60</td>\n",
       "      <td>69</td>\n",
       "      <td>41</td>\n",
       "      <td>55</td>\n",
       "      <td>46</td>\n",
       "      <td>13</td>\n",
       "      <td>218.372</td>\n",
       "      <td>5762</td>\n",
       "      <td>346.03</td>\n",
       "    </tr>\n",
       "    <tr>\n",
       "      <th>1</th>\n",
       "      <td>2</td>\n",
       "      <td>N</td>\n",
       "      <td>Aisne</td>\n",
       "      <td>26226</td>\n",
       "      <td>5521</td>\n",
       "      <td>51</td>\n",
       "      <td>8901</td>\n",
       "      <td>14572</td>\n",
       "      <td>12831</td>\n",
       "      <td>2:Med</td>\n",
       "      <td>...</td>\n",
       "      <td>4</td>\n",
       "      <td>82</td>\n",
       "      <td>36</td>\n",
       "      <td>38</td>\n",
       "      <td>82</td>\n",
       "      <td>24</td>\n",
       "      <td>327</td>\n",
       "      <td>65.945</td>\n",
       "      <td>7369</td>\n",
       "      <td>513.00</td>\n",
       "    </tr>\n",
       "    <tr>\n",
       "      <th>2</th>\n",
       "      <td>3</td>\n",
       "      <td>C</td>\n",
       "      <td>Allier</td>\n",
       "      <td>26747</td>\n",
       "      <td>7925</td>\n",
       "      <td>13</td>\n",
       "      <td>10973</td>\n",
       "      <td>17044</td>\n",
       "      <td>114121</td>\n",
       "      <td>2:Med</td>\n",
       "      <td>...</td>\n",
       "      <td>46</td>\n",
       "      <td>42</td>\n",
       "      <td>76</td>\n",
       "      <td>66</td>\n",
       "      <td>16</td>\n",
       "      <td>85</td>\n",
       "      <td>34</td>\n",
       "      <td>161.927</td>\n",
       "      <td>7340</td>\n",
       "      <td>298.26</td>\n",
       "    </tr>\n",
       "    <tr>\n",
       "      <th>3</th>\n",
       "      <td>4</td>\n",
       "      <td>E</td>\n",
       "      <td>Basses-Alpes</td>\n",
       "      <td>12935</td>\n",
       "      <td>7289</td>\n",
       "      <td>46</td>\n",
       "      <td>2733</td>\n",
       "      <td>23018</td>\n",
       "      <td>14238</td>\n",
       "      <td>1:Sm</td>\n",
       "      <td>...</td>\n",
       "      <td>70</td>\n",
       "      <td>12</td>\n",
       "      <td>37</td>\n",
       "      <td>80</td>\n",
       "      <td>32</td>\n",
       "      <td>29</td>\n",
       "      <td>2</td>\n",
       "      <td>351.399</td>\n",
       "      <td>6925</td>\n",
       "      <td>155.90</td>\n",
       "    </tr>\n",
       "    <tr>\n",
       "      <th>4</th>\n",
       "      <td>5</td>\n",
       "      <td>E</td>\n",
       "      <td>Hautes-Alpes</td>\n",
       "      <td>17488</td>\n",
       "      <td>8174</td>\n",
       "      <td>69</td>\n",
       "      <td>6962</td>\n",
       "      <td>23076</td>\n",
       "      <td>16171</td>\n",
       "      <td>1:Sm</td>\n",
       "      <td>...</td>\n",
       "      <td>22</td>\n",
       "      <td>23</td>\n",
       "      <td>64</td>\n",
       "      <td>79</td>\n",
       "      <td>35</td>\n",
       "      <td>7</td>\n",
       "      <td>1</td>\n",
       "      <td>320.280</td>\n",
       "      <td>5549</td>\n",
       "      <td>129.10</td>\n",
       "    </tr>\n",
       "  </tbody>\n",
       "</table>\n",
       "<p>5 rows × 23 columns</p>\n",
       "</div>"
      ],
      "text/plain": [
       "   dept Region    Department  Crime_pers  Crime_prop  Literacy  Donations  \\\n",
       "0     1      E           Ain       28870       15890        37       5098   \n",
       "1     2      N         Aisne       26226        5521        51       8901   \n",
       "2     3      C        Allier       26747        7925        13      10973   \n",
       "3     4      E  Basses-Alpes       12935        7289        46       2733   \n",
       "4     5      E  Hautes-Alpes       17488        8174        69       6962   \n",
       "\n",
       "   Infants  Suicides MainCity  ...  Crime_parents  Infanticide  \\\n",
       "0    33120     35039    2:Med  ...             71           60   \n",
       "1    14572     12831    2:Med  ...              4           82   \n",
       "2    17044    114121    2:Med  ...             46           42   \n",
       "3    23018     14238     1:Sm  ...             70           12   \n",
       "4    23076     16171     1:Sm  ...             22           23   \n",
       "\n",
       "   Donation_clergy  Lottery  Desertion  Instruction  Prostitutes  Distance  \\\n",
       "0               69       41         55           46           13   218.372   \n",
       "1               36       38         82           24          327    65.945   \n",
       "2               76       66         16           85           34   161.927   \n",
       "3               37       80         32           29            2   351.399   \n",
       "4               64       79         35            7            1   320.280   \n",
       "\n",
       "   Area  Pop1831  \n",
       "0  5762   346.03  \n",
       "1  7369   513.00  \n",
       "2  7340   298.26  \n",
       "3  6925   155.90  \n",
       "4  5549   129.10  \n",
       "\n",
       "[5 rows x 23 columns]"
      ]
     },
     "execution_count": 3,
     "metadata": {},
     "output_type": "execute_result"
    }
   ],
   "source": [
    "#print the first 5 rows in dataset\n",
    "data.head()"
   ]
  },
  {
   "cell_type": "markdown",
   "id": "7a4cecb7-2dcb-48c1-8bcb-b7dfb4705b4c",
   "metadata": {},
   "source": [
    "## smf.ols()\n",
    "- smf.ols stands for Ordinary Least Squares (OLS) regression in the statsmodels.formula.api module of the statsmodels library in Python. \n",
    "- It is used for linear regression analysis using a formula-based approach similar to R.\n",
    "\n",
    "### How smf.ols() works?\n",
    "- OLS regression is a statistical method used to model the relationship between a dependent variable (Y) and one or more independent variables (X).\n",
    "- The smf.ols function allows you to specify a regression model using a formula string, which makes it more intuitive compared to the matrix-based approach.\n",
    "\n",
    "###  Why use np.log(Pop1831) instead of Pop1831?\n",
    "- Population (Pop1831) is usually skewed (some areas have very large populations).\n",
    "- Applying np.log(Pop1831) reduces skewness and makes the relationship more linear.\n",
    "- It helps meet the assumptions of OLS regression, such as homoscedasticity (constant variance).\n",
    "\n",
    "### Why is this Regression useful?\n",
    "- Helps analyze how literacy and population size influence lottery spending.\n",
    "- The log transformation makes the relationship more linear and interpretable.\n",
    "- The results can be used to make predictions or identify key factors affecting lottery spending.\n"
   ]
  },
  {
   "cell_type": "code",
   "execution_count": 4,
   "id": "a73ca5ed-f81d-41f8-a832-e900aece4351",
   "metadata": {},
   "outputs": [],
   "source": [
    "#create a model the dataset\n",
    "results=smf.ols('Lottery ~ Literacy + np.log(Pop1831)',data=data).fit()"
   ]
  },
  {
   "cell_type": "code",
   "execution_count": 5,
   "id": "83665c01-ea22-427a-a9df-fdb433afde2a",
   "metadata": {},
   "outputs": [
    {
     "data": {
      "text/html": [
       "<table class=\"simpletable\">\n",
       "<caption>OLS Regression Results</caption>\n",
       "<tr>\n",
       "  <th>Dep. Variable:</th>         <td>Lottery</td>     <th>  R-squared:         </th> <td>   0.348</td>\n",
       "</tr>\n",
       "<tr>\n",
       "  <th>Model:</th>                   <td>OLS</td>       <th>  Adj. R-squared:    </th> <td>   0.333</td>\n",
       "</tr>\n",
       "<tr>\n",
       "  <th>Method:</th>             <td>Least Squares</td>  <th>  F-statistic:       </th> <td>   22.20</td>\n",
       "</tr>\n",
       "<tr>\n",
       "  <th>Date:</th>             <td>Tue, 04 Feb 2025</td> <th>  Prob (F-statistic):</th> <td>1.90e-08</td>\n",
       "</tr>\n",
       "<tr>\n",
       "  <th>Time:</th>                 <td>15:08:23</td>     <th>  Log-Likelihood:    </th> <td> -379.82</td>\n",
       "</tr>\n",
       "<tr>\n",
       "  <th>No. Observations:</th>      <td>    86</td>      <th>  AIC:               </th> <td>   765.6</td>\n",
       "</tr>\n",
       "<tr>\n",
       "  <th>Df Residuals:</th>          <td>    83</td>      <th>  BIC:               </th> <td>   773.0</td>\n",
       "</tr>\n",
       "<tr>\n",
       "  <th>Df Model:</th>              <td>     2</td>      <th>                     </th>     <td> </td>   \n",
       "</tr>\n",
       "<tr>\n",
       "  <th>Covariance Type:</th>      <td>nonrobust</td>    <th>                     </th>     <td> </td>   \n",
       "</tr>\n",
       "</table>\n",
       "<table class=\"simpletable\">\n",
       "<tr>\n",
       "         <td></td>            <th>coef</th>     <th>std err</th>      <th>t</th>      <th>P>|t|</th>  <th>[0.025</th>    <th>0.975]</th>  \n",
       "</tr>\n",
       "<tr>\n",
       "  <th>Intercept</th>       <td>  246.4341</td> <td>   35.233</td> <td>    6.995</td> <td> 0.000</td> <td>  176.358</td> <td>  316.510</td>\n",
       "</tr>\n",
       "<tr>\n",
       "  <th>Literacy</th>        <td>   -0.4889</td> <td>    0.128</td> <td>   -3.832</td> <td> 0.000</td> <td>   -0.743</td> <td>   -0.235</td>\n",
       "</tr>\n",
       "<tr>\n",
       "  <th>np.log(Pop1831)</th> <td>  -31.3114</td> <td>    5.977</td> <td>   -5.239</td> <td> 0.000</td> <td>  -43.199</td> <td>  -19.424</td>\n",
       "</tr>\n",
       "</table>\n",
       "<table class=\"simpletable\">\n",
       "<tr>\n",
       "  <th>Omnibus:</th>       <td> 3.713</td> <th>  Durbin-Watson:     </th> <td>   2.019</td>\n",
       "</tr>\n",
       "<tr>\n",
       "  <th>Prob(Omnibus):</th> <td> 0.156</td> <th>  Jarque-Bera (JB):  </th> <td>   3.394</td>\n",
       "</tr>\n",
       "<tr>\n",
       "  <th>Skew:</th>          <td>-0.487</td> <th>  Prob(JB):          </th> <td>   0.183</td>\n",
       "</tr>\n",
       "<tr>\n",
       "  <th>Kurtosis:</th>      <td> 3.003</td> <th>  Cond. No.          </th> <td>    702.</td>\n",
       "</tr>\n",
       "</table><br/><br/>Notes:<br/>[1] Standard Errors assume that the covariance matrix of the errors is correctly specified."
      ],
      "text/latex": [
       "\\begin{center}\n",
       "\\begin{tabular}{lclc}\n",
       "\\toprule\n",
       "\\textbf{Dep. Variable:}    &     Lottery      & \\textbf{  R-squared:         } &     0.348   \\\\\n",
       "\\textbf{Model:}            &       OLS        & \\textbf{  Adj. R-squared:    } &     0.333   \\\\\n",
       "\\textbf{Method:}           &  Least Squares   & \\textbf{  F-statistic:       } &     22.20   \\\\\n",
       "\\textbf{Date:}             & Tue, 04 Feb 2025 & \\textbf{  Prob (F-statistic):} &  1.90e-08   \\\\\n",
       "\\textbf{Time:}             &     15:08:23     & \\textbf{  Log-Likelihood:    } &   -379.82   \\\\\n",
       "\\textbf{No. Observations:} &          86      & \\textbf{  AIC:               } &     765.6   \\\\\n",
       "\\textbf{Df Residuals:}     &          83      & \\textbf{  BIC:               } &     773.0   \\\\\n",
       "\\textbf{Df Model:}         &           2      & \\textbf{                     } &             \\\\\n",
       "\\textbf{Covariance Type:}  &    nonrobust     & \\textbf{                     } &             \\\\\n",
       "\\bottomrule\n",
       "\\end{tabular}\n",
       "\\begin{tabular}{lcccccc}\n",
       "                         & \\textbf{coef} & \\textbf{std err} & \\textbf{t} & \\textbf{P$> |$t$|$} & \\textbf{[0.025} & \\textbf{0.975]}  \\\\\n",
       "\\midrule\n",
       "\\textbf{Intercept}       &     246.4341  &       35.233     &     6.995  &         0.000        &      176.358    &      316.510     \\\\\n",
       "\\textbf{Literacy}        &      -0.4889  &        0.128     &    -3.832  &         0.000        &       -0.743    &       -0.235     \\\\\n",
       "\\textbf{np.log(Pop1831)} &     -31.3114  &        5.977     &    -5.239  &         0.000        &      -43.199    &      -19.424     \\\\\n",
       "\\bottomrule\n",
       "\\end{tabular}\n",
       "\\begin{tabular}{lclc}\n",
       "\\textbf{Omnibus:}       &  3.713 & \\textbf{  Durbin-Watson:     } &    2.019  \\\\\n",
       "\\textbf{Prob(Omnibus):} &  0.156 & \\textbf{  Jarque-Bera (JB):  } &    3.394  \\\\\n",
       "\\textbf{Skew:}          & -0.487 & \\textbf{  Prob(JB):          } &    0.183  \\\\\n",
       "\\textbf{Kurtosis:}      &  3.003 & \\textbf{  Cond. No.          } &     702.  \\\\\n",
       "\\bottomrule\n",
       "\\end{tabular}\n",
       "%\\caption{OLS Regression Results}\n",
       "\\end{center}\n",
       "\n",
       "Notes: \\newline\n",
       " [1] Standard Errors assume that the covariance matrix of the errors is correctly specified."
      ],
      "text/plain": [
       "<class 'statsmodels.iolib.summary.Summary'>\n",
       "\"\"\"\n",
       "                            OLS Regression Results                            \n",
       "==============================================================================\n",
       "Dep. Variable:                Lottery   R-squared:                       0.348\n",
       "Model:                            OLS   Adj. R-squared:                  0.333\n",
       "Method:                 Least Squares   F-statistic:                     22.20\n",
       "Date:                Tue, 04 Feb 2025   Prob (F-statistic):           1.90e-08\n",
       "Time:                        15:08:23   Log-Likelihood:                -379.82\n",
       "No. Observations:                  86   AIC:                             765.6\n",
       "Df Residuals:                      83   BIC:                             773.0\n",
       "Df Model:                           2                                         \n",
       "Covariance Type:            nonrobust                                         \n",
       "===================================================================================\n",
       "                      coef    std err          t      P>|t|      [0.025      0.975]\n",
       "-----------------------------------------------------------------------------------\n",
       "Intercept         246.4341     35.233      6.995      0.000     176.358     316.510\n",
       "Literacy           -0.4889      0.128     -3.832      0.000      -0.743      -0.235\n",
       "np.log(Pop1831)   -31.3114      5.977     -5.239      0.000     -43.199     -19.424\n",
       "==============================================================================\n",
       "Omnibus:                        3.713   Durbin-Watson:                   2.019\n",
       "Prob(Omnibus):                  0.156   Jarque-Bera (JB):                3.394\n",
       "Skew:                          -0.487   Prob(JB):                        0.183\n",
       "Kurtosis:                       3.003   Cond. No.                         702.\n",
       "==============================================================================\n",
       "\n",
       "Notes:\n",
       "[1] Standard Errors assume that the covariance matrix of the errors is correctly specified.\n",
       "\"\"\""
      ]
     },
     "execution_count": 5,
     "metadata": {},
     "output_type": "execute_result"
    }
   ],
   "source": [
    "results.summary()"
   ]
  },
  {
   "cell_type": "markdown",
   "id": "76c385af-a24a-43d1-bb40-9b7c25f6756d",
   "metadata": {},
   "source": [
    "### Advertising data used for ols regression. \n",
    "- Created 2 models, 1 with Sales dependent on TV data and 2nd one with Sales dependent on TV,Radio and Newspaper data. Came to conclusion that the later model is better performing than the first one as the r-squared value has increased in 2nd one. From the 2nd model, the Sales changes w.r.t TV and Radio data compared to Newspaper ."
   ]
  },
  {
   "cell_type": "code",
   "execution_count": 6,
   "id": "c37c0d27-50ad-4f15-bdf1-30465f98330a",
   "metadata": {},
   "outputs": [],
   "source": [
    "import pandas as pd\n",
    "import statsmodels.formula.api as smf"
   ]
  },
  {
   "cell_type": "code",
   "execution_count": 8,
   "id": "bcceb692-fe4c-4a8e-9931-5d80e7d9ab52",
   "metadata": {},
   "outputs": [],
   "source": [
    "data=pd.read_csv('Advertising.csv',index_col=0)"
   ]
  },
  {
   "cell_type": "code",
   "execution_count": 9,
   "id": "11bc73b1-931e-4153-8300-3c3f06e9035d",
   "metadata": {},
   "outputs": [
    {
     "data": {
      "text/html": [
       "<div>\n",
       "<style scoped>\n",
       "    .dataframe tbody tr th:only-of-type {\n",
       "        vertical-align: middle;\n",
       "    }\n",
       "\n",
       "    .dataframe tbody tr th {\n",
       "        vertical-align: top;\n",
       "    }\n",
       "\n",
       "    .dataframe thead th {\n",
       "        text-align: right;\n",
       "    }\n",
       "</style>\n",
       "<table border=\"1\" class=\"dataframe\">\n",
       "  <thead>\n",
       "    <tr style=\"text-align: right;\">\n",
       "      <th></th>\n",
       "      <th>TV</th>\n",
       "      <th>Radio</th>\n",
       "      <th>Newspaper</th>\n",
       "      <th>Sales</th>\n",
       "    </tr>\n",
       "  </thead>\n",
       "  <tbody>\n",
       "    <tr>\n",
       "      <th>1</th>\n",
       "      <td>230.1</td>\n",
       "      <td>37.8</td>\n",
       "      <td>69.2</td>\n",
       "      <td>22.1</td>\n",
       "    </tr>\n",
       "    <tr>\n",
       "      <th>2</th>\n",
       "      <td>44.5</td>\n",
       "      <td>39.3</td>\n",
       "      <td>45.1</td>\n",
       "      <td>10.4</td>\n",
       "    </tr>\n",
       "    <tr>\n",
       "      <th>3</th>\n",
       "      <td>17.2</td>\n",
       "      <td>45.9</td>\n",
       "      <td>69.3</td>\n",
       "      <td>9.3</td>\n",
       "    </tr>\n",
       "    <tr>\n",
       "      <th>4</th>\n",
       "      <td>151.5</td>\n",
       "      <td>41.3</td>\n",
       "      <td>58.5</td>\n",
       "      <td>18.5</td>\n",
       "    </tr>\n",
       "    <tr>\n",
       "      <th>5</th>\n",
       "      <td>180.8</td>\n",
       "      <td>10.8</td>\n",
       "      <td>58.4</td>\n",
       "      <td>12.9</td>\n",
       "    </tr>\n",
       "  </tbody>\n",
       "</table>\n",
       "</div>"
      ],
      "text/plain": [
       "      TV  Radio  Newspaper  Sales\n",
       "1  230.1   37.8       69.2   22.1\n",
       "2   44.5   39.3       45.1   10.4\n",
       "3   17.2   45.9       69.3    9.3\n",
       "4  151.5   41.3       58.5   18.5\n",
       "5  180.8   10.8       58.4   12.9"
      ]
     },
     "execution_count": 9,
     "metadata": {},
     "output_type": "execute_result"
    }
   ],
   "source": [
    "data.head()"
   ]
  },
  {
   "cell_type": "code",
   "execution_count": 10,
   "id": "9c278d4f-cd12-4f56-83d8-f6e6a054cbca",
   "metadata": {},
   "outputs": [],
   "source": [
    "model=smf.ols(formula ='Sales ~ TV',data=data).fit()"
   ]
  },
  {
   "cell_type": "code",
   "execution_count": 11,
   "id": "b56b40b1-23f3-4fb8-b824-b64857b9d46e",
   "metadata": {},
   "outputs": [
    {
     "data": {
      "text/html": [
       "<table class=\"simpletable\">\n",
       "<caption>OLS Regression Results</caption>\n",
       "<tr>\n",
       "  <th>Dep. Variable:</th>          <td>Sales</td>      <th>  R-squared:         </th> <td>   0.612</td>\n",
       "</tr>\n",
       "<tr>\n",
       "  <th>Model:</th>                   <td>OLS</td>       <th>  Adj. R-squared:    </th> <td>   0.610</td>\n",
       "</tr>\n",
       "<tr>\n",
       "  <th>Method:</th>             <td>Least Squares</td>  <th>  F-statistic:       </th> <td>   312.1</td>\n",
       "</tr>\n",
       "<tr>\n",
       "  <th>Date:</th>             <td>Tue, 04 Feb 2025</td> <th>  Prob (F-statistic):</th> <td>1.47e-42</td>\n",
       "</tr>\n",
       "<tr>\n",
       "  <th>Time:</th>                 <td>16:06:31</td>     <th>  Log-Likelihood:    </th> <td> -519.05</td>\n",
       "</tr>\n",
       "<tr>\n",
       "  <th>No. Observations:</th>      <td>   200</td>      <th>  AIC:               </th> <td>   1042.</td>\n",
       "</tr>\n",
       "<tr>\n",
       "  <th>Df Residuals:</th>          <td>   198</td>      <th>  BIC:               </th> <td>   1049.</td>\n",
       "</tr>\n",
       "<tr>\n",
       "  <th>Df Model:</th>              <td>     1</td>      <th>                     </th>     <td> </td>   \n",
       "</tr>\n",
       "<tr>\n",
       "  <th>Covariance Type:</th>      <td>nonrobust</td>    <th>                     </th>     <td> </td>   \n",
       "</tr>\n",
       "</table>\n",
       "<table class=\"simpletable\">\n",
       "<tr>\n",
       "      <td></td>         <th>coef</th>     <th>std err</th>      <th>t</th>      <th>P>|t|</th>  <th>[0.025</th>    <th>0.975]</th>  \n",
       "</tr>\n",
       "<tr>\n",
       "  <th>Intercept</th> <td>    7.0326</td> <td>    0.458</td> <td>   15.360</td> <td> 0.000</td> <td>    6.130</td> <td>    7.935</td>\n",
       "</tr>\n",
       "<tr>\n",
       "  <th>TV</th>        <td>    0.0475</td> <td>    0.003</td> <td>   17.668</td> <td> 0.000</td> <td>    0.042</td> <td>    0.053</td>\n",
       "</tr>\n",
       "</table>\n",
       "<table class=\"simpletable\">\n",
       "<tr>\n",
       "  <th>Omnibus:</th>       <td> 0.531</td> <th>  Durbin-Watson:     </th> <td>   1.935</td>\n",
       "</tr>\n",
       "<tr>\n",
       "  <th>Prob(Omnibus):</th> <td> 0.767</td> <th>  Jarque-Bera (JB):  </th> <td>   0.669</td>\n",
       "</tr>\n",
       "<tr>\n",
       "  <th>Skew:</th>          <td>-0.089</td> <th>  Prob(JB):          </th> <td>   0.716</td>\n",
       "</tr>\n",
       "<tr>\n",
       "  <th>Kurtosis:</th>      <td> 2.779</td> <th>  Cond. No.          </th> <td>    338.</td>\n",
       "</tr>\n",
       "</table><br/><br/>Notes:<br/>[1] Standard Errors assume that the covariance matrix of the errors is correctly specified."
      ],
      "text/latex": [
       "\\begin{center}\n",
       "\\begin{tabular}{lclc}\n",
       "\\toprule\n",
       "\\textbf{Dep. Variable:}    &      Sales       & \\textbf{  R-squared:         } &     0.612   \\\\\n",
       "\\textbf{Model:}            &       OLS        & \\textbf{  Adj. R-squared:    } &     0.610   \\\\\n",
       "\\textbf{Method:}           &  Least Squares   & \\textbf{  F-statistic:       } &     312.1   \\\\\n",
       "\\textbf{Date:}             & Tue, 04 Feb 2025 & \\textbf{  Prob (F-statistic):} &  1.47e-42   \\\\\n",
       "\\textbf{Time:}             &     16:06:31     & \\textbf{  Log-Likelihood:    } &   -519.05   \\\\\n",
       "\\textbf{No. Observations:} &         200      & \\textbf{  AIC:               } &     1042.   \\\\\n",
       "\\textbf{Df Residuals:}     &         198      & \\textbf{  BIC:               } &     1049.   \\\\\n",
       "\\textbf{Df Model:}         &           1      & \\textbf{                     } &             \\\\\n",
       "\\textbf{Covariance Type:}  &    nonrobust     & \\textbf{                     } &             \\\\\n",
       "\\bottomrule\n",
       "\\end{tabular}\n",
       "\\begin{tabular}{lcccccc}\n",
       "                   & \\textbf{coef} & \\textbf{std err} & \\textbf{t} & \\textbf{P$> |$t$|$} & \\textbf{[0.025} & \\textbf{0.975]}  \\\\\n",
       "\\midrule\n",
       "\\textbf{Intercept} &       7.0326  &        0.458     &    15.360  &         0.000        &        6.130    &        7.935     \\\\\n",
       "\\textbf{TV}        &       0.0475  &        0.003     &    17.668  &         0.000        &        0.042    &        0.053     \\\\\n",
       "\\bottomrule\n",
       "\\end{tabular}\n",
       "\\begin{tabular}{lclc}\n",
       "\\textbf{Omnibus:}       &  0.531 & \\textbf{  Durbin-Watson:     } &    1.935  \\\\\n",
       "\\textbf{Prob(Omnibus):} &  0.767 & \\textbf{  Jarque-Bera (JB):  } &    0.669  \\\\\n",
       "\\textbf{Skew:}          & -0.089 & \\textbf{  Prob(JB):          } &    0.716  \\\\\n",
       "\\textbf{Kurtosis:}      &  2.779 & \\textbf{  Cond. No.          } &     338.  \\\\\n",
       "\\bottomrule\n",
       "\\end{tabular}\n",
       "%\\caption{OLS Regression Results}\n",
       "\\end{center}\n",
       "\n",
       "Notes: \\newline\n",
       " [1] Standard Errors assume that the covariance matrix of the errors is correctly specified."
      ],
      "text/plain": [
       "<class 'statsmodels.iolib.summary.Summary'>\n",
       "\"\"\"\n",
       "                            OLS Regression Results                            \n",
       "==============================================================================\n",
       "Dep. Variable:                  Sales   R-squared:                       0.612\n",
       "Model:                            OLS   Adj. R-squared:                  0.610\n",
       "Method:                 Least Squares   F-statistic:                     312.1\n",
       "Date:                Tue, 04 Feb 2025   Prob (F-statistic):           1.47e-42\n",
       "Time:                        16:06:31   Log-Likelihood:                -519.05\n",
       "No. Observations:                 200   AIC:                             1042.\n",
       "Df Residuals:                     198   BIC:                             1049.\n",
       "Df Model:                           1                                         \n",
       "Covariance Type:            nonrobust                                         \n",
       "==============================================================================\n",
       "                 coef    std err          t      P>|t|      [0.025      0.975]\n",
       "------------------------------------------------------------------------------\n",
       "Intercept      7.0326      0.458     15.360      0.000       6.130       7.935\n",
       "TV             0.0475      0.003     17.668      0.000       0.042       0.053\n",
       "==============================================================================\n",
       "Omnibus:                        0.531   Durbin-Watson:                   1.935\n",
       "Prob(Omnibus):                  0.767   Jarque-Bera (JB):                0.669\n",
       "Skew:                          -0.089   Prob(JB):                        0.716\n",
       "Kurtosis:                       2.779   Cond. No.                         338.\n",
       "==============================================================================\n",
       "\n",
       "Notes:\n",
       "[1] Standard Errors assume that the covariance matrix of the errors is correctly specified.\n",
       "\"\"\""
      ]
     },
     "execution_count": 11,
     "metadata": {},
     "output_type": "execute_result"
    }
   ],
   "source": [
    "model.summary()"
   ]
  },
  {
   "cell_type": "code",
   "execution_count": 12,
   "id": "d59a73a7-511c-4e60-a5d4-fee56455b0b4",
   "metadata": {},
   "outputs": [
    {
     "data": {
      "text/plain": [
       "Intercept    7.032594\n",
       "TV           0.047537\n",
       "dtype: float64"
      ]
     },
     "execution_count": 12,
     "metadata": {},
     "output_type": "execute_result"
    }
   ],
   "source": [
    "model.params"
   ]
  },
  {
   "cell_type": "code",
   "execution_count": 13,
   "id": "660862f5-efa6-491b-998d-86453519c699",
   "metadata": {},
   "outputs": [
    {
     "data": {
      "text/html": [
       "<div>\n",
       "<style scoped>\n",
       "    .dataframe tbody tr th:only-of-type {\n",
       "        vertical-align: middle;\n",
       "    }\n",
       "\n",
       "    .dataframe tbody tr th {\n",
       "        vertical-align: top;\n",
       "    }\n",
       "\n",
       "    .dataframe thead th {\n",
       "        text-align: right;\n",
       "    }\n",
       "</style>\n",
       "<table border=\"1\" class=\"dataframe\">\n",
       "  <thead>\n",
       "    <tr style=\"text-align: right;\">\n",
       "      <th></th>\n",
       "      <th>0</th>\n",
       "      <th>1</th>\n",
       "    </tr>\n",
       "  </thead>\n",
       "  <tbody>\n",
       "    <tr>\n",
       "      <th>Intercept</th>\n",
       "      <td>6.129719</td>\n",
       "      <td>7.935468</td>\n",
       "    </tr>\n",
       "    <tr>\n",
       "      <th>TV</th>\n",
       "      <td>0.042231</td>\n",
       "      <td>0.052843</td>\n",
       "    </tr>\n",
       "  </tbody>\n",
       "</table>\n",
       "</div>"
      ],
      "text/plain": [
       "                  0         1\n",
       "Intercept  6.129719  7.935468\n",
       "TV         0.042231  0.052843"
      ]
     },
     "execution_count": 13,
     "metadata": {},
     "output_type": "execute_result"
    }
   ],
   "source": [
    "model.conf_int()"
   ]
  },
  {
   "cell_type": "code",
   "execution_count": 14,
   "id": "941ec9d9-8eec-4b4c-8b9b-0131671bafce",
   "metadata": {},
   "outputs": [
    {
     "data": {
      "text/plain": [
       "Intercept    1.406300e-35\n",
       "TV           1.467390e-42\n",
       "dtype: float64"
      ]
     },
     "execution_count": 14,
     "metadata": {},
     "output_type": "execute_result"
    }
   ],
   "source": [
    "model.pvalues"
   ]
  },
  {
   "cell_type": "code",
   "execution_count": 15,
   "id": "33366bc7-79e8-4fe8-84b5-d4f749eaaebc",
   "metadata": {},
   "outputs": [
    {
     "data": {
      "text/plain": [
       "0.611875050850071"
      ]
     },
     "execution_count": 15,
     "metadata": {},
     "output_type": "execute_result"
    }
   ],
   "source": [
    "model.rsquared"
   ]
  },
  {
   "cell_type": "code",
   "execution_count": 16,
   "id": "f7001cc0-88bb-4ebb-89d4-4e26d0d95f67",
   "metadata": {},
   "outputs": [],
   "source": [
    "model=smf.ols(formula ='Sales ~ TV + Radio + Newspaper',data=data).fit()"
   ]
  },
  {
   "cell_type": "code",
   "execution_count": 17,
   "id": "ae389fef-44b0-43dc-955c-b4d4d8809275",
   "metadata": {},
   "outputs": [
    {
     "data": {
      "text/html": [
       "<table class=\"simpletable\">\n",
       "<caption>OLS Regression Results</caption>\n",
       "<tr>\n",
       "  <th>Dep. Variable:</th>          <td>Sales</td>      <th>  R-squared:         </th> <td>   0.897</td>\n",
       "</tr>\n",
       "<tr>\n",
       "  <th>Model:</th>                   <td>OLS</td>       <th>  Adj. R-squared:    </th> <td>   0.896</td>\n",
       "</tr>\n",
       "<tr>\n",
       "  <th>Method:</th>             <td>Least Squares</td>  <th>  F-statistic:       </th> <td>   570.3</td>\n",
       "</tr>\n",
       "<tr>\n",
       "  <th>Date:</th>             <td>Tue, 04 Feb 2025</td> <th>  Prob (F-statistic):</th> <td>1.58e-96</td>\n",
       "</tr>\n",
       "<tr>\n",
       "  <th>Time:</th>                 <td>16:09:32</td>     <th>  Log-Likelihood:    </th> <td> -386.18</td>\n",
       "</tr>\n",
       "<tr>\n",
       "  <th>No. Observations:</th>      <td>   200</td>      <th>  AIC:               </th> <td>   780.4</td>\n",
       "</tr>\n",
       "<tr>\n",
       "  <th>Df Residuals:</th>          <td>   196</td>      <th>  BIC:               </th> <td>   793.6</td>\n",
       "</tr>\n",
       "<tr>\n",
       "  <th>Df Model:</th>              <td>     3</td>      <th>                     </th>     <td> </td>   \n",
       "</tr>\n",
       "<tr>\n",
       "  <th>Covariance Type:</th>      <td>nonrobust</td>    <th>                     </th>     <td> </td>   \n",
       "</tr>\n",
       "</table>\n",
       "<table class=\"simpletable\">\n",
       "<tr>\n",
       "      <td></td>         <th>coef</th>     <th>std err</th>      <th>t</th>      <th>P>|t|</th>  <th>[0.025</th>    <th>0.975]</th>  \n",
       "</tr>\n",
       "<tr>\n",
       "  <th>Intercept</th> <td>    2.9389</td> <td>    0.312</td> <td>    9.422</td> <td> 0.000</td> <td>    2.324</td> <td>    3.554</td>\n",
       "</tr>\n",
       "<tr>\n",
       "  <th>TV</th>        <td>    0.0458</td> <td>    0.001</td> <td>   32.809</td> <td> 0.000</td> <td>    0.043</td> <td>    0.049</td>\n",
       "</tr>\n",
       "<tr>\n",
       "  <th>Radio</th>     <td>    0.1885</td> <td>    0.009</td> <td>   21.893</td> <td> 0.000</td> <td>    0.172</td> <td>    0.206</td>\n",
       "</tr>\n",
       "<tr>\n",
       "  <th>Newspaper</th> <td>   -0.0010</td> <td>    0.006</td> <td>   -0.177</td> <td> 0.860</td> <td>   -0.013</td> <td>    0.011</td>\n",
       "</tr>\n",
       "</table>\n",
       "<table class=\"simpletable\">\n",
       "<tr>\n",
       "  <th>Omnibus:</th>       <td>60.414</td> <th>  Durbin-Watson:     </th> <td>   2.084</td>\n",
       "</tr>\n",
       "<tr>\n",
       "  <th>Prob(Omnibus):</th> <td> 0.000</td> <th>  Jarque-Bera (JB):  </th> <td> 151.241</td>\n",
       "</tr>\n",
       "<tr>\n",
       "  <th>Skew:</th>          <td>-1.327</td> <th>  Prob(JB):          </th> <td>1.44e-33</td>\n",
       "</tr>\n",
       "<tr>\n",
       "  <th>Kurtosis:</th>      <td> 6.332</td> <th>  Cond. No.          </th> <td>    454.</td>\n",
       "</tr>\n",
       "</table><br/><br/>Notes:<br/>[1] Standard Errors assume that the covariance matrix of the errors is correctly specified."
      ],
      "text/latex": [
       "\\begin{center}\n",
       "\\begin{tabular}{lclc}\n",
       "\\toprule\n",
       "\\textbf{Dep. Variable:}    &      Sales       & \\textbf{  R-squared:         } &     0.897   \\\\\n",
       "\\textbf{Model:}            &       OLS        & \\textbf{  Adj. R-squared:    } &     0.896   \\\\\n",
       "\\textbf{Method:}           &  Least Squares   & \\textbf{  F-statistic:       } &     570.3   \\\\\n",
       "\\textbf{Date:}             & Tue, 04 Feb 2025 & \\textbf{  Prob (F-statistic):} &  1.58e-96   \\\\\n",
       "\\textbf{Time:}             &     16:09:32     & \\textbf{  Log-Likelihood:    } &   -386.18   \\\\\n",
       "\\textbf{No. Observations:} &         200      & \\textbf{  AIC:               } &     780.4   \\\\\n",
       "\\textbf{Df Residuals:}     &         196      & \\textbf{  BIC:               } &     793.6   \\\\\n",
       "\\textbf{Df Model:}         &           3      & \\textbf{                     } &             \\\\\n",
       "\\textbf{Covariance Type:}  &    nonrobust     & \\textbf{                     } &             \\\\\n",
       "\\bottomrule\n",
       "\\end{tabular}\n",
       "\\begin{tabular}{lcccccc}\n",
       "                   & \\textbf{coef} & \\textbf{std err} & \\textbf{t} & \\textbf{P$> |$t$|$} & \\textbf{[0.025} & \\textbf{0.975]}  \\\\\n",
       "\\midrule\n",
       "\\textbf{Intercept} &       2.9389  &        0.312     &     9.422  &         0.000        &        2.324    &        3.554     \\\\\n",
       "\\textbf{TV}        &       0.0458  &        0.001     &    32.809  &         0.000        &        0.043    &        0.049     \\\\\n",
       "\\textbf{Radio}     &       0.1885  &        0.009     &    21.893  &         0.000        &        0.172    &        0.206     \\\\\n",
       "\\textbf{Newspaper} &      -0.0010  &        0.006     &    -0.177  &         0.860        &       -0.013    &        0.011     \\\\\n",
       "\\bottomrule\n",
       "\\end{tabular}\n",
       "\\begin{tabular}{lclc}\n",
       "\\textbf{Omnibus:}       & 60.414 & \\textbf{  Durbin-Watson:     } &    2.084  \\\\\n",
       "\\textbf{Prob(Omnibus):} &  0.000 & \\textbf{  Jarque-Bera (JB):  } &  151.241  \\\\\n",
       "\\textbf{Skew:}          & -1.327 & \\textbf{  Prob(JB):          } & 1.44e-33  \\\\\n",
       "\\textbf{Kurtosis:}      &  6.332 & \\textbf{  Cond. No.          } &     454.  \\\\\n",
       "\\bottomrule\n",
       "\\end{tabular}\n",
       "%\\caption{OLS Regression Results}\n",
       "\\end{center}\n",
       "\n",
       "Notes: \\newline\n",
       " [1] Standard Errors assume that the covariance matrix of the errors is correctly specified."
      ],
      "text/plain": [
       "<class 'statsmodels.iolib.summary.Summary'>\n",
       "\"\"\"\n",
       "                            OLS Regression Results                            \n",
       "==============================================================================\n",
       "Dep. Variable:                  Sales   R-squared:                       0.897\n",
       "Model:                            OLS   Adj. R-squared:                  0.896\n",
       "Method:                 Least Squares   F-statistic:                     570.3\n",
       "Date:                Tue, 04 Feb 2025   Prob (F-statistic):           1.58e-96\n",
       "Time:                        16:09:32   Log-Likelihood:                -386.18\n",
       "No. Observations:                 200   AIC:                             780.4\n",
       "Df Residuals:                     196   BIC:                             793.6\n",
       "Df Model:                           3                                         \n",
       "Covariance Type:            nonrobust                                         \n",
       "==============================================================================\n",
       "                 coef    std err          t      P>|t|      [0.025      0.975]\n",
       "------------------------------------------------------------------------------\n",
       "Intercept      2.9389      0.312      9.422      0.000       2.324       3.554\n",
       "TV             0.0458      0.001     32.809      0.000       0.043       0.049\n",
       "Radio          0.1885      0.009     21.893      0.000       0.172       0.206\n",
       "Newspaper     -0.0010      0.006     -0.177      0.860      -0.013       0.011\n",
       "==============================================================================\n",
       "Omnibus:                       60.414   Durbin-Watson:                   2.084\n",
       "Prob(Omnibus):                  0.000   Jarque-Bera (JB):              151.241\n",
       "Skew:                          -1.327   Prob(JB):                     1.44e-33\n",
       "Kurtosis:                       6.332   Cond. No.                         454.\n",
       "==============================================================================\n",
       "\n",
       "Notes:\n",
       "[1] Standard Errors assume that the covariance matrix of the errors is correctly specified.\n",
       "\"\"\""
      ]
     },
     "execution_count": 17,
     "metadata": {},
     "output_type": "execute_result"
    }
   ],
   "source": [
    "model.summary()"
   ]
  },
  {
   "cell_type": "code",
   "execution_count": 18,
   "id": "14320e45-5813-4c51-80c9-69c9b7c8d682",
   "metadata": {},
   "outputs": [
    {
     "data": {
      "text/plain": [
       "Intercept    2.938889\n",
       "TV           0.045765\n",
       "Radio        0.188530\n",
       "Newspaper   -0.001037\n",
       "dtype: float64"
      ]
     },
     "execution_count": 18,
     "metadata": {},
     "output_type": "execute_result"
    }
   ],
   "source": [
    "model.params"
   ]
  },
  {
   "cell_type": "code",
   "execution_count": 20,
   "id": "4bad88ea-d33e-43d1-9ffe-3eca4ea40b63",
   "metadata": {},
   "outputs": [
    {
     "data": {
      "text/plain": [
       "Intercept    1.267295e-17\n",
       "TV           1.509960e-81\n",
       "Radio        1.505339e-54\n",
       "Newspaper    8.599151e-01\n",
       "dtype: float64"
      ]
     },
     "execution_count": 20,
     "metadata": {},
     "output_type": "execute_result"
    }
   ],
   "source": [
    "model.pvalues"
   ]
  },
  {
   "cell_type": "code",
   "execution_count": 21,
   "id": "b8834903-4440-4101-ac3f-2ceaf8e238d2",
   "metadata": {},
   "outputs": [
    {
     "data": {
      "text/plain": [
       "0.8972106381789522"
      ]
     },
     "execution_count": 21,
     "metadata": {},
     "output_type": "execute_result"
    }
   ],
   "source": [
    "model.rsquared"
   ]
  },
  {
   "cell_type": "markdown",
   "id": "a38a4eb8-c5a2-4497-9139-3ad7753cb4ce",
   "metadata": {},
   "source": [
    "### Examples using SciPy"
   ]
  },
  {
   "cell_type": "code",
   "execution_count": 22,
   "id": "6e2ed78c-c19f-428c-9aa0-8441b383f1fd",
   "metadata": {},
   "outputs": [],
   "source": [
    "from scipy import constants"
   ]
  },
  {
   "cell_type": "code",
   "execution_count": 23,
   "id": "fd7dedea-ffd9-46d5-beef-45269ff00e58",
   "metadata": {},
   "outputs": [
    {
     "data": {
      "text/plain": [
       "['Avogadro',\n",
       " 'Boltzmann',\n",
       " 'Btu',\n",
       " 'Btu_IT',\n",
       " 'Btu_th',\n",
       " 'ConstantWarning',\n",
       " 'G',\n",
       " 'Julian_year',\n",
       " 'N_A',\n",
       " 'Planck',\n",
       " 'R',\n",
       " 'Rydberg',\n",
       " 'Stefan_Boltzmann',\n",
       " 'Wien',\n",
       " '__all__',\n",
       " '__builtins__',\n",
       " '__cached__',\n",
       " '__doc__',\n",
       " '__file__',\n",
       " '__loader__',\n",
       " '__name__',\n",
       " '__package__',\n",
       " '__path__',\n",
       " '__spec__',\n",
       " '_codata',\n",
       " '_constants',\n",
       " '_obsolete_constants',\n",
       " 'acre',\n",
       " 'alpha',\n",
       " 'angstrom',\n",
       " 'arcmin',\n",
       " 'arcminute',\n",
       " 'arcsec',\n",
       " 'arcsecond',\n",
       " 'astronomical_unit',\n",
       " 'atm',\n",
       " 'atmosphere',\n",
       " 'atomic_mass',\n",
       " 'atto',\n",
       " 'au',\n",
       " 'bar',\n",
       " 'barrel',\n",
       " 'bbl',\n",
       " 'blob',\n",
       " 'c',\n",
       " 'calorie',\n",
       " 'calorie_IT',\n",
       " 'calorie_th',\n",
       " 'carat',\n",
       " 'centi',\n",
       " 'codata',\n",
       " 'constants',\n",
       " 'convert_temperature',\n",
       " 'day',\n",
       " 'deci',\n",
       " 'degree',\n",
       " 'degree_Fahrenheit',\n",
       " 'deka',\n",
       " 'dyn',\n",
       " 'dyne',\n",
       " 'e',\n",
       " 'eV',\n",
       " 'electron_mass',\n",
       " 'electron_volt',\n",
       " 'elementary_charge',\n",
       " 'epsilon_0',\n",
       " 'erg',\n",
       " 'exa',\n",
       " 'exbi',\n",
       " 'femto',\n",
       " 'fermi',\n",
       " 'find',\n",
       " 'fine_structure',\n",
       " 'fluid_ounce',\n",
       " 'fluid_ounce_US',\n",
       " 'fluid_ounce_imp',\n",
       " 'foot',\n",
       " 'g',\n",
       " 'gallon',\n",
       " 'gallon_US',\n",
       " 'gallon_imp',\n",
       " 'gas_constant',\n",
       " 'gibi',\n",
       " 'giga',\n",
       " 'golden',\n",
       " 'golden_ratio',\n",
       " 'grain',\n",
       " 'gram',\n",
       " 'gravitational_constant',\n",
       " 'h',\n",
       " 'hbar',\n",
       " 'hectare',\n",
       " 'hecto',\n",
       " 'horsepower',\n",
       " 'hour',\n",
       " 'hp',\n",
       " 'inch',\n",
       " 'k',\n",
       " 'kgf',\n",
       " 'kibi',\n",
       " 'kilo',\n",
       " 'kilogram_force',\n",
       " 'kmh',\n",
       " 'knot',\n",
       " 'lambda2nu',\n",
       " 'lb',\n",
       " 'lbf',\n",
       " 'light_year',\n",
       " 'liter',\n",
       " 'litre',\n",
       " 'long_ton',\n",
       " 'm_e',\n",
       " 'm_n',\n",
       " 'm_p',\n",
       " 'm_u',\n",
       " 'mach',\n",
       " 'mebi',\n",
       " 'mega',\n",
       " 'metric_ton',\n",
       " 'micro',\n",
       " 'micron',\n",
       " 'mil',\n",
       " 'mile',\n",
       " 'milli',\n",
       " 'minute',\n",
       " 'mmHg',\n",
       " 'mph',\n",
       " 'mu_0',\n",
       " 'nano',\n",
       " 'nautical_mile',\n",
       " 'neutron_mass',\n",
       " 'nu2lambda',\n",
       " 'ounce',\n",
       " 'oz',\n",
       " 'parsec',\n",
       " 'pebi',\n",
       " 'peta',\n",
       " 'physical_constants',\n",
       " 'pi',\n",
       " 'pico',\n",
       " 'point',\n",
       " 'pound',\n",
       " 'pound_force',\n",
       " 'precision',\n",
       " 'proton_mass',\n",
       " 'psi',\n",
       " 'pt',\n",
       " 'quecto',\n",
       " 'quetta',\n",
       " 'ronna',\n",
       " 'ronto',\n",
       " 'short_ton',\n",
       " 'sigma',\n",
       " 'slinch',\n",
       " 'slug',\n",
       " 'speed_of_light',\n",
       " 'speed_of_sound',\n",
       " 'stone',\n",
       " 'survey_foot',\n",
       " 'survey_mile',\n",
       " 'tebi',\n",
       " 'tera',\n",
       " 'test',\n",
       " 'ton_TNT',\n",
       " 'torr',\n",
       " 'troy_ounce',\n",
       " 'troy_pound',\n",
       " 'u',\n",
       " 'unit',\n",
       " 'value',\n",
       " 'week',\n",
       " 'yard',\n",
       " 'year',\n",
       " 'yobi',\n",
       " 'yocto',\n",
       " 'yotta',\n",
       " 'zebi',\n",
       " 'zepto',\n",
       " 'zero_Celsius',\n",
       " 'zetta']"
      ]
     },
     "execution_count": 23,
     "metadata": {},
     "output_type": "execute_result"
    }
   ],
   "source": [
    "dir(constants)"
   ]
  },
  {
   "cell_type": "code",
   "execution_count": 25,
   "id": "f2f24734-fa7a-4ac0-80be-b844158eafd3",
   "metadata": {},
   "outputs": [
    {
     "data": {
      "text/plain": [
       "6.02214076e+23"
      ]
     },
     "execution_count": 25,
     "metadata": {},
     "output_type": "execute_result"
    }
   ],
   "source": [
    "constants.Avogadro"
   ]
  },
  {
   "cell_type": "code",
   "execution_count": 26,
   "id": "fab6b550-59f5-4d29-ac2c-7a137169a714",
   "metadata": {},
   "outputs": [
    {
     "data": {
      "text/plain": [
       "31536000.0"
      ]
     },
     "execution_count": 26,
     "metadata": {},
     "output_type": "execute_result"
    }
   ],
   "source": [
    "constants.year"
   ]
  },
  {
   "cell_type": "code",
   "execution_count": 27,
   "id": "9159cc0d-1992-420e-894e-69eb94f4135a",
   "metadata": {},
   "outputs": [
    {
     "data": {
      "text/plain": [
       "0.001"
      ]
     },
     "execution_count": 27,
     "metadata": {},
     "output_type": "execute_result"
    }
   ],
   "source": [
    "constants.gram"
   ]
  },
  {
   "cell_type": "code",
   "execution_count": 28,
   "id": "0e9b8b2e-5434-48e2-9bec-da70e2f1d0be",
   "metadata": {},
   "outputs": [
    {
     "data": {
      "text/plain": [
       "0.017453292519943295"
      ]
     },
     "execution_count": 28,
     "metadata": {},
     "output_type": "execute_result"
    }
   ],
   "source": [
    "constants.degree"
   ]
  },
  {
   "cell_type": "code",
   "execution_count": 31,
   "id": "2184dbea-3a1b-43c3-822e-79d84c575655",
   "metadata": {},
   "outputs": [
    {
     "data": {
      "text/plain": [
       "0.7071067811865476"
      ]
     },
     "execution_count": 31,
     "metadata": {},
     "output_type": "execute_result"
    }
   ],
   "source": [
    "#converting degree into radians without scipy package\n",
    "import numpy as np\n",
    "np.sin(45*np.pi/180)"
   ]
  },
  {
   "cell_type": "code",
   "execution_count": 32,
   "id": "1d1f820a-1f42-40b5-8e70-9a815845feb2",
   "metadata": {},
   "outputs": [
    {
     "data": {
      "text/plain": [
       "0.7071067811865476"
      ]
     },
     "execution_count": 32,
     "metadata": {},
     "output_type": "execute_result"
    }
   ],
   "source": [
    "#converting degree into radians using scipy package\n",
    "np.sin(45*constants.degree)"
   ]
  },
  {
   "cell_type": "code",
   "execution_count": 18,
   "id": "6fcc2efb-07f4-49ca-92ef-2ded173c68ca",
   "metadata": {},
   "outputs": [
    {
     "data": {
      "text/plain": [
       "5.0"
      ]
     },
     "execution_count": 18,
     "metadata": {},
     "output_type": "execute_result"
    }
   ],
   "source": []
  },
  {
   "cell_type": "code",
   "execution_count": null,
   "id": "13706279-2b28-4f9e-a8fc-7434816cfb93",
   "metadata": {},
   "outputs": [],
   "source": []
  }
 ],
 "metadata": {
  "kernelspec": {
   "display_name": "Python 3 (ipykernel)",
   "language": "python",
   "name": "python3"
  },
  "language_info": {
   "codemirror_mode": {
    "name": "ipython",
    "version": 3
   },
   "file_extension": ".py",
   "mimetype": "text/x-python",
   "name": "python",
   "nbconvert_exporter": "python",
   "pygments_lexer": "ipython3",
   "version": "3.11.7"
  }
 },
 "nbformat": 4,
 "nbformat_minor": 5
}
