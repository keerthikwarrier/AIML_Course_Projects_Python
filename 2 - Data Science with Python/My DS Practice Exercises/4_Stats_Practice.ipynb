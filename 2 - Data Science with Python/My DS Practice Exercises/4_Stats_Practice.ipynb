{
 "cells": [
  {
   "cell_type": "markdown",
   "id": "962863ba-51c7-4fcb-9f20-2f1e9a85de1e",
   "metadata": {},
   "source": [
    "## Practice-1\n",
    "You are given two matrices, A and B. Use the NumPy library to perform various matrix operations. This exercise will help you grasp the fundamental concepts of linear algebra and their application in Python.\r\n",
    "Here are the two matrices:dd Matrix A and Matrix B\r\n"
   ]
  },
  {
   "cell_type": "markdown",
   "id": "55f07cb0-8f15-4836-8594-bd9d289c1a0e",
   "metadata": {},
   "source": [
    "### Steps to Perform:\n",
    "\n",
    "1. Add Matrix A and Matrix B"
   ]
  },
  {
   "cell_type": "code",
   "execution_count": 16,
   "id": "f40eb17b-faee-41d3-99ef-f518d088176e",
   "metadata": {},
   "outputs": [
    {
     "data": {
      "text/plain": [
       "array([[ 9, 15],\n",
       "       [ 5, 10]])"
      ]
     },
     "execution_count": 16,
     "metadata": {},
     "output_type": "execute_result"
    }
   ],
   "source": [
    "import numpy as np\n",
    "A=np.array([[4,7],[2,6]])\n",
    "B=np.array([[5,8],[3,4]])\n",
    "sum=A+B\n",
    "sum"
   ]
  },
  {
   "cell_type": "markdown",
   "id": "e76e623c-a7de-4437-8d76-49c5215fccc1",
   "metadata": {},
   "source": [
    "2. Multiply Matrix A and Matrix B"
   ]
  },
  {
   "cell_type": "code",
   "execution_count": 17,
   "id": "a3f2a104-523f-493a-be11-9fc1841b1da3",
   "metadata": {},
   "outputs": [
    {
     "data": {
      "text/plain": [
       "array([[20, 56],\n",
       "       [ 6, 24]])"
      ]
     },
     "execution_count": 17,
     "metadata": {},
     "output_type": "execute_result"
    }
   ],
   "source": [
    "multi=A*B\n",
    "multi"
   ]
  },
  {
   "cell_type": "markdown",
   "id": "c4dc073d-d104-43c4-baf2-097149ea99ac",
   "metadata": {},
   "source": [
    "3. Transpose Matrix A"
   ]
  },
  {
   "cell_type": "code",
   "execution_count": 19,
   "id": "d13ad724-3238-4c9c-b68c-e3dd0bf21b28",
   "metadata": {},
   "outputs": [
    {
     "name": "stdout",
     "output_type": "stream",
     "text": [
      "[[4 7]\n",
      " [2 6]]\n",
      "[[4 2]\n",
      " [7 6]]\n"
     ]
    }
   ],
   "source": [
    "print(A)\n",
    "print(np.transpose(A))"
   ]
  },
  {
   "cell_type": "markdown",
   "id": "56e540f2-7a7b-4341-93ef-391820e855cc",
   "metadata": {},
   "source": [
    "4. Find the determinant of Matrix B"
   ]
  },
  {
   "cell_type": "code",
   "execution_count": 24,
   "id": "81d497be-5df0-4a60-a397-f09dc20343c2",
   "metadata": {},
   "outputs": [
    {
     "data": {
      "text/plain": [
       "-3.999999999999999"
      ]
     },
     "execution_count": 24,
     "metadata": {},
     "output_type": "execute_result"
    }
   ],
   "source": [
    "np.linalg.det(B)"
   ]
  },
  {
   "cell_type": "markdown",
   "id": "1e42b66e-df0e-41c2-94ec-10242a77a546",
   "metadata": {},
   "source": [
    "5. Find the inverse of Matrix A (if it exists)"
   ]
  },
  {
   "cell_type": "code",
   "execution_count": null,
   "id": "bee0307c-76c8-4765-bc65-6a57ae776add",
   "metadata": {},
   "outputs": [],
   "source": [
    "np.linalg"
   ]
  }
 ],
 "metadata": {
  "kernelspec": {
   "display_name": "Python 3 (ipykernel)",
   "language": "python",
   "name": "python3"
  },
  "language_info": {
   "codemirror_mode": {
    "name": "ipython",
    "version": 3
   },
   "file_extension": ".py",
   "mimetype": "text/x-python",
   "name": "python",
   "nbconvert_exporter": "python",
   "pygments_lexer": "ipython3",
   "version": "3.11.7"
  }
 },
 "nbformat": 4,
 "nbformat_minor": 5
}
