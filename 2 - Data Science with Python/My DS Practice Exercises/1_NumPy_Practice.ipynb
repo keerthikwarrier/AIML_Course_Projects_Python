{
 "cells": [
  {
   "cell_type": "markdown",
   "id": "64b6f2cb-e5f2-4a1d-8d1f-3f2cbe62c68c",
   "metadata": {},
   "source": [
    "## Practice-1\n",
    "As a data scientist, your task is to create a Python project that explores NumPy arrays' attributes and functions. This project will deepen your understanding of NumPy arrays, including accessing their attributes and performing common operations using NumPy functions. Use the dataset containing daily temperature records for a week.\r\n",
    "- temperatures = [ 75.2, 77.1, 74.5, 79.3, 82.6, 81.2, 77.8 ]\r\n",
    "\n"
   ]
  },
  {
   "cell_type": "markdown",
   "id": "50d2119e-cc67-4729-ac3c-532213807ec5",
   "metadata": {},
   "source": [
    "**Steps to Perform:**\n",
    "\n",
    "1. Explore the key attributes of NumPy arrays, including `ndim`, `shape`, `size`, `dtype`, `itemsize`, and `data`."
   ]
  },
  {
   "cell_type": "code",
   "execution_count": 4,
   "id": "6fa568ba-9723-4aba-85b3-9c6a28873afc",
   "metadata": {},
   "outputs": [
    {
     "name": "stdout",
     "output_type": "stream",
     "text": [
      "Dimesnion of NumPy:  1\n",
      "Shape of NumPy:  (7,)\n",
      "Size of NumPy:  7\n",
      "DataType of NumPy:  float64\n",
      "Size of the items in NumPy:  8\n",
      "Data in NumPy:  [75.2 77.1 74.5 79.3 82.6 81.2 77.8]\n"
     ]
    }
   ],
   "source": [
    "import numpy as np\n",
    "temperatures=np.array([75.2, 77.1, 74.5, 79.3, 82.6, 81.2, 77.8 ])\n",
    "print(\"Dimension of NumPy: \",temperatures.ndim)\n",
    "print(\"Shape of NumPy: \",temperatures.shape)\n",
    "print(\"Size of NumPy: \",temperatures.size)\n",
    "print(\"DataType of NumPy: \",temperatures.dtype)\n",
    "print(\"Size of the items in NumPy: \",temperatures.itemsize)\n",
    "print(\"Data in NumPy: \",temperatures)"
   ]
  },
  {
   "cell_type": "markdown",
   "id": "e0c89a55-6cfd-4112-b367-5d345cdac20d",
   "metadata": {},
   "source": [
    "2. Demonstrate important NumPy array functions such as `reshape`, `flatten`, and `transpose`."
   ]
  },
  {
   "cell_type": "code",
   "execution_count": 12,
   "id": "187399a1-1897-452c-8bc3-dbdfe7ae4922",
   "metadata": {},
   "outputs": [
    {
     "name": "stdout",
     "output_type": "stream",
     "text": [
      "Reshape the array:  [[75.2 77.1 74.5 79.3]\n",
      " [82.6 81.2 77.8 66.7]]\n",
      "transpose the array:  [[75.2 82.6]\n",
      " [77.1 81.2]\n",
      " [74.5 77.8]\n",
      " [79.3 66.7]]\n",
      "Flatten the reshaped array:  [75.2 77.1 74.5 79.3 82.6 81.2 77.8 66.7]\n"
     ]
    }
   ],
   "source": [
    "import numpy as np\n",
    "temperatures=np.array([75.2, 77.1, 74.5, 79.3, 82.6, 81.2, 77.8,66.7])\n",
    "#Reshape the array to (2,4)\n",
    "reshaped=temperatures.reshape(2,4)\n",
    "print(\"Reshape the array: \",reshaped)\n",
    "#transpose of above array is (4,2)\n",
    "print(\"transpose the array: \",reshaped.transpose())\n",
    "#flatten the array to original 1 dimesnional array\n",
    "print(\"Flatten the reshaped array: \",reshaped.flatten())"
   ]
  },
  {
   "cell_type": "markdown",
   "id": "57c8b5a9-e36c-4dc0-961e-06d190bac8db",
   "metadata": {},
   "source": [
    "## Practice-2"
   ]
  },
  {
   "cell_type": "markdown",
   "id": "0198e599-5b26-4c67-8806-aea5d59e32be",
   "metadata": {},
   "source": [
    "Consider the following arrays:\n",
    "\n",
    "- Arrays for Arithmetic Operations:\n",
    "  * Array A: [15, 25, 35, 45, 55]\n",
    "  * Array B: [5, 10, 15, 20, 25]\n",
    "\n",
    "- Array for Statistical Operations:\n",
    "  * Array C: [12, 22, 32, 42, 52, 62, 72, 82, 92, 102]\n",
    "\n",
    "- Arrays for String Functions:\n",
    "  * String Array X: ['Hello', 'Data', 'Science', 'Class', 'Learners']\n",
    "  * String Array Y: ['World', 'Analysis', 'is', 'Fun', '2023']\n",
    "\n"
   ]
  },
  {
   "cell_type": "markdown",
   "id": "93a7867e-d37a-4ff4-b93b-56405ae50e0e",
   "metadata": {},
   "source": [
    "__Steps to Perform:__\n",
    "\n",
    "1. Perform element-wise addition, subtraction, multiplication, division, and power operations on Arrays A and B"
   ]
  },
  {
   "cell_type": "code",
   "execution_count": 17,
   "id": "136aa6e1-ac04-49bf-88b7-b7ebca77aa38",
   "metadata": {},
   "outputs": [
    {
     "name": "stdout",
     "output_type": "stream",
     "text": [
      "Addition of 2 arrays [20 35 50 65 80]\n",
      "Subtraction of 2 arrays [10 15 20 25 30]\n",
      "Multiplication of 2 arrays [  75  250  525  900 1375]\n",
      "Division of 2 arrays [3.         2.5        2.33333333 2.25       2.2       ]\n",
      "A to the power of B [     759375  1977800241 -2091638453 -1924594607   447042167]\n"
     ]
    }
   ],
   "source": [
    "A=np.array( [15, 25, 35, 45, 55])\n",
    "B=np.array([5, 10, 15, 20, 25])\n",
    "#Addition\n",
    "print(\"Addition of 2 arrays\",np.add(A,B))\n",
    "#Subtraction\n",
    "print(\"Subtraction of 2 arrays\",np.subtract(A,B))\n",
    "#Multiplication\n",
    "print(\"Multiplication of 2 arrays\",np.multiply(A,B))\n",
    "#Division\n",
    "print(\"Division of 2 arrays\",np.divide(A,B))\n",
    "#A to the power B\n",
    "print(\"A to the power of B\",np.power(A,B))"
   ]
  },
  {
   "cell_type": "markdown",
   "id": "9fb006d8-2d11-4a03-8edd-04fe5bee2096",
   "metadata": {},
   "source": [
    "2. Calculate the median, mean, standard deviation, and variance for Array C"
   ]
  },
  {
   "cell_type": "code",
   "execution_count": 23,
   "id": "a21f2597-6605-4401-a331-8816aadd1fde",
   "metadata": {},
   "outputs": [
    {
     "name": "stdout",
     "output_type": "stream",
     "text": [
      "Mean of the values: 57.0\n",
      "Median of the values: 57.0\n",
      "Std of the values: 28.722813232690143\n",
      "Variance of the values: 825.0\n"
     ]
    }
   ],
   "source": [
    "C=np.array([12, 22, 32, 42, 52, 62, 72, 82, 92, 102])\n",
    "#Mean\n",
    "print(\"Mean of the values:\",np.mean(C))\n",
    "#Median\n",
    "print(\"Median of the values:\",np.median(C))\n",
    "#Standard Deviation\n",
    "print(\"Std of the values:\",np.std(C))\n",
    "#Variance\n",
    "print(\"Variance of the values:\",np.var(C))"
   ]
  },
  {
   "cell_type": "markdown",
   "id": "d4382d98-1272-48f6-bd9d-0e9a417ce75f",
   "metadata": {},
   "source": [
    "3. Concatenate corresponding elements of String Arrays X and Y"
   ]
  },
  {
   "cell_type": "code",
   "execution_count": 29,
   "id": "421804cd-de69-4772-8898-e3ef764dbeba",
   "metadata": {},
   "outputs": [
    {
     "data": {
      "text/plain": [
       "array(['Hello World', 'Data Analysis', 'Science is', 'Class Fun',\n",
       "       'Learners 2023'], dtype='<U17')"
      ]
     },
     "execution_count": 29,
     "metadata": {},
     "output_type": "execute_result"
    }
   ],
   "source": [
    "#import the numpy package\n",
    "import numpy as np\n",
    "X=np.array(['Hello ', 'Data ', 'Science ', 'Class ', 'Learners '])\n",
    "Y=np.array(['World', 'Analysis', 'is', 'Fun', '2023'])\n",
    "#add function is used to concat the strings\n",
    "concat=np.char.add(X,Y)\n",
    "concat"
   ]
  },
  {
   "cell_type": "markdown",
   "id": "8afe43e6-6302-4039-b02a-be6ed7a90e3f",
   "metadata": {},
   "source": [
    "4. Convert all elements in String Array X to uppercase"
   ]
  },
  {
   "cell_type": "code",
   "execution_count": 36,
   "id": "24d6cdd1-1655-449b-aaf8-cf4fd16b5805",
   "metadata": {},
   "outputs": [
    {
     "data": {
      "text/plain": [
       "array(['HELLO ', 'DATA ', 'SCIENCE ', 'CLASS ', 'LEARNERS '], dtype='<U9')"
      ]
     },
     "execution_count": 36,
     "metadata": {},
     "output_type": "execute_result"
    }
   ],
   "source": [
    "#upper is used to convert all characters into uppercase\n",
    "upper=np.char.upper(X)\n",
    "upper"
   ]
  },
  {
   "cell_type": "markdown",
   "id": "56629d38-e228-4806-96e9-77a5b515f199",
   "metadata": {},
   "source": [
    "5. Replace a specific substring in String Array Y with another substring\n",
    "\n",
    "   np.char.replace(arr, old, new, count=None)\r\n"
   ]
  },
  {
   "cell_type": "code",
   "execution_count": 49,
   "id": "109e0c56-0de5-4274-a5ff-89bd9f5fae7b",
   "metadata": {},
   "outputs": [
    {
     "name": "stdout",
     "output_type": "stream",
     "text": [
      "['World' 'Science' 'is' 'Fun' '2023']\n"
     ]
    }
   ],
   "source": [
    "import numpy as np\n",
    "\n",
    "Y = np.array(['World', 'Analysis', 'is', 'Fun', '2023'])\n",
    "replace = np.char.replace(Y, \"Analysis\", \"Science\")\n",
    "\n",
    "print(replace)"
   ]
  },
  {
   "cell_type": "markdown",
   "id": "9386a731-9b93-4dd4-a273-04a348cbe92c",
   "metadata": {},
   "source": [
    "### Practice-3"
   ]
  },
  {
   "cell_type": "markdown",
   "id": "04bf5e49-39e9-4cd0-a192-0b52e730281f",
   "metadata": {},
   "source": [
    "1. Create a 1D NumPy array with at least 10 elements"
   ]
  },
  {
   "cell_type": "code",
   "execution_count": 51,
   "id": "f0c2f3dc-0732-4c10-9487-bdbb829ee83c",
   "metadata": {},
   "outputs": [
    {
     "data": {
      "text/plain": [
       "array([1, 2, 3, 4, 5, 6])"
      ]
     },
     "execution_count": 51,
     "metadata": {},
     "output_type": "execute_result"
    }
   ],
   "source": [
    "import numpy as np\n",
    "one_dim_arr=np.array([1,2,3,4,5,6])\n",
    "one_dim_arr"
   ]
  },
  {
   "cell_type": "markdown",
   "id": "360606cc-7161-4a79-92fe-12a48a451a7b",
   "metadata": {},
   "source": [
    "2. Create a 2D NumPy array with a minimum of 3 rows and 4 columns"
   ]
  },
  {
   "cell_type": "code",
   "execution_count": 52,
   "id": "4a5a2fc7-eb4c-4791-93be-0fabaed1c678",
   "metadata": {},
   "outputs": [
    {
     "data": {
      "text/plain": [
       "array([[1, 2, 3, 4],\n",
       "       [4, 5, 6, 7],\n",
       "       [8, 9, 2, 1]])"
      ]
     },
     "execution_count": 52,
     "metadata": {},
     "output_type": "execute_result"
    }
   ],
   "source": [
    "import numpy as np\n",
    "two_dim_arr=np.array([[1,2,3,4],[4,5,6,7],[8,9,2,1]])\n",
    "two_dim_arr\n"
   ]
  },
  {
   "cell_type": "markdown",
   "id": "91b1c410-8412-47d6-8dc5-02a6fc7847e8",
   "metadata": {},
   "source": [
    "3. Create a 3D NumPy array with at least 2 matrices, each containing 2 rows and 3 columns"
   ]
  },
  {
   "cell_type": "code",
   "execution_count": 53,
   "id": "b6f8f84f-dd9b-4cf0-85e3-2c691171ad8f",
   "metadata": {},
   "outputs": [
    {
     "data": {
      "text/plain": [
       "array([[[1, 2, 3],\n",
       "        [4, 5, 6]],\n",
       "\n",
       "       [[8, 9, 2],\n",
       "        [4, 5, 9]]])"
      ]
     },
     "execution_count": 53,
     "metadata": {},
     "output_type": "execute_result"
    }
   ],
   "source": [
    "import numpy as np\n",
    "three_dim_arr=np.array([[[1,2,3],[4,5,6]],[[8,9,2],[4,5,9]]])\n",
    "three_dim_arr"
   ]
  },
  {
   "cell_type": "markdown",
   "id": "b8a475ae-f276-43a1-9112-b7bdff70984d",
   "metadata": {},
   "source": [
    "4. Accessing Elements in Arrays"
   ]
  },
  {
   "cell_type": "code",
   "execution_count": 62,
   "id": "d3ba6cb5-1d86-492c-8ec2-7467ed6156b1",
   "metadata": {},
   "outputs": [
    {
     "data": {
      "text/plain": [
       "4"
      ]
     },
     "execution_count": 62,
     "metadata": {},
     "output_type": "execute_result"
    }
   ],
   "source": [
    "one_dim_arr=np.array([1,2,3,4,5,6])\n",
    "one_dim_arr[3]"
   ]
  },
  {
   "cell_type": "markdown",
   "id": "40ddc189-2c29-4d6e-a914-82c12a3b7ca1",
   "metadata": {},
   "source": [
    "5. Access and print various elements from 1D, 2D, and, 3D using positive indexing"
   ]
  },
  {
   "cell_type": "code",
   "execution_count": 63,
   "id": "47767d05-8583-4a90-beda-3612fa107a3f",
   "metadata": {},
   "outputs": [
    {
     "name": "stdout",
     "output_type": "stream",
     "text": [
      "4\n",
      "6\n",
      "7\n"
     ]
    }
   ],
   "source": [
    "one_dim_arr=np.array([1,2,3,4,5,6])\n",
    "print(one_dim_arr[3])\n",
    "\n",
    "two_dim_arr=np.array([[1,2,3,4],[4,5,6,7],[8,9,2,1]])\n",
    "print(two_dim_arr[1][2])\n",
    "\n",
    "three_dim_arr=np.array([[[1,2,3],[4,5,6]],[[8,9,2],[4,5,7]]])\n",
    "print(three_dim_arr[1][1][2])"
   ]
  },
  {
   "cell_type": "markdown",
   "id": "3f125f97-bdc0-40af-aadc-a4620853a345",
   "metadata": {},
   "source": [
    "6. Perform and print some basic arithmetic operations (like addition, subtraction) using elements accessed from 1D, 2D, and, 3D arrays"
   ]
  },
  {
   "cell_type": "code",
   "execution_count": 68,
   "id": "027416a6-3649-4a00-88ca-2e36a52fcd24",
   "metadata": {},
   "outputs": [
    {
     "name": "stdout",
     "output_type": "stream",
     "text": [
      "Addition of 1-dim arrays: [20 35 50 65 80]\n",
      "Subtraction of 1-dim arrays: [10 15 20 25 30]\n",
      "Multiplication of 1-dim arrays: [  75  250  525  900 1375]\n",
      "Division of 1-dim arrays: [3.         2.5        2.33333333 2.25       2.2       ]\n",
      "A to the power of B: [     759375  1977800241 -2091638453 -1924594607   447042167]\n",
      "------------------------------\n",
      "\n",
      "Addition of 2-dim arrays [[20 35]\n",
      " [50 65]\n",
      " [80 90]]\n",
      "Subtraction of 2-dim arrays [[10 15]\n",
      " [20 25]\n",
      " [30 30]]\n",
      "Multiplication of 2-dim arrays [[  75  250]\n",
      " [ 525  900]\n",
      " [1375 1800]]\n",
      "Division of 2-dim arrays [[3.         2.5       ]\n",
      " [2.33333333 2.25      ]\n",
      " [2.2        2.        ]]\n",
      "A to the power of B [[     759375  1977800241]\n",
      " [-2091638453 -1924594607]\n",
      " [  447042167           0]]\n",
      "------------------------------\n",
      "\n",
      "Addition of 3-dim arrays [[[ 2  4  7]\n",
      "  [ 8 14 12]]\n",
      "\n",
      " [[10 12  4]\n",
      "  [ 8  5 14]]]\n",
      "Subtraction of 3-dim arrays [[[ 0  0 -1]\n",
      "  [ 0 -4  0]]\n",
      "\n",
      " [[ 6  6  0]\n",
      "  [ 0  5  0]]]\n",
      "Multiplication of 3-dim arrays [[[ 1  4 12]\n",
      "  [16 45 36]]\n",
      "\n",
      " [[16 27  4]\n",
      "  [16  0 49]]]\n",
      "Division of 3-dim arrays [[[1.         1.         0.75      ]\n",
      "  [1.         0.55555556 1.        ]]\n",
      "\n",
      " [[4.         3.         1.        ]\n",
      "  [1.                inf 1.        ]]]\n",
      "A to the power of B [[[      1       4      81]\n",
      "  [    256 1953125   46656]]\n",
      "\n",
      " [[     64     729       4]\n",
      "  [    256       1  823543]]]\n"
     ]
    },
    {
     "name": "stderr",
     "output_type": "stream",
     "text": [
      "C:\\Users\\Keert\\AppData\\Local\\Temp\\ipykernel_2056\\3855403712.py:41: RuntimeWarning: divide by zero encountered in divide\n",
      "  print(\"Division of 3-dim arrays\",np.divide(A,B))\n"
     ]
    }
   ],
   "source": [
    "#1 dimension array\n",
    "A=np.array( [15, 25, 35, 45, 55])\n",
    "B=np.array([5, 10, 15, 20, 25])\n",
    "#Addition\n",
    "print(\"Addition of 1-dim arrays:\",np.add(A,B))\n",
    "#Subtraction\n",
    "print(\"Subtraction of 1-dim arrays:\",np.subtract(A,B))\n",
    "#Multiplication\n",
    "print(\"Multiplication of 1-dim arrays:\",np.multiply(A,B))\n",
    "#Division\n",
    "print(\"Division of 1-dim arrays:\",np.divide(A,B))\n",
    "#A to the power B\n",
    "print(\"A to the power of B:\",np.power(A,B))\n",
    "\n",
    "print(\"------------------------------\\n\")\n",
    "#2-dimensional array\n",
    "A=np.array([[15, 25], [35, 45], [55,60]])\n",
    "B=np.array([[5, 10],[15, 20], [25,30]])\n",
    "#Addition\n",
    "print(\"Addition of 2-dim arrays\",np.add(A,B))\n",
    "#Subtraction\n",
    "print(\"Subtraction of 2-dim arrays\",np.subtract(A,B))\n",
    "#Multiplication\n",
    "print(\"Multiplication of 2-dim arrays\",np.multiply(A,B))\n",
    "#Division\n",
    "print(\"Division of 2-dim arrays\",np.divide(A,B))\n",
    "#A to the power B\n",
    "print(\"A to the power of B\",np.power(A,B))\n",
    "\n",
    "print(\"------------------------------\\n\")\n",
    "#3-dimensional array\n",
    "A=np.array([[[1,2,3],[4,5,6]],[[8,9,2],[4,5,7]]])\n",
    "B=np.array([[[1,2,4],[4,9,6]],[[2,3,2],[4,0,7]]])\n",
    "#Addition\n",
    "print(\"Addition of 3-dim arrays\",np.add(A,B))\n",
    "#Subtraction\n",
    "print(\"Subtraction of 3-dim arrays\",np.subtract(A,B))\n",
    "#Multiplication\n",
    "print(\"Multiplication of 3-dim arrays\",np.multiply(A,B))\n",
    "#Division\n",
    "print(\"Division of 3-dim arrays\",np.divide(A,B))\n",
    "#A to the power B\n",
    "print(\"A to the power of B\",np.power(A,B))"
   ]
  },
  {
   "cell_type": "markdown",
   "id": "6c8d2c83-476e-4b72-b73d-594c708dec89",
   "metadata": {},
   "source": [
    "7. Access and print elements using negative indices in all three arrays\n",
    "\n",
    "   In negative indices , count starts at 1 from behind not 0 "
   ]
  },
  {
   "cell_type": "code",
   "execution_count": 70,
   "id": "edaeee92-5fa1-406b-9ad8-effbbfbf6d1d",
   "metadata": {},
   "outputs": [
    {
     "name": "stdout",
     "output_type": "stream",
     "text": [
      "4\n",
      "2\n",
      "5\n"
     ]
    }
   ],
   "source": [
    "one_dim_arr=np.array([1,2,3,4,5,6])\n",
    "print(one_dim_arr[-3])\n",
    "\n",
    "two_dim_arr=np.array([[1,2,3,4],[4,5,6,7],[8,9,2,1]])\n",
    "print(two_dim_arr[-1][-2])\n",
    "\n",
    "three_dim_arr=np.array([[[1,2,3],[4,5,6]],[[8,9,2],[4,5,7]]])\n",
    "print(three_dim_arr[-1][-1][-2])"
   ]
  },
  {
   "cell_type": "markdown",
   "id": "bb50c524-42c7-4960-88f7-fc31b20604bd",
   "metadata": {},
   "source": [
    "### Practice-4\n",
    "- Creating arrays for slicing:\n",
    "    * Create a 1D NumPy array with at least 15 elements\n",
    "- Slicing 1D arrays:\n",
    "    * Perform and demonstrate different slices on the 1D array, explore it using step values"
   ]
  },
  {
   "cell_type": "code",
   "execution_count": 71,
   "id": "7c50394e-562d-463f-b45d-6debfe78b44d",
   "metadata": {},
   "outputs": [
    {
     "data": {
      "text/plain": [
       "array([3, 4, 5, 6])"
      ]
     },
     "execution_count": 71,
     "metadata": {},
     "output_type": "execute_result"
    }
   ],
   "source": [
    "one_dim_arr=np.array([1,2,3,4,5,6,7,8,9,3,4,5,3,2,6])\n",
    "one_dim_arr[2:6]"
   ]
  },
  {
   "cell_type": "markdown",
   "id": "8ac0be1e-683c-4705-a644-81bed346078e",
   "metadata": {},
   "source": [
    "- Creating arrays for slicing:\n",
    "  * Create a 2D NumPy array with a minimum of 4 rows and 5 columns\n",
    "- Slicing 2D arrays:\n",
    "  * Slice rows and columns separately and in combination"
   ]
  },
  {
   "cell_type": "code",
   "execution_count": 78,
   "id": "30988bac-9a5f-426a-9642-509e5ef214a3",
   "metadata": {},
   "outputs": [
    {
     "name": "stdout",
     "output_type": "stream",
     "text": [
      "[5 6 7]\n",
      "[8 9 2 1 6]\n"
     ]
    }
   ],
   "source": [
    "two_dim_arr=np.array([[1,2,3,4,5],[4,5,6,7,8],[8,9,2,1,6],[4,5,6,3,2]])\n",
    "print(two_dim_arr[1][1:4])\n",
    "print(two_dim_arr[1:3][1])"
   ]
  },
  {
   "cell_type": "markdown",
   "id": "6de56086-e2b3-4c46-a714-31bc1de9333f",
   "metadata": {},
   "source": [
    "- Creating arrays for slicing:\n",
    "   * Create a 3D NumPy array with at least 2 matrices, each containing 3 rows and 4 columns\n",
    "- Slicing 3D arrays:\r\n",
    "  * Perform slicing to access different matrices, rows within matrices, and elements within row\r\n"
   ]
  },
  {
   "cell_type": "code",
   "execution_count": 84,
   "id": "de55197f-1864-4f3a-b953-f90afd742929",
   "metadata": {},
   "outputs": [
    {
     "data": {
      "text/plain": [
       "array([4, 5, 7])"
      ]
     },
     "execution_count": 84,
     "metadata": {},
     "output_type": "execute_result"
    }
   ],
   "source": [
    "three_dim_arr=np.array([[[1,2,3],[4,5,6]],[[8,9,2],[4,5,7]]])\n",
    "three_dim_arr[1][0:2][1]"
   ]
  },
  {
   "cell_type": "markdown",
   "id": "7ca154e7-b088-4e4b-b6e5-203cfd8a761f",
   "metadata": {},
   "source": [
    "Negative slicing:\n",
    "  * Implement negative slicing on 1D, 2D, and 3D arrays\n",
    "  * Compare the outcomes of negative slicing with positive slicing\n"
   ]
  },
  {
   "cell_type": "code",
   "execution_count": 92,
   "id": "f3f910d0-6104-4900-bebc-2a9c2c2da15b",
   "metadata": {},
   "outputs": [
    {
     "name": "stdout",
     "output_type": "stream",
     "text": [
      "[3 4 5]\n",
      "[8 9 2]\n",
      "[4 5]\n"
     ]
    }
   ],
   "source": [
    "one_dim_arr=np.array([1,2,3,4,5,6])\n",
    "print(one_dim_arr[-4:-1])\n",
    "\n",
    "two_dim_arr=np.array([[1,2,3,4],[4,5,6,7],[8,9,2,1]])\n",
    "print(two_dim_arr[-1][-4:-1])\n",
    "\n",
    "three_dim_arr=np.array([[[1,2,3],[4,5,6]],[[8,9,2],[4,5,7]]])\n",
    "print(three_dim_arr[-1][-1][-3:-1])"
   ]
  },
  {
   "cell_type": "code",
   "execution_count": null,
   "id": "bbbee340-c92f-4f6b-b2de-e006975db033",
   "metadata": {},
   "outputs": [],
   "source": []
  }
 ],
 "metadata": {
  "kernelspec": {
   "display_name": "Python 3 (ipykernel)",
   "language": "python",
   "name": "python3"
  },
  "language_info": {
   "codemirror_mode": {
    "name": "ipython",
    "version": 3
   },
   "file_extension": ".py",
   "mimetype": "text/x-python",
   "name": "python",
   "nbconvert_exporter": "python",
   "pygments_lexer": "ipython3",
   "version": "3.11.7"
  }
 },
 "nbformat": 4,
 "nbformat_minor": 5
}
