{
 "cells": [
  {
   "cell_type": "markdown",
   "id": "23733325-b2cf-4521-bf5c-65eb8de92e2d",
   "metadata": {},
   "source": [
    "## Why Statistics is used in Data Science?\n",
    "- Statistics plays a vital role in data science, enabling analysts to identify patterns, relationships, and trends in large and complex data sets. Using statistical methods, data scientists can extract insights and reliably interpret results."
   ]
  },
  {
   "cell_type": "markdown",
   "id": "b845b7d2-d0b9-45b7-950e-3c8af8c0423c",
   "metadata": {},
   "source": [
    "### Common Statistical Terms with examples\n",
    "- Population and Sample\n",
    "  - Population is the complete data pool from where a sample is drawn for further analysis. Sample is the subset of population.\n",
    "  - **Example:** Consider the Automobiles manufactured in a month. The entire data is the population. and the automobile inspected for a quality     characteristic like mileage per gallon of gasoline is a sample.     \n",
    "- Measurement and Sample Data\n",
    "  - A measurement is a number or attribute calculated for each member of the population or sample.\n",
    "  - The measurement of the sample members are collectively called sample data.\n",
    "- Parameter and Statistic\n",
    "  - Parameter is a characteristic of the population to estimate or test, such as population mean.\n",
    "  - **Example:** Average mileage of all cars is parameter\n",
    "  - Statistic is a characteristic of a sample that usually helps to estimate or test population parameter\n",
    "  - **Example:** The average life of a sample inspected is statistics\n",
    "- Variable\n",
    "  - Variable is something that can take on different values in the dataset.\n",
    "- Distribution\n",
    "  - A sample data that takes values only from a certain range.\n",
    "- Descriptive Statistics\n",
    "  - A branch of statistics that involves organizing, displaying and describing data.\n",
    "- Inferential Statistics\n",
    "  - A branch of statistics that draws conclusions about population, based on information obtained from sample taken from population.\n",
    "- Qualitative and Quantitative Data\n",
    "  - Qualitative Data that is not numerical but categorical, such as labels,attributes ,etc. whereas Quantitative data is which are numerical in nature and belongs to a certain numerical scale."
   ]
  },
  {
   "cell_type": "markdown",
   "id": "3e7ebbee-5214-404a-92e6-ebc1d4fa7311",
   "metadata": {},
   "source": [
    "### Types of Statistics\n",
    "- Descriptive Statistics\n",
    "  - Its the collection, presentation and characterization of a set of data to describe its features\n",
    "  - **Example:** Selection of the sample, Presentation of Sample data, Value composition\n",
    "- Inferential Statistics\n",
    "  - It enables the estimation of a characteristic of a population.\n",
    "  - Facilitates decision-making regarding a population\n",
    "  - **Example:**  if the performance/ population average is atleast 23 miles per gallon \n",
    "- Predictive Statistics\n",
    "   - Extracting information of data to predict: Trends, Behaviour patterns, Relationships between characteristics\n",
    "   - **Example:** Data on the number of residents in the city recorderd over the years. Which can predict the population in future in the city to    estimate the demand for infrastructure in future.\n",
    "- Inter-relatedness of data\n",
    "  - Values of one characteristic can be predicted when the values of the other characteristics are known.\n",
    "  - **Example:** Demand Prediction - the demand of spares is predicted based on number of sales of cars."
   ]
  },
  {
   "cell_type": "markdown",
   "id": "27bd402c-081e-465e-b813-cd3118a02686",
   "metadata": {},
   "source": [
    "### Data Categorization\n",
    "- Statistical Data can be broadly categorized into\n",
    "  - Qualitative,Attributed or Categorical Data\n",
    "    - Data that is stated descriptively is called as qualitative data\n",
    "    - **Example:** Customer preferences for a particular product brand or Types of faults in a tennis player (Hitting the net , hitting outside the baseline)\n",
    "  - Quantitative, Variable or Measureable Data\n",
    "   - Data that is numerical is called as quantitative data which uses arithmetic operations.\n",
    "   - **Example:** Diameter of a pole, number of seats occupied in a theatre"
   ]
  },
  {
   "cell_type": "markdown",
   "id": "5a0f7089-b578-47a6-8ea9-783bb927b78d",
   "metadata": {},
   "source": [
    "## Measure of central tendency\n",
    "### Mean,Median and Mode\n",
    "- **Mean** is the average of the whole set of data. sum of all values/ number of values\n",
    "- **Median** is the middle value in the set of data. When the number of data is odd, the median is middle value and when its even, Median is the average of 2 middle numbers\n",
    "- Mode is the most frequently occurring data point in the dataset\n",
    "## Measure of dispersion\n",
    "### Range, Interquartile range and Standard Deviation\n",
    "- **Range** is the difference between largest and smallest datapoints in the set. But, it is sensitive to outliers and doesn't use every data point in the set\n",
    "- **Interquartile Range** is the difference between 25th and 75th percentile.\n",
    "- **Standard Deviation** is the most popular and effective way of measuring dispersion. It measures the spread of data around the mean. It is defined as square root of the sum of squares of the deviation around the mean divided by the number of observations.\n",
    "## Measure of Shape\n",
    "### Skewness and Kurtosis\n",
    "- **Skewness** is a measure of asymmetry or distortion of symmetric distribution.  It measures the deviation of the given distribution of a random variable from a symmetric distribution, such as normal distribution. Skewness can be found using medcouple or robust_skewness function in statsmodels.\n",
    "- **Kurtosis** is a measure of the tailedness of a distribution. Tailedness is how often outliers occur. Is it heavy-tailed or light tailed the distribution is realtive to normal distribution. If kurtosis is low, there will be no outliers and it falls to a normal distribution"
   ]
  },
  {
   "cell_type": "markdown",
   "id": "50385cad-abf4-4ad2-8dcf-0eda804a206d",
   "metadata": {},
   "source": [
    "## Measure of Central Tendency"
   ]
  },
  {
   "cell_type": "code",
   "execution_count": 9,
   "id": "d35b4c0c-6e8b-4237-b1ea-00478053ef3e",
   "metadata": {},
   "outputs": [
    {
     "name": "stdout",
     "output_type": "stream",
     "text": [
      "4340000.0\n",
      "4766729.247706422\n",
      "1868722.8281312098\n",
      "3492125008378.707\n"
     ]
    },
    {
     "ename": "AttributeError",
     "evalue": "module 'numpy' has no attribute 'mode'",
     "output_type": "error",
     "traceback": [
      "\u001b[1;31m---------------------------------------------------------------------------\u001b[0m",
      "\u001b[1;31mAttributeError\u001b[0m                            Traceback (most recent call last)",
      "Cell \u001b[1;32mIn[9], line 17\u001b[0m\n\u001b[0;32m     14\u001b[0m \u001b[38;5;66;03m#Calculate variance\u001b[39;00m\n\u001b[0;32m     15\u001b[0m \u001b[38;5;28mprint\u001b[39m(np\u001b[38;5;241m.\u001b[39mvar(arr\u001b[38;5;241m.\u001b[39mprice))\n\u001b[1;32m---> 17\u001b[0m \u001b[38;5;28mprint\u001b[39m(np\u001b[38;5;241m.\u001b[39mmode(arr\u001b[38;5;241m.\u001b[39mprice))\n\u001b[0;32m     19\u001b[0m \u001b[38;5;66;03m#calculate the percentile of the array (percentile can identify the values as array automatically with out initializing as numpy array)\u001b[39;00m\n\u001b[0;32m     20\u001b[0m \u001b[38;5;28mprint\u001b[39m(np\u001b[38;5;241m.\u001b[39mpercentile(arr\u001b[38;5;241m.\u001b[39mprice,\u001b[38;5;241m50\u001b[39m))\n",
      "File \u001b[1;32m~\\anaconda3\\Lib\\site-packages\\numpy\\__init__.py:333\u001b[0m, in \u001b[0;36m__getattr__\u001b[1;34m(attr)\u001b[0m\n\u001b[0;32m    330\u001b[0m     \u001b[38;5;124m\"\u001b[39m\u001b[38;5;124mRemoved in NumPy 1.25.0\u001b[39m\u001b[38;5;124m\"\u001b[39m\n\u001b[0;32m    331\u001b[0m     \u001b[38;5;28;01mraise\u001b[39;00m \u001b[38;5;167;01mRuntimeError\u001b[39;00m(\u001b[38;5;124m\"\u001b[39m\u001b[38;5;124mTester was removed in NumPy 1.25.\u001b[39m\u001b[38;5;124m\"\u001b[39m)\n\u001b[1;32m--> 333\u001b[0m \u001b[38;5;28;01mraise\u001b[39;00m \u001b[38;5;167;01mAttributeError\u001b[39;00m(\u001b[38;5;124m\"\u001b[39m\u001b[38;5;124mmodule \u001b[39m\u001b[38;5;132;01m{!r}\u001b[39;00m\u001b[38;5;124m has no attribute \u001b[39m\u001b[38;5;124m\"\u001b[39m\n\u001b[0;32m    334\u001b[0m                      \u001b[38;5;124m\"\u001b[39m\u001b[38;5;132;01m{!r}\u001b[39;00m\u001b[38;5;124m\"\u001b[39m\u001b[38;5;241m.\u001b[39mformat(\u001b[38;5;18m__name__\u001b[39m, attr))\n",
      "\u001b[1;31mAttributeError\u001b[0m: module 'numpy' has no attribute 'mode'"
     ]
    }
   ],
   "source": [
    "import numpy as np\n",
    "import pandas as pd\n",
    "arr = pd.read_csv(\"Housing.csv\")\n",
    "#Calculate the median\n",
    "print(np.median(arr.price))\n",
    "\n",
    "#Calculate mean(average of the data)\n",
    "print(np.mean(arr.price))\n",
    "#Mean and Median are not same\n",
    "\n",
    "#Calculate standard deviation\n",
    "print(np.std(arr.price))\n",
    "\n",
    "#Calculate variance\n",
    "print(np.var(arr.price))\n",
    "\n",
    "print(np.mode(arr.price))\n",
    "\n",
    "#calculate the percentile of the array (percentile can identify the values as array automatically with out initializing as numpy array)\n",
    "print(np.percentile(arr.price,50))"
   ]
  },
  {
   "cell_type": "code",
   "execution_count": 15,
   "id": "9f381b73-52ae-4e39-8a17-92d11819c815",
   "metadata": {},
   "outputs": [
    {
     "name": "stdout",
     "output_type": "stream",
     "text": [
      "price    4.766729e+06\n",
      "dtype: float64\n",
      "price    4340000.0\n",
      "dtype: float64\n",
      "price    1.870440e+06\n",
      "dtype: float64\n",
      "price    3.498544e+12\n",
      "dtype: float64\n"
     ]
    }
   ],
   "source": [
    "import pandas as pd\n",
    "arr = pd.read_csv(\"Housing.csv\")\n",
    "df=pd.DataFrame(arr.price)\n",
    "#Mean\n",
    "print(df.mean())\n",
    "#Median\n",
    "print(df.median())\n",
    "#std\n",
    "print(df.std())\n",
    "#variance\n",
    "print(df.var())\n"
   ]
  },
  {
   "cell_type": "markdown",
   "id": "7299d456-baba-48e0-8a5c-3a4158b0f042",
   "metadata": {},
   "source": [
    "## Measure of Dispersion"
   ]
  },
  {
   "cell_type": "code",
   "execution_count": 16,
   "id": "3fe48f08-6cf0-4209-a713-6be24ef5996b",
   "metadata": {},
   "outputs": [
    {
     "data": {
      "text/html": [
       "<div>\n",
       "<style scoped>\n",
       "    .dataframe tbody tr th:only-of-type {\n",
       "        vertical-align: middle;\n",
       "    }\n",
       "\n",
       "    .dataframe tbody tr th {\n",
       "        vertical-align: top;\n",
       "    }\n",
       "\n",
       "    .dataframe thead th {\n",
       "        text-align: right;\n",
       "    }\n",
       "</style>\n",
       "<table border=\"1\" class=\"dataframe\">\n",
       "  <thead>\n",
       "    <tr style=\"text-align: right;\">\n",
       "      <th></th>\n",
       "      <th>price</th>\n",
       "    </tr>\n",
       "  </thead>\n",
       "  <tbody>\n",
       "    <tr>\n",
       "      <th>count</th>\n",
       "      <td>5.450000e+02</td>\n",
       "    </tr>\n",
       "    <tr>\n",
       "      <th>mean</th>\n",
       "      <td>4.766729e+06</td>\n",
       "    </tr>\n",
       "    <tr>\n",
       "      <th>std</th>\n",
       "      <td>1.870440e+06</td>\n",
       "    </tr>\n",
       "    <tr>\n",
       "      <th>min</th>\n",
       "      <td>1.750000e+06</td>\n",
       "    </tr>\n",
       "    <tr>\n",
       "      <th>25%</th>\n",
       "      <td>3.430000e+06</td>\n",
       "    </tr>\n",
       "    <tr>\n",
       "      <th>50%</th>\n",
       "      <td>4.340000e+06</td>\n",
       "    </tr>\n",
       "    <tr>\n",
       "      <th>75%</th>\n",
       "      <td>5.740000e+06</td>\n",
       "    </tr>\n",
       "    <tr>\n",
       "      <th>max</th>\n",
       "      <td>1.330000e+07</td>\n",
       "    </tr>\n",
       "  </tbody>\n",
       "</table>\n",
       "</div>"
      ],
      "text/plain": [
       "              price\n",
       "count  5.450000e+02\n",
       "mean   4.766729e+06\n",
       "std    1.870440e+06\n",
       "min    1.750000e+06\n",
       "25%    3.430000e+06\n",
       "50%    4.340000e+06\n",
       "75%    5.740000e+06\n",
       "max    1.330000e+07"
      ]
     },
     "execution_count": 16,
     "metadata": {},
     "output_type": "execute_result"
    }
   ],
   "source": [
    "import pandas as pd\n",
    "arr = pd.read_csv(\"Housing.csv\")\n",
    "df=pd.DataFrame(arr.price)\n",
    "df.describe()"
   ]
  },
  {
   "cell_type": "markdown",
   "id": "814845fc-4a49-4876-967d-21402e8518ed",
   "metadata": {},
   "source": [
    "### Percentile, Quartile and Interquartile range\n",
    "- **Percentile** is a statistical measure used to indicate the value below which a given percentage of observations falls in a dataset. In simpler terms,it tells you how a particular value compares to the rest of the data.\n",
    "- **Quartiles** are statistical measures used to divide a dataset into 4 equal parts or quarters. They are calculated in ascending order and then divided into 4 equal-sized quarters\n",
    "- **Interquartile range** is the difference between the 25th  and 75th percentiles. If they are spaced widely, their interquartile range will be large. It is useful even if extreme values are not accurate"
   ]
  },
  {
   "cell_type": "code",
   "execution_count": 27,
   "id": "24cbb13a-fd49-4dc9-8eee-e30093eb96db",
   "metadata": {},
   "outputs": [
    {
     "name": "stdout",
     "output_type": "stream",
     "text": [
      "3430000.0\n",
      "5740000.0\n",
      "Interquartile range is : 2310000.0\n"
     ]
    }
   ],
   "source": [
    "import numpy as np\n",
    "import pandas as pd\n",
    "arr = pd.read_csv(\"Housing.csv\")\n",
    "q1=np.percentile(arr.price,25)\n",
    "q3=np.percentile(arr.price,75)\n",
    "print(q1)\n",
    "print(q3)\n",
    "#Inter-quartile range\n",
    "print(\"Interquartile range is :\",q3-q1)"
   ]
  },
  {
   "cell_type": "code",
   "execution_count": 28,
   "id": "fb16b2e7-61a0-457a-b26a-59dbf1593ff3",
   "metadata": {},
   "outputs": [
    {
     "data": {
      "text/plain": [
       "0      13300000\n",
       "1      12250000\n",
       "2      12250000\n",
       "3      12215000\n",
       "4      11410000\n",
       "         ...   \n",
       "540     1820000\n",
       "541     1767150\n",
       "542     1750000\n",
       "543     1750000\n",
       "544     1750000\n",
       "Name: price, Length: 545, dtype: int64"
      ]
     },
     "execution_count": 28,
     "metadata": {},
     "output_type": "execute_result"
    }
   ],
   "source": [
    "arr.price"
   ]
  },
  {
   "cell_type": "markdown",
   "id": "1887a2fa-8cad-40f1-86c1-96b713ed1dc6",
   "metadata": {},
   "source": [
    "## Measure of Shape"
   ]
  },
  {
   "cell_type": "markdown",
   "id": "c597bd63-4cab-47ff-83d6-97733fc6be59",
   "metadata": {},
   "source": [
    "### Interpreting Skewness Values\n",
    "- Skewness ≈ 0:\n",
    "The data distribution is fairly symmetrical.\n",
    "- Skewness > 0:\n",
    "The data is positively skewed (tail on the right).\n",
    "- Skewness < 0:\n",
    "The data is negatively skewed (tail on the left).\n",
    "\n",
    "-Skewness can be found using medcouple or robust_skewness function in statsmodels. medcouple gives you the result. robust_skewness will calculated using 4 different functions."
   ]
  },
  {
   "cell_type": "code",
   "execution_count": 38,
   "id": "a0e135a1-f522-49a5-ba3e-4cea55bd2032",
   "metadata": {},
   "outputs": [
    {
     "name": "stdout",
     "output_type": "stream",
     "text": [
      "0.2857142857142857\n"
     ]
    },
    {
     "data": {
      "image/png": "[encoded data removed]",
      "text/plain": [
       "<Figure size 640x480 with 1 Axes>"
      ]
     },
     "metadata": {},
     "output_type": "display_data"
    }
   ],
   "source": [
    "import numpy as np\n",
    "from statsmodels.stats.stattools import medcouple\n",
    "import seaborn as sns\n",
    "import matplotlib.pyplot as plt\n",
    "\n",
    "x = np.array([1, 2, 3, 4, 7, 8])\n",
    "mc=medcouple(x)\n",
    "# Using statsmodels.robust_skewness() method\n",
    "skewness = medcouple(x)\n",
    "print(skewness)\n",
    "\n",
    "#Plot the data in histogram plot\n",
    "sns.histplot(x,bins=10,kde=True)\n",
    "#Add the title with skewness value\n",
    "plt.title(f\"Histogram of Data (Medcouple:{mc:.3f})\")\n",
    "plt.show()"
   ]
  },
  {
   "cell_type": "code",
   "execution_count": 40,
   "id": "ec71500f-a8ac-47a6-bb94-e32f709df33e",
   "metadata": {},
   "outputs": [
    {
     "data": {
      "text/plain": [
       "(0.35989522792400647, 0.375, 0.3076923076923079, 0.26204871283216746)"
      ]
     },
     "execution_count": 40,
     "metadata": {},
     "output_type": "execute_result"
    }
   ],
   "source": [
    "from statsmodels.stats.stattools import robust_skewness\n",
    "rs=robust_skewness(x)\n",
    "rs\n"
   ]
  },
  {
   "cell_type": "markdown",
   "id": "c1364502-32bf-4af1-b508-459f29e695ee",
   "metadata": {},
   "source": [
    "### Interpreting Kurtosis\n",
    "- If Kurtosis value is negative, it doent have outliers\n",
    "- If Kurtosis value is positive, it has outliers."
   ]
  },
  {
   "cell_type": "code",
   "execution_count": 41,
   "id": "00819dcb-001f-4a93-a281-daad757461dd",
   "metadata": {},
   "outputs": [
    {
     "data": {
      "text/plain": [
       "(-1.3893422240232831,\n",
       " -0.17059511548521722,\n",
       " -0.9698425074861872,\n",
       " -1.218346951670164)"
      ]
     },
     "execution_count": 41,
     "metadata": {},
     "output_type": "execute_result"
    }
   ],
   "source": [
    "from statsmodels.stats.stattools import robust_kurtosis\n",
    "rs=robust_kurtosis(x)\n",
    "rs"
   ]
  },
  {
   "cell_type": "markdown",
   "id": "fc0f933c-4a30-4b9f-88c8-dcdf4cea03b0",
   "metadata": {},
   "source": [
    "### Co-variance and Co-relation\n",
    "- Both tries to find the relation between 2 variables,columns or features data.\n",
    "  **NOTE:** We can find decide the ML model by finding how co- related or co-variant the variables or feature datas are between each other."
   ]
  },
  {
   "cell_type": "code",
   "execution_count": 42,
   "id": "7a39b836-2c71-4028-9d39-d8961d3c9af2",
   "metadata": {},
   "outputs": [
    {
     "data": {
      "text/plain": [
       "-2.5"
      ]
     },
     "execution_count": 42,
     "metadata": {},
     "output_type": "execute_result"
    }
   ],
   "source": [
    "import pandas as pd\n",
    "\n",
    "# Creating a DataFrame with two columns, x and y\n",
    "data = {'x': [1, 2, 3, 4, 5],\n",
    "        'y': [5, 4, 3, 2, 1]}\n",
    "\n",
    "df = pd.DataFrame(data)\n",
    "\n",
    "# Calculating the covariance between x and y\n",
    "cov_xy = df.cov().iloc[0, 1]\n",
    "cov_xy"
   ]
  },
  {
   "cell_type": "code",
   "execution_count": null,
   "id": "45d5dd42-2338-43e1-a48a-8f1ae5984bf6",
   "metadata": {},
   "outputs": [],
   "source": []
  }
 ],
 "metadata": {
  "kernelspec": {
   "display_name": "Python 3 (ipykernel)",
   "language": "python",
   "name": "python3"
  },
  "language_info": {
   "codemirror_mode": {
    "name": "ipython",
    "version": 3
   },
   "file_extension": ".py",
   "mimetype": "text/x-python",
   "name": "python",
   "nbconvert_exporter": "python",
   "pygments_lexer": "ipython3",
   "version": "3.11.7"
  }
 },
 "nbformat": 4,
 "nbformat_minor": 5
}
