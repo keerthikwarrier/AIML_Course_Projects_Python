{
 "cells": [
  {
   "cell_type": "markdown",
   "id": "0f7d5ec2",
   "metadata": {},
   "source": [
    "### Python Functions with Syntax and Examples "
   ]
  },
  {
   "cell_type": "code",
   "execution_count": null,
   "id": "672335ee",
   "metadata": {},
   "outputs": [],
   "source": [
    "def function_name():\n",
    "    '''\n",
    "    '''\n",
    "    "
   ]
  },
  {
   "cell_type": "markdown",
   "id": "56ccf317",
   "metadata": {},
   "source": [
    "### Difference between Parmeters and Arguments\n",
    "1. Parameters are variables used while defining the functions Ex: a and b in HelloWorld() are parameters \n",
    "2. Arguments are the values passed to the functions when calling it Ex: 2 and 4 while calling HelloWorld() are arguments"
   ]
  },
  {
   "cell_type": "code",
   "execution_count": 5,
   "id": "624eae1f",
   "metadata": {},
   "outputs": [
    {
     "data": {
      "text/plain": [
       "6"
      ]
     },
     "execution_count": 5,
     "metadata": {},
     "output_type": "execute_result"
    }
   ],
   "source": [
    "def HelloWorld(a,b):\n",
    "    sum=a+b\n",
    "    return sum\n",
    "    \n",
    "HelloWorld(2,4)"
   ]
  },
  {
   "cell_type": "markdown",
   "id": "ea330dc3",
   "metadata": {},
   "source": [
    "### In-Built Functions "
   ]
  },
  {
   "cell_type": "markdown",
   "id": "00b2e49f",
   "metadata": {},
   "source": [
    "- len()\n",
    "- range()\n",
    "- print()\n",
    "- input().etc.."
   ]
  },
  {
   "cell_type": "markdown",
   "id": "9f43b201",
   "metadata": {},
   "source": [
    "### Reading and Writing CSV file"
   ]
  },
  {
   "cell_type": "code",
   "execution_count": 39,
   "id": "9bbfd705",
   "metadata": {},
   "outputs": [],
   "source": [
    "import csv"
   ]
  },
  {
   "cell_type": "code",
   "execution_count": 40,
   "id": "47198deb",
   "metadata": {},
   "outputs": [],
   "source": [
    "Fields=['Name','Age','Gender']"
   ]
  },
  {
   "cell_type": "code",
   "execution_count": 41,
   "id": "7b9b1fc8",
   "metadata": {},
   "outputs": [],
   "source": [
    "RowFields=[ ['Nikhila', '20', 'female'],  \n",
    "         ['Sanchit', '24', 'male'],  \n",
    "         ['Aditi', '25', 'female'],  \n",
    "         ['Sagari', '30', 'female'],  \n",
    "         ['Prateek', '22', 'male'],  \n",
    "         ['Sahil', '27', 'male']]  "
   ]
  },
  {
   "cell_type": "code",
   "execution_count": 42,
   "id": "57bdef9b",
   "metadata": {},
   "outputs": [],
   "source": [
    "with open('sample.csv','w') as csvfile:\n",
    "    csvwriter=csv.writer(csvfile)\n",
    "    csvwriter.writerow(Fields)\n",
    "    csvwriter.writerows(RowFields)"
   ]
  },
  {
   "cell_type": "code",
   "execution_count": 43,
   "id": "f6c95f68",
   "metadata": {},
   "outputs": [
    {
     "name": "stdout",
     "output_type": "stream",
     "text": [
      "Name,Age,Gender\n",
      "\n",
      "Nikhila,20,female\n",
      "\n",
      "Sanchit,24,male\n",
      "\n",
      "Aditi,25,female\n",
      "\n",
      "Sagari,30,female\n",
      "\n",
      "Prateek,22,male\n",
      "\n",
      "Sahil,27,male\n",
      "\n"
     ]
    }
   ],
   "source": [
    "with open('sample.csv','r') as csvfile:\n",
    "    csvReader = csv.reader(csvfile)\n",
    "    for line in csvfile:\n",
    "        print(line)"
   ]
  },
  {
   "cell_type": "code",
   "execution_count": 44,
   "id": "59278088",
   "metadata": {},
   "outputs": [
    {
     "data": {
      "text/plain": [
       "_csv.reader"
      ]
     },
     "execution_count": 44,
     "metadata": {},
     "output_type": "execute_result"
    }
   ],
   "source": [
    "type(csvReader)"
   ]
  },
  {
   "cell_type": "markdown",
   "id": "d6c62f93",
   "metadata": {},
   "source": [
    "### Append a Record to the csv file"
   ]
  },
  {
   "cell_type": "code",
   "execution_count": 45,
   "id": "ce67893c",
   "metadata": {},
   "outputs": [],
   "source": [
    "with open('sample.csv','a') as csvfile:\n",
    "    csvWriter=csv.writer(csvfile)\n",
    "    csvWriter.writerow(['Nidhi','25','Female'])"
   ]
  },
  {
   "cell_type": "code",
   "execution_count": 46,
   "id": "51b3bdbb",
   "metadata": {},
   "outputs": [
    {
     "name": "stdout",
     "output_type": "stream",
     "text": [
      "Name,Age,Gender\n",
      "\n",
      "Nikhila,20,female\n",
      "\n",
      "Sanchit,24,male\n",
      "\n",
      "Aditi,25,female\n",
      "\n",
      "Sagari,30,female\n",
      "\n",
      "Prateek,22,male\n",
      "\n",
      "Sahil,27,male\n",
      "\n",
      "Nidhi,25,Female\n",
      "\n"
     ]
    }
   ],
   "source": [
    "with open('sample.csv','r') as csvfile:\n",
    "    csvReader = csv.reader(csvfile)\n",
    "    for line in csvfile:\n",
    "        print(line)"
   ]
  },
  {
   "cell_type": "markdown",
   "id": "bfc69e2d",
   "metadata": {},
   "source": [
    "### Reading and Writing CSV files using Pandas"
   ]
  },
  {
   "cell_type": "code",
   "execution_count": 47,
   "id": "7afe2ae5",
   "metadata": {},
   "outputs": [],
   "source": [
    "import pandas as pd"
   ]
  },
  {
   "cell_type": "code",
   "execution_count": 55,
   "id": "2e3513e1",
   "metadata": {},
   "outputs": [
    {
     "data": {
      "text/html": [
       "<div>\n",
       "<style scoped>\n",
       "    .dataframe tbody tr th:only-of-type {\n",
       "        vertical-align: middle;\n",
       "    }\n",
       "\n",
       "    .dataframe tbody tr th {\n",
       "        vertical-align: top;\n",
       "    }\n",
       "\n",
       "    .dataframe thead th {\n",
       "        text-align: right;\n",
       "    }\n",
       "</style>\n",
       "<table border=\"1\" class=\"dataframe\">\n",
       "  <thead>\n",
       "    <tr style=\"text-align: right;\">\n",
       "      <th></th>\n",
       "      <th>Name</th>\n",
       "      <th>Age</th>\n",
       "      <th>Gender</th>\n",
       "    </tr>\n",
       "  </thead>\n",
       "  <tbody>\n",
       "    <tr>\n",
       "      <th>0</th>\n",
       "      <td>Nikhila</td>\n",
       "      <td>20</td>\n",
       "      <td>female</td>\n",
       "    </tr>\n",
       "    <tr>\n",
       "      <th>1</th>\n",
       "      <td>Sanchit</td>\n",
       "      <td>24</td>\n",
       "      <td>male</td>\n",
       "    </tr>\n",
       "    <tr>\n",
       "      <th>2</th>\n",
       "      <td>Aditi</td>\n",
       "      <td>25</td>\n",
       "      <td>female</td>\n",
       "    </tr>\n",
       "    <tr>\n",
       "      <th>3</th>\n",
       "      <td>Sagari</td>\n",
       "      <td>30</td>\n",
       "      <td>female</td>\n",
       "    </tr>\n",
       "    <tr>\n",
       "      <th>4</th>\n",
       "      <td>Prateek</td>\n",
       "      <td>22</td>\n",
       "      <td>male</td>\n",
       "    </tr>\n",
       "    <tr>\n",
       "      <th>5</th>\n",
       "      <td>Sahil</td>\n",
       "      <td>27</td>\n",
       "      <td>male</td>\n",
       "    </tr>\n",
       "    <tr>\n",
       "      <th>6</th>\n",
       "      <td>Nidhi</td>\n",
       "      <td>25</td>\n",
       "      <td>Female</td>\n",
       "    </tr>\n",
       "  </tbody>\n",
       "</table>\n",
       "</div>"
      ],
      "text/plain": [
       "      Name  Age  Gender\n",
       "0  Nikhila   20  female\n",
       "1  Sanchit   24    male\n",
       "2    Aditi   25  female\n",
       "3   Sagari   30  female\n",
       "4  Prateek   22    male\n",
       "5    Sahil   27    male\n",
       "6    Nidhi   25  Female"
      ]
     },
     "execution_count": 55,
     "metadata": {},
     "output_type": "execute_result"
    }
   ],
   "source": [
    "df=pd.read_csv('sample.csv')\n",
    "df"
   ]
  },
  {
   "cell_type": "code",
   "execution_count": 60,
   "id": "24623625",
   "metadata": {},
   "outputs": [],
   "source": [
    "df.to_csv('sample.csv',index=False)"
   ]
  },
  {
   "cell_type": "markdown",
   "id": "f4545456",
   "metadata": {},
   "source": [
    "### Appending record at the end or anywhere in between to csv file using pandas "
   ]
  },
  {
   "cell_type": "code",
   "execution_count": 50,
   "id": "1b7102db",
   "metadata": {},
   "outputs": [
    {
     "data": {
      "text/plain": [
       "7"
      ]
     },
     "execution_count": 50,
     "metadata": {},
     "output_type": "execute_result"
    }
   ],
   "source": [
    "len(df.index)"
   ]
  },
  {
   "cell_type": "code",
   "execution_count": 56,
   "id": "3609d0d8",
   "metadata": {},
   "outputs": [],
   "source": [
    "df.loc[len(df.index)] = ['Ganesh','30','Male']"
   ]
  },
  {
   "cell_type": "code",
   "execution_count": 59,
   "id": "ff4db85b",
   "metadata": {},
   "outputs": [
    {
     "data": {
      "text/html": [
       "<div>\n",
       "<style scoped>\n",
       "    .dataframe tbody tr th:only-of-type {\n",
       "        vertical-align: middle;\n",
       "    }\n",
       "\n",
       "    .dataframe tbody tr th {\n",
       "        vertical-align: top;\n",
       "    }\n",
       "\n",
       "    .dataframe thead th {\n",
       "        text-align: right;\n",
       "    }\n",
       "</style>\n",
       "<table border=\"1\" class=\"dataframe\">\n",
       "  <thead>\n",
       "    <tr style=\"text-align: right;\">\n",
       "      <th></th>\n",
       "      <th>Name</th>\n",
       "      <th>Age</th>\n",
       "      <th>Gender</th>\n",
       "    </tr>\n",
       "  </thead>\n",
       "  <tbody>\n",
       "    <tr>\n",
       "      <th>0</th>\n",
       "      <td>Nikhila</td>\n",
       "      <td>20</td>\n",
       "      <td>female</td>\n",
       "    </tr>\n",
       "    <tr>\n",
       "      <th>1</th>\n",
       "      <td>Sanchit</td>\n",
       "      <td>24</td>\n",
       "      <td>male</td>\n",
       "    </tr>\n",
       "    <tr>\n",
       "      <th>2</th>\n",
       "      <td>Aditi</td>\n",
       "      <td>25</td>\n",
       "      <td>female</td>\n",
       "    </tr>\n",
       "    <tr>\n",
       "      <th>3</th>\n",
       "      <td>Sagari</td>\n",
       "      <td>30</td>\n",
       "      <td>female</td>\n",
       "    </tr>\n",
       "    <tr>\n",
       "      <th>4</th>\n",
       "      <td>Prateek</td>\n",
       "      <td>22</td>\n",
       "      <td>male</td>\n",
       "    </tr>\n",
       "    <tr>\n",
       "      <th>5</th>\n",
       "      <td>Sahil</td>\n",
       "      <td>27</td>\n",
       "      <td>male</td>\n",
       "    </tr>\n",
       "    <tr>\n",
       "      <th>6</th>\n",
       "      <td>Nidhi</td>\n",
       "      <td>25</td>\n",
       "      <td>Female</td>\n",
       "    </tr>\n",
       "    <tr>\n",
       "      <th>7</th>\n",
       "      <td>Ganesh</td>\n",
       "      <td>30</td>\n",
       "      <td>Male</td>\n",
       "    </tr>\n",
       "  </tbody>\n",
       "</table>\n",
       "</div>"
      ],
      "text/plain": [
       "      Name Age  Gender\n",
       "0  Nikhila  20  female\n",
       "1  Sanchit  24    male\n",
       "2    Aditi  25  female\n",
       "3   Sagari  30  female\n",
       "4  Prateek  22    male\n",
       "5    Sahil  27    male\n",
       "6    Nidhi  25  Female\n",
       "7   Ganesh  30    Male"
      ]
     },
     "execution_count": 59,
     "metadata": {},
     "output_type": "execute_result"
    }
   ],
   "source": [
    "df"
   ]
  },
  {
   "cell_type": "markdown",
   "id": "034fc775-0dd6-44ce-929e-70aae92b0a7a",
   "metadata": {},
   "source": [
    "### Date and Time in Python\n",
    "**Example 1:** Passing date as an argument"
   ]
  },
  {
   "cell_type": "code",
   "execution_count": 7,
   "id": "9b446cee-5804-442b-acc4-6081adac2c57",
   "metadata": {},
   "outputs": [
    {
     "name": "stdout",
     "output_type": "stream",
     "text": [
      "2025-03-28\n"
     ]
    }
   ],
   "source": [
    "from datetime import date\n",
    "date_arg=date(2025,3,28)\n",
    "print(date_arg)"
   ]
  },
  {
   "cell_type": "markdown",
   "id": "affbfeed-a9c7-441a-8d12-a796de10c70d",
   "metadata": {},
   "source": [
    "**Example 2:** Geting today's date"
   ]
  },
  {
   "cell_type": "code",
   "execution_count": 8,
   "id": "d7ab0b31-088f-42da-86c0-39075e62b194",
   "metadata": {},
   "outputs": [
    {
     "name": "stdout",
     "output_type": "stream",
     "text": [
      "2025-02-04\n"
     ]
    }
   ],
   "source": [
    "todaydate=date.today()\n",
    "print(todaydate)"
   ]
  },
  {
   "cell_type": "markdown",
   "id": "033a53b5-b989-4867-b6b6-6a0149eb772a",
   "metadata": {},
   "source": [
    "**Example 3:** Getting today's month, year and day"
   ]
  },
  {
   "cell_type": "code",
   "execution_count": 12,
   "id": "461b06c7-dd65-4be6-93dd-386e8a4bd6db",
   "metadata": {},
   "outputs": [
    {
     "name": "stdout",
     "output_type": "stream",
     "text": [
      "Today's year:  2025\n",
      "Today's month:  2\n",
      "Today's day:  4\n"
     ]
    }
   ],
   "source": [
    "today_date=date.today()\n",
    "todayyear=today_date.year\n",
    "todaymonth=today_date.month\n",
    "todayday=today_date.day\n",
    "print(\"Today's year: \",todayyear)\n",
    "print(\"Today's month: \",todaymonth)\n",
    "print(\"Today's day: \",todayday)"
   ]
  },
  {
   "cell_type": "markdown",
   "id": "ed60c2a0-33fd-4738-a63f-9d610357f50a",
   "metadata": {},
   "source": [
    "## Python Objects and Map Function\n",
    "Objects are instances of a class and Class is a blueprint for the objects\n",
    "### Key Points to Remember\n",
    "- __init__ initializes attributes when an object is created.\n",
    "- self refers to the specific instance of the class.\n",
    "- self allows each object to have unique attribute values."
   ]
  },
  {
   "cell_type": "code",
   "execution_count": 13,
   "id": "7326db6d-77fd-4224-a437-a39bfda39b14",
   "metadata": {},
   "outputs": [],
   "source": [
    "#create a class\n",
    "class House:\n",
    "    house_type=\"Rented House\"\n",
    "    #create constructor\n",
    "    def __init__(self,floors,rooms,price):\n",
    "        self.floors=floors\n",
    "        self.rooms=rooms\n",
    "        self.price=price"
   ]
  },
  {
   "cell_type": "code",
   "execution_count": 15,
   "id": "e0da2643-8f94-4a9a-bc86-da72424777a7",
   "metadata": {},
   "outputs": [],
   "source": [
    "My_House= House(4,3,30000)"
   ]
  },
  {
   "cell_type": "code",
   "execution_count": 16,
   "id": "f3f76dd8-766d-4bdc-a71b-b7dfac7f61a7",
   "metadata": {},
   "outputs": [
    {
     "data": {
      "text/plain": [
       "__main__.House"
      ]
     },
     "execution_count": 16,
     "metadata": {},
     "output_type": "execute_result"
    }
   ],
   "source": [
    "type(My_House)"
   ]
  },
  {
   "cell_type": "markdown",
   "id": "5d904ab3-ab4f-474a-8e2d-81c80e5df0a4",
   "metadata": {},
   "source": [
    "- **Access the variables of the objects using dot operator**"
   ]
  },
  {
   "cell_type": "code",
   "execution_count": 17,
   "id": "c3024c6d-d655-4969-8541-6381f3446dd6",
   "metadata": {},
   "outputs": [
    {
     "data": {
      "text/plain": [
       "4"
      ]
     },
     "execution_count": 17,
     "metadata": {},
     "output_type": "execute_result"
    }
   ],
   "source": [
    "My_House.floors"
   ]
  },
  {
   "cell_type": "code",
   "execution_count": 18,
   "id": "019e2dae-777e-4367-b9b6-44e731522fec",
   "metadata": {},
   "outputs": [
    {
     "data": {
      "text/plain": [
       "3"
      ]
     },
     "execution_count": 18,
     "metadata": {},
     "output_type": "execute_result"
    }
   ],
   "source": [
    "My_House.rooms"
   ]
  },
  {
   "cell_type": "code",
   "execution_count": 19,
   "id": "56cd8fba-990d-42a0-aa45-a8bb739c364d",
   "metadata": {},
   "outputs": [
    {
     "data": {
      "text/plain": [
       "30000"
      ]
     },
     "execution_count": 19,
     "metadata": {},
     "output_type": "execute_result"
    }
   ],
   "source": [
    "My_House.price"
   ]
  },
  {
   "cell_type": "markdown",
   "id": "bcb7d42d-a5b4-4c98-ab60-feecde48a11d",
   "metadata": {},
   "source": [
    "- **Update the objects memeber values**"
   ]
  },
  {
   "cell_type": "code",
   "execution_count": 23,
   "id": "f7e15e06-6d62-461d-a813-3bbf20d4f7a1",
   "metadata": {},
   "outputs": [
    {
     "data": {
      "text/plain": [
       "35000"
      ]
     },
     "execution_count": 23,
     "metadata": {},
     "output_type": "execute_result"
    }
   ],
   "source": [
    "My_House.price=35000\n",
    "My_House.price"
   ]
  },
  {
   "cell_type": "markdown",
   "id": "54af49b8-4987-4f8d-888b-423b3cb6d0b1",
   "metadata": {},
   "source": [
    "- **Delete the objects members**"
   ]
  },
  {
   "cell_type": "code",
   "execution_count": 30,
   "id": "662e626a-d6a6-415c-a55f-1692bd1ef42e",
   "metadata": {},
   "outputs": [
    {
     "ename": "AttributeError",
     "evalue": "'House' object has no attribute 'floors'",
     "output_type": "error",
     "traceback": [
      "\u001b[1;31m---------------------------------------------------------------------------\u001b[0m",
      "\u001b[1;31mAttributeError\u001b[0m                            Traceback (most recent call last)",
      "Cell \u001b[1;32mIn[30], line 2\u001b[0m\n\u001b[0;32m      1\u001b[0m \u001b[38;5;28;01mdel\u001b[39;00m My_House\u001b[38;5;241m.\u001b[39mfloors\n\u001b[1;32m----> 2\u001b[0m My_House\u001b[38;5;241m.\u001b[39mfloors\n",
      "\u001b[1;31mAttributeError\u001b[0m: 'House' object has no attribute 'floors'"
     ]
    }
   ],
   "source": [
    "del My_House.floors\n",
    "My_House.floors"
   ]
  },
  {
   "cell_type": "code",
   "execution_count": 25,
   "id": "1d9c56c3-d450-49c2-9d2c-6d5e93be58ae",
   "metadata": {},
   "outputs": [
    {
     "ename": "AttributeError",
     "evalue": "'House' object has no attribute 'floors'",
     "output_type": "error",
     "traceback": [
      "\u001b[1;31m---------------------------------------------------------------------------\u001b[0m",
      "\u001b[1;31mAttributeError\u001b[0m                            Traceback (most recent call last)",
      "Cell \u001b[1;32mIn[25], line 1\u001b[0m\n\u001b[1;32m----> 1\u001b[0m My_House\u001b[38;5;241m.\u001b[39mfloors\n",
      "\u001b[1;31mAttributeError\u001b[0m: 'House' object has no attribute 'floors'"
     ]
    }
   ],
   "source": []
  },
  {
   "cell_type": "code",
   "execution_count": 31,
   "id": "0a7f8047-3c1f-4ba8-b4c6-58b3c823cb7d",
   "metadata": {},
   "outputs": [
    {
     "data": {
      "text/plain": [
       "4"
      ]
     },
     "execution_count": 31,
     "metadata": {},
     "output_type": "execute_result"
    }
   ],
   "source": [
    "My_House.floors=4\n",
    "My_House.floors"
   ]
  },
  {
   "cell_type": "code",
   "execution_count": 32,
   "id": "c92df23e-95a0-4b6a-99fe-a27f2ab5930d",
   "metadata": {},
   "outputs": [
    {
     "data": {
      "text/plain": [
       "3"
      ]
     },
     "execution_count": 32,
     "metadata": {},
     "output_type": "execute_result"
    }
   ],
   "source": [
    "My_House.bathrooms=3\n",
    "My_House.bathrooms"
   ]
  },
  {
   "cell_type": "markdown",
   "id": "9b3dca12-0258-4268-82a9-ae3587eb6aeb",
   "metadata": {},
   "source": [
    "### Maps\n",
    "map() function, which is used for applying a function to each item in an iterable (e.g., list, tuple) and returning a new iterator.\n",
    "- **Syntax: map(function, iterable)**\n",
    "   - function: A function that will be applied to each element of the iterable.\n",
    "   - iterable: A sequence (list, tuple, strings) whose elements the function will process.\n",
    "- **Key Benefits of map()**\n",
    "    - Avoids explicit loops, making code cleaner.\n",
    "    - More efficient than list comprehensions for large datasets.\n",
    "    - Works with multiple iterables at once."
   ]
  },
  {
   "cell_type": "markdown",
   "id": "993a6686-b401-4d8c-acc3-10443d2356be",
   "metadata": {},
   "source": [
    "**Example 1:** Using map() with a Function"
   ]
  },
  {
   "cell_type": "code",
   "execution_count": 43,
   "id": "aaeb9ea1-bdb5-40c2-b924-d6e0bd437007",
   "metadata": {},
   "outputs": [
    {
     "name": "stdout",
     "output_type": "stream",
     "text": [
      "[1, 4, 9, 16, 25]\n"
     ]
    }
   ],
   "source": [
    "#function which is going to be performed on each item of the list\n",
    "def square(n):\n",
    "    return n * n\n",
    "\n",
    "#the square function will be applied to each item in numbers \n",
    "numbers = [1, 2, 3, 4, 5]\n",
    "#the map() is used for squaring each item in numbers\n",
    "squared_numbers = map(square, numbers)\n",
    "\n",
    "#print the output in list form\n",
    "print(list(squared_numbers))"
   ]
  },
  {
   "cell_type": "markdown",
   "id": "c5a890e2-2e40-4c30-9bbb-ee561e1fb04e",
   "metadata": {},
   "source": [
    "**Example 2:** Using map() with lambda"
   ]
  },
  {
   "cell_type": "code",
   "execution_count": 44,
   "id": "c27a9024-763e-47fa-a7e6-2a028d56cb0d",
   "metadata": {},
   "outputs": [
    {
     "name": "stdout",
     "output_type": "stream",
     "text": [
      "[1, 4, 9, 16, 25]\n"
     ]
    }
   ],
   "source": [
    "numbers=[1,2,3,4,5]\n",
    "squared_numbers=map(lambda x: x*x,numbers)\n",
    "print(list(squared_numbers))"
   ]
  },
  {
   "cell_type": "markdown",
   "id": "d8a2efd0-799b-4076-8fb7-0896d2144d30",
   "metadata": {},
   "source": [
    "**Example 3:** Using map() on strings"
   ]
  },
  {
   "cell_type": "code",
   "execution_count": 49,
   "id": "3efc02b9-05ca-4c07-af66-ea59513aee47",
   "metadata": {},
   "outputs": [
    {
     "name": "stdout",
     "output_type": "stream",
     "text": [
      "HELLO WORLD"
     ]
    }
   ],
   "source": [
    "str='Hello World'\n",
    "def upper(str):\n",
    "    return str.upper()\n",
    "\n",
    "string_upper=map(upper,str)\n",
    "for i in string_upper:\n",
    "    print(i,end='')"
   ]
  },
  {
   "cell_type": "markdown",
   "id": "834170c2-de31-4c49-bccd-ee23905b0cf0",
   "metadata": {},
   "source": [
    "### Lambda in Python\n",
    "- **Syntax:** lambda args:expression"
   ]
  },
  {
   "cell_type": "code",
   "execution_count": 52,
   "id": "2554c387-f3f9-4219-898c-49b15e82d6d8",
   "metadata": {},
   "outputs": [],
   "source": [
    "add=lambda a,b:a+b"
   ]
  },
  {
   "cell_type": "code",
   "execution_count": 56,
   "id": "c917ac88-274c-4b1c-b00e-1688b9ca6072",
   "metadata": {},
   "outputs": [
    {
     "data": {
      "text/plain": [
       "5"
      ]
     },
     "execution_count": 56,
     "metadata": {},
     "output_type": "execute_result"
    }
   ],
   "source": [
    "# Now add is a lambda function\n",
    "add(2,3)"
   ]
  },
  {
   "cell_type": "code",
   "execution_count": 55,
   "id": "ed2dfc3d-0351-4b5e-9b55-fec0a2b47e16",
   "metadata": {},
   "outputs": [
    {
     "data": {
      "text/plain": [
       "11"
      ]
     },
     "execution_count": 55,
     "metadata": {},
     "output_type": "execute_result"
    }
   ],
   "source": [
    "add(2,9)"
   ]
  },
  {
   "cell_type": "markdown",
   "id": "79bfe7f6-fb3f-496c-80dd-32d0944a5aa1",
   "metadata": {},
   "source": [
    "### List Comprehension in Python\n",
    "- List comprehension is a concise and efficient way to create lists in Python. It replaces traditional for loops and map() functions while keeping the code shorter and more readable.\n",
    "- **Syntax:** expression for item in iterable if condition\n",
    "    - Expression → The operation applied to each item.\n",
    "    - Iterable → The sequence (list, tuple, string, etc.).\n",
    "    - Condition (Optional) → Filters items before applying the expression."
   ]
  },
  {
   "cell_type": "code",
   "execution_count": 59,
   "id": "c67d2ca8-717e-43ba-b2fd-7b0145dac98f",
   "metadata": {},
   "outputs": [],
   "source": [
    "#Working with list without comprehension looks like this\n",
    "l=[]\n",
    "for i in range(10):\n",
    "    l.append(i)"
   ]
  },
  {
   "cell_type": "code",
   "execution_count": 60,
   "id": "e9444be2-7ea0-4569-9906-13af7f581bfb",
   "metadata": {},
   "outputs": [
    {
     "data": {
      "text/plain": [
       "[0, 1, 2, 3, 4, 5, 6, 7, 8, 9]"
      ]
     },
     "execution_count": 60,
     "metadata": {},
     "output_type": "execute_result"
    }
   ],
   "source": [
    "l"
   ]
  },
  {
   "cell_type": "markdown",
   "id": "6c3ebda7-b0ab-4f9c-ae78-fb885e39812c",
   "metadata": {},
   "source": [
    "**Example 1:** using the expression"
   ]
  },
  {
   "cell_type": "code",
   "execution_count": 66,
   "id": "ea020fdb-9dee-45ab-a9df-d9efa57196bc",
   "metadata": {},
   "outputs": [],
   "source": [
    "#Same thing with Comprehension\n",
    "a=[x*x for x in range(10)]"
   ]
  },
  {
   "cell_type": "code",
   "execution_count": 67,
   "id": "15eb6b13-7a70-4b20-806d-9377a42c7c55",
   "metadata": {},
   "outputs": [
    {
     "data": {
      "text/plain": [
       "[0, 1, 4, 9, 16, 25, 36, 49, 64, 81]"
      ]
     },
     "execution_count": 67,
     "metadata": {},
     "output_type": "execute_result"
    }
   ],
   "source": [
    "a"
   ]
  },
  {
   "cell_type": "markdown",
   "id": "1c2659f2-1bf8-49d4-8e0c-513062127832",
   "metadata": {},
   "source": [
    "**Example 2:** using list comprehension with if condition"
   ]
  },
  {
   "cell_type": "code",
   "execution_count": 68,
   "id": "4fafd10d-1def-457b-bff7-737ae50c378a",
   "metadata": {},
   "outputs": [
    {
     "data": {
      "text/plain": [
       "[0, 4, 8, 12, 16]"
      ]
     },
     "execution_count": 68,
     "metadata": {},
     "output_type": "execute_result"
    }
   ],
   "source": [
    "#this takes only even numbers from 0 to 9\n",
    "b=[x+x for x in range(10) if x%2==0]\n",
    "b"
   ]
  },
  {
   "cell_type": "markdown",
   "id": "bdee57d9-c516-483c-8906-329616ae4900",
   "metadata": {},
   "source": [
    "**Example 2:** using list comprehension with if else condition"
   ]
  },
  {
   "cell_type": "code",
   "execution_count": 75,
   "id": "513e16e8-11b5-43f4-8112-43735c3b749a",
   "metadata": {},
   "outputs": [
    {
     "data": {
      "text/plain": [
       "[0, 'odd', 4, 'odd', 8, 'odd', 12, 'odd', 16, 'odd']"
      ]
     },
     "execution_count": 75,
     "metadata": {},
     "output_type": "execute_result"
    }
   ],
   "source": [
    "b=['odd' if x%2!=0 else x+x for x in range(10)]\n",
    "b"
   ]
  },
  {
   "cell_type": "markdown",
   "id": "e8767d05-0c24-43c6-a9b9-3ad1096baabd",
   "metadata": {},
   "source": [
    "### Scalar and Vector Multiplication"
   ]
  },
  {
   "cell_type": "code",
   "execution_count": 1,
   "id": "1921e60e-adfe-4144-aa87-2d8c1b9bd335",
   "metadata": {},
   "outputs": [
    {
     "name": "stdout",
     "output_type": "stream",
     "text": [
      "Scalar: 5\n",
      "Vector: [1 2 3]\n",
      "Scalar Multiplication: [2 4 6]\n",
      "Dot Product: 32\n"
     ]
    }
   ],
   "source": [
    "import numpy as np\n",
    "\n",
    "\"\"\"scaler data\"\"\"\n",
    "scalar = 5\n",
    "vector = np.array([1, 2, 3])\n",
    "print(\"Scalar:\", scalar)\n",
    "print(\"Vector:\", vector)\n",
    "\n",
    "\"\"\"Vector data\"\"\"\n",
    "v1 = np.array([1, 2, 3])\n",
    "v2 = np.array([4, 5, 6])\n",
    "\n",
    "scalar_mult = 2 * v1  # Scalar multiplication\n",
    "dot_product = np.dot(v1, v2)  # Dot product\n",
    "\n",
    "print(\"Scalar Multiplication:\", scalar_mult)\n",
    "print(\"Dot Product:\", dot_product)"
   ]
  },
  {
   "cell_type": "markdown",
   "id": "e76d3e01-c937-4e54-b912-fb1844d29245",
   "metadata": {},
   "source": [
    "### Norm of vector"
   ]
  },
  {
   "cell_type": "code",
   "execution_count": 2,
   "id": "9665fe69-e174-48d5-af50-e5aa1d7d9ff0",
   "metadata": {},
   "outputs": [
    {
     "name": "stdout",
     "output_type": "stream",
     "text": [
      "5.0\n"
     ]
    }
   ],
   "source": [
    "vector=np.array([3,4]) #square root the values and add\n",
    "norm=np.linalg.norm(vector) #euclidean norm\n",
    "print(norm)"
   ]
  },
  {
   "cell_type": "code",
   "execution_count": 4,
   "id": "1f14ed64-b075-4fba-901c-07de572c7fe7",
   "metadata": {},
   "outputs": [],
   "source": [
    "### Matrix addition and dot product"
   ]
  },
  {
   "cell_type": "code",
   "execution_count": 6,
   "id": "3fb568ae-bb48-4208-ba04-5d22114afb1d",
   "metadata": {},
   "outputs": [
    {
     "name": "stdout",
     "output_type": "stream",
     "text": [
      "[[ 5  7]\n",
      " [ 9 11]]\n",
      "[[16 19]\n",
      " [36 43]]\n"
     ]
    }
   ],
   "source": [
    "v1 = np.array([[1, 2], [3,4]])\n",
    "v2 = np.array([[4, 5], [6,7]])\n",
    "matrix_sum=v1+v2\n",
    "matrix_mult=np.dot(v1,v2)\n",
    "print(matrix_sum)\n",
    "print(matrix_mult)"
   ]
  },
  {
   "cell_type": "markdown",
   "id": "00cf963a-7ab9-40bb-80ce-3edc64d6b186",
   "metadata": {},
   "source": [
    "### Rank of matix"
   ]
  },
  {
   "cell_type": "code",
   "execution_count": 7,
   "id": "a1e75ff2-e725-46b6-9272-a552943f0f1a",
   "metadata": {},
   "outputs": [
    {
     "name": "stdout",
     "output_type": "stream",
     "text": [
      "2\n"
     ]
    }
   ],
   "source": [
    "rank=np.linalg.matrix_rank(v1)\n",
    "print(rank)"
   ]
  },
  {
   "cell_type": "code",
   "execution_count": 9,
   "id": "00a849f3-0488-4662-911c-93a9e9fd575b",
   "metadata": {},
   "outputs": [
    {
     "name": "stdout",
     "output_type": "stream",
     "text": [
      "2\n"
     ]
    }
   ],
   "source": [
    "v1 = np.array([[1, 2,3], [3,4,5],[2,3,4]])\n",
    "rank=np.linalg.matrix_rank(v1)\n",
    "print(rank)"
   ]
  },
  {
   "cell_type": "markdown",
   "id": "8eacd812-e6c4-4ab7-a101-523994e5496f",
   "metadata": {},
   "source": [
    "### Regular Expressions"
   ]
  },
  {
   "cell_type": "markdown",
   "id": "4ed26e39-05bb-4a47-83dd-1d4b5493b280",
   "metadata": {},
   "source": [
    "- []  Set of characters\n",
    "\n",
    "- \\  special sequences\n",
    "\n",
    "- ^  starts with\n",
    "\n",
    "- $  ends with\n",
    "\n",
    "- '*'  0 or more occurences\n",
    "  \n",
    "- '+'  1 or more occurences\n",
    "   \n",
    "- ?  0 or 1 occurence\n",
    "\n",
    "- ()  capture a group\n"
   ]
  },
  {
   "cell_type": "code",
   "execution_count": 2,
   "id": "721be90c-ac9f-4e4f-9d39-fc1c7212fe84",
   "metadata": {},
   "outputs": [],
   "source": [
    "import re"
   ]
  },
  {
   "cell_type": "code",
   "execution_count": 4,
   "id": "45be889d-1f1c-4235-8fe5-fa154fd8dd60",
   "metadata": {},
   "outputs": [
    {
     "data": {
      "text/plain": [
       "2"
      ]
     },
     "execution_count": 4,
     "metadata": {},
     "output_type": "execute_result"
    }
   ],
   "source": [
    "s='This is a simple string.'\n",
    "pattern='is'\n",
    "re.search(pattern,s).start()"
   ]
  },
  {
   "cell_type": "code",
   "execution_count": 5,
   "id": "ade6e249-a21c-4b82-9abf-246263b9646c",
   "metadata": {},
   "outputs": [
    {
     "data": {
      "text/plain": [
       "<re.Match object; span=(0, 4), match='This'>"
      ]
     },
     "execution_count": 5,
     "metadata": {},
     "output_type": "execute_result"
    }
   ],
   "source": [
    "pattern='^This'\n",
    "re.search(pattern,s)"
   ]
  },
  {
   "cell_type": "code",
   "execution_count": null,
   "id": "8a0a3088-1519-4aa6-8e4e-c3cb5807313e",
   "metadata": {},
   "outputs": [],
   "source": [
    "#Special Sequences\n",
    "\\d- digits\n",
    "\\D - Not digits\n",
    "\\w - A-Za-z0-9_\n",
    "\\W - ~\\w"
   ]
  },
  {
   "cell_type": "code",
   "execution_count": 6,
   "id": "daddd7da-8ed0-443e-bb91-528b9dfa0edb",
   "metadata": {},
   "outputs": [
    {
     "data": {
      "text/plain": [
       "['is', 'is']"
      ]
     },
     "execution_count": 6,
     "metadata": {},
     "output_type": "execute_result"
    }
   ],
   "source": [
    "re.findall('is',s)"
   ]
  },
  {
   "cell_type": "code",
   "execution_count": 9,
   "id": "a7355511-07fb-438d-a1e9-1f7aab129f96",
   "metadata": {},
   "outputs": [
    {
     "data": {
      "text/plain": [
       "['0845-745745', '4546-546565', '6565-656565']"
      ]
     },
     "execution_count": 9,
     "metadata": {},
     "output_type": "execute_result"
    }
   ],
   "source": [
    "numbers='''\n",
    "0845-745745\n",
    "4546-546565\n",
    "6565-656565'''\n",
    "pattern=re.compile('\\d{4}-\\d{6}')\n",
    "re.findall(pattern,numbers)"
   ]
  },
  {
   "cell_type": "code",
   "execution_count": null,
   "id": "e9e99d0c-4595-446a-ac88-b5edcd593c74",
   "metadata": {},
   "outputs": [],
   "source": []
  }
 ],
 "metadata": {
  "kernelspec": {
   "display_name": "Python 3 (ipykernel)",
   "language": "python",
   "name": "python3"
  },
  "language_info": {
   "codemirror_mode": {
    "name": "ipython",
    "version": 3
   },
   "file_extension": ".py",
   "mimetype": "text/x-python",
   "name": "python",
   "nbconvert_exporter": "python",
   "pygments_lexer": "ipython3",
   "version": "3.11.11"
  }
 },
 "nbformat": 4,
 "nbformat_minor": 5
}
