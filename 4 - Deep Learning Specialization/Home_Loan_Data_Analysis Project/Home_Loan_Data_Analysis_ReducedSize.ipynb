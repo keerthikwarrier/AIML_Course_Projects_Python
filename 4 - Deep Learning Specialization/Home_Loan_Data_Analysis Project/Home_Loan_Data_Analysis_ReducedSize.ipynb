{
 "cells": [
  {
   "cell_type": "markdown",
   "metadata": {
    "id": "4fr8mhkLxWcc"
   },
   "source": [
    "## **Problem Statement:**\n",
    "For a safe and secure lending experience, it's important to analyze the past data. In this project, you have to build a deep learning model to predict the chance of default for future loans using the historical data. As you will see, this dataset is highly imbalanced and includes a lot of features that make this problem more challenging.\n",
    "\n",
    "## **Objective:**\n",
    "Create a model that predicts whether or not an applicant will be able to repay a loan using the historical data\n",
    "\n",
    "## **Steps to be done:**\n",
    "\n",
    "1. Load the dataset that is given to you\n"
   ]
  },
  {
   "cell_type": "code",
   "execution_count": null,
   "metadata": {
    "colab": {
     "base_uri": "https://localhost:8080/",
     "height": 1000
    },
    "id": "sh_WKaixwgJZ",
    "outputId": "b3cf6f9c-939d-4adb-db7a-983589601631"
   },
   "outputs": [],
   "source": [
    "#Upload the kaggle.json file\n",
    "from google.colab import files\n",
    "files.upload()"
   ]
  },
  {
   "cell_type": "code",
   "execution_count": null,
   "metadata": {
    "colab": {
     "base_uri": "https://localhost:8080/"
    },
    "id": "xejAUkb-yZer",
    "outputId": "6575d0e6-be11-4e2d-f06a-324cacff5f52"
   },
   "outputs": [],
   "source": [
    "!pwd\n"
   ]
  },
  {
   "cell_type": "code",
   "execution_count": null,
   "metadata": {
    "colab": {
     "base_uri": "https://localhost:8080/"
    },
    "id": "Zws02zdWjjk3",
    "outputId": "45f03702-8f59-4448-bcbe-579cf6d0b036"
   },
   "outputs": [],
   "source": [
    "ls\n"
   ]
  },
  {
   "cell_type": "code",
   "execution_count": null,
   "metadata": {
    "colab": {
     "base_uri": "https://localhost:8080/"
    },
    "id": "eaAEAWcVjdmS",
    "outputId": "c0d1804b-d847-44d6-821c-55942e7dcae6"
   },
   "outputs": [],
   "source": [
    "!unzip loan_data.zip -d loan_data"
   ]
  },
  {
   "cell_type": "code",
   "execution_count": null,
   "metadata": {
    "colab": {
     "base_uri": "https://localhost:8080/"
    },
    "id": "GdAM2144krGq",
    "outputId": "f5b3c502-d758-4b5f-aa0e-00b929808fa5"
   },
   "outputs": [],
   "source": [
    "import os\n",
    "os.listdir(\"/content/loan_data\")"
   ]
  },
  {
   "cell_type": "code",
   "execution_count": null,
   "metadata": {
    "colab": {
     "base_uri": "https://localhost:8080/",
     "height": 287
    },
    "id": "lWQ4X4-Jjry9",
    "outputId": "19043ae1-6ee6-4bb4-cf65-076b6d698d2f"
   },
   "outputs": [],
   "source": [
    "import pandas as pd\n",
    "ld=pd.read_csv(\"loan_data.csv\",index_col=\"SK_ID_CURR\")\n",
    "ld.head()"
   ]
  },
  {
   "cell_type": "markdown",
   "metadata": {
    "id": "EOlw5Y9zmBbh"
   },
   "source": [
    "2. Check for null values in the dataset"
   ]
  },
  {
   "cell_type": "code",
   "execution_count": null,
   "metadata": {
    "colab": {
     "base_uri": "https://localhost:8080/"
    },
    "id": "KOXhmTIZj17f",
    "outputId": "8ad96048-92a2-49fa-c704-2e0c5353122c"
   },
   "outputs": [],
   "source": [
    "column_values=ld.isnull().sum()\n",
    "columns_with_null_values=column_values[column_values>0]\n",
    "print(columns_with_null_values)"
   ]
  },
  {
   "cell_type": "markdown",
   "metadata": {
    "id": "pP_pMn1qnEit"
   },
   "source": [
    "3. Print the percentage of default to a payer of the dataset for the TARGET column"
   ]
  },
  {
   "cell_type": "code",
   "execution_count": null,
   "metadata": {
    "colab": {
     "base_uri": "https://localhost:8080/"
    },
    "id": "Ex4CUMfXlvne",
    "outputId": "8201da05-4412-4bff-c6e8-8ef01bef57e8"
   },
   "outputs": [],
   "source": [
    "default=(ld['TARGET']==0).sum() #In the context of a loan, \"default\" means the borrower has failed to meet the agreed-upon repayment terms\n",
    "payer=(ld['TARGET']==1).sum()\n",
    "default_to_payer=default/payer*100\n",
    "print(\"percentage of default to a payer\",default_to_payer)"
   ]
  },
  {
   "cell_type": "markdown",
   "metadata": {
    "id": "cMP3OWahtsbj"
   },
   "source": [
    "6. Encode the columns that is required for the model"
   ]
  },
  {
   "cell_type": "code",
   "execution_count": null,
   "metadata": {
    "colab": {
     "base_uri": "https://localhost:8080/"
    },
    "id": "FwEp-OyPm_1O",
    "outputId": "c6abe362-d28a-4871-e59f-4dd338944fb0"
   },
   "outputs": [],
   "source": [
    "#Convert the categorical to numerical\n",
    "categorical_cols = ld.select_dtypes(include=['object', 'category']).columns\n",
    "print(categorical_cols)\n",
    "#One-Hot Encoding\n",
    "ld = pd.get_dummies(ld, columns=categorical_cols, drop_first=True)\n",
    "print(ld)\n"
   ]
  },
  {
   "cell_type": "markdown",
   "metadata": {
    "id": "kWol_IYkvyA7"
   },
   "source": [
    "4)Balance the dataset if the data is imbalanced"
   ]
  },
  {
   "cell_type": "code",
   "execution_count": null,
   "metadata": {
    "colab": {
     "base_uri": "https://localhost:8080/",
     "height": 458
    },
    "id": "3ehXmTbzvosy",
    "outputId": "62d0e543-d856-4c32-a142-f281c7db9981"
   },
   "outputs": [],
   "source": [
    "ld.isnull().sum()"
   ]
  },
  {
   "cell_type": "code",
   "execution_count": null,
   "metadata": {
    "colab": {
     "base_uri": "https://localhost:8080/",
     "height": 458
    },
    "id": "Zgs_j9kTv2xc",
    "outputId": "0e93ba41-d309-4e68-e77b-5c49401c52c8"
   },
   "outputs": [],
   "source": [
    " ld.corr(numeric_only=True)[\"TARGET\"].sort_values(ascending=False)"
   ]
  },
  {
   "cell_type": "code",
   "execution_count": null,
   "metadata": {
    "colab": {
     "base_uri": "https://localhost:8080/"
    },
    "id": "jWLPlBqOwXd6",
    "outputId": "30cae6c3-54f7-40a5-ba0b-d345dce172c7"
   },
   "outputs": [],
   "source": [
    "#Remove columns which are not correlated with the target\n",
    "# Correlation with target\n",
    "target_corr = ld.corr(numeric_only=True)['TARGET'].abs()\n",
    "\n",
    "# Drop features with correlation below threshold\n",
    "weak_features = target_corr[target_corr < 0.01].index.tolist()\n",
    "ld_filtered = ld.drop(columns=weak_features)\n",
    "\n",
    "print(\"Dropped low-correlation features:\", weak_features)"
   ]
  },
  {
   "cell_type": "code",
   "execution_count": null,
   "metadata": {
    "colab": {
     "base_uri": "https://localhost:8080/",
     "height": 458
    },
    "id": "biHFzvPOx047",
    "outputId": "777133c3-5ec9-4584-9d18-2c2e056743f7"
   },
   "outputs": [],
   "source": [
    "ld_filtered.isnull().sum()"
   ]
  },
  {
   "cell_type": "code",
   "execution_count": null,
   "metadata": {
    "colab": {
     "base_uri": "https://localhost:8080/"
    },
    "id": "sSgHF3dlx6dz",
    "outputId": "b0488776-024a-4fe6-f922-2c5684cc52c9"
   },
   "outputs": [],
   "source": [
    "numeric_cols = ld_filtered.select_dtypes(include=['int64', 'float64']).columns\n",
    "\n",
    "for col in numeric_cols:\n",
    "    ld_filtered[col].fillna(ld_filtered[col].median(), inplace=True)"
   ]
  },
  {
   "cell_type": "code",
   "execution_count": null,
   "metadata": {
    "id": "UGihdZyw0EFK"
   },
   "outputs": [],
   "source": [
    "categorical_cols = ld_filtered.select_dtypes(include=['object', 'category']).columns\n",
    "\n",
    "for col in categorical_cols:\n",
    "    ld_filtered[col].fillna(ld_filtered[col].mode()[0], inplace=True)"
   ]
  },
  {
   "cell_type": "code",
   "execution_count": null,
   "metadata": {
    "colab": {
     "base_uri": "https://localhost:8080/",
     "height": 458
    },
    "id": "BfJhnMVm8UyI",
    "outputId": "04601175-8de8-415f-d841-d01ea994a347"
   },
   "outputs": [],
   "source": [
    "ld_filtered.isnull().sum()"
   ]
  },
  {
   "cell_type": "markdown",
   "metadata": {
    "id": "SQjeeGHG8qry"
   },
   "source": [
    "5. Plot the balanced or imbalanced data"
   ]
  },
  {
   "cell_type": "code",
   "execution_count": null,
   "metadata": {
    "colab": {
     "base_uri": "https://localhost:8080/",
     "height": 1000
    },
    "id": "ukDOKeCS8YuY",
    "outputId": "e1ddf1b6-2515-471d-e958-8141e33abbc9"
   },
   "outputs": [],
   "source": [
    "import seaborn as sns\n",
    "import matplotlib.pyplot as plt\n",
    "plt.figure(figsize=(12, 8))\n",
    "sns.heatmap(ld.corr(numeric_only=True), annot=False, cmap='coolwarm')\n",
    "plt.title(\"Correlation Heatmap - df\")\n",
    "plt.show()\n",
    "\n",
    "plt.figure(figsize=(12, 8))\n",
    "sns.heatmap(ld_filtered.corr(numeric_only=True), annot=False, cmap='coolwarm')\n",
    "plt.title(\"Correlation Heatmap - df_filtered\")\n",
    "plt.show()"
   ]
  },
  {
   "cell_type": "markdown",
   "metadata": {
    "id": "xkj3TYG2E7Wb"
   },
   "source": [
    "6. Build a Deep Learning Model"
   ]
  },
  {
   "cell_type": "code",
   "execution_count": null,
   "metadata": {
    "id": "IeoGGzkm9EFH"
   },
   "outputs": [],
   "source": [
    "# Separate features and target\n",
    "X = ld_filtered.drop('TARGET', axis=1)\n",
    "y = ld_filtered['TARGET']"
   ]
  },
  {
   "cell_type": "code",
   "execution_count": null,
   "metadata": {
    "id": "0-T4A5isErCW"
   },
   "outputs": [],
   "source": [
    "# Train-test split\n",
    "from sklearn.model_selection import train_test_split\n",
    "X_train, X_test, y_train, y_test = train_test_split(\n",
    "    X, y, test_size=0.2, random_state=42, stratify=y)"
   ]
  },
  {
   "cell_type": "code",
   "execution_count": null,
   "metadata": {
    "colab": {
     "base_uri": "https://localhost:8080/"
    },
    "id": "AbZtrJBnEyZr",
    "outputId": "126fac73-f1e4-4f13-f3da-a655165f3f43"
   },
   "outputs": [],
   "source": [
    "#Build a Deep Learning Model\n",
    "import tensorflow as tf\n",
    "from tensorflow.keras.models import Sequential\n",
    "from tensorflow.keras.layers import Dense, Dropout\n",
    "\n",
    "# Define the model\n",
    "model = Sequential([\n",
    "    Dense(64, activation='relu', input_shape=(X_train.shape[1],)),\n",
    "    Dropout(0.3),\n",
    "    Dense(32, activation='relu'),\n",
    "    Dropout(0.2),\n",
    "    Dense(1, activation='sigmoid')  # Binary classification\n",
    "])\n",
    "\n",
    "# Compile the model\n",
    "model.compile(optimizer='adam',\n",
    "              loss='binary_crossentropy',\n",
    "              metrics=['accuracy', tf.keras.metrics.Recall(name=\"sensitivity\")])\n"
   ]
  },
  {
   "cell_type": "code",
   "execution_count": null,
   "metadata": {
    "colab": {
     "base_uri": "https://localhost:8080/"
    },
    "id": "SLty462ZFGvG",
    "outputId": "5e3666d7-86dc-457d-aad2-87056f000239"
   },
   "outputs": [],
   "source": [
    "#Train the model\n",
    "home_loan_model = model.fit(\n",
    "    X_train, y_train,\n",
    "    validation_data=(X_test, y_test),\n",
    "    epochs=25,\n",
    "    batch_size=32\n",
    ")"
   ]
  },
  {
   "cell_type": "markdown",
   "metadata": {
    "id": "7xhodrxHFd99"
   },
   "source": [
    "7. Calculate Sensitivity as a metric"
   ]
  },
  {
   "cell_type": "code",
   "execution_count": null,
   "metadata": {
    "colab": {
     "base_uri": "https://localhost:8080/"
    },
    "id": "6P3Q-Cs5FX8l",
    "outputId": "a81a5b6f-5070-4642-a2bf-c55860ede291"
   },
   "outputs": [],
   "source": [
    "loss, accuracy, sensitivity = model.evaluate(X_test, y_test)\n",
    "print(f\"Test Accuracy: {accuracy:.4f}\")\n",
    "print(f\"Sensitivity (Recall): {sensitivity:.4f}\")"
   ]
  },
  {
   "cell_type": "code",
   "execution_count": null,
   "metadata": {
    "colab": {
     "base_uri": "https://localhost:8080/",
     "height": 452
    },
    "id": "ZLpTTCTYFkw-",
    "outputId": "f3b0249d-81b6-4d04-fb19-51742295ffdb"
   },
   "outputs": [],
   "source": [
    "import matplotlib.pyplot as plt\n",
    "\n",
    "plt.plot(home_loan_model.history['accuracy'], label='Train Accuracy')\n",
    "plt.plot(home_loan_model.history['val_accuracy'], label='Val Accuracy')\n",
    "plt.legend()\n",
    "plt.title('Accuracy Over Epochs')\n",
    "plt.show()"
   ]
  },
  {
   "cell_type": "markdown",
   "metadata": {
    "id": "7STUgur3Fu4D"
   },
   "source": [
    "8. Calculate the area under  the receiver operating characteristics curve"
   ]
  },
  {
   "cell_type": "markdown",
   "metadata": {
    "id": "NO_uTrFMF_pD"
   },
   "source": [
    "The AUC-ROC is a powerful metric for evaluating binary classifiers. It tells you how well the model separates the two classes (e.g., defaulters vs non-defaulters) across all thresholds.\n",
    "\n",
    "Formula Recap:\n",
    "The ROC curve plots:\n",
    "\n",
    "True Positive Rate (TPR) vs. False Positive Rate (FPR)\n",
    "as the classification threshold varies.\n",
    "\n",
    "The AUC (Area Under Curve):\n",
    "\n",
    "0.5 = No better than random\n",
    "\n",
    "1.0 = Perfect classifier"
   ]
  },
  {
   "cell_type": "markdown",
   "metadata": {
    "id": "eY4WeBb0GF0d"
   },
   "source": [
    "Assuming you already have:\n",
    "\n",
    "y_test → true labels\n",
    "\n",
    "y_pred_prob → predicted probabilities from your model (model.predict())"
   ]
  },
  {
   "cell_type": "code",
   "execution_count": null,
   "metadata": {
    "colab": {
     "base_uri": "https://localhost:8080/",
     "height": 599
    },
    "id": "F3L3zzX6GGvR",
    "outputId": "94242ac4-eb0e-4c3b-b704-904fbc7f2f98"
   },
   "outputs": [],
   "source": [
    "from sklearn.metrics import roc_auc_score, roc_curve\n",
    "import matplotlib.pyplot as plt\n",
    "\n",
    "# 1. Get predicted probabilities\n",
    "y_pred_prob = model.predict(X_test)\n",
    "\n",
    "# 2. Compute AUC score\n",
    "auc_score = roc_auc_score(y_test, y_pred_prob)\n",
    "print(f\"AUC-ROC Score: {auc_score:.4f}\")\n",
    "\n",
    "# 3. Plot the ROC curve\n",
    "fpr, tpr, thresholds = roc_curve(y_test, y_pred_prob)\n",
    "\n",
    "plt.figure(figsize=(8, 6))\n",
    "plt.plot(fpr, tpr, label=f'AUC = {auc_score:.2f}')\n",
    "plt.plot([0, 1], [0, 1], linestyle='--', color='gray')  # baseline\n",
    "plt.xlabel('False Positive Rate')\n",
    "plt.ylabel('True Positive Rate')\n",
    "plt.title('ROC Curve')\n",
    "plt.legend()\n",
    "plt.grid()\n",
    "plt.show()\n"
   ]
  },
  {
   "cell_type": "markdown",
   "metadata": {
    "id": "1lPLwS6tJMws"
   },
   "source": [
    "So, the Area Under the ROC Curve is 0.50"
   ]
  },
  {
   "cell_type": "code",
   "execution_count": null,
   "metadata": {
    "id": "D0vB9YVOI9kr"
   },
   "outputs": [],
   "source": []
  }
 ],
 "metadata": {
  "colab": {
   "provenance": []
  },
  "kernelspec": {
   "display_name": "Python 3 (ipykernel)",
   "language": "python",
   "name": "python3"
  },
  "language_info": {
   "codemirror_mode": {
    "name": "ipython",
    "version": 3
   },
   "file_extension": ".py",
   "mimetype": "text/x-python",
   "name": "python",
   "nbconvert_exporter": "python",
   "pygments_lexer": "ipython3",
   "version": "3.11.11"
  }
 },
 "nbformat": 4,
 "nbformat_minor": 4
}
