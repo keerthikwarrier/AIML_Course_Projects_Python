{
  "nbformat": 4,
  "nbformat_minor": 0,
  "metadata": {
    "colab": {
      "provenance": []
    },
    "kernelspec": {
      "name": "python3",
      "display_name": "Python 3"
    },
    "language_info": {
      "name": "python"
    }
  },
  "cells": [
    {
      "cell_type": "code",
      "execution_count": null,
      "metadata": {
        "id": "Iq4OIPYOVc1f"
      },
      "outputs": [],
      "source": [
        "#Importing necessary libraries\n",
        "import torch\n",
        "import torch.nn as nn #contains the required functions and Layers\n",
        "import torch.nn.functional as F #For Neural Network functions\n",
        "\n",
        "#for the datasets\n",
        "from torchvision import datasets,transforms\n",
        "#Contains Optimization function available in Pytorch\n",
        "import torch.optim as optim"
      ]
    },
    {
      "cell_type": "code",
      "source": [
        "#tranform function\n",
        "transform=transforms.Compose([transforms.ToTensor(),transforms.Normalize((0.5,),(0.5,))])\n",
        "\n",
        "#Download the Dataset\n",
        "trainset=datasets.MNIST('~/.pytorch/MNIST_data/',download=True,train=True,transform=transform)\n",
        "trainloader=torch.utils.data.DataLoader(trainset,batch_size=64,shuffle=True)\n",
        "testset=datasets.MNIST('~/.pytorch/MNIST_data/',download=True,train=False,transform=transform)\n",
        "testloader=torch.utils.data.DataLoader(testset,batch_size=64,shuffle=False) #no shuffle needed for test data"
      ],
      "metadata": {
        "colab": {
          "base_uri": "https://localhost:8080/"
        },
        "id": "5rkfTOoFWL_b",
        "outputId": "e35a4585-c988-4c0c-8829-7e0a99c89dd1"
      },
      "execution_count": null,
      "outputs": [
        {
          "output_type": "stream",
          "name": "stderr",
          "text": [
            "100%|██████████| 9.91M/9.91M [00:00<00:00, 88.6MB/s]\n",
            "100%|██████████| 28.9k/28.9k [00:00<00:00, 23.4MB/s]\n",
            "100%|██████████| 1.65M/1.65M [00:00<00:00, 64.3MB/s]\n",
            "100%|██████████| 4.54k/4.54k [00:00<00:00, 7.52MB/s]\n"
          ]
        }
      ]
    },
    {
      "cell_type": "code",
      "source": [
        "#custom neural network model\n",
        "class CustomNeuralNetwork(nn.Module):\n",
        "  def __init__(self):\n",
        "    super().__init__()\n",
        "    #define layers\n",
        "    self.l1=nn.Linear(784,256) #Layer 1\n",
        "    self.l2=nn.Linear(256,128) #Layer 2\n",
        "    self.l3=nn.Linear(128,64) #Layer 3\n",
        "    self.l4=nn.Linear(64,10) #Layer 4\n",
        "    #Define activation function\n",
        "    self.sigmoid=nn.Sigmoid()\n",
        "    self.relu=nn.ReLU()\n",
        "    self.softmax=nn.LogSoftmax(dim=1)\n",
        "\n",
        "  def forward(self,x):\n",
        "    \"\"\" Layers 4:\n",
        "    Activation functions:\n",
        "    ReLU for the first 2 layers\n",
        "    Sigmoid for the third layer\n",
        "    log Softmax for the last layer\n",
        "    \"\"\"\n",
        "    #define forward pass\n",
        "    x=self.l1(x)\n",
        "    x=self.relu(x)\n",
        "    x=self.l2(x)\n",
        "    x=self.relu(x)\n",
        "    x=self.l3(x)\n",
        "    x=self.sigmoid(x)\n",
        "    x=self.l4(x)\n",
        "    x=self.softmax(x)\n",
        "    return x\n",
        "\n"
      ],
      "metadata": {
        "id": "OmJEJKH4bNp5"
      },
      "execution_count": null,
      "outputs": []
    },
    {
      "cell_type": "code",
      "source": [
        "#Initialize the Neural NEtwork\n",
        "NN=CustomNeuralNetwork()"
      ],
      "metadata": {
        "id": "oG7Qx_-rc4WZ"
      },
      "execution_count": null,
      "outputs": []
    },
    {
      "cell_type": "code",
      "source": [
        "#Initialize Loss Function\n",
        "criterion=nn.NLLLoss()"
      ],
      "metadata": {
        "id": "z2W6j7xFc-fP"
      },
      "execution_count": null,
      "outputs": []
    },
    {
      "cell_type": "code",
      "source": [
        "#Optimizer\n",
        "optimizer=optim.Adam(NN.parameters(),lr=0.001)"
      ],
      "metadata": {
        "id": "y6D23rUWdGSI"
      },
      "execution_count": null,
      "outputs": []
    },
    {
      "cell_type": "code",
      "source": [
        "#No.of times to train data\n",
        "epochs=5\n",
        "for e in range(epochs):\n",
        "  for images ,labels in trainloader:\n",
        "    #Flatten the images\n",
        "    images=images.view(images.shape[0],-1)\n",
        "    #set the optimizer gradients to zero\n",
        "    optimizer.zero_grad()\n",
        "\n",
        "    output=NN(images) #initial output\n",
        "    loss=criterion(output,labels) #Loss Calculation\n",
        "    loss.backward()\n",
        "    optimizer.step()#Update weights\n",
        "  print(loss.item()) #print loss for each epoch"
      ],
      "metadata": {
        "colab": {
          "base_uri": "https://localhost:8080/"
        },
        "id": "og_IRr89dPTA",
        "outputId": "c466402b-e8b0-4070-e550-5ce1d3706329"
      },
      "execution_count": null,
      "outputs": [
        {
          "output_type": "stream",
          "name": "stdout",
          "text": [
            "0.1416659653186798\n",
            "0.20080581307411194\n",
            "0.1827126443386078\n",
            "0.07089820504188538\n",
            "0.07696491479873657\n"
          ]
        }
      ]
    },
    {
      "cell_type": "code",
      "source": [
        "#predict and accuracy on test set\n",
        "correct=0\n",
        "total=0\n",
        "with torch.no_grad():\n",
        "  for images ,labels in testloader:\n",
        "    images=images.view(images.shape[0],-1)\n",
        "    output=NN(images)\n",
        "    _,predicted=torch.max(output.data,1)\n",
        "    total+=labels.size(0)\n",
        "    correct+=(predicted==labels).sum().item()\n",
        "print(\"Accuracy of the network on the 10000 test images: %d %%\" % (100 * correct / total))"
      ],
      "metadata": {
        "colab": {
          "base_uri": "https://localhost:8080/"
        },
        "id": "K63qWwcWeFcz",
        "outputId": "c25aa5c9-c4e3-4732-888e-2c43f18989be"
      },
      "execution_count": null,
      "outputs": [
        {
          "output_type": "stream",
          "name": "stdout",
          "text": [
            "Accuracy of the network on the 10000 test images: 96 %\n"
          ]
        }
      ]
    },
    {
      "cell_type": "code",
      "source": [],
      "metadata": {
        "id": "ODQNEeCKia00"
      },
      "execution_count": null,
      "outputs": []
    }
  ]
}