{
 "cells": [
  {
   "cell_type": "markdown",
   "id": "e1aeada5-98fa-4aae-a6e7-e40d3a89a0c1",
   "metadata": {},
   "source": [
    "# Python is a dynamically typed language\n",
    "you dont need to specify the data type python compiler will interpret the datatype itself. So, the speed of execution is faster than other languages"
   ]
  },
  {
   "cell_type": "markdown",
   "id": "d7f72d31-54fb-4a06-a665-0ea9b5c903b3",
   "metadata": {},
   "source": [
    "# Datatypes in Python\n",
    "\n"
   ]
  },
  {
   "cell_type": "code",
   "execution_count": 20,
   "id": "9d2b68d3-756d-44e7-a168-5c92d33a5dab",
   "metadata": {},
   "outputs": [
    {
     "name": "stdout",
     "output_type": "stream",
     "text": [
      "10\n",
      "<class 'int'>\n",
      "30.7\n",
      "<class 'float'>\n",
      "True\n",
      "<class 'bool'>\n",
      "My Name is Keerthi\n",
      "<class 'str'>\n",
      "None\n",
      "<class 'NoneType'>\n"
     ]
    }
   ],
   "source": [
    "#int\n",
    "num=10\n",
    "print(num)\n",
    "print(type(num))\n",
    "\n",
    "#float\n",
    "number=30.7\n",
    "print(number)\n",
    "print(type(number))\n",
    "\n",
    "#bool takes only True or False\n",
    "my_name=True\n",
    "print(my_name)\n",
    "print(type(my_name))\n",
    "\n",
    "#str\n",
    "Name='My Name is Keerthi'\n",
    "print(Name)\n",
    "print(type(Name))\n",
    "\n",
    "#None\n",
    "y=None\n",
    "print(y)\n",
    "print(type(y))"
   ]
  },
  {
   "cell_type": "markdown",
   "id": "6b61cb50-430a-4c02-a683-e8093e2d1b3e",
   "metadata": {},
   "source": [
    "# Variable assignment in Python"
   ]
  },
  {
   "cell_type": "code",
   "execution_count": 22,
   "id": "8b551704-becf-4984-85ad-8d367890dd4a",
   "metadata": {},
   "outputs": [],
   "source": [
    "x=10\n",
    "y=20\n",
    "z=30"
   ]
  },
  {
   "cell_type": "code",
   "execution_count": 30,
   "id": "8c9da0de-3ce6-4444-a882-214ab3c0f302",
   "metadata": {},
   "outputs": [
    {
     "name": "stdout",
     "output_type": "stream",
     "text": [
      "Value of x=  10\n",
      "Value of y=  20\n",
      "Value of z=  30\n"
     ]
    }
   ],
   "source": [
    "x,y,z=10,20,30\n",
    "print(\"Value of x= \",x)\n",
    "print(\"Value of y= \",y)\n",
    "print(\"Value of z= \",z)"
   ]
  },
  {
   "cell_type": "markdown",
   "id": "d596bbd9-d3b1-40ab-8c2f-8f6d0f98e84f",
   "metadata": {},
   "source": [
    "# Interview Question- Swap 2 variables without 3rd variable in Python"
   ]
  },
  {
   "cell_type": "code",
   "execution_count": 35,
   "id": "097572b2-12a7-42cb-9ef2-0a865f14c61e",
   "metadata": {},
   "outputs": [
    {
     "name": "stdout",
     "output_type": "stream",
     "text": [
      "20 10\n"
     ]
    }
   ],
   "source": [
    "x=10\n",
    "y=20\n",
    "x,y=y,x\n",
    "print(x,y)"
   ]
  },
  {
   "cell_type": "markdown",
   "id": "463e54cc-3a87-4b5a-a8eb-36f35bcb4f52",
   "metadata": {},
   "source": [
    "# Operators in Python"
   ]
  },
  {
   "cell_type": "code",
   "execution_count": 48,
   "id": "6a328813-be52-4338-bf26-418734d05907",
   "metadata": {},
   "outputs": [
    {
     "name": "stdout",
     "output_type": "stream",
     "text": [
      "addition:  23\n",
      "subtraction:  17\n",
      "multiplication:  60\n",
      "division quotient:  6.666666666666667\n",
      "floor division:  6\n",
      "modulus division remainder:  2\n",
      "exponential:  8000\n"
     ]
    }
   ],
   "source": [
    "#Arithmetic Operators\n",
    "a,b,c=10,20,3\n",
    "#addition\n",
    "a=b+c\n",
    "print(\"addition: \", a)\n",
    "\n",
    "#subtraction\n",
    "a=b-c\n",
    "print(\"subtraction: \", a)\n",
    "\n",
    "#mulitiplication\n",
    "a=b*c\n",
    "print(\"multiplication: \",a)\n",
    "\n",
    "#division (division quotient) (returns float)\n",
    "a=b/c\n",
    "print(\"division quotient: \", a)\n",
    "\n",
    "#floor division (returns integer)\n",
    "a=b//c \n",
    "print(\"floor division: \",a)\n",
    "\n",
    "#modulus (division remainder)\n",
    "a=b%c\n",
    "print(\"modulus division remainder: \",a)\n",
    "\n",
    "#Exponential (b power c)\n",
    "a=b**c\n",
    "print(\"exponential: \",a)\n",
    "\n"
   ]
  },
  {
   "cell_type": "code",
   "execution_count": 53,
   "id": "724a7edf-3327-4c45-a94b-994787dc0eac",
   "metadata": {},
   "outputs": [
    {
     "name": "stdout",
     "output_type": "stream",
     "text": [
      "AND operator:  False\n",
      "OR operator:  True\n",
      "NOT operator:  False\n"
     ]
    }
   ],
   "source": [
    "#Logical Operators\n",
    "x,y=23,45\n",
    "print(\"AND operator: \",x<y and x==y)\n",
    "print(\"OR operator: \",x<y or x==y)\n",
    "print(\"NOT operator: \",not(x<y))"
   ]
  },
  {
   "cell_type": "code",
   "execution_count": 61,
   "id": "086c03dc-7f22-4239-bee7-f5f8e4123091",
   "metadata": {},
   "outputs": [
    {
     "name": "stdout",
     "output_type": "stream",
     "text": [
      "Less than operator:  True\n",
      "Equal to operator:  False\n",
      "Greater than operator:  False\n",
      "Less than or equal to operator:  True\n",
      "Greater than or equal to operator:  False\n",
      "Not equal to operator:  True\n"
     ]
    }
   ],
   "source": [
    "#Comparison Operators\n",
    "x,y=23,45\n",
    "print(\"Less than operator: \",x<y)\n",
    "print(\"Equal to operator: \",x==y)\n",
    "print(\"Greater than operator: \",x>y)\n",
    "print(\"Less than or equal to operator: \",x<=y)\n",
    "print(\"Greater than or equal to operator: \",x>=y)\n",
    "print(\"Not equal to operator: \",x!=y)"
   ]
  },
  {
   "cell_type": "code",
   "execution_count": 1,
   "id": "cb98845a-1290-45d2-8af6-ca4f73a7d2a8",
   "metadata": {},
   "outputs": [
    {
     "name": "stdout",
     "output_type": "stream",
     "text": [
      "True False True False\n"
     ]
    }
   ],
   "source": [
    "print(bool(14), bool(), bool(1+2), bool(0))"
   ]
  },
  {
   "cell_type": "code",
   "execution_count": 3,
   "id": "5fcd41d5-c304-4cab-95e1-b0842e19b717",
   "metadata": {},
   "outputs": [
    {
     "name": "stdout",
     "output_type": "stream",
     "text": [
      "yes\n",
      "yes\n",
      "yes\n",
      "yes\n",
      "yes\n",
      "yes\n",
      "yes\n",
      "yes\n",
      "yes\n",
      "yes\n",
      "yes\n",
      "yes\n",
      "yes\n",
      "yes\n",
      "yes\n",
      "yes\n",
      "yes\n",
      "yes\n"
     ]
    }
   ],
   "source": [
    "for x in [0, 1, 2]: \n",
    "    for y in [0, 1, 2, 3, 4, 5]:\n",
    "        print('yes')"
   ]
  },
  {
   "cell_type": "code",
   "execution_count": null,
   "id": "c91c2194-6c47-4b8a-80f8-666676f42b93",
   "metadata": {},
   "outputs": [],
   "source": []
  }
 ],
 "metadata": {
  "kernelspec": {
   "display_name": "Python 3 (ipykernel)",
   "language": "python",
   "name": "python3"
  },
  "language_info": {
   "codemirror_mode": {
    "name": "ipython",
    "version": 3
   },
   "file_extension": ".py",
   "mimetype": "text/x-python",
   "name": "python",
   "nbconvert_exporter": "python",
   "pygments_lexer": "ipython3",
   "version": "3.11.7"
  }
 },
 "nbformat": 4,
 "nbformat_minor": 5
}
