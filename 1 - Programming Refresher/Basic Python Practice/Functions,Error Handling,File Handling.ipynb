{
 "cells": [
  {
   "cell_type": "markdown",
   "id": "23430262-f8c2-4d9b-9ff5-342c582d2319",
   "metadata": {},
   "source": [
    "**Functions**\n",
    "- Enables comprehensibilty\n",
    "- Supports modularity\n",
    "- Enhances program quality\n",
    "- Improves scalability\n",
    "- Promotes reusability\n",
    "- Provides ease of use"
   ]
  },
  {
   "cell_type": "markdown",
   "id": "3745889f-56f4-4ef4-bcfd-a54a9442b4f6",
   "metadata": {},
   "source": [
    "**Function Syntax**\n",
    "def myFunction(arg1,arg2):\n",
    "    body"
   ]
  },
  {
   "cell_type": "code",
   "execution_count": 3,
   "id": "afe4bb06-7707-47b4-acdb-ec79220d9ca1",
   "metadata": {},
   "outputs": [
    {
     "name": "stdout",
     "output_type": "stream",
     "text": [
      "30\n"
     ]
    }
   ],
   "source": [
    "def sum(x,y):\n",
    "    sum = x + y\n",
    "    return sum\n",
    "\n",
    "print(sum(10,20))"
   ]
  },
  {
   "cell_type": "code",
   "execution_count": 7,
   "id": "60ed2ef6-5fd7-4853-9d72-bb1d678f2520",
   "metadata": {},
   "outputs": [
    {
     "name": "stdout",
     "output_type": "stream",
     "text": [
      "None\n"
     ]
    }
   ],
   "source": [
    "def print_msg():\n",
    "    #pass is used when there is nothing to return or no computation is happening , to avoid an error\n",
    "    pass\n",
    "\n",
    "print(print_msg())"
   ]
  },
  {
   "cell_type": "markdown",
   "id": "f990ab83-bc72-43ba-ac01-19da6f1e283b",
   "metadata": {},
   "source": [
    "**Error Handling**"
   ]
  },
  {
   "cell_type": "code",
   "execution_count": 18,
   "id": "96e5473d-5704-46c5-a8d7-72e0f5477db8",
   "metadata": {},
   "outputs": [
    {
     "name": "stdout",
     "output_type": "stream",
     "text": [
      "Call the function with 2 arguments\n",
      "The line after try-catch is executed- Exception Handled\n"
     ]
    }
   ],
   "source": [
    "try:\n",
    "    def sum(x,y):\n",
    "        sum = x + y\n",
    "        return sum\n",
    "\n",
    "    print(sum())\n",
    "    \n",
    "except TypeError:\n",
    "       print(\"Call the function with 2 arguments\")\n",
    "\n",
    "print(\"The line after try-catch is executed- Exception Handled\")"
   ]
  },
  {
   "cell_type": "markdown",
   "id": "6a4908e7-9072-466a-bfca-c23cee238cd4",
   "metadata": {},
   "source": [
    "**File Handling**\n",
    "- File Operations - Creating,Reading,Writing,Closing and Opening a File"
   ]
  },
  {
   "cell_type": "code",
   "execution_count": 32,
   "id": "78f5753f-6882-4bfc-88c3-d48d72bb8e4b",
   "metadata": {},
   "outputs": [
    {
     "name": "stdout",
     "output_type": "stream",
     "text": [
      "Hello Morning\n",
      "\n"
     ]
    }
   ],
   "source": [
    "#Open a File - When a file doesn't exist use 'w' or 'a'\n",
    "file=open('example.txt','w')\n",
    "\n",
    "#write content into a file\n",
    "file.write('Hello Morning\\n Good afternoon \\n Good Night')\n",
    "\n",
    "#Close the file\n",
    "file.close()\n",
    "\n",
    "file=open('example.txt')\n",
    "content=file.read()\n",
    "print(content)\n",
    "\n",
    "line=file.readline()\n",
    "print(line)"
   ]
  },
  {
   "cell_type": "markdown",
   "id": "affefaaf-07d9-444b-9dd9-502f7eab4db6",
   "metadata": {},
   "source": [
    "**How to save a python dictionary to a csv file**\n",
    "- https://www.geeksforgeeks.org/how-to-save-a-python-dictionary-to-a-csv-file/"
   ]
  },
  {
   "cell_type": "markdown",
   "id": "552ad42f-1af4-465c-868a-a89378961dcb",
   "metadata": {},
   "source": []
  }
 ],
 "metadata": {
  "kernelspec": {
   "display_name": "Python 3 (ipykernel)",
   "language": "python",
   "name": "python3"
  },
  "language_info": {
   "codemirror_mode": {
    "name": "ipython",
    "version": 3
   },
   "file_extension": ".py",
   "mimetype": "text/x-python",
   "name": "python",
   "nbconvert_exporter": "python",
   "pygments_lexer": "ipython3",
   "version": "3.11.7"
  }
 },
 "nbformat": 4,
 "nbformat_minor": 5
}
