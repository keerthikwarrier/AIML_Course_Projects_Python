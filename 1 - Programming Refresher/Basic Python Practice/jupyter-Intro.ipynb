{
 "cells": [
  {
   "cell_type": "code",
   "execution_count": 1,
   "id": "c1b2936b-d8b7-4c0c-9e50-c9a573f209bd",
   "metadata": {},
   "outputs": [],
   "source": [
    "x=3"
   ]
  },
  {
   "cell_type": "code",
   "execution_count": 3,
   "id": "b676598b-41b8-44db-a805-37db58da3277",
   "metadata": {},
   "outputs": [
    {
     "name": "stdout",
     "output_type": "stream",
     "text": [
      "3\n"
     ]
    }
   ],
   "source": [
    "print(x)"
   ]
  },
  {
   "cell_type": "markdown",
   "id": "f0c25178-2ff7-4769-8f8b-07acba594f15",
   "metadata": {},
   "source": [
    "# Shortcuts in Jupyter Notebook\n",
    "- Tab --> To see the methods available for a certain function or class\n",
    "- Shift + Enter --> Shortcut to run a cell\n",
    "- Esc + m --> Convert code cell to markdown cell\n",
    "- Esc + y --> Convert markdown cell to code cell\n",
    "- Esc + a --> Shortcut to create a code cell above the existing cell\n",
    "- Esc + b --> Shortcut to create code cell below the existing cell\n",
    "- Esc + dd --> Shortcut to delete a cell\n",
    "- Esc + z --> Shortcut to undo\n",
    "- Esc + y --> Shortcut to redo"
   ]
  },
  {
   "cell_type": "code",
   "execution_count": null,
   "id": "4bb6a83c-b0f4-4d83-871b-f6031f044f40",
   "metadata": {},
   "outputs": [],
   "source": []
  }
 ],
 "metadata": {
  "kernelspec": {
   "display_name": "Python 3 (ipykernel)",
   "language": "python",
   "name": "python3"
  },
  "language_info": {
   "codemirror_mode": {
    "name": "ipython",
    "version": 3
   },
   "file_extension": ".py",
   "mimetype": "text/x-python",
   "name": "python",
   "nbconvert_exporter": "python",
   "pygments_lexer": "ipython3",
   "version": "3.11.7"
  }
 },
 "nbformat": 4,
 "nbformat_minor": 5
}
