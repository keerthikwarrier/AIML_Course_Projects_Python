{
 "cells": [
  {
   "cell_type": "code",
   "execution_count": null,
   "id": "6c93082d-865f-4784-951e-a658ee6e1e35",
   "metadata": {},
   "outputs": [
    {
     "name": "stdout",
     "output_type": "stream",
     "text": [
      "\n",
      "Welcome to the Task Manager!\n",
      "1. Register\n",
      "2. Login\n",
      "3. Exit\n"
     ]
    },
    {
     "name": "stdin",
     "output_type": "stream",
     "text": [
      "Enter your choice:  1\n",
      "Enter a username:  giffy\n",
      "Enter a password:  jiffy\n"
     ]
    },
    {
     "name": "stdout",
     "output_type": "stream",
     "text": [
      "User registered successfully!\n",
      "\n",
      "Welcome to the Task Manager!\n",
      "1. Register\n",
      "2. Login\n",
      "3. Exit\n"
     ]
    },
    {
     "name": "stdin",
     "output_type": "stream",
     "text": [
      "Enter your choice:  2\n",
      "Enter your username:  giffy\n",
      "Enter your password:  jiffy\n"
     ]
    },
    {
     "name": "stdout",
     "output_type": "stream",
     "text": [
      "Login successful! Access granted to the task manager.\n",
      "\n",
      "Task Manager Menu:\n",
      "1. Add a Task\n",
      "2. View Tasks\n",
      "3. Mark Task as Completed\n",
      "4. Delete Task\n",
      "5. Logout\n"
     ]
    },
    {
     "name": "stdin",
     "output_type": "stream",
     "text": [
      "Enter your choice:  1\n",
      "Enter task description:  Open Control Panel\n"
     ]
    },
    {
     "name": "stdout",
     "output_type": "stream",
     "text": [
      "Task added successfully!\n",
      "\n",
      "Task Manager Menu:\n",
      "1. Add a Task\n",
      "2. View Tasks\n",
      "3. Mark Task as Completed\n",
      "4. Delete Task\n",
      "5. Logout\n"
     ]
    },
    {
     "name": "stdin",
     "output_type": "stream",
     "text": [
      "Enter your choice:  2\n"
     ]
    },
    {
     "name": "stdout",
     "output_type": "stream",
     "text": [
      "Your Tasks:\n",
      "ID: 1, Description: Open Control Panel, Status: Pending\n",
      "\n",
      "Task Manager Menu:\n",
      "1. Add a Task\n",
      "2. View Tasks\n",
      "3. Mark Task as Completed\n",
      "4. Delete Task\n",
      "5. Logout\n"
     ]
    },
    {
     "name": "stdin",
     "output_type": "stream",
     "text": [
      "Enter your choice:  3\n",
      "Enter the task ID to mark as completed:  1\n"
     ]
    },
    {
     "name": "stdout",
     "output_type": "stream",
     "text": [
      "Task marked as completed!\n",
      "\n",
      "Task Manager Menu:\n",
      "1. Add a Task\n",
      "2. View Tasks\n",
      "3. Mark Task as Completed\n",
      "4. Delete Task\n",
      "5. Logout\n"
     ]
    },
    {
     "name": "stdin",
     "output_type": "stream",
     "text": [
      "Enter your choice:  1\n",
      "Enter task description:  Close Control Panel\n"
     ]
    },
    {
     "name": "stdout",
     "output_type": "stream",
     "text": [
      "Task added successfully!\n",
      "\n",
      "Task Manager Menu:\n",
      "1. Add a Task\n",
      "2. View Tasks\n",
      "3. Mark Task as Completed\n",
      "4. Delete Task\n",
      "5. Logout\n"
     ]
    },
    {
     "name": "stdin",
     "output_type": "stream",
     "text": [
      "Enter your choice:  2\n"
     ]
    },
    {
     "name": "stdout",
     "output_type": "stream",
     "text": [
      "Your Tasks:\n",
      "ID: 1, Description: Open Control Panel, Status: Completed\n",
      "ID: 2, Description: Close Control Panel, Status: Pending\n",
      "\n",
      "Task Manager Menu:\n",
      "1. Add a Task\n",
      "2. View Tasks\n",
      "3. Mark Task as Completed\n",
      "4. Delete Task\n",
      "5. Logout\n"
     ]
    },
    {
     "name": "stdin",
     "output_type": "stream",
     "text": [
      "Enter your choice:  1\n",
      "Enter task description:  Open a New File in Word\n"
     ]
    },
    {
     "name": "stdout",
     "output_type": "stream",
     "text": [
      "Task added successfully!\n",
      "\n",
      "Task Manager Menu:\n",
      "1. Add a Task\n",
      "2. View Tasks\n",
      "3. Mark Task as Completed\n",
      "4. Delete Task\n",
      "5. Logout\n"
     ]
    },
    {
     "name": "stdin",
     "output_type": "stream",
     "text": [
      "Enter your choice:  1\n",
      "Enter task description:  Edit the File\n"
     ]
    },
    {
     "name": "stdout",
     "output_type": "stream",
     "text": [
      "Task added successfully!\n",
      "\n",
      "Task Manager Menu:\n",
      "1. Add a Task\n",
      "2. View Tasks\n",
      "3. Mark Task as Completed\n",
      "4. Delete Task\n",
      "5. Logout\n"
     ]
    },
    {
     "name": "stdin",
     "output_type": "stream",
     "text": [
      "Enter your choice:  2\n"
     ]
    },
    {
     "name": "stdout",
     "output_type": "stream",
     "text": [
      "Your Tasks:\n",
      "ID: 1, Description: Open Control Panel, Status: Completed\n",
      "ID: 2, Description: Close Control Panel, Status: Pending\n",
      "ID: 3, Description: Open a New File in Word, Status: Pending\n",
      "ID: 4, Description: Edit the File, Status: Pending\n",
      "\n",
      "Task Manager Menu:\n",
      "1. Add a Task\n",
      "2. View Tasks\n",
      "3. Mark Task as Completed\n",
      "4. Delete Task\n",
      "5. Logout\n"
     ]
    },
    {
     "name": "stdin",
     "output_type": "stream",
     "text": [
      "Enter your choice:  4\n",
      "Enter the task ID to delete:  3\n"
     ]
    },
    {
     "name": "stdout",
     "output_type": "stream",
     "text": [
      "Task deleted successfully!\n",
      "\n",
      "Task Manager Menu:\n",
      "1. Add a Task\n",
      "2. View Tasks\n",
      "3. Mark Task as Completed\n",
      "4. Delete Task\n",
      "5. Logout\n"
     ]
    },
    {
     "name": "stdin",
     "output_type": "stream",
     "text": [
      "Enter your choice:  2\n"
     ]
    },
    {
     "name": "stdout",
     "output_type": "stream",
     "text": [
      "Your Tasks:\n",
      "ID: 1, Description: Open Control Panel, Status: Completed\n",
      "ID: 2, Description: Close Control Panel, Status: Pending\n",
      "ID: 4, Description: Edit the File, Status: Pending\n",
      "\n",
      "Task Manager Menu:\n",
      "1. Add a Task\n",
      "2. View Tasks\n",
      "3. Mark Task as Completed\n",
      "4. Delete Task\n",
      "5. Logout\n"
     ]
    }
   ],
   "source": [
    "import bcrypt\n",
    "import json\n",
    "import os\n",
    "\n",
    "\"\"\" users file is used for saving username and password after registration \n",
    "    tasks file is used for saving the task details for multiple users \"\"\"\n",
    "USER_DATA_FILE = \"users.json\"\n",
    "TASK_DATA_FILE = \"tasks.json\"\n",
    "\n",
    "# Ensure files exist\n",
    "def initialize_files():\n",
    "    if not os.path.exists(USER_DATA_FILE):\n",
    "        with open(USER_DATA_FILE, 'w') as f:\n",
    "            json.dump([], f)\n",
    "    if not os.path.exists(TASK_DATA_FILE):\n",
    "        with open(TASK_DATA_FILE, 'w') as f:\n",
    "            json.dump({}, f)  # Dictionary to store tasks by username\n",
    "\n",
    "# User Registration\n",
    "def register():\n",
    "    \"\"\" The user file is opened to read and the user enters the username. \n",
    "    If the username exists then it will ask to create another username.\n",
    "    When the user enters password, the password is first salted and the hashed using bcrypt. \n",
    "    Further,the username and password are saved to the users dictionary then the dictionary is written to the users json file\n",
    "    \"\"\"\n",
    "    try:\n",
    "        with open(USER_DATA_FILE, 'r') as f:\n",
    "            users = json.load(f)\n",
    "\n",
    "        while True:\n",
    "            username = input('Enter a username: ').strip()\n",
    "            if any(user['username'] == username for user in users):\n",
    "                print(\"This username already exists! Please choose a different one.\")\n",
    "            else:\n",
    "                break\n",
    "\n",
    "        password = input('Enter a password: ').strip()\n",
    "        hashed_password = bcrypt.hashpw(password.encode('utf-8'), bcrypt.gensalt())\n",
    "\n",
    "        users.append({\n",
    "            'username': username,\n",
    "            'password': hashed_password.decode('utf-8')\n",
    "        })\n",
    "\n",
    "        with open(USER_DATA_FILE, 'w') as f:\n",
    "            json.dump(users, f, indent=4)\n",
    "\n",
    "        print(\"User registered successfully!\")\n",
    "\n",
    "    except Exception as e:\n",
    "        print(f\"An error occurred: {e}\")\n",
    "\n",
    "# User Login\n",
    "def login():\n",
    "    \"\"\"\n",
    "    Open the users json file, the user will enter username and password. then it is verified \n",
    "    if the username and password matches the ones in the users json file\n",
    "    \"\"\"\n",
    "    try:\n",
    "        with open(USER_DATA_FILE, 'r') as f:\n",
    "            users = json.load(f)\n",
    "\n",
    "        username = input('Enter your username: ').strip()\n",
    "        password = input('Enter your password: ').strip()\n",
    "\n",
    "        for user in users:\n",
    "            if user['username'] == username:\n",
    "                if bcrypt.checkpw(password.encode('utf-8'), user['password'].encode('utf-8')):\n",
    "                    print(\"Login successful! Access granted to the task manager.\")\n",
    "                    return username\n",
    "                else:\n",
    "                    print(\"Invalid password. Access denied.\")\n",
    "                    return None\n",
    "\n",
    "        print(\"Username not found. Please register first.\")\n",
    "        return None\n",
    "\n",
    "    except Exception as e:\n",
    "        print(f\"An error occurred: {e}\")\n",
    "        return None\n",
    "\n",
    "# Add Task\n",
    "def add_task(username):\n",
    "    \"\"\" open the tasks json file. Enter task details. save it to the new_task. tasks are saved to the tasks json file\"\"\"\n",
    "    try:\n",
    "        with open(TASK_DATA_FILE, 'r') as f:\n",
    "            tasks = json.load(f)\n",
    "\n",
    "        task_description = input('Enter task description: ').strip()\n",
    "        task_id = len(tasks.get(username, [])) + 1\n",
    "        # task_id=random.randint()\n",
    "\n",
    "        new_task = {\n",
    "            'id': task_id,\n",
    "            'description': task_description,\n",
    "            'status': 'Pending'\n",
    "        }\n",
    "\n",
    "        if username not in tasks:\n",
    "            tasks[username] = []\n",
    "\n",
    "        tasks[username].append(new_task)\n",
    "\n",
    "        with open(TASK_DATA_FILE, 'w') as f:\n",
    "            json.dump(tasks, f, indent=4)\n",
    "\n",
    "        print(\"Task added successfully!\")\n",
    "\n",
    "    except Exception as e:\n",
    "        print(f\"An error occurred: {e}\")\n",
    "\n",
    "# View Tasks\n",
    "def view_tasks(username):\n",
    "    try:\n",
    "        with open(TASK_DATA_FILE, 'r') as f:\n",
    "            tasks = json.load(f)\n",
    "\n",
    "        user_tasks = tasks.get(username, [])\n",
    "        if not user_tasks:\n",
    "            print(\"No tasks found.\")\n",
    "            return\n",
    "\n",
    "        print(\"Your Tasks:\")\n",
    "        for task in user_tasks:\n",
    "            print(f\"ID: {task['id']}, Description: {task['description']}, Status: {task['status']}\")\n",
    "\n",
    "    except Exception as e:\n",
    "        print(f\"An error occurred: {e}\")\n",
    "\n",
    "# Mark Task as Completed\n",
    "def mark_task_completed(username):\n",
    "    try:\n",
    "        with open(TASK_DATA_FILE, 'r') as f:\n",
    "            tasks = json.load(f)\n",
    "\n",
    "        user_tasks = tasks.get(username, [])\n",
    "        if not user_tasks:\n",
    "            print(\"No tasks found.\")\n",
    "            return\n",
    "\n",
    "        task_id = int(input(\"Enter the task ID to mark as completed: \").strip())\n",
    "\n",
    "        for task in user_tasks:\n",
    "            if task['id'] == task_id:\n",
    "                task['status'] = 'Completed'\n",
    "                break\n",
    "        else:\n",
    "            print(\"Task ID not found.\")\n",
    "            return\n",
    "\n",
    "        tasks[username] = user_tasks\n",
    "\n",
    "        with open(TASK_DATA_FILE, 'w') as f:\n",
    "            json.dump(tasks, f, indent=4)\n",
    "\n",
    "        print(\"Task marked as completed!\")\n",
    "\n",
    "    except Exception as e:\n",
    "        print(f\"An error occurred: {e}\")\n",
    "\n",
    "# Delete Task\n",
    "def delete_task(username):\n",
    "    try:\n",
    "        with open(TASK_DATA_FILE, 'r') as f:\n",
    "            tasks = json.load(f)\n",
    "\n",
    "        user_tasks = tasks.get(username, [])\n",
    "        if not user_tasks:\n",
    "            print(\"No tasks found.\")\n",
    "            return\n",
    "\n",
    "        task_id = int(input(\"Enter the task ID to delete: \").strip())\n",
    "\n",
    "        tasks[username] = [task for task in user_tasks if task['id'] != task_id]\n",
    "      \n",
    "\n",
    "        with open(TASK_DATA_FILE, 'w') as f:\n",
    "            json.dump(tasks, f, indent=4)\n",
    "\n",
    "        print(\"Task deleted successfully!\")\n",
    "\n",
    "    except Exception as e:\n",
    "        print(f\"An error occurred: {e}\")\n",
    "\n",
    "# Task Manager Menu\n",
    "def task_manager(username):\n",
    "    while True:\n",
    "        print(\"\\nTask Manager Menu:\")\n",
    "        print(\"1. Add a Task\")\n",
    "        print(\"2. View Tasks\")\n",
    "        print(\"3. Mark Task as Completed\")\n",
    "        print(\"4. Delete Task\")\n",
    "        print(\"5. Logout\")\n",
    "\n",
    "        choice = input(\"Enter your choice: \").strip()\n",
    "\n",
    "        if choice == \"1\":\n",
    "            add_task(username)\n",
    "        elif choice == \"2\":\n",
    "            view_tasks(username)\n",
    "        elif choice == \"3\":\n",
    "            mark_task_completed(username)\n",
    "        elif choice == \"4\":\n",
    "            delete_task(username)\n",
    "        elif choice == \"5\":\n",
    "            print(\"Logging out...\")\n",
    "            break\n",
    "        else:\n",
    "            print(\"Invalid choice. Please try again.\")\n",
    "\n",
    "# Main Program\n",
    "def main():\n",
    "    initialize_files()\n",
    "\n",
    "    while True:\n",
    "        print(\"\\nWelcome to the Task Manager!\")\n",
    "        print(\"1. Register\")\n",
    "        print(\"2. Login\")\n",
    "        print(\"3. Exit\")\n",
    "\n",
    "        choice = input(\"Enter your choice: \").strip()\n",
    "\n",
    "        if choice == \"1\":\n",
    "            register()\n",
    "        elif choice == \"2\":\n",
    "            username = login()\n",
    "            if username:\n",
    "                task_manager(username)\n",
    "        elif choice == \"3\":\n",
    "            print(\"Exiting the program. Goodbye!\")\n",
    "            break\n",
    "        else:\n",
    "            print(\"Invalid choice. Please try again.\")\n",
    "\n",
    "if __name__ == \"__main__\":\n",
    "    main()\n"
   ]
  },
  {
   "cell_type": "code",
   "execution_count": null,
   "id": "3ada7b5b-2c74-41eb-ace1-9f407bb4fadd",
   "metadata": {},
   "outputs": [],
   "source": []
  }
 ],
 "metadata": {
  "kernelspec": {
   "display_name": "Python 3 (ipykernel)",
   "language": "python",
   "name": "python3"
  },
  "language_info": {
   "codemirror_mode": {
    "name": "ipython",
    "version": 3
   },
   "file_extension": ".py",
   "mimetype": "text/x-python",
   "name": "python",
   "nbconvert_exporter": "python",
   "pygments_lexer": "ipython3",
   "version": "3.11.7"
  }
 },
 "nbformat": 4,
 "nbformat_minor": 5
}
