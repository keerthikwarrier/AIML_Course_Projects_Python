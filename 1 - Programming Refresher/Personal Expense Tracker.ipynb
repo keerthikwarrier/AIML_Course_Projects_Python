{
 "cells": [
  {
   "cell_type": "code",
   "execution_count": 1,
   "id": "b1d9e219-568b-44ba-8d18-6eb4922ad0f6",
   "metadata": {},
   "outputs": [
    {
     "name": "stdout",
     "output_type": "stream",
     "text": [
      "Expenses loaded from expenses.csv\n",
      "\n"
     ]
    },
    {
     "name": "stdin",
     "output_type": "stream",
     "text": [
      "Enter your monthly budget:  3000\n"
     ]
    },
    {
     "name": "stdout",
     "output_type": "stream",
     "text": [
      "Monthly budget set to $3000.00\n",
      "\n",
      "\n",
      "Menu:\n",
      "1. Add expense\n",
      "2. View expenses\n",
      "3. Track budget\n",
      "4. Save expenses\n",
      "5. Exit\n"
     ]
    },
    {
     "name": "stdin",
     "output_type": "stream",
     "text": [
      "Enter your choice (1-5):  1\n",
      "Enter the date of the expense (YYYY-MM-DD):  2025-01-20\n",
      "Enter the category of the expense:  Grocery\n",
      "Enter the amount spent:  20\n",
      "Enter a brief description of the expense:  Vegetables and Fruits\n"
     ]
    },
    {
     "name": "stdout",
     "output_type": "stream",
     "text": [
      "Expense added successfully!\n",
      "\n",
      "\n",
      "Menu:\n",
      "1. Add expense\n",
      "2. View expenses\n",
      "3. Track budget\n",
      "4. Save expenses\n",
      "5. Exit\n"
     ]
    },
    {
     "name": "stdin",
     "output_type": "stream",
     "text": [
      "Enter your choice (1-5):  2\n"
     ]
    },
    {
     "name": "stdout",
     "output_type": "stream",
     "text": [
      "\n",
      "Stored Expenses:\n",
      "Date: 2025-01-20\n",
      "Category: Food\n",
      "Amount: $20.00\n",
      "Description: Veg and Mutton Biriyani\n",
      "------------------------------\n",
      "Date: 2025-01-20\n",
      "Category: Grocery\n",
      "Amount: $20.00\n",
      "Description: Vegetables and Fruits\n",
      "------------------------------\n",
      "\n",
      "Menu:\n",
      "1. Add expense\n",
      "2. View expenses\n",
      "3. Track budget\n",
      "4. Save expenses\n",
      "5. Exit\n"
     ]
    },
    {
     "name": "stdin",
     "output_type": "stream",
     "text": [
      "Enter your choice (1-5):  3\n"
     ]
    },
    {
     "name": "stdout",
     "output_type": "stream",
     "text": [
      "Total expenses so far: $40.00\n",
      "You have $2960.00 left for the month.\n",
      "\n",
      "\n",
      "Menu:\n",
      "1. Add expense\n",
      "2. View expenses\n",
      "3. Track budget\n",
      "4. Save expenses\n",
      "5. Exit\n"
     ]
    },
    {
     "name": "stdin",
     "output_type": "stream",
     "text": [
      "Enter your choice (1-5):  4\n"
     ]
    },
    {
     "name": "stdout",
     "output_type": "stream",
     "text": [
      "Expenses saved to expenses.csv\n",
      "\n",
      "\n",
      "Menu:\n",
      "1. Add expense\n",
      "2. View expenses\n",
      "3. Track budget\n",
      "4. Save expenses\n",
      "5. Exit\n"
     ]
    },
    {
     "name": "stdin",
     "output_type": "stream",
     "text": [
      "Enter your choice (1-5):  5\n"
     ]
    },
    {
     "name": "stdout",
     "output_type": "stream",
     "text": [
      "Expenses saved to expenses.csv\n",
      "\n",
      "Exiting program. Goodbye!\n"
     ]
    }
   ],
   "source": [
    "import csv\n",
    "\n",
    "def add_expense(expenses_list):\n",
    "    \"\"\"\n",
    "    Prompts the user to input expense details and stores them as a dictionary in a given list.\n",
    "    :param expenses_list: List to store expense dictionaries.\n",
    "    \"\"\"\n",
    "    try:\n",
    "        # Prompt user for expense details\n",
    "        date = input(\"Enter the date of the expense (YYYY-MM-DD): \").strip()\n",
    "        category = input(\"Enter the category of the expense: \").strip()\n",
    "        amount = float(input(\"Enter the amount spent: \").strip())\n",
    "        description = input(\"Enter a brief description of the expense: \").strip()\n",
    "\n",
    "        # Validate the date format\n",
    "        from datetime import datetime\n",
    "        try:\n",
    "            datetime.strptime(date, \"%Y-%m-%d\")\n",
    "        except ValueError:\n",
    "            print(\"Invalid date format. Please use YYYY-MM-DD.\")\n",
    "            return\n",
    "\n",
    "        # Create an expense dictionary\n",
    "        expense = {\n",
    "            'date': date,\n",
    "            'category': category,\n",
    "            'amount': amount,\n",
    "            'description': description\n",
    "        }\n",
    "\n",
    "        # Add the expense to the list\n",
    "        expenses_list.append(expense)\n",
    "        print(\"Expense added successfully!\\n\")\n",
    "\n",
    "    except ValueError:\n",
    "        print(\"Invalid input. Please enter the amount as a numeric value.\")\n",
    "        \n",
    "\n",
    "def view_expenses(expenses_list):\n",
    "    \"\"\"\n",
    "    Displays all stored expenses in a formatted manner.\n",
    "    :param expenses_list: List containing expense dictionaries.\n",
    "    \"\"\"\n",
    "    if not expenses_list:\n",
    "        print(\"No expenses to display.\")\n",
    "        return\n",
    "\n",
    "    print(\"\\nStored Expenses:\")\n",
    "    for expense in expenses_list:\n",
    "        # Validate expense data\n",
    "        if not all(key in expense for key in ('date', 'category', 'amount', 'description')):\n",
    "            print(\"Incomplete expense entry found and skipped.\")\n",
    "            continue\n",
    "\n",
    "        print(f\"Date: {expense['date']}\")\n",
    "        print(f\"Category: {expense['category']}\")\n",
    "        print(f\"Amount: ${expense['amount']:.2f}\")\n",
    "        print(f\"Description: {expense['description']}\")\n",
    "        print(\"-\" * 30)\n",
    "\n",
    "def set_monthly_budget():\n",
    "    \"\"\"\n",
    "    Prompts the user to set a monthly budget.\n",
    "    :return: The budget amount as a float.\n",
    "    \"\"\"\n",
    "    try:\n",
    "        budget = float(input(\"Enter your monthly budget: \").strip())\n",
    "        print(f\"Monthly budget set to ${budget:.2f}\\n\")\n",
    "        return budget\n",
    "    except ValueError:\n",
    "        print(\"Invalid input. Please enter the budget as a numeric value.\")\n",
    "        \n",
    "\n",
    "def calculate_total_expenses(expenses_list):\n",
    "    \"\"\"\n",
    "    Calculates the total expenses recorded so far.\n",
    "    :param expenses_list: List containing expense dictionaries.\n",
    "    :return: Total amount of expenses as a float.\n",
    "    \"\"\"\n",
    "    return sum(expense.get('amount', 0) for expense in expenses_list)\n",
    "\n",
    "def track_budget(budget, expenses_list):\n",
    "    \"\"\"\n",
    "    Compares the total expenses with the monthly budget and displays the status.\n",
    "    :param budget: The monthly budget amount.\n",
    "    :param expenses_list: List containing expense dictionaries.\n",
    "    \"\"\"\n",
    "    total_expenses = calculate_total_expenses(expenses_list)\n",
    "    print(f\"Total expenses so far: ${total_expenses:.2f}\")\n",
    "\n",
    "    if total_expenses > budget:\n",
    "        print(\"Warning: You have exceeded your budget!\")\n",
    "    else:\n",
    "        remaining = budget - total_expenses\n",
    "        print(f\"You have ${remaining:.2f} left for the month.\\n\")\n",
    "\n",
    "def save_expenses_to_file(expenses_list, filename=\"expenses.csv\"):\n",
    "    \"\"\"\n",
    "    Saves all expenses to a CSV file.\n",
    "    :param expenses_list: List containing expense dictionaries.\n",
    "    :param filename: Name of the file to save expenses to.\n",
    "    \"\"\"\n",
    "    try:\n",
    "        with open(filename, mode='w', newline='') as file:\n",
    "            writer = csv.DictWriter(file, fieldnames=['date', 'category', 'amount', 'description'])\n",
    "            writer.writeheader()\n",
    "            writer.writerows(expenses_list)\n",
    "        print(f\"Expenses saved to {filename}\\n\")\n",
    "    except Exception as e:\n",
    "        print(f\"Error saving expenses to file: {e}\")\n",
    "\n",
    "def load_expenses_from_file(filename=\"expenses.csv\"):\n",
    "    \"\"\"\n",
    "    Loads expenses from a CSV file.\n",
    "    :param filename: Name of the file to load expenses from.\n",
    "    :return: List of expenses loaded from the file.\n",
    "    \"\"\"\n",
    "    try:\n",
    "        with open(filename, mode='r') as file:\n",
    "            reader = csv.DictReader(file)\n",
    "            expenses = [\n",
    "                {\n",
    "                    'date': row['date'],\n",
    "                    'category': row['category'],\n",
    "                    'amount': float(row['amount']),\n",
    "                    'description': row['description']\n",
    "                } for row in reader\n",
    "            ]\n",
    "            print(f\"Expenses loaded from {filename}\\n\")\n",
    "            return expenses\n",
    "    except FileNotFoundError:\n",
    "        print(f\"No existing expenses file found. Starting fresh.\\n\")\n",
    "        return []\n",
    "    except Exception as e:\n",
    "        print(f\"Error loading expenses from file: {e}\")\n",
    "        return []\n",
    "\n",
    "def interactive_menu():\n",
    "    \"\"\"\n",
    "    Displays an interactive menu and handles user input.\n",
    "    \"\"\"\n",
    "    expenses = load_expenses_from_file()\n",
    "    budget = set_monthly_budget()\n",
    "\n",
    "    while True:\n",
    "        print(\"\\nMenu:\")\n",
    "        print(\"1. Add expense\")\n",
    "        print(\"2. View expenses\")\n",
    "        print(\"3. Track budget\")\n",
    "        print(\"4. Save expenses\")\n",
    "        print(\"5. Exit\")\n",
    "\n",
    "        choice = input(\"Enter your choice (1-5): \").strip()\n",
    "\n",
    "        if choice == '1':\n",
    "            add_expense(expenses)\n",
    "        elif choice == '2':\n",
    "            view_expenses(expenses)\n",
    "        elif choice == '3':\n",
    "            track_budget(budget, expenses)\n",
    "        elif choice == '4':\n",
    "            save_expenses_to_file(expenses)\n",
    "        elif choice == '5':\n",
    "            save_expenses_to_file(expenses)\n",
    "            print(\"Exiting program. Goodbye!\")\n",
    "            break\n",
    "        else:\n",
    "            print(\"Invalid choice. Please try again.\")\n",
    "\n",
    "# Example usage\n",
    "if __name__ == \"__main__\":\n",
    "    interactive_menu()\n"
   ]
  },
  {
   "cell_type": "code",
   "execution_count": null,
   "id": "29893668-9480-47ff-8d28-f07515009465",
   "metadata": {},
   "outputs": [],
   "source": []
  }
 ],
 "metadata": {
  "kernelspec": {
   "display_name": "Python 3 (ipykernel)",
   "language": "python",
   "name": "python3"
  },
  "language_info": {
   "codemirror_mode": {
    "name": "ipython",
    "version": 3
   },
   "file_extension": ".py",
   "mimetype": "text/x-python",
   "name": "python",
   "nbconvert_exporter": "python",
   "pygments_lexer": "ipython3",
   "version": "3.11.7"
  }
 },
 "nbformat": 4,
 "nbformat_minor": 5
}
