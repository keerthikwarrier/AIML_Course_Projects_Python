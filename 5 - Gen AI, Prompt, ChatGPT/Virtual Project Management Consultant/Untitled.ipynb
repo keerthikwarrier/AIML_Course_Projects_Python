{
 "cells": [
  {
   "cell_type": "code",
   "execution_count": null,
   "id": "a9815dc0-e777-4200-898f-a20f71e9c2fb",
   "metadata": {},
   "outputs": [],
   "source": []
  }
 ],
 "metadata": {
  "kernelspec": {
   "display_name": "",
   "name": ""
  },
  "language_info": {
   "name": ""
  }
 },
 "nbformat": 4,
 "nbformat_minor": 5
}
