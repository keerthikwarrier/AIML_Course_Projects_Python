{
 "cells": [
  {
   "cell_type": "markdown",
   "id": "4ebb8a5e-3e51-4339-b086-f1b540e336c8",
   "metadata": {},
   "source": [
    "# ChatGPT based Storytelling Project"
   ]
  },
  {
   "cell_type": "code",
   "execution_count": 2,
   "id": "f6adad43-754e-4e78-b904-8dc0c43b3e3d",
   "metadata": {},
   "outputs": [
    {
     "name": "stdout",
     "output_type": "stream",
     "text": [
      "Collecting fpdf\n",
      "  Downloading fpdf-1.7.2.tar.gz (39 kB)\n",
      "  Preparing metadata (setup.py): started\n",
      "  Preparing metadata (setup.py): finished with status 'done'\n",
      "Building wheels for collected packages: fpdf\n",
      "  Building wheel for fpdf (setup.py): started\n",
      "  Building wheel for fpdf (setup.py): finished with status 'done'\n",
      "  Created wheel for fpdf: filename=fpdf-1.7.2-py2.py3-none-any.whl size=40714 sha256=f2f0137c4f349c9c348a118419b463b057366868c48602488b1d8ac676d93c40\n",
      "  Stored in directory: c:\\users\\keert\\appdata\\local\\pip\\cache\\wheels\\65\\4f\\66\\bbda9866da446a72e206d6484cd97381cbc7859a7068541c36\n",
      "Successfully built fpdf\n",
      "Installing collected packages: fpdf\n",
      "Successfully installed fpdf-1.7.2\n"
     ]
    },
    {
     "name": "stderr",
     "output_type": "stream",
     "text": [
      "WARNING: Ignoring invalid distribution ~umpy (C:\\Users\\Keert\\anaconda3\\envs\\JupyterNotebook-IntWebAppEnv\\Lib\\site-packages)\n",
      "WARNING: Ignoring invalid distribution ~umpy (C:\\Users\\Keert\\anaconda3\\envs\\JupyterNotebook-IntWebAppEnv\\Lib\\site-packages)\n",
      "WARNING: Ignoring invalid distribution ~umpy (C:\\Users\\Keert\\anaconda3\\envs\\JupyterNotebook-IntWebAppEnv\\Lib\\site-packages)\n"
     ]
    }
   ],
   "source": [
    "!pip install fpdf"
   ]
  },
  {
   "cell_type": "code",
   "execution_count": 6,
   "id": "d7eb4dfd-f12d-4bfd-9bc1-0a5f347674d1",
   "metadata": {},
   "outputs": [
    {
     "data": {
      "text/plain": [
       "'ChatGPT_Storytelling_Project_Report.pdf'"
      ]
     },
     "execution_count": 6,
     "metadata": {},
     "output_type": "execute_result"
    }
   ],
   "source": [
    "from fpdf import FPDF\n",
    "\n",
    "# Create a PDF class\n",
    "class StoryPDF(FPDF):\n",
    "    def header(self):\n",
    "        self.set_font('Arial', 'B', 14)\n",
    "        self.cell(0, 10, 'ChatGPT-Based Storytelling Project', ln=True, align='C')\n",
    "        self.ln(5)\n",
    "\n",
    "    def section_title(self, title):\n",
    "        self.set_font('Arial', 'B', 12)\n",
    "        self.set_text_color(30, 30, 120)\n",
    "        self.cell(0, 10, title, ln=True)\n",
    "        self.set_text_color(0, 0, 0)\n",
    "\n",
    "    def section_body(self, text):\n",
    "        self.set_font('Arial', '', 11)\n",
    "        self.multi_cell(0, 8, text)\n",
    "        self.ln()\n",
    "\n",
    "# Replace problematic Unicode characters like en-dash (–) with hyphen (-)\n",
    "def clean_text(text):\n",
    "    return text.replace('–', '-')\n",
    "\n",
    "# Reinitialize PDF\n",
    "pdf = StoryPDF()\n",
    "pdf.add_page()\n",
    "\n",
    "# Add cleaned sections\n",
    "pdf.section_title(\"1. Story Theme\")\n",
    "pdf.section_body(clean_text(\"Genre Chosen: Adventure\\nTheme: An ancient map, a forgotten civilization, and a race against time to uncover a hidden truth.\"))\n",
    "\n",
    "pdf.section_title(\"2. Main Characters\")\n",
    "pdf.section_body(clean_text(\n",
    "    \"- Arin Solas (You - The Protagonist)\\n\"\n",
    "    \"  A sharp-minded explorer and amateur historian, Arin inherits a mysterious map from his vanished grandfather.\\n\\n\"\n",
    "    \"- Dr. Elira Voss (Ally - The Scholar)\\n\"\n",
    "    \"  A retired archaeologist with a deep knowledge of forgotten cultures, Elira is curious, logical, and skeptical of easy answers.\\n\\n\"\n",
    "    \"- Kael Dorian (Rival - The Treasure Hunter)\\n\"\n",
    "    \"  A charming, dangerous figure from Arin's grandfather's past. He knows more than he lets on-and he wants the map.\"\n",
    "))\n",
    "\n",
    "pdf.section_title(\"3. Story Beginning\")\n",
    "pdf.section_body(clean_text(\n",
    "    \"In the dusty attic of his childhood home, Arin discovers an ancient map and a cryptic message from his missing grandfather. \"\n",
    "    \"Strange coordinates lead to the Kalith Desert. With questions swirling and danger lurking, Arin calls Dr. Elira Voss-who urges him to meet her in Cairo.\"\n",
    "))\n",
    "\n",
    "pdf.section_title(\"4. Participant Input\")\n",
    "pdf.section_body(clean_text(\n",
    "    \"Action Taken: Arin chooses to call Dr. Elira Voss and join forces.\\nReasoning: He needs someone who understands ancient languages and lost civilizations.\"\n",
    "))\n",
    "\n",
    "pdf.section_title(\"5. AI-Generated Responses (Story Progression)\")\n",
    "pdf.section_body(clean_text(\n",
    "    \"Arin and Elira meet in Cairo. She recognizes the symbol on the map as pre-Carthaginian and warns Arin that the map may lead to something that was meant to remain hidden. \"\n",
    "    \"They prepare for a journey to the Kalith Dunes, but Kael Dorian may already be on their trail.\"\n",
    "))\n",
    "\n",
    "pdf.section_title(\"6. Decision-Making & Branching Paths\")\n",
    "pdf.section_body(\"Choices Presented:\\n\"\n",
    "                 \"1. Head straight to the Kalith Dunes\\n\"\n",
    "                 \"2. Visit the Egyptian Antiquities Archive\\n\"\n",
    "                 \"3. Track down Kael Dorian\")\n",
    "\n",
    "pdf.section_title(\"7. Iteration & Refinement\")\n",
    "pdf.section_body(clean_text(\n",
    "    \"As the story unfolds, user inputs guide the direction. Revisions are made to keep the tone consistent, and character motivations aligned.\"\n",
    "))\n",
    "\n",
    "pdf.section_title(\"8. Conclusion (To be developed)\")\n",
    "pdf.section_body(clean_text(\n",
    "    \"The adventure may end with:\\n\"\n",
    "    \"- The discovery of a hidden city and the truth behind the grandfather's disappearance\\n\"\n",
    "    \"- A betrayal by Kael\\n\"\n",
    "    \"- Or an open-ended finish that hints at a deeper conspiracy\"\n",
    "))\n",
    "\n",
    "pdf.section_title(\"9. Showcase & Share\")\n",
    "pdf.section_body(\"The story can be:\\n\"\n",
    "                 \"- Compiled into a short story document\\n\"\n",
    "                 \"- Shared as a narrated video\\n\"\n",
    "                 \"- Presented as a live or written interactive fiction experience\")\n",
    "\n",
    "# Save cleaned PDF\n",
    "output_path = \"ChatGPT_Storytelling_Project_Report.pdf\"\n",
    "pdf.output(output_path)\n",
    "\n",
    "output_path\n",
    "\n"
   ]
  },
  {
   "cell_type": "markdown",
   "id": "9f352bf8-fff9-4b5c-8a80-3dade4b0cae0",
   "metadata": {},
   "source": [
    "# Interactive Storytelling Console App – Python Code"
   ]
  },
  {
   "cell_type": "code",
   "execution_count": 7,
   "id": "c89745b0-6caf-4669-bdd7-a5e163860297",
   "metadata": {},
   "outputs": [
    {
     "name": "stdout",
     "output_type": "stream",
     "text": [
      "🔮 Welcome to the Interactive Storytelling Adventure!\n",
      "Choose your genre:\n",
      "1. Fantasy\n",
      "2. Science Fiction\n",
      "3. Mystery\n",
      "4. Adventure\n"
     ]
    },
    {
     "name": "stdin",
     "output_type": "stream",
     "text": [
      "Enter the number for your chosen genre:  Fantasy\n"
     ]
    },
    {
     "name": "stdout",
     "output_type": "stream",
     "text": [
      "\n",
      "You've chosen: Adventure\n",
      "\n",
      "Creating characters...\n",
      "Arin Solas (Protagonist): Explorer, Curious and brave\n",
      "Dr. Elira Voss (Ally): Archaeologist, Intelligent and logical\n",
      "Kael Dorian (Rival): Treasure hunter, Charming but untrustworthy\n",
      "\n",
      "🎬 Let the adventure begin!\n",
      "\n",
      "📜 STORY BEGINNING:\n",
      "As Arin Solas, you discover a hidden map left behind by your missing grandfather...\n",
      "You believe it's connected to an ancient secret lost to time.\n",
      "You have three options:\n",
      "1. Call Dr. Elira Voss for help.\n",
      "2. Go solo to the coordinates marked on the map.\n",
      "3. Track down Kael Dorian for answers.\n"
     ]
    },
    {
     "name": "stdin",
     "output_type": "stream",
     "text": [
      "What will you do? Enter 1, 2, or 3:  3\n"
     ]
    },
    {
     "name": "stdout",
     "output_type": "stream",
     "text": [
      "\n",
      "👉 You find Kael in a bar in Morocco. He smirks at the sight of the map and says, 'So the old man finally gave it to you, huh?'\n",
      "\n",
      "⏳ The story continues...\n",
      "You now have another choice:\n",
      "1. Head to the ancient ruins immediately.\n",
      "2. Visit the library to research the symbols.\n",
      "3. Confront Kael about what he knows.\n"
     ]
    },
    {
     "name": "stdin",
     "output_type": "stream",
     "text": [
      "Choose your path (1, 2, or 3):  2\n"
     ]
    },
    {
     "name": "stdout",
     "output_type": "stream",
     "text": [
      "\n",
      "👉 In the dusty library, you uncover a book that confirms the phrase on the map: 'Return what was never taken.'\n",
      "\n",
      "🏁 Thanks for playing! Your adventure can continue anytime...\n"
     ]
    }
   ],
   "source": [
    "import random\n",
    "\n",
    "def intro():\n",
    "    print(\"🔮 Welcome to the Interactive Storytelling Adventure!\")\n",
    "    print(\"Choose your genre:\")\n",
    "    print(\"1. Fantasy\\n2. Science Fiction\\n3. Mystery\\n4. Adventure\")\n",
    "    genre_choice = input(\"Enter the number for your chosen genre: \")\n",
    "\n",
    "    genres = {\n",
    "        \"1\": \"Fantasy\",\n",
    "        \"2\": \"Science Fiction\",\n",
    "        \"3\": \"Mystery\",\n",
    "        \"4\": \"Adventure\"\n",
    "    }\n",
    "\n",
    "    genre = genres.get(genre_choice, \"Adventure\")\n",
    "    print(f\"\\nYou've chosen: {genre}\")\n",
    "    return genre\n",
    "\n",
    "def generate_characters():\n",
    "    print(\"\\nCreating characters...\")\n",
    "    characters = {\n",
    "        \"protagonist\": {\n",
    "            \"name\": \"Arin Solas\",\n",
    "            \"role\": \"Explorer\",\n",
    "            \"trait\": \"Curious and brave\"\n",
    "        },\n",
    "        \"ally\": {\n",
    "            \"name\": \"Dr. Elira Voss\",\n",
    "            \"role\": \"Archaeologist\",\n",
    "            \"trait\": \"Intelligent and logical\"\n",
    "        },\n",
    "        \"rival\": {\n",
    "            \"name\": \"Kael Dorian\",\n",
    "            \"role\": \"Treasure hunter\",\n",
    "            \"trait\": \"Charming but untrustworthy\"\n",
    "        }\n",
    "    }\n",
    "\n",
    "    for role, details in characters.items():\n",
    "        print(f\"{details['name']} ({role.title()}): {details['role']}, {details['trait']}\")\n",
    "    return characters\n",
    "\n",
    "def start_story(genre, characters):\n",
    "    print(\"\\n📜 STORY BEGINNING:\")\n",
    "    print(f\"As {characters['protagonist']['name']}, you discover a hidden map left behind by your missing grandfather...\")\n",
    "    print(\"You believe it's connected to an ancient secret lost to time.\")\n",
    "    print(\"You have three options:\")\n",
    "\n",
    "    print(\"1. Call Dr. Elira Voss for help.\")\n",
    "    print(\"2. Go solo to the coordinates marked on the map.\")\n",
    "    print(\"3. Track down Kael Dorian for answers.\")\n",
    "\n",
    "    choice = input(\"What will you do? Enter 1, 2, or 3: \")\n",
    "\n",
    "    if choice == \"1\":\n",
    "        return \"You call Elira, who warns you that the symbol on the map belongs to a lost civilization erased from history. She agrees to meet you in Cairo.\"\n",
    "    elif choice == \"2\":\n",
    "        return \"You decide to go alone. As your plane lands near the Kalith Dunes, you feel eyes watching from the shadows.\"\n",
    "    elif choice == \"3\":\n",
    "        return \"You find Kael in a bar in Morocco. He smirks at the sight of the map and says, 'So the old man finally gave it to you, huh?'\"\n",
    "    else:\n",
    "        return \"Indecision grips you. The moment passes, and the opportunity may be lost...\"\n",
    "\n",
    "def branching_path():\n",
    "    print(\"\\n⏳ The story continues...\")\n",
    "    print(\"You now have another choice:\")\n",
    "    print(\"1. Head to the ancient ruins immediately.\")\n",
    "    print(\"2. Visit the library to research the symbols.\")\n",
    "    print(\"3. Confront Kael about what he knows.\")\n",
    "\n",
    "    choice = input(\"Choose your path (1, 2, or 3): \")\n",
    "\n",
    "    outcomes = {\n",
    "        \"1\": \"At the ruins, you trigger a mechanism that opens a stone door. The air is filled with ancient whispers.\",\n",
    "        \"2\": \"In the dusty library, you uncover a book that confirms the phrase on the map: 'Return what was never taken.'\",\n",
    "        \"3\": \"Kael finally confesses: your grandfather was guarding something powerful—and now it's your burden.\"\n",
    "    }\n",
    "\n",
    "    return outcomes.get(choice, \"The trail grows cold, and danger looms near...\")\n",
    "\n",
    "def main():\n",
    "    genre = intro()\n",
    "    characters = generate_characters()\n",
    "    print(\"\\n🎬 Let the adventure begin!\")\n",
    "    plot_1 = start_story(genre, characters)\n",
    "    print(f\"\\n👉 {plot_1}\")\n",
    "    plot_2 = branching_path()\n",
    "    print(f\"\\n👉 {plot_2}\")\n",
    "\n",
    "    print(\"\\n🏁 Thanks for playing! Your adventure can continue anytime...\")\n",
    "\n",
    "if __name__ == \"__main__\":\n",
    "    main()\n"
   ]
  },
  {
   "cell_type": "code",
   "execution_count": null,
   "id": "702b568c-f35d-488d-b376-25200b2e7185",
   "metadata": {},
   "outputs": [],
   "source": []
  }
 ],
 "metadata": {
  "kernelspec": {
   "display_name": "Python 3 (ipykernel)",
   "language": "python",
   "name": "python3"
  },
  "language_info": {
   "codemirror_mode": {
    "name": "ipython",
    "version": 3
   },
   "file_extension": ".py",
   "mimetype": "text/x-python",
   "name": "python",
   "nbconvert_exporter": "python",
   "pygments_lexer": "ipython3",
   "version": "3.11.11"
  }
 },
 "nbformat": 4,
 "nbformat_minor": 5
}
